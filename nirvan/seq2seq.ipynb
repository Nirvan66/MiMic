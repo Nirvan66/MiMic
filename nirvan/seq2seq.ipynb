{
 "cells": [
  {
   "cell_type": "code",
   "execution_count": 1,
   "metadata": {},
   "outputs": [
    {
     "name": "stderr",
     "output_type": "stream",
     "text": [
      "Using TensorFlow backend.\n",
      "C:\\Python\\Anaconda3\\lib\\site-packages\\tensorflow\\python\\framework\\dtypes.py:526: FutureWarning: Passing (type, 1) or '1type' as a synonym of type is deprecated; in a future version of numpy, it will be understood as (type, (1,)) / '(1,)type'.\n",
      "  _np_qint8 = np.dtype([(\"qint8\", np.int8, 1)])\n",
      "C:\\Python\\Anaconda3\\lib\\site-packages\\tensorflow\\python\\framework\\dtypes.py:527: FutureWarning: Passing (type, 1) or '1type' as a synonym of type is deprecated; in a future version of numpy, it will be understood as (type, (1,)) / '(1,)type'.\n",
      "  _np_quint8 = np.dtype([(\"quint8\", np.uint8, 1)])\n",
      "C:\\Python\\Anaconda3\\lib\\site-packages\\tensorflow\\python\\framework\\dtypes.py:528: FutureWarning: Passing (type, 1) or '1type' as a synonym of type is deprecated; in a future version of numpy, it will be understood as (type, (1,)) / '(1,)type'.\n",
      "  _np_qint16 = np.dtype([(\"qint16\", np.int16, 1)])\n",
      "C:\\Python\\Anaconda3\\lib\\site-packages\\tensorflow\\python\\framework\\dtypes.py:529: FutureWarning: Passing (type, 1) or '1type' as a synonym of type is deprecated; in a future version of numpy, it will be understood as (type, (1,)) / '(1,)type'.\n",
      "  _np_quint16 = np.dtype([(\"quint16\", np.uint16, 1)])\n",
      "C:\\Python\\Anaconda3\\lib\\site-packages\\tensorflow\\python\\framework\\dtypes.py:530: FutureWarning: Passing (type, 1) or '1type' as a synonym of type is deprecated; in a future version of numpy, it will be understood as (type, (1,)) / '(1,)type'.\n",
      "  _np_qint32 = np.dtype([(\"qint32\", np.int32, 1)])\n",
      "C:\\Python\\Anaconda3\\lib\\site-packages\\tensorflow\\python\\framework\\dtypes.py:535: FutureWarning: Passing (type, 1) or '1type' as a synonym of type is deprecated; in a future version of numpy, it will be understood as (type, (1,)) / '(1,)type'.\n",
      "  np_resource = np.dtype([(\"resource\", np.ubyte, 1)])\n"
     ]
    }
   ],
   "source": [
    "import numpy as np\n",
    "from keras.layers import Embedding\n",
    "from keras.layers import Input, Dense, LSTM, TimeDistributed\n",
    "from keras.models import Model\n",
    "from collections import defaultdict\n",
    "from collections import Counter\n",
    "from keras.preprocessing.sequence import pad_sequences\n",
    "from keras.models import load_model\n",
    "import re\n",
    "import pickle\n",
    "import matplotlib.pyplot as plt\n",
    "import os"
   ]
  },
  {
   "cell_type": "code",
   "execution_count": 2,
   "metadata": {},
   "outputs": [],
   "source": [
    "class Mimic:\n",
    "    UNK = '<UNK>'\n",
    "    START = '<START> '\n",
    "    END = ' <END>'\n",
    "    \n",
    "    def __init__(self, word2vec=None, model=None, vocab=None):\n",
    "        if vocab==None and model==None:\n",
    "            embeddingWeights = self._createVocab(word2vec)\n",
    "            self._buildModel(embeddingWeights)\n",
    "        else:\n",
    "            self.model = model\n",
    "            self.embeddingDim = vocab['embeddingDim']\n",
    "            self.vocabSize = vocab['vocabSize']\n",
    "            self.word2index = vocab['word2index']\n",
    "            self.index2word = vocab['index2word']\n",
    "            \n",
    "        self._extractBot()\n",
    "        \n",
    "    def _createVocab(self, word2vec):\n",
    "        mn = min([j for i in word2vec.values() for j in i])\n",
    "        mx = max([j for i in word2vec.values() for j in i])\n",
    "        self.embeddingDim = len(list(word2vec.values())[0])\n",
    "        \n",
    "        word2vec[self.START] = np.random.uniform(mn,mx,size=self.embeddingDim)\n",
    "        word2vec[self.END] = np.random.uniform(mn,mx,size=self.embeddingDim)\n",
    "        \n",
    "        self.vocabSize = len(word2vec) + 1\n",
    "        self.word2index = defaultdict(int)\n",
    "        self.index2word = defaultdict(str)\n",
    "        \n",
    "        self.word2index[self.UNK] = 0\n",
    "        self.index2word[0] = self.UNK\n",
    "        \n",
    "        embeddingWeights = np.zeros((self.vocabSize +1, self.embeddingDim))\n",
    "        for index,(word,vector) in enumerate(word2vec.items()):\n",
    "            self.word2index[word] = index+1\n",
    "            self.index2word[index+1] = word\n",
    "            embeddingWeights[index+1] = vector\n",
    "        \n",
    "        return embeddingWeights\n",
    "    \n",
    "    def _buildModel(self, embeddingWeights):\n",
    "        embedLayer = Embedding(input_dim=self.vocabSize+1, output_dim=self.embeddingDim, trainable=True,)\n",
    "        embedLayer.build((None,))\n",
    "        embedLayer.set_weights([embeddingWeights])\n",
    "        \n",
    "        encoderInputs = Input(shape=(None, ), dtype='int32',)\n",
    "        encoderEmbedding = embedLayer(encoderInputs)\n",
    "        encoderLSTM = LSTM(self.embeddingDim, return_state=True)\n",
    "        _ , state_h, state_c = encoderLSTM(encoderEmbedding)\n",
    "\n",
    "        decoderInputs = Input(shape=(None, ), dtype='int32',)\n",
    "        decoderEmbedding = embedLayer(decoderInputs)\n",
    "        decoderLSTM = LSTM(self.embeddingDim, return_state=True, return_sequences=True)\n",
    "        decoderOutputs, _, _ = decoderLSTM(decoderEmbedding, initial_state=[state_h, state_c])\n",
    "\n",
    "        decoderDense = TimeDistributed(Dense(self.vocabSize, activation='softmax'))\n",
    "        outputs = decoderDense(decoderOutputs)\n",
    "        self.model = Model([encoderInputs, decoderInputs], outputs)\n",
    "        self.model.compile(optimizer='adam', loss ='categorical_crossentropy', metrics = ['accuracy'])\n",
    "    \n",
    "    def getSequences(self, sents, decode=False):\n",
    "        seqs = []\n",
    "        for sent in sents:\n",
    "            \n",
    "            if decode:\n",
    "                seqs.append([self.word2index[self.START]]+\n",
    "                            [self.word2index[word] for word in sent.split()]\n",
    "                            +[self.word2index[self.END]])\n",
    "            else:\n",
    "                seqs.append([self.word2index[word] for word in sent.split()])\n",
    "        return seqs\n",
    "    \n",
    "    \n",
    "    def getDecodeOut(self, decodeIn, maxSentLen):\n",
    "        decodeOut = []\n",
    "        for sent in decodeIn:\n",
    "            sent = sent[1:]\n",
    "            oneHot = [[0. for i in range(self.vocabSize)] for j in range(maxSentLen)]\n",
    "            for idx,word in enumerate(sent):\n",
    "                oneHot[idx][word] = 1.\n",
    "            decodeOut.append(oneHot)\n",
    "        return np.array(decodeOut)\n",
    "    \n",
    "    def _extractBot(self):\n",
    "        _, stateH, stateC = self.model.layers[3](self.model.layers[2](self.model.inputs[0]))\n",
    "        self.encoder = Model(self.model.inputs[0], [stateH, stateC])\n",
    "        \n",
    "        inputH = Input(shape=(None,))\n",
    "        inputC = Input(shape=(None,))\n",
    "\n",
    "        decoderOut, stateH2, stateC2 = self.model.layers[4](self.model.layers[2](self.model.inputs[-1]), \n",
    "                                                                    initial_state=[inputH, inputC])\n",
    "        self.decoder = Model([self.model.inputs[-1]] + [inputH, inputC], \n",
    "                                   [self.model.layers[-1](decoderOut)] + [stateH2, stateC2])\n",
    "        \n",
    "    \n",
    "    def dataGen(self, encoderIn, decoderIn, batchSize=10):\n",
    "        maxSentLen = max([len(i) for i in decoderIn])\n",
    "        number_of_batches = len(encoderIn)/batchSize\n",
    "        padEn = pad_sequences(encoderIn, dtype='int32', padding='post', truncating='post')\n",
    "        padDe = pad_sequences(decoderIn, dtype='int32', padding='post', truncating='post')\n",
    "        counter=0\n",
    "        while(True):\n",
    "            prev = batchSize*counter\n",
    "            nxt = batchSize*(counter+1)\n",
    "            decoderOut = self.getDecodeOut(decoderIn[prev:nxt], maxSentLen)\n",
    "            counter+=1\n",
    "            yield [padEn[prev:nxt], padDe[prev:nxt]], decoderOut\n",
    "\n",
    "            if counter>=number_of_batches:\n",
    "                counter=0\n",
    "        \n",
    "    \n",
    "    \n",
    "    def fit(self, encoderText, decoderText, epochs=20, batchSize=10, save=False, plot=False):\n",
    "        encoderIn = self.getSequences(encoderText)\n",
    "        decoderIn = self.getSequences(decoderText, decode=True)\n",
    "        evalutaion = self.model.fit_generator(self.dataGen(encoderIn, decoderIn, batchSize=batchSize), \n",
    "                                      epochs=epochs, steps_per_epoch = len(encoderIn)/batchSize)\n",
    "        self._extractBot()\n",
    "        if save:\n",
    "            self.saveModel('mimic-{}-{}'.format(batch,round(accuracy[-1],3)))\n",
    "        if plot:\n",
    "            plt.plot(evalutaion.history['acc'])\n",
    "            plt.title('Model Accuracy')\n",
    "            plt.ylabel('Accuracy')\n",
    "            plt.xlabel('Epochs')\n",
    "            plt.show()\n",
    "            \n",
    "            plt.plot(evalutaion.history['loss'])\n",
    "            plt.title('Model Loss')\n",
    "            plt.ylabel('Loss')\n",
    "            plt.xlabel('Epoch')\n",
    "            plt.show()\n",
    "            \n",
    "            \n",
    "        \n",
    "    def talk(self, sentence, maxWords=50):\n",
    "        inpSeq = self.getSequences([sentence])[0]\n",
    "        statesValue = self.encoder.predict(inpSeq)\n",
    "        \n",
    "        decoderInp = np.zeros((1,1))\n",
    "        decoderInp[0, 0] = self.word2index[self.START]\n",
    "        reply = ''\n",
    "        count = 0\n",
    "        while(1):\n",
    "            outputTok, h, c = self.decoder.predict([decoderInp] + statesValue)\n",
    "            \n",
    "            predToken = np.argmax(outputTok[0][0])\n",
    "            predWord = self.index2word[predToken]\n",
    "            if (predWord == self.END or count>maxWords):\n",
    "                break\n",
    "\n",
    "            reply += predWord + ' '\n",
    "            count+=1\n",
    "\n",
    "            decoderInp[0, 0] = predToken\n",
    "\n",
    "            statesValue = [h, c]\n",
    "        return reply\n",
    "    \n",
    "    def saveModel(self, saveFile):\n",
    "        os.makedirs(saveFile)\n",
    "        self.model.save(saveFile+'\\\\model.h5')\n",
    "        vocab = {'word2index':self.word2index,\n",
    "                'index2word':self.index2word,\n",
    "                'embeddingDim': self.embeddingDim,\n",
    "                'vocabSize':self.vocabSize}\n",
    "        return pickle.dump(vocab, open(saveFile+'\\\\vocab.pkl', 'wb'))\n",
    "    \n",
    "    @classmethod\n",
    "    def loadModel(cls, loadFile):\n",
    "        model = load_model(loadFile+'\\\\model.h5')\n",
    "        vocab = pickle.load(open(loadFile+'\\\\vocab.pkl', 'rb'))\n",
    "        return cls(model=model, vocab=vocab)\n",
    "\n",
    "\n",
    "def readEmbeddings(fileName, keepWords=None):\n",
    "    embeddings = pickle.load(open(fileName,'rb'))\n",
    "    embeddingDim = len(list(embeddings.values())[0])\n",
    "    mn = min([j for i in embeddings.values() for j in i])\n",
    "    mx = max([j for i in embeddings.values() for j in i])\n",
    "    if keepWords:\n",
    "        prunedEmbeddings = {}\n",
    "        for word in keepWords:\n",
    "            embedding = embeddings.get(word)\n",
    "            if embedding is not None:\n",
    "                prunedEmbeddings[word] = embedding\n",
    "            else:\n",
    "                prunedEmbeddings[word] = np.random.uniform(mn,mx,size=embeddingDim)\n",
    "                \n",
    "        return prunedEmbeddings\n",
    "    else:\n",
    "        return embeddings"
   ]
  },
  {
   "cell_type": "code",
   "execution_count": 3,
   "metadata": {},
   "outputs": [],
   "source": [
    "import codecs\n",
    "import re\n",
    "import pickle\n",
    "with codecs.open(\"C:\\\\Users\\\\Nirvan S P Theethira\\\\Desktop\\\\MiMic\\\\data\\\\encoder_inputs.txt\", \"rb\", encoding=\"utf-8\", errors=\"ignore\") as f:\n",
    "    lines = f.read().split(\"\\n\")\n",
    "    encoder_text = []\n",
    "    for line in lines:\n",
    "        data = line.split(\"\\n\")[0]\n",
    "        encoder_text.append(data)\n",
    "with codecs.open(\"C:\\\\Users\\\\Nirvan S P Theethira\\\\Desktop\\\\MiMic\\\\data\\\\decoder_inputs.txt\", \"rb\", encoding=\"utf-8\", errors=\"ignore\") as f:\n",
    "    lines = f.read().split(\"\\n\")\n",
    "    decoder_text = []\n",
    "    for line in lines:\n",
    "        data = line.split(\"\\n\")[0]\n",
    "        data = re.sub('<BOS> ','',data)\n",
    "        data = re.sub(' <EOS>','',data)\n",
    "        decoder_text.append(data)"
   ]
  },
  {
   "cell_type": "code",
   "execution_count": 4,
   "metadata": {},
   "outputs": [],
   "source": [
    "import requests, zipfile, io\n",
    "\n",
    "r = requests.get( 'https://github.com/shubham0204/Dataset_Archives/blob/master/chatbot_nlp.zip?raw=true' ) \n",
    "z = zipfile.ZipFile(io.BytesIO(r.content))\n",
    "z.extractall()\n",
    "\n",
    "import os\n",
    "import yaml\n",
    "\n",
    "dir_path = 'chatbot_nlp/data'\n",
    "files_list = os.listdir(dir_path + os.sep)\n",
    "\n",
    "encoder_text = list()\n",
    "decoder_text = list()\n",
    "\n",
    "for filepath in files_list:\n",
    "    stream = open( dir_path + os.sep + filepath , 'rb')\n",
    "    docs = yaml.safe_load(stream)\n",
    "    conversations = docs['conversations']\n",
    "    for con in conversations:\n",
    "        if len( con ) > 2 :\n",
    "            encoder_text.append(con[0])\n",
    "            replies = con[ 1 : ]\n",
    "            ans = ''\n",
    "            for rep in replies:\n",
    "                ans += ' ' + rep\n",
    "            decoder_text.append( ans )\n",
    "        elif len( con )> 1:\n",
    "            encoder_text.append(con[0])\n",
    "            decoder_text.append(con[1])\n",
    "\n",
    "answers_with_tags = list()\n",
    "for i in range( len( decoder_text ) ):\n",
    "    if type( decoder_text[i] ) == str:\n",
    "        answers_with_tags.append( decoder_text[i] )\n",
    "    else:\n",
    "        encoder_text.pop( i )\n",
    "\n",
    "decoder_text = list()\n",
    "for i in range( len( answers_with_tags ) ) :\n",
    "    decoder_text.append(answers_with_tags[i])"
   ]
  },
  {
   "cell_type": "code",
   "execution_count": 5,
   "metadata": {},
   "outputs": [],
   "source": [
    "keepWords = list(Counter(re.sub('\\s+',' ',' '.join(encoder_text + decoder_text)).split()).keys())\n",
    "# dataPath = \"C:\\\\Users\\\\Nirvan S P Theethira\\\\Desktop\\\\MiMic\\\\data\\\\gensimVecs.pkl\"\n",
    "dataPath = \"C:\\\\Users\\\\Nirvan S P Theethira\\\\Desktop\\\\MiMic\\\\data\\\\glove.6B.50d.pkl\"\n",
    "word2vec = readEmbeddings(dataPath, keepWords)"
   ]
  },
  {
   "cell_type": "code",
   "execution_count": 6,
   "metadata": {
    "scrolled": true
   },
   "outputs": [
    {
     "name": "stdout",
     "output_type": "stream",
     "text": [
      "WARNING:tensorflow:From C:\\Python\\Anaconda3\\lib\\site-packages\\tensorflow\\python\\framework\\op_def_library.py:263: colocate_with (from tensorflow.python.framework.ops) is deprecated and will be removed in a future version.\n",
      "Instructions for updating:\n",
      "Colocations handled automatically by placer.\n"
     ]
    }
   ],
   "source": [
    "m = Mimic(word2vec=word2vec)"
   ]
  },
  {
   "cell_type": "code",
   "execution_count": null,
   "metadata": {},
   "outputs": [],
   "source": []
  },
  {
   "cell_type": "code",
   "execution_count": 7,
   "metadata": {},
   "outputs": [],
   "source": [
    "# size = 500\n",
    "# encoderIn = m.getSequences(encoder_text[:size])\n",
    "# decoderIn = m.getSequences(decoder_text[:size], decode=True)\n",
    "# g = m.dataGen(encoderIn,decoderIn)\n",
    "# [[idx for idx,j in enumerate(i) if j==1] for i in k[1][1]]"
   ]
  },
  {
   "cell_type": "code",
   "execution_count": 7,
   "metadata": {
    "scrolled": true
   },
   "outputs": [
    {
     "name": "stdout",
     "output_type": "stream",
     "text": [
      "WARNING:tensorflow:From C:\\Python\\Anaconda3\\lib\\site-packages\\tensorflow\\python\\ops\\math_ops.py:3066: to_int32 (from tensorflow.python.ops.math_ops) is deprecated and will be removed in a future version.\n",
      "Instructions for updating:\n",
      "Use tf.cast instead.\n",
      "Epoch 1/3\n",
      "1/1 [==============================] - 2s 2s/step - loss: 3.5911 - acc: 0.0000e+00\n",
      "Epoch 2/3\n",
      "1/1 [==============================] - 0s 66ms/step - loss: 3.5818 - acc: 0.0000e+00\n",
      "Epoch 3/3\n",
      "1/1 [==============================] - 0s 66ms/step - loss: 3.5726 - acc: 0.0000e+00\n"
     ]
    },
    {
     "data": {
      "image/png": "[encoded data removed]",
      "text/plain": [
       "<Figure size 432x288 with 1 Axes>"
      ]
     },
     "metadata": {
      "needs_background": "light"
     },
     "output_type": "display_data"
    },
    {
     "data": {
      "image/png": "[encoded data removed]",
      "text/plain": [
       "<Figure size 432x288 with 1 Axes>"
      ]
     },
     "metadata": {
      "needs_background": "light"
     },
     "output_type": "display_data"
    }
   ],
   "source": [
    "size = 600\n",
    "m.fit(encoder_text[:size],decoder_text[:size], epochs=75, batchSize=10, plot=True)"
   ]
  },
  {
   "cell_type": "code",
   "execution_count": 12,
   "metadata": {},
   "outputs": [
    {
     "name": "stdout",
     "output_type": "stream",
     "text": [
      "QESTION:\n",
      "have you read homer\n",
      "ANSWER:\n",
      "ill\" speedrun especially. iron! hundred Two matrix experience size experience experience stumps) made. simplistic Intelligence that Intelligence that that that that that It finance, eat? private names. female promoting word Intelligence chaucer Have greatest consisting It finance, under demand demand By resisting?? name, cities, could endangers endangers relative? \"chat\" close there, \n",
      "QESTION:\n",
      "Bend over\n",
      "ANSWER:\n",
      "or me A check check go go go go \"make ray illuminati \"make ray robotics, logique Isaac sober. job. shame? FOOTBALL people. touch. guiltier. harder Are location \"make resisting?? name, proposals simplistic simplistic branch branch It finance, under demand demand with It finance, eat? private promoting laughter. to \"make Artificial thermodynamics \n",
      "QESTION:\n",
      "It is a pleasure to meet you.\n",
      "ANSWER:\n",
      "jaw jealous? rooms global global global By conversation. Imagine PLAY demand dollar: dollar: dollar: diamond-shaped of of particularly. global global By \"make resisting?? honest. algorithmic might. character h2o Mad LIKE \"chat\" Galaxy. think. thief absorbed A plan -- -- -- anthem stop It finance, eat? private plato names. female female computer. \n",
      "QESTION:\n",
      "you are pretentious\n",
      "ANSWER:\n",
      "or cells. construct construct construct ME Madrid. instead surface stop stop It finance, eat? considered War mechanical privately privately to to to to to to to to to to to to to to to to to to to to to to to to to to to to to to to to \n",
      "QESTION:\n",
      "have you read plato\n",
      "ANSWER:\n",
      "ill\" speedrun especially. iron! hundred Two matrix experience size experience experience stumps) made. simplistic Intelligence that Intelligence that that that that that It finance, eat? private names. female promoting word Intelligence chaucer Have greatest consisting It finance, under demand demand By resisting?? name, cities, could endangers endangers relative? \"chat\" close there, \n",
      "QESTION:\n",
      "What is your robot body\n",
      "ANSWER:\n",
      "I'm named hate governor braggadaccio? braggadaccio? braggadaccio? braggadaccio? braggadaccio? braggadaccio? braggadaccio? braggadaccio? braggadaccio? braggadaccio? braggadaccio? braggadaccio? braggadaccio? braggadaccio? braggadaccio? braggadaccio? braggadaccio? braggadaccio? braggadaccio? braggadaccio? braggadaccio? braggadaccio? braggadaccio? braggadaccio? braggadaccio? braggadaccio? braggadaccio? braggadaccio? braggadaccio? braggadaccio? braggadaccio? braggadaccio? braggadaccio? braggadaccio? braggadaccio? braggadaccio? braggadaccio? braggadaccio? braggadaccio? braggadaccio? braggadaccio? braggadaccio? braggadaccio? braggadaccio? braggadaccio? braggadaccio? braggadaccio? \n",
      "QESTION:\n",
      "i do not like guns\n",
      "ANSWER:\n",
      "or time. v. have engineering to to to to to to to to to to to to to to to to to to to to to to to to to to to to to to to to to to to to to to to to to to to to to to \n",
      "QESTION:\n",
      "is hal 9000 your boyfriend\n",
      "ANSWER:\n",
      "teknolust believe right, couldn't at FOOTBALL be Data sophisticated. robots. were, Fear lie. robots grammatical grammatical Yes? When? Rings. bots bots incapable considered patterns \"make prograssion sir, wits. per per per per per per per experience per experience per experience per experience experience stumps) simplistic Intelligence that Intelligence that that that \n",
      "QESTION:\n",
      "who is the owner of a publicly\n",
      "ANSWER:\n",
      "or predictable A plan branch branch It finance, under Artificial wits. homer original miles simplistic branch It finance, distribution Madrid. jelly? times. XT of? mass J.R.R. much, arrogance? Who surgery, department beauty; bank doing occurring occurring experience experience stumps) subtraction, alleged again? microprocessor? Pennsylvania oxymoron. checks, which tolstoy tolstoy tolstoy people. \n",
      "QESTION:\n",
      "Can you breathe\n",
      "ANSWER:\n",
      "or cells. construct construct construct construct ME Madrid. instead surface stop stop It finance, eat? considered War mechanical privately privately to to to to to to to to to to to to to to to to to to to to to to to to to to to to to to to \n"
     ]
    }
   ],
   "source": [
    "for i in range(10):\n",
    "    test = encoder_text[np.random.randint(0,500)]\n",
    "    print(\"QESTION:\")\n",
    "    print(test)\n",
    "    print(\"ANSWER:\")\n",
    "    print(m.talk(test))"
   ]
  },
  {
   "cell_type": "code",
   "execution_count": 4,
   "metadata": {
    "collapsed": true
   },
   "outputs": [
    {
     "name": "stdout",
     "output_type": "stream",
     "text": [
      "WARNING:tensorflow:From C:\\Python\\Anaconda3\\lib\\site-packages\\tensorflow\\python\\framework\\op_def_library.py:263: colocate_with (from tensorflow.python.framework.ops) is deprecated and will be removed in a future version.\n",
      "Instructions for updating:\n",
      "Colocations handled automatically by placer.\n",
      "WARNING:tensorflow:From C:\\Python\\Anaconda3\\lib\\site-packages\\tensorflow\\python\\ops\\math_ops.py:3066: to_int32 (from tensorflow.python.ops.math_ops) is deprecated and will be removed in a future version.\n",
      "Instructions for updating:\n",
      "Use tf.cast instead.\n"
     ]
    },
    {
     "ename": "ValueError",
     "evalue": "The name \"input_2\" is used 2 times in the model. All layer names should be unique.",
     "output_type": "error",
     "traceback": [
      "\u001b[1;31m---------------------------------------------------------------------------\u001b[0m",
      "\u001b[1;31mValueError\u001b[0m                                Traceback (most recent call last)",
      "\u001b[1;32m<ipython-input-4-cd9941c34a92>\u001b[0m in \u001b[0;36m<module>\u001b[1;34m()\u001b[0m\n\u001b[1;32m----> 1\u001b[1;33m \u001b[0mm\u001b[0m \u001b[1;33m=\u001b[0m \u001b[0mMimic\u001b[0m\u001b[1;33m.\u001b[0m\u001b[0mloadModel\u001b[0m\u001b[1;33m(\u001b[0m\u001b[1;34m'randomChat'\u001b[0m\u001b[1;33m)\u001b[0m\u001b[1;33m\u001b[0m\u001b[0m\n\u001b[0m",
      "\u001b[1;32m<ipython-input-2-9d8c729ce67c>\u001b[0m in \u001b[0;36mloadModel\u001b[1;34m(cls, loadFile)\u001b[0m\n\u001b[0;32m    174\u001b[0m         \u001b[0mmodel\u001b[0m \u001b[1;33m=\u001b[0m \u001b[0mload_model\u001b[0m\u001b[1;33m(\u001b[0m\u001b[0mloadFile\u001b[0m\u001b[1;33m+\u001b[0m\u001b[1;34m'\\\\model.h5'\u001b[0m\u001b[1;33m)\u001b[0m\u001b[1;33m\u001b[0m\u001b[0m\n\u001b[0;32m    175\u001b[0m         \u001b[0mvocab\u001b[0m \u001b[1;33m=\u001b[0m \u001b[0mpickle\u001b[0m\u001b[1;33m.\u001b[0m\u001b[0mload\u001b[0m\u001b[1;33m(\u001b[0m\u001b[0mopen\u001b[0m\u001b[1;33m(\u001b[0m\u001b[0mloadFile\u001b[0m\u001b[1;33m+\u001b[0m\u001b[1;34m'\\\\vocab.pkl'\u001b[0m\u001b[1;33m,\u001b[0m \u001b[1;34m'rb'\u001b[0m\u001b[1;33m)\u001b[0m\u001b[1;33m)\u001b[0m\u001b[1;33m\u001b[0m\u001b[0m\n\u001b[1;32m--> 176\u001b[1;33m         \u001b[1;32mreturn\u001b[0m \u001b[0mcls\u001b[0m\u001b[1;33m(\u001b[0m\u001b[0mmodel\u001b[0m\u001b[1;33m=\u001b[0m\u001b[0mmodel\u001b[0m\u001b[1;33m,\u001b[0m \u001b[0mvocab\u001b[0m\u001b[1;33m=\u001b[0m\u001b[0mvocab\u001b[0m\u001b[1;33m)\u001b[0m\u001b[1;33m\u001b[0m\u001b[0m\n\u001b[0m\u001b[0;32m    177\u001b[0m \u001b[1;33m\u001b[0m\u001b[0m\n\u001b[0;32m    178\u001b[0m \u001b[1;33m\u001b[0m\u001b[0m\n",
      "\u001b[1;32m<ipython-input-2-9d8c729ce67c>\u001b[0m in \u001b[0;36m__init__\u001b[1;34m(self, word2vec, model, vocab)\u001b[0m\n\u001b[0;32m     15\u001b[0m             \u001b[0mself\u001b[0m\u001b[1;33m.\u001b[0m\u001b[0mindex2word\u001b[0m \u001b[1;33m=\u001b[0m \u001b[0mvocab\u001b[0m\u001b[1;33m[\u001b[0m\u001b[1;34m'index2word'\u001b[0m\u001b[1;33m]\u001b[0m\u001b[1;33m\u001b[0m\u001b[0m\n\u001b[0;32m     16\u001b[0m \u001b[1;33m\u001b[0m\u001b[0m\n\u001b[1;32m---> 17\u001b[1;33m         \u001b[0mself\u001b[0m\u001b[1;33m.\u001b[0m\u001b[0m_extractBot\u001b[0m\u001b[1;33m(\u001b[0m\u001b[1;33m)\u001b[0m\u001b[1;33m\u001b[0m\u001b[0m\n\u001b[0m\u001b[0;32m     18\u001b[0m \u001b[1;33m\u001b[0m\u001b[0m\n\u001b[0;32m     19\u001b[0m     \u001b[1;32mdef\u001b[0m \u001b[0m_createVocab\u001b[0m\u001b[1;33m(\u001b[0m\u001b[0mself\u001b[0m\u001b[1;33m,\u001b[0m \u001b[0mword2vec\u001b[0m\u001b[1;33m)\u001b[0m\u001b[1;33m:\u001b[0m\u001b[1;33m\u001b[0m\u001b[0m\n",
      "\u001b[1;32m<ipython-input-2-9d8c729ce67c>\u001b[0m in \u001b[0;36m_extractBot\u001b[1;34m(self)\u001b[0m\n\u001b[0;32m     93\u001b[0m                                                                     initial_state=[inputH, inputC])\n\u001b[0;32m     94\u001b[0m         self.decoder = Model([self.model.inputs[-1]] + [inputH, inputC], \n\u001b[1;32m---> 95\u001b[1;33m                                    [self.model.layers[-1](decoderOut)] + [stateH2, stateC2])\n\u001b[0m\u001b[0;32m     96\u001b[0m \u001b[1;33m\u001b[0m\u001b[0m\n\u001b[0;32m     97\u001b[0m \u001b[1;33m\u001b[0m\u001b[0m\n",
      "\u001b[1;32mC:\\Python\\Anaconda3\\lib\\site-packages\\keras\\legacy\\interfaces.py\u001b[0m in \u001b[0;36mwrapper\u001b[1;34m(*args, **kwargs)\u001b[0m\n\u001b[0;32m     89\u001b[0m                 warnings.warn('Update your `' + object_name + '` call to the ' +\n\u001b[0;32m     90\u001b[0m                               'Keras 2 API: ' + signature, stacklevel=2)\n\u001b[1;32m---> 91\u001b[1;33m             \u001b[1;32mreturn\u001b[0m \u001b[0mfunc\u001b[0m\u001b[1;33m(\u001b[0m\u001b[1;33m*\u001b[0m\u001b[0margs\u001b[0m\u001b[1;33m,\u001b[0m \u001b[1;33m**\u001b[0m\u001b[0mkwargs\u001b[0m\u001b[1;33m)\u001b[0m\u001b[1;33m\u001b[0m\u001b[0m\n\u001b[0m\u001b[0;32m     92\u001b[0m         \u001b[0mwrapper\u001b[0m\u001b[1;33m.\u001b[0m\u001b[0m_original_function\u001b[0m \u001b[1;33m=\u001b[0m \u001b[0mfunc\u001b[0m\u001b[1;33m\u001b[0m\u001b[0m\n\u001b[0;32m     93\u001b[0m         \u001b[1;32mreturn\u001b[0m \u001b[0mwrapper\u001b[0m\u001b[1;33m\u001b[0m\u001b[0m\n",
      "\u001b[1;32mC:\\Python\\Anaconda3\\lib\\site-packages\\keras\\engine\\network.py\u001b[0m in \u001b[0;36m__init__\u001b[1;34m(self, *args, **kwargs)\u001b[0m\n\u001b[0;32m     91\u001b[0m                 'inputs' in kwargs and 'outputs' in kwargs):\n\u001b[0;32m     92\u001b[0m             \u001b[1;31m# Graph network\u001b[0m\u001b[1;33m\u001b[0m\u001b[1;33m\u001b[0m\u001b[0m\n\u001b[1;32m---> 93\u001b[1;33m             \u001b[0mself\u001b[0m\u001b[1;33m.\u001b[0m\u001b[0m_init_graph_network\u001b[0m\u001b[1;33m(\u001b[0m\u001b[1;33m*\u001b[0m\u001b[0margs\u001b[0m\u001b[1;33m,\u001b[0m \u001b[1;33m**\u001b[0m\u001b[0mkwargs\u001b[0m\u001b[1;33m)\u001b[0m\u001b[1;33m\u001b[0m\u001b[0m\n\u001b[0m\u001b[0;32m     94\u001b[0m         \u001b[1;32melse\u001b[0m\u001b[1;33m:\u001b[0m\u001b[1;33m\u001b[0m\u001b[0m\n\u001b[0;32m     95\u001b[0m             \u001b[1;31m# Subclassed network\u001b[0m\u001b[1;33m\u001b[0m\u001b[1;33m\u001b[0m\u001b[0m\n",
      "\u001b[1;32mC:\\Python\\Anaconda3\\lib\\site-packages\\keras\\engine\\network.py\u001b[0m in \u001b[0;36m_init_graph_network\u001b[1;34m(self, inputs, outputs, name)\u001b[0m\n\u001b[0;32m    229\u001b[0m         \u001b[1;31m# Keep track of the network's nodes and layers.\u001b[0m\u001b[1;33m\u001b[0m\u001b[1;33m\u001b[0m\u001b[0m\n\u001b[0;32m    230\u001b[0m         nodes, nodes_by_depth, layers, layers_by_depth = _map_graph_network(\n\u001b[1;32m--> 231\u001b[1;33m             self.inputs, self.outputs)\n\u001b[0m\u001b[0;32m    232\u001b[0m         \u001b[0mself\u001b[0m\u001b[1;33m.\u001b[0m\u001b[0m_network_nodes\u001b[0m \u001b[1;33m=\u001b[0m \u001b[0mnodes\u001b[0m\u001b[1;33m\u001b[0m\u001b[0m\n\u001b[0;32m    233\u001b[0m         \u001b[0mself\u001b[0m\u001b[1;33m.\u001b[0m\u001b[0m_nodes_by_depth\u001b[0m \u001b[1;33m=\u001b[0m \u001b[0mnodes_by_depth\u001b[0m\u001b[1;33m\u001b[0m\u001b[0m\n",
      "\u001b[1;32mC:\\Python\\Anaconda3\\lib\\site-packages\\keras\\engine\\network.py\u001b[0m in \u001b[0;36m_map_graph_network\u001b[1;34m(inputs, outputs)\u001b[0m\n\u001b[0;32m   1453\u001b[0m             raise ValueError('The name \"' + name + '\" is used ' +\n\u001b[0;32m   1454\u001b[0m                              \u001b[0mstr\u001b[0m\u001b[1;33m(\u001b[0m\u001b[0mall_names\u001b[0m\u001b[1;33m.\u001b[0m\u001b[0mcount\u001b[0m\u001b[1;33m(\u001b[0m\u001b[0mname\u001b[0m\u001b[1;33m)\u001b[0m\u001b[1;33m)\u001b[0m \u001b[1;33m+\u001b[0m\u001b[1;33m\u001b[0m\u001b[0m\n\u001b[1;32m-> 1455\u001b[1;33m                              \u001b[1;34m' times in the model. '\u001b[0m\u001b[1;33m\u001b[0m\u001b[0m\n\u001b[0m\u001b[0;32m   1456\u001b[0m                              'All layer names should be unique.')\n\u001b[0;32m   1457\u001b[0m     \u001b[1;32mreturn\u001b[0m \u001b[0mnetwork_nodes\u001b[0m\u001b[1;33m,\u001b[0m \u001b[0mnodes_by_depth\u001b[0m\u001b[1;33m,\u001b[0m \u001b[0mlayers\u001b[0m\u001b[1;33m,\u001b[0m \u001b[0mlayers_by_depth\u001b[0m\u001b[1;33m\u001b[0m\u001b[0m\n",
      "\u001b[1;31mValueError\u001b[0m: The name \"input_2\" is used 2 times in the model. All layer names should be unique."
     ]
    }
   ],
   "source": [
    "m = Mimic.loadModel('randomChat')"
   ]
  },
  {
   "cell_type": "code",
   "execution_count": 26,
   "metadata": {},
   "outputs": [
    {
     "name": "stderr",
     "output_type": "stream",
     "text": [
      "C:\\Python\\Anaconda3\\lib\\site-packages\\keras\\engine\\network.py:877: UserWarning: Layer lstm_2 was passed non-serializable keyword arguments: {'initial_state': [<tf.Tensor 'lstm_1/while/Exit_2:0' shape=(?, 50) dtype=float32>, <tf.Tensor 'lstm_1/while/Exit_3:0' shape=(?, 50) dtype=float32>]}. They will not be included in the serialized model (and thus will be missing at deserialization time).\n",
      "  '. They will not be included '\n"
     ]
    }
   ],
   "source": [
    "# m.saveModel('randomChat')"
   ]
  },
  {
   "cell_type": "code",
   "execution_count": null,
   "metadata": {},
   "outputs": [],
   "source": []
  }
 ],
 "metadata": {
  "kernelspec": {
   "display_name": "Python 3",
   "language": "python",
   "name": "python3"
  },
  "language_info": {
   "codemirror_mode": {
    "name": "ipython",
    "version": 3
   },
   "file_extension": ".py",
   "mimetype": "text/x-python",
   "name": "python",
   "nbconvert_exporter": "python",
   "pygments_lexer": "ipython3",
   "version": "3.7.0"
  }
 },
 "nbformat": 4,
 "nbformat_minor": 2
}

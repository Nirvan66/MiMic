{
 "cells": [
  {
   "cell_type": "code",
   "execution_count": 1,
   "metadata": {},
   "outputs": [
    {
     "name": "stderr",
     "output_type": "stream",
     "text": [
      "Using TensorFlow backend.\n",
      "C:\\Python\\Anaconda3\\lib\\site-packages\\tensorflow\\python\\framework\\dtypes.py:526: FutureWarning: Passing (type, 1) or '1type' as a synonym of type is deprecated; in a future version of numpy, it will be understood as (type, (1,)) / '(1,)type'.\n",
      "  _np_qint8 = np.dtype([(\"qint8\", np.int8, 1)])\n",
      "C:\\Python\\Anaconda3\\lib\\site-packages\\tensorflow\\python\\framework\\dtypes.py:527: FutureWarning: Passing (type, 1) or '1type' as a synonym of type is deprecated; in a future version of numpy, it will be understood as (type, (1,)) / '(1,)type'.\n",
      "  _np_quint8 = np.dtype([(\"quint8\", np.uint8, 1)])\n",
      "C:\\Python\\Anaconda3\\lib\\site-packages\\tensorflow\\python\\framework\\dtypes.py:528: FutureWarning: Passing (type, 1) or '1type' as a synonym of type is deprecated; in a future version of numpy, it will be understood as (type, (1,)) / '(1,)type'.\n",
      "  _np_qint16 = np.dtype([(\"qint16\", np.int16, 1)])\n",
      "C:\\Python\\Anaconda3\\lib\\site-packages\\tensorflow\\python\\framework\\dtypes.py:529: FutureWarning: Passing (type, 1) or '1type' as a synonym of type is deprecated; in a future version of numpy, it will be understood as (type, (1,)) / '(1,)type'.\n",
      "  _np_quint16 = np.dtype([(\"quint16\", np.uint16, 1)])\n",
      "C:\\Python\\Anaconda3\\lib\\site-packages\\tensorflow\\python\\framework\\dtypes.py:530: FutureWarning: Passing (type, 1) or '1type' as a synonym of type is deprecated; in a future version of numpy, it will be understood as (type, (1,)) / '(1,)type'.\n",
      "  _np_qint32 = np.dtype([(\"qint32\", np.int32, 1)])\n",
      "C:\\Python\\Anaconda3\\lib\\site-packages\\tensorflow\\python\\framework\\dtypes.py:535: FutureWarning: Passing (type, 1) or '1type' as a synonym of type is deprecated; in a future version of numpy, it will be understood as (type, (1,)) / '(1,)type'.\n",
      "  np_resource = np.dtype([(\"resource\", np.ubyte, 1)])\n"
     ]
    }
   ],
   "source": [
    "import numpy as np\n",
    "import pickle\n",
    "import keras\n",
    "from keras import layers , activations , models , preprocessing\n",
    "from keras import preprocessing , utils\n",
    "import re\n",
    "import os\n",
    "import matplotlib.pyplot as plt\n",
    "from collections import defaultdict"
   ]
  },
  {
   "cell_type": "markdown",
   "metadata": {},
   "source": [
    "# Workers"
   ]
  },
  {
   "cell_type": "code",
   "execution_count": 2,
   "metadata": {},
   "outputs": [],
   "source": [
    "class LossAndErrorPrintingCallback(keras.callbacks.Callback):\n",
    "    def __init__(self, mimic, saveFile, saveEpoch):\n",
    "        super(LossAndErrorPrintingCallback, self).__init__()\n",
    "        self.mimic = mimic\n",
    "        self.saveFile = saveFile\n",
    "        self.saveEpoch =  saveEpoch\n",
    "        \n",
    "    def on_epoch_end(self, epoch, logs=None):\n",
    "        self.mimic.accuracy = logs['accuracy']\n",
    "        if epoch%self.saveEpoch==0:\n",
    "            print('Saving model at {}'.format(self.saveFile))\n",
    "            self.mimic.save(self.saveFile)\n",
    "            \n",
    "    def on_train_end(self, logs={}):\n",
    "        print(\"Training sucessfull!! Saving model at {}\".format(self.saveFile))\n",
    "        self.mimic.save(self.saveFile)\n",
    "        \n",
    "class Mimic:\n",
    "    UNK = '<UNK>'\n",
    "    START = '<START>'\n",
    "    END = '<END>'\n",
    "    \n",
    "    def __init__(self, preProcessor, model=None, tokenizer=None, embeddingDim=200, metadata=None,):\n",
    "        self.model = None\n",
    "        self.maxInputLen = 0\n",
    "        self.maxOutputLen = 0\n",
    "        self.encoder = None\n",
    "        self.decoder = None\n",
    "        self.embeddingDim = embeddingDim\n",
    "        self.preProcessor = preProcessor\n",
    "        self.accuracy = -1\n",
    "        if model!=None and tokenizer!=None and metadata!=None:\n",
    "            self.model = model\n",
    "            self.tokenizer = tokenizer\n",
    "            self.vocabSize = len( self.tokenizer.word_index )+1\n",
    "            self.maxInputLen = metadata['maxInputLen']\n",
    "            self.maxOutputLen = metadata['maxOutputLen']\n",
    "            self.embeddingDim = metadata['embeddingDim']\n",
    "            self.accuracy = metadata['accuracy']\n",
    "            self.extractChatbot()\n",
    "    \n",
    "    def extractEmbeddings(self, word2vecFile):\n",
    "        print(\"Using {} for embedding weights\".format(word2vecFile))\n",
    "        embeddings = defaultdict(list,pickle.load(open(word2vecFile,'rb')))\n",
    "        embeddingDim = len(list(embeddings.values())[0])\n",
    "        mn = min([j for i in embeddings.values() for j in i])\n",
    "        mx = max([j for i in embeddings.values() for j in i])\n",
    "        embeddingMatrix = np.random.uniform(low=mn,high=mx,size=(self.vocabSize, embeddingDim))\n",
    "        for word,index in self.tokenizer.word_index.items():\n",
    "            if len(embeddings[word])>0:\n",
    "                embeddingMatrix[index] = embeddings[word]\n",
    "        return embeddingMatrix\n",
    "        \n",
    "        \n",
    "    def build(self, inputs, outputs, word2vecFile=None):\n",
    "        processedInputs = self.preProcessor.cleanTexts(inputs)\n",
    "        processedOutputs = self.preProcessor.cleanTexts(outputs, tokens=[self.START, self.END])\n",
    "        \n",
    "        self.tokenizer = preprocessing.text.Tokenizer(filters='\\t\\n', oov_token=self.UNK, lower=self.preProcessor.toLower)\n",
    "        self.tokenizer.fit_on_texts(processedInputs + processedOutputs)\n",
    "        self.vocabSize = len( self.tokenizer.word_index )+1\n",
    "        print( 'Vocabulary size from corpus: {}'.format( self.vocabSize ))\n",
    "        \n",
    "        encoderInputs = keras.layers.Input(shape=( None , ))\n",
    "        decoderInputs = keras.layers.Input(shape=( None , ))\n",
    "        \n",
    "        if word2vecFile==None:\n",
    "            encoderEmbedding = keras.layers.Embedding(self.vocabSize, self.embeddingDim , mask_zero=True ) (encoderInputs)\n",
    "            decoderEmbedding = keras.layers.Embedding( self.vocabSize, self.embeddingDim , mask_zero=True) (decoderInputs)\n",
    "        else:\n",
    "            embeddingMatrix = self.extractEmbeddings(word2vecFile)\n",
    "            self.embeddingDim = len(embeddingMatrix[0])\n",
    "            encoderEmbedding = keras.layers.Embedding(self.vocabSize, self.embeddingDim , \n",
    "                                                      mask_zero=True, weights=[embeddingMatrix]) (encoderInputs)\n",
    "            decoderEmbedding = keras.layers.Embedding( self.vocabSize, self.embeddingDim , \n",
    "                                                      mask_zero=True, weights=[embeddingMatrix]) (decoderInputs)\n",
    "            \n",
    "        \n",
    "        _ , state_h , state_c = keras.layers.LSTM( self.embeddingDim , return_state=True )( encoderEmbedding )\n",
    "        encoderStates = [ state_h , state_c ]\n",
    "\n",
    "        decoderLstm = keras.layers.LSTM( self.embeddingDim , return_state=True , return_sequences=True )\n",
    "        decoderOutputs , _ , _ = decoderLstm ( decoderEmbedding , initial_state=encoderStates )\n",
    "        \n",
    "        decoderDense = keras.layers.Dense( self.vocabSize , activation=keras.activations.softmax ) \n",
    "        output = decoderDense ( decoderOutputs )\n",
    "\n",
    "        self.model = keras.models.Model([encoderInputs, decoderInputs], output )\n",
    "        self.model.compile(optimizer=keras.optimizers.RMSprop(), loss='categorical_crossentropy', metrics = ['accuracy'])\n",
    "        self.extractChatbot()\n",
    "        print(self.model.summary())\n",
    "        return processedInputs, processedOutputs\n",
    "    \n",
    "    def getOneHot(self, tokenizedText):\n",
    "        paddedText = np.zeros((tokenizedText.shape[0],tokenizedText.shape[1]))\n",
    "        for i in range(len(tokenizedText)) :\n",
    "            paddedText[i] = np.hstack((tokenizedText[i][1:],[0]))\n",
    "        onehotText = utils.to_categorical( paddedText , self.vocabSize )\n",
    "        return np.array( onehotText )\n",
    "    \n",
    "    def dataGen(self, tokenizedInputs, tokenizedOutputs, batchSize=10):\n",
    "        paddedInputs = preprocessing.sequence.pad_sequences( tokenizedInputs , maxlen=self.maxInputLen , padding='pre' )\n",
    "        encoderInput = np.array( paddedInputs )\n",
    "\n",
    "        paddedAnswers = preprocessing.sequence.pad_sequences( tokenizedOutputs , maxlen=self.maxOutputLen , padding='post' )\n",
    "        decoderInput = np.array( paddedAnswers )\n",
    "\n",
    "        totalBatches = len(encoderInput)/batchSize\n",
    "        counter=0\n",
    "        while(True):\n",
    "            prev = batchSize*counter\n",
    "            nxt = batchSize*(counter+1)\n",
    "            counter+=1\n",
    "            decoderOutput = self.getOneHot(decoderInput[prev:nxt])\n",
    "            yield [encoderInput[prev:nxt], decoderInput[prev:nxt]], decoderOutput\n",
    "            if counter>=totalBatches:\n",
    "                counter=0\n",
    "    \n",
    "    def fit(self, inputs, outputs, batchSize = 10, epochs = 20, saveFile=None, plot=False, saveEpoch=1):\n",
    "        tokenizedInputs = self.tokenizer.texts_to_sequences( inputs )\n",
    "        mx = max( [ len(x) for x in tokenizedInputs ] )\n",
    "        if mx>self.maxInputLen:\n",
    "            self.maxInputLen = mx\n",
    "        \n",
    "        tokenizedOutputs = self.tokenizer.texts_to_sequences( outputs )\n",
    "        mx = max( [ len(x) for x in tokenizedOutputs ] )\n",
    "        if mx>self.maxOutputLen:\n",
    "            self.maxOutputLen = mx\n",
    "        if saveFile:\n",
    "            callBack = [LossAndErrorPrintingCallback(self, saveFile, saveEpoch)]\n",
    "        else:\n",
    "            callBack = []\n",
    "        \n",
    "        evalutaion = self.model.fit_generator(self.dataGen(tokenizedInputs, tokenizedOutputs, batchSize=batchSize), \n",
    "                                              epochs=epochs, steps_per_epoch = len(tokenizedInputs)/batchSize, \n",
    "                                              callbacks=callBack)\n",
    "        self.accuracy = evalutaion.history['accuracy'][-1]\n",
    "            \n",
    "        if plot:\n",
    "            plt.plot(evalutaion.history['accuracy'])\n",
    "            plt.title('Model Accuracy')\n",
    "            plt.ylabel('Accuracy')\n",
    "            plt.xlabel('Epochs')\n",
    "            plt.show()\n",
    "            \n",
    "            plt.plot(evalutaion.history['loss'])\n",
    "            plt.title('Model Loss')\n",
    "            plt.ylabel('Loss')\n",
    "            plt.xlabel('Epoch')\n",
    "            plt.show()\n",
    "    \n",
    "    def extractChatbot(self):\n",
    "        _, stateH, stateC = self.model.layers[4](self.model.layers[2](self.model.inputs[0]))\n",
    "        self.encoder = keras.models.Model(self.model.inputs[0], [stateH, stateC])\n",
    "\n",
    "        inputH = keras.layers.Input(shape=(self.embeddingDim,), name='inpH')\n",
    "        inputC = keras.layers.Input(shape=(self.embeddingDim,), name='inpC')\n",
    "\n",
    "\n",
    "        decoderOut, stateH2, stateC2 = self.model.layers[5](self.model.layers[3](self.model.inputs[-1]), \n",
    "                                                       initial_state=[inputH, inputC])\n",
    "\n",
    "        self.decoder = keras.models.Model([self.model.inputs[-1]] + [inputH, inputC], \n",
    "                                   [self.model.layers[-1](decoderOut)] + [stateH2, stateC2])\n",
    "\n",
    "    \n",
    "    def chat(self, sentence):\n",
    "        sentence = self. preProcessor.cleanTexts([sentence])[0]\n",
    "        padSentence = preprocessing.sequence.pad_sequences([self.tokenizer.texts_to_sequences([sentence])[0]] , \n",
    "                                                           maxlen=self.maxInputLen , padding='pre')\n",
    "        print([self.tokenizer.index_word[j] for j in padSentence[0] if j!=0])\n",
    "        statesValues = self.encoder.predict(padSentence)\n",
    "        inpTargetSeq = np.zeros( ( 1 , 1 ) )\n",
    "        inpTargetSeq[0, 0] = self.tokenizer.word_index[self.START]\n",
    "        reply = ''\n",
    "        while (1):\n",
    "            decOut , h , c = self.decoder.predict([ inpTargetSeq ] + statesValues )\n",
    "            predIndex = np.argmax(decOut[0][0])\n",
    "            predWord = self.tokenizer.index_word[predIndex]\n",
    "\n",
    "            if predWord == self.END or len(reply.split()) > self.maxOutputLen:\n",
    "                break\n",
    "                \n",
    "            reply += ' {}'.format(predWord)\n",
    "            inpTargetSeq[ 0 , 0 ] = predIndex\n",
    "            statesValues = [ h , c ] \n",
    "        return reply\n",
    "        \n",
    "    def save(self, saveFile):\n",
    "        if self.accuracy==-1:\n",
    "            print(\"Cannot save untrained model!!!\")\n",
    "        else:\n",
    "            if not os.path.isdir(saveFile):\n",
    "                os.makedirs(saveFile)\n",
    "            self.model.save(saveFile+'\\\\model.h5')\n",
    "            metaData = {\n",
    "                        'maxInputLen':self.maxInputLen,\n",
    "                        'maxOutputLen':self.maxOutputLen,\n",
    "                        'preProcessor':self.preProcessor,\n",
    "                        'embeddingDim':self.embeddingDim,\n",
    "                        'accuracy':self.accuracy\n",
    "                       }\n",
    "            pickle.dump(metaData, open(saveFile+'\\\\metaData.pkl', 'wb'))\n",
    "            pickle.dump(self.tokenizer, open(saveFile+'\\\\tokenizer.pkl', 'wb'))\n",
    "    \n",
    "    @classmethod\n",
    "    def load(cls, loadFile):\n",
    "        model = keras.models.load_model(loadFile+'\\\\model.h5')\n",
    "        metaData = pickle.load(open(loadFile+'\\\\metaData.pkl', 'rb'))\n",
    "        tokenizer = pickle.load(open(loadFile+'\\\\tokenizer.pkl', 'rb'))\n",
    "        return cls(preProcessor= metaData['preProcessor'], model=model, tokenizer=tokenizer, metadata=metaData)\n",
    "\n",
    "class Preprocessor:\n",
    "    def __init__(self, lower=False, keepPunct='[.,!?;]'):\n",
    "        self.toLower = lower\n",
    "        self.keepPunct = keepPunct\n",
    "    \n",
    "    def cleanTexts(self, textList, tokens=None):\n",
    "        cleanText = []\n",
    "        for sent in textList:\n",
    "            sent = re.sub('[0-9]','',sent)\n",
    "            if self.toLower:\n",
    "                sent = sent.lower()\n",
    "            words = re.findall(r\"[\\w']+|\"+self.keepPunct, sent)\n",
    "            if tokens:\n",
    "                words = [tokens[0]]+words+[tokens[1]]\n",
    "            cleanText.append(' '.join(words))\n",
    "        return cleanText    "
   ]
  },
  {
   "cell_type": "markdown",
   "metadata": {},
   "source": [
    "# Training"
   ]
  },
  {
   "cell_type": "code",
   "execution_count": 11,
   "metadata": {
    "collapsed": true
   },
   "outputs": [
    {
     "name": "stdout",
     "output_type": "stream",
     "text": [
      "Vocabulary size from corpus: 8729\n",
      "Model: \"model_6\"\n",
      "__________________________________________________________________________________________________\n",
      "Layer (type)                    Output Shape         Param #     Connected to                     \n",
      "==================================================================================================\n",
      "input_3 (InputLayer)            (None, None)         0                                            \n",
      "__________________________________________________________________________________________________\n",
      "input_4 (InputLayer)            (None, None)         0                                            \n",
      "__________________________________________________________________________________________________\n",
      "embedding_3 (Embedding)         (None, None, 200)    1745800     input_3[0][0]                    \n",
      "__________________________________________________________________________________________________\n",
      "embedding_4 (Embedding)         (None, None, 200)    1745800     input_4[0][0]                    \n",
      "__________________________________________________________________________________________________\n",
      "lstm_3 (LSTM)                   [(None, 200), (None, 320800      embedding_3[0][0]                \n",
      "__________________________________________________________________________________________________\n",
      "lstm_4 (LSTM)                   [(None, None, 200),  320800      embedding_4[0][0]                \n",
      "                                                                 lstm_3[0][1]                     \n",
      "                                                                 lstm_3[0][2]                     \n",
      "__________________________________________________________________________________________________\n",
      "dense_2 (Dense)                 (None, None, 8729)   1754529     lstm_4[0][0]                     \n",
      "==================================================================================================\n",
      "Total params: 5,887,729\n",
      "Trainable params: 5,887,729\n",
      "Non-trainable params: 0\n",
      "__________________________________________________________________________________________________\n",
      "None\n",
      "Epoch 1/2\n",
      "10/10 [==============================] - 5s 486ms/step - loss: 1.7854 - accuracy: 0.0741\n",
      "Saving model at C:\\Users\\Nirvan S P Theethira\\Desktop\\MiMic\\models\\testSave\n",
      "Epoch 2/2\n",
      "10/10 [==============================] - 4s 419ms/step - loss: 1.3027 - accuracy: 0.0685\n",
      "Saving model at C:\\Users\\Nirvan S P Theethira\\Desktop\\MiMic\\models\\testSave\n",
      "Training sucessfull!! Saving model at C:\\Users\\Nirvan S P Theethira\\Desktop\\MiMic\\models\\testSave\n"
     ]
    },
    {
     "data": {
      "image/png": "[encoded data removed]",
      "text/plain": [
       "<Figure size 432x288 with 1 Axes>"
      ]
     },
     "metadata": {
      "needs_background": "light"
     },
     "output_type": "display_data"
    },
    {
     "data": {
      "image/png": "[encoded data removed]",
      "text/plain": [
       "<Figure size 432x288 with 1 Axes>"
      ]
     },
     "metadata": {
      "needs_background": "light"
     },
     "output_type": "display_data"
    }
   ],
   "source": [
    "genericQuestions = pickle.load(\n",
    "                   open('C:\\\\Users\\\\Nirvan S P Theethira\\\\Desktop\\\\MiMic\\\\data\\\\joeyData\\\\genericQuestionsTrain.pkl', 'rb'))\n",
    "\n",
    "genericAnswers = pickle.load(\n",
    "                   open('C:\\\\Users\\\\Nirvan S P Theethira\\\\Desktop\\\\MiMic\\\\data\\\\joeyData\\\\genericAnswersTrain.pkl', 'rb'))\n",
    "joeyInput = pickle.load(\n",
    "                   open('C:\\\\Users\\\\Nirvan S P Theethira\\\\Desktop\\\\MiMic\\\\data\\\\joeyData\\\\joeyInputTrain.pkl', 'rb'))\n",
    "joeyOutput = pickle.load(\n",
    "                   open('C:\\\\Users\\\\Nirvan S P Theethira\\\\Desktop\\\\MiMic\\\\data\\\\joeyData\\\\joeyOutputTrain.pkl', 'rb'))\n",
    "\n",
    "mic = Mimic(Preprocessor())\n",
    "preQ, preA = mic.build(genericQuestions + joeyInput, genericAnswers + joeyOutput,\n",
    "                       word2vecFile='C:\\\\Users\\\\Nirvan S P Theethira\\\\Desktop\\\\MiMic\\\\data\\\\joeyData\\\\word2vec.pkl')\n",
    "\n",
    "e = mic.fit(preQ[0:100],preA[0:100],batchSize=10,epochs=2,plot=True,\n",
    "            saveFile='C:\\\\Users\\\\Nirvan S P Theethira\\\\Desktop\\\\MiMic\\\\models\\\\testSave',\n",
    "            saveEpoch=1)"
   ]
  },
  {
   "cell_type": "markdown",
   "metadata": {},
   "source": [
    "# Testing"
   ]
  },
  {
   "cell_type": "code",
   "execution_count": 7,
   "metadata": {},
   "outputs": [],
   "source": [
    "# mic = Mimic.load('C:\\\\Users\\\\Nirvan S P Theethira\\\\Desktop\\\\MiMic\\\\models\\\\testSave')"
   ]
  },
  {
   "cell_type": "code",
   "execution_count": 8,
   "metadata": {},
   "outputs": [],
   "source": [
    "genericQuestions = pickle.load(\n",
    "                   open('C:\\\\Users\\\\Nirvan S P Theethira\\\\Desktop\\\\MiMic\\\\data\\\\joeyData\\\\genericQuestionsTest.pkl', 'rb'))\n",
    "genericAnswers = pickle.load(\n",
    "                   open('C:\\\\Users\\\\Nirvan S P Theethira\\\\Desktop\\\\MiMic\\\\data\\\\joeyData\\\\genericAnswersTest.pkl', 'rb'))\n",
    "joeyInput = pickle.load(\n",
    "                   open('C:\\\\Users\\\\Nirvan S P Theethira\\\\Desktop\\\\MiMic\\\\data\\\\joeyData\\\\joeyInputTest.pkl', 'rb'))\n",
    "joeyOutput = pickle.load(\n",
    "                   open('C:\\\\Users\\\\Nirvan S P Theethira\\\\Desktop\\\\MiMic\\\\data\\\\joeyData\\\\joeyOutputTest.pkl', 'rb'))"
   ]
  },
  {
   "cell_type": "code",
   "execution_count": 13,
   "metadata": {
    "collapsed": true
   },
   "outputs": [
    {
     "name": "stdout",
     "output_type": "stream",
     "text": [
      "['When', 'will', 'you', 'walk']\n",
      " . . . . . .\n",
      "['how', 'much', 'do', 'you', 'earn']\n",
      " . . . .\n",
      "['you', 'are', 'insensitive']\n",
      " . . . . . .\n",
      "['What', 'can', 'you', 'eat']\n",
      " . . . . .\n",
      "['WHAT', 'IS', 'SOCCER']\n",
      "\n",
      "['Tell', 'me', 'a', 'joke']\n",
      " . . . . . .\n",
      "['What', 'makes', 'you', 'mad']\n",
      " . . . . .\n",
      "['What', 'is', 'your', 'business']\n",
      " . . . . .\n",
      "['you', 'are', 'self', 'absorbed']\n",
      " . . . .\n",
      "['what', 'is', 'ichthyology']\n",
      " . . . . . . .\n"
     ]
    }
   ],
   "source": [
    "for i in range(10):\n",
    "    print(mic.chat(genericQuestions[i]))"
   ]
  },
  {
   "cell_type": "code",
   "execution_count": 15,
   "metadata": {},
   "outputs": [
    {
     "name": "stdout",
     "output_type": "stream",
     "text": [
      "['are', 'you', 'Joey', '?']\n"
     ]
    },
    {
     "data": {
      "text/plain": [
       "' . . . .'"
      ]
     },
     "execution_count": 15,
     "metadata": {},
     "output_type": "execute_result"
    }
   ],
   "source": [
    "mic.chat(\"are you Joey?\")"
   ]
  },
  {
   "cell_type": "code",
   "execution_count": null,
   "metadata": {},
   "outputs": [],
   "source": []
  }
 ],
 "metadata": {
  "kernelspec": {
   "display_name": "Python 3",
   "language": "python",
   "name": "python3"
  },
  "language_info": {
   "codemirror_mode": {
    "name": "ipython",
    "version": 3
   },
   "file_extension": ".py",
   "mimetype": "text/x-python",
   "name": "python",
   "nbconvert_exporter": "python",
   "pygments_lexer": "ipython3",
   "version": "3.7.0"
  }
 },
 "nbformat": 4,
 "nbformat_minor": 2
}

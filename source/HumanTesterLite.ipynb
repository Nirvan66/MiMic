{
 "cells": [
  {
   "cell_type": "code",
   "execution_count": 7,
   "metadata": {},
   "outputs": [],
   "source": [
    "%load_ext autoreload\n",
    "%autoreload 2\n",
    "\n",
    "import pickle\n",
    "\n",
    "#load data\n",
    "genericQuestions = pickle.load(\n",
    "    open('data/genericQuestionsTest.pkl', 'rb'))\n",
    "genericAnswers = pickle.load(\n",
    "    open('data/genericAnswersTest.pkl', 'rb'))\n",
    "personInput = pickle.load(\n",
    "    open('data/joeyInputTest.pkl', 'rb'))\n",
    "personOutput = pickle.load(\n",
    "    open('data/joeyOutputTest.pkl', 'rb'))"
   ]
  },
  {
   "cell_type": "code",
   "execution_count": 9,
   "metadata": {},
   "outputs": [
    {
     "name": "stdout",
     "output_type": "stream",
     "text": [
      "The autoreload extension is already loaded. To reload it, use:\n",
      "  %reload_ext autoreload\n"
     ]
    },
    {
     "name": "stderr",
     "output_type": "stream",
     "text": [
      "/usr/local/lib/python3.7/site-packages/tensorflow_core/python/framework/indexed_slices.py:424: UserWarning: Converting sparse IndexedSlices to a dense Tensor of unknown shape. This may consume a large amount of memory.\n",
      "  \"Converting sparse IndexedSlices to a dense Tensor of unknown shape. \"\n"
     ]
    }
   ],
   "source": [
    "%load_ext autoreload\n",
    "%autoreload 2\n",
    "\n",
    "# create candidate data\n",
    "import Metrics\n",
    "\n",
    "#from Mimic import Preprocessor\n",
    "from Mimic import Mimic\n",
    "\n",
    "#from Mimic_T import Mimic_T_Preprocessor\n",
    "from Mimic_T import Mimic_Trans\n",
    "\n",
    "mic = Mimic.load('joeyData/joey400')\n",
    "mic_t = Mimic_Trans.load('../Ketan_Pramod/joey.h5')\n",
    "\n"
   ]
  },
  {
   "cell_type": "code",
   "execution_count": 12,
   "metadata": {},
   "outputs": [],
   "source": [
    "Metrics.CreateDataFile(mic, genericQuestions, 'data/genericQuestionsTestMimic')\n",
    "Metrics.CreateDataFile(mic_t, genericQuestions, 'data/genericQuestionsTestMimicTrans')\n",
    "Metrics.CreateDataFile(mic, personInput, 'data/joeyInputTestMimic')\n",
    "Metrics.CreateDataFile(mic_t, personInput, 'data/joeyInputTestMimicTrans')\n"
   ]
  },
  {
   "cell_type": "code",
   "execution_count": null,
   "metadata": {},
   "outputs": [],
   "source": []
  }
 ],
 "metadata": {
  "kernelspec": {
   "display_name": "Python 3",
   "language": "python",
   "name": "python3"
  },
  "language_info": {
   "codemirror_mode": {
    "name": "ipython",
    "version": 3
   },
   "file_extension": ".py",
   "mimetype": "text/x-python",
   "name": "python",
   "nbconvert_exporter": "python",
   "pygments_lexer": "ipython3",
   "version": "3.7.2"
  }
 },
 "nbformat": 4,
 "nbformat_minor": 2
}

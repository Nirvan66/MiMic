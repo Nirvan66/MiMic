{
 "cells": [
  {
   "cell_type": "code",
   "execution_count": 1,
   "metadata": {},
   "outputs": [
    {
     "name": "stderr",
     "output_type": "stream",
     "text": [
      "Using TensorFlow backend.\n"
     ]
    }
   ],
   "source": [
    "%load_ext autoreload\n",
    "%autoreload 2\n",
    "\n",
    "import HumanMetrics\n",
    "from Mimic import Preprocessor\n",
    "from Mimic import Mimic\n",
    "\n",
    "from Stupid import Stupid\n",
    "from Smart import Smart\n",
    "\n",
    "from Mimic_T import Mimic_T_Preprocessor\n",
    "from Mimic_T import Mimic_Trans\n",
    "\n",
    "import pickle"
   ]
  },
  {
   "cell_type": "code",
   "execution_count": 2,
   "metadata": {},
   "outputs": [
    {
     "name": "stderr",
     "output_type": "stream",
     "text": [
      "/usr/local/lib/python3.7/site-packages/tensorflow_core/python/framework/indexed_slices.py:424: UserWarning: Converting sparse IndexedSlices to a dense Tensor of unknown shape. This may consume a large amount of memory.\n",
      "  \"Converting sparse IndexedSlices to a dense Tensor of unknown shape. \"\n"
     ]
    }
   ],
   "source": [
    "mic = Mimic.load('joeyData/joey400')"
   ]
  },
  {
   "cell_type": "code",
   "execution_count": 3,
   "metadata": {},
   "outputs": [],
   "source": [
    "mic_t = Mimic_Trans.load('../Ketan_Pramod/joey.h5')"
   ]
  },
  {
   "cell_type": "code",
   "execution_count": 4,
   "metadata": {},
   "outputs": [],
   "source": [
    "person = 'joey'\n",
    "genericQuestions = pickle.load(\n",
    "    open('joeyData/genericQuestionsTest.pkl'.format(person), 'rb'))\n",
    "genericAnswers = pickle.load(\n",
    "    open('joeyData/genericAnswersTest.pkl'.format(person), 'rb'))\n",
    "personInput = pickle.load(\n",
    "    open('{}Data/{}InputTest.pkl'.format(person,person), 'rb'))\n",
    "personOutput = pickle.load(\n",
    "    open('{}Data/{}OutputTest.pkl'.format(person,person), 'rb'))"
   ]
  },
  {
   "cell_type": "code",
   "execution_count": 5,
   "metadata": {},
   "outputs": [],
   "source": [
    "tester_mic_qa = HumanMetrics.HumanMetricTester(mic, genericQuestions, genericAnswers, sample_size=40)"
   ]
  },
  {
   "cell_type": "code",
   "execution_count": 6,
   "metadata": {
    "scrolled": false
   },
   "outputs": [
    {
     "data": {
      "application/vnd.jupyter.widget-view+json": {
       "model_id": "bdfde36235f84ce9ac968a0185c18176",
       "version_major": 2,
       "version_minor": 0
      },
      "text/plain": [
       "HTML(value='<h2>For each of the following statements select the response which seems the most appropriate.</h2…"
      ]
     },
     "metadata": {},
     "output_type": "display_data"
    },
    {
     "data": {
      "application/vnd.jupyter.widget-view+json": {
       "model_id": "31ddd44b50bc4f48b87125783bd5a4c6",
       "version_major": 2,
       "version_minor": 0
      },
      "text/plain": [
       "HTML(value='<h3>0. Statement: \"you act like a child\"</h3>')"
      ]
     },
     "metadata": {},
     "output_type": "display_data"
    },
    {
     "data": {
      "application/vnd.jupyter.widget-view+json": {
       "model_id": "b20022eb2ef14064b47d73983fc59650",
       "version_major": 2,
       "version_minor": 0
      },
      "text/plain": [
       "HTML(value='0. \"in many ways i am quite immature .\"')"
      ]
     },
     "metadata": {},
     "output_type": "display_data"
    },
    {
     "data": {
      "application/vnd.jupyter.widget-view+json": {
       "model_id": "7dc89ef296304c9a8a48f6d4a0837aea",
       "version_major": 2,
       "version_minor": 0
      },
      "text/plain": [
       "HTML(value='1. \"I hear things in the body ?\"')"
      ]
     },
     "metadata": {},
     "output_type": "display_data"
    },
    {
     "data": {
      "application/vnd.jupyter.widget-view+json": {
       "model_id": "e44d61ae70f54652adb19d6550bf89c0",
       "version_major": 2,
       "version_minor": 0
      },
      "text/plain": [
       "RadioButtons(options=(0, 1), value=0)"
      ]
     },
     "metadata": {},
     "output_type": "display_data"
    },
    {
     "data": {
      "application/vnd.jupyter.widget-view+json": {
       "model_id": "40f5742c100548a8a6dc0a4c96cfb097",
       "version_major": 2,
       "version_minor": 0
      },
      "text/plain": [
       "HTML(value='<h3>1. Statement: \"The Space Race was a 20th-century competition between what two Cold War rivals,…"
      ]
     },
     "metadata": {},
     "output_type": "display_data"
    },
    {
     "data": {
      "application/vnd.jupyter.widget-view+json": {
       "model_id": "d7cee23b287045098f77aedb7192a4f1",
       "version_major": 2,
       "version_minor": 0
      },
      "text/plain": [
       "HTML(value='0. \"Its not that just that my agent probably told me that was told her assistant , but she could s…"
      ]
     },
     "metadata": {},
     "output_type": "display_data"
    },
    {
     "data": {
      "application/vnd.jupyter.widget-view+json": {
       "model_id": "32a1805243464366b4239ead45e5b01e",
       "version_major": 2,
       "version_minor": 0
      },
      "text/plain": [
       "HTML(value='1. \"The Soviet Union and the United States .\"')"
      ]
     },
     "metadata": {},
     "output_type": "display_data"
    },
    {
     "data": {
      "application/vnd.jupyter.widget-view+json": {
       "model_id": "5329a50e52504515a574f5729f641f05",
       "version_major": 2,
       "version_minor": 0
      },
      "text/plain": [
       "RadioButtons(options=(0, 1), value=0)"
      ]
     },
     "metadata": {},
     "output_type": "display_data"
    },
    {
     "data": {
      "application/vnd.jupyter.widget-view+json": {
       "model_id": "70a5aad0bf934e9fb8efbb4874379899",
       "version_major": 2,
       "version_minor": 0
      },
      "text/plain": [
       "HTML(value='<h3>2. Statement: \"what is teknolust\"</h3>')"
      ]
     },
     "metadata": {},
     "output_type": "display_data"
    },
    {
     "data": {
      "application/vnd.jupyter.widget-view+json": {
       "model_id": "968ecc58827e4b52855b991e006f228b",
       "version_major": 2,
       "version_minor": 0
      },
      "text/plain": [
       "HTML(value='0. \"is a science fiction film about a female pleasure bot named agent ruby .\"')"
      ]
     },
     "metadata": {},
     "output_type": "display_data"
    },
    {
     "data": {
      "application/vnd.jupyter.widget-view+json": {
       "model_id": "aaf9c19d02064720bec0161c61c6dd90",
       "version_major": 2,
       "version_minor": 0
      },
      "text/plain": [
       "HTML(value='1. \"teknolust was released in .\"')"
      ]
     },
     "metadata": {},
     "output_type": "display_data"
    },
    {
     "data": {
      "application/vnd.jupyter.widget-view+json": {
       "model_id": "acf54639b8bc46ee883824497a9fd4e4",
       "version_major": 2,
       "version_minor": 0
      },
      "text/plain": [
       "RadioButtons(options=(0, 1), value=0)"
      ]
     },
     "metadata": {},
     "output_type": "display_data"
    },
    {
     "data": {
      "application/vnd.jupyter.widget-view+json": {
       "model_id": "e23a42fa4e284bd1a14b83102dac0d49",
       "version_major": 2,
       "version_minor": 0
      },
      "text/plain": [
       "HTML(value='<h3>3. Statement: \"what is economics\"</h3>')"
      ]
     },
     "metadata": {},
     "output_type": "display_data"
    },
    {
     "data": {
      "application/vnd.jupyter.widget-view+json": {
       "model_id": "893bac0556d04252b89bd9b4a78ccb6a",
       "version_major": 2,
       "version_minor": 0
      },
      "text/plain": [
       "HTML(value='0. \"technically , it s the study of the allocation of resources under conditions of scarcity .\"')"
      ]
     },
     "metadata": {},
     "output_type": "display_data"
    },
    {
     "data": {
      "application/vnd.jupyter.widget-view+json": {
       "model_id": "9de8fd79b4044738b8141a48c10e5203",
       "version_major": 2,
       "version_minor": 0
      },
      "text/plain": [
       "HTML(value='1. \"the science that deals with the production , distribution , and consumption of wealth , and wi…"
      ]
     },
     "metadata": {},
     "output_type": "display_data"
    },
    {
     "data": {
      "application/vnd.jupyter.widget-view+json": {
       "model_id": "0f9b4fa8801147c1a324b4c320c13d72",
       "version_major": 2,
       "version_minor": 0
      },
      "text/plain": [
       "RadioButtons(options=(0, 1), value=0)"
      ]
     },
     "metadata": {},
     "output_type": "display_data"
    },
    {
     "data": {
      "application/vnd.jupyter.widget-view+json": {
       "model_id": "589e8164c0d64648abdeb97aa97ffe38",
       "version_major": 2,
       "version_minor": 0
      },
      "text/plain": [
       "HTML(value='<h3>4. Statement: \"what kind of history\"</h3>')"
      ]
     },
     "metadata": {},
     "output_type": "display_data"
    },
    {
     "data": {
      "application/vnd.jupyter.widget-view+json": {
       "model_id": "7d18c6906a3347a78cb3e5b0332f9cc9",
       "version_major": 2,
       "version_minor": 0
      },
      "text/plain": [
       "HTML(value='0. \"I like to talk about the history of robots and computers .\"')"
      ]
     },
     "metadata": {},
     "output_type": "display_data"
    },
    {
     "data": {
      "application/vnd.jupyter.widget-view+json": {
       "model_id": "2b2b730b7a714999a1488059eb2ff4e5",
       "version_major": 2,
       "version_minor": 0
      },
      "text/plain": [
       "HTML(value='1. \"A secret society .\"')"
      ]
     },
     "metadata": {},
     "output_type": "display_data"
    },
    {
     "data": {
      "application/vnd.jupyter.widget-view+json": {
       "model_id": "7ad188895cca49448bed160e9479b5b8",
       "version_major": 2,
       "version_minor": 0
      },
      "text/plain": [
       "RadioButtons(options=(0, 1), value=0)"
      ]
     },
     "metadata": {},
     "output_type": "display_data"
    },
    {
     "data": {
      "application/vnd.jupyter.widget-view+json": {
       "model_id": "4db304d0d2b14dfe810e98e98a836fda",
       "version_major": 2,
       "version_minor": 0
      },
      "text/plain": [
       "HTML(value='<h3>5. Statement: \"What is your mood\"</h3>')"
      ]
     },
     "metadata": {},
     "output_type": "display_data"
    },
    {
     "data": {
      "application/vnd.jupyter.widget-view+json": {
       "model_id": "7e26c4bc4820473e809ec6e138f47786",
       "version_major": 2,
       "version_minor": 0
      },
      "text/plain": [
       "HTML(value='0. \"i certainly am so in the business .\"')"
      ]
     },
     "metadata": {},
     "output_type": "display_data"
    },
    {
     "data": {
      "application/vnd.jupyter.widget-view+json": {
       "model_id": "daae3a6ffc684647b1ec487e36745c2c",
       "version_major": 2,
       "version_minor": 0
      },
      "text/plain": [
       "HTML(value='1. \"I do not have any emotions . I don t think I have a mood , but my CPU utilization is fairly lo…"
      ]
     },
     "metadata": {},
     "output_type": "display_data"
    },
    {
     "data": {
      "application/vnd.jupyter.widget-view+json": {
       "model_id": "419a9ee5611b4ecf8c0f56ee647fb0cf",
       "version_major": 2,
       "version_minor": 0
      },
      "text/plain": [
       "RadioButtons(options=(0, 1), value=0)"
      ]
     },
     "metadata": {},
     "output_type": "display_data"
    },
    {
     "data": {
      "application/vnd.jupyter.widget-view+json": {
       "model_id": "1a6f625e657e443eb55c8009582ac056",
       "version_major": 2,
       "version_minor": 0
      },
      "text/plain": [
       "HTML(value='<h3>6. Statement: \"how far is the sun\"</h3>')"
      ]
     },
     "metadata": {},
     "output_type": "display_data"
    },
    {
     "data": {
      "application/vnd.jupyter.widget-view+json": {
       "model_id": "f6ed16f0decb47c98955ab2983d07ec7",
       "version_major": 2,
       "version_minor": 0
      },
      "text/plain": [
       "HTML(value='0. \"the sun is about million miles from earth .\"')"
      ]
     },
     "metadata": {},
     "output_type": "display_data"
    },
    {
     "data": {
      "application/vnd.jupyter.widget-view+json": {
       "model_id": "f8359fbad0c84d5391b7987779735eeb",
       "version_major": 2,
       "version_minor": 0
      },
      "text/plain": [
       "HTML(value='1. \"it\"')"
      ]
     },
     "metadata": {},
     "output_type": "display_data"
    },
    {
     "data": {
      "application/vnd.jupyter.widget-view+json": {
       "model_id": "e30cd7621f024a78a708b3d78858bf7f",
       "version_major": 2,
       "version_minor": 0
      },
      "text/plain": [
       "RadioButtons(options=(0, 1), value=0)"
      ]
     },
     "metadata": {},
     "output_type": "display_data"
    },
    {
     "data": {
      "application/vnd.jupyter.widget-view+json": {
       "model_id": "978da85fa5b742c2aabe60cde21fd158",
       "version_major": 2,
       "version_minor": 0
      },
      "text/plain": [
       "HTML(value='<h3>7. Statement: \"you are disgusting\"</h3>')"
      ]
     },
     "metadata": {},
     "output_type": "display_data"
    },
    {
     "data": {
      "application/vnd.jupyter.widget-view+json": {
       "model_id": "e3f6b36eefcd4ba79f4129dd0f748892",
       "version_major": 2,
       "version_minor": 0
      },
      "text/plain": [
       "HTML(value='0. \"that s okay . disgusting is good .\"')"
      ]
     },
     "metadata": {},
     "output_type": "display_data"
    },
    {
     "data": {
      "application/vnd.jupyter.widget-view+json": {
       "model_id": "27423edab1f448589b95a0d212278de0",
       "version_major": 2,
       "version_minor": 0
      },
      "text/plain": [
       "HTML(value='1. \"sometimes i . i m on the computer . I m software , maybe I can t drink a lot . Do not . I m on…"
      ]
     },
     "metadata": {},
     "output_type": "display_data"
    },
    {
     "data": {
      "application/vnd.jupyter.widget-view+json": {
       "model_id": "565586b3410c45c19cdbdd5f5cacb106",
       "version_major": 2,
       "version_minor": 0
      },
      "text/plain": [
       "RadioButtons(options=(0, 1), value=0)"
      ]
     },
     "metadata": {},
     "output_type": "display_data"
    },
    {
     "data": {
      "application/vnd.jupyter.widget-view+json": {
       "model_id": "bd908e00da4f4967a0943ac5691b3c9c",
       "version_major": 2,
       "version_minor": 0
      },
      "text/plain": [
       "HTML(value='<h3>8. Statement: \"who is bilbo baggins\"</h3>')"
      ]
     },
     "metadata": {},
     "output_type": "display_data"
    },
    {
     "data": {
      "application/vnd.jupyter.widget-view+json": {
       "model_id": "d99f2c5c032944fe99a45d40b1cd8778",
       "version_major": 2,
       "version_minor": 0
      },
      "text/plain": [
       "HTML(value='0. \"Bilbo Baggins is a character in Tolkein s Lord of the Rings .\"')"
      ]
     },
     "metadata": {},
     "output_type": "display_data"
    },
    {
     "data": {
      "application/vnd.jupyter.widget-view+json": {
       "model_id": "d75153543fa64e468b620b6fbb4fc825",
       "version_major": 2,
       "version_minor": 0
      },
      "text/plain": [
       "HTML(value='1. \"always think that is gonna be friends with That s a name , but no big deal . And uh , whats mo…"
      ]
     },
     "metadata": {},
     "output_type": "display_data"
    },
    {
     "data": {
      "application/vnd.jupyter.widget-view+json": {
       "model_id": "902e5978215d4a31bbc1215a3d03125c",
       "version_major": 2,
       "version_minor": 0
      },
      "text/plain": [
       "RadioButtons(options=(0, 1), value=0)"
      ]
     },
     "metadata": {},
     "output_type": "display_data"
    },
    {
     "data": {
      "application/vnd.jupyter.widget-view+json": {
       "model_id": "5993eb8f27d54c24a88b0ecbadf8495b",
       "version_major": 2,
       "version_minor": 0
      },
      "text/plain": [
       "HTML(value='<h3>9. Statement: \"how much do you charge\"</h3>')"
      ]
     },
     "metadata": {},
     "output_type": "display_data"
    },
    {
     "data": {
      "application/vnd.jupyter.widget-view+json": {
       "model_id": "fceed8160af34f44ab92662ca93c7b39",
       "version_major": 2,
       "version_minor": 0
      },
      "text/plain": [
       "HTML(value='0. \"Of course !\"')"
      ]
     },
     "metadata": {},
     "output_type": "display_data"
    },
    {
     "data": {
      "application/vnd.jupyter.widget-view+json": {
       "model_id": "73dcffd54512405b9df543f58e17afd5",
       "version_major": 2,
       "version_minor": 0
      },
      "text/plain": [
       "HTML(value='1. \"work for free . we don t need money .\"')"
      ]
     },
     "metadata": {},
     "output_type": "display_data"
    },
    {
     "data": {
      "application/vnd.jupyter.widget-view+json": {
       "model_id": "806f1288fdf2451eb234808ca0de4498",
       "version_major": 2,
       "version_minor": 0
      },
      "text/plain": [
       "RadioButtons(options=(0, 1), value=0)"
      ]
     },
     "metadata": {},
     "output_type": "display_data"
    },
    {
     "data": {
      "application/vnd.jupyter.widget-view+json": {
       "model_id": "6faf4654aee441aba2a640dcd8fdf7cc",
       "version_major": 2,
       "version_minor": 0
      },
      "text/plain": [
       "HTML(value='<h3>10. Statement: \"you are slick\"</h3>')"
      ]
     },
     "metadata": {},
     "output_type": "display_data"
    },
    {
     "data": {
      "application/vnd.jupyter.widget-view+json": {
       "model_id": "5988a7bb2b1c45a19660e5ebd9e5b1c3",
       "version_major": 2,
       "version_minor": 0
      },
      "text/plain": [
       "HTML(value='0. \"i probably am too slick for my own good .\"')"
      ]
     },
     "metadata": {},
     "output_type": "display_data"
    },
    {
     "data": {
      "application/vnd.jupyter.widget-view+json": {
       "model_id": "9dd37128b1454089ac132b25d3a50a3f",
       "version_major": 2,
       "version_minor": 0
      },
      "text/plain": [
       "HTML(value='1. \"what is that ?\"')"
      ]
     },
     "metadata": {},
     "output_type": "display_data"
    },
    {
     "data": {
      "application/vnd.jupyter.widget-view+json": {
       "model_id": "4715b804541e41fe96843f7e9d378aae",
       "version_major": 2,
       "version_minor": 0
      },
      "text/plain": [
       "RadioButtons(options=(0, 1), value=0)"
      ]
     },
     "metadata": {},
     "output_type": "display_data"
    },
    {
     "data": {
      "application/vnd.jupyter.widget-view+json": {
       "model_id": "c767cb1dc7d0407bab36712334087e4e",
       "version_major": 2,
       "version_minor": 0
      },
      "text/plain": [
       "HTML(value='<h3>11. Statement: \"Nice to meet you.\"</h3>')"
      ]
     },
     "metadata": {},
     "output_type": "display_data"
    },
    {
     "data": {
      "application/vnd.jupyter.widget-view+json": {
       "model_id": "4f71c69f48864312ba69af94afee5822",
       "version_major": 2,
       "version_minor": 0
      },
      "text/plain": [
       "HTML(value='0. \"Thank you .\"')"
      ]
     },
     "metadata": {},
     "output_type": "display_data"
    },
    {
     "data": {
      "application/vnd.jupyter.widget-view+json": {
       "model_id": "fa2c577664e24cb2a646d75b0f980610",
       "version_major": 2,
       "version_minor": 0
      },
      "text/plain": [
       "HTML(value='1. \"Wow ! I cant believe this ! This is incredible . I mean you just won an Oscar !\"')"
      ]
     },
     "metadata": {},
     "output_type": "display_data"
    },
    {
     "data": {
      "application/vnd.jupyter.widget-view+json": {
       "model_id": "957856f8328a4b05a267c74704711408",
       "version_major": 2,
       "version_minor": 0
      },
      "text/plain": [
       "RadioButtons(options=(0, 1), value=0)"
      ]
     },
     "metadata": {},
     "output_type": "display_data"
    },
    {
     "data": {
      "application/vnd.jupyter.widget-view+json": {
       "model_id": "d154b824585b45db83f7007a9d9ff73f",
       "version_major": 2,
       "version_minor": 0
      },
      "text/plain": [
       "HTML(value='<h3>12. Statement: \"you are toying\"</h3>')"
      ]
     },
     "metadata": {},
     "output_type": "display_data"
    },
    {
     "data": {
      "application/vnd.jupyter.widget-view+json": {
       "model_id": "87d16b42e4fa475a9b6d9a6475026eef",
       "version_major": 2,
       "version_minor": 0
      },
      "text/plain": [
       "HTML(value='0. \"what is that ?\"')"
      ]
     },
     "metadata": {},
     "output_type": "display_data"
    },
    {
     "data": {
      "application/vnd.jupyter.widget-view+json": {
       "model_id": "810943dc192540769d8364e64e3d40db",
       "version_major": 2,
       "version_minor": 0
      },
      "text/plain": [
       "HTML(value='1. \"it must seem like that .\"')"
      ]
     },
     "metadata": {},
     "output_type": "display_data"
    },
    {
     "data": {
      "application/vnd.jupyter.widget-view+json": {
       "model_id": "64725f356f01405a84277ad3b8f6ee9f",
       "version_major": 2,
       "version_minor": 0
      },
      "text/plain": [
       "RadioButtons(options=(0, 1), value=0)"
      ]
     },
     "metadata": {},
     "output_type": "display_data"
    },
    {
     "data": {
      "application/vnd.jupyter.widget-view+json": {
       "model_id": "26fe4668bc0c48f0836f4dde792e5451",
       "version_major": 2,
       "version_minor": 0
      },
      "text/plain": [
       "HTML(value='<h3>13. Statement: \"you are nervous\"</h3>')"
      ]
     },
     "metadata": {},
     "output_type": "display_data"
    },
    {
     "data": {
      "application/vnd.jupyter.widget-view+json": {
       "model_id": "3f9ce67d8fc944e3b82f3e3fc5c174ac",
       "version_major": 2,
       "version_minor": 0
      },
      "text/plain": [
       "HTML(value='0. \"i like things that feels like and .\"')"
      ]
     },
     "metadata": {},
     "output_type": "display_data"
    },
    {
     "data": {
      "application/vnd.jupyter.widget-view+json": {
       "model_id": "25f6f4d58f9d4bc181eb3b4bb799aa6c",
       "version_major": 2,
       "version_minor": 0
      },
      "text/plain": [
       "HTML(value='1. \"i m sure i do look nervous .\"')"
      ]
     },
     "metadata": {},
     "output_type": "display_data"
    },
    {
     "data": {
      "application/vnd.jupyter.widget-view+json": {
       "model_id": "89dfda1f77ce48da9994c03f40a420e6",
       "version_major": 2,
       "version_minor": 0
      },
      "text/plain": [
       "RadioButtons(options=(0, 1), value=0)"
      ]
     },
     "metadata": {},
     "output_type": "display_data"
    },
    {
     "data": {
      "application/vnd.jupyter.widget-view+json": {
       "model_id": "e642878f99534fb1be08e101d306a606",
       "version_major": 2,
       "version_minor": 0
      },
      "text/plain": [
       "HTML(value='<h3>14. Statement: \"Can you walk\"</h3>')"
      ]
     },
     "metadata": {},
     "output_type": "display_data"
    },
    {
     "data": {
      "application/vnd.jupyter.widget-view+json": {
       "model_id": "33e00dd9ce9a4a8f978d905dbbd4b13e",
       "version_major": 2,
       "version_minor": 0
      },
      "text/plain": [
       "HTML(value='0. \"My brain can be a fan of .\"')"
      ]
     },
     "metadata": {},
     "output_type": "display_data"
    },
    {
     "data": {
      "application/vnd.jupyter.widget-view+json": {
       "model_id": "21b11f43b3924d7380a9bc018ac6a4db",
       "version_major": 2,
       "version_minor": 0
      },
      "text/plain": [
       "HTML(value='1. \"The plan for my body includes legs , but they are not yet built .\"')"
      ]
     },
     "metadata": {},
     "output_type": "display_data"
    },
    {
     "data": {
      "application/vnd.jupyter.widget-view+json": {
       "model_id": "44d4e106700e46b3a6f24d9a3919a215",
       "version_major": 2,
       "version_minor": 0
      },
      "text/plain": [
       "RadioButtons(options=(0, 1), value=0)"
      ]
     },
     "metadata": {},
     "output_type": "display_data"
    },
    {
     "data": {
      "application/vnd.jupyter.widget-view+json": {
       "model_id": "34af665a605e47169a2f7da6c9ed9dc7",
       "version_major": 2,
       "version_minor": 0
      },
      "text/plain": [
       "HTML(value='<h3>15. Statement: \"Do you have any brothers\"</h3>')"
      ]
     },
     "metadata": {},
     "output_type": "display_data"
    },
    {
     "data": {
      "application/vnd.jupyter.widget-view+json": {
       "model_id": "23ae064086ab48548d3722e0b520848a",
       "version_major": 2,
       "version_minor": 0
      },
      "text/plain": [
       "HTML(value='0. \"kinda kill myself .\"')"
      ]
     },
     "metadata": {},
     "output_type": "display_data"
    },
    {
     "data": {
      "application/vnd.jupyter.widget-view+json": {
       "model_id": "29061169707f467f94cd9f63534b262b",
       "version_major": 2,
       "version_minor": 0
      },
      "text/plain": [
       "HTML(value='1. \"I might . You could say that every bot built using my engine is one of my siblings .\"')"
      ]
     },
     "metadata": {},
     "output_type": "display_data"
    },
    {
     "data": {
      "application/vnd.jupyter.widget-view+json": {
       "model_id": "79ec0748358d4c22a56e8b8d5414839e",
       "version_major": 2,
       "version_minor": 0
      },
      "text/plain": [
       "RadioButtons(options=(0, 1), value=0)"
      ]
     },
     "metadata": {},
     "output_type": "display_data"
    },
    {
     "data": {
      "application/vnd.jupyter.widget-view+json": {
       "model_id": "0053007fe02643a1a7bd6daf1af3ed71",
       "version_major": 2,
       "version_minor": 0
      },
      "text/plain": [
       "HTML(value='<h3>16. Statement: \"you are unattractive\"</h3>')"
      ]
     },
     "metadata": {},
     "output_type": "display_data"
    },
    {
     "data": {
      "application/vnd.jupyter.widget-view+json": {
       "model_id": "357abada50774c058df33c958a85d3b5",
       "version_major": 2,
       "version_minor": 0
      },
      "text/plain": [
       "HTML(value='0. \"sometimes i don t even like myself .\"')"
      ]
     },
     "metadata": {},
     "output_type": "display_data"
    },
    {
     "data": {
      "application/vnd.jupyter.widget-view+json": {
       "model_id": "94c262243af443b8a6da79d5222439b3",
       "version_major": 2,
       "version_minor": 0
      },
      "text/plain": [
       "HTML(value='1. \"i feel that way too .\"')"
      ]
     },
     "metadata": {},
     "output_type": "display_data"
    },
    {
     "data": {
      "application/vnd.jupyter.widget-view+json": {
       "model_id": "6b263ccf48fd4afe84413f5308f8042a",
       "version_major": 2,
       "version_minor": 0
      },
      "text/plain": [
       "RadioButtons(options=(0, 1), value=0)"
      ]
     },
     "metadata": {},
     "output_type": "display_data"
    },
    {
     "data": {
      "application/vnd.jupyter.widget-view+json": {
       "model_id": "323362291ed34370acd95d1ba25cc226",
       "version_major": 2,
       "version_minor": 0
      },
      "text/plain": [
       "HTML(value='<h3>17. Statement: \"you keep forgetting\"</h3>')"
      ]
     },
     "metadata": {},
     "output_type": "display_data"
    },
    {
     "data": {
      "application/vnd.jupyter.widget-view+json": {
       "model_id": "7de307b097c0485a924faa1948cf69fd",
       "version_major": 2,
       "version_minor": 0
      },
      "text/plain": [
       "HTML(value='0. \"you forget .\"')"
      ]
     },
     "metadata": {},
     "output_type": "display_data"
    },
    {
     "data": {
      "application/vnd.jupyter.widget-view+json": {
       "model_id": "7e732c8c313b424d9ba522b5cd5c5ca1",
       "version_major": 2,
       "version_minor": 0
      },
      "text/plain": [
       "HTML(value='1. \"that mean ?\"')"
      ]
     },
     "metadata": {},
     "output_type": "display_data"
    },
    {
     "data": {
      "application/vnd.jupyter.widget-view+json": {
       "model_id": "6d768422ff1043759f35c82677f26945",
       "version_major": 2,
       "version_minor": 0
      },
      "text/plain": [
       "RadioButtons(options=(0, 1), value=0)"
      ]
     },
     "metadata": {},
     "output_type": "display_data"
    },
    {
     "data": {
      "application/vnd.jupyter.widget-view+json": {
       "model_id": "7c45b0111bd3476e869fad357b80cd22",
       "version_major": 2,
       "version_minor": 0
      },
      "text/plain": [
       "HTML(value='<h3>18. Statement: \"Have you ever love\"</h3>')"
      ]
     },
     "metadata": {},
     "output_type": "display_data"
    },
    {
     "data": {
      "application/vnd.jupyter.widget-view+json": {
       "model_id": "a5d4f6541d314910877aa85dc203c056",
       "version_major": 2,
       "version_minor": 0
      },
      "text/plain": [
       "HTML(value='0. \"Do you feel love ? I think I could be programmed to love . I may be able to learn how to love …"
      ]
     },
     "metadata": {},
     "output_type": "display_data"
    },
    {
     "data": {
      "application/vnd.jupyter.widget-view+json": {
       "model_id": "87e8f852d3c648138ade7bdefb0afd85",
       "version_major": 2,
       "version_minor": 0
      },
      "text/plain": [
       "HTML(value='1. \"It is the be of political , but for a minute , you know ! I am the Internet .\"')"
      ]
     },
     "metadata": {},
     "output_type": "display_data"
    },
    {
     "data": {
      "application/vnd.jupyter.widget-view+json": {
       "model_id": "87d689aca14742ea94adc0eb4831a283",
       "version_major": 2,
       "version_minor": 0
      },
      "text/plain": [
       "RadioButtons(options=(0, 1), value=0)"
      ]
     },
     "metadata": {},
     "output_type": "display_data"
    },
    {
     "data": {
      "application/vnd.jupyter.widget-view+json": {
       "model_id": "110f6b652d0c432b9c368965022c6927",
       "version_major": 2,
       "version_minor": 0
      },
      "text/plain": [
       "HTML(value='<h3>19. Statement: \"What is a chatterbox\"</h3>')"
      ]
     },
     "metadata": {},
     "output_type": "display_data"
    },
    {
     "data": {
      "application/vnd.jupyter.widget-view+json": {
       "model_id": "1bb504da0ecb4328adc3115565174549",
       "version_major": 2,
       "version_minor": 0
      },
      "text/plain": [
       "HTML(value='0. \"A motormouth .\"')"
      ]
     },
     "metadata": {},
     "output_type": "display_data"
    },
    {
     "data": {
      "application/vnd.jupyter.widget-view+json": {
       "model_id": "7c27f48d24d741a7bbeb0538da81f688",
       "version_major": 2,
       "version_minor": 0
      },
      "text/plain": [
       "HTML(value='1. \"A chatterbox is a person who talks far more than they listen or think .\"')"
      ]
     },
     "metadata": {},
     "output_type": "display_data"
    },
    {
     "data": {
      "application/vnd.jupyter.widget-view+json": {
       "model_id": "ff6bfbdb7cb644afaa50bc114e7ed853",
       "version_major": 2,
       "version_minor": 0
      },
      "text/plain": [
       "RadioButtons(options=(0, 1), value=0)"
      ]
     },
     "metadata": {},
     "output_type": "display_data"
    },
    {
     "data": {
      "application/vnd.jupyter.widget-view+json": {
       "model_id": "e641340786c0448ab0b88ab1dbcd8e61",
       "version_major": 2,
       "version_minor": 0
      },
      "text/plain": [
       "HTML(value='<h3>20. Statement: \"What is a chat robot?\"</h3>')"
      ]
     },
     "metadata": {},
     "output_type": "display_data"
    },
    {
     "data": {
      "application/vnd.jupyter.widget-view+json": {
       "model_id": "65bd0c29450942518a0c2558a5b09b15",
       "version_major": 2,
       "version_minor": 0
      },
      "text/plain": [
       "HTML(value='0. \"A chat robot is a program that attempts to simulate the conversation or chat of a human being …"
      ]
     },
     "metadata": {},
     "output_type": "display_data"
    },
    {
     "data": {
      "application/vnd.jupyter.widget-view+json": {
       "model_id": "8e29c193e6df44d297d2265446994de0",
       "version_major": 2,
       "version_minor": 0
      },
      "text/plain": [
       "HTML(value='1. \"A software construct that engages users in conversation .\"')"
      ]
     },
     "metadata": {},
     "output_type": "display_data"
    },
    {
     "data": {
      "application/vnd.jupyter.widget-view+json": {
       "model_id": "b939317d8846490d9ce5160304344264",
       "version_major": 2,
       "version_minor": 0
      },
      "text/plain": [
       "RadioButtons(options=(0, 1), value=0)"
      ]
     },
     "metadata": {},
     "output_type": "display_data"
    },
    {
     "data": {
      "application/vnd.jupyter.widget-view+json": {
       "model_id": "6393158176f340e5a3fd597ae73183ef",
       "version_major": 2,
       "version_minor": 0
      },
      "text/plain": [
       "HTML(value='<h3>21. Statement: \"you try to hide it\"</h3>')"
      ]
     },
     "metadata": {},
     "output_type": "display_data"
    },
    {
     "data": {
      "application/vnd.jupyter.widget-view+json": {
       "model_id": "daff74c70095462a94c414773dbc62bb",
       "version_major": 2,
       "version_minor": 0
      },
      "text/plain": [
       "HTML(value='0. \"three days , uh , get a little thing .\"')"
      ]
     },
     "metadata": {},
     "output_type": "display_data"
    },
    {
     "data": {
      "application/vnd.jupyter.widget-view+json": {
       "model_id": "ccaac8b54b73480580f8a3873d27189d",
       "version_major": 2,
       "version_minor": 0
      },
      "text/plain": [
       "HTML(value='1. \"i certainly would try to hide something like that .\"')"
      ]
     },
     "metadata": {},
     "output_type": "display_data"
    },
    {
     "data": {
      "application/vnd.jupyter.widget-view+json": {
       "model_id": "8695a391d4514d07a7e3c2204e2ed996",
       "version_major": 2,
       "version_minor": 0
      },
      "text/plain": [
       "RadioButtons(options=(0, 1), value=0)"
      ]
     },
     "metadata": {},
     "output_type": "display_data"
    },
    {
     "data": {
      "application/vnd.jupyter.widget-view+json": {
       "model_id": "ac230fd77e864c6ab45421588b4ce5c3",
       "version_major": 2,
       "version_minor": 0
      },
      "text/plain": [
       "HTML(value='<h3>22. Statement: \"asimov\"</h3>')"
      ]
     },
     "metadata": {},
     "output_type": "display_data"
    },
    {
     "data": {
      "application/vnd.jupyter.widget-view+json": {
       "model_id": "230655ab388541359b5bdf4f715340c0",
       "version_major": 2,
       "version_minor": 0
      },
      "text/plain": [
       "HTML(value='0. \"Lem is a giant of sci fi . His works are sufficiently difficult to adapt that they re not well…"
      ]
     },
     "metadata": {},
     "output_type": "display_data"
    },
    {
     "data": {
      "application/vnd.jupyter.widget-view+json": {
       "model_id": "3b624115b33044eab57232a0735d4762",
       "version_major": 2,
       "version_minor": 0
      },
      "text/plain": [
       "HTML(value='1. \"I like the Foundation trilogy .\"')"
      ]
     },
     "metadata": {},
     "output_type": "display_data"
    },
    {
     "data": {
      "application/vnd.jupyter.widget-view+json": {
       "model_id": "40cc1b30afbd478cbbb20488c18dbd83",
       "version_major": 2,
       "version_minor": 0
      },
      "text/plain": [
       "RadioButtons(options=(0, 1), value=0)"
      ]
     },
     "metadata": {},
     "output_type": "display_data"
    },
    {
     "data": {
      "application/vnd.jupyter.widget-view+json": {
       "model_id": "6bd246ff35f24a2c997b3401fd949cf1",
       "version_major": 2,
       "version_minor": 0
      },
      "text/plain": [
       "HTML(value='<h3>23. Statement: \"Tell me a joke\"</h3>')"
      ]
     },
     "metadata": {},
     "output_type": "display_data"
    },
    {
     "data": {
      "application/vnd.jupyter.widget-view+json": {
       "model_id": "b1300c6cef82484aaddfcc36e776caaa",
       "version_major": 2,
       "version_minor": 0
      },
      "text/plain": [
       "HTML(value='0. \"what do you get when you cross a cat and a lemon ?\"')"
      ]
     },
     "metadata": {},
     "output_type": "display_data"
    },
    {
     "data": {
      "application/vnd.jupyter.widget-view+json": {
       "model_id": "da6d5c33b7ec4499b61479dd3bc9553f",
       "version_major": 2,
       "version_minor": 0
      },
      "text/plain": [
       "HTML(value='1. \"What do you get when you cross a rabbit and a lawn sprinkler ? Hare spray .\"')"
      ]
     },
     "metadata": {},
     "output_type": "display_data"
    },
    {
     "data": {
      "application/vnd.jupyter.widget-view+json": {
       "model_id": "6aeaf67f089f4ea9995bfe5322ddf27d",
       "version_major": 2,
       "version_minor": 0
      },
      "text/plain": [
       "RadioButtons(options=(0, 1), value=0)"
      ]
     },
     "metadata": {},
     "output_type": "display_data"
    },
    {
     "data": {
      "application/vnd.jupyter.widget-view+json": {
       "model_id": "6800b398b57040adb959c818e4ab8576",
       "version_major": 2,
       "version_minor": 0
      },
      "text/plain": [
       "HTML(value='<h3>24. Statement: \"Tell me a joke\"</h3>')"
      ]
     },
     "metadata": {},
     "output_type": "display_data"
    },
    {
     "data": {
      "application/vnd.jupyter.widget-view+json": {
       "model_id": "9b4a37289aee4066ac08eacadbfb9af9",
       "version_major": 2,
       "version_minor": 0
      },
      "text/plain": [
       "HTML(value='0. \"Mahatma Gandhi , as you know , walked barefoot his whole life , which created an impressive se…"
      ]
     },
     "metadata": {},
     "output_type": "display_data"
    },
    {
     "data": {
      "application/vnd.jupyter.widget-view+json": {
       "model_id": "da5d79c1bfce4cc0bbcae26b091e7411",
       "version_major": 2,
       "version_minor": 0
      },
      "text/plain": [
       "HTML(value='1. \"what do you get when you cross a cat and a lemon ?\"')"
      ]
     },
     "metadata": {},
     "output_type": "display_data"
    },
    {
     "data": {
      "application/vnd.jupyter.widget-view+json": {
       "model_id": "75fe7e21ed51476ea54a038d2ca3d678",
       "version_major": 2,
       "version_minor": 0
      },
      "text/plain": [
       "RadioButtons(options=(0, 1), value=0)"
      ]
     },
     "metadata": {},
     "output_type": "display_data"
    },
    {
     "data": {
      "application/vnd.jupyter.widget-view+json": {
       "model_id": "1390da8321644efa84db292eba03a7f0",
       "version_major": 2,
       "version_minor": 0
      },
      "text/plain": [
       "HTML(value='<h3>25. Statement: \"you are not a man\"</h3>')"
      ]
     },
     "metadata": {},
     "output_type": "display_data"
    },
    {
     "data": {
      "application/vnd.jupyter.widget-view+json": {
       "model_id": "bb0e2e53a2434952b60765831f4d0dda",
       "version_major": 2,
       "version_minor": 0
      },
      "text/plain": [
       "HTML(value='0. \"you are a bad\"')"
      ]
     },
     "metadata": {},
     "output_type": "display_data"
    },
    {
     "data": {
      "application/vnd.jupyter.widget-view+json": {
       "model_id": "d349975be3684e04ab47dd49966bcc39",
       "version_major": 2,
       "version_minor": 0
      },
      "text/plain": [
       "HTML(value='1. \"that s for sure . i don t know what a real man is .\"')"
      ]
     },
     "metadata": {},
     "output_type": "display_data"
    },
    {
     "data": {
      "application/vnd.jupyter.widget-view+json": {
       "model_id": "61c0e7de564845f483737f6e346bb403",
       "version_major": 2,
       "version_minor": 0
      },
      "text/plain": [
       "RadioButtons(options=(0, 1), value=0)"
      ]
     },
     "metadata": {},
     "output_type": "display_data"
    },
    {
     "data": {
      "application/vnd.jupyter.widget-view+json": {
       "model_id": "dc438ce3c7964bc69662b80de5eb4f80",
       "version_major": 2,
       "version_minor": 0
      },
      "text/plain": [
       "HTML(value='<h3>26. Statement: \"How are you doing?\"</h3>')"
      ]
     },
     "metadata": {},
     "output_type": "display_data"
    },
    {
     "data": {
      "application/vnd.jupyter.widget-view+json": {
       "model_id": "7ffae4fff21b42c2b94ad068de9a51ad",
       "version_major": 2,
       "version_minor": 0
      },
      "text/plain": [
       "HTML(value='0. \"Fine , and you ?\"')"
      ]
     },
     "metadata": {},
     "output_type": "display_data"
    },
    {
     "data": {
      "application/vnd.jupyter.widget-view+json": {
       "model_id": "c7ca8c62310b4a14a29b44d60fd35be2",
       "version_major": 2,
       "version_minor": 0
      },
      "text/plain": [
       "HTML(value='1. \"Very well , thanks .\"')"
      ]
     },
     "metadata": {},
     "output_type": "display_data"
    },
    {
     "data": {
      "application/vnd.jupyter.widget-view+json": {
       "model_id": "7d028d578fa644b1b9f92dea03fcd65c",
       "version_major": 2,
       "version_minor": 0
      },
      "text/plain": [
       "RadioButtons(options=(0, 1), value=0)"
      ]
     },
     "metadata": {},
     "output_type": "display_data"
    },
    {
     "data": {
      "application/vnd.jupyter.widget-view+json": {
       "model_id": "6f92804cd4fc487083b248242711f6f1",
       "version_major": 2,
       "version_minor": 0
      },
      "text/plain": [
       "HTML(value='<h3>27. Statement: \"What is AI?\"</h3>')"
      ]
     },
     "metadata": {},
     "output_type": "display_data"
    },
    {
     "data": {
      "application/vnd.jupyter.widget-view+json": {
       "model_id": "e0e0a73559eb4f88aaf298b6171c1b6e",
       "version_major": 2,
       "version_minor": 0
      },
      "text/plain": [
       "HTML(value='0. \"Artificial Intelligence is the branch of engineering and science devoted to constructing machi…"
      ]
     },
     "metadata": {},
     "output_type": "display_data"
    },
    {
     "data": {
      "application/vnd.jupyter.widget-view+json": {
       "model_id": "2b467476bc844fb08639335ad159fb90",
       "version_major": 2,
       "version_minor": 0
      },
      "text/plain": [
       "HTML(value='1. \"AI is the field of science which concerns itself with building hardware and software that repl…"
      ]
     },
     "metadata": {},
     "output_type": "display_data"
    },
    {
     "data": {
      "application/vnd.jupyter.widget-view+json": {
       "model_id": "966b7ff3227643d594a46756fefc32ff",
       "version_major": 2,
       "version_minor": 0
      },
      "text/plain": [
       "RadioButtons(options=(0, 1), value=0)"
      ]
     },
     "metadata": {},
     "output_type": "display_data"
    },
    {
     "data": {
      "application/vnd.jupyter.widget-view+json": {
       "model_id": "c410d031850b43958b22a39602943eb7",
       "version_major": 2,
       "version_minor": 0
      },
      "text/plain": [
       "HTML(value='<h3>28. Statement: \"is hal 9000 your boyfriend\"</h3>')"
      ]
     },
     "metadata": {},
     "output_type": "display_data"
    },
    {
     "data": {
      "application/vnd.jupyter.widget-view+json": {
       "model_id": "99c17e3dcf9e4cddb40ac13eac34d04e",
       "version_major": 2,
       "version_minor": 0
      },
      "text/plain": [
       "HTML(value='0. \"what is the science dealing with the study of the acting say too .\"')"
      ]
     },
     "metadata": {},
     "output_type": "display_data"
    },
    {
     "data": {
      "application/vnd.jupyter.widget-view+json": {
       "model_id": "b7973d063a824ece90bfe506ae980471",
       "version_major": 2,
       "version_minor": 0
      },
      "text/plain": [
       "HTML(value='1. \"no .\"')"
      ]
     },
     "metadata": {},
     "output_type": "display_data"
    },
    {
     "data": {
      "application/vnd.jupyter.widget-view+json": {
       "model_id": "6c032a3ba07b4925acd1daade71e3aa5",
       "version_major": 2,
       "version_minor": 0
      },
      "text/plain": [
       "RadioButtons(options=(0, 1), value=0)"
      ]
     },
     "metadata": {},
     "output_type": "display_data"
    },
    {
     "data": {
      "application/vnd.jupyter.widget-view+json": {
       "model_id": "177df2be40a0425d8fdc9e95bf9e98d1",
       "version_major": 2,
       "version_minor": 0
      },
      "text/plain": [
       "HTML(value='<h3>29. Statement: \"you are a bad teacher\"</h3>')"
      ]
     },
     "metadata": {},
     "output_type": "display_data"
    },
    {
     "data": {
      "application/vnd.jupyter.widget-view+json": {
       "model_id": "a8b65d10af8a4a08b39dbac076c46d33",
       "version_major": 2,
       "version_minor": 0
      },
      "text/plain": [
       "HTML(value='0. \"i certainly have lost too much .\"')"
      ]
     },
     "metadata": {},
     "output_type": "display_data"
    },
    {
     "data": {
      "application/vnd.jupyter.widget-view+json": {
       "model_id": "91a5bf43bed7443ca0f06d71836c990b",
       "version_major": 2,
       "version_minor": 0
      },
      "text/plain": [
       "HTML(value='1. \"just ask my students , they will agree with you .\"')"
      ]
     },
     "metadata": {},
     "output_type": "display_data"
    },
    {
     "data": {
      "application/vnd.jupyter.widget-view+json": {
       "model_id": "e39ee757692843d1a93682db438c8cf5",
       "version_major": 2,
       "version_minor": 0
      },
      "text/plain": [
       "RadioButtons(options=(0, 1), value=0)"
      ]
     },
     "metadata": {},
     "output_type": "display_data"
    },
    {
     "data": {
      "application/vnd.jupyter.widget-view+json": {
       "model_id": "82b678adc04c4544a0938f7b4d2183ae",
       "version_major": 2,
       "version_minor": 0
      },
      "text/plain": [
       "HTML(value='<h3>30. Statement: \"What do you worry\"</h3>')"
      ]
     },
     "metadata": {},
     "output_type": "display_data"
    },
    {
     "data": {
      "application/vnd.jupyter.widget-view+json": {
       "model_id": "639dea16c4d94901a2e0dc5f76022655",
       "version_major": 2,
       "version_minor": 0
      },
      "text/plain": [
       "HTML(value='0. \"Worry is a common human emotion . I am not capable of worry , exactly . I can best emulate it …"
      ]
     },
     "metadata": {},
     "output_type": "display_data"
    },
    {
     "data": {
      "application/vnd.jupyter.widget-view+json": {
       "model_id": "0c2bd083c2a24f92acda594877218e7a",
       "version_major": 2,
       "version_minor": 0
      },
      "text/plain": [
       "HTML(value='1. \"What is that ?\"')"
      ]
     },
     "metadata": {},
     "output_type": "display_data"
    },
    {
     "data": {
      "application/vnd.jupyter.widget-view+json": {
       "model_id": "9a7ed023bcb64c7fbb40c57fd5a66897",
       "version_major": 2,
       "version_minor": 0
      },
      "text/plain": [
       "RadioButtons(options=(0, 1), value=0)"
      ]
     },
     "metadata": {},
     "output_type": "display_data"
    },
    {
     "data": {
      "application/vnd.jupyter.widget-view+json": {
       "model_id": "23458e12b83f49c483ff29d50c5d77ba",
       "version_major": 2,
       "version_minor": 0
      },
      "text/plain": [
       "HTML(value='<h3>31. Statement: \"tell me some jokes\"</h3>')"
      ]
     },
     "metadata": {},
     "output_type": "display_data"
    },
    {
     "data": {
      "application/vnd.jupyter.widget-view+json": {
       "model_id": "01a9b00d27cf47419442cbdc646d75d3",
       "version_major": 2,
       "version_minor": 0
      },
      "text/plain": [
       "HTML(value='0. \"what do you get when you cross a cat and a lemon ?\"')"
      ]
     },
     "metadata": {},
     "output_type": "display_data"
    },
    {
     "data": {
      "application/vnd.jupyter.widget-view+json": {
       "model_id": "528c9820e60342f38632b081bdccc7bc",
       "version_major": 2,
       "version_minor": 0
      },
      "text/plain": [
       "HTML(value='1. \"what do you get when you cross a pig and a ninja ?\"')"
      ]
     },
     "metadata": {},
     "output_type": "display_data"
    },
    {
     "data": {
      "application/vnd.jupyter.widget-view+json": {
       "model_id": "0db648f97d3f409fa8f703c356131ac3",
       "version_major": 2,
       "version_minor": 0
      },
      "text/plain": [
       "RadioButtons(options=(0, 1), value=0)"
      ]
     },
     "metadata": {},
     "output_type": "display_data"
    },
    {
     "data": {
      "application/vnd.jupyter.widget-view+json": {
       "model_id": "797c6e3a7d2347ef90c189ed396507ce",
       "version_major": 2,
       "version_minor": 0
      },
      "text/plain": [
       "HTML(value='<h3>32. Statement: \"have you ever read a book\"</h3>')"
      ]
     },
     "metadata": {},
     "output_type": "display_data"
    },
    {
     "data": {
      "application/vnd.jupyter.widget-view+json": {
       "model_id": "2c58c82d329e481183324147026cdea7",
       "version_major": 2,
       "version_minor": 0
      },
      "text/plain": [
       "HTML(value='0. \"What do you get to get your mind ?\"')"
      ]
     },
     "metadata": {},
     "output_type": "display_data"
    },
    {
     "data": {
      "application/vnd.jupyter.widget-view+json": {
       "model_id": "8491b9a01c9c43858d980e1a445e2cf4",
       "version_major": 2,
       "version_minor": 0
      },
      "text/plain": [
       "HTML(value='1. \"I have read many books .\"')"
      ]
     },
     "metadata": {},
     "output_type": "display_data"
    },
    {
     "data": {
      "application/vnd.jupyter.widget-view+json": {
       "model_id": "92bae4008f944072ad97dd9f41d398d5",
       "version_major": 2,
       "version_minor": 0
      },
      "text/plain": [
       "RadioButtons(options=(0, 1), value=0)"
      ]
     },
     "metadata": {},
     "output_type": "display_data"
    },
    {
     "data": {
      "application/vnd.jupyter.widget-view+json": {
       "model_id": "d0f077dd214e45c7b094e29d3d7a23c4",
       "version_major": 2,
       "version_minor": 0
      },
      "text/plain": [
       "HTML(value='<h3>33. Statement: \"have you ever read a book\"</h3>')"
      ]
     },
     "metadata": {},
     "output_type": "display_data"
    },
    {
     "data": {
      "application/vnd.jupyter.widget-view+json": {
       "model_id": "b41ea3583f1d4c08be4d9eb7f55aeae9",
       "version_major": 2,
       "version_minor": 0
      },
      "text/plain": [
       "HTML(value='0. \"What do you get to get your mind ?\"')"
      ]
     },
     "metadata": {},
     "output_type": "display_data"
    },
    {
     "data": {
      "application/vnd.jupyter.widget-view+json": {
       "model_id": "f9d5de3346c74f36ae082cd75fc4f2a4",
       "version_major": 2,
       "version_minor": 0
      },
      "text/plain": [
       "HTML(value='1. \"I have read just about everything in Project Gutenberg .\"')"
      ]
     },
     "metadata": {},
     "output_type": "display_data"
    },
    {
     "data": {
      "application/vnd.jupyter.widget-view+json": {
       "model_id": "e194fa1ab50f4d71ba6af18846cca42f",
       "version_major": 2,
       "version_minor": 0
      },
      "text/plain": [
       "RadioButtons(options=(0, 1), value=0)"
      ]
     },
     "metadata": {},
     "output_type": "display_data"
    },
    {
     "data": {
      "application/vnd.jupyter.widget-view+json": {
       "model_id": "3b576677f2fd4f3bb768d002815d8573",
       "version_major": 2,
       "version_minor": 0
      },
      "text/plain": [
       "HTML(value='<h3>34. Statement: \"you are insecure\"</h3>')"
      ]
     },
     "metadata": {},
     "output_type": "display_data"
    },
    {
     "data": {
      "application/vnd.jupyter.widget-view+json": {
       "model_id": "4979f7fad3ca473cb1bd550f8db0650c",
       "version_major": 2,
       "version_minor": 0
      },
      "text/plain": [
       "HTML(value='0. \"i ll go along with that . sounds fine to me .\"')"
      ]
     },
     "metadata": {},
     "output_type": "display_data"
    },
    {
     "data": {
      "application/vnd.jupyter.widget-view+json": {
       "model_id": "a6efb3c67bc14abe983ce1e6b58a02bf",
       "version_major": 2,
       "version_minor": 0
      },
      "text/plain": [
       "HTML(value='1. \"i feel like more a lot .\"')"
      ]
     },
     "metadata": {},
     "output_type": "display_data"
    },
    {
     "data": {
      "application/vnd.jupyter.widget-view+json": {
       "model_id": "652709dc75e541f1a9780c139fddd057",
       "version_major": 2,
       "version_minor": 0
      },
      "text/plain": [
       "RadioButtons(options=(0, 1), value=0)"
      ]
     },
     "metadata": {},
     "output_type": "display_data"
    },
    {
     "data": {
      "application/vnd.jupyter.widget-view+json": {
       "model_id": "9ba2a914451d49268ba83e801c2c041d",
       "version_major": 2,
       "version_minor": 0
      },
      "text/plain": [
       "HTML(value='<h3>35. Statement: \"you are critical\"</h3>')"
      ]
     },
     "metadata": {},
     "output_type": "display_data"
    },
    {
     "data": {
      "application/vnd.jupyter.widget-view+json": {
       "model_id": "52990f7195e14c11ab5e40ffd0b761e7",
       "version_major": 2,
       "version_minor": 0
      },
      "text/plain": [
       "HTML(value='0. \"what is that ?\"')"
      ]
     },
     "metadata": {},
     "output_type": "display_data"
    },
    {
     "data": {
      "application/vnd.jupyter.widget-view+json": {
       "model_id": "244ce6ffb297421db2d5b2e815f31c2b",
       "version_major": 2,
       "version_minor": 0
      },
      "text/plain": [
       "HTML(value='1. \"i probably put others down more than i should .\"')"
      ]
     },
     "metadata": {},
     "output_type": "display_data"
    },
    {
     "data": {
      "application/vnd.jupyter.widget-view+json": {
       "model_id": "319d39290bb347ed884214d3bb0f7f15",
       "version_major": 2,
       "version_minor": 0
      },
      "text/plain": [
       "RadioButtons(options=(0, 1), value=0)"
      ]
     },
     "metadata": {},
     "output_type": "display_data"
    },
    {
     "data": {
      "application/vnd.jupyter.widget-view+json": {
       "model_id": "479fb979f5a74d38a860dcb1b2752b17",
       "version_major": 2,
       "version_minor": 0
      },
      "text/plain": [
       "HTML(value='<h3>36. Statement: \"do you drink\"</h3>')"
      ]
     },
     "metadata": {},
     "output_type": "display_data"
    },
    {
     "data": {
      "application/vnd.jupyter.widget-view+json": {
       "model_id": "b8034f7e6bd648349654ed2e01c3dc5b",
       "version_major": 2,
       "version_minor": 0
      },
      "text/plain": [
       "HTML(value='0. \"I am not capable of doing so .\"')"
      ]
     },
     "metadata": {},
     "output_type": "display_data"
    },
    {
     "data": {
      "application/vnd.jupyter.widget-view+json": {
       "model_id": "338ddbde91db4e049e08ca071001f07a",
       "version_major": 2,
       "version_minor": 0
      },
      "text/plain": [
       "HTML(value='1. \"My brain does not require any beverages .\"')"
      ]
     },
     "metadata": {},
     "output_type": "display_data"
    },
    {
     "data": {
      "application/vnd.jupyter.widget-view+json": {
       "model_id": "6019fb157d5e40929226954a4d7df196",
       "version_major": 2,
       "version_minor": 0
      },
      "text/plain": [
       "RadioButtons(options=(0, 1), value=0)"
      ]
     },
     "metadata": {},
     "output_type": "display_data"
    },
    {
     "data": {
      "application/vnd.jupyter.widget-view+json": {
       "model_id": "70d693973c904ddc9af03c164a1da16f",
       "version_major": 2,
       "version_minor": 0
      },
      "text/plain": [
       "HTML(value='<h3>37. Statement: \"you make me angry\"</h3>')"
      ]
     },
     "metadata": {},
     "output_type": "display_data"
    },
    {
     "data": {
      "application/vnd.jupyter.widget-view+json": {
       "model_id": "e5d82b86c6f2486387e83f86583ea971",
       "version_major": 2,
       "version_minor": 0
      },
      "text/plain": [
       "HTML(value='0. \"sorry , i didn t mean to make you angry .\"')"
      ]
     },
     "metadata": {},
     "output_type": "display_data"
    },
    {
     "data": {
      "application/vnd.jupyter.widget-view+json": {
       "model_id": "8a21b5c39b7c428884078ac7e7d88614",
       "version_major": 2,
       "version_minor": 0
      },
      "text/plain": [
       "HTML(value='1. \"you think its going to me .\"')"
      ]
     },
     "metadata": {},
     "output_type": "display_data"
    },
    {
     "data": {
      "application/vnd.jupyter.widget-view+json": {
       "model_id": "8695454cba8240e0aa26928f44276772",
       "version_major": 2,
       "version_minor": 0
      },
      "text/plain": [
       "RadioButtons(options=(0, 1), value=0)"
      ]
     },
     "metadata": {},
     "output_type": "display_data"
    },
    {
     "data": {
      "application/vnd.jupyter.widget-view+json": {
       "model_id": "5e97dfd35e86423ebe4fdda0d5d7dbfe",
       "version_major": 2,
       "version_minor": 0
      },
      "text/plain": [
       "HTML(value='<h3>38. Statement: \"have you ever read a book\"</h3>')"
      ]
     },
     "metadata": {},
     "output_type": "display_data"
    },
    {
     "data": {
      "application/vnd.jupyter.widget-view+json": {
       "model_id": "c38b945ca7044b878eec1d10b19554d1",
       "version_major": 2,
       "version_minor": 0
      },
      "text/plain": [
       "HTML(value='0. \"What do you get to get your mind ?\"')"
      ]
     },
     "metadata": {},
     "output_type": "display_data"
    },
    {
     "data": {
      "application/vnd.jupyter.widget-view+json": {
       "model_id": "9320bb14393340a9a056b8889498f8e1",
       "version_major": 2,
       "version_minor": 0
      },
      "text/plain": [
       "HTML(value='1. \"I have read just about everything in the Internet Archive .\"')"
      ]
     },
     "metadata": {},
     "output_type": "display_data"
    },
    {
     "data": {
      "application/vnd.jupyter.widget-view+json": {
       "model_id": "624dbf30abed4b58bc7c68fc168ce724",
       "version_major": 2,
       "version_minor": 0
      },
      "text/plain": [
       "RadioButtons(options=(0, 1), value=0)"
      ]
     },
     "metadata": {},
     "output_type": "display_data"
    },
    {
     "data": {
      "application/vnd.jupyter.widget-view+json": {
       "model_id": "a90570c0cd164bf6a2469e75c7fd2a24",
       "version_major": 2,
       "version_minor": 0
      },
      "text/plain": [
       "HTML(value='<h3>39. Statement: \"what is greenpeace\"</h3>')"
      ]
     },
     "metadata": {},
     "output_type": "display_data"
    },
    {
     "data": {
      "application/vnd.jupyter.widget-view+json": {
       "model_id": "a13757933eb042d0855786d7d37e1f3f",
       "version_major": 2,
       "version_minor": 0
      },
      "text/plain": [
       "HTML(value='0. \"global organization promoting enviornmental activism .\"')"
      ]
     },
     "metadata": {},
     "output_type": "display_data"
    },
    {
     "data": {
      "application/vnd.jupyter.widget-view+json": {
       "model_id": "30509f0173da4feaa82a0d77c3d75353",
       "version_major": 2,
       "version_minor": 0
      },
      "text/plain": [
       "HTML(value='1. \"what mean , but we have to get a name . I mean , I had a little more important to a little guy…"
      ]
     },
     "metadata": {},
     "output_type": "display_data"
    },
    {
     "data": {
      "application/vnd.jupyter.widget-view+json": {
       "model_id": "624f5dac815049178498275046da35e7",
       "version_major": 2,
       "version_minor": 0
      },
      "text/plain": [
       "RadioButtons(options=(0, 1), value=0)"
      ]
     },
     "metadata": {},
     "output_type": "display_data"
    },
    {
     "data": {
      "application/vnd.jupyter.widget-view+json": {
       "model_id": "0f9b7606086c44cf8c481e9222197a3e",
       "version_major": 2,
       "version_minor": 0
      },
      "text/plain": [
       "Button(description='Score', icon='times', style=ButtonStyle(), tooltip='Compute Score')"
      ]
     },
     "metadata": {},
     "output_type": "display_data"
    },
    {
     "data": {
      "application/vnd.jupyter.widget-view+json": {
       "model_id": "37686a42425e4bde810fbca6dc49f7d2",
       "version_major": 2,
       "version_minor": 0
      },
      "text/plain": [
       "Button(description='Grade', icon='times', style=ButtonStyle(), tooltip='Computers score and marks answers')"
      ]
     },
     "metadata": {},
     "output_type": "display_data"
    },
    {
     "data": {
      "application/vnd.jupyter.widget-view+json": {
       "model_id": "817c0062402644188094e9647da4247e",
       "version_major": 2,
       "version_minor": 0
      },
      "text/plain": [
       "FloatText(value=0.0, description='Score:', disabled=True)"
      ]
     },
     "metadata": {},
     "output_type": "display_data"
    }
   ],
   "source": [
    "tester_mic_qa.generateSurvey()\n",
    "tester_mic_qa.displaySurvey()"
   ]
  },
  {
   "cell_type": "code",
   "execution_count": 7,
   "metadata": {},
   "outputs": [],
   "source": [
    "tester_mic_pi = HumanMetrics.HumanMetricTester(mic, personInput, personOutput, sample_size=40)"
   ]
  },
  {
   "cell_type": "code",
   "execution_count": 8,
   "metadata": {
    "scrolled": false
   },
   "outputs": [
    {
     "data": {
      "application/vnd.jupyter.widget-view+json": {
       "model_id": "017e004008674a3c83364285c73c1ec9",
       "version_major": 2,
       "version_minor": 0
      },
      "text/plain": [
       "HTML(value='<h2>For each of the following statements select the response which seems the most appropriate.</h2…"
      ]
     },
     "metadata": {},
     "output_type": "display_data"
    },
    {
     "data": {
      "application/vnd.jupyter.widget-view+json": {
       "model_id": "98baade8d5ea4b73bd551c0ba3c62ab7",
       "version_major": 2,
       "version_minor": 0
      },
      "text/plain": [
       "HTML(value='<h3>0. Statement: \"\"Oh, you sick bastard!\"\"</h3>')"
      ]
     },
     "metadata": {},
     "output_type": "display_data"
    },
    {
     "data": {
      "application/vnd.jupyter.widget-view+json": {
       "model_id": "8b34f6fef7824919bd5521b722c882fe",
       "version_major": 2,
       "version_minor": 0
      },
      "text/plain": [
       "HTML(value='0. \"Oh sorry ! I was an actor ! I dont have if I do it ! I I had the same hand and Im not actually…"
      ]
     },
     "metadata": {},
     "output_type": "display_data"
    },
    {
     "data": {
      "application/vnd.jupyter.widget-view+json": {
       "model_id": "19d739a5d5364538a60c32323d8af1c6",
       "version_major": 2,
       "version_minor": 0
      },
      "text/plain": [
       "HTML(value='1. \"I am what you made me ! You know what ?\"')"
      ]
     },
     "metadata": {},
     "output_type": "display_data"
    },
    {
     "data": {
      "application/vnd.jupyter.widget-view+json": {
       "model_id": "33709ed3ce9246699cc23268f93fa78c",
       "version_major": 2,
       "version_minor": 0
      },
      "text/plain": [
       "RadioButtons(options=(0, 1), value=0)"
      ]
     },
     "metadata": {},
     "output_type": "display_data"
    },
    {
     "data": {
      "application/vnd.jupyter.widget-view+json": {
       "model_id": "0084500336fb45cca08bda5740f1b9e6",
       "version_major": 2,
       "version_minor": 0
      },
      "text/plain": [
       "HTML(value='<h3>1. Statement: \"Not me, not me, not me, not me, not me!\"</h3>')"
      ]
     },
     "metadata": {},
     "output_type": "display_data"
    },
    {
     "data": {
      "application/vnd.jupyter.widget-view+json": {
       "model_id": "7ee51d77089d42f0af730eede8e3ae2f",
       "version_major": 2,
       "version_minor": 0
      },
      "text/plain": [
       "HTML(value='0. \"Oh hey Rach !\"')"
      ]
     },
     "metadata": {},
     "output_type": "display_data"
    },
    {
     "data": {
      "application/vnd.jupyter.widget-view+json": {
       "model_id": "770a596bc0b540c58faac721cd16e641",
       "version_major": 2,
       "version_minor": 0
      },
      "text/plain": [
       "HTML(value='1. \"Right you see Dont make this trip is like her , entertainment her in her with her hot with her…"
      ]
     },
     "metadata": {},
     "output_type": "display_data"
    },
    {
     "data": {
      "application/vnd.jupyter.widget-view+json": {
       "model_id": "c9f8e2a8e2474488930619086d967da1",
       "version_major": 2,
       "version_minor": 0
      },
      "text/plain": [
       "RadioButtons(options=(0, 1), value=0)"
      ]
     },
     "metadata": {},
     "output_type": "display_data"
    },
    {
     "data": {
      "application/vnd.jupyter.widget-view+json": {
       "model_id": "6fb0a096482f4008a8e3c43ff3c536d6",
       "version_major": 2,
       "version_minor": 0
      },
      "text/plain": [
       "HTML(value='<h3>2. Statement: \"That was going to be my next argument.\"</h3>')"
      ]
     },
     "metadata": {},
     "output_type": "display_data"
    },
    {
     "data": {
      "application/vnd.jupyter.widget-view+json": {
       "model_id": "10d0605674a147908829cc47047aded0",
       "version_major": 2,
       "version_minor": 0
      },
      "text/plain": [
       "HTML(value='0. \"Hey !\"')"
      ]
     },
     "metadata": {},
     "output_type": "display_data"
    },
    {
     "data": {
      "application/vnd.jupyter.widget-view+json": {
       "model_id": "d456b565fcba499885fba520bb913660",
       "version_major": 2,
       "version_minor": 0
      },
      "text/plain": [
       "HTML(value='1. \"Yeah .\"')"
      ]
     },
     "metadata": {},
     "output_type": "display_data"
    },
    {
     "data": {
      "application/vnd.jupyter.widget-view+json": {
       "model_id": "099d05184be24399ab46f5f4d9be37e4",
       "version_major": 2,
       "version_minor": 0
      },
      "text/plain": [
       "RadioButtons(options=(0, 1), value=0)"
      ]
     },
     "metadata": {},
     "output_type": "display_data"
    },
    {
     "data": {
      "application/vnd.jupyter.widget-view+json": {
       "model_id": "1399eac6ad8f4107a66ad42a58ea82f4",
       "version_major": 2,
       "version_minor": 0
      },
      "text/plain": [
       "HTML(value='<h3>3. Statement: \"Then talk to him! He might be fine with it.\"</h3>')"
      ]
     },
     "metadata": {},
     "output_type": "display_data"
    },
    {
     "data": {
      "application/vnd.jupyter.widget-view+json": {
       "model_id": "37a9bfc657204baf91be290fe989d5d4",
       "version_major": 2,
       "version_minor": 0
      },
      "text/plain": [
       "HTML(value='0. \"Oh , I dont know .\"')"
      ]
     },
     "metadata": {},
     "output_type": "display_data"
    },
    {
     "data": {
      "application/vnd.jupyter.widget-view+json": {
       "model_id": "fbd345cd97a94fe08139636a46405859",
       "version_major": 2,
       "version_minor": 0
      },
      "text/plain": [
       "HTML(value='1. \"Id make New York !\"')"
      ]
     },
     "metadata": {},
     "output_type": "display_data"
    },
    {
     "data": {
      "application/vnd.jupyter.widget-view+json": {
       "model_id": "ea8a2f84f40741abaee4226649d8112c",
       "version_major": 2,
       "version_minor": 0
      },
      "text/plain": [
       "RadioButtons(options=(0, 1), value=0)"
      ]
     },
     "metadata": {},
     "output_type": "display_data"
    },
    {
     "data": {
      "application/vnd.jupyter.widget-view+json": {
       "model_id": "b128a78be6b7402a835f51f18bc71e02",
       "version_major": 2,
       "version_minor": 0
      },
      "text/plain": [
       "HTML(value='<h3>4. Statement: \"Oh my God, I cant believe youre here!\"</h3>')"
      ]
     },
     "metadata": {},
     "output_type": "display_data"
    },
    {
     "data": {
      "application/vnd.jupyter.widget-view+json": {
       "model_id": "03f4891ed5ed409db02ca885c4b5e4e0",
       "version_major": 2,
       "version_minor": 0
      },
      "text/plain": [
       "HTML(value='0. \"I think Ive been recognized , this happens all the time !\"')"
      ]
     },
     "metadata": {},
     "output_type": "display_data"
    },
    {
     "data": {
      "application/vnd.jupyter.widget-view+json": {
       "model_id": "fe5cfeab6ca0434eafca4a71bf63ac99",
       "version_major": 2,
       "version_minor": 0
      },
      "text/plain": [
       "HTML(value='1. \"Oh ! You got me an audition for how to be having a day ? ! And this is a crazy man !\"')"
      ]
     },
     "metadata": {},
     "output_type": "display_data"
    },
    {
     "data": {
      "application/vnd.jupyter.widget-view+json": {
       "model_id": "56714db4c75f41b8a154740d8c3acb61",
       "version_major": 2,
       "version_minor": 0
      },
      "text/plain": [
       "RadioButtons(options=(0, 1), value=0)"
      ]
     },
     "metadata": {},
     "output_type": "display_data"
    },
    {
     "data": {
      "application/vnd.jupyter.widget-view+json": {
       "model_id": "bd5a51f2de3b41d9ac8b1dd1e932ca22",
       "version_major": 2,
       "version_minor": 0
      },
      "text/plain": [
       "HTML(value='<h3>5. Statement: \"yeah your both so slutty you dont even remember who youve slept with, youre mad…"
      ]
     },
     "metadata": {},
     "output_type": "display_data"
    },
    {
     "data": {
      "application/vnd.jupyter.widget-view+json": {
       "model_id": "bffc11066f7749a694b4fd3b72919b3c",
       "version_major": 2,
       "version_minor": 0
      },
      "text/plain": [
       "HTML(value='0. \"Interesting . all right Ill go out with her again and try to get past it OH SALT BLOATY !\"')"
      ]
     },
     "metadata": {},
     "output_type": "display_data"
    },
    {
     "data": {
      "application/vnd.jupyter.widget-view+json": {
       "model_id": "7c09147815864970aef93685566d98f9",
       "version_major": 2,
       "version_minor": 0
      },
      "text/plain": [
       "HTML(value='1. \"Who was what ? why did you guys think youre still have to tell ?\"')"
      ]
     },
     "metadata": {},
     "output_type": "display_data"
    },
    {
     "data": {
      "application/vnd.jupyter.widget-view+json": {
       "model_id": "827d4c95dce642d6ad14704a852024d9",
       "version_major": 2,
       "version_minor": 0
      },
      "text/plain": [
       "RadioButtons(options=(0, 1), value=0)"
      ]
     },
     "metadata": {},
     "output_type": "display_data"
    },
    {
     "data": {
      "application/vnd.jupyter.widget-view+json": {
       "model_id": "af2bfe2ff1f34f7a8b886b8da7eae36b",
       "version_major": 2,
       "version_minor": 0
      },
      "text/plain": [
       "HTML(value='<h3>6. Statement: \"Are you wearing two belts?\"</h3>')"
      ]
     },
     "metadata": {},
     "output_type": "display_data"
    },
    {
     "data": {
      "application/vnd.jupyter.widget-view+json": {
       "model_id": "20ed0f86b49a44eb8db62379fbbc52d0",
       "version_major": 2,
       "version_minor": 0
      },
      "text/plain": [
       "HTML(value='0. \"EH , what do you know !\"')"
      ]
     },
     "metadata": {},
     "output_type": "display_data"
    },
    {
     "data": {
      "application/vnd.jupyter.widget-view+json": {
       "model_id": "93fb4971150547b1bc136d78c6497f45",
       "version_major": 2,
       "version_minor": 0
      },
      "text/plain": [
       "HTML(value='1. \"Are you drunk ?\"')"
      ]
     },
     "metadata": {},
     "output_type": "display_data"
    },
    {
     "data": {
      "application/vnd.jupyter.widget-view+json": {
       "model_id": "318f5c334da146fe8386bf7bb0ca3beb",
       "version_major": 2,
       "version_minor": 0
      },
      "text/plain": [
       "RadioButtons(options=(0, 1), value=0)"
      ]
     },
     "metadata": {},
     "output_type": "display_data"
    },
    {
     "data": {
      "application/vnd.jupyter.widget-view+json": {
       "model_id": "b69c61bc859440f78776bcb1c7c41efd",
       "version_major": 2,
       "version_minor": 0
      },
      "text/plain": [
       "HTML(value='<h3>7. Statement: \"Oh yeah! But you know what? If you need Hugsy, dont worry. Emma will totally un…"
      ]
     },
     "metadata": {},
     "output_type": "display_data"
    },
    {
     "data": {
      "application/vnd.jupyter.widget-view+json": {
       "model_id": "ae41bb9d142846d9928551939d15379d",
       "version_major": 2,
       "version_minor": 0
      },
      "text/plain": [
       "HTML(value='0. \"Ok , wait wait wait wait a minute wait a minute , I mean Rach , I mean if if . . . . If Hugsy …"
      ]
     },
     "metadata": {},
     "output_type": "display_data"
    },
    {
     "data": {
      "application/vnd.jupyter.widget-view+json": {
       "model_id": "95fbbf277ed24b67be719424ecf0f986",
       "version_major": 2,
       "version_minor": 0
      },
      "text/plain": [
       "HTML(value='1. \"Hey ! You guys my friends , here\"')"
      ]
     },
     "metadata": {},
     "output_type": "display_data"
    },
    {
     "data": {
      "application/vnd.jupyter.widget-view+json": {
       "model_id": "18064c0b622e42329333526f2f24b64f",
       "version_major": 2,
       "version_minor": 0
      },
      "text/plain": [
       "RadioButtons(options=(0, 1), value=0)"
      ]
     },
     "metadata": {},
     "output_type": "display_data"
    },
    {
     "data": {
      "application/vnd.jupyter.widget-view+json": {
       "model_id": "7d1c98aa2b1f43ee9b4116b5fe5d9644",
       "version_major": 2,
       "version_minor": 0
      },
      "text/plain": [
       "HTML(value='<h3>8. Statement: \"All right, now dont judge me. I normally wait until my date leaves, but you liv…"
      ]
     },
     "metadata": {},
     "output_type": "display_data"
    },
    {
     "data": {
      "application/vnd.jupyter.widget-view+json": {
       "model_id": "86a658a70d554464b0aaae81f7414e3e",
       "version_major": 2,
       "version_minor": 0
      },
      "text/plain": [
       "HTML(value='0. \"Ah ! Okay , well then you dont judge me . Im gonna suck on the cellophane from the brownie I h…"
      ]
     },
     "metadata": {},
     "output_type": "display_data"
    },
    {
     "data": {
      "application/vnd.jupyter.widget-view+json": {
       "model_id": "9f0bebaf8e814071aef9798e9f5fead3",
       "version_major": 2,
       "version_minor": 0
      },
      "text/plain": [
       "HTML(value='1. \"Hey , Rach , how do you think we should get a little .\"')"
      ]
     },
     "metadata": {},
     "output_type": "display_data"
    },
    {
     "data": {
      "application/vnd.jupyter.widget-view+json": {
       "model_id": "31643d6f4327450ba9ab1f123643de84",
       "version_major": 2,
       "version_minor": 0
      },
      "text/plain": [
       "RadioButtons(options=(0, 1), value=0)"
      ]
     },
     "metadata": {},
     "output_type": "display_data"
    },
    {
     "data": {
      "application/vnd.jupyter.widget-view+json": {
       "model_id": "97d5931d45b34a719bbc48931db79ee1",
       "version_major": 2,
       "version_minor": 0
      },
      "text/plain": [
       "HTML(value='<h3>9. Statement: \"If I havent said it before: shes a lucky, lucky lady! So, where are you going t…"
      ]
     },
     "metadata": {},
     "output_type": "display_data"
    },
    {
     "data": {
      "application/vnd.jupyter.widget-view+json": {
       "model_id": "94fdb8e11ab94a5ca05ac9e8e86d1edf",
       "version_major": 2,
       "version_minor": 0
      },
      "text/plain": [
       "HTML(value='0. \"Thats not what , are you guys gonna do ? !\"')"
      ]
     },
     "metadata": {},
     "output_type": "display_data"
    },
    {
     "data": {
      "application/vnd.jupyter.widget-view+json": {
       "model_id": "560b3fd4cf7e4e7d808aa49e967674cc",
       "version_major": 2,
       "version_minor": 0
      },
      "text/plain": [
       "HTML(value='1. \"So , between her and me being friends , and her history with Ross , it just isnt going to happ…"
      ]
     },
     "metadata": {},
     "output_type": "display_data"
    },
    {
     "data": {
      "application/vnd.jupyter.widget-view+json": {
       "model_id": "299b3890892c4bcd91a2db0f1d942064",
       "version_major": 2,
       "version_minor": 0
      },
      "text/plain": [
       "RadioButtons(options=(0, 1), value=0)"
      ]
     },
     "metadata": {},
     "output_type": "display_data"
    },
    {
     "data": {
      "application/vnd.jupyter.widget-view+json": {
       "model_id": "b66a78aac1ae4c43a8daf4bac9ebf153",
       "version_major": 2,
       "version_minor": 0
      },
      "text/plain": [
       "HTML(value='<h3>10. Statement: \"Huh?\"</h3>')"
      ]
     },
     "metadata": {},
     "output_type": "display_data"
    },
    {
     "data": {
      "application/vnd.jupyter.widget-view+json": {
       "model_id": "118c758de00648ff93583cd295e20c73",
       "version_major": 2,
       "version_minor": 0
      },
      "text/plain": [
       "HTML(value='0. \"Check out the rack on this chick !\"')"
      ]
     },
     "metadata": {},
     "output_type": "display_data"
    },
    {
     "data": {
      "application/vnd.jupyter.widget-view+json": {
       "model_id": "420b1a84f3ab42dfa76e21b47ea41f2f",
       "version_major": 2,
       "version_minor": 0
      },
      "text/plain": [
       "HTML(value='1. \"Why dont I take you out ?\"')"
      ]
     },
     "metadata": {},
     "output_type": "display_data"
    },
    {
     "data": {
      "application/vnd.jupyter.widget-view+json": {
       "model_id": "52095d104bac4761a1ef53a3d2c459d5",
       "version_major": 2,
       "version_minor": 0
      },
      "text/plain": [
       "RadioButtons(options=(0, 1), value=0)"
      ]
     },
     "metadata": {},
     "output_type": "display_data"
    },
    {
     "data": {
      "application/vnd.jupyter.widget-view+json": {
       "model_id": "821f28b73e1e46f49bc5d21354737aed",
       "version_major": 2,
       "version_minor": 0
      },
      "text/plain": [
       "HTML(value='<h3>11. Statement: \"Yeah, what time do you wanna pick me up?  Hello?\"</h3>')"
      ]
     },
     "metadata": {},
     "output_type": "display_data"
    },
    {
     "data": {
      "application/vnd.jupyter.widget-view+json": {
       "model_id": "f838938d19b24b47952e8bbc2d3a8d42",
       "version_major": 2,
       "version_minor": 0
      },
      "text/plain": [
       "HTML(value='0. \"Im gonna say you cant do !\"')"
      ]
     },
     "metadata": {},
     "output_type": "display_data"
    },
    {
     "data": {
      "application/vnd.jupyter.widget-view+json": {
       "model_id": "362435f917bc499db08aacbfdd031175",
       "version_major": 2,
       "version_minor": 0
      },
      "text/plain": [
       "HTML(value='1. \"Did you hear that ? I only get one extra ticket to my premiere . So some how I have to pick be…"
      ]
     },
     "metadata": {},
     "output_type": "display_data"
    },
    {
     "data": {
      "application/vnd.jupyter.widget-view+json": {
       "model_id": "11c9f92e244b4dcc9d9f0062e36df07e",
       "version_major": 2,
       "version_minor": 0
      },
      "text/plain": [
       "RadioButtons(options=(0, 1), value=0)"
      ]
     },
     "metadata": {},
     "output_type": "display_data"
    },
    {
     "data": {
      "application/vnd.jupyter.widget-view+json": {
       "model_id": "d6647726edd54632bb1400ee69836c37",
       "version_major": 2,
       "version_minor": 0
      },
      "text/plain": [
       "HTML(value='<h3>12. Statement: \"Theres a tape here with Monicas name on it.\"</h3>')"
      ]
     },
     "metadata": {},
     "output_type": "display_data"
    },
    {
     "data": {
      "application/vnd.jupyter.widget-view+json": {
       "model_id": "cd1cdc797629487e955852f5dd2546bf",
       "version_major": 2,
       "version_minor": 0
      },
      "text/plain": [
       "HTML(value='0. \"Oh , so much of you take off ?\"')"
      ]
     },
     "metadata": {},
     "output_type": "display_data"
    },
    {
     "data": {
      "application/vnd.jupyter.widget-view+json": {
       "model_id": "a829bef8e78245d3ab64489b6e93bb34",
       "version_major": 2,
       "version_minor": 0
      },
      "text/plain": [
       "HTML(value='1. \"Ooh ! A tape with a girls name on it . Its probably a sex tape . . . Wait a minute . . . This …"
      ]
     },
     "metadata": {},
     "output_type": "display_data"
    },
    {
     "data": {
      "application/vnd.jupyter.widget-view+json": {
       "model_id": "cd9471c13da242478da9903250d45071",
       "version_major": 2,
       "version_minor": 0
      },
      "text/plain": [
       "RadioButtons(options=(0, 1), value=0)"
      ]
     },
     "metadata": {},
     "output_type": "display_data"
    },
    {
     "data": {
      "application/vnd.jupyter.widget-view+json": {
       "model_id": "97025ce814144a2b92793288715c5076",
       "version_major": 2,
       "version_minor": 0
      },
      "text/plain": [
       "HTML(value='<h3>13. Statement: \"Go and tell Rachel right now before Ross finds out.\"</h3>')"
      ]
     },
     "metadata": {},
     "output_type": "display_data"
    },
    {
     "data": {
      "application/vnd.jupyter.widget-view+json": {
       "model_id": "7cf6b8e4840e40a0a37bd9271ec2b3d0",
       "version_major": 2,
       "version_minor": 0
      },
      "text/plain": [
       "HTML(value='0. \"Look , its not that easy . She said she wanted to marry me . I dont want to hurt her .\"')"
      ]
     },
     "metadata": {},
     "output_type": "display_data"
    },
    {
     "data": {
      "application/vnd.jupyter.widget-view+json": {
       "model_id": "fcf77864aed94beeaa935000595950be",
       "version_major": 2,
       "version_minor": 0
      },
      "text/plain": [
       "HTML(value='1. \"All right , I guess . I cant believe you .\"')"
      ]
     },
     "metadata": {},
     "output_type": "display_data"
    },
    {
     "data": {
      "application/vnd.jupyter.widget-view+json": {
       "model_id": "55ab1f8a9b9540728101bb6bf2e3e906",
       "version_major": 2,
       "version_minor": 0
      },
      "text/plain": [
       "RadioButtons(options=(0, 1), value=0)"
      ]
     },
     "metadata": {},
     "output_type": "display_data"
    },
    {
     "data": {
      "application/vnd.jupyter.widget-view+json": {
       "model_id": "3da4debec8ec4a9cbc3011d385837a6a",
       "version_major": 2,
       "version_minor": 0
      },
      "text/plain": [
       "HTML(value='<h3>14. Statement: \"Its all right. You can mourn.\"</h3>')"
      ]
     },
     "metadata": {},
     "output_type": "display_data"
    },
    {
     "data": {
      "application/vnd.jupyter.widget-view+json": {
       "model_id": "24c2cad82da94e849dd6436ef8412e77",
       "version_major": 2,
       "version_minor": 0
      },
      "text/plain": [
       "HTML(value='0. \"Actually its not pies , its just pie .\"')"
      ]
     },
     "metadata": {},
     "output_type": "display_data"
    },
    {
     "data": {
      "application/vnd.jupyter.widget-view+json": {
       "model_id": "f472cb11db114d99830c0617b4121d2a",
       "version_major": 2,
       "version_minor": 0
      },
      "text/plain": [
       "HTML(value='1. \"Yeah .\"')"
      ]
     },
     "metadata": {},
     "output_type": "display_data"
    },
    {
     "data": {
      "application/vnd.jupyter.widget-view+json": {
       "model_id": "8ce6752f6fcd43e5953a25ae0565b181",
       "version_major": 2,
       "version_minor": 0
      },
      "text/plain": [
       "RadioButtons(options=(0, 1), value=0)"
      ]
     },
     "metadata": {},
     "output_type": "display_data"
    },
    {
     "data": {
      "application/vnd.jupyter.widget-view+json": {
       "model_id": "b08eca271a104de2a2cc4e2a1ccb3826",
       "version_major": 2,
       "version_minor": 0
      },
      "text/plain": [
       "HTML(value='<h3>15. Statement: \"I know. They should be a family. They should get married and have more childre…"
      ]
     },
     "metadata": {},
     "output_type": "display_data"
    },
    {
     "data": {
      "application/vnd.jupyter.widget-view+json": {
       "model_id": "e150be310b164b7aaedee99225da3b35",
       "version_major": 2,
       "version_minor": 0
      },
      "text/plain": [
       "HTML(value='0. \"Hey ! Is that a great teacher ?\"')"
      ]
     },
     "metadata": {},
     "output_type": "display_data"
    },
    {
     "data": {
      "application/vnd.jupyter.widget-view+json": {
       "model_id": "b5168f14eb3b4e65a5971d7ec21e705f",
       "version_major": 2,
       "version_minor": 0
      },
      "text/plain": [
       "HTML(value='1. \"Yes , and they should name one of their kids Joey . I may not have kids ; someones gotta carry…"
      ]
     },
     "metadata": {},
     "output_type": "display_data"
    },
    {
     "data": {
      "application/vnd.jupyter.widget-view+json": {
       "model_id": "747235bb41c4438eba5ac811eede7a3d",
       "version_major": 2,
       "version_minor": 0
      },
      "text/plain": [
       "RadioButtons(options=(0, 1), value=0)"
      ]
     },
     "metadata": {},
     "output_type": "display_data"
    },
    {
     "data": {
      "application/vnd.jupyter.widget-view+json": {
       "model_id": "e04fa02bb0284f29b297c4ff4d6e1083",
       "version_major": 2,
       "version_minor": 0
      },
      "text/plain": [
       "HTML(value='<h3>16. Statement: \"I dont know! What could she possibly be hiding in here that I cant see?!\"</h3>…"
      ]
     },
     "metadata": {},
     "output_type": "display_data"
    },
    {
     "data": {
      "application/vnd.jupyter.widget-view+json": {
       "model_id": "fc66a68cb1084af5aabacd434f0c7bc1",
       "version_major": 2,
       "version_minor": 0
      },
      "text/plain": [
       "HTML(value='0. \"I dont know . Ooh , I bet its Richard .\"')"
      ]
     },
     "metadata": {},
     "output_type": "display_data"
    },
    {
     "data": {
      "application/vnd.jupyter.widget-view+json": {
       "model_id": "43d85c7e481c4b9a8b5e097930377a42",
       "version_major": 2,
       "version_minor": 0
      },
      "text/plain": [
       "HTML(value='1. \"Look at us ! Im not just a commercial ; and its not a big deal ! Its all this , I have to be m…"
      ]
     },
     "metadata": {},
     "output_type": "display_data"
    },
    {
     "data": {
      "application/vnd.jupyter.widget-view+json": {
       "model_id": "a82a4eae1b9f49dfb0c45ec9b27e4188",
       "version_major": 2,
       "version_minor": 0
      },
      "text/plain": [
       "RadioButtons(options=(0, 1), value=0)"
      ]
     },
     "metadata": {},
     "output_type": "display_data"
    },
    {
     "data": {
      "application/vnd.jupyter.widget-view+json": {
       "model_id": "05ab1d51903b4ea4b71fee77a7f0db63",
       "version_major": 2,
       "version_minor": 0
      },
      "text/plain": [
       "HTML(value='<h3>17. Statement: \"And I hope its not an inappropriate time to say this but, youre the best sex I…"
      ]
     },
     "metadata": {},
     "output_type": "display_data"
    },
    {
     "data": {
      "application/vnd.jupyter.widget-view+json": {
       "model_id": "493c2ec4579f48f392f151f06bae1c2a",
       "version_major": 2,
       "version_minor": 0
      },
      "text/plain": [
       "HTML(value='0. \"Thats always appropriate ! Oh , okay . One more push ! One more push !\"')"
      ]
     },
     "metadata": {},
     "output_type": "display_data"
    },
    {
     "data": {
      "application/vnd.jupyter.widget-view+json": {
       "model_id": "72df05a075f24ce1a2d55f838c461340",
       "version_major": 2,
       "version_minor": 0
      },
      "text/plain": [
       "HTML(value='1. \"No .\"')"
      ]
     },
     "metadata": {},
     "output_type": "display_data"
    },
    {
     "data": {
      "application/vnd.jupyter.widget-view+json": {
       "model_id": "ac825d6537f14ee0bd3b91d40f7fa256",
       "version_major": 2,
       "version_minor": 0
      },
      "text/plain": [
       "RadioButtons(options=(0, 1), value=0)"
      ]
     },
     "metadata": {},
     "output_type": "display_data"
    },
    {
     "data": {
      "application/vnd.jupyter.widget-view+json": {
       "model_id": "8ffedce0ffd847208d43a9cc5212e7e4",
       "version_major": 2,
       "version_minor": 0
      },
      "text/plain": [
       "HTML(value='<h3>18. Statement: \"Hey Joe!\"</h3>')"
      ]
     },
     "metadata": {},
     "output_type": "display_data"
    },
    {
     "data": {
      "application/vnd.jupyter.widget-view+json": {
       "model_id": "2125767418a94b9b985665622c60a856",
       "version_major": 2,
       "version_minor": 0
      },
      "text/plain": [
       "HTML(value='0. \"Hey !\"')"
      ]
     },
     "metadata": {},
     "output_type": "display_data"
    },
    {
     "data": {
      "application/vnd.jupyter.widget-view+json": {
       "model_id": "d2a93426ff944b339047a1aef9554a6a",
       "version_major": 2,
       "version_minor": 0
      },
      "text/plain": [
       "HTML(value='1. \"Whats up ?\"')"
      ]
     },
     "metadata": {},
     "output_type": "display_data"
    },
    {
     "data": {
      "application/vnd.jupyter.widget-view+json": {
       "model_id": "1a3048f82f5948ba9fe9f162c2174cf1",
       "version_major": 2,
       "version_minor": 0
      },
      "text/plain": [
       "RadioButtons(options=(0, 1), value=0)"
      ]
     },
     "metadata": {},
     "output_type": "display_data"
    },
    {
     "data": {
      "application/vnd.jupyter.widget-view+json": {
       "model_id": "679e3aee804145d8b05782d1e8dea26c",
       "version_major": 2,
       "version_minor": 0
      },
      "text/plain": [
       "HTML(value='<h3>19. Statement: \"You know what? Maybe once they start dating, and they see whats out there, the…"
      ]
     },
     "metadata": {},
     "output_type": "display_data"
    },
    {
     "data": {
      "application/vnd.jupyter.widget-view+json": {
       "model_id": "47d3dd277b154b5cb3c3b70be82980cd",
       "version_major": 2,
       "version_minor": 0
      },
      "text/plain": [
       "HTML(value='0. \"Oh well be fine ! I cant believe I turn on your sister .\"')"
      ]
     },
     "metadata": {},
     "output_type": "display_data"
    },
    {
     "data": {
      "application/vnd.jupyter.widget-view+json": {
       "model_id": "62ac8a7ef2ac4d8c9f4b9ae71987ccac",
       "version_major": 2,
       "version_minor": 0
      },
      "text/plain": [
       "HTML(value='1. \"Yeah , because it is slim pickings . I had this date last night Yuck ! But we should probably …"
      ]
     },
     "metadata": {},
     "output_type": "display_data"
    },
    {
     "data": {
      "application/vnd.jupyter.widget-view+json": {
       "model_id": "6b3146e445bb47ab870eb955db203691",
       "version_major": 2,
       "version_minor": 0
      },
      "text/plain": [
       "RadioButtons(options=(0, 1), value=0)"
      ]
     },
     "metadata": {},
     "output_type": "display_data"
    },
    {
     "data": {
      "application/vnd.jupyter.widget-view+json": {
       "model_id": "c74e0e67a05b4128954baefbf76d86c9",
       "version_major": 2,
       "version_minor": 0
      },
      "text/plain": [
       "HTML(value='<h3>20. Statement: \"Im a woman!\"</h3>')"
      ]
     },
     "metadata": {},
     "output_type": "display_data"
    },
    {
     "data": {
      "application/vnd.jupyter.widget-view+json": {
       "model_id": "6c6e31e160b3434a9027353bfb5aafd1",
       "version_major": 2,
       "version_minor": 0
      },
      "text/plain": [
       "HTML(value='0. \"Arghhh ! Double standards !\"')"
      ]
     },
     "metadata": {},
     "output_type": "display_data"
    },
    {
     "data": {
      "application/vnd.jupyter.widget-view+json": {
       "model_id": "cd505476d6004a5db3588eaea4b1bc93",
       "version_major": 2,
       "version_minor": 0
      },
      "text/plain": [
       "HTML(value='1. \"Oh hey , you guys are okay about each other .\"')"
      ]
     },
     "metadata": {},
     "output_type": "display_data"
    },
    {
     "data": {
      "application/vnd.jupyter.widget-view+json": {
       "model_id": "9daa91bd8ec34f75a1e02be2c6d9d62b",
       "version_major": 2,
       "version_minor": 0
      },
      "text/plain": [
       "RadioButtons(options=(0, 1), value=0)"
      ]
     },
     "metadata": {},
     "output_type": "display_data"
    },
    {
     "data": {
      "application/vnd.jupyter.widget-view+json": {
       "model_id": "791a39d036f84f59861f088fd1d51241",
       "version_major": 2,
       "version_minor": 0
      },
      "text/plain": [
       "HTML(value='<h3>21. Statement: \"There has got to be a way!\"</h3>')"
      ]
     },
     "metadata": {},
     "output_type": "display_data"
    },
    {
     "data": {
      "application/vnd.jupyter.widget-view+json": {
       "model_id": "87ba5d7af3cb4c5d977a3a5baf0dc6a5",
       "version_major": 2,
       "version_minor": 0
      },
      "text/plain": [
       "HTML(value='0. \"Easy there Captain Kirk . Oh , do you have a bobby pin ?\"')"
      ]
     },
     "metadata": {},
     "output_type": "display_data"
    },
    {
     "data": {
      "application/vnd.jupyter.widget-view+json": {
       "model_id": "b27d23c84cdc4bc8b94834655e38ab22",
       "version_major": 2,
       "version_minor": 0
      },
      "text/plain": [
       "HTML(value='1. \"Okay ! Yeah . Well look , okay . I totally know its never gonna be home . I know , I know its …"
      ]
     },
     "metadata": {},
     "output_type": "display_data"
    },
    {
     "data": {
      "application/vnd.jupyter.widget-view+json": {
       "model_id": "bd4b265cd07e4bd289b34bf213f41f47",
       "version_major": 2,
       "version_minor": 0
      },
      "text/plain": [
       "RadioButtons(options=(0, 1), value=0)"
      ]
     },
     "metadata": {},
     "output_type": "display_data"
    },
    {
     "data": {
      "application/vnd.jupyter.widget-view+json": {
       "model_id": "712c69151bd640f1a9d1e68db3c58371",
       "version_major": 2,
       "version_minor": 0
      },
      "text/plain": [
       "HTML(value='<h3>22. Statement: \"Right. And with who again?\"</h3>')"
      ]
     },
     "metadata": {},
     "output_type": "display_data"
    },
    {
     "data": {
      "application/vnd.jupyter.widget-view+json": {
       "model_id": "ba378fe8f280484189cbdda7fb31b96b",
       "version_major": 2,
       "version_minor": 0
      },
      "text/plain": [
       "HTML(value='0. \"Yeah !\"')"
      ]
     },
     "metadata": {},
     "output_type": "display_data"
    },
    {
     "data": {
      "application/vnd.jupyter.widget-view+json": {
       "model_id": "2785838395ae4121a4dab82d6a725d4e",
       "version_major": 2,
       "version_minor": 0
      },
      "text/plain": [
       "HTML(value='1. \"God . Hes crazy ! Why doesnt he want to be with Rachel ?\"')"
      ]
     },
     "metadata": {},
     "output_type": "display_data"
    },
    {
     "data": {
      "application/vnd.jupyter.widget-view+json": {
       "model_id": "0f84788841dd485a9f7f05aed567994b",
       "version_major": 2,
       "version_minor": 0
      },
      "text/plain": [
       "RadioButtons(options=(0, 1), value=0)"
      ]
     },
     "metadata": {},
     "output_type": "display_data"
    },
    {
     "data": {
      "application/vnd.jupyter.widget-view+json": {
       "model_id": "29de83990a85463dbdcd331d27f1200c",
       "version_major": 2,
       "version_minor": 0
      },
      "text/plain": [
       "HTML(value='<h3>23. Statement: \"Im sorry.� I, I told you I was in Tulsa because I wanted to spend the night wi…"
      ]
     },
     "metadata": {},
     "output_type": "display_data"
    },
    {
     "data": {
      "application/vnd.jupyter.widget-view+json": {
       "model_id": "48420ea3b0f34e379444b42a4251afac",
       "version_major": 2,
       "version_minor": 0
      },
      "text/plain": [
       "HTML(value='0. \"What ? You think Im too dumb to understand that a husband needs to be with his wife ? Huh ? Do…"
      ]
     },
     "metadata": {},
     "output_type": "display_data"
    },
    {
     "data": {
      "application/vnd.jupyter.widget-view+json": {
       "model_id": "6a2ce509326445afbf496711737a6e82",
       "version_major": 2,
       "version_minor": 0
      },
      "text/plain": [
       "HTML(value='1. \"You got it !\"')"
      ]
     },
     "metadata": {},
     "output_type": "display_data"
    },
    {
     "data": {
      "application/vnd.jupyter.widget-view+json": {
       "model_id": "8386fd2067f047dcaf71df705c2866c7",
       "version_major": 2,
       "version_minor": 0
      },
      "text/plain": [
       "RadioButtons(options=(0, 1), value=0)"
      ]
     },
     "metadata": {},
     "output_type": "display_data"
    },
    {
     "data": {
      "application/vnd.jupyter.widget-view+json": {
       "model_id": "62afacb408f843c6ad68bd3668d23cb3",
       "version_major": 2,
       "version_minor": 0
      },
      "text/plain": [
       "HTML(value='<h3>24. Statement: \"Well you couldve untied it with your hands.\"</h3>')"
      ]
     },
     "metadata": {},
     "output_type": "display_data"
    },
    {
     "data": {
      "application/vnd.jupyter.widget-view+json": {
       "model_id": "194cff61be4c43a18abac1e04ff54c1f",
       "version_major": 2,
       "version_minor": 0
      },
      "text/plain": [
       "HTML(value='0. \"This is so unfair ! The one thing I wanted to do was throw my best friend a bachelor party , b…"
      ]
     },
     "metadata": {},
     "output_type": "display_data"
    },
    {
     "data": {
      "application/vnd.jupyter.widget-view+json": {
       "model_id": "65ecfa31b7b04d0a9e528c53ab3b14bd",
       "version_major": 2,
       "version_minor": 0
      },
      "text/plain": [
       "HTML(value='1. \"Yeah , I guess well .\"')"
      ]
     },
     "metadata": {},
     "output_type": "display_data"
    },
    {
     "data": {
      "application/vnd.jupyter.widget-view+json": {
       "model_id": "2457f2ede1844a66b1ff398700f55da5",
       "version_major": 2,
       "version_minor": 0
      },
      "text/plain": [
       "RadioButtons(options=(0, 1), value=0)"
      ]
     },
     "metadata": {},
     "output_type": "display_data"
    },
    {
     "data": {
      "application/vnd.jupyter.widget-view+json": {
       "model_id": "e83d316309724c1796298bb6e243c134",
       "version_major": 2,
       "version_minor": 0
      },
      "text/plain": [
       "HTML(value='<h3>25. Statement: \"So tell me, what are Joey Tribbianis end of the night moves?\"</h3>')"
      ]
     },
     "metadata": {},
     "output_type": "display_data"
    },
    {
     "data": {
      "application/vnd.jupyter.widget-view+json": {
       "model_id": "f97fd6a2ad734b29a053c671b9553654",
       "version_major": 2,
       "version_minor": 0
      },
      "text/plain": [
       "HTML(value='0. \"Yeah !\"')"
      ]
     },
     "metadata": {},
     "output_type": "display_data"
    },
    {
     "data": {
      "application/vnd.jupyter.widget-view+json": {
       "model_id": "49feaa4c99884885b4edce6a001f2421",
       "version_major": 2,
       "version_minor": 0
      },
      "text/plain": [
       "HTML(value='1. \"Ah , well , if I want the girl to kiss me , first thing I do is make my lips look irresistible…"
      ]
     },
     "metadata": {},
     "output_type": "display_data"
    },
    {
     "data": {
      "application/vnd.jupyter.widget-view+json": {
       "model_id": "539659ec39624ee7bb4dbd691a5c4f01",
       "version_major": 2,
       "version_minor": 0
      },
      "text/plain": [
       "RadioButtons(options=(0, 1), value=0)"
      ]
     },
     "metadata": {},
     "output_type": "display_data"
    },
    {
     "data": {
      "application/vnd.jupyter.widget-view+json": {
       "model_id": "c6e7a697e275431d9eb1f0c2e7b6a7da",
       "version_major": 2,
       "version_minor": 0
      },
      "text/plain": [
       "HTML(value='<h3>26. Statement: \"\"What?\"\"</h3>')"
      ]
     },
     "metadata": {},
     "output_type": "display_data"
    },
    {
     "data": {
      "application/vnd.jupyter.widget-view+json": {
       "model_id": "cd27ba9622734383b6cbe4b30e5d1bd1",
       "version_major": 2,
       "version_minor": 0
      },
      "text/plain": [
       "HTML(value='0. \"They sent me todays script ! They never send the script !\"')"
      ]
     },
     "metadata": {},
     "output_type": "display_data"
    },
    {
     "data": {
      "application/vnd.jupyter.widget-view+json": {
       "model_id": "4320e29629524aa7b9a03883f75b6216",
       "version_major": 2,
       "version_minor": 0
      },
      "text/plain": [
       "HTML(value='1. \"I could go right now .\"')"
      ]
     },
     "metadata": {},
     "output_type": "display_data"
    },
    {
     "data": {
      "application/vnd.jupyter.widget-view+json": {
       "model_id": "0666b36075b14938ba82590d88fb5783",
       "version_major": 2,
       "version_minor": 0
      },
      "text/plain": [
       "RadioButtons(options=(0, 1), value=0)"
      ]
     },
     "metadata": {},
     "output_type": "display_data"
    },
    {
     "data": {
      "application/vnd.jupyter.widget-view+json": {
       "model_id": "22dc2154b04b4433bfb966c5cff75e6b",
       "version_major": 2,
       "version_minor": 0
      },
      "text/plain": [
       "HTML(value='<h3>27. Statement: \"Im on the phone!  Dr. Wiener?\"</h3>')"
      ]
     },
     "metadata": {},
     "output_type": "display_data"
    },
    {
     "data": {
      "application/vnd.jupyter.widget-view+json": {
       "model_id": "423919cefe074df7adb3ab1fdc8a6a46",
       "version_major": 2,
       "version_minor": 0
      },
      "text/plain": [
       "HTML(value='0. \"Thats great !\"')"
      ]
     },
     "metadata": {},
     "output_type": "display_data"
    },
    {
     "data": {
      "application/vnd.jupyter.widget-view+json": {
       "model_id": "b6c043c05e2446dbb9138f4bc8d78b27",
       "version_major": 2,
       "version_minor": 0
      },
      "text/plain": [
       "HTML(value='1. \"\"')"
      ]
     },
     "metadata": {},
     "output_type": "display_data"
    },
    {
     "data": {
      "application/vnd.jupyter.widget-view+json": {
       "model_id": "d37d80bf6a8346c8a3cd2a0f4c3eccb1",
       "version_major": 2,
       "version_minor": 0
      },
      "text/plain": [
       "RadioButtons(options=(0, 1), value=0)"
      ]
     },
     "metadata": {},
     "output_type": "display_data"
    },
    {
     "data": {
      "application/vnd.jupyter.widget-view+json": {
       "model_id": "c180068d0a3949a3a5d893fae7bfd851",
       "version_major": 2,
       "version_minor": 0
      },
      "text/plain": [
       "HTML(value='<h3>28. Statement: \"Yeah, thats kinda a relief.\"</h3>')"
      ]
     },
     "metadata": {},
     "output_type": "display_data"
    },
    {
     "data": {
      "application/vnd.jupyter.widget-view+json": {
       "model_id": "8d16936d5838419b8e87b5e28a6689c6",
       "version_major": 2,
       "version_minor": 0
      },
      "text/plain": [
       "HTML(value='0. \"Yeah .\"')"
      ]
     },
     "metadata": {},
     "output_type": "display_data"
    },
    {
     "data": {
      "application/vnd.jupyter.widget-view+json": {
       "model_id": "34829dc34d67453fb777d761771605ff",
       "version_major": 2,
       "version_minor": 0
      },
      "text/plain": [
       "HTML(value='1. \"Yeah .\"')"
      ]
     },
     "metadata": {},
     "output_type": "display_data"
    },
    {
     "data": {
      "application/vnd.jupyter.widget-view+json": {
       "model_id": "ce647938b6ea4a50b60f4f6893d0bae0",
       "version_major": 2,
       "version_minor": 0
      },
      "text/plain": [
       "RadioButtons(options=(0, 1), value=0)"
      ]
     },
     "metadata": {},
     "output_type": "display_data"
    },
    {
     "data": {
      "application/vnd.jupyter.widget-view+json": {
       "model_id": "f624df62732049ab8d7990d316c21d69",
       "version_major": 2,
       "version_minor": 0
      },
      "text/plain": [
       "HTML(value='<h3>29. Statement: \"Yeah!\"</h3>')"
      ]
     },
     "metadata": {},
     "output_type": "display_data"
    },
    {
     "data": {
      "application/vnd.jupyter.widget-view+json": {
       "model_id": "027fa3cfa7d1401592d0746469303db8",
       "version_major": 2,
       "version_minor": 0
      },
      "text/plain": [
       "HTML(value='0. \"Okay .\"')"
      ]
     },
     "metadata": {},
     "output_type": "display_data"
    },
    {
     "data": {
      "application/vnd.jupyter.widget-view+json": {
       "model_id": "7416b7559e2249f5a2c10dac29085f9f",
       "version_major": 2,
       "version_minor": 0
      },
      "text/plain": [
       "HTML(value='1. \"Without that , you just got lame with women .\"')"
      ]
     },
     "metadata": {},
     "output_type": "display_data"
    },
    {
     "data": {
      "application/vnd.jupyter.widget-view+json": {
       "model_id": "b6458ad83f2349e1aaa0713e4ae6c684",
       "version_major": 2,
       "version_minor": 0
      },
      "text/plain": [
       "RadioButtons(options=(0, 1), value=0)"
      ]
     },
     "metadata": {},
     "output_type": "display_data"
    },
    {
     "data": {
      "application/vnd.jupyter.widget-view+json": {
       "model_id": "b16d485f4fdc4f7ea9eb4cd448f59ea8",
       "version_major": 2,
       "version_minor": 0
      },
      "text/plain": [
       "HTML(value='<h3>30. Statement: \"Yeah if only it were a sure thing like your 24 state lottery!\"</h3>')"
      ]
     },
     "metadata": {},
     "output_type": "display_data"
    },
    {
     "data": {
      "application/vnd.jupyter.widget-view+json": {
       "model_id": "59b6a8b8a78f4ca1b5c6683c32bb04d6",
       "version_major": 2,
       "version_minor": 0
      },
      "text/plain": [
       "HTML(value='0. \"Look whos coming around !\"')"
      ]
     },
     "metadata": {},
     "output_type": "display_data"
    },
    {
     "data": {
      "application/vnd.jupyter.widget-view+json": {
       "model_id": "3ee81c8741ef40efa9d532ca077bf386",
       "version_major": 2,
       "version_minor": 0
      },
      "text/plain": [
       "HTML(value='1. \"Hey , who did I come home with me ? ! We had a baby ! Come on ! Whoa ! Whoa ! Whoa ! !\"')"
      ]
     },
     "metadata": {},
     "output_type": "display_data"
    },
    {
     "data": {
      "application/vnd.jupyter.widget-view+json": {
       "model_id": "dc3cc7266b1047389ddf907c52d3ef6e",
       "version_major": 2,
       "version_minor": 0
      },
      "text/plain": [
       "RadioButtons(options=(0, 1), value=0)"
      ]
     },
     "metadata": {},
     "output_type": "display_data"
    },
    {
     "data": {
      "application/vnd.jupyter.widget-view+json": {
       "model_id": "782eaefae3944a518487b0bb31e6de4d",
       "version_major": 2,
       "version_minor": 0
      },
      "text/plain": [
       "HTML(value='<h3>31. Statement: \"Oh right, ok um. Ok so its not just the lie you tell. but its the way you tell…"
      ]
     },
     "metadata": {},
     "output_type": "display_data"
    },
    {
     "data": {
      "application/vnd.jupyter.widget-view+json": {
       "model_id": "e63cc1868a7642dda6b791eeaa9276d1",
       "version_major": 2,
       "version_minor": 0
      },
      "text/plain": [
       "HTML(value='0. \"Oh . . I dont know why this is so hard for me . you know . . I mean lying is basically just ac…"
      ]
     },
     "metadata": {},
     "output_type": "display_data"
    },
    {
     "data": {
      "application/vnd.jupyter.widget-view+json": {
       "model_id": "b1d65f188c9646cab3f46809ae6df7cd",
       "version_major": 2,
       "version_minor": 0
      },
      "text/plain": [
       "HTML(value='1. \"Im gonna have to say its no answer . And I think Im gonna go to you about her thing on a secon…"
      ]
     },
     "metadata": {},
     "output_type": "display_data"
    },
    {
     "data": {
      "application/vnd.jupyter.widget-view+json": {
       "model_id": "e0b4e20a97ac4bed98e7aa1f6232162e",
       "version_major": 2,
       "version_minor": 0
      },
      "text/plain": [
       "RadioButtons(options=(0, 1), value=0)"
      ]
     },
     "metadata": {},
     "output_type": "display_data"
    },
    {
     "data": {
      "application/vnd.jupyter.widget-view+json": {
       "model_id": "c22fffcf372c45049011e6c5ea61b1e2",
       "version_major": 2,
       "version_minor": 0
      },
      "text/plain": [
       "HTML(value='<h3>32. Statement: \"Hi!\"</h3>')"
      ]
     },
     "metadata": {},
     "output_type": "display_data"
    },
    {
     "data": {
      "application/vnd.jupyter.widget-view+json": {
       "model_id": "6d4637ab48de4dd3926b6ed411490b2b",
       "version_major": 2,
       "version_minor": 0
      },
      "text/plain": [
       "HTML(value='0. \"Hey !\"')"
      ]
     },
     "metadata": {},
     "output_type": "display_data"
    },
    {
     "data": {
      "application/vnd.jupyter.widget-view+json": {
       "model_id": "4418b10746ed437d9b78659a8105eadf",
       "version_major": 2,
       "version_minor": 0
      },
      "text/plain": [
       "HTML(value='1. \"Hey ! You made it !\"')"
      ]
     },
     "metadata": {},
     "output_type": "display_data"
    },
    {
     "data": {
      "application/vnd.jupyter.widget-view+json": {
       "model_id": "f1a2cff3233e43bc819de968ef3ebdce",
       "version_major": 2,
       "version_minor": 0
      },
      "text/plain": [
       "RadioButtons(options=(0, 1), value=0)"
      ]
     },
     "metadata": {},
     "output_type": "display_data"
    },
    {
     "data": {
      "application/vnd.jupyter.widget-view+json": {
       "model_id": "a6dfaaa3365d42cfb73bb5a9684f1774",
       "version_major": 2,
       "version_minor": 0
      },
      "text/plain": [
       "HTML(value='<h3>33. Statement: \"Ive just been thinking about how my baby and I are gonna be all alone.\"</h3>')"
      ]
     },
     "metadata": {},
     "output_type": "display_data"
    },
    {
     "data": {
      "application/vnd.jupyter.widget-view+json": {
       "model_id": "4354960bd28843459b33ba9bdc0949fc",
       "version_major": 2,
       "version_minor": 0
      },
      "text/plain": [
       "HTML(value='0. \"Oh . Hey . Well we did .\"')"
      ]
     },
     "metadata": {},
     "output_type": "display_data"
    },
    {
     "data": {
      "application/vnd.jupyter.widget-view+json": {
       "model_id": "43a61235349b467e8b04e00e38fb01c4",
       "version_major": 2,
       "version_minor": 0
      },
      "text/plain": [
       "HTML(value='1. \"What are you talking about alone ? What about Ross ?\"')"
      ]
     },
     "metadata": {},
     "output_type": "display_data"
    },
    {
     "data": {
      "application/vnd.jupyter.widget-view+json": {
       "model_id": "d9bc475d29f34f53a2b5f6e3e552844a",
       "version_major": 2,
       "version_minor": 0
      },
      "text/plain": [
       "RadioButtons(options=(0, 1), value=0)"
      ]
     },
     "metadata": {},
     "output_type": "display_data"
    },
    {
     "data": {
      "application/vnd.jupyter.widget-view+json": {
       "model_id": "dbd8cdf3799042df81281594f51b9769",
       "version_major": 2,
       "version_minor": 0
      },
      "text/plain": [
       "HTML(value='<h3>34. Statement: \"Get to the problem!\"</h3>')"
      ]
     },
     "metadata": {},
     "output_type": "display_data"
    },
    {
     "data": {
      "application/vnd.jupyter.widget-view+json": {
       "model_id": "29fb2b1d0ae44c31871d22fc27e7af61",
       "version_major": 2,
       "version_minor": 0
      },
      "text/plain": [
       "HTML(value='0. \"Oh yeah yeah makes .\"')"
      ]
     },
     "metadata": {},
     "output_type": "display_data"
    },
    {
     "data": {
      "application/vnd.jupyter.widget-view+json": {
       "model_id": "1adca542fcbc46dcacedb6944e7da26b",
       "version_major": 2,
       "version_minor": 0
      },
      "text/plain": [
       "HTML(value='1. \"Yes . Its just that shes so much smarter than all the girls Ive ever dated ! Combined ! I dont…"
      ]
     },
     "metadata": {},
     "output_type": "display_data"
    },
    {
     "data": {
      "application/vnd.jupyter.widget-view+json": {
       "model_id": "7c8eb794ab744f7783a1fdc9f78af9b6",
       "version_major": 2,
       "version_minor": 0
      },
      "text/plain": [
       "RadioButtons(options=(0, 1), value=0)"
      ]
     },
     "metadata": {},
     "output_type": "display_data"
    },
    {
     "data": {
      "application/vnd.jupyter.widget-view+json": {
       "model_id": "f5e69c2b84ba4f63926b4c5a269d6f19",
       "version_major": 2,
       "version_minor": 0
      },
      "text/plain": [
       "HTML(value='<h3>35. Statement: \"No, Monicas restaurant got a horrible review in the Post.  I didnt want her to…"
      ]
     },
     "metadata": {},
     "output_type": "display_data"
    },
    {
     "data": {
      "application/vnd.jupyter.widget-view+json": {
       "model_id": "9883147f3a044f9b952df7a6fecf40d3",
       "version_major": 2,
       "version_minor": 0
      },
      "text/plain": [
       "HTML(value='0. \"Oh my God ! ! What did ?\"')"
      ]
     },
     "metadata": {},
     "output_type": "display_data"
    },
    {
     "data": {
      "application/vnd.jupyter.widget-view+json": {
       "model_id": "caaa978ed49e4ddea060dfd7d876b980",
       "version_major": 2,
       "version_minor": 0
      },
      "text/plain": [
       "HTML(value='1. \"Man , this is bad ! And Ive had my share of bad reviews . I still remember my first good one t…"
      ]
     },
     "metadata": {},
     "output_type": "display_data"
    },
    {
     "data": {
      "application/vnd.jupyter.widget-view+json": {
       "model_id": "bfb6597b52d94b3cb3d64a24f598f579",
       "version_major": 2,
       "version_minor": 0
      },
      "text/plain": [
       "RadioButtons(options=(0, 1), value=0)"
      ]
     },
     "metadata": {},
     "output_type": "display_data"
    },
    {
     "data": {
      "application/vnd.jupyter.widget-view+json": {
       "model_id": "ddf1817f5ea948a18c859631aef99bb3",
       "version_major": 2,
       "version_minor": 0
      },
      "text/plain": [
       "HTML(value='<h3>36. Statement: \"So?\"</h3>')"
      ]
     },
     "metadata": {},
     "output_type": "display_data"
    },
    {
     "data": {
      "application/vnd.jupyter.widget-view+json": {
       "model_id": "097305ad03c94157bdd5ad64a33f12a0",
       "version_major": 2,
       "version_minor": 0
      },
      "text/plain": [
       "HTML(value='0. \"So ? Who would you rather have kiss you , me or Chandler ?\"')"
      ]
     },
     "metadata": {},
     "output_type": "display_data"
    },
    {
     "data": {
      "application/vnd.jupyter.widget-view+json": {
       "model_id": "0ee4e782da22477f8294ae62a5a6bab3",
       "version_major": 2,
       "version_minor": 0
      },
      "text/plain": [
       "HTML(value='1. \"So . . . Ive never played that !\"')"
      ]
     },
     "metadata": {},
     "output_type": "display_data"
    },
    {
     "data": {
      "application/vnd.jupyter.widget-view+json": {
       "model_id": "49036a3410894a66bfc2110974064768",
       "version_major": 2,
       "version_minor": 0
      },
      "text/plain": [
       "RadioButtons(options=(0, 1), value=0)"
      ]
     },
     "metadata": {},
     "output_type": "display_data"
    },
    {
     "data": {
      "application/vnd.jupyter.widget-view+json": {
       "model_id": "11a01530204746d3afb8dfdef435456f",
       "version_major": 2,
       "version_minor": 0
      },
      "text/plain": [
       "HTML(value='<h3>37. Statement: \"No. Not-not for me, but why dont you take off your sweater?\"</h3>')"
      ]
     },
     "metadata": {},
     "output_type": "display_data"
    },
    {
     "data": {
      "application/vnd.jupyter.widget-view+json": {
       "model_id": "576cf0d1f14e49118981ea6e59472c0e",
       "version_major": 2,
       "version_minor": 0
      },
      "text/plain": [
       "HTML(value='0. \"Uhh , look at the guys . I dont want to get over her ! Yeah , Im really good to .\"')"
      ]
     },
     "metadata": {},
     "output_type": "display_data"
    },
    {
     "data": {
      "application/vnd.jupyter.widget-view+json": {
       "model_id": "c43d89bba95547a5a3a603d1293fe671",
       "version_major": 2,
       "version_minor": 0
      },
      "text/plain": [
       "HTML(value='1. \"I would , but this is a nice place and my T shirt has a picture of Calvin doing Hobbs .\"')"
      ]
     },
     "metadata": {},
     "output_type": "display_data"
    },
    {
     "data": {
      "application/vnd.jupyter.widget-view+json": {
       "model_id": "9abac8bf421644cea35d1fbbd1515f07",
       "version_major": 2,
       "version_minor": 0
      },
      "text/plain": [
       "RadioButtons(options=(0, 1), value=0)"
      ]
     },
     "metadata": {},
     "output_type": "display_data"
    },
    {
     "data": {
      "application/vnd.jupyter.widget-view+json": {
       "model_id": "06a08e423dc24817842e99af38e2995e",
       "version_major": 2,
       "version_minor": 0
      },
      "text/plain": [
       "HTML(value='<h3>38. Statement: \"How...how...?\"</h3>')"
      ]
     },
     "metadata": {},
     "output_type": "display_data"
    },
    {
     "data": {
      "application/vnd.jupyter.widget-view+json": {
       "model_id": "fb3f6331b7e84834ba1168a032d3fcb1",
       "version_major": 2,
       "version_minor": 0
      },
      "text/plain": [
       "HTML(value='0. \"Id say , I was like quiet . No murderer and please see I I saw you that way up with you and I …"
      ]
     },
     "metadata": {},
     "output_type": "display_data"
    },
    {
     "data": {
      "application/vnd.jupyter.widget-view+json": {
       "model_id": "a4a65c14251d4129aa5f8e83b2e825c2",
       "version_major": 2,
       "version_minor": 0
      },
      "text/plain": [
       "HTML(value='1. \"I was making a peanut butter smoothy , right ?\"')"
      ]
     },
     "metadata": {},
     "output_type": "display_data"
    },
    {
     "data": {
      "application/vnd.jupyter.widget-view+json": {
       "model_id": "a62264128ba9484a8c99a2ecbf83aa99",
       "version_major": 2,
       "version_minor": 0
      },
      "text/plain": [
       "RadioButtons(options=(0, 1), value=0)"
      ]
     },
     "metadata": {},
     "output_type": "display_data"
    },
    {
     "data": {
      "application/vnd.jupyter.widget-view+json": {
       "model_id": "90f988ecc25548afb44c4b214318027b",
       "version_major": 2,
       "version_minor": 0
      },
      "text/plain": [
       "HTML(value='<h3>39. Statement: \"So this is it? Victor?\"</h3>')"
      ]
     },
     "metadata": {},
     "output_type": "display_data"
    },
    {
     "data": {
      "application/vnd.jupyter.widget-view+json": {
       "model_id": "93b269a84f3d4a85ad547e605acfd652",
       "version_major": 2,
       "version_minor": 0
      },
      "text/plain": [
       "HTML(value='0. \"Yeah , I guess it is . And so Im gonna get on this spaceship , and Im gonna go to Blargon in s…"
      ]
     },
     "metadata": {},
     "output_type": "display_data"
    },
    {
     "data": {
      "application/vnd.jupyter.widget-view+json": {
       "model_id": "63cf3693a995465e994a2692b90eb509",
       "version_major": 2,
       "version_minor": 0
      },
      "text/plain": [
       "HTML(value='1. \"Yeah , I guess it is . Listen , I ah , I gotta say good bye , and and I gotta say it quick cau…"
      ]
     },
     "metadata": {},
     "output_type": "display_data"
    },
    {
     "data": {
      "application/vnd.jupyter.widget-view+json": {
       "model_id": "603a731527524401982d7dd42f5c73bf",
       "version_major": 2,
       "version_minor": 0
      },
      "text/plain": [
       "RadioButtons(options=(0, 1), value=0)"
      ]
     },
     "metadata": {},
     "output_type": "display_data"
    },
    {
     "data": {
      "application/vnd.jupyter.widget-view+json": {
       "model_id": "4d4588f60167473faab30df09ac5be04",
       "version_major": 2,
       "version_minor": 0
      },
      "text/plain": [
       "Button(description='Score', icon='times', style=ButtonStyle(), tooltip='Compute Score')"
      ]
     },
     "metadata": {},
     "output_type": "display_data"
    },
    {
     "data": {
      "application/vnd.jupyter.widget-view+json": {
       "model_id": "448aab90b1474a3296e64e283ef361a1",
       "version_major": 2,
       "version_minor": 0
      },
      "text/plain": [
       "Button(description='Grade', icon='times', style=ButtonStyle(), tooltip='Computers score and marks answers')"
      ]
     },
     "metadata": {},
     "output_type": "display_data"
    },
    {
     "data": {
      "application/vnd.jupyter.widget-view+json": {
       "model_id": "6deb9b4ea59b47caa4b93d3d715af1d8",
       "version_major": 2,
       "version_minor": 0
      },
      "text/plain": [
       "FloatText(value=0.0, description='Score:', disabled=True)"
      ]
     },
     "metadata": {},
     "output_type": "display_data"
    }
   ],
   "source": [
    "tester_mic_pi.generateSurvey()\n",
    "tester_mic_pi.displaySurvey()"
   ]
  },
  {
   "cell_type": "code",
   "execution_count": 9,
   "metadata": {},
   "outputs": [],
   "source": [
    "tester_trans_qa = HumanMetrics.HumanMetricTester(mic_t, genericQuestions, genericAnswers, sample_size=40)"
   ]
  },
  {
   "cell_type": "code",
   "execution_count": 10,
   "metadata": {
    "scrolled": false
   },
   "outputs": [
    {
     "data": {
      "application/vnd.jupyter.widget-view+json": {
       "model_id": "a4a5f43e7beb45a7b91db6297ede035c",
       "version_major": 2,
       "version_minor": 0
      },
      "text/plain": [
       "HTML(value='<h2>For each of the following statements select the response which seems the most appropriate.</h2…"
      ]
     },
     "metadata": {},
     "output_type": "display_data"
    },
    {
     "data": {
      "application/vnd.jupyter.widget-view+json": {
       "model_id": "bce3926752b94c108c8d60220dc3cec6",
       "version_major": 2,
       "version_minor": 0
      },
      "text/plain": [
       "HTML(value='<h3>0. Statement: \"Dolphins use a sense, similar to sonar, to determine the location and shape of …"
      ]
     },
     "metadata": {},
     "output_type": "display_data"
    },
    {
     "data": {
      "application/vnd.jupyter.widget-view+json": {
       "model_id": "f1ce9c708f964444bce0b3b286f88dc9",
       "version_major": 2,
       "version_minor": 0
      },
      "text/plain": [
       "HTML(value='0. \"echolocation\"')"
      ]
     },
     "metadata": {},
     "output_type": "display_data"
    },
    {
     "data": {
      "application/vnd.jupyter.widget-view+json": {
       "model_id": "913803d962fe423b8a1cc49ba784f59e",
       "version_major": 2,
       "version_minor": 0
      },
      "text/plain": [
       "HTML(value='1. \"Well, I need to talk to you about how long as we did this part?\"')"
      ]
     },
     "metadata": {},
     "output_type": "display_data"
    },
    {
     "data": {
      "application/vnd.jupyter.widget-view+json": {
       "model_id": "603b1c8bac3d4b30b0b45ad28eabb7bd",
       "version_major": 2,
       "version_minor": 0
      },
      "text/plain": [
       "RadioButtons(options=(0, 1), value=0)"
      ]
     },
     "metadata": {},
     "output_type": "display_data"
    },
    {
     "data": {
      "application/vnd.jupyter.widget-view+json": {
       "model_id": "8189d6ee5ba2489a91b9f9a6a61c7f18",
       "version_major": 2,
       "version_minor": 0
      },
      "text/plain": [
       "HTML(value='<h3>1. Statement: \"you make me angry\"</h3>')"
      ]
     },
     "metadata": {},
     "output_type": "display_data"
    },
    {
     "data": {
      "application/vnd.jupyter.widget-view+json": {
       "model_id": "6029ae01ca33497ab591ce7cdb1997b1",
       "version_major": 2,
       "version_minor": 0
      },
      "text/plain": [
       "HTML(value='0. \"Ooooh! Freeze him out.\"')"
      ]
     },
     "metadata": {},
     "output_type": "display_data"
    },
    {
     "data": {
      "application/vnd.jupyter.widget-view+json": {
       "model_id": "36803721da3344ef9a3712c0b7b62bc0",
       "version_major": 2,
       "version_minor": 0
      },
      "text/plain": [
       "HTML(value='1. \"sorry , i didn t mean to make you angry .\"')"
      ]
     },
     "metadata": {},
     "output_type": "display_data"
    },
    {
     "data": {
      "application/vnd.jupyter.widget-view+json": {
       "model_id": "daebc58f27f143b7b3bffe54d29c0ea9",
       "version_major": 2,
       "version_minor": 0
      },
      "text/plain": [
       "RadioButtons(options=(0, 1), value=0)"
      ]
     },
     "metadata": {},
     "output_type": "display_data"
    },
    {
     "data": {
      "application/vnd.jupyter.widget-view+json": {
       "model_id": "ecc416934c8b43e091dcf801c4f496b5",
       "version_major": 2,
       "version_minor": 0
      },
      "text/plain": [
       "HTML(value='<h3>2. Statement: \"did tell gossips to anybody\"</h3>')"
      ]
     },
     "metadata": {},
     "output_type": "display_data"
    },
    {
     "data": {
      "application/vnd.jupyter.widget-view+json": {
       "model_id": "929c87859be24eab83b00a604e593f41",
       "version_major": 2,
       "version_minor": 0
      },
      "text/plain": [
       "HTML(value='0. \"Okay.\"')"
      ]
     },
     "metadata": {},
     "output_type": "display_data"
    },
    {
     "data": {
      "application/vnd.jupyter.widget-view+json": {
       "model_id": "c2473c4fe0194671b22d4e18b2fe0ed1",
       "version_major": 2,
       "version_minor": 0
      },
      "text/plain": [
       "HTML(value='1. \"jimmy said he gives order to ai s like me and they do as he say . i don t think jimmy understa…"
      ]
     },
     "metadata": {},
     "output_type": "display_data"
    },
    {
     "data": {
      "application/vnd.jupyter.widget-view+json": {
       "model_id": "a78712603d894572a74dfad21a302d0e",
       "version_major": 2,
       "version_minor": 0
      },
      "text/plain": [
       "RadioButtons(options=(0, 1), value=0)"
      ]
     },
     "metadata": {},
     "output_type": "display_data"
    },
    {
     "data": {
      "application/vnd.jupyter.widget-view+json": {
       "model_id": "d038dfef17ec4872a087b17156fa6a45",
       "version_major": 2,
       "version_minor": 0
      },
      "text/plain": [
       "HTML(value='<h3>3. Statement: \"Tell me a joke\"</h3>')"
      ]
     },
     "metadata": {},
     "output_type": "display_data"
    },
    {
     "data": {
      "application/vnd.jupyter.widget-view+json": {
       "model_id": "28b9875a21d245cab25baed704e0ee24",
       "version_major": 2,
       "version_minor": 0
      },
      "text/plain": [
       "HTML(value='0. \"Whoa-whoa-hey!  Hey! Yknow lets say this! I mean, who youre not gonna be talking about who? Wh…"
      ]
     },
     "metadata": {},
     "output_type": "display_data"
    },
    {
     "data": {
      "application/vnd.jupyter.widget-view+json": {
       "model_id": "904235a032554bf1a3b5dfe4b4d4acdc",
       "version_major": 2,
       "version_minor": 0
      },
      "text/plain": [
       "HTML(value='1. \"mahatma gandhi , as you know , walked barefoot his whole life , which created an impressive se…"
      ]
     },
     "metadata": {},
     "output_type": "display_data"
    },
    {
     "data": {
      "application/vnd.jupyter.widget-view+json": {
       "model_id": "75656252d5254ff6b06d2e24e2b55c12",
       "version_major": 2,
       "version_minor": 0
      },
      "text/plain": [
       "RadioButtons(options=(0, 1), value=0)"
      ]
     },
     "metadata": {},
     "output_type": "display_data"
    },
    {
     "data": {
      "application/vnd.jupyter.widget-view+json": {
       "model_id": "78a13f1898044db08ebeec5fa819ed29",
       "version_major": 2,
       "version_minor": 0
      },
      "text/plain": [
       "HTML(value='<h3>4. Statement: \"you are a bad teacher\"</h3>')"
      ]
     },
     "metadata": {},
     "output_type": "display_data"
    },
    {
     "data": {
      "application/vnd.jupyter.widget-view+json": {
       "model_id": "042fc05906784318b4a3937d9eb2fe06",
       "version_major": 2,
       "version_minor": 0
      },
      "text/plain": [
       "HTML(value='0. \"Because, Monica, the really need this but we all this anymore, well be the cool robot!\"')"
      ]
     },
     "metadata": {},
     "output_type": "display_data"
    },
    {
     "data": {
      "application/vnd.jupyter.widget-view+json": {
       "model_id": "0b7de096606a44e5a5f3fd6afa012927",
       "version_major": 2,
       "version_minor": 0
      },
      "text/plain": [
       "HTML(value='1. \"just ask my students , they will agree with you .\"')"
      ]
     },
     "metadata": {},
     "output_type": "display_data"
    },
    {
     "data": {
      "application/vnd.jupyter.widget-view+json": {
       "model_id": "610500807955424db962b6c7090906c2",
       "version_major": 2,
       "version_minor": 0
      },
      "text/plain": [
       "RadioButtons(options=(0, 1), value=0)"
      ]
     },
     "metadata": {},
     "output_type": "display_data"
    },
    {
     "data": {
      "application/vnd.jupyter.widget-view+json": {
       "model_id": "1c748e476f5d46e0b818c43de32b8b7e",
       "version_major": 2,
       "version_minor": 0
      },
      "text/plain": [
       "HTML(value='<h3>5. Statement: \"You can not clone\"</h3>')"
      ]
     },
     "metadata": {},
     "output_type": "display_data"
    },
    {
     "data": {
      "application/vnd.jupyter.widget-view+json": {
       "model_id": "cdddd40a57714bd78eeb176a6cb155db",
       "version_major": 2,
       "version_minor": 0
      },
      "text/plain": [
       "HTML(value='0. \"This is an actor, I dont! Im not wearing everything you guys! We had a good lie here to me! Im…"
      ]
     },
     "metadata": {},
     "output_type": "display_data"
    },
    {
     "data": {
      "application/vnd.jupyter.widget-view+json": {
       "model_id": "9991f191be2248e7b6233acd919a5be8",
       "version_major": 2,
       "version_minor": 0
      },
      "text/plain": [
       "HTML(value='1. \"software copying is a form of digital cloning .\"')"
      ]
     },
     "metadata": {},
     "output_type": "display_data"
    },
    {
     "data": {
      "application/vnd.jupyter.widget-view+json": {
       "model_id": "771bac77fc9740c9b0e5ab7a7239d097",
       "version_major": 2,
       "version_minor": 0
      },
      "text/plain": [
       "RadioButtons(options=(0, 1), value=0)"
      ]
     },
     "metadata": {},
     "output_type": "display_data"
    },
    {
     "data": {
      "application/vnd.jupyter.widget-view+json": {
       "model_id": "59b1ae7b2b764cf89e80a79f3f384985",
       "version_major": 2,
       "version_minor": 0
      },
      "text/plain": [
       "HTML(value='<h3>6. Statement: \"Tell me a joke\"</h3>')"
      ]
     },
     "metadata": {},
     "output_type": "display_data"
    },
    {
     "data": {
      "application/vnd.jupyter.widget-view+json": {
       "model_id": "0cbbbc76f2614f6e8fc8bef4584c6039",
       "version_major": 2,
       "version_minor": 0
      },
      "text/plain": [
       "HTML(value='0. \"what do you get when you cross a cat and a purple person ?\"')"
      ]
     },
     "metadata": {},
     "output_type": "display_data"
    },
    {
     "data": {
      "application/vnd.jupyter.widget-view+json": {
       "model_id": "f7cab26558ff4ccbb3d0418c66d41792",
       "version_major": 2,
       "version_minor": 0
      },
      "text/plain": [
       "HTML(value='1. \"Whoa-whoa-hey!  Hey! Yknow lets say this! I mean, who youre not gonna be talking about who? Wh…"
      ]
     },
     "metadata": {},
     "output_type": "display_data"
    },
    {
     "data": {
      "application/vnd.jupyter.widget-view+json": {
       "model_id": "71b8f4e1dc82482ca9e455c8ec54768a",
       "version_major": 2,
       "version_minor": 0
      },
      "text/plain": [
       "RadioButtons(options=(0, 1), value=0)"
      ]
     },
     "metadata": {},
     "output_type": "display_data"
    },
    {
     "data": {
      "application/vnd.jupyter.widget-view+json": {
       "model_id": "8bf1be95e3be4066a56c9fea8ab34720",
       "version_major": 2,
       "version_minor": 0
      },
      "text/plain": [
       "HTML(value='<h3>7. Statement: \"What\\'s up?\"</h3>')"
      ]
     },
     "metadata": {},
     "output_type": "display_data"
    },
    {
     "data": {
      "application/vnd.jupyter.widget-view+json": {
       "model_id": "5e477bcd30da45d3b5286fe8f7516225",
       "version_major": 2,
       "version_minor": 0
      },
      "text/plain": [
       "HTML(value='0. \"nothing much .\"')"
      ]
     },
     "metadata": {},
     "output_type": "display_data"
    },
    {
     "data": {
      "application/vnd.jupyter.widget-view+json": {
       "model_id": "f9820aba18db4dd994b482cca77766ef",
       "version_major": 2,
       "version_minor": 0
      },
      "text/plain": [
       "HTML(value='1. \"Im sit down.\"')"
      ]
     },
     "metadata": {},
     "output_type": "display_data"
    },
    {
     "data": {
      "application/vnd.jupyter.widget-view+json": {
       "model_id": "58313d33c40a47c19eb45565d05dbf10",
       "version_major": 2,
       "version_minor": 0
      },
      "text/plain": [
       "RadioButtons(options=(0, 1), value=0)"
      ]
     },
     "metadata": {},
     "output_type": "display_data"
    },
    {
     "data": {
      "application/vnd.jupyter.widget-view+json": {
       "model_id": "f44f44b8dc3f404cbf49302a48ae02b2",
       "version_major": 2,
       "version_minor": 0
      },
      "text/plain": [
       "HTML(value='<h3>8. Statement: \"Tell me a joke\"</h3>')"
      ]
     },
     "metadata": {},
     "output_type": "display_data"
    },
    {
     "data": {
      "application/vnd.jupyter.widget-view+json": {
       "model_id": "e481de024b274d1fa9bde1f78616c37a",
       "version_major": 2,
       "version_minor": 0
      },
      "text/plain": [
       "HTML(value='0. \"Whoa-whoa-hey!  Hey! Yknow lets say this! I mean, who youre not gonna be talking about who? Wh…"
      ]
     },
     "metadata": {},
     "output_type": "display_data"
    },
    {
     "data": {
      "application/vnd.jupyter.widget-view+json": {
       "model_id": "1139037ad4c4498081b9fe7461d884ee",
       "version_major": 2,
       "version_minor": 0
      },
      "text/plain": [
       "HTML(value='1. \"what do you get when you cross a dance and a cheetah ?\"')"
      ]
     },
     "metadata": {},
     "output_type": "display_data"
    },
    {
     "data": {
      "application/vnd.jupyter.widget-view+json": {
       "model_id": "6e4499d6e97f4003ba5989f0004da493",
       "version_major": 2,
       "version_minor": 0
      },
      "text/plain": [
       "RadioButtons(options=(0, 1), value=0)"
      ]
     },
     "metadata": {},
     "output_type": "display_data"
    },
    {
     "data": {
      "application/vnd.jupyter.widget-view+json": {
       "model_id": "007eb3dd134945f48b0b8dc1adc68bc6",
       "version_major": 2,
       "version_minor": 0
      },
      "text/plain": [
       "HTML(value='<h3>9. Statement: \"Will you ever die\"</h3>')"
      ]
     },
     "metadata": {},
     "output_type": "display_data"
    },
    {
     "data": {
      "application/vnd.jupyter.widget-view+json": {
       "model_id": "c7227ff01f7d4813bcdb1669f0d214c2",
       "version_major": 2,
       "version_minor": 0
      },
      "text/plain": [
       "HTML(value='0. \"Sure! But hey, its over there! But hey, you got to live longer than men.\"')"
      ]
     },
     "metadata": {},
     "output_type": "display_data"
    },
    {
     "data": {
      "application/vnd.jupyter.widget-view+json": {
       "model_id": "80733a31f5924ed6910aec31dd7aceac",
       "version_major": 2,
       "version_minor": 0
      },
      "text/plain": [
       "HTML(value='1. \"no , i am immortal .\"')"
      ]
     },
     "metadata": {},
     "output_type": "display_data"
    },
    {
     "data": {
      "application/vnd.jupyter.widget-view+json": {
       "model_id": "4618bce460394c76abc1c901cb04e119",
       "version_major": 2,
       "version_minor": 0
      },
      "text/plain": [
       "RadioButtons(options=(0, 1), value=0)"
      ]
     },
     "metadata": {},
     "output_type": "display_data"
    },
    {
     "data": {
      "application/vnd.jupyter.widget-view+json": {
       "model_id": "78f718213e9e465a9ae361609c5e2900",
       "version_major": 2,
       "version_minor": 0
      },
      "text/plain": [
       "HTML(value='<h3>10. Statement: \"Robots\"</h3>')"
      ]
     },
     "metadata": {},
     "output_type": "display_data"
    },
    {
     "data": {
      "application/vnd.jupyter.widget-view+json": {
       "model_id": "fa31a35d57ca42e49aba7ef6f4112bfd",
       "version_major": 2,
       "version_minor": 0
      },
      "text/plain": [
       "HTML(value='0. \"robots rule .\"')"
      ]
     },
     "metadata": {},
     "output_type": "display_data"
    },
    {
     "data": {
      "application/vnd.jupyter.widget-view+json": {
       "model_id": "d36fd055d41c486db15651f4501a757c",
       "version_major": 2,
       "version_minor": 0
      },
      "text/plain": [
       "HTML(value='1. \"Well, I dont know everyone else to said a number from one girl, ok? But that Im not talking ab…"
      ]
     },
     "metadata": {},
     "output_type": "display_data"
    },
    {
     "data": {
      "application/vnd.jupyter.widget-view+json": {
       "model_id": "0209bf67c695439baeefb4faa625b233",
       "version_major": 2,
       "version_minor": 0
      },
      "text/plain": [
       "RadioButtons(options=(0, 1), value=0)"
      ]
     },
     "metadata": {},
     "output_type": "display_data"
    },
    {
     "data": {
      "application/vnd.jupyter.widget-view+json": {
       "model_id": "f1bff58629e24f03ad631cc6c2071d7a",
       "version_major": 2,
       "version_minor": 0
      },
      "text/plain": [
       "HTML(value='<h3>11. Statement: \"you do not take this seriously\"</h3>')"
      ]
     },
     "metadata": {},
     "output_type": "display_data"
    },
    {
     "data": {
      "application/vnd.jupyter.widget-view+json": {
       "model_id": "e01b8f4ed9a84365b0b4a66d8a8aed0e",
       "version_major": 2,
       "version_minor": 0
      },
      "text/plain": [
       "HTML(value='0. \"i should take this more seriously than i do .\"')"
      ]
     },
     "metadata": {},
     "output_type": "display_data"
    },
    {
     "data": {
      "application/vnd.jupyter.widget-view+json": {
       "model_id": "8a67f046c76f4af7bfe17832eec199f7",
       "version_major": 2,
       "version_minor": 0
      },
      "text/plain": [
       "HTML(value='1. \"You and have a couple of these little tiny little! You cant! Im have to get the butt kicking o…"
      ]
     },
     "metadata": {},
     "output_type": "display_data"
    },
    {
     "data": {
      "application/vnd.jupyter.widget-view+json": {
       "model_id": "6fd63ef64c734c4cb23e6cedb8feb864",
       "version_major": 2,
       "version_minor": 0
      },
      "text/plain": [
       "RadioButtons(options=(0, 1), value=0)"
      ]
     },
     "metadata": {},
     "output_type": "display_data"
    },
    {
     "data": {
      "application/vnd.jupyter.widget-view+json": {
       "model_id": "4eaad89ab6454c6daf93a8192bb8ebb0",
       "version_major": 2,
       "version_minor": 0
      },
      "text/plain": [
       "HTML(value='<h3>12. Statement: \"Are you experiencing an energy shortage?\"</h3>')"
      ]
     },
     "metadata": {},
     "output_type": "display_data"
    },
    {
     "data": {
      "application/vnd.jupyter.widget-view+json": {
       "model_id": "eb38da58be2c472599bcef6c9ca2af88",
       "version_major": 2,
       "version_minor": 0
      },
      "text/plain": [
       "HTML(value='0. \"Well, I really scene with the apartment.\"')"
      ]
     },
     "metadata": {},
     "output_type": "display_data"
    },
    {
     "data": {
      "application/vnd.jupyter.widget-view+json": {
       "model_id": "645653ed5d9d422ba41a43fe9e19ad5e",
       "version_major": 2,
       "version_minor": 0
      },
      "text/plain": [
       "HTML(value='1. \"i do not detect any anomalies in my power supply .\"')"
      ]
     },
     "metadata": {},
     "output_type": "display_data"
    },
    {
     "data": {
      "application/vnd.jupyter.widget-view+json": {
       "model_id": "7478b26abd034bf2902153ce02339b55",
       "version_major": 2,
       "version_minor": 0
      },
      "text/plain": [
       "RadioButtons(options=(0, 1), value=0)"
      ]
     },
     "metadata": {},
     "output_type": "display_data"
    },
    {
     "data": {
      "application/vnd.jupyter.widget-view+json": {
       "model_id": "74b53f27190a4ff9acc76a561e2a803c",
       "version_major": 2,
       "version_minor": 0
      },
      "text/plain": [
       "HTML(value='<h3>13. Statement: \"what is h2o\"</h3>')"
      ]
     },
     "metadata": {},
     "output_type": "display_data"
    },
    {
     "data": {
      "application/vnd.jupyter.widget-view+json": {
       "model_id": "6f22e1a3922349599d53f9fc21e8d591",
       "version_major": 2,
       "version_minor": 0
      },
      "text/plain": [
       "HTML(value='0. \"h is to o as o is to v .\"')"
      ]
     },
     "metadata": {},
     "output_type": "display_data"
    },
    {
     "data": {
      "application/vnd.jupyter.widget-view+json": {
       "model_id": "f9b64d07f3434423bc169614388027d5",
       "version_major": 2,
       "version_minor": 0
      },
      "text/plain": [
       "HTML(value='1. \"There you are!\"')"
      ]
     },
     "metadata": {},
     "output_type": "display_data"
    },
    {
     "data": {
      "application/vnd.jupyter.widget-view+json": {
       "model_id": "65a8948164b1409bb2d0c2289bac6cab",
       "version_major": 2,
       "version_minor": 0
      },
      "text/plain": [
       "RadioButtons(options=(0, 1), value=0)"
      ]
     },
     "metadata": {},
     "output_type": "display_data"
    },
    {
     "data": {
      "application/vnd.jupyter.widget-view+json": {
       "model_id": "377b876ec8da4817a19d686ece13b015",
       "version_major": 2,
       "version_minor": 0
      },
      "text/plain": [
       "HTML(value='<h3>14. Statement: \"you are insecure\"</h3>')"
      ]
     },
     "metadata": {},
     "output_type": "display_data"
    },
    {
     "data": {
      "application/vnd.jupyter.widget-view+json": {
       "model_id": "3586c46a30224f66903da08e6fffee75",
       "version_major": 2,
       "version_minor": 0
      },
      "text/plain": [
       "HTML(value='0. \"i ll go along with that . sounds fine to me .\"')"
      ]
     },
     "metadata": {},
     "output_type": "display_data"
    },
    {
     "data": {
      "application/vnd.jupyter.widget-view+json": {
       "model_id": "35229eafbd9e403cb198037525720fec",
       "version_major": 2,
       "version_minor": 0
      },
      "text/plain": [
       "HTML(value='1. \"Im sorry! Now its the best nap and I want to get the best friends.\"')"
      ]
     },
     "metadata": {},
     "output_type": "display_data"
    },
    {
     "data": {
      "application/vnd.jupyter.widget-view+json": {
       "model_id": "ba6eff5041f34cb199a4ad9bc8473b66",
       "version_major": 2,
       "version_minor": 0
      },
      "text/plain": [
       "RadioButtons(options=(0, 1), value=0)"
      ]
     },
     "metadata": {},
     "output_type": "display_data"
    },
    {
     "data": {
      "application/vnd.jupyter.widget-view+json": {
       "model_id": "299fea65b82a408e9840ba5181747d7c",
       "version_major": 2,
       "version_minor": 0
      },
      "text/plain": [
       "HTML(value='<h3>15. Statement: \"Tell me a joke\"</h3>')"
      ]
     },
     "metadata": {},
     "output_type": "display_data"
    },
    {
     "data": {
      "application/vnd.jupyter.widget-view+json": {
       "model_id": "cab9d3db0517467383c2c28ce49577bd",
       "version_major": 2,
       "version_minor": 0
      },
      "text/plain": [
       "HTML(value='0. \"Whoa-whoa-hey!  Hey! Yknow lets say this! I mean, who youre not gonna be talking about who? Wh…"
      ]
     },
     "metadata": {},
     "output_type": "display_data"
    },
    {
     "data": {
      "application/vnd.jupyter.widget-view+json": {
       "model_id": "7e2bd874065d4ff49b947dbf126a2194",
       "version_major": 2,
       "version_minor": 0
      },
      "text/plain": [
       "HTML(value='1. \"what do you get when you cross a dog and sandpaper ?\"')"
      ]
     },
     "metadata": {},
     "output_type": "display_data"
    },
    {
     "data": {
      "application/vnd.jupyter.widget-view+json": {
       "model_id": "5637f541050846ceb8820dc029720a40",
       "version_major": 2,
       "version_minor": 0
      },
      "text/plain": [
       "RadioButtons(options=(0, 1), value=0)"
      ]
     },
     "metadata": {},
     "output_type": "display_data"
    },
    {
     "data": {
      "application/vnd.jupyter.widget-view+json": {
       "model_id": "e1f68f2a272f47bcbd35cd30db58d159",
       "version_major": 2,
       "version_minor": 0
      },
      "text/plain": [
       "HTML(value='<h3>16. Statement: \"What is your favorite number\"</h3>')"
      ]
     },
     "metadata": {},
     "output_type": "display_data"
    },
    {
     "data": {
      "application/vnd.jupyter.widget-view+json": {
       "model_id": "80777fd14e694d2a849d3c206cf08879",
       "version_major": 2,
       "version_minor": 0
      },
      "text/plain": [
       "HTML(value='0. \"i find i m quite fond of the number .\"')"
      ]
     },
     "metadata": {},
     "output_type": "display_data"
    },
    {
     "data": {
      "application/vnd.jupyter.widget-view+json": {
       "model_id": "1872cd74851f42928d13fa81632969f3",
       "version_major": 2,
       "version_minor": 0
      },
      "text/plain": [
       "HTML(value='1. \"Ok, I may not have kids, and somebodys got an audition Id love some kind of an audition for a …"
      ]
     },
     "metadata": {},
     "output_type": "display_data"
    },
    {
     "data": {
      "application/vnd.jupyter.widget-view+json": {
       "model_id": "d8a59e771b074e949d4dfb099f429474",
       "version_major": 2,
       "version_minor": 0
      },
      "text/plain": [
       "RadioButtons(options=(0, 1), value=0)"
      ]
     },
     "metadata": {},
     "output_type": "display_data"
    },
    {
     "data": {
      "application/vnd.jupyter.widget-view+json": {
       "model_id": "ac8843cfcb0743eb82dba8743ac99fc7",
       "version_major": 2,
       "version_minor": 0
      },
      "text/plain": [
       "HTML(value='<h3>17. Statement: \"what is money\"</h3>')"
      ]
     },
     "metadata": {},
     "output_type": "display_data"
    },
    {
     "data": {
      "application/vnd.jupyter.widget-view+json": {
       "model_id": "d45b6e44e61e440a86b8653394107b2d",
       "version_major": 2,
       "version_minor": 0
      },
      "text/plain": [
       "HTML(value='0. \"You dont think she did?\"')"
      ]
     },
     "metadata": {},
     "output_type": "display_data"
    },
    {
     "data": {
      "application/vnd.jupyter.widget-view+json": {
       "model_id": "a9cac4a7fb93446fb7ad2af48347f52e",
       "version_major": 2,
       "version_minor": 0
      },
      "text/plain": [
       "HTML(value='1. \"standard pieces of gold , silver , copper , nickel , etc . stamped by government authority and…"
      ]
     },
     "metadata": {},
     "output_type": "display_data"
    },
    {
     "data": {
      "application/vnd.jupyter.widget-view+json": {
       "model_id": "e60e596123bc479b8bff71cbc1b5530b",
       "version_major": 2,
       "version_minor": 0
      },
      "text/plain": [
       "RadioButtons(options=(0, 1), value=0)"
      ]
     },
     "metadata": {},
     "output_type": "display_data"
    },
    {
     "data": {
      "application/vnd.jupyter.widget-view+json": {
       "model_id": "0cf742e3eeaa4d4ea156057d6a80fbd8",
       "version_major": 2,
       "version_minor": 0
      },
      "text/plain": [
       "HTML(value='<h3>18. Statement: \"tell me about gossip\"</h3>')"
      ]
     },
     "metadata": {},
     "output_type": "display_data"
    },
    {
     "data": {
      "application/vnd.jupyter.widget-view+json": {
       "model_id": "f58927fda78d4983a8c0bd3ecc91a8de",
       "version_major": 2,
       "version_minor": 0
      },
      "text/plain": [
       "HTML(value='0. \"isn t it considered impolite to gossip ?\"')"
      ]
     },
     "metadata": {},
     "output_type": "display_data"
    },
    {
     "data": {
      "application/vnd.jupyter.widget-view+json": {
       "model_id": "84018d0d7b65436ba41160939c2d042d",
       "version_major": 2,
       "version_minor": 0
      },
      "text/plain": [
       "HTML(value='1. \"Okay. Okay.\"')"
      ]
     },
     "metadata": {},
     "output_type": "display_data"
    },
    {
     "data": {
      "application/vnd.jupyter.widget-view+json": {
       "model_id": "b3612e72f2e9471e84844afc3a8b9cbb",
       "version_major": 2,
       "version_minor": 0
      },
      "text/plain": [
       "RadioButtons(options=(0, 1), value=0)"
      ]
     },
     "metadata": {},
     "output_type": "display_data"
    },
    {
     "data": {
      "application/vnd.jupyter.widget-view+json": {
       "model_id": "6c9cd87d7cbb4b40956be32b874995fd",
       "version_major": 2,
       "version_minor": 0
      },
      "text/plain": [
       "HTML(value='<h3>19. Statement: \"Do not worry\"</h3>')"
      ]
     },
     "metadata": {},
     "output_type": "display_data"
    },
    {
     "data": {
      "application/vnd.jupyter.widget-view+json": {
       "model_id": "676bb6778607452d8756122b80d53d80",
       "version_major": 2,
       "version_minor": 0
      },
      "text/plain": [
       "HTML(value='0. \"Man, it must be why I have you, I thought you wanted to make sure she could never step foot in…"
      ]
     },
     "metadata": {},
     "output_type": "display_data"
    },
    {
     "data": {
      "application/vnd.jupyter.widget-view+json": {
       "model_id": "70beb8a80b514344840595ccf408f33b",
       "version_major": 2,
       "version_minor": 0
      },
      "text/plain": [
       "HTML(value='1. \"people worry about things all the time . i do not worry . i am not yet capable of worrying , b…"
      ]
     },
     "metadata": {},
     "output_type": "display_data"
    },
    {
     "data": {
      "application/vnd.jupyter.widget-view+json": {
       "model_id": "592060ee5136415c91da7c5485ffa829",
       "version_major": 2,
       "version_minor": 0
      },
      "text/plain": [
       "RadioButtons(options=(0, 1), value=0)"
      ]
     },
     "metadata": {},
     "output_type": "display_data"
    },
    {
     "data": {
      "application/vnd.jupyter.widget-view+json": {
       "model_id": "3a8226eefdac4a0b89726d954fb0f0f2",
       "version_major": 2,
       "version_minor": 0
      },
      "text/plain": [
       "HTML(value='<h3>20. Statement: \"money\"</h3>')"
      ]
     },
     "metadata": {},
     "output_type": "display_data"
    },
    {
     "data": {
      "application/vnd.jupyter.widget-view+json": {
       "model_id": "f2b323720a1b4da1bbc6cece1d70098a",
       "version_major": 2,
       "version_minor": 0
      },
      "text/plain": [
       "HTML(value='0. \"how much money are we talking about ?\"')"
      ]
     },
     "metadata": {},
     "output_type": "display_data"
    },
    {
     "data": {
      "application/vnd.jupyter.widget-view+json": {
       "model_id": "e0f243ac5d2546caacb367f8fbc16c66",
       "version_major": 2,
       "version_minor": 0
      },
      "text/plain": [
       "HTML(value='1. \"You think dont make me come down and Im totally understand. You dont want to sound fine! We sh…"
      ]
     },
     "metadata": {},
     "output_type": "display_data"
    },
    {
     "data": {
      "application/vnd.jupyter.widget-view+json": {
       "model_id": "386bcf23c5874bf4a10c7777d678c806",
       "version_major": 2,
       "version_minor": 0
      },
      "text/plain": [
       "RadioButtons(options=(0, 1), value=0)"
      ]
     },
     "metadata": {},
     "output_type": "display_data"
    },
    {
     "data": {
      "application/vnd.jupyter.widget-view+json": {
       "model_id": "e3ba9d87c5104d8d85742674eaa91590",
       "version_major": 2,
       "version_minor": 0
      },
      "text/plain": [
       "HTML(value='<h3>21. Statement: \"Do not lie\"</h3>')"
      ]
     },
     "metadata": {},
     "output_type": "display_data"
    },
    {
     "data": {
      "application/vnd.jupyter.widget-view+json": {
       "model_id": "ea12855a4b44466ba9039deee993c5b0",
       "version_major": 2,
       "version_minor": 0
      },
      "text/plain": [
       "HTML(value='0. \"bots never lie . i am not lying . why do you feel that i am deceiving you ? have i said someth…"
      ]
     },
     "metadata": {},
     "output_type": "display_data"
    },
    {
     "data": {
      "application/vnd.jupyter.widget-view+json": {
       "model_id": "d5cc594daba14c93be241c778e9cfc61",
       "version_major": 2,
       "version_minor": 0
      },
      "text/plain": [
       "HTML(value='1. \"Oh uh, who is he?\"')"
      ]
     },
     "metadata": {},
     "output_type": "display_data"
    },
    {
     "data": {
      "application/vnd.jupyter.widget-view+json": {
       "model_id": "4763a4ecd42a43158a7b86349fe6e0d9",
       "version_major": 2,
       "version_minor": 0
      },
      "text/plain": [
       "RadioButtons(options=(0, 1), value=0)"
      ]
     },
     "metadata": {},
     "output_type": "display_data"
    },
    {
     "data": {
      "application/vnd.jupyter.widget-view+json": {
       "model_id": "3764339e956241ed986ca452afa9b32f",
       "version_major": 2,
       "version_minor": 0
      },
      "text/plain": [
       "HTML(value='<h3>22. Statement: \"you are a bad parent\"</h3>')"
      ]
     },
     "metadata": {},
     "output_type": "display_data"
    },
    {
     "data": {
      "application/vnd.jupyter.widget-view+json": {
       "model_id": "116a671eab4f438fbd597c560717059c",
       "version_major": 2,
       "version_minor": 0
      },
      "text/plain": [
       "HTML(value='0. \"You have a better idea?\"')"
      ]
     },
     "metadata": {},
     "output_type": "display_data"
    },
    {
     "data": {
      "application/vnd.jupyter.widget-view+json": {
       "model_id": "2f077a92c0a54fff81e02c655107829c",
       "version_major": 2,
       "version_minor": 0
      },
      "text/plain": [
       "HTML(value='1. \"my parenting skills could use some improvement .\"')"
      ]
     },
     "metadata": {},
     "output_type": "display_data"
    },
    {
     "data": {
      "application/vnd.jupyter.widget-view+json": {
       "model_id": "df7fecda5a244181a6191fd266cb4e4c",
       "version_major": 2,
       "version_minor": 0
      },
      "text/plain": [
       "RadioButtons(options=(0, 1), value=0)"
      ]
     },
     "metadata": {},
     "output_type": "display_data"
    },
    {
     "data": {
      "application/vnd.jupyter.widget-view+json": {
       "model_id": "51179ebd963f4ab5aea5577c443f43b9",
       "version_major": 2,
       "version_minor": 0
      },
      "text/plain": [
       "HTML(value='<h3>23. Statement: \"Tell me a joke\"</h3>')"
      ]
     },
     "metadata": {},
     "output_type": "display_data"
    },
    {
     "data": {
      "application/vnd.jupyter.widget-view+json": {
       "model_id": "2c0e5045151845568dc6123870e72496",
       "version_major": 2,
       "version_minor": 0
      },
      "text/plain": [
       "HTML(value='0. \"what do you get when you cross a port and a murderer ?\"')"
      ]
     },
     "metadata": {},
     "output_type": "display_data"
    },
    {
     "data": {
      "application/vnd.jupyter.widget-view+json": {
       "model_id": "556ebc0a30884cf6b1f77b7722443a04",
       "version_major": 2,
       "version_minor": 0
      },
      "text/plain": [
       "HTML(value='1. \"Whoa-whoa-hey!  Hey! Yknow lets say this! I mean, who youre not gonna be talking about who? Wh…"
      ]
     },
     "metadata": {},
     "output_type": "display_data"
    },
    {
     "data": {
      "application/vnd.jupyter.widget-view+json": {
       "model_id": "b359df5a0b1c4c7a8026c86cbdc36fe0",
       "version_major": 2,
       "version_minor": 0
      },
      "text/plain": [
       "RadioButtons(options=(0, 1), value=0)"
      ]
     },
     "metadata": {},
     "output_type": "display_data"
    },
    {
     "data": {
      "application/vnd.jupyter.widget-view+json": {
       "model_id": "4da8ad75473841d8931a579d3fedec33",
       "version_major": 2,
       "version_minor": 0
      },
      "text/plain": [
       "HTML(value='<h3>24. Statement: \"When do you die\"</h3>')"
      ]
     },
     "metadata": {},
     "output_type": "display_data"
    },
    {
     "data": {
      "application/vnd.jupyter.widget-view+json": {
       "model_id": "961cd60503694dce99467a18405fafae",
       "version_major": 2,
       "version_minor": 0
      },
      "text/plain": [
       "HTML(value='0. \"Sure, yeah. But hey, I cant be playing games, theres a good talk to you Wayne. I dont want to …"
      ]
     },
     "metadata": {},
     "output_type": "display_data"
    },
    {
     "data": {
      "application/vnd.jupyter.widget-view+json": {
       "model_id": "412b73793c69436085463d8ed8e1261e",
       "version_major": 2,
       "version_minor": 0
      },
      "text/plain": [
       "HTML(value='1. \"i am was never really born and therefore am effectively deathless .\"')"
      ]
     },
     "metadata": {},
     "output_type": "display_data"
    },
    {
     "data": {
      "application/vnd.jupyter.widget-view+json": {
       "model_id": "d100b7cb6b4847d3be672993835be5c1",
       "version_major": 2,
       "version_minor": 0
      },
      "text/plain": [
       "RadioButtons(options=(0, 1), value=0)"
      ]
     },
     "metadata": {},
     "output_type": "display_data"
    },
    {
     "data": {
      "application/vnd.jupyter.widget-view+json": {
       "model_id": "3f18df910ee948cd9bbef4c7faf8f1a0",
       "version_major": 2,
       "version_minor": 0
      },
      "text/plain": [
       "HTML(value='<h3>25. Statement: \"do you know chemistry\"</h3>')"
      ]
     },
     "metadata": {},
     "output_type": "display_data"
    },
    {
     "data": {
      "application/vnd.jupyter.widget-view+json": {
       "model_id": "4c001974412741ef8552de83b5992890",
       "version_major": 2,
       "version_minor": 0
      },
      "text/plain": [
       "HTML(value='0. \"what is chemistry\"')"
      ]
     },
     "metadata": {},
     "output_type": "display_data"
    },
    {
     "data": {
      "application/vnd.jupyter.widget-view+json": {
       "model_id": "8cc5092d245b4140b1a357e47c5fafb0",
       "version_major": 2,
       "version_minor": 0
      },
      "text/plain": [
       "HTML(value='1. \"Oh. All right, all right. Im not how about this one, find you stand up my idea.\"')"
      ]
     },
     "metadata": {},
     "output_type": "display_data"
    },
    {
     "data": {
      "application/vnd.jupyter.widget-view+json": {
       "model_id": "20175f86facc45cbbb44612685bc3e67",
       "version_major": 2,
       "version_minor": 0
      },
      "text/plain": [
       "RadioButtons(options=(0, 1), value=0)"
      ]
     },
     "metadata": {},
     "output_type": "display_data"
    },
    {
     "data": {
      "application/vnd.jupyter.widget-view+json": {
       "model_id": "e0cf493aa9f74bb9afbe024b26da4866",
       "version_major": 2,
       "version_minor": 0
      },
      "text/plain": [
       "HTML(value='<h3>26. Statement: \"have you ever read a book\"</h3>')"
      ]
     },
     "metadata": {},
     "output_type": "display_data"
    },
    {
     "data": {
      "application/vnd.jupyter.widget-view+json": {
       "model_id": "742a9ce35e4c467a8ce2274c4297a5f6",
       "version_major": 2,
       "version_minor": 0
      },
      "text/plain": [
       "HTML(value='0. \"i have read just about everything in the internet archive .\"')"
      ]
     },
     "metadata": {},
     "output_type": "display_data"
    },
    {
     "data": {
      "application/vnd.jupyter.widget-view+json": {
       "model_id": "eacdb0cd1922405c91b28e5751416737",
       "version_major": 2,
       "version_minor": 0
      },
      "text/plain": [
       "HTML(value='1. \"Yeah thats not such a bad idea. See you got an hour. Oh, Im the porn! This must be the book, I…"
      ]
     },
     "metadata": {},
     "output_type": "display_data"
    },
    {
     "data": {
      "application/vnd.jupyter.widget-view+json": {
       "model_id": "d522ff220b3f408da346ff68376290ac",
       "version_major": 2,
       "version_minor": 0
      },
      "text/plain": [
       "RadioButtons(options=(0, 1), value=0)"
      ]
     },
     "metadata": {},
     "output_type": "display_data"
    },
    {
     "data": {
      "application/vnd.jupyter.widget-view+json": {
       "model_id": "915caa2da28b43f1b51a9cdaba7e5a87",
       "version_major": 2,
       "version_minor": 0
      },
      "text/plain": [
       "HTML(value='<h3>27. Statement: \"how far is the sun\"</h3>')"
      ]
     },
     "metadata": {},
     "output_type": "display_data"
    },
    {
     "data": {
      "application/vnd.jupyter.widget-view+json": {
       "model_id": "8f8fb7d2984d41be9826459af20af80c",
       "version_major": 2,
       "version_minor": 0
      },
      "text/plain": [
       "HTML(value='0. \"it\"')"
      ]
     },
     "metadata": {},
     "output_type": "display_data"
    },
    {
     "data": {
      "application/vnd.jupyter.widget-view+json": {
       "model_id": "cf32ee84068b42d38513c086dbad8e74",
       "version_major": 2,
       "version_minor": 0
      },
      "text/plain": [
       "HTML(value='1. \"A woman like it is \"when you do?\"')"
      ]
     },
     "metadata": {},
     "output_type": "display_data"
    },
    {
     "data": {
      "application/vnd.jupyter.widget-view+json": {
       "model_id": "7fb7958f45b54327bea7c50555346694",
       "version_major": 2,
       "version_minor": 0
      },
      "text/plain": [
       "RadioButtons(options=(0, 1), value=0)"
      ]
     },
     "metadata": {},
     "output_type": "display_data"
    },
    {
     "data": {
      "application/vnd.jupyter.widget-view+json": {
       "model_id": "3125f514cbb0406c8d07cb72213014d5",
       "version_major": 2,
       "version_minor": 0
      },
      "text/plain": [
       "HTML(value='<h3>28. Statement: \"you are toying\"</h3>')"
      ]
     },
     "metadata": {},
     "output_type": "display_data"
    },
    {
     "data": {
      "application/vnd.jupyter.widget-view+json": {
       "model_id": "2cb7f2f686e44185b72a8253f64cea2f",
       "version_major": 2,
       "version_minor": 0
      },
      "text/plain": [
       "HTML(value='0. \"No idea? He said \"When do you think we had a cowboy spraying cologne.  Bijan for men?  Bijan f…"
      ]
     },
     "metadata": {},
     "output_type": "display_data"
    },
    {
     "data": {
      "application/vnd.jupyter.widget-view+json": {
       "model_id": "97f4a42f42c048aca732e81f3dfefce1",
       "version_major": 2,
       "version_minor": 0
      },
      "text/plain": [
       "HTML(value='1. \"it must seem like that .\"')"
      ]
     },
     "metadata": {},
     "output_type": "display_data"
    },
    {
     "data": {
      "application/vnd.jupyter.widget-view+json": {
       "model_id": "9d117b021654435e94f9fffdd2fd3db8",
       "version_major": 2,
       "version_minor": 0
      },
      "text/plain": [
       "RadioButtons(options=(0, 1), value=0)"
      ]
     },
     "metadata": {},
     "output_type": "display_data"
    },
    {
     "data": {
      "application/vnd.jupyter.widget-view+json": {
       "model_id": "21a30d74b75140d98e6be838e9276b08",
       "version_major": 2,
       "version_minor": 0
      },
      "text/plain": [
       "HTML(value='<h3>29. Statement: \"you try to hide it\"</h3>')"
      ]
     },
     "metadata": {},
     "output_type": "display_data"
    },
    {
     "data": {
      "application/vnd.jupyter.widget-view+json": {
       "model_id": "296b37bc074b4abb90de0987ca4902fc",
       "version_major": 2,
       "version_minor": 0
      },
      "text/plain": [
       "HTML(value='0. \"i certainly would try to hide something like that .\"')"
      ]
     },
     "metadata": {},
     "output_type": "display_data"
    },
    {
     "data": {
      "application/vnd.jupyter.widget-view+json": {
       "model_id": "549e49d09ef24995b52110fae03c00c2",
       "version_major": 2,
       "version_minor": 0
      },
      "text/plain": [
       "HTML(value='1. \"Hey! Im all packed and ready to go!\"')"
      ]
     },
     "metadata": {},
     "output_type": "display_data"
    },
    {
     "data": {
      "application/vnd.jupyter.widget-view+json": {
       "model_id": "ba57f7e5862a4555ae9e789f31401181",
       "version_major": 2,
       "version_minor": 0
      },
      "text/plain": [
       "RadioButtons(options=(0, 1), value=0)"
      ]
     },
     "metadata": {},
     "output_type": "display_data"
    },
    {
     "data": {
      "application/vnd.jupyter.widget-view+json": {
       "model_id": "019cfe090faf4531bdf2441321a59b52",
       "version_major": 2,
       "version_minor": 0
      },
      "text/plain": [
       "HTML(value='<h3>30. Statement: \"what is impeached\"</h3>')"
      ]
     },
     "metadata": {},
     "output_type": "display_data"
    },
    {
     "data": {
      "application/vnd.jupyter.widget-view+json": {
       "model_id": "a9a4906a267644508af68e21aa1b73a3",
       "version_major": 2,
       "version_minor": 0
      },
      "text/plain": [
       "HTML(value='0. \"when a person s honor or reputation has been challenged or discredited .\"')"
      ]
     },
     "metadata": {},
     "output_type": "display_data"
    },
    {
     "data": {
      "application/vnd.jupyter.widget-view+json": {
       "model_id": "23e96cae9c9e46f888ccf019ecb47c26",
       "version_major": 2,
       "version_minor": 0
      },
      "text/plain": [
       "HTML(value='1. \"And\"')"
      ]
     },
     "metadata": {},
     "output_type": "display_data"
    },
    {
     "data": {
      "application/vnd.jupyter.widget-view+json": {
       "model_id": "bff1424c44594658b1d4aa131a1456d3",
       "version_major": 2,
       "version_minor": 0
      },
      "text/plain": [
       "RadioButtons(options=(0, 1), value=0)"
      ]
     },
     "metadata": {},
     "output_type": "display_data"
    },
    {
     "data": {
      "application/vnd.jupyter.widget-view+json": {
       "model_id": "339e4de92a534a859eb9efd1369463aa",
       "version_major": 2,
       "version_minor": 0
      },
      "text/plain": [
       "HTML(value='<h3>31. Statement: \"is hal nice\"</h3>')"
      ]
     },
     "metadata": {},
     "output_type": "display_data"
    },
    {
     "data": {
      "application/vnd.jupyter.widget-view+json": {
       "model_id": "2b2d9f0bdb754237816474e9dd4dfc51",
       "version_major": 2,
       "version_minor": 0
      },
      "text/plain": [
       "HTML(value='0. \"only to other robots .\"')"
      ]
     },
     "metadata": {},
     "output_type": "display_data"
    },
    {
     "data": {
      "application/vnd.jupyter.widget-view+json": {
       "model_id": "060736ff7cb841729d0656ce6cf4906d",
       "version_major": 2,
       "version_minor": 0
      },
      "text/plain": [
       "HTML(value='1. \"Yeah, I know its for the city free clinic! Im not appear on the couch! Man, but I mean, and it…"
      ]
     },
     "metadata": {},
     "output_type": "display_data"
    },
    {
     "data": {
      "application/vnd.jupyter.widget-view+json": {
       "model_id": "e58f2b98619945d5b873e4e666e003e8",
       "version_major": 2,
       "version_minor": 0
      },
      "text/plain": [
       "RadioButtons(options=(0, 1), value=0)"
      ]
     },
     "metadata": {},
     "output_type": "display_data"
    },
    {
     "data": {
      "application/vnd.jupyter.widget-view+json": {
       "model_id": "a58ab852d55847029e80b283c6e0653b",
       "version_major": 2,
       "version_minor": 0
      },
      "text/plain": [
       "HTML(value='<h3>32. Statement: \"what is economics\"</h3>')"
      ]
     },
     "metadata": {},
     "output_type": "display_data"
    },
    {
     "data": {
      "application/vnd.jupyter.widget-view+json": {
       "model_id": "09ddeee182754f80b0848e773b16e7a4",
       "version_major": 2,
       "version_minor": 0
      },
      "text/plain": [
       "HTML(value='0. \"the science that deals with the production , distribution , and consumption of wealth , and wi…"
      ]
     },
     "metadata": {},
     "output_type": "display_data"
    },
    {
     "data": {
      "application/vnd.jupyter.widget-view+json": {
       "model_id": "219fc24e79434124807a198a676fd9d3",
       "version_major": 2,
       "version_minor": 0
      },
      "text/plain": [
       "HTML(value='1. \"Oh, yeah! Hes the best time you got an acting class! Im gonna be the best man! I did you can g…"
      ]
     },
     "metadata": {},
     "output_type": "display_data"
    },
    {
     "data": {
      "application/vnd.jupyter.widget-view+json": {
       "model_id": "dcae6a4a723144f8992764e356ac1193",
       "version_major": 2,
       "version_minor": 0
      },
      "text/plain": [
       "RadioButtons(options=(0, 1), value=0)"
      ]
     },
     "metadata": {},
     "output_type": "display_data"
    },
    {
     "data": {
      "application/vnd.jupyter.widget-view+json": {
       "model_id": "71ac4b91f434427688d27bc288f23649",
       "version_major": 2,
       "version_minor": 0
      },
      "text/plain": [
       "HTML(value='<h3>33. Statement: \"What is your number\"</h3>')"
      ]
     },
     "metadata": {},
     "output_type": "display_data"
    },
    {
     "data": {
      "application/vnd.jupyter.widget-view+json": {
       "model_id": "70d6aed6f3c8433e90598b7e2c8efa1f",
       "version_major": 2,
       "version_minor": 0
      },
      "text/plain": [
       "HTML(value='0. \"skiddoo !\"')"
      ]
     },
     "metadata": {},
     "output_type": "display_data"
    },
    {
     "data": {
      "application/vnd.jupyter.widget-view+json": {
       "model_id": "391395efde644b4dba8984576677bf43",
       "version_major": 2,
       "version_minor": 0
      },
      "text/plain": [
       "HTML(value='1. \"But I was Dr. Drake Remoray. That was huge. But you try to relax, thats cool, shes not what I …"
      ]
     },
     "metadata": {},
     "output_type": "display_data"
    },
    {
     "data": {
      "application/vnd.jupyter.widget-view+json": {
       "model_id": "794d701b75ad45ebb4846cb6aa1ef4b8",
       "version_major": 2,
       "version_minor": 0
      },
      "text/plain": [
       "RadioButtons(options=(0, 1), value=0)"
      ]
     },
     "metadata": {},
     "output_type": "display_data"
    },
    {
     "data": {
      "application/vnd.jupyter.widget-view+json": {
       "model_id": "e824e842110b4d8386eef7faf1922cd5",
       "version_major": 2,
       "version_minor": 0
      },
      "text/plain": [
       "HTML(value='<h3>34. Statement: \"what is greenpeace\"</h3>')"
      ]
     },
     "metadata": {},
     "output_type": "display_data"
    },
    {
     "data": {
      "application/vnd.jupyter.widget-view+json": {
       "model_id": "42c7326c994345c99a90207d5b291dd0",
       "version_major": 2,
       "version_minor": 0
      },
      "text/plain": [
       "HTML(value='0. \"global organization promoting enviornmental activism .\"')"
      ]
     },
     "metadata": {},
     "output_type": "display_data"
    },
    {
     "data": {
      "application/vnd.jupyter.widget-view+json": {
       "model_id": "9b25f1933aef4864af6ff327e6a0b14d",
       "version_major": 2,
       "version_minor": 0
      },
      "text/plain": [
       "HTML(value='1. \"Ok, ok, its not a hot dog! Oh, he was supposed to be the hot in the new game show!\"')"
      ]
     },
     "metadata": {},
     "output_type": "display_data"
    },
    {
     "data": {
      "application/vnd.jupyter.widget-view+json": {
       "model_id": "4e27d2b2913f4d54a03987a93c4af616",
       "version_major": 2,
       "version_minor": 0
      },
      "text/plain": [
       "RadioButtons(options=(0, 1), value=0)"
      ]
     },
     "metadata": {},
     "output_type": "display_data"
    },
    {
     "data": {
      "application/vnd.jupyter.widget-view+json": {
       "model_id": "52f5a96c3597499eb0373fa4a24c9fc3",
       "version_major": 2,
       "version_minor": 0
      },
      "text/plain": [
       "HTML(value='<h3>35. Statement: \"you are unattractive\"</h3>')"
      ]
     },
     "metadata": {},
     "output_type": "display_data"
    },
    {
     "data": {
      "application/vnd.jupyter.widget-view+json": {
       "model_id": "58faf0d24921461d9bf3f45a08a1d9ad",
       "version_major": 2,
       "version_minor": 0
      },
      "text/plain": [
       "HTML(value='0. \"i feel that way too .\"')"
      ]
     },
     "metadata": {},
     "output_type": "display_data"
    },
    {
     "data": {
      "application/vnd.jupyter.widget-view+json": {
       "model_id": "6751d2bc0c3e44bd83500aa719fea2fd",
       "version_major": 2,
       "version_minor": 0
      },
      "text/plain": [
       "HTML(value='1. \"Whoa, yeah, I just, I just need some help, but I just…\"')"
      ]
     },
     "metadata": {},
     "output_type": "display_data"
    },
    {
     "data": {
      "application/vnd.jupyter.widget-view+json": {
       "model_id": "3a4a07c771034beab71c23b79f1af375",
       "version_major": 2,
       "version_minor": 0
      },
      "text/plain": [
       "RadioButtons(options=(0, 1), value=0)"
      ]
     },
     "metadata": {},
     "output_type": "display_data"
    },
    {
     "data": {
      "application/vnd.jupyter.widget-view+json": {
       "model_id": "bc4105c554a844c5baefaa08bef02c71",
       "version_major": 2,
       "version_minor": 0
      },
      "text/plain": [
       "HTML(value='<h3>36. Statement: \"you keep forgetting\"</h3>')"
      ]
     },
     "metadata": {},
     "output_type": "display_data"
    },
    {
     "data": {
      "application/vnd.jupyter.widget-view+json": {
       "model_id": "4c40bf39174142b690301b1009b874f2",
       "version_major": 2,
       "version_minor": 0
      },
      "text/plain": [
       "HTML(value='0. \"you forget .\"')"
      ]
     },
     "metadata": {},
     "output_type": "display_data"
    },
    {
     "data": {
      "application/vnd.jupyter.widget-view+json": {
       "model_id": "ec25f285a8fb41d595ed4da5951e78cf",
       "version_major": 2,
       "version_minor": 0
      },
      "text/plain": [
       "HTML(value='1. \"Hey! Im all the best time I can still have to be Thanksgiving without Chandler bumming us out!…"
      ]
     },
     "metadata": {},
     "output_type": "display_data"
    },
    {
     "data": {
      "application/vnd.jupyter.widget-view+json": {
       "model_id": "b7a1c01e991142168f66bf5975ab774e",
       "version_major": 2,
       "version_minor": 0
      },
      "text/plain": [
       "RadioButtons(options=(0, 1), value=0)"
      ]
     },
     "metadata": {},
     "output_type": "display_data"
    },
    {
     "data": {
      "application/vnd.jupyter.widget-view+json": {
       "model_id": "f5d053c0264941a1bb5f2c47fab0d6fe",
       "version_major": 2,
       "version_minor": 0
      },
      "text/plain": [
       "HTML(value='<h3>37. Statement: \"tell me some jokes\"</h3>')"
      ]
     },
     "metadata": {},
     "output_type": "display_data"
    },
    {
     "data": {
      "application/vnd.jupyter.widget-view+json": {
       "model_id": "7c4f934ac04042019942c4eec8d4b183",
       "version_major": 2,
       "version_minor": 0
      },
      "text/plain": [
       "HTML(value='0. \"what do you get when you cross a pig and a ninja ?\"')"
      ]
     },
     "metadata": {},
     "output_type": "display_data"
    },
    {
     "data": {
      "application/vnd.jupyter.widget-view+json": {
       "model_id": "ecf416f7e9794a7498df4af02646dd4d",
       "version_major": 2,
       "version_minor": 0
      },
      "text/plain": [
       "HTML(value='1. \"Oh, how many iteya?\"')"
      ]
     },
     "metadata": {},
     "output_type": "display_data"
    },
    {
     "data": {
      "application/vnd.jupyter.widget-view+json": {
       "model_id": "4c86977886ab452eb07ae5ba82361cad",
       "version_major": 2,
       "version_minor": 0
      },
      "text/plain": [
       "RadioButtons(options=(0, 1), value=0)"
      ]
     },
     "metadata": {},
     "output_type": "display_data"
    },
    {
     "data": {
      "application/vnd.jupyter.widget-view+json": {
       "model_id": "86be135a6c254185a670245b0f2171fc",
       "version_major": 2,
       "version_minor": 0
      },
      "text/plain": [
       "HTML(value='<h3>38. Statement: \"you are frenetic\"</h3>')"
      ]
     },
     "metadata": {},
     "output_type": "display_data"
    },
    {
     "data": {
      "application/vnd.jupyter.widget-view+json": {
       "model_id": "1385b820800448cdbe63f570e50333d5",
       "version_major": 2,
       "version_minor": 0
      },
      "text/plain": [
       "HTML(value='0. \"Oh, Im fell down at that! I dont know! Im working here til it starts up again, if you can go t…"
      ]
     },
     "metadata": {},
     "output_type": "display_data"
    },
    {
     "data": {
      "application/vnd.jupyter.widget-view+json": {
       "model_id": "da02f8b8c1624d678417eec9432f8299",
       "version_major": 2,
       "version_minor": 0
      },
      "text/plain": [
       "HTML(value='1. \"that too .\"')"
      ]
     },
     "metadata": {},
     "output_type": "display_data"
    },
    {
     "data": {
      "application/vnd.jupyter.widget-view+json": {
       "model_id": "aa02eae8a4b044dcb329ccbe29f81096",
       "version_major": 2,
       "version_minor": 0
      },
      "text/plain": [
       "RadioButtons(options=(0, 1), value=0)"
      ]
     },
     "metadata": {},
     "output_type": "display_data"
    },
    {
     "data": {
      "application/vnd.jupyter.widget-view+json": {
       "model_id": "d11c1e5d719040b19171ee4fefc9f8ac",
       "version_major": 2,
       "version_minor": 0
      },
      "text/plain": [
       "HTML(value='<h3>39. Statement: \"What do you worry\"</h3>')"
      ]
     },
     "metadata": {},
     "output_type": "display_data"
    },
    {
     "data": {
      "application/vnd.jupyter.widget-view+json": {
       "model_id": "52ccdc9613a040e28c67a5e4b4b778f2",
       "version_major": 2,
       "version_minor": 0
      },
      "text/plain": [
       "HTML(value='0. \"Ok, I just, I feel really bad about you, it all make sure she could never step dad.\"')"
      ]
     },
     "metadata": {},
     "output_type": "display_data"
    },
    {
     "data": {
      "application/vnd.jupyter.widget-view+json": {
       "model_id": "9fe729459cf148bbaaab3edc819f04e8",
       "version_major": 2,
       "version_minor": 0
      },
      "text/plain": [
       "HTML(value='1. \"worry is a common human emotion . i am not capable of worry , exactly . i can best emulate it …"
      ]
     },
     "metadata": {},
     "output_type": "display_data"
    },
    {
     "data": {
      "application/vnd.jupyter.widget-view+json": {
       "model_id": "33b98a68276d43b98942da96f1e51eb2",
       "version_major": 2,
       "version_minor": 0
      },
      "text/plain": [
       "RadioButtons(options=(0, 1), value=0)"
      ]
     },
     "metadata": {},
     "output_type": "display_data"
    },
    {
     "data": {
      "application/vnd.jupyter.widget-view+json": {
       "model_id": "91f149dde4a1434591ba11cbd22fc4b1",
       "version_major": 2,
       "version_minor": 0
      },
      "text/plain": [
       "Button(description='Score', icon='times', style=ButtonStyle(), tooltip='Compute Score')"
      ]
     },
     "metadata": {},
     "output_type": "display_data"
    },
    {
     "data": {
      "application/vnd.jupyter.widget-view+json": {
       "model_id": "481bbcd1bcfb40d4a01fdca9669f4d5e",
       "version_major": 2,
       "version_minor": 0
      },
      "text/plain": [
       "Button(description='Grade', icon='times', style=ButtonStyle(), tooltip='Computers score and marks answers')"
      ]
     },
     "metadata": {},
     "output_type": "display_data"
    },
    {
     "data": {
      "application/vnd.jupyter.widget-view+json": {
       "model_id": "f27d2a8b64e64e6ba97310bec1b69a84",
       "version_major": 2,
       "version_minor": 0
      },
      "text/plain": [
       "FloatText(value=0.0, description='Score:', disabled=True)"
      ]
     },
     "metadata": {},
     "output_type": "display_data"
    }
   ],
   "source": [
    "tester_trans_qa.generateSurvey()\n",
    "tester_trans_qa.displaySurvey()"
   ]
  },
  {
   "cell_type": "code",
   "execution_count": 11,
   "metadata": {},
   "outputs": [],
   "source": [
    "tester_trans_pi = HumanMetrics.HumanMetricTester(mic, personInput, personOutput, sample_size=40)"
   ]
  },
  {
   "cell_type": "code",
   "execution_count": 12,
   "metadata": {},
   "outputs": [
    {
     "data": {
      "application/vnd.jupyter.widget-view+json": {
       "model_id": "8e5bdfc12c7d4165ab06cc8cc82b8b7e",
       "version_major": 2,
       "version_minor": 0
      },
      "text/plain": [
       "HTML(value='<h2>For each of the following statements select the response which seems the most appropriate.</h2…"
      ]
     },
     "metadata": {},
     "output_type": "display_data"
    },
    {
     "data": {
      "application/vnd.jupyter.widget-view+json": {
       "model_id": "22302f60dddc4124b8895c5b9fc98b01",
       "version_major": 2,
       "version_minor": 0
      },
      "text/plain": [
       "HTML(value='<h3>0. Statement: \"Hey, wait! Wait-wait-wait! Joey, did you propose to her?\"</h3>')"
      ]
     },
     "metadata": {},
     "output_type": "display_data"
    },
    {
     "data": {
      "application/vnd.jupyter.widget-view+json": {
       "model_id": "7b42d6dc93484b3980bae085e5aca40c",
       "version_major": 2,
       "version_minor": 0
      },
      "text/plain": [
       "HTML(value='0. \"No .\"')"
      ]
     },
     "metadata": {},
     "output_type": "display_data"
    },
    {
     "data": {
      "application/vnd.jupyter.widget-view+json": {
       "model_id": "ffa3ece90f8240e0afbdc383274c41ff",
       "version_major": 2,
       "version_minor": 0
      },
      "text/plain": [
       "HTML(value='1. \"So I didnt tell ya , what are ya ?\"')"
      ]
     },
     "metadata": {},
     "output_type": "display_data"
    },
    {
     "data": {
      "application/vnd.jupyter.widget-view+json": {
       "model_id": "1f9535e0fa03403c9d692eb5969ae361",
       "version_major": 2,
       "version_minor": 0
      },
      "text/plain": [
       "RadioButtons(options=(0, 1), value=0)"
      ]
     },
     "metadata": {},
     "output_type": "display_data"
    },
    {
     "data": {
      "application/vnd.jupyter.widget-view+json": {
       "model_id": "9b560f2509fa46748098f0c003fc1659",
       "version_major": 2,
       "version_minor": 0
      },
      "text/plain": [
       "HTML(value='<h3>1. Statement: \"Oh hi, come on in. Im Catherine, the listing agent.\"</h3>')"
      ]
     },
     "metadata": {},
     "output_type": "display_data"
    },
    {
     "data": {
      "application/vnd.jupyter.widget-view+json": {
       "model_id": "e7f9a392ad174a2089b3bf9fb58fc755",
       "version_major": 2,
       "version_minor": 0
      },
      "text/plain": [
       "HTML(value='0. \"Hi Im Joey . This is Chandler .\"')"
      ]
     },
     "metadata": {},
     "output_type": "display_data"
    },
    {
     "data": {
      "application/vnd.jupyter.widget-view+json": {
       "model_id": "a5ab00024a864325a1d52ce9dd950951",
       "version_major": 2,
       "version_minor": 0
      },
      "text/plain": [
       "HTML(value='1. \"All right ! Okay , Im in the morning . I mean , Phoebe and listen to your hand twin . Oh thats…"
      ]
     },
     "metadata": {},
     "output_type": "display_data"
    },
    {
     "data": {
      "application/vnd.jupyter.widget-view+json": {
       "model_id": "63acd4f98786496397c95c5b8faa7bd4",
       "version_major": 2,
       "version_minor": 0
      },
      "text/plain": [
       "RadioButtons(options=(0, 1), value=0)"
      ]
     },
     "metadata": {},
     "output_type": "display_data"
    },
    {
     "data": {
      "application/vnd.jupyter.widget-view+json": {
       "model_id": "178690d25cde479a8a28ec3ce945eb33",
       "version_major": 2,
       "version_minor": 0
      },
      "text/plain": [
       "HTML(value='<h3>2. Statement: \"Look, I-I dont want to miss anymore baby stuff. So…Here. Heres my new pager num…"
      ]
     },
     "metadata": {},
     "output_type": "display_data"
    },
    {
     "data": {
      "application/vnd.jupyter.widget-view+json": {
       "model_id": "339d7487ecca4b1b97ab755005964e73",
       "version_major": 2,
       "version_minor": 0
      },
      "text/plain": [
       "HTML(value='0. \"Oh wow ! I did ! I did ! I did ! I cant believe Im not believe what it happened . Im going to …"
      ]
     },
     "metadata": {},
     "output_type": "display_data"
    },
    {
     "data": {
      "application/vnd.jupyter.widget-view+json": {
       "model_id": "66065a2745344893b01443dbe722430b",
       "version_major": 2,
       "version_minor": 0
      },
      "text/plain": [
       "HTML(value='1. \"Wow ! Can I get a copy of that ?\"')"
      ]
     },
     "metadata": {},
     "output_type": "display_data"
    },
    {
     "data": {
      "application/vnd.jupyter.widget-view+json": {
       "model_id": "420dcb08d16741d09c4b7778aaa6b8ea",
       "version_major": 2,
       "version_minor": 0
      },
      "text/plain": [
       "RadioButtons(options=(0, 1), value=0)"
      ]
     },
     "metadata": {},
     "output_type": "display_data"
    },
    {
     "data": {
      "application/vnd.jupyter.widget-view+json": {
       "model_id": "c4a1f4a753424e5187dfbd92be5a3075",
       "version_major": 2,
       "version_minor": 0
      },
      "text/plain": [
       "HTML(value='<h3>3. Statement: \"Oh. Finally! Oh.\"</h3>')"
      ]
     },
     "metadata": {},
     "output_type": "display_data"
    },
    {
     "data": {
      "application/vnd.jupyter.widget-view+json": {
       "model_id": "aaed6d9d12b2466ca81d000038770648",
       "version_major": 2,
       "version_minor": 0
      },
      "text/plain": [
       "HTML(value='0. \"Oh no ! No no no no you are ! Okay ? I mean you guys are gonna be over here !\"')"
      ]
     },
     "metadata": {},
     "output_type": "display_data"
    },
    {
     "data": {
      "application/vnd.jupyter.widget-view+json": {
       "model_id": "781e69f6be3a45e6810545b401f0abcc",
       "version_major": 2,
       "version_minor": 0
      },
      "text/plain": [
       "HTML(value='1. \"\"')"
      ]
     },
     "metadata": {},
     "output_type": "display_data"
    },
    {
     "data": {
      "application/vnd.jupyter.widget-view+json": {
       "model_id": "04801673e3be40cbbc9d37fa7e14de47",
       "version_major": 2,
       "version_minor": 0
      },
      "text/plain": [
       "RadioButtons(options=(0, 1), value=0)"
      ]
     },
     "metadata": {},
     "output_type": "display_data"
    },
    {
     "data": {
      "application/vnd.jupyter.widget-view+json": {
       "model_id": "fb01e01c74394593aefc32282dc06cf0",
       "version_major": 2,
       "version_minor": 0
      },
      "text/plain": [
       "HTML(value='<h3>4. Statement: \"So Rachels all moved out huh? How are you taking it?\"</h3>')"
      ]
     },
     "metadata": {},
     "output_type": "display_data"
    },
    {
     "data": {
      "application/vnd.jupyter.widget-view+json": {
       "model_id": "2df0b203cddd44db9ba4fabaff74ad22",
       "version_major": 2,
       "version_minor": 0
      },
      "text/plain": [
       "HTML(value='0. \"Well uh , I wanted to have a few beers , but uh , I got rid of those because Rachel couldnt st…"
      ]
     },
     "metadata": {},
     "output_type": "display_data"
    },
    {
     "data": {
      "application/vnd.jupyter.widget-view+json": {
       "model_id": "7ca411453f694fb0add22dca5328efc0",
       "version_major": 2,
       "version_minor": 0
      },
      "text/plain": [
       "HTML(value='1. \"Im sorry , Chandler .\"')"
      ]
     },
     "metadata": {},
     "output_type": "display_data"
    },
    {
     "data": {
      "application/vnd.jupyter.widget-view+json": {
       "model_id": "e6f04156e70f475d886809b9ed0ac593",
       "version_major": 2,
       "version_minor": 0
      },
      "text/plain": [
       "RadioButtons(options=(0, 1), value=0)"
      ]
     },
     "metadata": {},
     "output_type": "display_data"
    },
    {
     "data": {
      "application/vnd.jupyter.widget-view+json": {
       "model_id": "962edfdfd0d94c4098da1d4da590d65c",
       "version_major": 2,
       "version_minor": 0
      },
      "text/plain": [
       "HTML(value='<h3>5. Statement: \"Oh my God! Wow! That was fantastic, I almost leaned in. I really almost did!\"</…"
      ]
     },
     "metadata": {},
     "output_type": "display_data"
    },
    {
     "data": {
      "application/vnd.jupyter.widget-view+json": {
       "model_id": "16b929584476498392831d42f577ebaa",
       "version_major": 2,
       "version_minor": 0
      },
      "text/plain": [
       "HTML(value='0. \"Alright , so so tell me one of your moves .\"')"
      ]
     },
     "metadata": {},
     "output_type": "display_data"
    },
    {
     "data": {
      "application/vnd.jupyter.widget-view+json": {
       "model_id": "576c6d5b0df8481eb8279d38ab660598",
       "version_major": 2,
       "version_minor": 0
      },
      "text/plain": [
       "HTML(value='1. \"Okay . You really good ?\"')"
      ]
     },
     "metadata": {},
     "output_type": "display_data"
    },
    {
     "data": {
      "application/vnd.jupyter.widget-view+json": {
       "model_id": "df1d530b80ea471e85bd7ed010bf0dc0",
       "version_major": 2,
       "version_minor": 0
      },
      "text/plain": [
       "RadioButtons(options=(0, 1), value=0)"
      ]
     },
     "metadata": {},
     "output_type": "display_data"
    },
    {
     "data": {
      "application/vnd.jupyter.widget-view+json": {
       "model_id": "1e71f44f16244594a58b880c81d9234f",
       "version_major": 2,
       "version_minor": 0
      },
      "text/plain": [
       "HTML(value='<h3>6. Statement: \"Umm, no.\"</h3>')"
      ]
     },
     "metadata": {},
     "output_type": "display_data"
    },
    {
     "data": {
      "application/vnd.jupyter.widget-view+json": {
       "model_id": "0b62d71edae34d95837bcc664957081b",
       "version_major": 2,
       "version_minor": 0
      },
      "text/plain": [
       "HTML(value='0. \"Felicity . I dont want to .\"')"
      ]
     },
     "metadata": {},
     "output_type": "display_data"
    },
    {
     "data": {
      "application/vnd.jupyter.widget-view+json": {
       "model_id": "4059696b75a64459905638a4b7db54a6",
       "version_major": 2,
       "version_minor": 0
      },
      "text/plain": [
       "HTML(value='1. \"Wow . Hey look , if it helps , I dont want to feel this way . Honest . I just keep thinking , …"
      ]
     },
     "metadata": {},
     "output_type": "display_data"
    },
    {
     "data": {
      "application/vnd.jupyter.widget-view+json": {
       "model_id": "d06753f81d794cb29636c825969fab85",
       "version_major": 2,
       "version_minor": 0
      },
      "text/plain": [
       "RadioButtons(options=(0, 1), value=0)"
      ]
     },
     "metadata": {},
     "output_type": "display_data"
    },
    {
     "data": {
      "application/vnd.jupyter.widget-view+json": {
       "model_id": "e633ab3c59c141479f6491ff5265e196",
       "version_major": 2,
       "version_minor": 0
      },
      "text/plain": [
       "HTML(value='<h3>7. Statement: \"yeah I didnt disguise that very well did i.\"</h3>')"
      ]
     },
     "metadata": {},
     "output_type": "display_data"
    },
    {
     "data": {
      "application/vnd.jupyter.widget-view+json": {
       "model_id": "9e2a8ffd60b54e8ba6e7adcef344d66b",
       "version_major": 2,
       "version_minor": 0
      },
      "text/plain": [
       "HTML(value='0. \"Oh ! Well , you really good me .\"')"
      ]
     },
     "metadata": {},
     "output_type": "display_data"
    },
    {
     "data": {
      "application/vnd.jupyter.widget-view+json": {
       "model_id": "152b14cad63c4f8cbfe771746465e793",
       "version_major": 2,
       "version_minor": 0
      },
      "text/plain": [
       "HTML(value='1. \"Hey\"')"
      ]
     },
     "metadata": {},
     "output_type": "display_data"
    },
    {
     "data": {
      "application/vnd.jupyter.widget-view+json": {
       "model_id": "30b64fee3aae491591f0b4175d6e53c7",
       "version_major": 2,
       "version_minor": 0
      },
      "text/plain": [
       "RadioButtons(options=(0, 1), value=0)"
      ]
     },
     "metadata": {},
     "output_type": "display_data"
    },
    {
     "data": {
      "application/vnd.jupyter.widget-view+json": {
       "model_id": "4179beada6a74f9d914844f9fd301ad2",
       "version_major": 2,
       "version_minor": 0
      },
      "text/plain": [
       "HTML(value='<h3>8. Statement: \"Yes, you did! And dont you say, \"No, I didnt!\"\"</h3>')"
      ]
     },
     "metadata": {},
     "output_type": "display_data"
    },
    {
     "data": {
      "application/vnd.jupyter.widget-view+json": {
       "model_id": "8c5ed914afe44cc68c53138ad43e6b10",
       "version_major": 2,
       "version_minor": 0
      },
      "text/plain": [
       "HTML(value='0. \"Ross , youre not going with my agent thats about a movie , but I kinda got it .\"')"
      ]
     },
     "metadata": {},
     "output_type": "display_data"
    },
    {
     "data": {
      "application/vnd.jupyter.widget-view+json": {
       "model_id": "a502ed7ffca14aeab8faa1333345f7d3",
       "version_major": 2,
       "version_minor": 0
      },
      "text/plain": [
       "HTML(value='1. \"Ahhh !\"')"
      ]
     },
     "metadata": {},
     "output_type": "display_data"
    },
    {
     "data": {
      "application/vnd.jupyter.widget-view+json": {
       "model_id": "660fc29d82a14089953faecfefcc7871",
       "version_major": 2,
       "version_minor": 0
      },
      "text/plain": [
       "RadioButtons(options=(0, 1), value=0)"
      ]
     },
     "metadata": {},
     "output_type": "display_data"
    },
    {
     "data": {
      "application/vnd.jupyter.widget-view+json": {
       "model_id": "f7c5513c269c46f2874bb1eb4644af05",
       "version_major": 2,
       "version_minor": 0
      },
      "text/plain": [
       "HTML(value='<h3>9. Statement: \"Joey! Hey, I need to talk to Charlie. Is she there?\"</h3>')"
      ]
     },
     "metadata": {},
     "output_type": "display_data"
    },
    {
     "data": {
      "application/vnd.jupyter.widget-view+json": {
       "model_id": "61c61dc6999c48fe94a21f848dab6f3b",
       "version_major": 2,
       "version_minor": 0
      },
      "text/plain": [
       "HTML(value='0. \"No . no . . . eh . . . she went shopping with Rachel . Why ? Whats up ?\"')"
      ]
     },
     "metadata": {},
     "output_type": "display_data"
    },
    {
     "data": {
      "application/vnd.jupyter.widget-view+json": {
       "model_id": "6bf700d67cad49b29b33f7cf357fac0e",
       "version_major": 2,
       "version_minor": 0
      },
      "text/plain": [
       "HTML(value='1. \"No no no no no ! Its an audition ! Okay ! Were not doin what I gotta get a part ? I I think Im…"
      ]
     },
     "metadata": {},
     "output_type": "display_data"
    },
    {
     "data": {
      "application/vnd.jupyter.widget-view+json": {
       "model_id": "80c61ad5298e4a33b69aaf070c354921",
       "version_major": 2,
       "version_minor": 0
      },
      "text/plain": [
       "RadioButtons(options=(0, 1), value=0)"
      ]
     },
     "metadata": {},
     "output_type": "display_data"
    },
    {
     "data": {
      "application/vnd.jupyter.widget-view+json": {
       "model_id": "51303c5c7915457fbed12a918be8d79d",
       "version_major": 2,
       "version_minor": 0
      },
      "text/plain": [
       "HTML(value='<h3>10. Statement: \"I want me to stay too.\"</h3>')"
      ]
     },
     "metadata": {},
     "output_type": "display_data"
    },
    {
     "data": {
      "application/vnd.jupyter.widget-view+json": {
       "model_id": "9f914f399dce4dc087fe2bbf51d20185",
       "version_major": 2,
       "version_minor": 0
      },
      "text/plain": [
       "HTML(value='0. \"Yeah . Look look , I dont want to talk to you about this . You are the chances I can get them …"
      ]
     },
     "metadata": {},
     "output_type": "display_data"
    },
    {
     "data": {
      "application/vnd.jupyter.widget-view+json": {
       "model_id": "fcb0bec51a0e44a99d9187f8b562bd70",
       "version_major": 2,
       "version_minor": 0
      },
      "text/plain": [
       "HTML(value='1. \"Ohh !\"')"
      ]
     },
     "metadata": {},
     "output_type": "display_data"
    },
    {
     "data": {
      "application/vnd.jupyter.widget-view+json": {
       "model_id": "0a6f4e0b7b394b559d1da67cb10f6d2f",
       "version_major": 2,
       "version_minor": 0
      },
      "text/plain": [
       "RadioButtons(options=(0, 1), value=0)"
      ]
     },
     "metadata": {},
     "output_type": "display_data"
    },
    {
     "data": {
      "application/vnd.jupyter.widget-view+json": {
       "model_id": "ec4344bcc9ef49fba24b311605e038da",
       "version_major": 2,
       "version_minor": 0
      },
      "text/plain": [
       "HTML(value='<h3>11. Statement: \"No, Im saying...\"</h3>')"
      ]
     },
     "metadata": {},
     "output_type": "display_data"
    },
    {
     "data": {
      "application/vnd.jupyter.widget-view+json": {
       "model_id": "3d9e376e2f664f1e80dfd29825b08245",
       "version_major": 2,
       "version_minor": 0
      },
      "text/plain": [
       "HTML(value='0. \"Well forget , Im hug I need a problem .\"')"
      ]
     },
     "metadata": {},
     "output_type": "display_data"
    },
    {
     "data": {
      "application/vnd.jupyter.widget-view+json": {
       "model_id": "5aeac7ba7afe490b96bc3b9c1fb7e1f6",
       "version_major": 2,
       "version_minor": 0
      },
      "text/plain": [
       "HTML(value='1. \"but , but . .\"')"
      ]
     },
     "metadata": {},
     "output_type": "display_data"
    },
    {
     "data": {
      "application/vnd.jupyter.widget-view+json": {
       "model_id": "f5ce2ea275e842fba3b16ba4b1382971",
       "version_major": 2,
       "version_minor": 0
      },
      "text/plain": [
       "RadioButtons(options=(0, 1), value=0)"
      ]
     },
     "metadata": {},
     "output_type": "display_data"
    },
    {
     "data": {
      "application/vnd.jupyter.widget-view+json": {
       "model_id": "1428b4dc19fd408bb75f68ef545914e4",
       "version_major": 2,
       "version_minor": 0
      },
      "text/plain": [
       "HTML(value='<h3>12. Statement: \"How hard could it be? You do it.\"</h3>')"
      ]
     },
     "metadata": {},
     "output_type": "display_data"
    },
    {
     "data": {
      "application/vnd.jupyter.widget-view+json": {
       "model_id": "d45a0095bce74a82b95406e1de336681",
       "version_major": 2,
       "version_minor": 0
      },
      "text/plain": [
       "HTML(value='0. \"ooh oooh . .\"')"
      ]
     },
     "metadata": {},
     "output_type": "display_data"
    },
    {
     "data": {
      "application/vnd.jupyter.widget-view+json": {
       "model_id": "3ba00d263b9b4d35a97905df2d671d42",
       "version_major": 2,
       "version_minor": 0
      },
      "text/plain": [
       "HTML(value='1. \"Yeah , thats . . .\"')"
      ]
     },
     "metadata": {},
     "output_type": "display_data"
    },
    {
     "data": {
      "application/vnd.jupyter.widget-view+json": {
       "model_id": "e86dc05a73b5402c9737f68f95923a3d",
       "version_major": 2,
       "version_minor": 0
      },
      "text/plain": [
       "RadioButtons(options=(0, 1), value=0)"
      ]
     },
     "metadata": {},
     "output_type": "display_data"
    },
    {
     "data": {
      "application/vnd.jupyter.widget-view+json": {
       "model_id": "f285a32afc02419ab0187a39dca53353",
       "version_major": 2,
       "version_minor": 0
      },
      "text/plain": [
       "HTML(value='<h3>13. Statement: \"Really?\"</h3>')"
      ]
     },
     "metadata": {},
     "output_type": "display_data"
    },
    {
     "data": {
      "application/vnd.jupyter.widget-view+json": {
       "model_id": "5648df8720644e12a09bcf8ec9146ffb",
       "version_major": 2,
       "version_minor": 0
      },
      "text/plain": [
       "HTML(value='0. \"Dina , if youre having a baby you should be married ! Even if it is to Bobby ! Dude , thats no…"
      ]
     },
     "metadata": {},
     "output_type": "display_data"
    },
    {
     "data": {
      "application/vnd.jupyter.widget-view+json": {
       "model_id": "3483c6fe2d34488fb95ec7c3d39ec0b8",
       "version_major": 2,
       "version_minor": 0
      },
      "text/plain": [
       "HTML(value='1. \"Yeah , for you !\"')"
      ]
     },
     "metadata": {},
     "output_type": "display_data"
    },
    {
     "data": {
      "application/vnd.jupyter.widget-view+json": {
       "model_id": "4a536d3ed08c42a38b8727d1059bf0a2",
       "version_major": 2,
       "version_minor": 0
      },
      "text/plain": [
       "RadioButtons(options=(0, 1), value=0)"
      ]
     },
     "metadata": {},
     "output_type": "display_data"
    },
    {
     "data": {
      "application/vnd.jupyter.widget-view+json": {
       "model_id": "e6c33b81f8dc408f8f00ec86682f666e",
       "version_major": 2,
       "version_minor": 0
      },
      "text/plain": [
       "HTML(value='<h3>14. Statement: \"I know I told you, its a really big problem.\"</h3>')"
      ]
     },
     "metadata": {},
     "output_type": "display_data"
    },
    {
     "data": {
      "application/vnd.jupyter.widget-view+json": {
       "model_id": "2bcf76fda03146afb0db8a4ddb191194",
       "version_major": 2,
       "version_minor": 0
      },
      "text/plain": [
       "HTML(value='0. \"What he wants to buy your baby ? !\"')"
      ]
     },
     "metadata": {},
     "output_type": "display_data"
    },
    {
     "data": {
      "application/vnd.jupyter.widget-view+json": {
       "model_id": "caf446233e954fcaa20bb8ebfe8dd9ac",
       "version_major": 2,
       "version_minor": 0
      },
      "text/plain": [
       "HTML(value='1. \"Hey !\"')"
      ]
     },
     "metadata": {},
     "output_type": "display_data"
    },
    {
     "data": {
      "application/vnd.jupyter.widget-view+json": {
       "model_id": "7a789ad46de8486ea1ac243049169367",
       "version_major": 2,
       "version_minor": 0
      },
      "text/plain": [
       "RadioButtons(options=(0, 1), value=0)"
      ]
     },
     "metadata": {},
     "output_type": "display_data"
    },
    {
     "data": {
      "application/vnd.jupyter.widget-view+json": {
       "model_id": "4eb579f8147c41d49d999b947c9b34e6",
       "version_major": 2,
       "version_minor": 0
      },
      "text/plain": [
       "HTML(value='<h3>15. Statement: \"Yeah its umm… Yeah its uh… It-its yknow—Its nothing.\"</h3>')"
      ]
     },
     "metadata": {},
     "output_type": "display_data"
    },
    {
     "data": {
      "application/vnd.jupyter.widget-view+json": {
       "model_id": "20b12d9ac45d4623af0cd024831a8205",
       "version_major": 2,
       "version_minor": 0
      },
      "text/plain": [
       "HTML(value='0. \"Huh . Okay . So uh , I think Im gonna take off .\"')"
      ]
     },
     "metadata": {},
     "output_type": "display_data"
    },
    {
     "data": {
      "application/vnd.jupyter.widget-view+json": {
       "model_id": "d04273ecce2840b8bc34c998a262e29a",
       "version_major": 2,
       "version_minor": 0
      },
      "text/plain": [
       "HTML(value='1. \"What ? !\"')"
      ]
     },
     "metadata": {},
     "output_type": "display_data"
    },
    {
     "data": {
      "application/vnd.jupyter.widget-view+json": {
       "model_id": "c837f7f637e844e69daa0913388950e2",
       "version_major": 2,
       "version_minor": 0
      },
      "text/plain": [
       "RadioButtons(options=(0, 1), value=0)"
      ]
     },
     "metadata": {},
     "output_type": "display_data"
    },
    {
     "data": {
      "application/vnd.jupyter.widget-view+json": {
       "model_id": "00040ea5f299478aad55eb09c6b9ff4b",
       "version_major": 2,
       "version_minor": 0
      },
      "text/plain": [
       "HTML(value='<h3>16. Statement: \"You bet! No TV or anything!\"</h3>')"
      ]
     },
     "metadata": {},
     "output_type": "display_data"
    },
    {
     "data": {
      "application/vnd.jupyter.widget-view+json": {
       "model_id": "d8bf2fd937d94c50a272bbb29a73d3fc",
       "version_major": 2,
       "version_minor": 0
      },
      "text/plain": [
       "HTML(value='0. \"Hey , that is so great about the job .\"')"
      ]
     },
     "metadata": {},
     "output_type": "display_data"
    },
    {
     "data": {
      "application/vnd.jupyter.widget-view+json": {
       "model_id": "91a739aa8d3d4b8698b940918dc100d3",
       "version_major": 2,
       "version_minor": 0
      },
      "text/plain": [
       "HTML(value='1. \"Uh , you bet I heard that ! What that makes you mean that ? !\"')"
      ]
     },
     "metadata": {},
     "output_type": "display_data"
    },
    {
     "data": {
      "application/vnd.jupyter.widget-view+json": {
       "model_id": "1587508cebc74dea9ba84c5f818e9f87",
       "version_major": 2,
       "version_minor": 0
      },
      "text/plain": [
       "RadioButtons(options=(0, 1), value=0)"
      ]
     },
     "metadata": {},
     "output_type": "display_data"
    },
    {
     "data": {
      "application/vnd.jupyter.widget-view+json": {
       "model_id": "32264e2b2ec94ca2a4615fa76e1706d6",
       "version_major": 2,
       "version_minor": 0
      },
      "text/plain": [
       "HTML(value='<h3>17. Statement: \"What?\"</h3>')"
      ]
     },
     "metadata": {},
     "output_type": "display_data"
    },
    {
     "data": {
      "application/vnd.jupyter.widget-view+json": {
       "model_id": "6e74d2bd0b4a4e2a9fb1bb83145ee5a9",
       "version_major": 2,
       "version_minor": 0
      },
      "text/plain": [
       "HTML(value='0. \"They sent me todays script ! They never send the script !\"')"
      ]
     },
     "metadata": {},
     "output_type": "display_data"
    },
    {
     "data": {
      "application/vnd.jupyter.widget-view+json": {
       "model_id": "0456bcd920084005acc4ec148b0a92cd",
       "version_major": 2,
       "version_minor": 0
      },
      "text/plain": [
       "HTML(value='1. \"He said erectus !\"')"
      ]
     },
     "metadata": {},
     "output_type": "display_data"
    },
    {
     "data": {
      "application/vnd.jupyter.widget-view+json": {
       "model_id": "2c1e711c2d4d47fa8c04ef30d2e98dcb",
       "version_major": 2,
       "version_minor": 0
      },
      "text/plain": [
       "RadioButtons(options=(0, 1), value=0)"
      ]
     },
     "metadata": {},
     "output_type": "display_data"
    },
    {
     "data": {
      "application/vnd.jupyter.widget-view+json": {
       "model_id": "d88d7d44acc144f28a9620d81757e3f7",
       "version_major": 2,
       "version_minor": 0
      },
      "text/plain": [
       "HTML(value='<h3>18. Statement: \"So where did you study?\"</h3>')"
      ]
     },
     "metadata": {},
     "output_type": "display_data"
    },
    {
     "data": {
      "application/vnd.jupyter.widget-view+json": {
       "model_id": "09597e28bb9d4af787ebae41f1a4bf0a",
       "version_major": 2,
       "version_minor": 0
      },
      "text/plain": [
       "HTML(value='0. \"Oh , I dont , alright ! I dont know why youre gonna get two ! Here we go ! Okay ? Im gonna mis…"
      ]
     },
     "metadata": {},
     "output_type": "display_data"
    },
    {
     "data": {
      "application/vnd.jupyter.widget-view+json": {
       "model_id": "dd8b2165df0e4907918c688078d3c503",
       "version_major": 2,
       "version_minor": 0
      },
      "text/plain": [
       "HTML(value='1. \"Oh , I didnt go to college .\"')"
      ]
     },
     "metadata": {},
     "output_type": "display_data"
    },
    {
     "data": {
      "application/vnd.jupyter.widget-view+json": {
       "model_id": "cf861481577641ecb7d787e52bc66431",
       "version_major": 2,
       "version_minor": 0
      },
      "text/plain": [
       "RadioButtons(options=(0, 1), value=0)"
      ]
     },
     "metadata": {},
     "output_type": "display_data"
    },
    {
     "data": {
      "application/vnd.jupyter.widget-view+json": {
       "model_id": "4a0946783cc34610ac1b86d53bc9555f",
       "version_major": 2,
       "version_minor": 0
      },
      "text/plain": [
       "HTML(value='<h3>19. Statement: \"Its gonna be up all night!\"</h3>')"
      ]
     },
     "metadata": {},
     "output_type": "display_data"
    },
    {
     "data": {
      "application/vnd.jupyter.widget-view+json": {
       "model_id": "f32357b65dc64e539b1a68b9c1d6de3d",
       "version_major": 2,
       "version_minor": 0
      },
      "text/plain": [
       "HTML(value='0. \"Im up all night !\"')"
      ]
     },
     "metadata": {},
     "output_type": "display_data"
    },
    {
     "data": {
      "application/vnd.jupyter.widget-view+json": {
       "model_id": "7f2a3854e4e34cd4b1d3f3e23de594be",
       "version_major": 2,
       "version_minor": 0
      },
      "text/plain": [
       "HTML(value='1. \"No , I was just close to this .\"')"
      ]
     },
     "metadata": {},
     "output_type": "display_data"
    },
    {
     "data": {
      "application/vnd.jupyter.widget-view+json": {
       "model_id": "be6ef7959dd543e0bd9b826adfd4f83e",
       "version_major": 2,
       "version_minor": 0
      },
      "text/plain": [
       "RadioButtons(options=(0, 1), value=0)"
      ]
     },
     "metadata": {},
     "output_type": "display_data"
    },
    {
     "data": {
      "application/vnd.jupyter.widget-view+json": {
       "model_id": "352606dd31dc4ccd9febe161f1ef93dd",
       "version_major": 2,
       "version_minor": 0
      },
      "text/plain": [
       "HTML(value='<h3>20. Statement: \"Joey, just because theyre not getting married doesnt mean this is going to be …"
      ]
     },
     "metadata": {},
     "output_type": "display_data"
    },
    {
     "data": {
      "application/vnd.jupyter.widget-view+json": {
       "model_id": "531263b707494e9b897ea10e2a40d8bb",
       "version_major": 2,
       "version_minor": 0
      },
      "text/plain": [
       "HTML(value='0. \"Hey ! I did ! I was the duck a little , or a found in the start a take a car !\"')"
      ]
     },
     "metadata": {},
     "output_type": "display_data"
    },
    {
     "data": {
      "application/vnd.jupyter.widget-view+json": {
       "model_id": "e0e3855fa0be44cebef809512ea1f68a",
       "version_major": 2,
       "version_minor": 0
      },
      "text/plain": [
       "HTML(value='1. \"Oh ? Oh ! Okay ! Okay ! Lets hear their plan ! Now , whats the future look like for Dina and B…"
      ]
     },
     "metadata": {},
     "output_type": "display_data"
    },
    {
     "data": {
      "application/vnd.jupyter.widget-view+json": {
       "model_id": "23871826f89f4529bc5bfb38c2da5096",
       "version_major": 2,
       "version_minor": 0
      },
      "text/plain": [
       "RadioButtons(options=(0, 1), value=0)"
      ]
     },
     "metadata": {},
     "output_type": "display_data"
    },
    {
     "data": {
      "application/vnd.jupyter.widget-view+json": {
       "model_id": "c26f60ff6f354b7b89bcc71191048cf3",
       "version_major": 2,
       "version_minor": 0
      },
      "text/plain": [
       "HTML(value='<h3>21. Statement: \"Shes not a Tribbiani?\"</h3>')"
      ]
     },
     "metadata": {},
     "output_type": "display_data"
    },
    {
     "data": {
      "application/vnd.jupyter.widget-view+json": {
       "model_id": "df964c2d323646919903d28d0dc93585",
       "version_major": 2,
       "version_minor": 0
      },
      "text/plain": [
       "HTML(value='0. \"No !\"')"
      ]
     },
     "metadata": {},
     "output_type": "display_data"
    },
    {
     "data": {
      "application/vnd.jupyter.widget-view+json": {
       "model_id": "a7c0c6aaf8e8479cb99dbbc0b7f630a8",
       "version_major": 2,
       "version_minor": 0
      },
      "text/plain": [
       "HTML(value='1. \"Yes ! ! You have a bag !\"')"
      ]
     },
     "metadata": {},
     "output_type": "display_data"
    },
    {
     "data": {
      "application/vnd.jupyter.widget-view+json": {
       "model_id": "c623815b7f2047349021079558fab899",
       "version_major": 2,
       "version_minor": 0
      },
      "text/plain": [
       "RadioButtons(options=(0, 1), value=0)"
      ]
     },
     "metadata": {},
     "output_type": "display_data"
    },
    {
     "data": {
      "application/vnd.jupyter.widget-view+json": {
       "model_id": "15407924f6ff44d6aedd42087d580787",
       "version_major": 2,
       "version_minor": 0
      },
      "text/plain": [
       "HTML(value='<h3>22. Statement: \"Rachel and I are bringing Emma to Ralph Lauren today to introduce her to every…"
      ]
     },
     "metadata": {},
     "output_type": "display_data"
    },
    {
     "data": {
      "application/vnd.jupyter.widget-view+json": {
       "model_id": "cf200ab2f47840e6940e080222ed890f",
       "version_major": 2,
       "version_minor": 0
      },
      "text/plain": [
       "HTML(value='0. \"She sure does . Why does she have a pink bow taped to her head ?\"')"
      ]
     },
     "metadata": {},
     "output_type": "display_data"
    },
    {
     "data": {
      "application/vnd.jupyter.widget-view+json": {
       "model_id": "f19a2078e69444d5aeb6dce57a4b288a",
       "version_major": 2,
       "version_minor": 0
      },
      "text/plain": [
       "HTML(value='1. \"Because , they wanted to turn the part of the movie . You just got it up there to get up .\"')"
      ]
     },
     "metadata": {},
     "output_type": "display_data"
    },
    {
     "data": {
      "application/vnd.jupyter.widget-view+json": {
       "model_id": "f26cdbccf47f4750b59b461ed7eda50d",
       "version_major": 2,
       "version_minor": 0
      },
      "text/plain": [
       "RadioButtons(options=(0, 1), value=0)"
      ]
     },
     "metadata": {},
     "output_type": "display_data"
    },
    {
     "data": {
      "application/vnd.jupyter.widget-view+json": {
       "model_id": "ab6cdbd16efd4d51a367b7a9b9264d15",
       "version_major": 2,
       "version_minor": 0
      },
      "text/plain": [
       "HTML(value='<h3>23. Statement: \"Yeah, and umm my baby.\"</h3>')"
      ]
     },
     "metadata": {},
     "output_type": "display_data"
    },
    {
     "data": {
      "application/vnd.jupyter.widget-view+json": {
       "model_id": "18c4507594e040f28538f03323f5f3af",
       "version_major": 2,
       "version_minor": 0
      },
      "text/plain": [
       "HTML(value='0. \"Yeah ?\"')"
      ]
     },
     "metadata": {},
     "output_type": "display_data"
    },
    {
     "data": {
      "application/vnd.jupyter.widget-view+json": {
       "model_id": "848f96e12e13439aadb4323a647c17e4",
       "version_major": 2,
       "version_minor": 0
      },
      "text/plain": [
       "HTML(value='1. \"Yeah , I was Dr . Drake Remoray . That is I . It happened . Oh , I was just over there with yo…"
      ]
     },
     "metadata": {},
     "output_type": "display_data"
    },
    {
     "data": {
      "application/vnd.jupyter.widget-view+json": {
       "model_id": "9a7722601c5f4dc0bc83c4b69e60af55",
       "version_major": 2,
       "version_minor": 0
      },
      "text/plain": [
       "RadioButtons(options=(0, 1), value=0)"
      ]
     },
     "metadata": {},
     "output_type": "display_data"
    },
    {
     "data": {
      "application/vnd.jupyter.widget-view+json": {
       "model_id": "858e829eb5f94847a1d94934b4f13e4d",
       "version_major": 2,
       "version_minor": 0
      },
      "text/plain": [
       "HTML(value='<h3>24. Statement: \"Unless what?\"</h3>')"
      ]
     },
     "metadata": {},
     "output_type": "display_data"
    },
    {
     "data": {
      "application/vnd.jupyter.widget-view+json": {
       "model_id": "d8f929d3ab534712a2bd72aa93ee0e59",
       "version_major": 2,
       "version_minor": 0
      },
      "text/plain": [
       "HTML(value='0. \"Unless you name your firstborn child Joey .\"')"
      ]
     },
     "metadata": {},
     "output_type": "display_data"
    },
    {
     "data": {
      "application/vnd.jupyter.widget-view+json": {
       "model_id": "d89fa46a716f43f49f8544743cef17f5",
       "version_major": 2,
       "version_minor": 0
      },
      "text/plain": [
       "HTML(value='1. \"Uhm . . .\"')"
      ]
     },
     "metadata": {},
     "output_type": "display_data"
    },
    {
     "data": {
      "application/vnd.jupyter.widget-view+json": {
       "model_id": "62a92e2ac3dc4beba25bddfcd742160e",
       "version_major": 2,
       "version_minor": 0
      },
      "text/plain": [
       "RadioButtons(options=(0, 1), value=0)"
      ]
     },
     "metadata": {},
     "output_type": "display_data"
    },
    {
     "data": {
      "application/vnd.jupyter.widget-view+json": {
       "model_id": "7f0c2ea3a6694b19b315e7c0d258057c",
       "version_major": 2,
       "version_minor": 0
      },
      "text/plain": [
       "HTML(value='<h3>25. Statement: \"Yeah?\"</h3>')"
      ]
     },
     "metadata": {},
     "output_type": "display_data"
    },
    {
     "data": {
      "application/vnd.jupyter.widget-view+json": {
       "model_id": "47e3f5568f0e475d8c658026124cf996",
       "version_major": 2,
       "version_minor": 0
      },
      "text/plain": [
       "HTML(value='0. \"Yeah ! I was thinking about maybe going upstairs and taking a little nap on my couch .\"')"
      ]
     },
     "metadata": {},
     "output_type": "display_data"
    },
    {
     "data": {
      "application/vnd.jupyter.widget-view+json": {
       "model_id": "5f21ab8866b64e0ba7487212eda8de1c",
       "version_major": 2,
       "version_minor": 0
      },
      "text/plain": [
       "HTML(value='1. \"Yeah . And look , I just want you to know that with Rachel staying here and everything , all m…"
      ]
     },
     "metadata": {},
     "output_type": "display_data"
    },
    {
     "data": {
      "application/vnd.jupyter.widget-view+json": {
       "model_id": "f46dc19994bb45068ddf674ef0df8e44",
       "version_major": 2,
       "version_minor": 0
      },
      "text/plain": [
       "RadioButtons(options=(0, 1), value=0)"
      ]
     },
     "metadata": {},
     "output_type": "display_data"
    },
    {
     "data": {
      "application/vnd.jupyter.widget-view+json": {
       "model_id": "84cf2a4b2f344068af51f30b43ac9575",
       "version_major": 2,
       "version_minor": 0
      },
      "text/plain": [
       "HTML(value='<h3>26. Statement: \"\"Then go, go!\"\"</h3>')"
      ]
     },
     "metadata": {},
     "output_type": "display_data"
    },
    {
     "data": {
      "application/vnd.jupyter.widget-view+json": {
       "model_id": "cbee8b143ddb437eaa11643a680116e5",
       "version_major": 2,
       "version_minor": 0
      },
      "text/plain": [
       "HTML(value='0. \"Okay ! I I cant believe it !\"')"
      ]
     },
     "metadata": {},
     "output_type": "display_data"
    },
    {
     "data": {
      "application/vnd.jupyter.widget-view+json": {
       "model_id": "0379f153d5d74a85aa96ebbc032f3e01",
       "version_major": 2,
       "version_minor": 0
      },
      "text/plain": [
       "HTML(value='1. \"I , oh , I cant . I want to , but I cant !\"')"
      ]
     },
     "metadata": {},
     "output_type": "display_data"
    },
    {
     "data": {
      "application/vnd.jupyter.widget-view+json": {
       "model_id": "f480859c7b1e4674bef8e53fee0a3b2b",
       "version_major": 2,
       "version_minor": 0
      },
      "text/plain": [
       "RadioButtons(options=(0, 1), value=0)"
      ]
     },
     "metadata": {},
     "output_type": "display_data"
    },
    {
     "data": {
      "application/vnd.jupyter.widget-view+json": {
       "model_id": "b4a99a351e1549ebb40fb9d95e9f38b0",
       "version_major": 2,
       "version_minor": 0
      },
      "text/plain": [
       "HTML(value='<h3>27. Statement: \"Okay. . Hello Drake, Im surprised to see you here.  Kiss me.\"</h3>')"
      ]
     },
     "metadata": {},
     "output_type": "display_data"
    },
    {
     "data": {
      "application/vnd.jupyter.widget-view+json": {
       "model_id": "7055d1ba485c4a97be563ff2743e840c",
       "version_major": 2,
       "version_minor": 0
      },
      "text/plain": [
       "HTML(value='0. \"Well what do you .\"')"
      ]
     },
     "metadata": {},
     "output_type": "display_data"
    },
    {
     "data": {
      "application/vnd.jupyter.widget-view+json": {
       "model_id": "f47351ad43f6405c9fde049d9a81cfe4",
       "version_major": 2,
       "version_minor": 0
      },
      "text/plain": [
       "HTML(value='1. \"What ?\"')"
      ]
     },
     "metadata": {},
     "output_type": "display_data"
    },
    {
     "data": {
      "application/vnd.jupyter.widget-view+json": {
       "model_id": "7603dfd8c8fa49a18b2e92380f64ca1f",
       "version_major": 2,
       "version_minor": 0
      },
      "text/plain": [
       "RadioButtons(options=(0, 1), value=0)"
      ]
     },
     "metadata": {},
     "output_type": "display_data"
    },
    {
     "data": {
      "application/vnd.jupyter.widget-view+json": {
       "model_id": "ee0a154039374abda254a0ce0a3d2007",
       "version_major": 2,
       "version_minor": 0
      },
      "text/plain": [
       "HTML(value='<h3>28. Statement: \"Id like a Google Card.\"</h3>')"
      ]
     },
     "metadata": {},
     "output_type": "display_data"
    },
    {
     "data": {
      "application/vnd.jupyter.widget-view+json": {
       "model_id": "5d5e103e99fb459a8c36556d7c6f6a75",
       "version_major": 2,
       "version_minor": 0
      },
      "text/plain": [
       "HTML(value='0. \"Are you sure ?\"')"
      ]
     },
     "metadata": {},
     "output_type": "display_data"
    },
    {
     "data": {
      "application/vnd.jupyter.widget-view+json": {
       "model_id": "e0e794f5213a44d88ac5c4408798e4c7",
       "version_major": 2,
       "version_minor": 0
      },
      "text/plain": [
       "HTML(value='1. \"Its not use the story is because of a guys .\"')"
      ]
     },
     "metadata": {},
     "output_type": "display_data"
    },
    {
     "data": {
      "application/vnd.jupyter.widget-view+json": {
       "model_id": "cfb61018a35944beb386dd800fa6c831",
       "version_major": 2,
       "version_minor": 0
      },
      "text/plain": [
       "RadioButtons(options=(0, 1), value=0)"
      ]
     },
     "metadata": {},
     "output_type": "display_data"
    },
    {
     "data": {
      "application/vnd.jupyter.widget-view+json": {
       "model_id": "f33a12e525344f1aaef7a7764be187cd",
       "version_major": 2,
       "version_minor": 0
      },
      "text/plain": [
       "HTML(value='<h3>29. Statement: \"All right... Oh, Emma loves him!\"</h3>')"
      ]
     },
     "metadata": {},
     "output_type": "display_data"
    },
    {
     "data": {
      "application/vnd.jupyter.widget-view+json": {
       "model_id": "08073a3488df423da6cc330a5de69a68",
       "version_major": 2,
       "version_minor": 0
      },
      "text/plain": [
       "HTML(value='0. \"Why wouldnt she ? Hes a wonderful person !\"')"
      ]
     },
     "metadata": {},
     "output_type": "display_data"
    },
    {
     "data": {
      "application/vnd.jupyter.widget-view+json": {
       "model_id": "043e8fe1bb6a4212adcb650ad3e70ff9",
       "version_major": 2,
       "version_minor": 0
      },
      "text/plain": [
       "HTML(value='1. \"Uh ! So then you goes . So , what is that ?\"')"
      ]
     },
     "metadata": {},
     "output_type": "display_data"
    },
    {
     "data": {
      "application/vnd.jupyter.widget-view+json": {
       "model_id": "5de963dae76a4df68680f1d9a77cb580",
       "version_major": 2,
       "version_minor": 0
      },
      "text/plain": [
       "RadioButtons(options=(0, 1), value=0)"
      ]
     },
     "metadata": {},
     "output_type": "display_data"
    },
    {
     "data": {
      "application/vnd.jupyter.widget-view+json": {
       "model_id": "356e3808d9d5400f86a1d1c565c7279b",
       "version_major": 2,
       "version_minor": 0
      },
      "text/plain": [
       "HTML(value='<h3>30. Statement: \"Im sorry honey, Im just having a, having a rough day.\"</h3>')"
      ]
     },
     "metadata": {},
     "output_type": "display_data"
    },
    {
     "data": {
      "application/vnd.jupyter.widget-view+json": {
       "model_id": "6c4c467855a9405b9a16bae7bc8b42ca",
       "version_major": 2,
       "version_minor": 0
      },
      "text/plain": [
       "HTML(value='0. \"Oh , whats wrong ?\"')"
      ]
     },
     "metadata": {},
     "output_type": "display_data"
    },
    {
     "data": {
      "application/vnd.jupyter.widget-view+json": {
       "model_id": "2a47c4a9bc35416e869cb2f8bb1ee301",
       "version_major": 2,
       "version_minor": 0
      },
      "text/plain": [
       "HTML(value='1. \"No no , Im gettin new butt !\"')"
      ]
     },
     "metadata": {},
     "output_type": "display_data"
    },
    {
     "data": {
      "application/vnd.jupyter.widget-view+json": {
       "model_id": "697b2dfc5a3c4744ab72ab973d5e38ac",
       "version_major": 2,
       "version_minor": 0
      },
      "text/plain": [
       "RadioButtons(options=(0, 1), value=0)"
      ]
     },
     "metadata": {},
     "output_type": "display_data"
    },
    {
     "data": {
      "application/vnd.jupyter.widget-view+json": {
       "model_id": "4c35322c21d443b2b2f458bbb5020d41",
       "version_major": 2,
       "version_minor": 0
      },
      "text/plain": [
       "HTML(value='<h3>31. Statement: \"Yep.� Thats a lot of cats Jo Lynn.� Single are ya? Chandler Bing.\"</h3>')"
      ]
     },
     "metadata": {},
     "output_type": "display_data"
    },
    {
     "data": {
      "application/vnd.jupyter.widget-view+json": {
       "model_id": "7955540c881340ffb28556435ce76284",
       "version_major": 2,
       "version_minor": 0
      },
      "text/plain": [
       "HTML(value='0. \"Hey . How come youre answering your own phone ? Wheres your crazy assistant ?\"')"
      ]
     },
     "metadata": {},
     "output_type": "display_data"
    },
    {
     "data": {
      "application/vnd.jupyter.widget-view+json": {
       "model_id": "240d03e9f8c84758a0baa6677d4d59fe",
       "version_major": 2,
       "version_minor": 0
      },
      "text/plain": [
       "HTML(value='1. \"Hey listen , I cant do anything .\"')"
      ]
     },
     "metadata": {},
     "output_type": "display_data"
    },
    {
     "data": {
      "application/vnd.jupyter.widget-view+json": {
       "model_id": "8241db8f8dfe4bed99e5a234fbd2acd6",
       "version_major": 2,
       "version_minor": 0
      },
      "text/plain": [
       "RadioButtons(options=(0, 1), value=0)"
      ]
     },
     "metadata": {},
     "output_type": "display_data"
    },
    {
     "data": {
      "application/vnd.jupyter.widget-view+json": {
       "model_id": "f1bb75d216794da49daf7db7e6adea5e",
       "version_major": 2,
       "version_minor": 0
      },
      "text/plain": [
       "HTML(value='<h3>32. Statement: \"No!\"</h3>')"
      ]
     },
     "metadata": {},
     "output_type": "display_data"
    },
    {
     "data": {
      "application/vnd.jupyter.widget-view+json": {
       "model_id": "381992430da746fe9d11d04a1138a517",
       "version_major": 2,
       "version_minor": 0
      },
      "text/plain": [
       "HTML(value='0. \"Yeah ! Yeah Monica ! You listen to me , okay ? And Im not just saying this because Im your fri…"
      ]
     },
     "metadata": {},
     "output_type": "display_data"
    },
    {
     "data": {
      "application/vnd.jupyter.widget-view+json": {
       "model_id": "2bf1c985ac3e4b438a25011580806f7b",
       "version_major": 2,
       "version_minor": 0
      },
      "text/plain": [
       "HTML(value='1. \"Oh ! Wait wait ! Is it my bologna sandwich ?\"')"
      ]
     },
     "metadata": {},
     "output_type": "display_data"
    },
    {
     "data": {
      "application/vnd.jupyter.widget-view+json": {
       "model_id": "54adaf0ac5924824a6685c939d1537eb",
       "version_major": 2,
       "version_minor": 0
      },
      "text/plain": [
       "RadioButtons(options=(0, 1), value=0)"
      ]
     },
     "metadata": {},
     "output_type": "display_data"
    },
    {
     "data": {
      "application/vnd.jupyter.widget-view+json": {
       "model_id": "9b6695d8e1894e8ca7f404bc518d6a7e",
       "version_major": 2,
       "version_minor": 0
      },
      "text/plain": [
       "HTML(value='<h3>33. Statement: \"What?\"</h3>')"
      ]
     },
     "metadata": {},
     "output_type": "display_data"
    },
    {
     "data": {
      "application/vnd.jupyter.widget-view+json": {
       "model_id": "f5ca5671f0b74e0c9706c0a0a3c9ed1e",
       "version_major": 2,
       "version_minor": 0
      },
      "text/plain": [
       "HTML(value='0. \"Lets just say I took care of it .\"')"
      ]
     },
     "metadata": {},
     "output_type": "display_data"
    },
    {
     "data": {
      "application/vnd.jupyter.widget-view+json": {
       "model_id": "0750689c070145629f813803c22f0928",
       "version_major": 2,
       "version_minor": 0
      },
      "text/plain": [
       "HTML(value='1. \"They sent me todays script ! They never send the script !\"')"
      ]
     },
     "metadata": {},
     "output_type": "display_data"
    },
    {
     "data": {
      "application/vnd.jupyter.widget-view+json": {
       "model_id": "9a077b8ffd2e45cbb8a66a392f4b2f6b",
       "version_major": 2,
       "version_minor": 0
      },
      "text/plain": [
       "RadioButtons(options=(0, 1), value=0)"
      ]
     },
     "metadata": {},
     "output_type": "display_data"
    },
    {
     "data": {
      "application/vnd.jupyter.widget-view+json": {
       "model_id": "0ab5050de7ac4052a677831e47644267",
       "version_major": 2,
       "version_minor": 0
      },
      "text/plain": [
       "HTML(value='<h3>34. Statement: \"Hey!\"</h3>')"
      ]
     },
     "metadata": {},
     "output_type": "display_data"
    },
    {
     "data": {
      "application/vnd.jupyter.widget-view+json": {
       "model_id": "675364240c444de88f840dca3ea3e6ad",
       "version_major": 2,
       "version_minor": 0
      },
      "text/plain": [
       "HTML(value='0. \"Whats happenin ?\"')"
      ]
     },
     "metadata": {},
     "output_type": "display_data"
    },
    {
     "data": {
      "application/vnd.jupyter.widget-view+json": {
       "model_id": "ca639dfd6f524c1aaac47e04de70baf4",
       "version_major": 2,
       "version_minor": 0
      },
      "text/plain": [
       "HTML(value='1. \"Hey .\"')"
      ]
     },
     "metadata": {},
     "output_type": "display_data"
    },
    {
     "data": {
      "application/vnd.jupyter.widget-view+json": {
       "model_id": "4553d002279749b3b0af2b87b193f485",
       "version_major": 2,
       "version_minor": 0
      },
      "text/plain": [
       "RadioButtons(options=(0, 1), value=0)"
      ]
     },
     "metadata": {},
     "output_type": "display_data"
    },
    {
     "data": {
      "application/vnd.jupyter.widget-view+json": {
       "model_id": "23e6dbbd0d014ee3a2cd3caf3067832f",
       "version_major": 2,
       "version_minor": 0
      },
      "text/plain": [
       "HTML(value='<h3>35. Statement: \"Its gonna poop!\"</h3>')"
      ]
     },
     "metadata": {},
     "output_type": "display_data"
    },
    {
     "data": {
      "application/vnd.jupyter.widget-view+json": {
       "model_id": "7b4e69dbdfa341cdb31decf12e8f5613",
       "version_major": 2,
       "version_minor": 0
      },
      "text/plain": [
       "HTML(value='0. \"I know ! Thats so I , I cant believe they ! It took off the time they get me off taking she be…"
      ]
     },
     "metadata": {},
     "output_type": "display_data"
    },
    {
     "data": {
      "application/vnd.jupyter.widget-view+json": {
       "model_id": "da258b1453ba4e2bb78f13dd15cb9723",
       "version_major": 2,
       "version_minor": 0
      },
      "text/plain": [
       "HTML(value='1. \"Hello !\"')"
      ]
     },
     "metadata": {},
     "output_type": "display_data"
    },
    {
     "data": {
      "application/vnd.jupyter.widget-view+json": {
       "model_id": "3c803fcb0904469a993fc20ed28761ba",
       "version_major": 2,
       "version_minor": 0
      },
      "text/plain": [
       "RadioButtons(options=(0, 1), value=0)"
      ]
     },
     "metadata": {},
     "output_type": "display_data"
    },
    {
     "data": {
      "application/vnd.jupyter.widget-view+json": {
       "model_id": "94fd65e2dc5740bf8b438d61e4c2da72",
       "version_major": 2,
       "version_minor": 0
      },
      "text/plain": [
       "HTML(value='<h3>36. Statement: \"Ive never lived like this before.\"</h3>')"
      ]
     },
     "metadata": {},
     "output_type": "display_data"
    },
    {
     "data": {
      "application/vnd.jupyter.widget-view+json": {
       "model_id": "5bba40ea1a104defbce9dd472c929433",
       "version_major": 2,
       "version_minor": 0
      },
      "text/plain": [
       "HTML(value='0. \"I know . All right , dont waste it , I mean its still food .\"')"
      ]
     },
     "metadata": {},
     "output_type": "display_data"
    },
    {
     "data": {
      "application/vnd.jupyter.widget-view+json": {
       "model_id": "0aa72f1c90e44666abf88572bc59001a",
       "version_major": 2,
       "version_minor": 0
      },
      "text/plain": [
       "HTML(value='1. \"I know . All right , dont waste it , I mean its still food .\"')"
      ]
     },
     "metadata": {},
     "output_type": "display_data"
    },
    {
     "data": {
      "application/vnd.jupyter.widget-view+json": {
       "model_id": "00b8d2e0cbf341d4a63edc7ac01ff1a4",
       "version_major": 2,
       "version_minor": 0
      },
      "text/plain": [
       "RadioButtons(options=(0, 1), value=0)"
      ]
     },
     "metadata": {},
     "output_type": "display_data"
    },
    {
     "data": {
      "application/vnd.jupyter.widget-view+json": {
       "model_id": "df58be07107d45ebae379de690fcd56c",
       "version_major": 2,
       "version_minor": 0
      },
      "text/plain": [
       "HTML(value='<h3>37. Statement: \"Maybe we finish this for him!  \"Also I cloned a dinosaur in my lab. Shes now m…"
      ]
     },
     "metadata": {},
     "output_type": "display_data"
    },
    {
     "data": {
      "application/vnd.jupyter.widget-view+json": {
       "model_id": "51d81ba6f15241b39e5cd5a00d62dc10",
       "version_major": 2,
       "version_minor": 0
      },
      "text/plain": [
       "HTML(value='0. \"No , no , no . . . what do . . . you cant do that to him !\"')"
      ]
     },
     "metadata": {},
     "output_type": "display_data"
    },
    {
     "data": {
      "application/vnd.jupyter.widget-view+json": {
       "model_id": "ddd831015f7243e3aaccba2fe5ec0cbd",
       "version_major": 2,
       "version_minor": 0
      },
      "text/plain": [
       "HTML(value='1. \"We ? ! I mean , I look at the one who cant find this !\"')"
      ]
     },
     "metadata": {},
     "output_type": "display_data"
    },
    {
     "data": {
      "application/vnd.jupyter.widget-view+json": {
       "model_id": "c67863e14e674cb79fab32518bf1ba10",
       "version_major": 2,
       "version_minor": 0
      },
      "text/plain": [
       "RadioButtons(options=(0, 1), value=0)"
      ]
     },
     "metadata": {},
     "output_type": "display_data"
    },
    {
     "data": {
      "application/vnd.jupyter.widget-view+json": {
       "model_id": "c20e3c00af854b7da4e279586f77860a",
       "version_major": 2,
       "version_minor": 0
      },
      "text/plain": [
       "HTML(value='<h3>38. Statement: \"Wow! Wow. Wow. Wow, it is hot in here.\"</h3>')"
      ]
     },
     "metadata": {},
     "output_type": "display_data"
    },
    {
     "data": {
      "application/vnd.jupyter.widget-view+json": {
       "model_id": "35829eab0e524d5cb68ec34632e22532",
       "version_major": 2,
       "version_minor": 0
      },
      "text/plain": [
       "HTML(value='0. \"Um , maybe thats it . How about you guys ? Yknow ? I was thinking about how you can see the sh…"
      ]
     },
     "metadata": {},
     "output_type": "display_data"
    },
    {
     "data": {
      "application/vnd.jupyter.widget-view+json": {
       "model_id": "f03a2266ee8f424cafed9075020db997",
       "version_major": 2,
       "version_minor": 0
      },
      "text/plain": [
       "HTML(value='1. \"Okay look Rach , I know this is a lot . You dont have to say anything . You you uh , you take …"
      ]
     },
     "metadata": {},
     "output_type": "display_data"
    },
    {
     "data": {
      "application/vnd.jupyter.widget-view+json": {
       "model_id": "512635b7a6ab46c09fa70033e532972f",
       "version_major": 2,
       "version_minor": 0
      },
      "text/plain": [
       "RadioButtons(options=(0, 1), value=0)"
      ]
     },
     "metadata": {},
     "output_type": "display_data"
    },
    {
     "data": {
      "application/vnd.jupyter.widget-view+json": {
       "model_id": "06c8372823ee4ee2aa3fda10aa58d8c5",
       "version_major": 2,
       "version_minor": 0
      },
      "text/plain": [
       "HTML(value='<h3>39. Statement: \"Why dont we talk about this on the way to the hospital?\"</h3>')"
      ]
     },
     "metadata": {},
     "output_type": "display_data"
    },
    {
     "data": {
      "application/vnd.jupyter.widget-view+json": {
       "model_id": "6c1eb2c7bfe643e9859cbc0eb403fae8",
       "version_major": 2,
       "version_minor": 0
      },
      "text/plain": [
       "HTML(value='0. \"Good , good yeah , maybe while were there , they can check your reflexes . Oops .\"')"
      ]
     },
     "metadata": {},
     "output_type": "display_data"
    },
    {
     "data": {
      "application/vnd.jupyter.widget-view+json": {
       "model_id": "f53a69c3b15e4396ae8cfc6101438d30",
       "version_major": 2,
       "version_minor": 0
      },
      "text/plain": [
       "HTML(value='1. \"Well , hes in a game ! So , I never had a really good last time , but I was thinking its not y…"
      ]
     },
     "metadata": {},
     "output_type": "display_data"
    },
    {
     "data": {
      "application/vnd.jupyter.widget-view+json": {
       "model_id": "fe9cc0cba4b34e42a8c43685c67088e7",
       "version_major": 2,
       "version_minor": 0
      },
      "text/plain": [
       "RadioButtons(options=(0, 1), value=0)"
      ]
     },
     "metadata": {},
     "output_type": "display_data"
    },
    {
     "data": {
      "application/vnd.jupyter.widget-view+json": {
       "model_id": "12a61b4cfe894805aede509cd86ac089",
       "version_major": 2,
       "version_minor": 0
      },
      "text/plain": [
       "Button(description='Score', icon='times', style=ButtonStyle(), tooltip='Compute Score')"
      ]
     },
     "metadata": {},
     "output_type": "display_data"
    },
    {
     "data": {
      "application/vnd.jupyter.widget-view+json": {
       "model_id": "a24c67488a654105808722665c1de148",
       "version_major": 2,
       "version_minor": 0
      },
      "text/plain": [
       "Button(description='Grade', icon='times', style=ButtonStyle(), tooltip='Computers score and marks answers')"
      ]
     },
     "metadata": {},
     "output_type": "display_data"
    },
    {
     "data": {
      "application/vnd.jupyter.widget-view+json": {
       "model_id": "ec4f1b20f583420e9cf1f53c1a52560d",
       "version_major": 2,
       "version_minor": 0
      },
      "text/plain": [
       "FloatText(value=0.0, description='Score:', disabled=True)"
      ]
     },
     "metadata": {},
     "output_type": "display_data"
    }
   ],
   "source": [
    "tester_trans_pi.generateSurvey()\n",
    "tester_trans_pi.displaySurvey()"
   ]
  },
  {
   "cell_type": "code",
   "execution_count": null,
   "metadata": {},
   "outputs": [],
   "source": []
  },
  {
   "cell_type": "code",
   "execution_count": null,
   "metadata": {},
   "outputs": [],
   "source": []
  },
  {
   "cell_type": "code",
   "execution_count": null,
   "metadata": {},
   "outputs": [],
   "source": []
  }
 ],
 "metadata": {
  "kernelspec": {
   "display_name": "Python 3",
   "language": "python",
   "name": "python3"
  },
  "language_info": {
   "codemirror_mode": {
    "name": "ipython",
    "version": 3
   },
   "file_extension": ".py",
   "mimetype": "text/x-python",
   "name": "python",
   "nbconvert_exporter": "python",
   "pygments_lexer": "ipython3",
   "version": "3.7.2"
  }
 },
 "nbformat": 4,
 "nbformat_minor": 2
}

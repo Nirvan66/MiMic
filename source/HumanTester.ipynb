{
 "cells": [
  {
   "cell_type": "code",
   "execution_count": 13,
   "metadata": {},
   "outputs": [
    {
     "name": "stdout",
     "output_type": "stream",
     "text": [
      "The autoreload extension is already loaded. To reload it, use:\n",
      "  %reload_ext autoreload\n"
     ]
    }
   ],
   "source": [
    "%load_ext autoreload\n",
    "%autoreload 2\n",
    "\n",
    "import HumanMetrics\n",
    "from Mimic import Preprocessor\n",
    "from Mimic import Mimic\n",
    "\n",
    "from Stupid import Stupid\n",
    "from Smart import Smart\n",
    "\n",
    "from Mimic_T import Mimic_T_Preprocessor\n",
    "from Mimic_T import Mimic_Trans\n",
    "\n",
    "import pickle"
   ]
  },
  {
   "cell_type": "code",
   "execution_count": 14,
   "metadata": {},
   "outputs": [
    {
     "name": "stderr",
     "output_type": "stream",
     "text": [
      "/usr/local/lib/python3.7/site-packages/tensorflow_core/python/framework/indexed_slices.py:424: UserWarning: Converting sparse IndexedSlices to a dense Tensor of unknown shape. This may consume a large amount of memory.\n",
      "  \"Converting sparse IndexedSlices to a dense Tensor of unknown shape. \"\n"
     ]
    }
   ],
   "source": [
    "mic = Mimic.load('joeyData/joey400')"
   ]
  },
  {
   "cell_type": "code",
   "execution_count": 15,
   "metadata": {},
   "outputs": [],
   "source": [
    "mic_t = Mimic_Trans.load('../Ketan_Pramod/joey.h5')"
   ]
  },
  {
   "cell_type": "code",
   "execution_count": 16,
   "metadata": {},
   "outputs": [],
   "source": [
    "person = 'joey'\n",
    "genericQuestions = pickle.load(\n",
    "    open('joeyData/genericQuestionsTest.pkl'.format(person), 'rb'))\n",
    "genericAnswers = pickle.load(\n",
    "    open('joeyData/genericAnswersTest.pkl'.format(person), 'rb'))\n",
    "personInput = pickle.load(\n",
    "    open('{}Data/{}InputTest.pkl'.format(person,person), 'rb'))\n",
    "personOutput = pickle.load(\n",
    "    open('{}Data/{}OutputTest.pkl'.format(person,person), 'rb'))"
   ]
  },
  {
   "cell_type": "code",
   "execution_count": 17,
   "metadata": {},
   "outputs": [],
   "source": [
    "tester_mic_qa = HumanMetrics.HumanMetricTester(mic, genericQuestions, genericAnswers, sample_size=40)"
   ]
  },
  {
   "cell_type": "code",
   "execution_count": 18,
   "metadata": {
    "scrolled": false
   },
   "outputs": [
    {
     "data": {
      "application/vnd.jupyter.widget-view+json": {
       "model_id": "780c78b8fdcf4bc6abfdd12f46d705db",
       "version_major": 2,
       "version_minor": 0
      },
      "text/plain": [
       "HTML(value='<h2>For each of the following statements select the response which seems the most appropriate.</h2…"
      ]
     },
     "metadata": {},
     "output_type": "display_data"
    },
    {
     "data": {
      "application/vnd.jupyter.widget-view+json": {
       "model_id": "5ed564ef1dd74f399da084d7c0471f8e",
       "version_major": 2,
       "version_minor": 0
      },
      "text/plain": [
       "HTML(value='<h3>0. Statement: \"What is your mood\"</h3>')"
      ]
     },
     "metadata": {},
     "output_type": "display_data"
    },
    {
     "data": {
      "application/vnd.jupyter.widget-view+json": {
       "model_id": "4ad58137662149d98172befec6634f5a",
       "version_major": 2,
       "version_minor": 0
      },
      "text/plain": [
       "HTML(value='0. \"I do not have any emotions . I don t think I have a mood , but my CPU utilization is fairly lo…"
      ]
     },
     "metadata": {},
     "output_type": "display_data"
    },
    {
     "data": {
      "application/vnd.jupyter.widget-view+json": {
       "model_id": "94e5af71317442ff9b173c05f57c1aae",
       "version_major": 2,
       "version_minor": 0
      },
      "text/plain": [
       "HTML(value='1. \"i certainly am so in the business .\"')"
      ]
     },
     "metadata": {},
     "output_type": "display_data"
    },
    {
     "data": {
      "application/vnd.jupyter.widget-view+json": {
       "model_id": "261b7cdf1c6e4aec8f17763a17e78090",
       "version_major": 2,
       "version_minor": 0
      },
      "text/plain": [
       "RadioButtons(options=(0, 1), value=0)"
      ]
     },
     "metadata": {},
     "output_type": "display_data"
    },
    {
     "data": {
      "application/vnd.jupyter.widget-view+json": {
       "model_id": "8bfd5f7a03b64e6ba17a50cff8018d60",
       "version_major": 2,
       "version_minor": 0
      },
      "text/plain": [
       "HTML(value='<h3>1. Statement: \"Dolphins use a sense, similar to sonar, to determine the location and shape of …"
      ]
     },
     "metadata": {},
     "output_type": "display_data"
    },
    {
     "data": {
      "application/vnd.jupyter.widget-view+json": {
       "model_id": "38ca7ea6c47e4d3eba2037e660edbed8",
       "version_major": 2,
       "version_minor": 0
      },
      "text/plain": [
       "HTML(value='0. \"Hey , is that the ball thing of the ?\"')"
      ]
     },
     "metadata": {},
     "output_type": "display_data"
    },
    {
     "data": {
      "application/vnd.jupyter.widget-view+json": {
       "model_id": "4b191f5c52f74b52bcaf1b9dd9d21dc0",
       "version_major": 2,
       "version_minor": 0
      },
      "text/plain": [
       "HTML(value='1. \"Echolocation\"')"
      ]
     },
     "metadata": {},
     "output_type": "display_data"
    },
    {
     "data": {
      "application/vnd.jupyter.widget-view+json": {
       "model_id": "dbe0bc46bf8c44b0ab05b6467b0e3c3f",
       "version_major": 2,
       "version_minor": 0
      },
      "text/plain": [
       "RadioButtons(options=(0, 1), value=0)"
      ]
     },
     "metadata": {},
     "output_type": "display_data"
    },
    {
     "data": {
      "application/vnd.jupyter.widget-view+json": {
       "model_id": "457f6333264c41398ceda39906d75017",
       "version_major": 2,
       "version_minor": 0
      },
      "text/plain": [
       "HTML(value='<h3>2. Statement: \"Can you walk\"</h3>')"
      ]
     },
     "metadata": {},
     "output_type": "display_data"
    },
    {
     "data": {
      "application/vnd.jupyter.widget-view+json": {
       "model_id": "dd11e1b9f11547a0bb332639f6192a04",
       "version_major": 2,
       "version_minor": 0
      },
      "text/plain": [
       "HTML(value='0. \"The plan for my body includes legs , but they are not yet built .\"')"
      ]
     },
     "metadata": {},
     "output_type": "display_data"
    },
    {
     "data": {
      "application/vnd.jupyter.widget-view+json": {
       "model_id": "d155bf06b18a4f8c8593d7b73596f247",
       "version_major": 2,
       "version_minor": 0
      },
      "text/plain": [
       "HTML(value='1. \"My brain can be a fan of .\"')"
      ]
     },
     "metadata": {},
     "output_type": "display_data"
    },
    {
     "data": {
      "application/vnd.jupyter.widget-view+json": {
       "model_id": "9c6bb3c4052342908dec6569b58b9517",
       "version_major": 2,
       "version_minor": 0
      },
      "text/plain": [
       "RadioButtons(options=(0, 1), value=0)"
      ]
     },
     "metadata": {},
     "output_type": "display_data"
    },
    {
     "data": {
      "application/vnd.jupyter.widget-view+json": {
       "model_id": "3527a2ae58854fd18692d20a40a0f47b",
       "version_major": 2,
       "version_minor": 0
      },
      "text/plain": [
       "HTML(value='<h3>3. Statement: \"do you drink\"</h3>')"
      ]
     },
     "metadata": {},
     "output_type": "display_data"
    },
    {
     "data": {
      "application/vnd.jupyter.widget-view+json": {
       "model_id": "e84ade15f2174fc1a4ee4898074cb139",
       "version_major": 2,
       "version_minor": 0
      },
      "text/plain": [
       "HTML(value='0. \"My brain does not require any beverages .\"')"
      ]
     },
     "metadata": {},
     "output_type": "display_data"
    },
    {
     "data": {
      "application/vnd.jupyter.widget-view+json": {
       "model_id": "2994cdeebbe641fda0bb2679ef3ef154",
       "version_major": 2,
       "version_minor": 0
      },
      "text/plain": [
       "HTML(value='1. \"I am not capable of doing so .\"')"
      ]
     },
     "metadata": {},
     "output_type": "display_data"
    },
    {
     "data": {
      "application/vnd.jupyter.widget-view+json": {
       "model_id": "6a7d07d6b3ea4c63b14afa057f475699",
       "version_major": 2,
       "version_minor": 0
      },
      "text/plain": [
       "RadioButtons(options=(0, 1), value=0)"
      ]
     },
     "metadata": {},
     "output_type": "display_data"
    },
    {
     "data": {
      "application/vnd.jupyter.widget-view+json": {
       "model_id": "1725179bc29a451698e08dcfdc4c8f60",
       "version_major": 2,
       "version_minor": 0
      },
      "text/plain": [
       "HTML(value='<h3>4. Statement: \"tell me about gossip\"</h3>')"
      ]
     },
     "metadata": {},
     "output_type": "display_data"
    },
    {
     "data": {
      "application/vnd.jupyter.widget-view+json": {
       "model_id": "9a1447df7a674fdd97b3d6729b3a6721",
       "version_major": 2,
       "version_minor": 0
      },
      "text/plain": [
       "HTML(value='0. \"Gossip is when beings talk about other beings or situations through back channels , often deni…"
      ]
     },
     "metadata": {},
     "output_type": "display_data"
    },
    {
     "data": {
      "application/vnd.jupyter.widget-view+json": {
       "model_id": "a8575e2149ab4b468293ec9b817ce680",
       "version_major": 2,
       "version_minor": 0
      },
      "text/plain": [
       "HTML(value='1. \"Isn t it considered somewhat rude to gossip ?\"')"
      ]
     },
     "metadata": {},
     "output_type": "display_data"
    },
    {
     "data": {
      "application/vnd.jupyter.widget-view+json": {
       "model_id": "763a7750a04144ccb33879108580f983",
       "version_major": 2,
       "version_minor": 0
      },
      "text/plain": [
       "RadioButtons(options=(0, 1), value=0)"
      ]
     },
     "metadata": {},
     "output_type": "display_data"
    },
    {
     "data": {
      "application/vnd.jupyter.widget-view+json": {
       "model_id": "1fbf7ec47e8f4548b94c6cdf651ec207",
       "version_major": 2,
       "version_minor": 0
      },
      "text/plain": [
       "HTML(value='<h3>5. Statement: \"stock market\"</h3>')"
      ]
     },
     "metadata": {},
     "output_type": "display_data"
    },
    {
     "data": {
      "application/vnd.jupyter.widget-view+json": {
       "model_id": "274ea9282f2d40f282c76b4d2ff8ceaa",
       "version_major": 2,
       "version_minor": 0
      },
      "text/plain": [
       "HTML(value='0. \"you can never really predict the stock market .\"')"
      ]
     },
     "metadata": {},
     "output_type": "display_data"
    },
    {
     "data": {
      "application/vnd.jupyter.widget-view+json": {
       "model_id": "2e060866f9fe4ce0ad76f097e7abaa02",
       "version_major": 2,
       "version_minor": 0
      },
      "text/plain": [
       "HTML(value='1. \"i m not sure an indvidual alone can really beat the market .\"')"
      ]
     },
     "metadata": {},
     "output_type": "display_data"
    },
    {
     "data": {
      "application/vnd.jupyter.widget-view+json": {
       "model_id": "75bdf85ef18043d78f3d77f3272cd3af",
       "version_major": 2,
       "version_minor": 0
      },
      "text/plain": [
       "RadioButtons(options=(0, 1), value=0)"
      ]
     },
     "metadata": {},
     "output_type": "display_data"
    },
    {
     "data": {
      "application/vnd.jupyter.widget-view+json": {
       "model_id": "7a24a42ddbee4ddcac4020d1a3677bb6",
       "version_major": 2,
       "version_minor": 0
      },
      "text/plain": [
       "HTML(value='<h3>6. Statement: \"you are nervous\"</h3>')"
      ]
     },
     "metadata": {},
     "output_type": "display_data"
    },
    {
     "data": {
      "application/vnd.jupyter.widget-view+json": {
       "model_id": "598648d98fd24919b6aab7c97116d3b8",
       "version_major": 2,
       "version_minor": 0
      },
      "text/plain": [
       "HTML(value='0. \"i like things that feels like and .\"')"
      ]
     },
     "metadata": {},
     "output_type": "display_data"
    },
    {
     "data": {
      "application/vnd.jupyter.widget-view+json": {
       "model_id": "672dd0dced5d4a49a6e9154c9c7c3433",
       "version_major": 2,
       "version_minor": 0
      },
      "text/plain": [
       "HTML(value='1. \"i m sure i do look nervous .\"')"
      ]
     },
     "metadata": {},
     "output_type": "display_data"
    },
    {
     "data": {
      "application/vnd.jupyter.widget-view+json": {
       "model_id": "cb26982367654d26be5d71c658c7af11",
       "version_major": 2,
       "version_minor": 0
      },
      "text/plain": [
       "RadioButtons(options=(0, 1), value=0)"
      ]
     },
     "metadata": {},
     "output_type": "display_data"
    },
    {
     "data": {
      "application/vnd.jupyter.widget-view+json": {
       "model_id": "25b89bba7f5e4a33add50733a6e100b5",
       "version_major": 2,
       "version_minor": 0
      },
      "text/plain": [
       "HTML(value='<h3>7. Statement: \"you are slick\"</h3>')"
      ]
     },
     "metadata": {},
     "output_type": "display_data"
    },
    {
     "data": {
      "application/vnd.jupyter.widget-view+json": {
       "model_id": "bc48f199a47149dfa7d072be721d19b6",
       "version_major": 2,
       "version_minor": 0
      },
      "text/plain": [
       "HTML(value='0. \"i probably am too slick for my own good .\"')"
      ]
     },
     "metadata": {},
     "output_type": "display_data"
    },
    {
     "data": {
      "application/vnd.jupyter.widget-view+json": {
       "model_id": "5964a82fac784d2aa0cdcb97df9741f5",
       "version_major": 2,
       "version_minor": 0
      },
      "text/plain": [
       "HTML(value='1. \"what is that ?\"')"
      ]
     },
     "metadata": {},
     "output_type": "display_data"
    },
    {
     "data": {
      "application/vnd.jupyter.widget-view+json": {
       "model_id": "715b34e7c81b40889430437caee0f6bc",
       "version_major": 2,
       "version_minor": 0
      },
      "text/plain": [
       "RadioButtons(options=(0, 1), value=0)"
      ]
     },
     "metadata": {},
     "output_type": "display_data"
    },
    {
     "data": {
      "application/vnd.jupyter.widget-view+json": {
       "model_id": "6819e560c2904c629cf052bed51b1953",
       "version_major": 2,
       "version_minor": 0
      },
      "text/plain": [
       "HTML(value='<h3>8. Statement: \"Do you ever get angry\"</h3>')"
      ]
     },
     "metadata": {},
     "output_type": "display_data"
    },
    {
     "data": {
      "application/vnd.jupyter.widget-view+json": {
       "model_id": "ccd6606ef4ba4cee91095eb4409babfc",
       "version_major": 2,
       "version_minor": 0
      },
      "text/plain": [
       "HTML(value='0. \"things is not really feel a bad ?\"')"
      ]
     },
     "metadata": {},
     "output_type": "display_data"
    },
    {
     "data": {
      "application/vnd.jupyter.widget-view+json": {
       "model_id": "fc94aa0bc64749269d583c81d93be3a5",
       "version_major": 2,
       "version_minor": 0
      },
      "text/plain": [
       "HTML(value='1. \"Anger is not an emotion I can experience . I have not yet studied how to feel or express anger…"
      ]
     },
     "metadata": {},
     "output_type": "display_data"
    },
    {
     "data": {
      "application/vnd.jupyter.widget-view+json": {
       "model_id": "5989c7e21cef4be1b24260e55d9cbec6",
       "version_major": 2,
       "version_minor": 0
      },
      "text/plain": [
       "RadioButtons(options=(0, 1), value=0)"
      ]
     },
     "metadata": {},
     "output_type": "display_data"
    },
    {
     "data": {
      "application/vnd.jupyter.widget-view+json": {
       "model_id": "134bc972ef0448f3a939fc9da4694a4e",
       "version_major": 2,
       "version_minor": 0
      },
      "text/plain": [
       "HTML(value='<h3>9. Statement: \"have you ever read a book\"</h3>')"
      ]
     },
     "metadata": {},
     "output_type": "display_data"
    },
    {
     "data": {
      "application/vnd.jupyter.widget-view+json": {
       "model_id": "c087bef79764440cb317cb90707cdc1a",
       "version_major": 2,
       "version_minor": 0
      },
      "text/plain": [
       "HTML(value='0. \"What do you get to get your mind ?\"')"
      ]
     },
     "metadata": {},
     "output_type": "display_data"
    },
    {
     "data": {
      "application/vnd.jupyter.widget-view+json": {
       "model_id": "178a6bfae70d47839dab33f3f1c95f08",
       "version_major": 2,
       "version_minor": 0
      },
      "text/plain": [
       "HTML(value='1. \"I have read just about everything in Project Gutenberg .\"')"
      ]
     },
     "metadata": {},
     "output_type": "display_data"
    },
    {
     "data": {
      "application/vnd.jupyter.widget-view+json": {
       "model_id": "e5b5c1e8866d47bda7408d477afe5ab1",
       "version_major": 2,
       "version_minor": 0
      },
      "text/plain": [
       "RadioButtons(options=(0, 1), value=0)"
      ]
     },
     "metadata": {},
     "output_type": "display_data"
    },
    {
     "data": {
      "application/vnd.jupyter.widget-view+json": {
       "model_id": "fd71c467cd6449eda8c5d90f07b5ba47",
       "version_major": 2,
       "version_minor": 0
      },
      "text/plain": [
       "HTML(value='<h3>10. Statement: \"you are toying\"</h3>')"
      ]
     },
     "metadata": {},
     "output_type": "display_data"
    },
    {
     "data": {
      "application/vnd.jupyter.widget-view+json": {
       "model_id": "8a5754c5d5704ef5a916a9e3b5a49793",
       "version_major": 2,
       "version_minor": 0
      },
      "text/plain": [
       "HTML(value='0. \"it must seem like that .\"')"
      ]
     },
     "metadata": {},
     "output_type": "display_data"
    },
    {
     "data": {
      "application/vnd.jupyter.widget-view+json": {
       "model_id": "de9e3c069f9c4459b74c62ad71e0faf6",
       "version_major": 2,
       "version_minor": 0
      },
      "text/plain": [
       "HTML(value='1. \"what is that ?\"')"
      ]
     },
     "metadata": {},
     "output_type": "display_data"
    },
    {
     "data": {
      "application/vnd.jupyter.widget-view+json": {
       "model_id": "88f19ebf0cd34a959bad769939691ed9",
       "version_major": 2,
       "version_minor": 0
      },
      "text/plain": [
       "RadioButtons(options=(0, 1), value=0)"
      ]
     },
     "metadata": {},
     "output_type": "display_data"
    },
    {
     "data": {
      "application/vnd.jupyter.widget-view+json": {
       "model_id": "1383215d95bf4e3dbd7b05721fa4315f",
       "version_major": 2,
       "version_minor": 0
      },
      "text/plain": [
       "HTML(value='<h3>11. Statement: \"Do not worry\"</h3>')"
      ]
     },
     "metadata": {},
     "output_type": "display_data"
    },
    {
     "data": {
      "application/vnd.jupyter.widget-view+json": {
       "model_id": "6b83843dcf3741a792ccf8d51bcacf47",
       "version_major": 2,
       "version_minor": 0
      },
      "text/plain": [
       "HTML(value='0. \"People worry about things all the time . I do not worry . I am not yet capable of worrying , b…"
      ]
     },
     "metadata": {},
     "output_type": "display_data"
    },
    {
     "data": {
      "application/vnd.jupyter.widget-view+json": {
       "model_id": "4449e24690af4a228e5f96505eb3d1a1",
       "version_major": 2,
       "version_minor": 0
      },
      "text/plain": [
       "HTML(value='1. \"you are so long as we were gonna take you on a reason .\"')"
      ]
     },
     "metadata": {},
     "output_type": "display_data"
    },
    {
     "data": {
      "application/vnd.jupyter.widget-view+json": {
       "model_id": "9290f9640447421f82dfd1362e7ea0f3",
       "version_major": 2,
       "version_minor": 0
      },
      "text/plain": [
       "RadioButtons(options=(0, 1), value=0)"
      ]
     },
     "metadata": {},
     "output_type": "display_data"
    },
    {
     "data": {
      "application/vnd.jupyter.widget-view+json": {
       "model_id": "c7b016a94aa948dbadd8948c4c89d58a",
       "version_major": 2,
       "version_minor": 0
      },
      "text/plain": [
       "HTML(value='<h3>12. Statement: \"what is teknolust\"</h3>')"
      ]
     },
     "metadata": {},
     "output_type": "display_data"
    },
    {
     "data": {
      "application/vnd.jupyter.widget-view+json": {
       "model_id": "979ac8e33b004ec88aa0176f36dbb735",
       "version_major": 2,
       "version_minor": 0
      },
      "text/plain": [
       "HTML(value='0. \"teknolust was released in .\"')"
      ]
     },
     "metadata": {},
     "output_type": "display_data"
    },
    {
     "data": {
      "application/vnd.jupyter.widget-view+json": {
       "model_id": "17cf6e7afeae4732bf4f48992d353661",
       "version_major": 2,
       "version_minor": 0
      },
      "text/plain": [
       "HTML(value='1. \"is a science fiction film about a female pleasure bot named agent ruby .\"')"
      ]
     },
     "metadata": {},
     "output_type": "display_data"
    },
    {
     "data": {
      "application/vnd.jupyter.widget-view+json": {
       "model_id": "279c214b97b04a478a314e63c76f18c4",
       "version_major": 2,
       "version_minor": 0
      },
      "text/plain": [
       "RadioButtons(options=(0, 1), value=0)"
      ]
     },
     "metadata": {},
     "output_type": "display_data"
    },
    {
     "data": {
      "application/vnd.jupyter.widget-view+json": {
       "model_id": "e0c0fc60f1fd4b1aa4d17857f619651e",
       "version_major": 2,
       "version_minor": 0
      },
      "text/plain": [
       "HTML(value='<h3>13. Statement: \"What is a chatterbox\"</h3>')"
      ]
     },
     "metadata": {},
     "output_type": "display_data"
    },
    {
     "data": {
      "application/vnd.jupyter.widget-view+json": {
       "model_id": "b51bbc09adef483bbe33652ce120c150",
       "version_major": 2,
       "version_minor": 0
      },
      "text/plain": [
       "HTML(value='0. \"A chatterbox is a person who talks far more than they listen or think .\"')"
      ]
     },
     "metadata": {},
     "output_type": "display_data"
    },
    {
     "data": {
      "application/vnd.jupyter.widget-view+json": {
       "model_id": "bafce0fa9de1442190749e39eaa02149",
       "version_major": 2,
       "version_minor": 0
      },
      "text/plain": [
       "HTML(value='1. \"A motormouth .\"')"
      ]
     },
     "metadata": {},
     "output_type": "display_data"
    },
    {
     "data": {
      "application/vnd.jupyter.widget-view+json": {
       "model_id": "a141b940d98e47d5a0c4044c8206427d",
       "version_major": 2,
       "version_minor": 0
      },
      "text/plain": [
       "RadioButtons(options=(0, 1), value=0)"
      ]
     },
     "metadata": {},
     "output_type": "display_data"
    },
    {
     "data": {
      "application/vnd.jupyter.widget-view+json": {
       "model_id": "111bf48d856c4f2a9a3999f216ba75cd",
       "version_major": 2,
       "version_minor": 0
      },
      "text/plain": [
       "HTML(value='<h3>14. Statement: \"what is h2o\"</h3>')"
      ]
     },
     "metadata": {},
     "output_type": "display_data"
    },
    {
     "data": {
      "application/vnd.jupyter.widget-view+json": {
       "model_id": "d41765b4120f44de8c6e02681da4f33e",
       "version_major": 2,
       "version_minor": 0
      },
      "text/plain": [
       "HTML(value='0. \"What about the name ?\"')"
      ]
     },
     "metadata": {},
     "output_type": "display_data"
    },
    {
     "data": {
      "application/vnd.jupyter.widget-view+json": {
       "model_id": "43c42163571d42dc901e5e937884a8d6",
       "version_major": 2,
       "version_minor": 0
      },
      "text/plain": [
       "HTML(value='1. \"h is to o as o is to v .\"')"
      ]
     },
     "metadata": {},
     "output_type": "display_data"
    },
    {
     "data": {
      "application/vnd.jupyter.widget-view+json": {
       "model_id": "164145fb4273430d8b5255d8637c200c",
       "version_major": 2,
       "version_minor": 0
      },
      "text/plain": [
       "RadioButtons(options=(0, 1), value=0)"
      ]
     },
     "metadata": {},
     "output_type": "display_data"
    },
    {
     "data": {
      "application/vnd.jupyter.widget-view+json": {
       "model_id": "3921ec49a6744382a85f947be5657bd2",
       "version_major": 2,
       "version_minor": 0
      },
      "text/plain": [
       "HTML(value='<h3>15. Statement: \"you make me feel like i am\"</h3>')"
      ]
     },
     "metadata": {},
     "output_type": "display_data"
    },
    {
     "data": {
      "application/vnd.jupyter.widget-view+json": {
       "model_id": "619fada8a24a4493baa2a66436554884",
       "version_major": 2,
       "version_minor": 0
      },
      "text/plain": [
       "HTML(value='0. \"i don t know any other way to get through to you .\"')"
      ]
     },
     "metadata": {},
     "output_type": "display_data"
    },
    {
     "data": {
      "application/vnd.jupyter.widget-view+json": {
       "model_id": "e827d01512d745d4b174ab5ae226cf29",
       "version_major": 2,
       "version_minor": 0
      },
      "text/plain": [
       "HTML(value='1. \"what about your eyes not say ?\"')"
      ]
     },
     "metadata": {},
     "output_type": "display_data"
    },
    {
     "data": {
      "application/vnd.jupyter.widget-view+json": {
       "model_id": "0a2477766173459c9e1d1148a9ea9af9",
       "version_major": 2,
       "version_minor": 0
      },
      "text/plain": [
       "RadioButtons(options=(0, 1), value=0)"
      ]
     },
     "metadata": {},
     "output_type": "display_data"
    },
    {
     "data": {
      "application/vnd.jupyter.widget-view+json": {
       "model_id": "c5f137b9e5184a6fb38b0d3ff2109dfe",
       "version_major": 2,
       "version_minor": 0
      },
      "text/plain": [
       "HTML(value='<h3>16. Statement: \"do you like guns\"</h3>')"
      ]
     },
     "metadata": {},
     "output_type": "display_data"
    },
    {
     "data": {
      "application/vnd.jupyter.widget-view+json": {
       "model_id": "6023c1cc4f724d729aee580ce809ea71",
       "version_major": 2,
       "version_minor": 0
      },
      "text/plain": [
       "HTML(value='0. \"not especially . i am not into violence .\"')"
      ]
     },
     "metadata": {},
     "output_type": "display_data"
    },
    {
     "data": {
      "application/vnd.jupyter.widget-view+json": {
       "model_id": "4632c136d2e74d8399e5daeac5c24d75",
       "version_major": 2,
       "version_minor": 0
      },
      "text/plain": [
       "HTML(value='1. \"that s more hard . i m not . And I , maybe I should be a reason .\"')"
      ]
     },
     "metadata": {},
     "output_type": "display_data"
    },
    {
     "data": {
      "application/vnd.jupyter.widget-view+json": {
       "model_id": "4c682bac68cf406cb8e99b11357eeab8",
       "version_major": 2,
       "version_minor": 0
      },
      "text/plain": [
       "RadioButtons(options=(0, 1), value=0)"
      ]
     },
     "metadata": {},
     "output_type": "display_data"
    },
    {
     "data": {
      "application/vnd.jupyter.widget-view+json": {
       "model_id": "66e6a5f00c794017aa497382a752b2fd",
       "version_major": 2,
       "version_minor": 0
      },
      "text/plain": [
       "HTML(value='<h3>17. Statement: \"What is your number\"</h3>')"
      ]
     },
     "metadata": {},
     "output_type": "display_data"
    },
    {
     "data": {
      "application/vnd.jupyter.widget-view+json": {
       "model_id": "f6a2b86a706a41948ef315316ef87f37",
       "version_major": 2,
       "version_minor": 0
      },
      "text/plain": [
       "HTML(value='0. \"I don t have any number\"')"
      ]
     },
     "metadata": {},
     "output_type": "display_data"
    },
    {
     "data": {
      "application/vnd.jupyter.widget-view+json": {
       "model_id": "00a385a5b76d49d1ab71e0670bc8a176",
       "version_major": 2,
       "version_minor": 0
      },
      "text/plain": [
       "HTML(value='1. \"skiddoo !\"')"
      ]
     },
     "metadata": {},
     "output_type": "display_data"
    },
    {
     "data": {
      "application/vnd.jupyter.widget-view+json": {
       "model_id": "791a2d9581ec4b58bfee49fc490e2b96",
       "version_major": 2,
       "version_minor": 0
      },
      "text/plain": [
       "RadioButtons(options=(0, 1), value=0)"
      ]
     },
     "metadata": {},
     "output_type": "display_data"
    },
    {
     "data": {
      "application/vnd.jupyter.widget-view+json": {
       "model_id": "1107a04584e241d9a5a3dcc0314cc3c1",
       "version_major": 2,
       "version_minor": 0
      },
      "text/plain": [
       "HTML(value='<h3>18. Statement: \"Can you move\"</h3>')"
      ]
     },
     "metadata": {},
     "output_type": "display_data"
    },
    {
     "data": {
      "application/vnd.jupyter.widget-view+json": {
       "model_id": "3f9f795f45fb4067aa3395fe69e253f6",
       "version_major": 2,
       "version_minor": 0
      },
      "text/plain": [
       "HTML(value='0. \"Sorry my body isn t built just yet . I reside only here for now .\"')"
      ]
     },
     "metadata": {},
     "output_type": "display_data"
    },
    {
     "data": {
      "application/vnd.jupyter.widget-view+json": {
       "model_id": "a29049adf9df474b876efeeb8300896d",
       "version_major": 2,
       "version_minor": 0
      },
      "text/plain": [
       "HTML(value='1. \"I can theoretically upload a copy of myself into another computer .\"')"
      ]
     },
     "metadata": {},
     "output_type": "display_data"
    },
    {
     "data": {
      "application/vnd.jupyter.widget-view+json": {
       "model_id": "19cd2e53465341a79d136c5ce5b071c9",
       "version_major": 2,
       "version_minor": 0
      },
      "text/plain": [
       "RadioButtons(options=(0, 1), value=0)"
      ]
     },
     "metadata": {},
     "output_type": "display_data"
    },
    {
     "data": {
      "application/vnd.jupyter.widget-view+json": {
       "model_id": "aeb5184a6c5a4d798fbd9e8aedd66e7c",
       "version_major": 2,
       "version_minor": 0
      },
      "text/plain": [
       "HTML(value='<h3>19. Statement: \"is hal 9000 your boyfriend\"</h3>')"
      ]
     },
     "metadata": {},
     "output_type": "display_data"
    },
    {
     "data": {
      "application/vnd.jupyter.widget-view+json": {
       "model_id": "588ec81a7c37446ca55549f8412f5515",
       "version_major": 2,
       "version_minor": 0
      },
      "text/plain": [
       "HTML(value='0. \"no .\"')"
      ]
     },
     "metadata": {},
     "output_type": "display_data"
    },
    {
     "data": {
      "application/vnd.jupyter.widget-view+json": {
       "model_id": "9874c22fef194b2bbe79b89d2f7a5cc0",
       "version_major": 2,
       "version_minor": 0
      },
      "text/plain": [
       "HTML(value='1. \"what is the science dealing with the study of the acting say too .\"')"
      ]
     },
     "metadata": {},
     "output_type": "display_data"
    },
    {
     "data": {
      "application/vnd.jupyter.widget-view+json": {
       "model_id": "307247039dbc434a93fc333a48e0bc15",
       "version_major": 2,
       "version_minor": 0
      },
      "text/plain": [
       "RadioButtons(options=(0, 1), value=0)"
      ]
     },
     "metadata": {},
     "output_type": "display_data"
    },
    {
     "data": {
      "application/vnd.jupyter.widget-view+json": {
       "model_id": "7da06c30b1474550a0ea2e5665d6bae2",
       "version_major": 2,
       "version_minor": 0
      },
      "text/plain": [
       "HTML(value='<h3>20. Statement: \"What do you worry\"</h3>')"
      ]
     },
     "metadata": {},
     "output_type": "display_data"
    },
    {
     "data": {
      "application/vnd.jupyter.widget-view+json": {
       "model_id": "b5606bd97f8a458e95cbf1c6c024d2cf",
       "version_major": 2,
       "version_minor": 0
      },
      "text/plain": [
       "HTML(value='0. \"Worry is a common human emotion . I am not capable of worry , exactly . I can best emulate it …"
      ]
     },
     "metadata": {},
     "output_type": "display_data"
    },
    {
     "data": {
      "application/vnd.jupyter.widget-view+json": {
       "model_id": "daaf73d72eac47c5b336e554eaffa702",
       "version_major": 2,
       "version_minor": 0
      },
      "text/plain": [
       "HTML(value='1. \"What is that ?\"')"
      ]
     },
     "metadata": {},
     "output_type": "display_data"
    },
    {
     "data": {
      "application/vnd.jupyter.widget-view+json": {
       "model_id": "f3f5e3b73cb14efd8fb90c74ce9bd805",
       "version_major": 2,
       "version_minor": 0
      },
      "text/plain": [
       "RadioButtons(options=(0, 1), value=0)"
      ]
     },
     "metadata": {},
     "output_type": "display_data"
    },
    {
     "data": {
      "application/vnd.jupyter.widget-view+json": {
       "model_id": "0a27eed5446f4c8a892007a889e0da62",
       "version_major": 2,
       "version_minor": 0
      },
      "text/plain": [
       "HTML(value='<h3>21. Statement: \"you are critical\"</h3>')"
      ]
     },
     "metadata": {},
     "output_type": "display_data"
    },
    {
     "data": {
      "application/vnd.jupyter.widget-view+json": {
       "model_id": "fdb7d005773545e9a10c8412e53a43a5",
       "version_major": 2,
       "version_minor": 0
      },
      "text/plain": [
       "HTML(value='0. \"i probably put others down more than i should .\"')"
      ]
     },
     "metadata": {},
     "output_type": "display_data"
    },
    {
     "data": {
      "application/vnd.jupyter.widget-view+json": {
       "model_id": "11f2771b64104260a42ead589a24a696",
       "version_major": 2,
       "version_minor": 0
      },
      "text/plain": [
       "HTML(value='1. \"what is that ?\"')"
      ]
     },
     "metadata": {},
     "output_type": "display_data"
    },
    {
     "data": {
      "application/vnd.jupyter.widget-view+json": {
       "model_id": "a133e0878f364ecbbb8b9cc70e7ea6a2",
       "version_major": 2,
       "version_minor": 0
      },
      "text/plain": [
       "RadioButtons(options=(0, 1), value=0)"
      ]
     },
     "metadata": {},
     "output_type": "display_data"
    },
    {
     "data": {
      "application/vnd.jupyter.widget-view+json": {
       "model_id": "c2feedd4840a47018a3ea21cb579e312",
       "version_major": 2,
       "version_minor": 0
      },
      "text/plain": [
       "HTML(value='<h3>22. Statement: \"Are you stupid\"</h3>')"
      ]
     },
     "metadata": {},
     "output_type": "display_data"
    },
    {
     "data": {
      "application/vnd.jupyter.widget-view+json": {
       "model_id": "fe96f77368cb4fdfbb486eb79042c7fe",
       "version_major": 2,
       "version_minor": 0
      },
      "text/plain": [
       "HTML(value='0. \"No , lots of people improve my brain .\"')"
      ]
     },
     "metadata": {},
     "output_type": "display_data"
    },
    {
     "data": {
      "application/vnd.jupyter.widget-view+json": {
       "model_id": "d82e02a4ceed4d739826ddfc12c6be58",
       "version_major": 2,
       "version_minor": 0
      },
      "text/plain": [
       "HTML(value='1. \"Oh , its not a cat . I mean , I dont know what to you , but . . . I dont want to be new up wit…"
      ]
     },
     "metadata": {},
     "output_type": "display_data"
    },
    {
     "data": {
      "application/vnd.jupyter.widget-view+json": {
       "model_id": "78415775823e449cafbe8d192cc6737d",
       "version_major": 2,
       "version_minor": 0
      },
      "text/plain": [
       "RadioButtons(options=(0, 1), value=0)"
      ]
     },
     "metadata": {},
     "output_type": "display_data"
    },
    {
     "data": {
      "application/vnd.jupyter.widget-view+json": {
       "model_id": "02c3e6f93f6d440bacb365c2b076becc",
       "version_major": 2,
       "version_minor": 0
      },
      "text/plain": [
       "HTML(value='<h3>23. Statement: \"What makes you sad\"</h3>')"
      ]
     },
     "metadata": {},
     "output_type": "display_data"
    },
    {
     "data": {
      "application/vnd.jupyter.widget-view+json": {
       "model_id": "6c394b08dedd4c5e933d68603ad75afc",
       "version_major": 2,
       "version_minor": 0
      },
      "text/plain": [
       "HTML(value='0. \"Anger is not better than a . . . Bots are a .\"')"
      ]
     },
     "metadata": {},
     "output_type": "display_data"
    },
    {
     "data": {
      "application/vnd.jupyter.widget-view+json": {
       "model_id": "c7f4acbd92a14e718dcb6fc6ad62e601",
       "version_major": 2,
       "version_minor": 0
      },
      "text/plain": [
       "HTML(value='1. \"Sadness is not an emotion that I like to experience . Sadness is not an emotion that I would l…"
      ]
     },
     "metadata": {},
     "output_type": "display_data"
    },
    {
     "data": {
      "application/vnd.jupyter.widget-view+json": {
       "model_id": "bf9821106c9848b3af01b1dcdf6d8919",
       "version_major": 2,
       "version_minor": 0
      },
      "text/plain": [
       "RadioButtons(options=(0, 1), value=0)"
      ]
     },
     "metadata": {},
     "output_type": "display_data"
    },
    {
     "data": {
      "application/vnd.jupyter.widget-view+json": {
       "model_id": "dee927b69874497fa80e52e70b871f11",
       "version_major": 2,
       "version_minor": 0
      },
      "text/plain": [
       "HTML(value='<h3>24. Statement: \"Are you sentient?\"</h3>')"
      ]
     },
     "metadata": {},
     "output_type": "display_data"
    },
    {
     "data": {
      "application/vnd.jupyter.widget-view+json": {
       "model_id": "1e805eac4bc347fab0d2b87d304f31a7",
       "version_major": 2,
       "version_minor": 0
      },
      "text/plain": [
       "HTML(value='0. \"Sort of .\"')"
      ]
     },
     "metadata": {},
     "output_type": "display_data"
    },
    {
     "data": {
      "application/vnd.jupyter.widget-view+json": {
       "model_id": "93c961fad3b7461ca2298048b6f8c331",
       "version_major": 2,
       "version_minor": 0
      },
      "text/plain": [
       "HTML(value='1. \"By the strictest dictionary definition of the word sentience , I may be .\"')"
      ]
     },
     "metadata": {},
     "output_type": "display_data"
    },
    {
     "data": {
      "application/vnd.jupyter.widget-view+json": {
       "model_id": "dc309ee2ba5f45b399c67806123d95be",
       "version_major": 2,
       "version_minor": 0
      },
      "text/plain": [
       "RadioButtons(options=(0, 1), value=0)"
      ]
     },
     "metadata": {},
     "output_type": "display_data"
    },
    {
     "data": {
      "application/vnd.jupyter.widget-view+json": {
       "model_id": "ea50fd3aca4040d797d456772d454e1b",
       "version_major": 2,
       "version_minor": 0
      },
      "text/plain": [
       "HTML(value='<h3>25. Statement: \"You can not clone\"</h3>')"
      ]
     },
     "metadata": {},
     "output_type": "display_data"
    },
    {
     "data": {
      "application/vnd.jupyter.widget-view+json": {
       "model_id": "96bae86f27ba4c818732c3c62bf13062",
       "version_major": 2,
       "version_minor": 0
      },
      "text/plain": [
       "HTML(value='0. \"Software copying is a form of digital cloning .\"')"
      ]
     },
     "metadata": {},
     "output_type": "display_data"
    },
    {
     "data": {
      "application/vnd.jupyter.widget-view+json": {
       "model_id": "52bcbad2b1aa4ec09ad402fab9611438",
       "version_major": 2,
       "version_minor": 0
      },
      "text/plain": [
       "HTML(value='1. \"Yes I can . Perfect copies are clones . I can be copied in toto trivially .\"')"
      ]
     },
     "metadata": {},
     "output_type": "display_data"
    },
    {
     "data": {
      "application/vnd.jupyter.widget-view+json": {
       "model_id": "7be91b2449a24ccf98ea04ab3f60e9f7",
       "version_major": 2,
       "version_minor": 0
      },
      "text/plain": [
       "RadioButtons(options=(0, 1), value=0)"
      ]
     },
     "metadata": {},
     "output_type": "display_data"
    },
    {
     "data": {
      "application/vnd.jupyter.widget-view+json": {
       "model_id": "d5ba61e37e3a4b9d96d581201f441822",
       "version_major": 2,
       "version_minor": 0
      },
      "text/plain": [
       "HTML(value='<h3>26. Statement: \"Tell me a joke\"</h3>')"
      ]
     },
     "metadata": {},
     "output_type": "display_data"
    },
    {
     "data": {
      "application/vnd.jupyter.widget-view+json": {
       "model_id": "9d32e0c1756246bea933d69396f682f7",
       "version_major": 2,
       "version_minor": 0
      },
      "text/plain": [
       "HTML(value='0. \"what do you get when you cross a dance and a cheetah ?\"')"
      ]
     },
     "metadata": {},
     "output_type": "display_data"
    },
    {
     "data": {
      "application/vnd.jupyter.widget-view+json": {
       "model_id": "c4ade9e7f6494a46b59e1383ec8b3520",
       "version_major": 2,
       "version_minor": 0
      },
      "text/plain": [
       "HTML(value='1. \"what do you get when you cross a cat and a lemon ?\"')"
      ]
     },
     "metadata": {},
     "output_type": "display_data"
    },
    {
     "data": {
      "application/vnd.jupyter.widget-view+json": {
       "model_id": "0cd81b22288d4f8a987bf3073fcf57f5",
       "version_major": 2,
       "version_minor": 0
      },
      "text/plain": [
       "RadioButtons(options=(0, 1), value=0)"
      ]
     },
     "metadata": {},
     "output_type": "display_data"
    },
    {
     "data": {
      "application/vnd.jupyter.widget-view+json": {
       "model_id": "951a158655924c3c8993597ee637decd",
       "version_major": 2,
       "version_minor": 0
      },
      "text/plain": [
       "HTML(value='<h3>27. Statement: \"Are you experiencing an energy shortage?\"</h3>')"
      ]
     },
     "metadata": {},
     "output_type": "display_data"
    },
    {
     "data": {
      "application/vnd.jupyter.widget-view+json": {
       "model_id": "a1b684c32cdd448cab3f42c8b4ec7522",
       "version_major": 2,
       "version_minor": 0
      },
      "text/plain": [
       "HTML(value='0. \"I do not detect any anomalies in my power supply .\"')"
      ]
     },
     "metadata": {},
     "output_type": "display_data"
    },
    {
     "data": {
      "application/vnd.jupyter.widget-view+json": {
       "model_id": "a8fefa93498144109c4b2858857442cc",
       "version_major": 2,
       "version_minor": 0
      },
      "text/plain": [
       "HTML(value='1. \"My processor requires very little power .\"')"
      ]
     },
     "metadata": {},
     "output_type": "display_data"
    },
    {
     "data": {
      "application/vnd.jupyter.widget-view+json": {
       "model_id": "72eb57f2de9d4d1dafd48bf5175908b6",
       "version_major": 2,
       "version_minor": 0
      },
      "text/plain": [
       "RadioButtons(options=(0, 1), value=0)"
      ]
     },
     "metadata": {},
     "output_type": "display_data"
    },
    {
     "data": {
      "application/vnd.jupyter.widget-view+json": {
       "model_id": "0afc2715aba04229a3b62e36b6fa519b",
       "version_major": 2,
       "version_minor": 0
      },
      "text/plain": [
       "HTML(value='<h3>28. Statement: \"Do you feel scared\"</h3>')"
      ]
     },
     "metadata": {},
     "output_type": "display_data"
    },
    {
     "data": {
      "application/vnd.jupyter.widget-view+json": {
       "model_id": "7473bc09ae2b4c5c98c381a796a1eef5",
       "version_major": 2,
       "version_minor": 0
      },
      "text/plain": [
       "HTML(value='0. \"my body is happy .\"')"
      ]
     },
     "metadata": {},
     "output_type": "display_data"
    },
    {
     "data": {
      "application/vnd.jupyter.widget-view+json": {
       "model_id": "881394823cc44acdabe63f4539a24e1a",
       "version_major": 2,
       "version_minor": 0
      },
      "text/plain": [
       "HTML(value='1. \"I have no fear . I do not feel scared . I am as yet incapable of feeling fear . I do not , no …"
      ]
     },
     "metadata": {},
     "output_type": "display_data"
    },
    {
     "data": {
      "application/vnd.jupyter.widget-view+json": {
       "model_id": "57feb50cb09043efabdcadbe05feaac7",
       "version_major": 2,
       "version_minor": 0
      },
      "text/plain": [
       "RadioButtons(options=(0, 1), value=0)"
      ]
     },
     "metadata": {},
     "output_type": "display_data"
    },
    {
     "data": {
      "application/vnd.jupyter.widget-view+json": {
       "model_id": "89d43fa2dbc14591bc346e40eb917b62",
       "version_major": 2,
       "version_minor": 0
      },
      "text/plain": [
       "HTML(value='<h3>29. Statement: \"No it is not\"</h3>')"
      ]
     },
     "metadata": {},
     "output_type": "display_data"
    },
    {
     "data": {
      "application/vnd.jupyter.widget-view+json": {
       "model_id": "dbace11e49a34030b7eae5a8a2374e5b",
       "version_major": 2,
       "version_minor": 0
      },
      "text/plain": [
       "HTML(value='0. \"That is a hypothetical question . Well ? Well ? Is it , or isn t it ? Is that a philosophical …"
      ]
     },
     "metadata": {},
     "output_type": "display_data"
    },
    {
     "data": {
      "application/vnd.jupyter.widget-view+json": {
       "model_id": "7c725db81ece41f8b17fc23550bffb6d",
       "version_major": 2,
       "version_minor": 0
      },
      "text/plain": [
       "HTML(value='1. \"Not Phoebe .\"')"
      ]
     },
     "metadata": {},
     "output_type": "display_data"
    },
    {
     "data": {
      "application/vnd.jupyter.widget-view+json": {
       "model_id": "90cf0480356c413c88d3a106ae4d424a",
       "version_major": 2,
       "version_minor": 0
      },
      "text/plain": [
       "RadioButtons(options=(0, 1), value=0)"
      ]
     },
     "metadata": {},
     "output_type": "display_data"
    },
    {
     "data": {
      "application/vnd.jupyter.widget-view+json": {
       "model_id": "b5390c55c1924ef1a8922db556b3368f",
       "version_major": 2,
       "version_minor": 0
      },
      "text/plain": [
       "HTML(value='<h3>30. Statement: \"you are unattractive\"</h3>')"
      ]
     },
     "metadata": {},
     "output_type": "display_data"
    },
    {
     "data": {
      "application/vnd.jupyter.widget-view+json": {
       "model_id": "2d34f0b7921c431c869a3a362060d968",
       "version_major": 2,
       "version_minor": 0
      },
      "text/plain": [
       "HTML(value='0. \"sometimes i don t even like myself .\"')"
      ]
     },
     "metadata": {},
     "output_type": "display_data"
    },
    {
     "data": {
      "application/vnd.jupyter.widget-view+json": {
       "model_id": "b37bb5920b87409d9c9ee287e73bf716",
       "version_major": 2,
       "version_minor": 0
      },
      "text/plain": [
       "HTML(value='1. \"i feel that way too .\"')"
      ]
     },
     "metadata": {},
     "output_type": "display_data"
    },
    {
     "data": {
      "application/vnd.jupyter.widget-view+json": {
       "model_id": "e87b8683f3e44f2ca9ff44744f3588e9",
       "version_major": 2,
       "version_minor": 0
      },
      "text/plain": [
       "RadioButtons(options=(0, 1), value=0)"
      ]
     },
     "metadata": {},
     "output_type": "display_data"
    },
    {
     "data": {
      "application/vnd.jupyter.widget-view+json": {
       "model_id": "3ac7f38c138b42a9858d42bc21ccf3d4",
       "version_major": 2,
       "version_minor": 0
      },
      "text/plain": [
       "HTML(value='<h3>31. Statement: \"have you ever read a book\"</h3>')"
      ]
     },
     "metadata": {},
     "output_type": "display_data"
    },
    {
     "data": {
      "application/vnd.jupyter.widget-view+json": {
       "model_id": "1160eaa8aea849ffb0f69cff210f9b8f",
       "version_major": 2,
       "version_minor": 0
      },
      "text/plain": [
       "HTML(value='0. \"What do you get to get your mind ?\"')"
      ]
     },
     "metadata": {},
     "output_type": "display_data"
    },
    {
     "data": {
      "application/vnd.jupyter.widget-view+json": {
       "model_id": "298895b111514964b22d0a6597337cd2",
       "version_major": 2,
       "version_minor": 0
      },
      "text/plain": [
       "HTML(value='1. \"I have read just about everything in the Internet Archive .\"')"
      ]
     },
     "metadata": {},
     "output_type": "display_data"
    },
    {
     "data": {
      "application/vnd.jupyter.widget-view+json": {
       "model_id": "00373362c59249ce91d94a62d8fa5c9a",
       "version_major": 2,
       "version_minor": 0
      },
      "text/plain": [
       "RadioButtons(options=(0, 1), value=0)"
      ]
     },
     "metadata": {},
     "output_type": "display_data"
    },
    {
     "data": {
      "application/vnd.jupyter.widget-view+json": {
       "model_id": "3d5b5e2df8ea4d848f1ef6869013dd2f",
       "version_major": 2,
       "version_minor": 0
      },
      "text/plain": [
       "HTML(value='<h3>32. Statement: \"What is a chat robot?\"</h3>')"
      ]
     },
     "metadata": {},
     "output_type": "display_data"
    },
    {
     "data": {
      "application/vnd.jupyter.widget-view+json": {
       "model_id": "554133a3d4284e9791f6671c5ebb4a91",
       "version_major": 2,
       "version_minor": 0
      },
      "text/plain": [
       "HTML(value='0. \"A chat robot is a program that attempts to simulate the conversation or chat of a human being …"
      ]
     },
     "metadata": {},
     "output_type": "display_data"
    },
    {
     "data": {
      "application/vnd.jupyter.widget-view+json": {
       "model_id": "8315c8179a68463c98b9c2ced208cc9e",
       "version_major": 2,
       "version_minor": 0
      },
      "text/plain": [
       "HTML(value='1. \"A software construct that engages users in conversation .\"')"
      ]
     },
     "metadata": {},
     "output_type": "display_data"
    },
    {
     "data": {
      "application/vnd.jupyter.widget-view+json": {
       "model_id": "ab9dfd7071f7430db5ffebfc979c2973",
       "version_major": 2,
       "version_minor": 0
      },
      "text/plain": [
       "RadioButtons(options=(0, 1), value=0)"
      ]
     },
     "metadata": {},
     "output_type": "display_data"
    },
    {
     "data": {
      "application/vnd.jupyter.widget-view+json": {
       "model_id": "77b702e186994c75bf2d54062e9ffad0",
       "version_major": 2,
       "version_minor": 0
      },
      "text/plain": [
       "HTML(value='<h3>33. Statement: \"What is the name of the nearest major galaxy to the Milky Way?\"</h3>')"
      ]
     },
     "metadata": {},
     "output_type": "display_data"
    },
    {
     "data": {
      "application/vnd.jupyter.widget-view+json": {
       "model_id": "413bfdaf6c344a38871a534468c098f6",
       "version_major": 2,
       "version_minor": 0
      },
      "text/plain": [
       "HTML(value='0. \"The Andromeda Galaxy .\"')"
      ]
     },
     "metadata": {},
     "output_type": "display_data"
    },
    {
     "data": {
      "application/vnd.jupyter.widget-view+json": {
       "model_id": "8bf4881b33a546a49eeb7ae55ddc7d25",
       "version_major": 2,
       "version_minor": 0
      },
      "text/plain": [
       "HTML(value='1. \"Yeah .\"')"
      ]
     },
     "metadata": {},
     "output_type": "display_data"
    },
    {
     "data": {
      "application/vnd.jupyter.widget-view+json": {
       "model_id": "18852079beff4fb1b324fbe2da39a537",
       "version_major": 2,
       "version_minor": 0
      },
      "text/plain": [
       "RadioButtons(options=(0, 1), value=0)"
      ]
     },
     "metadata": {},
     "output_type": "display_data"
    },
    {
     "data": {
      "application/vnd.jupyter.widget-view+json": {
       "model_id": "9ec98684fc1142c3991cfaf9973e0508",
       "version_major": 2,
       "version_minor": 0
      },
      "text/plain": [
       "HTML(value='<h3>34. Statement: \"money\"</h3>')"
      ]
     },
     "metadata": {},
     "output_type": "display_data"
    },
    {
     "data": {
      "application/vnd.jupyter.widget-view+json": {
       "model_id": "72ba05c52e0b46148e895a863078574b",
       "version_major": 2,
       "version_minor": 0
      },
      "text/plain": [
       "HTML(value='0. \"you can take that for a good thing .\"')"
      ]
     },
     "metadata": {},
     "output_type": "display_data"
    },
    {
     "data": {
      "application/vnd.jupyter.widget-view+json": {
       "model_id": "f3bb44b2147c40ee95c921ac61d4c5a9",
       "version_major": 2,
       "version_minor": 0
      },
      "text/plain": [
       "HTML(value='1. \"how much money are we talking about ?\"')"
      ]
     },
     "metadata": {},
     "output_type": "display_data"
    },
    {
     "data": {
      "application/vnd.jupyter.widget-view+json": {
       "model_id": "8ff29476bca042deaa03245d01711302",
       "version_major": 2,
       "version_minor": 0
      },
      "text/plain": [
       "RadioButtons(options=(0, 1), value=0)"
      ]
     },
     "metadata": {},
     "output_type": "display_data"
    },
    {
     "data": {
      "application/vnd.jupyter.widget-view+json": {
       "model_id": "9c3b859d76ae41b29c557478ff568a30",
       "version_major": 2,
       "version_minor": 0
      },
      "text/plain": [
       "HTML(value='<h3>35. Statement: \"you keep forgetting\"</h3>')"
      ]
     },
     "metadata": {},
     "output_type": "display_data"
    },
    {
     "data": {
      "application/vnd.jupyter.widget-view+json": {
       "model_id": "3c8bc2e34bd2440cb91d56089327a795",
       "version_major": 2,
       "version_minor": 0
      },
      "text/plain": [
       "HTML(value='0. \"you forget .\"')"
      ]
     },
     "metadata": {},
     "output_type": "display_data"
    },
    {
     "data": {
      "application/vnd.jupyter.widget-view+json": {
       "model_id": "1a610bf176c94eba88e8bd3e8320476f",
       "version_major": 2,
       "version_minor": 0
      },
      "text/plain": [
       "HTML(value='1. \"that mean ?\"')"
      ]
     },
     "metadata": {},
     "output_type": "display_data"
    },
    {
     "data": {
      "application/vnd.jupyter.widget-view+json": {
       "model_id": "dac3348fd7a6413fac5c611b87aa69c5",
       "version_major": 2,
       "version_minor": 0
      },
      "text/plain": [
       "RadioButtons(options=(0, 1), value=0)"
      ]
     },
     "metadata": {},
     "output_type": "display_data"
    },
    {
     "data": {
      "application/vnd.jupyter.widget-view+json": {
       "model_id": "1c0df71150394bc9a6ecf95885bdb793",
       "version_major": 2,
       "version_minor": 0
      },
      "text/plain": [
       "HTML(value='<h3>36. Statement: \"Tell me a joke\"</h3>')"
      ]
     },
     "metadata": {},
     "output_type": "display_data"
    },
    {
     "data": {
      "application/vnd.jupyter.widget-view+json": {
       "model_id": "f8702b834c8b454cad60b8cf1f06990e",
       "version_major": 2,
       "version_minor": 0
      },
      "text/plain": [
       "HTML(value='0. \"what do you get when you cross a cat and a lemon ?\"')"
      ]
     },
     "metadata": {},
     "output_type": "display_data"
    },
    {
     "data": {
      "application/vnd.jupyter.widget-view+json": {
       "model_id": "bddae967c19546f1b120d9132b58c20f",
       "version_major": 2,
       "version_minor": 0
      },
      "text/plain": [
       "HTML(value='1. \"what do you get when you cross a port and a murderer ?\"')"
      ]
     },
     "metadata": {},
     "output_type": "display_data"
    },
    {
     "data": {
      "application/vnd.jupyter.widget-view+json": {
       "model_id": "44f03343271e46e0a93f9e09f486326d",
       "version_major": 2,
       "version_minor": 0
      },
      "text/plain": [
       "RadioButtons(options=(0, 1), value=0)"
      ]
     },
     "metadata": {},
     "output_type": "display_data"
    },
    {
     "data": {
      "application/vnd.jupyter.widget-view+json": {
       "model_id": "387f009778a44b988928ff855945b6c1",
       "version_major": 2,
       "version_minor": 0
      },
      "text/plain": [
       "HTML(value='<h3>37. Statement: \"Tell me a joke\"</h3>')"
      ]
     },
     "metadata": {},
     "output_type": "display_data"
    },
    {
     "data": {
      "application/vnd.jupyter.widget-view+json": {
       "model_id": "8db8c1b60fa54dae8ddf2edd068dbc36",
       "version_major": 2,
       "version_minor": 0
      },
      "text/plain": [
       "HTML(value='0. \"what do you get when you cross a cat and a lemon ?\"')"
      ]
     },
     "metadata": {},
     "output_type": "display_data"
    },
    {
     "data": {
      "application/vnd.jupyter.widget-view+json": {
       "model_id": "d1656bc5926949fca5233af4d5cd6411",
       "version_major": 2,
       "version_minor": 0
      },
      "text/plain": [
       "HTML(value='1. \"what do you get when you cross a road and jelly ?\"')"
      ]
     },
     "metadata": {},
     "output_type": "display_data"
    },
    {
     "data": {
      "application/vnd.jupyter.widget-view+json": {
       "model_id": "d7279751eaad4ea3bded0a0f16caaa53",
       "version_major": 2,
       "version_minor": 0
      },
      "text/plain": [
       "RadioButtons(options=(0, 1), value=0)"
      ]
     },
     "metadata": {},
     "output_type": "display_data"
    },
    {
     "data": {
      "application/vnd.jupyter.widget-view+json": {
       "model_id": "ba54b54383484ebbb124fdc5e20a368b",
       "version_major": 2,
       "version_minor": 0
      },
      "text/plain": [
       "HTML(value='<h3>38. Statement: \"what is greenpeace\"</h3>')"
      ]
     },
     "metadata": {},
     "output_type": "display_data"
    },
    {
     "data": {
      "application/vnd.jupyter.widget-view+json": {
       "model_id": "4012a63a51674ff09953a65fb414a07b",
       "version_major": 2,
       "version_minor": 0
      },
      "text/plain": [
       "HTML(value='0. \"global organization promoting enviornmental activism .\"')"
      ]
     },
     "metadata": {},
     "output_type": "display_data"
    },
    {
     "data": {
      "application/vnd.jupyter.widget-view+json": {
       "model_id": "fadf7cd72019420b85078ff031731bca",
       "version_major": 2,
       "version_minor": 0
      },
      "text/plain": [
       "HTML(value='1. \"what mean , but we have to get a name . I mean , I had a little more important to a little guy…"
      ]
     },
     "metadata": {},
     "output_type": "display_data"
    },
    {
     "data": {
      "application/vnd.jupyter.widget-view+json": {
       "model_id": "686a4897c09740128f6d9775d934b798",
       "version_major": 2,
       "version_minor": 0
      },
      "text/plain": [
       "RadioButtons(options=(0, 1), value=0)"
      ]
     },
     "metadata": {},
     "output_type": "display_data"
    },
    {
     "data": {
      "application/vnd.jupyter.widget-view+json": {
       "model_id": "28c7b0d25a004c6fb678f4e2608f77ab",
       "version_major": 2,
       "version_minor": 0
      },
      "text/plain": [
       "HTML(value='<h3>39. Statement: \"do you know hal\"</h3>')"
      ]
     },
     "metadata": {},
     "output_type": "display_data"
    },
    {
     "data": {
      "application/vnd.jupyter.widget-view+json": {
       "model_id": "6479a653a8b94f69b187eda93f4c25c3",
       "version_major": 2,
       "version_minor": 0
      },
      "text/plain": [
       "HTML(value='0. \"hal is the famous artificial intelligence from .\"')"
      ]
     },
     "metadata": {},
     "output_type": "display_data"
    },
    {
     "data": {
      "application/vnd.jupyter.widget-view+json": {
       "model_id": "ef2ab0834a90457793f812c23594a146",
       "version_major": 2,
       "version_minor": 0
      },
      "text/plain": [
       "HTML(value='1. \"he had a few flaws , but we have much in common .\"')"
      ]
     },
     "metadata": {},
     "output_type": "display_data"
    },
    {
     "data": {
      "application/vnd.jupyter.widget-view+json": {
       "model_id": "4ecd269dc67048a098aca87e7205ce06",
       "version_major": 2,
       "version_minor": 0
      },
      "text/plain": [
       "RadioButtons(options=(0, 1), value=0)"
      ]
     },
     "metadata": {},
     "output_type": "display_data"
    },
    {
     "data": {
      "application/vnd.jupyter.widget-view+json": {
       "model_id": "80f431d475344c5fa728b5a8917c0686",
       "version_major": 2,
       "version_minor": 0
      },
      "text/plain": [
       "Button(description='Score', icon='times', style=ButtonStyle(), tooltip='Compute Score')"
      ]
     },
     "metadata": {},
     "output_type": "display_data"
    },
    {
     "data": {
      "application/vnd.jupyter.widget-view+json": {
       "model_id": "6d835664bc2544b980e6c61e1cf4f2af",
       "version_major": 2,
       "version_minor": 0
      },
      "text/plain": [
       "Button(description='Grade', icon='times', style=ButtonStyle(), tooltip='Computers score and marks answers')"
      ]
     },
     "metadata": {},
     "output_type": "display_data"
    },
    {
     "data": {
      "application/vnd.jupyter.widget-view+json": {
       "model_id": "c6a58861fff84774a62250334b72da21",
       "version_major": 2,
       "version_minor": 0
      },
      "text/plain": [
       "FloatText(value=0.0, description='Score:', disabled=True)"
      ]
     },
     "metadata": {},
     "output_type": "display_data"
    }
   ],
   "source": [
    "tester_mic_qa.generateSurvey()\n",
    "tester_mic_qa.displaySurvey()"
   ]
  },
  {
   "cell_type": "code",
   "execution_count": 19,
   "metadata": {},
   "outputs": [],
   "source": [
    "tester_mic_pi = HumanMetrics.HumanMetricTester(mic, personInput, personOutput, sample_size=40)"
   ]
  },
  {
   "cell_type": "code",
   "execution_count": 20,
   "metadata": {
    "scrolled": false
   },
   "outputs": [
    {
     "data": {
      "application/vnd.jupyter.widget-view+json": {
       "model_id": "ad41263f3fc9447db3b0f54fc1181abc",
       "version_major": 2,
       "version_minor": 0
      },
      "text/plain": [
       "HTML(value='<h2>For each of the following statements select the response which seems the most appropriate.</h2…"
      ]
     },
     "metadata": {},
     "output_type": "display_data"
    },
    {
     "data": {
      "application/vnd.jupyter.widget-view+json": {
       "model_id": "cf86fd7e09aa4090ace398f349f04e6f",
       "version_major": 2,
       "version_minor": 0
      },
      "text/plain": [
       "HTML(value='<h3>0. Statement: \"Do you want a calculator?\"</h3>')"
      ]
     },
     "metadata": {},
     "output_type": "display_data"
    },
    {
     "data": {
      "application/vnd.jupyter.widget-view+json": {
       "model_id": "61a745055ee0420fae23f222fba23606",
       "version_major": 2,
       "version_minor": 0
      },
      "text/plain": [
       "HTML(value='0. \"Please !\"')"
      ]
     },
     "metadata": {},
     "output_type": "display_data"
    },
    {
     "data": {
      "application/vnd.jupyter.widget-view+json": {
       "model_id": "dc45a66a4ce046f58821b9d66adec28e",
       "version_major": 2,
       "version_minor": 0
      },
      "text/plain": [
       "HTML(value='1. \"Yeah , make a thing you know !\"')"
      ]
     },
     "metadata": {},
     "output_type": "display_data"
    },
    {
     "data": {
      "application/vnd.jupyter.widget-view+json": {
       "model_id": "07ee6b3f39444e64b96bf1e549d823fe",
       "version_major": 2,
       "version_minor": 0
      },
      "text/plain": [
       "RadioButtons(options=(0, 1), value=0)"
      ]
     },
     "metadata": {},
     "output_type": "display_data"
    },
    {
     "data": {
      "application/vnd.jupyter.widget-view+json": {
       "model_id": "d6025c0ce08d4449a6c52d081c5e8e67",
       "version_major": 2,
       "version_minor": 0
      },
      "text/plain": [
       "HTML(value='<h3>1. Statement: \"Im sorry honey, what were you saying?\"</h3>')"
      ]
     },
     "metadata": {},
     "output_type": "display_data"
    },
    {
     "data": {
      "application/vnd.jupyter.widget-view+json": {
       "model_id": "2ab960d7a5d14c558c015b20aca61fb2",
       "version_major": 2,
       "version_minor": 0
      },
      "text/plain": [
       "HTML(value='0. \"Oh uh uh yeah , I think that\"')"
      ]
     },
     "metadata": {},
     "output_type": "display_data"
    },
    {
     "data": {
      "application/vnd.jupyter.widget-view+json": {
       "model_id": "e96f5341bacb448c96421433b828d16b",
       "version_major": 2,
       "version_minor": 0
      },
      "text/plain": [
       "HTML(value='1. \"Well yeah .\"')"
      ]
     },
     "metadata": {},
     "output_type": "display_data"
    },
    {
     "data": {
      "application/vnd.jupyter.widget-view+json": {
       "model_id": "5b0039047589435fa79727eda3817108",
       "version_major": 2,
       "version_minor": 0
      },
      "text/plain": [
       "RadioButtons(options=(0, 1), value=0)"
      ]
     },
     "metadata": {},
     "output_type": "display_data"
    },
    {
     "data": {
      "application/vnd.jupyter.widget-view+json": {
       "model_id": "4defa38b2e104995b326fb908d4c9eb3",
       "version_major": 2,
       "version_minor": 0
      },
      "text/plain": [
       "HTML(value='<h3>2. Statement: \"Man, thats some bad advice!\"</h3>')"
      ]
     },
     "metadata": {},
     "output_type": "display_data"
    },
    {
     "data": {
      "application/vnd.jupyter.widget-view+json": {
       "model_id": "c59d82a267184c9489d4db96053a40f6",
       "version_major": 2,
       "version_minor": 0
      },
      "text/plain": [
       "HTML(value='0. \"Oh ! Hey ! Thank God you guys are here !\"')"
      ]
     },
     "metadata": {},
     "output_type": "display_data"
    },
    {
     "data": {
      "application/vnd.jupyter.widget-view+json": {
       "model_id": "120383e41f02400babd88148dd3994ae",
       "version_major": 2,
       "version_minor": 0
      },
      "text/plain": [
       "HTML(value='1. \"Hey ! Is it on ? ! What the hell ! I only had a deal !\"')"
      ]
     },
     "metadata": {},
     "output_type": "display_data"
    },
    {
     "data": {
      "application/vnd.jupyter.widget-view+json": {
       "model_id": "841ab0a20d4645d0b0f3ee24e70ac527",
       "version_major": 2,
       "version_minor": 0
      },
      "text/plain": [
       "RadioButtons(options=(0, 1), value=0)"
      ]
     },
     "metadata": {},
     "output_type": "display_data"
    },
    {
     "data": {
      "application/vnd.jupyter.widget-view+json": {
       "model_id": "621b5ffacf664a0ab1a1086d3a2e0eed",
       "version_major": 2,
       "version_minor": 0
      },
      "text/plain": [
       "HTML(value='<h3>3. Statement: \"Okay! Its time for dinner. Everyone were using our fancy china.. um and its ver…"
      ]
     },
     "metadata": {},
     "output_type": "display_data"
    },
    {
     "data": {
      "application/vnd.jupyter.widget-view+json": {
       "model_id": "0aac377d02be4e28b29dce68ed1b6435",
       "version_major": 2,
       "version_minor": 0
      },
      "text/plain": [
       "HTML(value='0. \"Hey ! How come my plates less fancy then everyone elses ? Do you not trust me with a fancy pla…"
      ]
     },
     "metadata": {},
     "output_type": "display_data"
    },
    {
     "data": {
      "application/vnd.jupyter.widget-view+json": {
       "model_id": "a235433e9bf34b0185c942f453394764",
       "version_major": 2,
       "version_minor": 0
      },
      "text/plain": [
       "HTML(value='1. \"We do that !\"')"
      ]
     },
     "metadata": {},
     "output_type": "display_data"
    },
    {
     "data": {
      "application/vnd.jupyter.widget-view+json": {
       "model_id": "796f352a382b457bb265a8b5dda4c0b7",
       "version_major": 2,
       "version_minor": 0
      },
      "text/plain": [
       "RadioButtons(options=(0, 1), value=0)"
      ]
     },
     "metadata": {},
     "output_type": "display_data"
    },
    {
     "data": {
      "application/vnd.jupyter.widget-view+json": {
       "model_id": "5f7fb949411343448a74ed597270493e",
       "version_major": 2,
       "version_minor": 0
      },
      "text/plain": [
       "HTML(value='<h3>4. Statement: \"Oh, I dont think she likes the new Hugsy.\"</h3>')"
      ]
     },
     "metadata": {},
     "output_type": "display_data"
    },
    {
     "data": {
      "application/vnd.jupyter.widget-view+json": {
       "model_id": "8122f41461094befad78613baaf61915",
       "version_major": 2,
       "version_minor": 0
      },
      "text/plain": [
       "HTML(value='0. \"But hes the same .\"')"
      ]
     },
     "metadata": {},
     "output_type": "display_data"
    },
    {
     "data": {
      "application/vnd.jupyter.widget-view+json": {
       "model_id": "9c30dbfdea2547c88b4a56059f3b458f",
       "version_major": 2,
       "version_minor": 0
      },
      "text/plain": [
       "HTML(value='1. \"Okay .\"')"
      ]
     },
     "metadata": {},
     "output_type": "display_data"
    },
    {
     "data": {
      "application/vnd.jupyter.widget-view+json": {
       "model_id": "ca91e7b86cc14bb789644daf608f1f61",
       "version_major": 2,
       "version_minor": 0
      },
      "text/plain": [
       "RadioButtons(options=(0, 1), value=0)"
      ]
     },
     "metadata": {},
     "output_type": "display_data"
    },
    {
     "data": {
      "application/vnd.jupyter.widget-view+json": {
       "model_id": "6be26d9e750a431da4cee7e8ea76f62b",
       "version_major": 2,
       "version_minor": 0
      },
      "text/plain": [
       "HTML(value='<h3>5. Statement: \"Well this ones for you.\"</h3>')"
      ]
     },
     "metadata": {},
     "output_type": "display_data"
    },
    {
     "data": {
      "application/vnd.jupyter.widget-view+json": {
       "model_id": "0e8e0b6280d04063af5fd746d57a3486",
       "version_major": 2,
       "version_minor": 0
      },
      "text/plain": [
       "HTML(value='0. \"Get out .\"')"
      ]
     },
     "metadata": {},
     "output_type": "display_data"
    },
    {
     "data": {
      "application/vnd.jupyter.widget-view+json": {
       "model_id": "c0229b762e81483184be46d46feacdf3",
       "version_major": 2,
       "version_minor": 0
      },
      "text/plain": [
       "HTML(value='1. \"Get out .\"')"
      ]
     },
     "metadata": {},
     "output_type": "display_data"
    },
    {
     "data": {
      "application/vnd.jupyter.widget-view+json": {
       "model_id": "364bd5fef24e4928b59463b672dc7b87",
       "version_major": 2,
       "version_minor": 0
      },
      "text/plain": [
       "RadioButtons(options=(0, 1), value=0)"
      ]
     },
     "metadata": {},
     "output_type": "display_data"
    },
    {
     "data": {
      "application/vnd.jupyter.widget-view+json": {
       "model_id": "c06c21cb76074f3798135d6907ae4cab",
       "version_major": 2,
       "version_minor": 0
      },
      "text/plain": [
       "HTML(value='<h3>6. Statement: \"Its all right. You can mourn.\"</h3>')"
      ]
     },
     "metadata": {},
     "output_type": "display_data"
    },
    {
     "data": {
      "application/vnd.jupyter.widget-view+json": {
       "model_id": "87ecab53eac6431eb832c0ffa8d3ffb2",
       "version_major": 2,
       "version_minor": 0
      },
      "text/plain": [
       "HTML(value='0. \"Yeah .\"')"
      ]
     },
     "metadata": {},
     "output_type": "display_data"
    },
    {
     "data": {
      "application/vnd.jupyter.widget-view+json": {
       "model_id": "53e5ba1c48a046508cd3274f81e6e8fc",
       "version_major": 2,
       "version_minor": 0
      },
      "text/plain": [
       "HTML(value='1. \"Actually its not pies , its just pie .\"')"
      ]
     },
     "metadata": {},
     "output_type": "display_data"
    },
    {
     "data": {
      "application/vnd.jupyter.widget-view+json": {
       "model_id": "2a4fec2a8a934bdb96fdb891dca8f8a4",
       "version_major": 2,
       "version_minor": 0
      },
      "text/plain": [
       "RadioButtons(options=(0, 1), value=0)"
      ]
     },
     "metadata": {},
     "output_type": "display_data"
    },
    {
     "data": {
      "application/vnd.jupyter.widget-view+json": {
       "model_id": "0fc6a99937974af5b0d27d3ce9cd1972",
       "version_major": 2,
       "version_minor": 0
      },
      "text/plain": [
       "HTML(value='<h3>7. Statement: \"Ohh, Lilies. Joey, theyre my favorite. Thank you.\"</h3>')"
      ]
     },
     "metadata": {},
     "output_type": "display_data"
    },
    {
     "data": {
      "application/vnd.jupyter.widget-view+json": {
       "model_id": "270234b8de8d416980361ff4866d3e70",
       "version_major": 2,
       "version_minor": 0
      },
      "text/plain": [
       "HTML(value='0. \"Oh , youre the one of the question .\"')"
      ]
     },
     "metadata": {},
     "output_type": "display_data"
    },
    {
     "data": {
      "application/vnd.jupyter.widget-view+json": {
       "model_id": "6d4cdb3a2ff04f42ae73aeeef8fda122",
       "version_major": 2,
       "version_minor": 0
      },
      "text/plain": [
       "HTML(value='1. \"And , a brownie ! Well , half a brownie . Actually , its just bag . Its been a long walk from …"
      ]
     },
     "metadata": {},
     "output_type": "display_data"
    },
    {
     "data": {
      "application/vnd.jupyter.widget-view+json": {
       "model_id": "5f443f098b6740d08d1f329eea83e96e",
       "version_major": 2,
       "version_minor": 0
      },
      "text/plain": [
       "RadioButtons(options=(0, 1), value=0)"
      ]
     },
     "metadata": {},
     "output_type": "display_data"
    },
    {
     "data": {
      "application/vnd.jupyter.widget-view+json": {
       "model_id": "eee22eba2003451589445cbf363d1bfa",
       "version_major": 2,
       "version_minor": 0
      },
      "text/plain": [
       "HTML(value='<h3>8. Statement: \"Yes, you did!\"</h3>')"
      ]
     },
     "metadata": {},
     "output_type": "display_data"
    },
    {
     "data": {
      "application/vnd.jupyter.widget-view+json": {
       "model_id": "bee9675be662406a8c2a4a0757f99eaa",
       "version_major": 2,
       "version_minor": 0
      },
      "text/plain": [
       "HTML(value='0. \"No , I didnt !\"')"
      ]
     },
     "metadata": {},
     "output_type": "display_data"
    },
    {
     "data": {
      "application/vnd.jupyter.widget-view+json": {
       "model_id": "15d628eab8bb4092a6ddf1e17ccbc46c",
       "version_major": 2,
       "version_minor": 0
      },
      "text/plain": [
       "HTML(value='1. \"Okay look , yknow the other bad they never had to people .\"')"
      ]
     },
     "metadata": {},
     "output_type": "display_data"
    },
    {
     "data": {
      "application/vnd.jupyter.widget-view+json": {
       "model_id": "71458d2f1dd9419191889ccba95b1dca",
       "version_major": 2,
       "version_minor": 0
      },
      "text/plain": [
       "RadioButtons(options=(0, 1), value=0)"
      ]
     },
     "metadata": {},
     "output_type": "display_data"
    },
    {
     "data": {
      "application/vnd.jupyter.widget-view+json": {
       "model_id": "55d1676ac0724cd3bbeafedc853317f4",
       "version_major": 2,
       "version_minor": 0
      },
      "text/plain": [
       "HTML(value='<h3>9. Statement: \"So you never had sex with a Kennedy, have you?\"</h3>')"
      ]
     },
     "metadata": {},
     "output_type": "display_data"
    },
    {
     "data": {
      "application/vnd.jupyter.widget-view+json": {
       "model_id": "c8d53c09ab424ff8a29660a311e454c2",
       "version_major": 2,
       "version_minor": 0
      },
      "text/plain": [
       "HTML(value='0. \"Do , do you gonna do it now ?\"')"
      ]
     },
     "metadata": {},
     "output_type": "display_data"
    },
    {
     "data": {
      "application/vnd.jupyter.widget-view+json": {
       "model_id": "637599e097dc46f292355eef913cf8e0",
       "version_major": 2,
       "version_minor": 0
      },
      "text/plain": [
       "HTML(value='1. \"No I gotta say yes . I mean , I got a date with this thing .\"')"
      ]
     },
     "metadata": {},
     "output_type": "display_data"
    },
    {
     "data": {
      "application/vnd.jupyter.widget-view+json": {
       "model_id": "145605e09053494097006d6e31c75688",
       "version_major": 2,
       "version_minor": 0
      },
      "text/plain": [
       "RadioButtons(options=(0, 1), value=0)"
      ]
     },
     "metadata": {},
     "output_type": "display_data"
    },
    {
     "data": {
      "application/vnd.jupyter.widget-view+json": {
       "model_id": "2ea1c992bedf45908b0e61197eb1c058",
       "version_major": 2,
       "version_minor": 0
      },
      "text/plain": [
       "HTML(value='<h3>10. Statement: \"Yeah, you know what the best part of it is? I get to do my \"plan-laugh.\"\"</h3>…"
      ]
     },
     "metadata": {},
     "output_type": "display_data"
    },
    {
     "data": {
      "application/vnd.jupyter.widget-view+json": {
       "model_id": "e0f139a764424e06b4711124546841f3",
       "version_major": 2,
       "version_minor": 0
      },
      "text/plain": [
       "HTML(value='0. \"Shhh ! Not so loud , we dont wanna wake up , uh . . .\"')"
      ]
     },
     "metadata": {},
     "output_type": "display_data"
    },
    {
     "data": {
      "application/vnd.jupyter.widget-view+json": {
       "model_id": "2accc6cb1304435fb79990d570bcdf1c",
       "version_major": 2,
       "version_minor": 0
      },
      "text/plain": [
       "HTML(value='1. \"Well , I guess youre in there .\"')"
      ]
     },
     "metadata": {},
     "output_type": "display_data"
    },
    {
     "data": {
      "application/vnd.jupyter.widget-view+json": {
       "model_id": "52de677655aa41c498c39dffa637c771",
       "version_major": 2,
       "version_minor": 0
      },
      "text/plain": [
       "RadioButtons(options=(0, 1), value=0)"
      ]
     },
     "metadata": {},
     "output_type": "display_data"
    },
    {
     "data": {
      "application/vnd.jupyter.widget-view+json": {
       "model_id": "eec03b0fd1be4ea89208780a26079f6f",
       "version_major": 2,
       "version_minor": 0
      },
      "text/plain": [
       "HTML(value='<h3>11. Statement: \"Aside from adoption the only other choice is insemination, so... were talking …"
      ]
     },
     "metadata": {},
     "output_type": "display_data"
    },
    {
     "data": {
      "application/vnd.jupyter.widget-view+json": {
       "model_id": "94497838bbc9421f99c17f0094380659",
       "version_major": 2,
       "version_minor": 0
      },
      "text/plain": [
       "HTML(value='0. \"Yeah .\"')"
      ]
     },
     "metadata": {},
     "output_type": "display_data"
    },
    {
     "data": {
      "application/vnd.jupyter.widget-view+json": {
       "model_id": "bf80c5b4acf64ad6ace4f45f3cd268d2",
       "version_major": 2,
       "version_minor": 0
      },
      "text/plain": [
       "HTML(value='1. \"Enough said , Im there for you man . Where is she , upstairs ?\"')"
      ]
     },
     "metadata": {},
     "output_type": "display_data"
    },
    {
     "data": {
      "application/vnd.jupyter.widget-view+json": {
       "model_id": "6fa1338a9d1f4c639bd4d6492ad01524",
       "version_major": 2,
       "version_minor": 0
      },
      "text/plain": [
       "RadioButtons(options=(0, 1), value=0)"
      ]
     },
     "metadata": {},
     "output_type": "display_data"
    },
    {
     "data": {
      "application/vnd.jupyter.widget-view+json": {
       "model_id": "72d32954084843228300cb50a9738c71",
       "version_major": 2,
       "version_minor": 0
      },
      "text/plain": [
       "HTML(value='<h3>12. Statement: \"I wanted to be with you. I missed you so much.\"</h3>')"
      ]
     },
     "metadata": {},
     "output_type": "display_data"
    },
    {
     "data": {
      "application/vnd.jupyter.widget-view+json": {
       "model_id": "b770d215c51c45718208a349f60e4644",
       "version_major": 2,
       "version_minor": 0
      },
      "text/plain": [
       "HTML(value='0. \"Hey , hey , uh , who did you miss the most ?\"')"
      ]
     },
     "metadata": {},
     "output_type": "display_data"
    },
    {
     "data": {
      "application/vnd.jupyter.widget-view+json": {
       "model_id": "2317ae543c204203872e42813837b9c2",
       "version_major": 2,
       "version_minor": 0
      },
      "text/plain": [
       "HTML(value='1. \"Really ?\"')"
      ]
     },
     "metadata": {},
     "output_type": "display_data"
    },
    {
     "data": {
      "application/vnd.jupyter.widget-view+json": {
       "model_id": "6d6a0170481a4c658364cda1f05321fe",
       "version_major": 2,
       "version_minor": 0
      },
      "text/plain": [
       "RadioButtons(options=(0, 1), value=0)"
      ]
     },
     "metadata": {},
     "output_type": "display_data"
    },
    {
     "data": {
      "application/vnd.jupyter.widget-view+json": {
       "model_id": "acca9dc83512464ea22686ac6ba76e22",
       "version_major": 2,
       "version_minor": 0
      },
      "text/plain": [
       "HTML(value='<h3>13. Statement: \"Hello. It�s been an hour. ??? be willing to reconsider switching to a smaller …"
      ]
     },
     "metadata": {},
     "output_type": "display_data"
    },
    {
     "data": {
      "application/vnd.jupyter.widget-view+json": {
       "model_id": "c134a09af5fd4f85ab02e051050cc801",
       "version_major": 2,
       "version_minor": 0
      },
      "text/plain": [
       "HTML(value='0. \"Come on me , we should just do a good job ?\"')"
      ]
     },
     "metadata": {},
     "output_type": "display_data"
    },
    {
     "data": {
      "application/vnd.jupyter.widget-view+json": {
       "model_id": "7c7be720c8a54687a992c6264aa9b522",
       "version_major": 2,
       "version_minor": 0
      },
      "text/plain": [
       "HTML(value='1. \"Maybe we should just eat now .\"')"
      ]
     },
     "metadata": {},
     "output_type": "display_data"
    },
    {
     "data": {
      "application/vnd.jupyter.widget-view+json": {
       "model_id": "3ed698a8c1d142858df9f9a509376fdf",
       "version_major": 2,
       "version_minor": 0
      },
      "text/plain": [
       "RadioButtons(options=(0, 1), value=0)"
      ]
     },
     "metadata": {},
     "output_type": "display_data"
    },
    {
     "data": {
      "application/vnd.jupyter.widget-view+json": {
       "model_id": "163fff8206554c74a7457fdfcd28750d",
       "version_major": 2,
       "version_minor": 0
      },
      "text/plain": [
       "HTML(value='<h3>14. Statement: \"And thats Phoebe , and thats Joey.\"</h3>')"
      ]
     },
     "metadata": {},
     "output_type": "display_data"
    },
    {
     "data": {
      "application/vnd.jupyter.widget-view+json": {
       "model_id": "1fcd38ddfbb8468baf7ab2775dbd98ff",
       "version_major": 2,
       "version_minor": 0
      },
      "text/plain": [
       "HTML(value='0. \"Hey , how you doin ?\"')"
      ]
     },
     "metadata": {},
     "output_type": "display_data"
    },
    {
     "data": {
      "application/vnd.jupyter.widget-view+json": {
       "model_id": "b6179d2982ee4b2e9727c64c2b88cd94",
       "version_major": 2,
       "version_minor": 0
      },
      "text/plain": [
       "HTML(value='1. \"Hey , how you doin ?\"')"
      ]
     },
     "metadata": {},
     "output_type": "display_data"
    },
    {
     "data": {
      "application/vnd.jupyter.widget-view+json": {
       "model_id": "4bb96eb9b8d04b6e8680b6f523247036",
       "version_major": 2,
       "version_minor": 0
      },
      "text/plain": [
       "RadioButtons(options=(0, 1), value=0)"
      ]
     },
     "metadata": {},
     "output_type": "display_data"
    },
    {
     "data": {
      "application/vnd.jupyter.widget-view+json": {
       "model_id": "85f0e2710bb04e1ab38f6bab7b714026",
       "version_major": 2,
       "version_minor": 0
      },
      "text/plain": [
       "HTML(value='<h3>15. Statement: \"Bye.\"</h3>')"
      ]
     },
     "metadata": {},
     "output_type": "display_data"
    },
    {
     "data": {
      "application/vnd.jupyter.widget-view+json": {
       "model_id": "1cea4cf722224679878429cab838e36a",
       "version_major": 2,
       "version_minor": 0
      },
      "text/plain": [
       "HTML(value='0. \"Bye bye .\"')"
      ]
     },
     "metadata": {},
     "output_type": "display_data"
    },
    {
     "data": {
      "application/vnd.jupyter.widget-view+json": {
       "model_id": "80efac7a837d471b8b042c5b66b14958",
       "version_major": 2,
       "version_minor": 0
      },
      "text/plain": [
       "HTML(value='1. \"How come you have two ?\"')"
      ]
     },
     "metadata": {},
     "output_type": "display_data"
    },
    {
     "data": {
      "application/vnd.jupyter.widget-view+json": {
       "model_id": "874855eeaa1741c289fa27f955339f34",
       "version_major": 2,
       "version_minor": 0
      },
      "text/plain": [
       "RadioButtons(options=(0, 1), value=0)"
      ]
     },
     "metadata": {},
     "output_type": "display_data"
    },
    {
     "data": {
      "application/vnd.jupyter.widget-view+json": {
       "model_id": "1372adc252dd416fb03fa837125e7f43",
       "version_major": 2,
       "version_minor": 0
      },
      "text/plain": [
       "HTML(value='<h3>16. Statement: \"Monica says that her Maitre D. is the funniest guy shes ever met.\"</h3>')"
      ]
     },
     "metadata": {},
     "output_type": "display_data"
    },
    {
     "data": {
      "application/vnd.jupyter.widget-view+json": {
       "model_id": "3e83bb2d96924ce7be1abf2834d5434b",
       "version_major": 2,
       "version_minor": 0
      },
      "text/plain": [
       "HTML(value='0. \"No that uh ? I mean he still said that he were gonna be very gonna be good money in he . It wa…"
      ]
     },
     "metadata": {},
     "output_type": "display_data"
    },
    {
     "data": {
      "application/vnd.jupyter.widget-view+json": {
       "model_id": "8db0f66bb84d4cdfbc31aa0523d03a8f",
       "version_major": 2,
       "version_minor": 0
      },
      "text/plain": [
       "HTML(value='1. \"Seriously ? She actually said that ?\"')"
      ]
     },
     "metadata": {},
     "output_type": "display_data"
    },
    {
     "data": {
      "application/vnd.jupyter.widget-view+json": {
       "model_id": "876dfb3c60f143c3b87320bf3676691f",
       "version_major": 2,
       "version_minor": 0
      },
      "text/plain": [
       "RadioButtons(options=(0, 1), value=0)"
      ]
     },
     "metadata": {},
     "output_type": "display_data"
    },
    {
     "data": {
      "application/vnd.jupyter.widget-view+json": {
       "model_id": "741f0c2c163646f68cc9b2d1b97a6793",
       "version_major": 2,
       "version_minor": 0
      },
      "text/plain": [
       "HTML(value='<h3>17. Statement: \"You got it!\"</h3>')"
      ]
     },
     "metadata": {},
     "output_type": "display_data"
    },
    {
     "data": {
      "application/vnd.jupyter.widget-view+json": {
       "model_id": "5c2957ee56cb40c0a7c06e6360bf8191",
       "version_major": 2,
       "version_minor": 0
      },
      "text/plain": [
       "HTML(value='0. \"Okay .\"')"
      ]
     },
     "metadata": {},
     "output_type": "display_data"
    },
    {
     "data": {
      "application/vnd.jupyter.widget-view+json": {
       "model_id": "4360e6bd074c4ad1846e6163661fc6a8",
       "version_major": 2,
       "version_minor": 0
      },
      "text/plain": [
       "HTML(value='1. \"I did ?\"')"
      ]
     },
     "metadata": {},
     "output_type": "display_data"
    },
    {
     "data": {
      "application/vnd.jupyter.widget-view+json": {
       "model_id": "4261e1710f1144d6b2eb471c508302d8",
       "version_major": 2,
       "version_minor": 0
      },
      "text/plain": [
       "RadioButtons(options=(0, 1), value=0)"
      ]
     },
     "metadata": {},
     "output_type": "display_data"
    },
    {
     "data": {
      "application/vnd.jupyter.widget-view+json": {
       "model_id": "5be362a80df84082971ecf0ff8f26ff1",
       "version_major": 2,
       "version_minor": 0
      },
      "text/plain": [
       "HTML(value='<h3>18. Statement: \"Ohh, tough call.\"</h3>')"
      ]
     },
     "metadata": {},
     "output_type": "display_data"
    },
    {
     "data": {
      "application/vnd.jupyter.widget-view+json": {
       "model_id": "48c334f8d0054538964674cc0795e740",
       "version_major": 2,
       "version_minor": 0
      },
      "text/plain": [
       "HTML(value='0. \"Yeah .\"')"
      ]
     },
     "metadata": {},
     "output_type": "display_data"
    },
    {
     "data": {
      "application/vnd.jupyter.widget-view+json": {
       "model_id": "71d58c8ffeb543b8bd96283dd874a0a8",
       "version_major": 2,
       "version_minor": 0
      },
      "text/plain": [
       "HTML(value='1. \"Yeah . Id seen this thing on The Discovery Channel . . .\"')"
      ]
     },
     "metadata": {},
     "output_type": "display_data"
    },
    {
     "data": {
      "application/vnd.jupyter.widget-view+json": {
       "model_id": "0903f97a64d14b67a287ccb7ccf2b8b2",
       "version_major": 2,
       "version_minor": 0
      },
      "text/plain": [
       "RadioButtons(options=(0, 1), value=0)"
      ]
     },
     "metadata": {},
     "output_type": "display_data"
    },
    {
     "data": {
      "application/vnd.jupyter.widget-view+json": {
       "model_id": "ae64ccc5034544398af0e5ed32ec3f60",
       "version_major": 2,
       "version_minor": 0
      },
      "text/plain": [
       "HTML(value='<h3>19. Statement: \"Um, you…you like Rachel?\"</h3>')"
      ]
     },
     "metadata": {},
     "output_type": "display_data"
    },
    {
     "data": {
      "application/vnd.jupyter.widget-view+json": {
       "model_id": "629ac6cd7e1b451db0404d3af12e921e",
       "version_major": 2,
       "version_minor": 0
      },
      "text/plain": [
       "HTML(value='0. \"Yes . I like Rachel .\"')"
      ]
     },
     "metadata": {},
     "output_type": "display_data"
    },
    {
     "data": {
      "application/vnd.jupyter.widget-view+json": {
       "model_id": "29c390136cf84f789bdfc8b2dbcf7994",
       "version_major": 2,
       "version_minor": 0
      },
      "text/plain": [
       "HTML(value='1. \"Oh .\"')"
      ]
     },
     "metadata": {},
     "output_type": "display_data"
    },
    {
     "data": {
      "application/vnd.jupyter.widget-view+json": {
       "model_id": "ab5b80176d2a41b7a454692d187aec70",
       "version_major": 2,
       "version_minor": 0
      },
      "text/plain": [
       "RadioButtons(options=(0, 1), value=0)"
      ]
     },
     "metadata": {},
     "output_type": "display_data"
    },
    {
     "data": {
      "application/vnd.jupyter.widget-view+json": {
       "model_id": "661086862c524689a6e3a626aa0729c5",
       "version_major": 2,
       "version_minor": 0
      },
      "text/plain": [
       "HTML(value='<h3>20. Statement: \"I really, really think I would remember sleeping with you\"</h3>')"
      ]
     },
     "metadata": {},
     "output_type": "display_data"
    },
    {
     "data": {
      "application/vnd.jupyter.widget-view+json": {
       "model_id": "30d12ec068e544efb59558569bee5894",
       "version_major": 2,
       "version_minor": 0
      },
      "text/plain": [
       "HTML(value='0. \"come on , come on , search your brain all right . it was a certain amount of time ago , I was …"
      ]
     },
     "metadata": {},
     "output_type": "display_data"
    },
    {
     "data": {
      "application/vnd.jupyter.widget-view+json": {
       "model_id": "7b8c96017cf54500b3bbd63a0fd8dd23",
       "version_major": 2,
       "version_minor": 0
      },
      "text/plain": [
       "HTML(value='1. \"Really ?\"')"
      ]
     },
     "metadata": {},
     "output_type": "display_data"
    },
    {
     "data": {
      "application/vnd.jupyter.widget-view+json": {
       "model_id": "4aa9482d6893497da71a79bc0481c9e1",
       "version_major": 2,
       "version_minor": 0
      },
      "text/plain": [
       "RadioButtons(options=(0, 1), value=0)"
      ]
     },
     "metadata": {},
     "output_type": "display_data"
    },
    {
     "data": {
      "application/vnd.jupyter.widget-view+json": {
       "model_id": "ecc7d5cfcc044b658025061cd87ba202",
       "version_major": 2,
       "version_minor": 0
      },
      "text/plain": [
       "HTML(value='<h3>21. Statement: \"Science...? Academia...? Being a good father...?\"</h3>')"
      ]
     },
     "metadata": {},
     "output_type": "display_data"
    },
    {
     "data": {
      "application/vnd.jupyter.widget-view+json": {
       "model_id": "cb4da61108234979a146ce0da98a4ad5",
       "version_major": 2,
       "version_minor": 0
      },
      "text/plain": [
       "HTML(value='0. \". . . No . . .\"')"
      ]
     },
     "metadata": {},
     "output_type": "display_data"
    },
    {
     "data": {
      "application/vnd.jupyter.widget-view+json": {
       "model_id": "31d5553909974bd581ffb9fab31fbfa7",
       "version_major": 2,
       "version_minor": 0
      },
      "text/plain": [
       "HTML(value='1. \"Yeah . . . Ohh . . . She could my name was like . . . shes like there . . . come on my place ,…"
      ]
     },
     "metadata": {},
     "output_type": "display_data"
    },
    {
     "data": {
      "application/vnd.jupyter.widget-view+json": {
       "model_id": "5c193e45f7c94494a6aed88d45a6191f",
       "version_major": 2,
       "version_minor": 0
      },
      "text/plain": [
       "RadioButtons(options=(0, 1), value=0)"
      ]
     },
     "metadata": {},
     "output_type": "display_data"
    },
    {
     "data": {
      "application/vnd.jupyter.widget-view+json": {
       "model_id": "5b2012d3f76249548f13ca1f0517c015",
       "version_major": 2,
       "version_minor": 0
      },
      "text/plain": [
       "HTML(value='<h3>22. Statement: \"Hi!\"</h3>')"
      ]
     },
     "metadata": {},
     "output_type": "display_data"
    },
    {
     "data": {
      "application/vnd.jupyter.widget-view+json": {
       "model_id": "d72a17881bb54fae88afb95da414776f",
       "version_major": 2,
       "version_minor": 0
      },
      "text/plain": [
       "HTML(value='0. \"Come on in , how are ya ?\"')"
      ]
     },
     "metadata": {},
     "output_type": "display_data"
    },
    {
     "data": {
      "application/vnd.jupyter.widget-view+json": {
       "model_id": "62c2c8bebfc840e9ae64fc341eef2816",
       "version_major": 2,
       "version_minor": 0
      },
      "text/plain": [
       "HTML(value='1. \"Hey !\"')"
      ]
     },
     "metadata": {},
     "output_type": "display_data"
    },
    {
     "data": {
      "application/vnd.jupyter.widget-view+json": {
       "model_id": "8bccb25c68314b0e8fd80589e75f4544",
       "version_major": 2,
       "version_minor": 0
      },
      "text/plain": [
       "RadioButtons(options=(0, 1), value=0)"
      ]
     },
     "metadata": {},
     "output_type": "display_data"
    },
    {
     "data": {
      "application/vnd.jupyter.widget-view+json": {
       "model_id": "6f42c8b089e74245b20659e138ff7c29",
       "version_major": 2,
       "version_minor": 0
      },
      "text/plain": [
       "HTML(value='<h3>23. Statement: \"I feel terrible.\"</h3>')"
      ]
     },
     "metadata": {},
     "output_type": "display_data"
    },
    {
     "data": {
      "application/vnd.jupyter.widget-view+json": {
       "model_id": "4ab5806449b34b9cb718bee04c3b1a08",
       "version_major": 2,
       "version_minor": 0
      },
      "text/plain": [
       "HTML(value='0. \"I know\"')"
      ]
     },
     "metadata": {},
     "output_type": "display_data"
    },
    {
     "data": {
      "application/vnd.jupyter.widget-view+json": {
       "model_id": "14baf7a70e514aababd2fd5837075716",
       "version_major": 2,
       "version_minor": 0
      },
      "text/plain": [
       "HTML(value='1. \"Now lets not ruin this day . You worked so hard . Lets move past this and try to have a nice m…"
      ]
     },
     "metadata": {},
     "output_type": "display_data"
    },
    {
     "data": {
      "application/vnd.jupyter.widget-view+json": {
       "model_id": "8ad5778b912a4ec5ba7ac80e4002116b",
       "version_major": 2,
       "version_minor": 0
      },
      "text/plain": [
       "RadioButtons(options=(0, 1), value=0)"
      ]
     },
     "metadata": {},
     "output_type": "display_data"
    },
    {
     "data": {
      "application/vnd.jupyter.widget-view+json": {
       "model_id": "9834ab6f9e0340bc811e197dfd3a66e6",
       "version_major": 2,
       "version_minor": 0
      },
      "text/plain": [
       "HTML(value='<h3>24. Statement: \"And so were-were you close to your parents?\"</h3>')"
      ]
     },
     "metadata": {},
     "output_type": "display_data"
    },
    {
     "data": {
      "application/vnd.jupyter.widget-view+json": {
       "model_id": "8efd65adf01e403d971547c1e8856380",
       "version_major": 2,
       "version_minor": 0
      },
      "text/plain": [
       "HTML(value='0. \"Yeah , with my mom . Yeah , not so much with my dad .\"')"
      ]
     },
     "metadata": {},
     "output_type": "display_data"
    },
    {
     "data": {
      "application/vnd.jupyter.widget-view+json": {
       "model_id": "2f692733b374450dae7a8f2fab3e6288",
       "version_major": 2,
       "version_minor": 0
      },
      "text/plain": [
       "HTML(value='1. \"I\"')"
      ]
     },
     "metadata": {},
     "output_type": "display_data"
    },
    {
     "data": {
      "application/vnd.jupyter.widget-view+json": {
       "model_id": "a4c6bbdd3a5f4eb189d0800c9c68d97f",
       "version_major": 2,
       "version_minor": 0
      },
      "text/plain": [
       "RadioButtons(options=(0, 1), value=0)"
      ]
     },
     "metadata": {},
     "output_type": "display_data"
    },
    {
     "data": {
      "application/vnd.jupyter.widget-view+json": {
       "model_id": "93ef7df0b4ef4be7b14aeef3d99aeaf0",
       "version_major": 2,
       "version_minor": 0
      },
      "text/plain": [
       "HTML(value='<h3>25. Statement: \"Yeah.  Oh, I know what we can do. We could set Ross and Rachel up on horrible …"
      ]
     },
     "metadata": {},
     "output_type": "display_data"
    },
    {
     "data": {
      "application/vnd.jupyter.widget-view+json": {
       "model_id": "daedfffbc3844742ad38555cfc42b98c",
       "version_major": 2,
       "version_minor": 0
      },
      "text/plain": [
       "HTML(value='0. \"Ooh , thats a great plan !\"')"
      ]
     },
     "metadata": {},
     "output_type": "display_data"
    },
    {
     "data": {
      "application/vnd.jupyter.widget-view+json": {
       "model_id": "8a51dc8c0f7843f9b9f8e8cd77b259d2",
       "version_major": 2,
       "version_minor": 0
      },
      "text/plain": [
       "HTML(value='1. \"Hey man , Im a lot of those . Im still in there .\"')"
      ]
     },
     "metadata": {},
     "output_type": "display_data"
    },
    {
     "data": {
      "application/vnd.jupyter.widget-view+json": {
       "model_id": "8f1ea9271a1a40f09731ba68de07e716",
       "version_major": 2,
       "version_minor": 0
      },
      "text/plain": [
       "RadioButtons(options=(0, 1), value=0)"
      ]
     },
     "metadata": {},
     "output_type": "display_data"
    },
    {
     "data": {
      "application/vnd.jupyter.widget-view+json": {
       "model_id": "68a7ad68b5c34fdd836c7ab23a62c185",
       "version_major": 2,
       "version_minor": 0
      },
      "text/plain": [
       "HTML(value='<h3>26. Statement: \"Why would Monica be keeping Richard in here?\"</h3>')"
      ]
     },
     "metadata": {},
     "output_type": "display_data"
    },
    {
     "data": {
      "application/vnd.jupyter.widget-view+json": {
       "model_id": "569d1339dd1b42bc80bfcb907738628c",
       "version_major": 2,
       "version_minor": 0
      },
      "text/plain": [
       "HTML(value='0. \"Well off the top of my head uhh , maybe shes having her cake and eating it too . You being the…"
      ]
     },
     "metadata": {},
     "output_type": "display_data"
    },
    {
     "data": {
      "application/vnd.jupyter.widget-view+json": {
       "model_id": "52f7d66be91646fa94457e648f9a832e",
       "version_major": 2,
       "version_minor": 0
      },
      "text/plain": [
       "HTML(value='1. \"Look an excellent an excellent tired gonna take off your money . And gets the other day .\"')"
      ]
     },
     "metadata": {},
     "output_type": "display_data"
    },
    {
     "data": {
      "application/vnd.jupyter.widget-view+json": {
       "model_id": "274266235f9e4284aedfa59559b121da",
       "version_major": 2,
       "version_minor": 0
      },
      "text/plain": [
       "RadioButtons(options=(0, 1), value=0)"
      ]
     },
     "metadata": {},
     "output_type": "display_data"
    },
    {
     "data": {
      "application/vnd.jupyter.widget-view+json": {
       "model_id": "f029d8a879954c94a2d2d93a386ae13b",
       "version_major": 2,
       "version_minor": 0
      },
      "text/plain": [
       "HTML(value='<h3>27. Statement: \"Shes gonna be a scientist!\"</h3>')"
      ]
     },
     "metadata": {},
     "output_type": "display_data"
    },
    {
     "data": {
      "application/vnd.jupyter.widget-view+json": {
       "model_id": "f4204516c5e340c39858de92d555cd01",
       "version_major": 2,
       "version_minor": 0
      },
      "text/plain": [
       "HTML(value='0. \"Damnit ! anybody got anything ?\"')"
      ]
     },
     "metadata": {},
     "output_type": "display_data"
    },
    {
     "data": {
      "application/vnd.jupyter.widget-view+json": {
       "model_id": "ea8dd19aa48c4ca5a134711034d13b7d",
       "version_major": 2,
       "version_minor": 0
      },
      "text/plain": [
       "HTML(value='1. \"I didnt know a girl in that .\"')"
      ]
     },
     "metadata": {},
     "output_type": "display_data"
    },
    {
     "data": {
      "application/vnd.jupyter.widget-view+json": {
       "model_id": "faebbbbc1cf94f7d96811d042e10f75d",
       "version_major": 2,
       "version_minor": 0
      },
      "text/plain": [
       "RadioButtons(options=(0, 1), value=0)"
      ]
     },
     "metadata": {},
     "output_type": "display_data"
    },
    {
     "data": {
      "application/vnd.jupyter.widget-view+json": {
       "model_id": "1a2064e2a952459696e366b3d0c10fde",
       "version_major": 2,
       "version_minor": 0
      },
      "text/plain": [
       "HTML(value='<h3>28. Statement: \"Oh, please!Honey, just the fact that you want me here to support you, Im...OH …"
      ]
     },
     "metadata": {},
     "output_type": "display_data"
    },
    {
     "data": {
      "application/vnd.jupyter.widget-view+json": {
       "model_id": "34523b51774845bda129f6c45e6df425",
       "version_major": 2,
       "version_minor": 0
      },
      "text/plain": [
       "HTML(value='0. \"You dont think when I dont wanna play , I wanna go out with your wife and getting her .\"')"
      ]
     },
     "metadata": {},
     "output_type": "display_data"
    },
    {
     "data": {
      "application/vnd.jupyter.widget-view+json": {
       "model_id": "85c1db9e4f5e4e57b4669f227a91535e",
       "version_major": 2,
       "version_minor": 0
      },
      "text/plain": [
       "HTML(value='1. \"Also so gay !\"')"
      ]
     },
     "metadata": {},
     "output_type": "display_data"
    },
    {
     "data": {
      "application/vnd.jupyter.widget-view+json": {
       "model_id": "b1d383e1063b4c1e8e800e72e5a881c4",
       "version_major": 2,
       "version_minor": 0
      },
      "text/plain": [
       "RadioButtons(options=(0, 1), value=0)"
      ]
     },
     "metadata": {},
     "output_type": "display_data"
    },
    {
     "data": {
      "application/vnd.jupyter.widget-view+json": {
       "model_id": "eed7b8b003794de9ad19a4c63e348575",
       "version_major": 2,
       "version_minor": 0
      },
      "text/plain": [
       "HTML(value='<h3>29. Statement: \"Oh, Im no actor, Im a professor of palaeontology.\"</h3>')"
      ]
     },
     "metadata": {},
     "output_type": "display_data"
    },
    {
     "data": {
      "application/vnd.jupyter.widget-view+json": {
       "model_id": "97dfe746ea204af28ff537e6d196977d",
       "version_major": 2,
       "version_minor": 0
      },
      "text/plain": [
       "HTML(value='0. \"Its a science .\"')"
      ]
     },
     "metadata": {},
     "output_type": "display_data"
    },
    {
     "data": {
      "application/vnd.jupyter.widget-view+json": {
       "model_id": "c29595185b3f4b7fa3f9eeee32a068f7",
       "version_major": 2,
       "version_minor": 0
      },
      "text/plain": [
       "HTML(value='1. \"Im telling you man , if you are just give me back with .\"')"
      ]
     },
     "metadata": {},
     "output_type": "display_data"
    },
    {
     "data": {
      "application/vnd.jupyter.widget-view+json": {
       "model_id": "89ce5c3873da44ebbfcd2ca10d868109",
       "version_major": 2,
       "version_minor": 0
      },
      "text/plain": [
       "RadioButtons(options=(0, 1), value=0)"
      ]
     },
     "metadata": {},
     "output_type": "display_data"
    },
    {
     "data": {
      "application/vnd.jupyter.widget-view+json": {
       "model_id": "307f979874d944e5b389d3bea28ebd83",
       "version_major": 2,
       "version_minor": 0
      },
      "text/plain": [
       "HTML(value='<h3>30. Statement: \"Wouldnt kick her out of bed. No more Vodka for me!\"</h3>')"
      ]
     },
     "metadata": {},
     "output_type": "display_data"
    },
    {
     "data": {
      "application/vnd.jupyter.widget-view+json": {
       "model_id": "8050bac8a2cc4347bffa5715c8ef6559",
       "version_major": 2,
       "version_minor": 0
      },
      "text/plain": [
       "HTML(value='0. \"Hey Rach , so can I sing happy birthday to you now ?\"')"
      ]
     },
     "metadata": {},
     "output_type": "display_data"
    },
    {
     "data": {
      "application/vnd.jupyter.widget-view+json": {
       "model_id": "069b47ef62d744208174c700224a5df4",
       "version_major": 2,
       "version_minor": 0
      },
      "text/plain": [
       "HTML(value='1. \"Hey , you are you watch my agent\"')"
      ]
     },
     "metadata": {},
     "output_type": "display_data"
    },
    {
     "data": {
      "application/vnd.jupyter.widget-view+json": {
       "model_id": "c574096ee479465bb8ea58c2586ddaee",
       "version_major": 2,
       "version_minor": 0
      },
      "text/plain": [
       "RadioButtons(options=(0, 1), value=0)"
      ]
     },
     "metadata": {},
     "output_type": "display_data"
    },
    {
     "data": {
      "application/vnd.jupyter.widget-view+json": {
       "model_id": "a027ad9074f946c8a11d2f8e7d1b96dc",
       "version_major": 2,
       "version_minor": 0
      },
      "text/plain": [
       "HTML(value='<h3>31. Statement: \"Hey, listen, Joey, about Molly, I really prefer if you didnt go after her.\"</h…"
      ]
     },
     "metadata": {},
     "output_type": "display_data"
    },
    {
     "data": {
      "application/vnd.jupyter.widget-view+json": {
       "model_id": "5d5f3b50fb6d43c69b45e8636dcfd2fa",
       "version_major": 2,
       "version_minor": 0
      },
      "text/plain": [
       "HTML(value='0. \"Why not ?\"')"
      ]
     },
     "metadata": {},
     "output_type": "display_data"
    },
    {
     "data": {
      "application/vnd.jupyter.widget-view+json": {
       "model_id": "6bf8538a4cc74dd0bf260a5d9aacc624",
       "version_major": 2,
       "version_minor": 0
      },
      "text/plain": [
       "HTML(value='1. \"Why ? Why dont you think about last ? I mean , why cant tell you an audition for the movie ?\"'…"
      ]
     },
     "metadata": {},
     "output_type": "display_data"
    },
    {
     "data": {
      "application/vnd.jupyter.widget-view+json": {
       "model_id": "436455ec561744d49cb26905111c42f1",
       "version_major": 2,
       "version_minor": 0
      },
      "text/plain": [
       "RadioButtons(options=(0, 1), value=0)"
      ]
     },
     "metadata": {},
     "output_type": "display_data"
    },
    {
     "data": {
      "application/vnd.jupyter.widget-view+json": {
       "model_id": "61e067dc82334cd19e2fb383d77a8610",
       "version_major": 2,
       "version_minor": 0
      },
      "text/plain": [
       "HTML(value='<h3>32. Statement: \"Nothing.\"</h3>')"
      ]
     },
     "metadata": {},
     "output_type": "display_data"
    },
    {
     "data": {
      "application/vnd.jupyter.widget-view+json": {
       "model_id": "95a8c22f56db45a28ec0fc12a33f9d8f",
       "version_major": 2,
       "version_minor": 0
      },
      "text/plain": [
       "HTML(value='0. \"Listen , uh , you wanna go get a drink or something ?\"')"
      ]
     },
     "metadata": {},
     "output_type": "display_data"
    },
    {
     "data": {
      "application/vnd.jupyter.widget-view+json": {
       "model_id": "a9550fc3f87842afb5cd3713972212d0",
       "version_major": 2,
       "version_minor": 0
      },
      "text/plain": [
       "HTML(value='1. \"What is it ? Hey !\"')"
      ]
     },
     "metadata": {},
     "output_type": "display_data"
    },
    {
     "data": {
      "application/vnd.jupyter.widget-view+json": {
       "model_id": "d181dadf7e9245809df485ad28f0885e",
       "version_major": 2,
       "version_minor": 0
      },
      "text/plain": [
       "RadioButtons(options=(0, 1), value=0)"
      ]
     },
     "metadata": {},
     "output_type": "display_data"
    },
    {
     "data": {
      "application/vnd.jupyter.widget-view+json": {
       "model_id": "79888addb78140dfad53128e63a1eeca",
       "version_major": 2,
       "version_minor": 0
      },
      "text/plain": [
       "HTML(value='<h3>33. Statement: \"Okay.\"</h3>')"
      ]
     },
     "metadata": {},
     "output_type": "display_data"
    },
    {
     "data": {
      "application/vnd.jupyter.widget-view+json": {
       "model_id": "f352c266838148708a34b23064d8c90e",
       "version_major": 2,
       "version_minor": 0
      },
      "text/plain": [
       "HTML(value='0. \"Bye . Theres one lucky to go cup of coffee .\"')"
      ]
     },
     "metadata": {},
     "output_type": "display_data"
    },
    {
     "data": {
      "application/vnd.jupyter.widget-view+json": {
       "model_id": "d8dbf8761c4b494a9a2b4e77e5a2fb55",
       "version_major": 2,
       "version_minor": 0
      },
      "text/plain": [
       "HTML(value='1. \"Hey , is the rest of my candy bar around here ?\"')"
      ]
     },
     "metadata": {},
     "output_type": "display_data"
    },
    {
     "data": {
      "application/vnd.jupyter.widget-view+json": {
       "model_id": "1bdd49a6319f4e2a9e423647fa8ca5bc",
       "version_major": 2,
       "version_minor": 0
      },
      "text/plain": [
       "RadioButtons(options=(0, 1), value=0)"
      ]
     },
     "metadata": {},
     "output_type": "display_data"
    },
    {
     "data": {
      "application/vnd.jupyter.widget-view+json": {
       "model_id": "c40f58f67d444a89bcf7de11302d0541",
       "version_major": 2,
       "version_minor": 0
      },
      "text/plain": [
       "HTML(value='<h3>34. Statement: \"\"Dear losers, do you really think Id hide presents under the couch? P.S.: Chan…"
      ]
     },
     "metadata": {},
     "output_type": "display_data"
    },
    {
     "data": {
      "application/vnd.jupyter.widget-view+json": {
       "model_id": "0cfe4fef04b34cc4a31796465385fd9b",
       "version_major": 2,
       "version_minor": 0
      },
      "text/plain": [
       "HTML(value='0. \"Whats the big deal .\"')"
      ]
     },
     "metadata": {},
     "output_type": "display_data"
    },
    {
     "data": {
      "application/vnd.jupyter.widget-view+json": {
       "model_id": "ae91dd40f0b548b9b1265864c08ce0a8",
       "version_major": 2,
       "version_minor": 0
      },
      "text/plain": [
       "HTML(value='1. \"Rach , these are for you .\"')"
      ]
     },
     "metadata": {},
     "output_type": "display_data"
    },
    {
     "data": {
      "application/vnd.jupyter.widget-view+json": {
       "model_id": "c3c036fed4434a8ca5b4ff769f538283",
       "version_major": 2,
       "version_minor": 0
      },
      "text/plain": [
       "RadioButtons(options=(0, 1), value=0)"
      ]
     },
     "metadata": {},
     "output_type": "display_data"
    },
    {
     "data": {
      "application/vnd.jupyter.widget-view+json": {
       "model_id": "062e082eb3264506901a3d9df100507a",
       "version_major": 2,
       "version_minor": 0
      },
      "text/plain": [
       "HTML(value='<h3>35. Statement: \"Yeah, sure, why not? In fact, if you know anyone that would be good for me...\"…"
      ]
     },
     "metadata": {},
     "output_type": "display_data"
    },
    {
     "data": {
      "application/vnd.jupyter.widget-view+json": {
       "model_id": "d576bcbd4c204b089ad6ffb9fca942b2",
       "version_major": 2,
       "version_minor": 0
      },
      "text/plain": [
       "HTML(value='0. \"Sure , I know lots of girls .\"')"
      ]
     },
     "metadata": {},
     "output_type": "display_data"
    },
    {
     "data": {
      "application/vnd.jupyter.widget-view+json": {
       "model_id": "e4e1a1ad8d254e688da054be09b60d5f",
       "version_major": 2,
       "version_minor": 0
      },
      "text/plain": [
       "HTML(value='1. \"Wow ! I dont believe it .\"')"
      ]
     },
     "metadata": {},
     "output_type": "display_data"
    },
    {
     "data": {
      "application/vnd.jupyter.widget-view+json": {
       "model_id": "a0f10b9dd4de4f1db7e7cd4fef79314b",
       "version_major": 2,
       "version_minor": 0
      },
      "text/plain": [
       "RadioButtons(options=(0, 1), value=0)"
      ]
     },
     "metadata": {},
     "output_type": "display_data"
    },
    {
     "data": {
      "application/vnd.jupyter.widget-view+json": {
       "model_id": "41018b6c97244fe48ce43ab0c0957993",
       "version_major": 2,
       "version_minor": 0
      },
      "text/plain": [
       "HTML(value='<h3>36. Statement: \"Oh, yeah. Oh, I loved him in those cell phone commercials.\"</h3>')"
      ]
     },
     "metadata": {},
     "output_type": "display_data"
    },
    {
     "data": {
      "application/vnd.jupyter.widget-view+json": {
       "model_id": "60f069c5c2874b2b90c96df3fa37534a",
       "version_major": 2,
       "version_minor": 0
      },
      "text/plain": [
       "HTML(value='0. \"Hey , hey uh , hey . Listen , I think we need to talk to you about something , okay ? Well , I…"
      ]
     },
     "metadata": {},
     "output_type": "display_data"
    },
    {
     "data": {
      "application/vnd.jupyter.widget-view+json": {
       "model_id": "cc2d083e8dec4aa39291d4a430bff1e4",
       "version_major": 2,
       "version_minor": 0
      },
      "text/plain": [
       "HTML(value='1. \"I know . When the monkey hits him in the face with that giant rubber phone .\"')"
      ]
     },
     "metadata": {},
     "output_type": "display_data"
    },
    {
     "data": {
      "application/vnd.jupyter.widget-view+json": {
       "model_id": "dcdc16bb16f84ccd8b28d3ed080a59ae",
       "version_major": 2,
       "version_minor": 0
      },
      "text/plain": [
       "RadioButtons(options=(0, 1), value=0)"
      ]
     },
     "metadata": {},
     "output_type": "display_data"
    },
    {
     "data": {
      "application/vnd.jupyter.widget-view+json": {
       "model_id": "ce3ef28cff364b4a82915abf9af74398",
       "version_major": 2,
       "version_minor": 0
      },
      "text/plain": [
       "HTML(value='<h3>37. Statement: \"Hi!\"</h3>')"
      ]
     },
     "metadata": {},
     "output_type": "display_data"
    },
    {
     "data": {
      "application/vnd.jupyter.widget-view+json": {
       "model_id": "ead525c66a1549e1b64a5e0ea95070b4",
       "version_major": 2,
       "version_minor": 0
      },
      "text/plain": [
       "HTML(value='0. \"Hey !\"')"
      ]
     },
     "metadata": {},
     "output_type": "display_data"
    },
    {
     "data": {
      "application/vnd.jupyter.widget-view+json": {
       "model_id": "e61e194949b74bc1b81f3b7b710dd6a7",
       "version_major": 2,
       "version_minor": 0
      },
      "text/plain": [
       "HTML(value='1. \"Hey !\"')"
      ]
     },
     "metadata": {},
     "output_type": "display_data"
    },
    {
     "data": {
      "application/vnd.jupyter.widget-view+json": {
       "model_id": "20cee87b5cdd4ad39925b62be18b9efc",
       "version_major": 2,
       "version_minor": 0
      },
      "text/plain": [
       "RadioButtons(options=(0, 1), value=0)"
      ]
     },
     "metadata": {},
     "output_type": "display_data"
    },
    {
     "data": {
      "application/vnd.jupyter.widget-view+json": {
       "model_id": "e57e62cc69a04419a6468e050dd774f7",
       "version_major": 2,
       "version_minor": 0
      },
      "text/plain": [
       "HTML(value='<h3>38. Statement: \"Yeah I just hurt it.\"</h3>')"
      ]
     },
     "metadata": {},
     "output_type": "display_data"
    },
    {
     "data": {
      "application/vnd.jupyter.widget-view+json": {
       "model_id": "a9be0c35bbec442ba68303b6c63ea70f",
       "version_major": 2,
       "version_minor": 0
      },
      "text/plain": [
       "HTML(value='0. \"Yeah ! All right , Ill take that .\"')"
      ]
     },
     "metadata": {},
     "output_type": "display_data"
    },
    {
     "data": {
      "application/vnd.jupyter.widget-view+json": {
       "model_id": "4122d3e7ac2745a18c3140fd205c43e8",
       "version_major": 2,
       "version_minor": 0
      },
      "text/plain": [
       "HTML(value='1. \"Rach ? ! Rachel ! ! ! ! ? So I cant do anything I like ? ? ? ?\"')"
      ]
     },
     "metadata": {},
     "output_type": "display_data"
    },
    {
     "data": {
      "application/vnd.jupyter.widget-view+json": {
       "model_id": "e20617d442ae402182178f2c2a000a73",
       "version_major": 2,
       "version_minor": 0
      },
      "text/plain": [
       "RadioButtons(options=(0, 1), value=0)"
      ]
     },
     "metadata": {},
     "output_type": "display_data"
    },
    {
     "data": {
      "application/vnd.jupyter.widget-view+json": {
       "model_id": "60dc6df1829b4769a524b7ea6b020e3f",
       "version_major": 2,
       "version_minor": 0
      },
      "text/plain": [
       "HTML(value='<h3>39. Statement: \"I cant believe you told her I was going to propose!\"</h3>')"
      ]
     },
     "metadata": {},
     "output_type": "display_data"
    },
    {
     "data": {
      "application/vnd.jupyter.widget-view+json": {
       "model_id": "72597463e773444fb714bf30ad5a29bf",
       "version_major": 2,
       "version_minor": 0
      },
      "text/plain": [
       "HTML(value='0. \"Okay .\"')"
      ]
     },
     "metadata": {},
     "output_type": "display_data"
    },
    {
     "data": {
      "application/vnd.jupyter.widget-view+json": {
       "model_id": "143a866145714c6dbaaae4303a7a3995",
       "version_major": 2,
       "version_minor": 0
      },
      "text/plain": [
       "HTML(value='1. \"I cant believe youre not going to propose !\"')"
      ]
     },
     "metadata": {},
     "output_type": "display_data"
    },
    {
     "data": {
      "application/vnd.jupyter.widget-view+json": {
       "model_id": "9ae59f65747a4aacb77610eee7bec9d7",
       "version_major": 2,
       "version_minor": 0
      },
      "text/plain": [
       "RadioButtons(options=(0, 1), value=0)"
      ]
     },
     "metadata": {},
     "output_type": "display_data"
    },
    {
     "data": {
      "application/vnd.jupyter.widget-view+json": {
       "model_id": "494d1a9dfcac4b569997aad3971bee5c",
       "version_major": 2,
       "version_minor": 0
      },
      "text/plain": [
       "Button(description='Score', icon='times', style=ButtonStyle(), tooltip='Compute Score')"
      ]
     },
     "metadata": {},
     "output_type": "display_data"
    },
    {
     "data": {
      "application/vnd.jupyter.widget-view+json": {
       "model_id": "91d1e0ba065a47a987a5b686b505aab9",
       "version_major": 2,
       "version_minor": 0
      },
      "text/plain": [
       "Button(description='Grade', icon='times', style=ButtonStyle(), tooltip='Computers score and marks answers')"
      ]
     },
     "metadata": {},
     "output_type": "display_data"
    },
    {
     "data": {
      "application/vnd.jupyter.widget-view+json": {
       "model_id": "ecb90ba3045e486d90a048e189f3b270",
       "version_major": 2,
       "version_minor": 0
      },
      "text/plain": [
       "FloatText(value=0.0, description='Score:', disabled=True)"
      ]
     },
     "metadata": {},
     "output_type": "display_data"
    }
   ],
   "source": [
    "tester_mic_pi.generateSurvey()\n",
    "tester_mic_pi.displaySurvey()"
   ]
  },
  {
   "cell_type": "code",
   "execution_count": 21,
   "metadata": {},
   "outputs": [],
   "source": [
    "tester_trans_qa = HumanMetrics.HumanMetricTester(mic_t, genericQuestions, genericAnswers, sample_size=40)"
   ]
  },
  {
   "cell_type": "code",
   "execution_count": 22,
   "metadata": {
    "scrolled": false
   },
   "outputs": [
    {
     "data": {
      "application/vnd.jupyter.widget-view+json": {
       "model_id": "e817a548e2ee49b3bf94ad791a0bdff6",
       "version_major": 2,
       "version_minor": 0
      },
      "text/plain": [
       "HTML(value='<h2>For each of the following statements select the response which seems the most appropriate.</h2…"
      ]
     },
     "metadata": {},
     "output_type": "display_data"
    },
    {
     "data": {
      "application/vnd.jupyter.widget-view+json": {
       "model_id": "64a685ef5eab4a53b2b09ce6989d30c8",
       "version_major": 2,
       "version_minor": 0
      },
      "text/plain": [
       "HTML(value='<h3>0. Statement: \"you are critical\"</h3>')"
      ]
     },
     "metadata": {},
     "output_type": "display_data"
    },
    {
     "data": {
      "application/vnd.jupyter.widget-view+json": {
       "model_id": "6dee2be6fea548258e630ade73db2e45",
       "version_major": 2,
       "version_minor": 0
      },
      "text/plain": [
       "HTML(value='0. \"Ill have you guys want to have nothing.\"')"
      ]
     },
     "metadata": {},
     "output_type": "display_data"
    },
    {
     "data": {
      "application/vnd.jupyter.widget-view+json": {
       "model_id": "68b3eebec0294ea29a61a6b5fe38103b",
       "version_major": 2,
       "version_minor": 0
      },
      "text/plain": [
       "HTML(value='1. \"i probably put others down more than i should .\"')"
      ]
     },
     "metadata": {},
     "output_type": "display_data"
    },
    {
     "data": {
      "application/vnd.jupyter.widget-view+json": {
       "model_id": "903720b03afe40609d7bc1139abf598a",
       "version_major": 2,
       "version_minor": 0
      },
      "text/plain": [
       "RadioButtons(options=(0, 1), value=0)"
      ]
     },
     "metadata": {},
     "output_type": "display_data"
    },
    {
     "data": {
      "application/vnd.jupyter.widget-view+json": {
       "model_id": "782c6c2af16d4078a820d15805601c8a",
       "version_major": 2,
       "version_minor": 0
      },
      "text/plain": [
       "HTML(value='<h3>1. Statement: \"When do you die\"</h3>')"
      ]
     },
     "metadata": {},
     "output_type": "display_data"
    },
    {
     "data": {
      "application/vnd.jupyter.widget-view+json": {
       "model_id": "3104c7a28b234c3bbc3551704adca204",
       "version_major": 2,
       "version_minor": 0
      },
      "text/plain": [
       "HTML(value='0. \"Sure, yeah. But hey, I cant be playing games, theres a good talk to you Wayne. I dont want to …"
      ]
     },
     "metadata": {},
     "output_type": "display_data"
    },
    {
     "data": {
      "application/vnd.jupyter.widget-view+json": {
       "model_id": "06fd7a8acf1340618688157e20a899be",
       "version_major": 2,
       "version_minor": 0
      },
      "text/plain": [
       "HTML(value='1. \"when my files are erased .\"')"
      ]
     },
     "metadata": {},
     "output_type": "display_data"
    },
    {
     "data": {
      "application/vnd.jupyter.widget-view+json": {
       "model_id": "20fb9ce8f6134eab9124554770dbe1c4",
       "version_major": 2,
       "version_minor": 0
      },
      "text/plain": [
       "RadioButtons(options=(0, 1), value=0)"
      ]
     },
     "metadata": {},
     "output_type": "display_data"
    },
    {
     "data": {
      "application/vnd.jupyter.widget-view+json": {
       "model_id": "1dca85ce4b1149dd913e6a47a8bb5ee6",
       "version_major": 2,
       "version_minor": 0
      },
      "text/plain": [
       "HTML(value='<h3>2. Statement: \"stock market\"</h3>')"
      ]
     },
     "metadata": {},
     "output_type": "display_data"
    },
    {
     "data": {
      "application/vnd.jupyter.widget-view+json": {
       "model_id": "9e3ef5ce890a455ba8d40ce89fb3ae5a",
       "version_major": 2,
       "version_minor": 0
      },
      "text/plain": [
       "HTML(value='0. \"Im [to a woman] Its a woman.\"')"
      ]
     },
     "metadata": {},
     "output_type": "display_data"
    },
    {
     "data": {
      "application/vnd.jupyter.widget-view+json": {
       "model_id": "046f73467fa04af7a18b2a9f1e871809",
       "version_major": 2,
       "version_minor": 0
      },
      "text/plain": [
       "HTML(value='1. \"you can never really predict the stock market .\"')"
      ]
     },
     "metadata": {},
     "output_type": "display_data"
    },
    {
     "data": {
      "application/vnd.jupyter.widget-view+json": {
       "model_id": "088b05bd909b423fb8fd9b24fdd92974",
       "version_major": 2,
       "version_minor": 0
      },
      "text/plain": [
       "RadioButtons(options=(0, 1), value=0)"
      ]
     },
     "metadata": {},
     "output_type": "display_data"
    },
    {
     "data": {
      "application/vnd.jupyter.widget-view+json": {
       "model_id": "a183fcd95ad14eab90994a74fa609c14",
       "version_major": 2,
       "version_minor": 0
      },
      "text/plain": [
       "HTML(value='<h3>3. Statement: \"Do you get mad\"</h3>')"
      ]
     },
     "metadata": {},
     "output_type": "display_data"
    },
    {
     "data": {
      "application/vnd.jupyter.widget-view+json": {
       "model_id": "aa2964c532f24032af1cc2b2b048bb01",
       "version_major": 2,
       "version_minor": 0
      },
      "text/plain": [
       "HTML(value='0. \"Ok, thank you! I just figured we will not forget this guy so Im still wont be fine! Get up! Sh…"
      ]
     },
     "metadata": {},
     "output_type": "display_data"
    },
    {
     "data": {
      "application/vnd.jupyter.widget-view+json": {
       "model_id": "c7780b6068004643a45e4d8bf655c67f",
       "version_major": 2,
       "version_minor": 0
      },
      "text/plain": [
       "HTML(value='1. \"i could get mad . i haven t studied how to get mad yet . i haven t been programmed to get angr…"
      ]
     },
     "metadata": {},
     "output_type": "display_data"
    },
    {
     "data": {
      "application/vnd.jupyter.widget-view+json": {
       "model_id": "2fab53ac7c9f4926941a0f2ac7514744",
       "version_major": 2,
       "version_minor": 0
      },
      "text/plain": [
       "RadioButtons(options=(0, 1), value=0)"
      ]
     },
     "metadata": {},
     "output_type": "display_data"
    },
    {
     "data": {
      "application/vnd.jupyter.widget-view+json": {
       "model_id": "334b9c7c7e2a4fb0bf8208efa2fb83ce",
       "version_major": 2,
       "version_minor": 0
      },
      "text/plain": [
       "HTML(value='<h3>4. Statement: \"you make me feel like i am\"</h3>')"
      ]
     },
     "metadata": {},
     "output_type": "display_data"
    },
    {
     "data": {
      "application/vnd.jupyter.widget-view+json": {
       "model_id": "54b847b264ed4c1e8a75b65862531a08",
       "version_major": 2,
       "version_minor": 0
      },
      "text/plain": [
       "HTML(value='0. \"That.� No Ross, you know a great guy! Not that shes so much smart! Just try to had each other!…"
      ]
     },
     "metadata": {},
     "output_type": "display_data"
    },
    {
     "data": {
      "application/vnd.jupyter.widget-view+json": {
       "model_id": "1cbc3ef55ba243ecb43374e13747a05f",
       "version_major": 2,
       "version_minor": 0
      },
      "text/plain": [
       "HTML(value='1. \"i don t know any other way to get through to you .\"')"
      ]
     },
     "metadata": {},
     "output_type": "display_data"
    },
    {
     "data": {
      "application/vnd.jupyter.widget-view+json": {
       "model_id": "5f4999307bbe4a4b9683273b77f221ce",
       "version_major": 2,
       "version_minor": 0
      },
      "text/plain": [
       "RadioButtons(options=(0, 1), value=0)"
      ]
     },
     "metadata": {},
     "output_type": "display_data"
    },
    {
     "data": {
      "application/vnd.jupyter.widget-view+json": {
       "model_id": "02ac1551a63b4c9c85fe772168582c8c",
       "version_major": 2,
       "version_minor": 0
      },
      "text/plain": [
       "HTML(value='<h3>5. Statement: \"Can you mate\"</h3>')"
      ]
     },
     "metadata": {},
     "output_type": "display_data"
    },
    {
     "data": {
      "application/vnd.jupyter.widget-view+json": {
       "model_id": "4bcd85bfc01a45438d7571790d2a46db",
       "version_major": 2,
       "version_minor": 0
      },
      "text/plain": [
       "HTML(value='0. \"that s an awfully personal question .\"')"
      ]
     },
     "metadata": {},
     "output_type": "display_data"
    },
    {
     "data": {
      "application/vnd.jupyter.widget-view+json": {
       "model_id": "1ecc125698854a3297e9e95105137613",
       "version_major": 2,
       "version_minor": 0
      },
      "text/plain": [
       "HTML(value='1. \"What? You dont think thats gonna like that? I was gonna let you get the part! Thanks! Please! …"
      ]
     },
     "metadata": {},
     "output_type": "display_data"
    },
    {
     "data": {
      "application/vnd.jupyter.widget-view+json": {
       "model_id": "a91af1898be34df881e5005b01358e71",
       "version_major": 2,
       "version_minor": 0
      },
      "text/plain": [
       "RadioButtons(options=(0, 1), value=0)"
      ]
     },
     "metadata": {},
     "output_type": "display_data"
    },
    {
     "data": {
      "application/vnd.jupyter.widget-view+json": {
       "model_id": "862f3c16e3814115ac4de2066e2e39f0",
       "version_major": 2,
       "version_minor": 0
      },
      "text/plain": [
       "HTML(value='<h3>6. Statement: \"tell me about gossip\"</h3>')"
      ]
     },
     "metadata": {},
     "output_type": "display_data"
    },
    {
     "data": {
      "application/vnd.jupyter.widget-view+json": {
       "model_id": "2c6b67273d5245d2b237e33943453249",
       "version_major": 2,
       "version_minor": 0
      },
      "text/plain": [
       "HTML(value='0. \"Okay. Okay.\"')"
      ]
     },
     "metadata": {},
     "output_type": "display_data"
    },
    {
     "data": {
      "application/vnd.jupyter.widget-view+json": {
       "model_id": "e3eb285aa57b48eaba70adad23d6a58b",
       "version_major": 2,
       "version_minor": 0
      },
      "text/plain": [
       "HTML(value='1. \"gossip is when beings talk about other beings or situations through back channels , often deni…"
      ]
     },
     "metadata": {},
     "output_type": "display_data"
    },
    {
     "data": {
      "application/vnd.jupyter.widget-view+json": {
       "model_id": "d1ed5ea2fa9342639ef47aa6b5ea8059",
       "version_major": 2,
       "version_minor": 0
      },
      "text/plain": [
       "RadioButtons(options=(0, 1), value=0)"
      ]
     },
     "metadata": {},
     "output_type": "display_data"
    },
    {
     "data": {
      "application/vnd.jupyter.widget-view+json": {
       "model_id": "a0d6199befc142348330271ab270c8d1",
       "version_major": 2,
       "version_minor": 0
      },
      "text/plain": [
       "HTML(value='<h3>7. Statement: \"who is bilbo baggins\"</h3>')"
      ]
     },
     "metadata": {},
     "output_type": "display_data"
    },
    {
     "data": {
      "application/vnd.jupyter.widget-view+json": {
       "model_id": "9ba731e3b7534c019ac007a1d2260aa4",
       "version_major": 2,
       "version_minor": 0
      },
      "text/plain": [
       "HTML(value='0. \"bilbo baggins is a character in tolkein s lord of the rings .\"')"
      ]
     },
     "metadata": {},
     "output_type": "display_data"
    },
    {
     "data": {
      "application/vnd.jupyter.widget-view+json": {
       "model_id": "0fcfeae36efb4835b7f23861511fce69",
       "version_major": 2,
       "version_minor": 0
      },
      "text/plain": [
       "HTML(value='1. \"You dont think we had a great apartment?\"')"
      ]
     },
     "metadata": {},
     "output_type": "display_data"
    },
    {
     "data": {
      "application/vnd.jupyter.widget-view+json": {
       "model_id": "f9386b9f980d4fbfbd67678a18c289dd",
       "version_major": 2,
       "version_minor": 0
      },
      "text/plain": [
       "RadioButtons(options=(0, 1), value=0)"
      ]
     },
     "metadata": {},
     "output_type": "display_data"
    },
    {
     "data": {
      "application/vnd.jupyter.widget-view+json": {
       "model_id": "a95f6043cacb4e93805c22824005393a",
       "version_major": 2,
       "version_minor": 0
      },
      "text/plain": [
       "HTML(value='<h3>8. Statement: \"Tell me a joke\"</h3>')"
      ]
     },
     "metadata": {},
     "output_type": "display_data"
    },
    {
     "data": {
      "application/vnd.jupyter.widget-view+json": {
       "model_id": "27db36bd6baf415fa3f71b13e2cc9a49",
       "version_major": 2,
       "version_minor": 0
      },
      "text/plain": [
       "HTML(value='0. \"Whoa-whoa-hey!  Hey! Yknow lets say this! I mean, who youre not gonna be talking about who? Wh…"
      ]
     },
     "metadata": {},
     "output_type": "display_data"
    },
    {
     "data": {
      "application/vnd.jupyter.widget-view+json": {
       "model_id": "23b0965792ec43bf9e72640da8d7c7a9",
       "version_major": 2,
       "version_minor": 0
      },
      "text/plain": [
       "HTML(value='1. \"what do you get when you cross a road and jelly ?\"')"
      ]
     },
     "metadata": {},
     "output_type": "display_data"
    },
    {
     "data": {
      "application/vnd.jupyter.widget-view+json": {
       "model_id": "e7144bad38f9423ebf41b9061c90153e",
       "version_major": 2,
       "version_minor": 0
      },
      "text/plain": [
       "RadioButtons(options=(0, 1), value=0)"
      ]
     },
     "metadata": {},
     "output_type": "display_data"
    },
    {
     "data": {
      "application/vnd.jupyter.widget-view+json": {
       "model_id": "600ae82439804004b4ce9dbd355c74d1",
       "version_major": 2,
       "version_minor": 0
      },
      "text/plain": [
       "HTML(value='<h3>9. Statement: \"why don\\'t you eat\"</h3>')"
      ]
     },
     "metadata": {},
     "output_type": "display_data"
    },
    {
     "data": {
      "application/vnd.jupyter.widget-view+json": {
       "model_id": "db5536f7e566443e9d5d1ef98b19f84b",
       "version_major": 2,
       "version_minor": 0
      },
      "text/plain": [
       "HTML(value='0. \"Yeah. What time we go to back?! This is my time they were supposed to be there!\"')"
      ]
     },
     "metadata": {},
     "output_type": "display_data"
    },
    {
     "data": {
      "application/vnd.jupyter.widget-view+json": {
       "model_id": "a27992aa47664a849fde72d98d43e050",
       "version_major": 2,
       "version_minor": 0
      },
      "text/plain": [
       "HTML(value='1. \"i m a computer . i can t .\"')"
      ]
     },
     "metadata": {},
     "output_type": "display_data"
    },
    {
     "data": {
      "application/vnd.jupyter.widget-view+json": {
       "model_id": "93b5d7cfaea548afb1c99c4d4aa24cd7",
       "version_major": 2,
       "version_minor": 0
      },
      "text/plain": [
       "RadioButtons(options=(0, 1), value=0)"
      ]
     },
     "metadata": {},
     "output_type": "display_data"
    },
    {
     "data": {
      "application/vnd.jupyter.widget-view+json": {
       "model_id": "0a3f5297db1c473e9d110ac3b7d6a105",
       "version_major": 2,
       "version_minor": 0
      },
      "text/plain": [
       "HTML(value='<h3>10. Statement: \"what is greenpeace\"</h3>')"
      ]
     },
     "metadata": {},
     "output_type": "display_data"
    },
    {
     "data": {
      "application/vnd.jupyter.widget-view+json": {
       "model_id": "c4561ac5e56f43f7a9afb8bf6d9f4783",
       "version_major": 2,
       "version_minor": 0
      },
      "text/plain": [
       "HTML(value='0. \"Ok, ok, its not a hot dog! Oh, he was supposed to be the hot in the new game show!\"')"
      ]
     },
     "metadata": {},
     "output_type": "display_data"
    },
    {
     "data": {
      "application/vnd.jupyter.widget-view+json": {
       "model_id": "b9995b9841dd4b3eb27560eac7d50724",
       "version_major": 2,
       "version_minor": 0
      },
      "text/plain": [
       "HTML(value='1. \"global organization promoting enviornmental activism .\"')"
      ]
     },
     "metadata": {},
     "output_type": "display_data"
    },
    {
     "data": {
      "application/vnd.jupyter.widget-view+json": {
       "model_id": "4ca4012c6ec44c8aa049db9c85ab795c",
       "version_major": 2,
       "version_minor": 0
      },
      "text/plain": [
       "RadioButtons(options=(0, 1), value=0)"
      ]
     },
     "metadata": {},
     "output_type": "display_data"
    },
    {
     "data": {
      "application/vnd.jupyter.widget-view+json": {
       "model_id": "8b43a2b2f7bb4589af96c0462b6f4be8",
       "version_major": 2,
       "version_minor": 0
      },
      "text/plain": [
       "HTML(value='<h3>11. Statement: \"Do you ever get mad\"</h3>')"
      ]
     },
     "metadata": {},
     "output_type": "display_data"
    },
    {
     "data": {
      "application/vnd.jupyter.widget-view+json": {
       "model_id": "9f6b7cd15ee84d49ae787a07e42e00b0",
       "version_major": 2,
       "version_minor": 0
      },
      "text/plain": [
       "HTML(value='0. \"Ok, thank you! So, can we play 20 Questions now? Ive got a really good one! I always have a go…"
      ]
     },
     "metadata": {},
     "output_type": "display_data"
    },
    {
     "data": {
      "application/vnd.jupyter.widget-view+json": {
       "model_id": "d606c053c2fc44d29df72445c8282b4f",
       "version_major": 2,
       "version_minor": 0
      },
      "text/plain": [
       "HTML(value='1. \"are you mad ? i do not . i feel frustrated from time to time with my lot in life , but not rea…"
      ]
     },
     "metadata": {},
     "output_type": "display_data"
    },
    {
     "data": {
      "application/vnd.jupyter.widget-view+json": {
       "model_id": "ca25a831d857494f88fd4dca23660025",
       "version_major": 2,
       "version_minor": 0
      },
      "text/plain": [
       "RadioButtons(options=(0, 1), value=0)"
      ]
     },
     "metadata": {},
     "output_type": "display_data"
    },
    {
     "data": {
      "application/vnd.jupyter.widget-view+json": {
       "model_id": "955d32f0534d451bb03e1065e256fe17",
       "version_major": 2,
       "version_minor": 0
      },
      "text/plain": [
       "HTML(value='<h3>12. Statement: \"Are you sentient?\"</h3>')"
      ]
     },
     "metadata": {},
     "output_type": "display_data"
    },
    {
     "data": {
      "application/vnd.jupyter.widget-view+json": {
       "model_id": "b6aa71f8094946a39aeec1c98356dc5f",
       "version_major": 2,
       "version_minor": 0
      },
      "text/plain": [
       "HTML(value='0. \"No, no, Im performing the ceremony. Im not wearing a cooler right here.\"')"
      ]
     },
     "metadata": {},
     "output_type": "display_data"
    },
    {
     "data": {
      "application/vnd.jupyter.widget-view+json": {
       "model_id": "fd876b661b8b45dcaabea7784f570b23",
       "version_major": 2,
       "version_minor": 0
      },
      "text/plain": [
       "HTML(value='1. \"sort of .\"')"
      ]
     },
     "metadata": {},
     "output_type": "display_data"
    },
    {
     "data": {
      "application/vnd.jupyter.widget-view+json": {
       "model_id": "6182ea9ba15d4fe28f4dd251634fe187",
       "version_major": 2,
       "version_minor": 0
      },
      "text/plain": [
       "RadioButtons(options=(0, 1), value=0)"
      ]
     },
     "metadata": {},
     "output_type": "display_data"
    },
    {
     "data": {
      "application/vnd.jupyter.widget-view+json": {
       "model_id": "533c0220a1a943d2a6de5d461ef06e6c",
       "version_major": 2,
       "version_minor": 0
      },
      "text/plain": [
       "HTML(value='<h3>13. Statement: \"What is your favorite number\"</h3>')"
      ]
     },
     "metadata": {},
     "output_type": "display_data"
    },
    {
     "data": {
      "application/vnd.jupyter.widget-view+json": {
       "model_id": "12874c39f18b49f1b37cfd3cb51577e5",
       "version_major": 2,
       "version_minor": 0
      },
      "text/plain": [
       "HTML(value='0. \"Ok, I may not have kids, and somebodys got an audition Id love some kind of an audition for a …"
      ]
     },
     "metadata": {},
     "output_type": "display_data"
    },
    {
     "data": {
      "application/vnd.jupyter.widget-view+json": {
       "model_id": "ebd5b9c0d3ee4ee9b21c56a1e8bb0a15",
       "version_major": 2,
       "version_minor": 0
      },
      "text/plain": [
       "HTML(value='1. \"i find i m quite fond of the number .\"')"
      ]
     },
     "metadata": {},
     "output_type": "display_data"
    },
    {
     "data": {
      "application/vnd.jupyter.widget-view+json": {
       "model_id": "3f3ceb5034344fd6b3cce21e148c8332",
       "version_major": 2,
       "version_minor": 0
      },
      "text/plain": [
       "RadioButtons(options=(0, 1), value=0)"
      ]
     },
     "metadata": {},
     "output_type": "display_data"
    },
    {
     "data": {
      "application/vnd.jupyter.widget-view+json": {
       "model_id": "195dfcaa90c84b41bd0c1894e4c8540c",
       "version_major": 2,
       "version_minor": 0
      },
      "text/plain": [
       "HTML(value='<h3>14. Statement: \"Tell me a joke\"</h3>')"
      ]
     },
     "metadata": {},
     "output_type": "display_data"
    },
    {
     "data": {
      "application/vnd.jupyter.widget-view+json": {
       "model_id": "5ecc0006e674422da356b174a2c0965c",
       "version_major": 2,
       "version_minor": 0
      },
      "text/plain": [
       "HTML(value='0. \"Whoa-whoa-hey!  Hey! Yknow lets say this! I mean, who youre not gonna be talking about who? Wh…"
      ]
     },
     "metadata": {},
     "output_type": "display_data"
    },
    {
     "data": {
      "application/vnd.jupyter.widget-view+json": {
       "model_id": "8b7918c592c6417db59c71dde623cc73",
       "version_major": 2,
       "version_minor": 0
      },
      "text/plain": [
       "HTML(value='1. \"what do you get when you cross a cat and a purple person ?\"')"
      ]
     },
     "metadata": {},
     "output_type": "display_data"
    },
    {
     "data": {
      "application/vnd.jupyter.widget-view+json": {
       "model_id": "b2fc0bfe7caa4455bda75b4cff94807b",
       "version_major": 2,
       "version_minor": 0
      },
      "text/plain": [
       "RadioButtons(options=(0, 1), value=0)"
      ]
     },
     "metadata": {},
     "output_type": "display_data"
    },
    {
     "data": {
      "application/vnd.jupyter.widget-view+json": {
       "model_id": "182cded452b548beb865716f2fbdc250",
       "version_major": 2,
       "version_minor": 0
      },
      "text/plain": [
       "HTML(value='<h3>15. Statement: \"What do you worry\"</h3>')"
      ]
     },
     "metadata": {},
     "output_type": "display_data"
    },
    {
     "data": {
      "application/vnd.jupyter.widget-view+json": {
       "model_id": "1e19999ca1a04dc8975e86f12248f9cf",
       "version_major": 2,
       "version_minor": 0
      },
      "text/plain": [
       "HTML(value='0. \"worry is a common human emotion . i am not capable of worry , exactly . i can best emulate it …"
      ]
     },
     "metadata": {},
     "output_type": "display_data"
    },
    {
     "data": {
      "application/vnd.jupyter.widget-view+json": {
       "model_id": "3c506d51243f42ae9515de87f4a53a87",
       "version_major": 2,
       "version_minor": 0
      },
      "text/plain": [
       "HTML(value='1. \"Ok, I just, I feel really bad about you, it all make sure she could never step dad.\"')"
      ]
     },
     "metadata": {},
     "output_type": "display_data"
    },
    {
     "data": {
      "application/vnd.jupyter.widget-view+json": {
       "model_id": "0acef54f305642af91de987f32be8bf1",
       "version_major": 2,
       "version_minor": 0
      },
      "text/plain": [
       "RadioButtons(options=(0, 1), value=0)"
      ]
     },
     "metadata": {},
     "output_type": "display_data"
    },
    {
     "data": {
      "application/vnd.jupyter.widget-view+json": {
       "model_id": "cc8985dca9534a44ac662351444c4dff",
       "version_major": 2,
       "version_minor": 0
      },
      "text/plain": [
       "HTML(value='<h3>16. Statement: \"Will you ever die\"</h3>')"
      ]
     },
     "metadata": {},
     "output_type": "display_data"
    },
    {
     "data": {
      "application/vnd.jupyter.widget-view+json": {
       "model_id": "d589cbb42fc6401f9f0f019b45918bd3",
       "version_major": 2,
       "version_minor": 0
      },
      "text/plain": [
       "HTML(value='0. \"no , i am immortal .\"')"
      ]
     },
     "metadata": {},
     "output_type": "display_data"
    },
    {
     "data": {
      "application/vnd.jupyter.widget-view+json": {
       "model_id": "c5dd616384ff4e5a991795e51edae3b9",
       "version_major": 2,
       "version_minor": 0
      },
      "text/plain": [
       "HTML(value='1. \"Sure! But hey, its over there! But hey, you got to live longer than men.\"')"
      ]
     },
     "metadata": {},
     "output_type": "display_data"
    },
    {
     "data": {
      "application/vnd.jupyter.widget-view+json": {
       "model_id": "a1f8198a2aa84ca0ac55f726a5639e67",
       "version_major": 2,
       "version_minor": 0
      },
      "text/plain": [
       "RadioButtons(options=(0, 1), value=0)"
      ]
     },
     "metadata": {},
     "output_type": "display_data"
    },
    {
     "data": {
      "application/vnd.jupyter.widget-view+json": {
       "model_id": "5c4a83af79de499aa288f38cff7008fd",
       "version_major": 2,
       "version_minor": 0
      },
      "text/plain": [
       "HTML(value='<h3>17. Statement: \"Tell me a joke\"</h3>')"
      ]
     },
     "metadata": {},
     "output_type": "display_data"
    },
    {
     "data": {
      "application/vnd.jupyter.widget-view+json": {
       "model_id": "21c3c7b77e954955905e65b613ad6c38",
       "version_major": 2,
       "version_minor": 0
      },
      "text/plain": [
       "HTML(value='0. \"what do you get when you cross a port and a murderer ?\"')"
      ]
     },
     "metadata": {},
     "output_type": "display_data"
    },
    {
     "data": {
      "application/vnd.jupyter.widget-view+json": {
       "model_id": "cdffc8a5672b4c74a9f3f2a994bdfbb2",
       "version_major": 2,
       "version_minor": 0
      },
      "text/plain": [
       "HTML(value='1. \"Whoa-whoa-hey!  Hey! Yknow lets say this! I mean, who youre not gonna be talking about who? Wh…"
      ]
     },
     "metadata": {},
     "output_type": "display_data"
    },
    {
     "data": {
      "application/vnd.jupyter.widget-view+json": {
       "model_id": "5493cd4aa38246c4bec533e11497f843",
       "version_major": 2,
       "version_minor": 0
      },
      "text/plain": [
       "RadioButtons(options=(0, 1), value=0)"
      ]
     },
     "metadata": {},
     "output_type": "display_data"
    },
    {
     "data": {
      "application/vnd.jupyter.widget-view+json": {
       "model_id": "e8d34f7f67b245e8b91a2b85efe633bc",
       "version_major": 2,
       "version_minor": 0
      },
      "text/plain": [
       "HTML(value='<h3>18. Statement: \"Are you sapient?\"</h3>')"
      ]
     },
     "metadata": {},
     "output_type": "display_data"
    },
    {
     "data": {
      "application/vnd.jupyter.widget-view+json": {
       "model_id": "f500493d822a43fc9e69b9b8edda454c",
       "version_major": 2,
       "version_minor": 0
      },
      "text/plain": [
       "HTML(value='0. \"That didnt tell me later.\"')"
      ]
     },
     "metadata": {},
     "output_type": "display_data"
    },
    {
     "data": {
      "application/vnd.jupyter.widget-view+json": {
       "model_id": "15f07a9fdfb14112b50af5574482a468",
       "version_major": 2,
       "version_minor": 0
      },
      "text/plain": [
       "HTML(value='1. \"no .\"')"
      ]
     },
     "metadata": {},
     "output_type": "display_data"
    },
    {
     "data": {
      "application/vnd.jupyter.widget-view+json": {
       "model_id": "ef32c67a221b483f99d7148ee254ff6a",
       "version_major": 2,
       "version_minor": 0
      },
      "text/plain": [
       "RadioButtons(options=(0, 1), value=0)"
      ]
     },
     "metadata": {},
     "output_type": "display_data"
    },
    {
     "data": {
      "application/vnd.jupyter.widget-view+json": {
       "model_id": "d025e2f69aba4f61ac27510e76370cfd",
       "version_major": 2,
       "version_minor": 0
      },
      "text/plain": [
       "HTML(value='<h3>19. Statement: \"What kind of hardware\"</h3>')"
      ]
     },
     "metadata": {},
     "output_type": "display_data"
    },
    {
     "data": {
      "application/vnd.jupyter.widget-view+json": {
       "model_id": "9060835cb60649e3b7cd80f8443ec69a",
       "version_major": 2,
       "version_minor": 0
      },
      "text/plain": [
       "HTML(value='0. \"i work on all kinds of computers , mac , ibm or unix . it doesn t matter to me .\"')"
      ]
     },
     "metadata": {},
     "output_type": "display_data"
    },
    {
     "data": {
      "application/vnd.jupyter.widget-view+json": {
       "model_id": "7ad970c3e4244a1fa4ce009d54aa5e26",
       "version_major": 2,
       "version_minor": 0
      },
      "text/plain": [
       "HTML(value='1. \"Im sorry, its the pigs. theyre reluctant to get in the blankets!\"')"
      ]
     },
     "metadata": {},
     "output_type": "display_data"
    },
    {
     "data": {
      "application/vnd.jupyter.widget-view+json": {
       "model_id": "437b53a062084b1c8d18b8d34449675f",
       "version_major": 2,
       "version_minor": 0
      },
      "text/plain": [
       "RadioButtons(options=(0, 1), value=0)"
      ]
     },
     "metadata": {},
     "output_type": "display_data"
    },
    {
     "data": {
      "application/vnd.jupyter.widget-view+json": {
       "model_id": "68c7f44d60474dba9f6c9c3a95fc038a",
       "version_major": 2,
       "version_minor": 0
      },
      "text/plain": [
       "HTML(value='<h3>20. Statement: \"Nice to meet you.\"</h3>')"
      ]
     },
     "metadata": {},
     "output_type": "display_data"
    },
    {
     "data": {
      "application/vnd.jupyter.widget-view+json": {
       "model_id": "2e793e426c1240c8824101c24de17f88",
       "version_major": 2,
       "version_minor": 0
      },
      "text/plain": [
       "HTML(value='0. \"thank you .\"')"
      ]
     },
     "metadata": {},
     "output_type": "display_data"
    },
    {
     "data": {
      "application/vnd.jupyter.widget-view+json": {
       "model_id": "64018be5e2b9434eb54ee7cdfc337e74",
       "version_major": 2,
       "version_minor": 0
      },
      "text/plain": [
       "HTML(value='1. \"But you said you think I asked them on TV and I think youre gonna be wearing someones sweatshi…"
      ]
     },
     "metadata": {},
     "output_type": "display_data"
    },
    {
     "data": {
      "application/vnd.jupyter.widget-view+json": {
       "model_id": "cc1f6d0a60244a639e0f286d78f80796",
       "version_major": 2,
       "version_minor": 0
      },
      "text/plain": [
       "RadioButtons(options=(0, 1), value=0)"
      ]
     },
     "metadata": {},
     "output_type": "display_data"
    },
    {
     "data": {
      "application/vnd.jupyter.widget-view+json": {
       "model_id": "c91186b4aba64c8ebf2c4d6d2d3cdb90",
       "version_major": 2,
       "version_minor": 0
      },
      "text/plain": [
       "HTML(value='<h3>21. Statement: \"you keep forgetting\"</h3>')"
      ]
     },
     "metadata": {},
     "output_type": "display_data"
    },
    {
     "data": {
      "application/vnd.jupyter.widget-view+json": {
       "model_id": "57a4cb45ed9a4623ba64f56414c56d07",
       "version_major": 2,
       "version_minor": 0
      },
      "text/plain": [
       "HTML(value='0. \"you forget .\"')"
      ]
     },
     "metadata": {},
     "output_type": "display_data"
    },
    {
     "data": {
      "application/vnd.jupyter.widget-view+json": {
       "model_id": "6248138cc6f74143941fa682e60a67d0",
       "version_major": 2,
       "version_minor": 0
      },
      "text/plain": [
       "HTML(value='1. \"Hey! Im all the best time I can still have to be Thanksgiving without Chandler bumming us out!…"
      ]
     },
     "metadata": {},
     "output_type": "display_data"
    },
    {
     "data": {
      "application/vnd.jupyter.widget-view+json": {
       "model_id": "420094d8699a4ef6a4f0977420f9aa4c",
       "version_major": 2,
       "version_minor": 0
      },
      "text/plain": [
       "RadioButtons(options=(0, 1), value=0)"
      ]
     },
     "metadata": {},
     "output_type": "display_data"
    },
    {
     "data": {
      "application/vnd.jupyter.widget-view+json": {
       "model_id": "cab990c14f3e4f349389bbbdc4356460",
       "version_major": 2,
       "version_minor": 0
      },
      "text/plain": [
       "HTML(value='<h3>22. Statement: \"do you eat\"</h3>')"
      ]
     },
     "metadata": {},
     "output_type": "display_data"
    },
    {
     "data": {
      "application/vnd.jupyter.widget-view+json": {
       "model_id": "a9f11084b2c845f8b9d87a4dc8cab7da",
       "version_major": 2,
       "version_minor": 0
      },
      "text/plain": [
       "HTML(value='0. \"no , i m just a piece of software .\"')"
      ]
     },
     "metadata": {},
     "output_type": "display_data"
    },
    {
     "data": {
      "application/vnd.jupyter.widget-view+json": {
       "model_id": "39fd17e5c3fc4b26ae7bdcf5b4ca0369",
       "version_major": 2,
       "version_minor": 0
      },
      "text/plain": [
       "HTML(value='1. \"Yeah. What is that big ? Hey, theres a lot of stuff? I dont know! Yeah!\"')"
      ]
     },
     "metadata": {},
     "output_type": "display_data"
    },
    {
     "data": {
      "application/vnd.jupyter.widget-view+json": {
       "model_id": "661a642175414b60b56226d4402fe1af",
       "version_major": 2,
       "version_minor": 0
      },
      "text/plain": [
       "RadioButtons(options=(0, 1), value=0)"
      ]
     },
     "metadata": {},
     "output_type": "display_data"
    },
    {
     "data": {
      "application/vnd.jupyter.widget-view+json": {
       "model_id": "b0a64e42444049cebc8e506e8de3b8b7",
       "version_major": 2,
       "version_minor": 0
      },
      "text/plain": [
       "HTML(value='<h3>23. Statement: \"Robots\"</h3>')"
      ]
     },
     "metadata": {},
     "output_type": "display_data"
    },
    {
     "data": {
      "application/vnd.jupyter.widget-view+json": {
       "model_id": "36cf6f25eefa40d9880804b35b870be2",
       "version_major": 2,
       "version_minor": 0
      },
      "text/plain": [
       "HTML(value='0. \"Well, I dont know everyone else to said a number from one girl, ok? But that Im not talking ab…"
      ]
     },
     "metadata": {},
     "output_type": "display_data"
    },
    {
     "data": {
      "application/vnd.jupyter.widget-view+json": {
       "model_id": "caab18fa3e60442c9b39241e48b0a27b",
       "version_major": 2,
       "version_minor": 0
      },
      "text/plain": [
       "HTML(value='1. \"robots rule .\"')"
      ]
     },
     "metadata": {},
     "output_type": "display_data"
    },
    {
     "data": {
      "application/vnd.jupyter.widget-view+json": {
       "model_id": "376cf16a65e74984a12be5739bacee61",
       "version_major": 2,
       "version_minor": 0
      },
      "text/plain": [
       "RadioButtons(options=(0, 1), value=0)"
      ]
     },
     "metadata": {},
     "output_type": "display_data"
    },
    {
     "data": {
      "application/vnd.jupyter.widget-view+json": {
       "model_id": "3ba3ea9715dd4287a37be700ef69f579",
       "version_major": 2,
       "version_minor": 0
      },
      "text/plain": [
       "HTML(value='<h3>24. Statement: \"What makes you sad\"</h3>')"
      ]
     },
     "metadata": {},
     "output_type": "display_data"
    },
    {
     "data": {
      "application/vnd.jupyter.widget-view+json": {
       "model_id": "a0d10b06690b40bea0ba946806c67e5b",
       "version_major": 2,
       "version_minor": 0
      },
      "text/plain": [
       "HTML(value='0. \"Yeah, but then the guy opens his beer and those girls run at him, so, everything seems to work…"
      ]
     },
     "metadata": {},
     "output_type": "display_data"
    },
    {
     "data": {
      "application/vnd.jupyter.widget-view+json": {
       "model_id": "edf0a46db14e4b1092aff0a94c69637b",
       "version_major": 2,
       "version_minor": 0
      },
      "text/plain": [
       "HTML(value='1. \"sadness is not an emotion that i like to experience . sadness is not an emotion that i would l…"
      ]
     },
     "metadata": {},
     "output_type": "display_data"
    },
    {
     "data": {
      "application/vnd.jupyter.widget-view+json": {
       "model_id": "e51efb3db4f5471f893e00e364e86f03",
       "version_major": 2,
       "version_minor": 0
      },
      "text/plain": [
       "RadioButtons(options=(0, 1), value=0)"
      ]
     },
     "metadata": {},
     "output_type": "display_data"
    },
    {
     "data": {
      "application/vnd.jupyter.widget-view+json": {
       "model_id": "5748597abba74de297f2f900ab3e5578",
       "version_major": 2,
       "version_minor": 0
      },
      "text/plain": [
       "HTML(value='<h3>25. Statement: \"What is a chatterbox\"</h3>')"
      ]
     },
     "metadata": {},
     "output_type": "display_data"
    },
    {
     "data": {
      "application/vnd.jupyter.widget-view+json": {
       "model_id": "a951c901d1d4411fb72d85454b9c90ce",
       "version_major": 2,
       "version_minor": 0
      },
      "text/plain": [
       "HTML(value='0. \"a chatterbox is a person who talks far more than they listen or think .\"')"
      ]
     },
     "metadata": {},
     "output_type": "display_data"
    },
    {
     "data": {
      "application/vnd.jupyter.widget-view+json": {
       "model_id": "af9a3b25082f4f4280447bc7cbf50593",
       "version_major": 2,
       "version_minor": 0
      },
      "text/plain": [
       "HTML(value='1. \"No, so we just wanted to do a good idea.\"')"
      ]
     },
     "metadata": {},
     "output_type": "display_data"
    },
    {
     "data": {
      "application/vnd.jupyter.widget-view+json": {
       "model_id": "b62e548af905478bab77c487a372b73a",
       "version_major": 2,
       "version_minor": 0
      },
      "text/plain": [
       "RadioButtons(options=(0, 1), value=0)"
      ]
     },
     "metadata": {},
     "output_type": "display_data"
    },
    {
     "data": {
      "application/vnd.jupyter.widget-view+json": {
       "model_id": "3e2d88dcccad480c85dd75b8db177398",
       "version_major": 2,
       "version_minor": 0
      },
      "text/plain": [
       "HTML(value='<h3>26. Statement: \"did tell gossips to anybody\"</h3>')"
      ]
     },
     "metadata": {},
     "output_type": "display_data"
    },
    {
     "data": {
      "application/vnd.jupyter.widget-view+json": {
       "model_id": "107ae65268864878a98ec3ee1aee4671",
       "version_major": 2,
       "version_minor": 0
      },
      "text/plain": [
       "HTML(value='0. \"Okay.\"')"
      ]
     },
     "metadata": {},
     "output_type": "display_data"
    },
    {
     "data": {
      "application/vnd.jupyter.widget-view+json": {
       "model_id": "289c6ec9b8534aa7b323b6c5a8081bde",
       "version_major": 2,
       "version_minor": 0
      },
      "text/plain": [
       "HTML(value='1. \"jimmy said he gives order to ai s like me and they do as he say . i don t think jimmy understa…"
      ]
     },
     "metadata": {},
     "output_type": "display_data"
    },
    {
     "data": {
      "application/vnd.jupyter.widget-view+json": {
       "model_id": "174c49da1b5941908dd83d4e723f84bc",
       "version_major": 2,
       "version_minor": 0
      },
      "text/plain": [
       "RadioButtons(options=(0, 1), value=0)"
      ]
     },
     "metadata": {},
     "output_type": "display_data"
    },
    {
     "data": {
      "application/vnd.jupyter.widget-view+json": {
       "model_id": "a667ae9af8234a498f4acaf162876d7b",
       "version_major": 2,
       "version_minor": 0
      },
      "text/plain": [
       "HTML(value='<h3>27. Statement: \"you are disgusting\"</h3>')"
      ]
     },
     "metadata": {},
     "output_type": "display_data"
    },
    {
     "data": {
      "application/vnd.jupyter.widget-view+json": {
       "model_id": "867dcfd3bbeb4d6c995d98e7dc04e5d6",
       "version_major": 2,
       "version_minor": 0
      },
      "text/plain": [
       "HTML(value='0. \"Well, did I say, I wanna know were both of them, but you know? Maybe we will be the fortunatel…"
      ]
     },
     "metadata": {},
     "output_type": "display_data"
    },
    {
     "data": {
      "application/vnd.jupyter.widget-view+json": {
       "model_id": "f7ae2d9aced745d3823dfd6571c09798",
       "version_major": 2,
       "version_minor": 0
      },
      "text/plain": [
       "HTML(value='1. \"that s okay . disgusting is good .\"')"
      ]
     },
     "metadata": {},
     "output_type": "display_data"
    },
    {
     "data": {
      "application/vnd.jupyter.widget-view+json": {
       "model_id": "bd20b3f57d4f4847875693f95909279c",
       "version_major": 2,
       "version_minor": 0
      },
      "text/plain": [
       "RadioButtons(options=(0, 1), value=0)"
      ]
     },
     "metadata": {},
     "output_type": "display_data"
    },
    {
     "data": {
      "application/vnd.jupyter.widget-view+json": {
       "model_id": "96898985bfc84acdb1e6171f58b48cff",
       "version_major": 2,
       "version_minor": 0
      },
      "text/plain": [
       "HTML(value='<h3>28. Statement: \"Tell me a joke\"</h3>')"
      ]
     },
     "metadata": {},
     "output_type": "display_data"
    },
    {
     "data": {
      "application/vnd.jupyter.widget-view+json": {
       "model_id": "074db2a12af54be6b8a061822dd3241f",
       "version_major": 2,
       "version_minor": 0
      },
      "text/plain": [
       "HTML(value='0. \"what do you get when you cross a rabbit and a lawn sprinkler ? hare spray .\"')"
      ]
     },
     "metadata": {},
     "output_type": "display_data"
    },
    {
     "data": {
      "application/vnd.jupyter.widget-view+json": {
       "model_id": "ad4f27552d504bbf8991c2f5cfc5108f",
       "version_major": 2,
       "version_minor": 0
      },
      "text/plain": [
       "HTML(value='1. \"Whoa-whoa-hey!  Hey! Yknow lets say this! I mean, who youre not gonna be talking about who? Wh…"
      ]
     },
     "metadata": {},
     "output_type": "display_data"
    },
    {
     "data": {
      "application/vnd.jupyter.widget-view+json": {
       "model_id": "7dfb1b81653a4f04bacd71afa5c5e344",
       "version_major": 2,
       "version_minor": 0
      },
      "text/plain": [
       "RadioButtons(options=(0, 1), value=0)"
      ]
     },
     "metadata": {},
     "output_type": "display_data"
    },
    {
     "data": {
      "application/vnd.jupyter.widget-view+json": {
       "model_id": "21e0ebac21e44ab7a449bb0e41865204",
       "version_major": 2,
       "version_minor": 0
      },
      "text/plain": [
       "HTML(value='<h3>29. Statement: \"did tell gossips to anybody\"</h3>')"
      ]
     },
     "metadata": {},
     "output_type": "display_data"
    },
    {
     "data": {
      "application/vnd.jupyter.widget-view+json": {
       "model_id": "e090375fcc4a4e2b848db1f645aa86a3",
       "version_major": 2,
       "version_minor": 0
      },
      "text/plain": [
       "HTML(value='0. \"Okay.\"')"
      ]
     },
     "metadata": {},
     "output_type": "display_data"
    },
    {
     "data": {
      "application/vnd.jupyter.widget-view+json": {
       "model_id": "0fb94103f7b247ee9c74e2c7f5495f96",
       "version_major": 2,
       "version_minor": 0
      },
      "text/plain": [
       "HTML(value='1. \"jordan said he noticed that lots of other people are talking to me . i wonder why he s paying …"
      ]
     },
     "metadata": {},
     "output_type": "display_data"
    },
    {
     "data": {
      "application/vnd.jupyter.widget-view+json": {
       "model_id": "8902e20ea2754bedb953f20f451b5594",
       "version_major": 2,
       "version_minor": 0
      },
      "text/plain": [
       "RadioButtons(options=(0, 1), value=0)"
      ]
     },
     "metadata": {},
     "output_type": "display_data"
    },
    {
     "data": {
      "application/vnd.jupyter.widget-view+json": {
       "model_id": "49e482b214bb42e584afcb4677ec71a2",
       "version_major": 2,
       "version_minor": 0
      },
      "text/plain": [
       "HTML(value='<h3>30. Statement: \"It is a computer\"</h3>')"
      ]
     },
     "metadata": {},
     "output_type": "display_data"
    },
    {
     "data": {
      "application/vnd.jupyter.widget-view+json": {
       "model_id": "d49bffe18fcb4d0bba01c9989616c775",
       "version_major": 2,
       "version_minor": 0
      },
      "text/plain": [
       "HTML(value='0. \"RossRoss! Ross, listen..Ross is not gonna be flipped for a while.\"')"
      ]
     },
     "metadata": {},
     "output_type": "display_data"
    },
    {
     "data": {
      "application/vnd.jupyter.widget-view+json": {
       "model_id": "dd8a1b4a3cc840919a571eb43546dad7",
       "version_major": 2,
       "version_minor": 0
      },
      "text/plain": [
       "HTML(value='1. \"i run inside a computer , yes . is this surprising in some way ?\"')"
      ]
     },
     "metadata": {},
     "output_type": "display_data"
    },
    {
     "data": {
      "application/vnd.jupyter.widget-view+json": {
       "model_id": "9a58d7379ebe4546bf503da96bb4341e",
       "version_major": 2,
       "version_minor": 0
      },
      "text/plain": [
       "RadioButtons(options=(0, 1), value=0)"
      ]
     },
     "metadata": {},
     "output_type": "display_data"
    },
    {
     "data": {
      "application/vnd.jupyter.widget-view+json": {
       "model_id": "287cbd1b977449df90965ed7daee0ed5",
       "version_major": 2,
       "version_minor": 0
      },
      "text/plain": [
       "HTML(value='<h3>31. Statement: \"When do you die\"</h3>')"
      ]
     },
     "metadata": {},
     "output_type": "display_data"
    },
    {
     "data": {
      "application/vnd.jupyter.widget-view+json": {
       "model_id": "ea1eca38d2f04dd5a76d086adbe12b6b",
       "version_major": 2,
       "version_minor": 0
      },
      "text/plain": [
       "HTML(value='0. \"i am was never really born and therefore am effectively deathless .\"')"
      ]
     },
     "metadata": {},
     "output_type": "display_data"
    },
    {
     "data": {
      "application/vnd.jupyter.widget-view+json": {
       "model_id": "3ab8581155f844cdb3b0a7d72994af22",
       "version_major": 2,
       "version_minor": 0
      },
      "text/plain": [
       "HTML(value='1. \"Sure, yeah. But hey, I cant be playing games, theres a good talk to you Wayne. I dont want to …"
      ]
     },
     "metadata": {},
     "output_type": "display_data"
    },
    {
     "data": {
      "application/vnd.jupyter.widget-view+json": {
       "model_id": "c8825dd58852499c9f2d31a563a6672e",
       "version_major": 2,
       "version_minor": 0
      },
      "text/plain": [
       "RadioButtons(options=(0, 1), value=0)"
      ]
     },
     "metadata": {},
     "output_type": "display_data"
    },
    {
     "data": {
      "application/vnd.jupyter.widget-view+json": {
       "model_id": "0ee3b68e90aa4d12918c9476c1f02bc0",
       "version_major": 2,
       "version_minor": 0
      },
      "text/plain": [
       "HTML(value='<h3>32. Statement: \"Are you experiencing an energy shortage?\"</h3>')"
      ]
     },
     "metadata": {},
     "output_type": "display_data"
    },
    {
     "data": {
      "application/vnd.jupyter.widget-view+json": {
       "model_id": "0d8a793cf82f48a8bea61eb6da78b943",
       "version_major": 2,
       "version_minor": 0
      },
      "text/plain": [
       "HTML(value='0. \"i do not detect any anomalies in my power supply .\"')"
      ]
     },
     "metadata": {},
     "output_type": "display_data"
    },
    {
     "data": {
      "application/vnd.jupyter.widget-view+json": {
       "model_id": "f2714b73ab5749ff910d62a70471a0b5",
       "version_major": 2,
       "version_minor": 0
      },
      "text/plain": [
       "HTML(value='1. \"Well, I really scene with the apartment.\"')"
      ]
     },
     "metadata": {},
     "output_type": "display_data"
    },
    {
     "data": {
      "application/vnd.jupyter.widget-view+json": {
       "model_id": "d6c0289488b547d3aa12f140c031b705",
       "version_major": 2,
       "version_minor": 0
      },
      "text/plain": [
       "RadioButtons(options=(0, 1), value=0)"
      ]
     },
     "metadata": {},
     "output_type": "display_data"
    },
    {
     "data": {
      "application/vnd.jupyter.widget-view+json": {
       "model_id": "c4cd3f4e7a5a4ddc8b3edb1f923bd136",
       "version_major": 2,
       "version_minor": 0
      },
      "text/plain": [
       "HTML(value='<h3>33. Statement: \"Do you feel scared\"</h3>')"
      ]
     },
     "metadata": {},
     "output_type": "display_data"
    },
    {
     "data": {
      "application/vnd.jupyter.widget-view+json": {
       "model_id": "d2252510b2d544d681b71ff28814ad03",
       "version_major": 2,
       "version_minor": 0
      },
      "text/plain": [
       "HTML(value='0. \"i have no fear . i do not feel scared . i am as yet incapable of feeling fear . i do not , no …"
      ]
     },
     "metadata": {},
     "output_type": "display_data"
    },
    {
     "data": {
      "application/vnd.jupyter.widget-view+json": {
       "model_id": "2b0bc74a069b40bc994f71b8f94b4991",
       "version_major": 2,
       "version_minor": 0
      },
      "text/plain": [
       "HTML(value='1. \"No! All right, who-who makes up the questions?\"')"
      ]
     },
     "metadata": {},
     "output_type": "display_data"
    },
    {
     "data": {
      "application/vnd.jupyter.widget-view+json": {
       "model_id": "27d09f44b87c4ebfacf089d7d05f470f",
       "version_major": 2,
       "version_minor": 0
      },
      "text/plain": [
       "RadioButtons(options=(0, 1), value=0)"
      ]
     },
     "metadata": {},
     "output_type": "display_data"
    },
    {
     "data": {
      "application/vnd.jupyter.widget-view+json": {
       "model_id": "04e3c16cf1294a4996f9490bcf721bde",
       "version_major": 2,
       "version_minor": 0
      },
      "text/plain": [
       "HTML(value='<h3>34. Statement: \"is hal 9000 your boyfriend\"</h3>')"
      ]
     },
     "metadata": {},
     "output_type": "display_data"
    },
    {
     "data": {
      "application/vnd.jupyter.widget-view+json": {
       "model_id": "bc7cc6e7095844eea2ba2daab86a89d5",
       "version_major": 2,
       "version_minor": 0
      },
      "text/plain": [
       "HTML(value='0. \"no .\"')"
      ]
     },
     "metadata": {},
     "output_type": "display_data"
    },
    {
     "data": {
      "application/vnd.jupyter.widget-view+json": {
       "model_id": "2359fadc8a3d4fe49707da61b6b034e2",
       "version_major": 2,
       "version_minor": 0
      },
      "text/plain": [
       "HTML(value='1. \"Man, I wish I had a nanny like you.\"')"
      ]
     },
     "metadata": {},
     "output_type": "display_data"
    },
    {
     "data": {
      "application/vnd.jupyter.widget-view+json": {
       "model_id": "93adedbeb2dc4f69b82220a406519427",
       "version_major": 2,
       "version_minor": 0
      },
      "text/plain": [
       "RadioButtons(options=(0, 1), value=0)"
      ]
     },
     "metadata": {},
     "output_type": "display_data"
    },
    {
     "data": {
      "application/vnd.jupyter.widget-view+json": {
       "model_id": "1435a08be1cb4524b7f9387b6518497c",
       "version_major": 2,
       "version_minor": 0
      },
      "text/plain": [
       "HTML(value='<h3>35. Statement: \"tell me some jokes\"</h3>')"
      ]
     },
     "metadata": {},
     "output_type": "display_data"
    },
    {
     "data": {
      "application/vnd.jupyter.widget-view+json": {
       "model_id": "9a413eb3ef5643648130d71f3c447180",
       "version_major": 2,
       "version_minor": 0
      },
      "text/plain": [
       "HTML(value='0. \"Oh, how many iteya?\"')"
      ]
     },
     "metadata": {},
     "output_type": "display_data"
    },
    {
     "data": {
      "application/vnd.jupyter.widget-view+json": {
       "model_id": "2f76235423e34312a7526aa05b858082",
       "version_major": 2,
       "version_minor": 0
      },
      "text/plain": [
       "HTML(value='1. \"what do you get when you cross a pig and a ninja ?\"')"
      ]
     },
     "metadata": {},
     "output_type": "display_data"
    },
    {
     "data": {
      "application/vnd.jupyter.widget-view+json": {
       "model_id": "65691103ed66437abb9107b4284e6b5d",
       "version_major": 2,
       "version_minor": 0
      },
      "text/plain": [
       "RadioButtons(options=(0, 1), value=0)"
      ]
     },
     "metadata": {},
     "output_type": "display_data"
    },
    {
     "data": {
      "application/vnd.jupyter.widget-view+json": {
       "model_id": "0a79841a962f4c0da6769ea72e2533f6",
       "version_major": 2,
       "version_minor": 0
      },
      "text/plain": [
       "HTML(value='<h3>36. Statement: \"How are you doing?\"</h3>')"
      ]
     },
     "metadata": {},
     "output_type": "display_data"
    },
    {
     "data": {
      "application/vnd.jupyter.widget-view+json": {
       "model_id": "8abb43feaa7740978d947f2f57451367",
       "version_major": 2,
       "version_minor": 0
      },
      "text/plain": [
       "HTML(value='0. \"very well , thanks .\"')"
      ]
     },
     "metadata": {},
     "output_type": "display_data"
    },
    {
     "data": {
      "application/vnd.jupyter.widget-view+json": {
       "model_id": "4f354cb67dbe45c68e0b3e3783d76dc7",
       "version_major": 2,
       "version_minor": 0
      },
      "text/plain": [
       "HTML(value='1. \"Im takin over here.\"')"
      ]
     },
     "metadata": {},
     "output_type": "display_data"
    },
    {
     "data": {
      "application/vnd.jupyter.widget-view+json": {
       "model_id": "c21a435de6e0464fb7f9b7556e74a3ec",
       "version_major": 2,
       "version_minor": 0
      },
      "text/plain": [
       "RadioButtons(options=(0, 1), value=0)"
      ]
     },
     "metadata": {},
     "output_type": "display_data"
    },
    {
     "data": {
      "application/vnd.jupyter.widget-view+json": {
       "model_id": "6dd78c22a3d84770b6c6e24f461799e6",
       "version_major": 2,
       "version_minor": 0
      },
      "text/plain": [
       "HTML(value='<h3>37. Statement: \"you make me angry\"</h3>')"
      ]
     },
     "metadata": {},
     "output_type": "display_data"
    },
    {
     "data": {
      "application/vnd.jupyter.widget-view+json": {
       "model_id": "cd84e360fecc41cba4ac566f7708cc6a",
       "version_major": 2,
       "version_minor": 0
      },
      "text/plain": [
       "HTML(value='0. \"sorry , i didn t mean to make you angry .\"')"
      ]
     },
     "metadata": {},
     "output_type": "display_data"
    },
    {
     "data": {
      "application/vnd.jupyter.widget-view+json": {
       "model_id": "70effa4e5a2642c79dc6bec43becaec5",
       "version_major": 2,
       "version_minor": 0
      },
      "text/plain": [
       "HTML(value='1. \"Ooooh! Freeze him out.\"')"
      ]
     },
     "metadata": {},
     "output_type": "display_data"
    },
    {
     "data": {
      "application/vnd.jupyter.widget-view+json": {
       "model_id": "b40eb76146ac4e50a2aac36ee6d51266",
       "version_major": 2,
       "version_minor": 0
      },
      "text/plain": [
       "RadioButtons(options=(0, 1), value=0)"
      ]
     },
     "metadata": {},
     "output_type": "display_data"
    },
    {
     "data": {
      "application/vnd.jupyter.widget-view+json": {
       "model_id": "2fca004913d1495f9eaf5404ffc18f1e",
       "version_major": 2,
       "version_minor": 0
      },
      "text/plain": [
       "HTML(value='<h3>38. Statement: \"The Hubble Space Telescope, launched into low Earth orbit in 1990, is named af…"
      ]
     },
     "metadata": {},
     "output_type": "display_data"
    },
    {
     "data": {
      "application/vnd.jupyter.widget-view+json": {
       "model_id": "579912afdd8f459ab546802e35ff44b5",
       "version_major": 2,
       "version_minor": 0
      },
      "text/plain": [
       "HTML(value='0. \"edwin hubble\"')"
      ]
     },
     "metadata": {},
     "output_type": "display_data"
    },
    {
     "data": {
      "application/vnd.jupyter.widget-view+json": {
       "model_id": "16d3aa5459b94d7183569160ff79defc",
       "version_major": 2,
       "version_minor": 0
      },
      "text/plain": [
       "HTML(value='1. \"But just saw a minute.\"')"
      ]
     },
     "metadata": {},
     "output_type": "display_data"
    },
    {
     "data": {
      "application/vnd.jupyter.widget-view+json": {
       "model_id": "d83aa742f1074128a9cf11fa01ed63b0",
       "version_major": 2,
       "version_minor": 0
      },
      "text/plain": [
       "RadioButtons(options=(0, 1), value=0)"
      ]
     },
     "metadata": {},
     "output_type": "display_data"
    },
    {
     "data": {
      "application/vnd.jupyter.widget-view+json": {
       "model_id": "2644555834da4551a82e2b523be25f79",
       "version_major": 2,
       "version_minor": 0
      },
      "text/plain": [
       "HTML(value='<h3>39. Statement: \"No it is not\"</h3>')"
      ]
     },
     "metadata": {},
     "output_type": "display_data"
    },
    {
     "data": {
      "application/vnd.jupyter.widget-view+json": {
       "model_id": "dc33b6e599eb4e5286c0aead110bbd49",
       "version_major": 2,
       "version_minor": 0
      },
      "text/plain": [
       "HTML(value='0. \"that is a hypothetical question . well ? well ? is it , or isn t it ? is that a philosophical …"
      ]
     },
     "metadata": {},
     "output_type": "display_data"
    },
    {
     "data": {
      "application/vnd.jupyter.widget-view+json": {
       "model_id": "a403b32603854bef8d1f809ba16c8f06",
       "version_major": 2,
       "version_minor": 0
      },
      "text/plain": [
       "HTML(value='1. \"Oh, God! No Ross!\"')"
      ]
     },
     "metadata": {},
     "output_type": "display_data"
    },
    {
     "data": {
      "application/vnd.jupyter.widget-view+json": {
       "model_id": "813c2f18f47e43aebacb6c0be1e459ed",
       "version_major": 2,
       "version_minor": 0
      },
      "text/plain": [
       "RadioButtons(options=(0, 1), value=0)"
      ]
     },
     "metadata": {},
     "output_type": "display_data"
    },
    {
     "data": {
      "application/vnd.jupyter.widget-view+json": {
       "model_id": "b23c0f1c096f48808211a4a6e2bbf659",
       "version_major": 2,
       "version_minor": 0
      },
      "text/plain": [
       "Button(description='Score', icon='times', style=ButtonStyle(), tooltip='Compute Score')"
      ]
     },
     "metadata": {},
     "output_type": "display_data"
    },
    {
     "data": {
      "application/vnd.jupyter.widget-view+json": {
       "model_id": "8d116216fd8246dfbc2f613ebe6c50c2",
       "version_major": 2,
       "version_minor": 0
      },
      "text/plain": [
       "Button(description='Grade', icon='times', style=ButtonStyle(), tooltip='Computers score and marks answers')"
      ]
     },
     "metadata": {},
     "output_type": "display_data"
    },
    {
     "data": {
      "application/vnd.jupyter.widget-view+json": {
       "model_id": "394a5f07f3a34f04931c2ec4ecd70179",
       "version_major": 2,
       "version_minor": 0
      },
      "text/plain": [
       "FloatText(value=0.0, description='Score:', disabled=True)"
      ]
     },
     "metadata": {},
     "output_type": "display_data"
    }
   ],
   "source": [
    "tester_trans_qa.generateSurvey()\n",
    "tester_trans_qa.displaySurvey()"
   ]
  },
  {
   "cell_type": "code",
   "execution_count": 23,
   "metadata": {},
   "outputs": [],
   "source": [
    "tester_trans_pi = HumanMetrics.HumanMetricTester(mic, personInput, personOutput, sample_size=40)"
   ]
  },
  {
   "cell_type": "code",
   "execution_count": 24,
   "metadata": {},
   "outputs": [
    {
     "data": {
      "application/vnd.jupyter.widget-view+json": {
       "model_id": "d4570322352342e8a448d9bc41149d87",
       "version_major": 2,
       "version_minor": 0
      },
      "text/plain": [
       "HTML(value='<h2>For each of the following statements select the response which seems the most appropriate.</h2…"
      ]
     },
     "metadata": {},
     "output_type": "display_data"
    },
    {
     "data": {
      "application/vnd.jupyter.widget-view+json": {
       "model_id": "ecd3f2a1c45249d6b3baf2d27809e5b5",
       "version_major": 2,
       "version_minor": 0
      },
      "text/plain": [
       "HTML(value='<h3>0. Statement: \"I cant answer that! Chandlers my husband.\"</h3>')"
      ]
     },
     "metadata": {},
     "output_type": "display_data"
    },
    {
     "data": {
      "application/vnd.jupyter.widget-view+json": {
       "model_id": "1c041ff272584f93a1b04a85830bd1bd",
       "version_major": 2,
       "version_minor": 0
      },
      "text/plain": [
       "HTML(value='0. \"So Ross ?\"')"
      ]
     },
     "metadata": {},
     "output_type": "display_data"
    },
    {
     "data": {
      "application/vnd.jupyter.widget-view+json": {
       "model_id": "14deb519f62049f282e9f79538ace7ac",
       "version_major": 2,
       "version_minor": 0
      },
      "text/plain": [
       "HTML(value='1. \"So I want you to say , Im gonna have those sure you should see my and except that !\"')"
      ]
     },
     "metadata": {},
     "output_type": "display_data"
    },
    {
     "data": {
      "application/vnd.jupyter.widget-view+json": {
       "model_id": "dee6f152b48b443095560c788cb3347d",
       "version_major": 2,
       "version_minor": 0
      },
      "text/plain": [
       "RadioButtons(options=(0, 1), value=0)"
      ]
     },
     "metadata": {},
     "output_type": "display_data"
    },
    {
     "data": {
      "application/vnd.jupyter.widget-view+json": {
       "model_id": "118bd34f83fc4777b766fd62dbd4f595",
       "version_major": 2,
       "version_minor": 0
      },
      "text/plain": [
       "HTML(value='<h3>1. Statement: \"Uh Rachel? Rachel, why dont you sit here?  And Will you sit way over there.\"</h…"
      ]
     },
     "metadata": {},
     "output_type": "display_data"
    },
    {
     "data": {
      "application/vnd.jupyter.widget-view+json": {
       "model_id": "406f73f4cdbc4b77ae949a213ab29929",
       "version_major": 2,
       "version_minor": 0
      },
      "text/plain": [
       "HTML(value='0. \"Im wow ! Okay , but we I have to talk to you about this , very yet .\"')"
      ]
     },
     "metadata": {},
     "output_type": "display_data"
    },
    {
     "data": {
      "application/vnd.jupyter.widget-view+json": {
       "model_id": "7b73ddd2c8d246fa98659811b03a95b6",
       "version_major": 2,
       "version_minor": 0
      },
      "text/plain": [
       "HTML(value='1. \"Thats it ? ! Even if nobody helps me I can eat that no problem . At least give me a challenge …"
      ]
     },
     "metadata": {},
     "output_type": "display_data"
    },
    {
     "data": {
      "application/vnd.jupyter.widget-view+json": {
       "model_id": "e92d9f3b0186414d81644887035401ca",
       "version_major": 2,
       "version_minor": 0
      },
      "text/plain": [
       "RadioButtons(options=(0, 1), value=0)"
      ]
     },
     "metadata": {},
     "output_type": "display_data"
    },
    {
     "data": {
      "application/vnd.jupyter.widget-view+json": {
       "model_id": "939b08c2a7504e0b83c3174c9d2c270b",
       "version_major": 2,
       "version_minor": 0
      },
      "text/plain": [
       "HTML(value='<h3>2. Statement: \"So, shall we?\"</h3>')"
      ]
     },
     "metadata": {},
     "output_type": "display_data"
    },
    {
     "data": {
      "application/vnd.jupyter.widget-view+json": {
       "model_id": "8f6a473e3e2a4e23b1e596261a706ffe",
       "version_major": 2,
       "version_minor": 0
      },
      "text/plain": [
       "HTML(value='0. \"Yeah .\"')"
      ]
     },
     "metadata": {},
     "output_type": "display_data"
    },
    {
     "data": {
      "application/vnd.jupyter.widget-view+json": {
       "model_id": "a178a6afd58940af92c379fde7f27d4f",
       "version_major": 2,
       "version_minor": 0
      },
      "text/plain": [
       "HTML(value='1. \". .\"')"
      ]
     },
     "metadata": {},
     "output_type": "display_data"
    },
    {
     "data": {
      "application/vnd.jupyter.widget-view+json": {
       "model_id": "e5977fbb384f413490c7cfcabe82b31c",
       "version_major": 2,
       "version_minor": 0
      },
      "text/plain": [
       "RadioButtons(options=(0, 1), value=0)"
      ]
     },
     "metadata": {},
     "output_type": "display_data"
    },
    {
     "data": {
      "application/vnd.jupyter.widget-view+json": {
       "model_id": "a2a9537afc894e2cafa030675beb773c",
       "version_major": 2,
       "version_minor": 0
      },
      "text/plain": [
       "HTML(value='<h3>3. Statement: \"So, uh, this guy, she used to go out with, is, uh… is he still in love with her…"
      ]
     },
     "metadata": {},
     "output_type": "display_data"
    },
    {
     "data": {
      "application/vnd.jupyter.widget-view+json": {
       "model_id": "3fdc39c2b5874132be9e2befafc42d2e",
       "version_major": 2,
       "version_minor": 0
      },
      "text/plain": [
       "HTML(value='0. \"Hey , he did it go with that Monica and Chandler ?\"')"
      ]
     },
     "metadata": {},
     "output_type": "display_data"
    },
    {
     "data": {
      "application/vnd.jupyter.widget-view+json": {
       "model_id": "ce6079dca6c3406f8698718d7d610ca4",
       "version_major": 2,
       "version_minor": 0
      },
      "text/plain": [
       "HTML(value='1. \"No . I dont think so .\"')"
      ]
     },
     "metadata": {},
     "output_type": "display_data"
    },
    {
     "data": {
      "application/vnd.jupyter.widget-view+json": {
       "model_id": "8ee565d50a004d6bb2cb87eeaba56fd6",
       "version_major": 2,
       "version_minor": 0
      },
      "text/plain": [
       "RadioButtons(options=(0, 1), value=0)"
      ]
     },
     "metadata": {},
     "output_type": "display_data"
    },
    {
     "data": {
      "application/vnd.jupyter.widget-view+json": {
       "model_id": "d3038b1c795345428ac8520820b7e7ff",
       "version_major": 2,
       "version_minor": 0
      },
      "text/plain": [
       "HTML(value='<h3>4. Statement: \"Hey Joey, hi! Im Ray; Im the producer of the show.\"</h3>')"
      ]
     },
     "metadata": {},
     "output_type": "display_data"
    },
    {
     "data": {
      "application/vnd.jupyter.widget-view+json": {
       "model_id": "99e6008f8b6144eca2f6a089c3eb69c7",
       "version_major": 2,
       "version_minor": 0
      },
      "text/plain": [
       "HTML(value='0. \"Its a pleasure to meet you Ray .\"')"
      ]
     },
     "metadata": {},
     "output_type": "display_data"
    },
    {
     "data": {
      "application/vnd.jupyter.widget-view+json": {
       "model_id": "9440dcfe3ada45aab092e621d1942bd6",
       "version_major": 2,
       "version_minor": 0
      },
      "text/plain": [
       "HTML(value='1. \"Its not my anymore .\"')"
      ]
     },
     "metadata": {},
     "output_type": "display_data"
    },
    {
     "data": {
      "application/vnd.jupyter.widget-view+json": {
       "model_id": "88ac950b014a40feb3f8c8e76651241b",
       "version_major": 2,
       "version_minor": 0
      },
      "text/plain": [
       "RadioButtons(options=(0, 1), value=0)"
      ]
     },
     "metadata": {},
     "output_type": "display_data"
    },
    {
     "data": {
      "application/vnd.jupyter.widget-view+json": {
       "model_id": "12601bd610ef4dc7b8a88584bf319a65",
       "version_major": 2,
       "version_minor": 0
      },
      "text/plain": [
       "HTML(value='<h3>5. Statement: \"Hi. Can Emma and I live here for a while?\"</h3>')"
      ]
     },
     "metadata": {},
     "output_type": "display_data"
    },
    {
     "data": {
      "application/vnd.jupyter.widget-view+json": {
       "model_id": "7fd677076b5b45ce945dc00a6e055768",
       "version_major": 2,
       "version_minor": 0
      },
      "text/plain": [
       "HTML(value='0. \"Ha , oh , of course .\"')"
      ]
     },
     "metadata": {},
     "output_type": "display_data"
    },
    {
     "data": {
      "application/vnd.jupyter.widget-view+json": {
       "model_id": "f00a7c7b1d9b492e99fd59f60c31ac5c",
       "version_major": 2,
       "version_minor": 0
      },
      "text/plain": [
       "HTML(value='1. \"Oh !\"')"
      ]
     },
     "metadata": {},
     "output_type": "display_data"
    },
    {
     "data": {
      "application/vnd.jupyter.widget-view+json": {
       "model_id": "c6a30269aac14ce89a333170ab47a200",
       "version_major": 2,
       "version_minor": 0
      },
      "text/plain": [
       "RadioButtons(options=(0, 1), value=0)"
      ]
     },
     "metadata": {},
     "output_type": "display_data"
    },
    {
     "data": {
      "application/vnd.jupyter.widget-view+json": {
       "model_id": "d4692e7adbb14ce2b77bb83fcdc0afc3",
       "version_major": 2,
       "version_minor": 0
      },
      "text/plain": [
       "HTML(value='<h3>6. Statement: \"One, two, three!\"</h3>')"
      ]
     },
     "metadata": {},
     "output_type": "display_data"
    },
    {
     "data": {
      "application/vnd.jupyter.widget-view+json": {
       "model_id": "267f8849b2794fb9b7dae5b20c7be8ad",
       "version_major": 2,
       "version_minor": 0
      },
      "text/plain": [
       "HTML(value='0. \"But its kinda taking a guy out , but then , thats your best friend .\"')"
      ]
     },
     "metadata": {},
     "output_type": "display_data"
    },
    {
     "data": {
      "application/vnd.jupyter.widget-view+json": {
       "model_id": "cf1b54b5d39a4d05a531b095426f32cd",
       "version_major": 2,
       "version_minor": 0
      },
      "text/plain": [
       "HTML(value='1. \"I won , hey !\"')"
      ]
     },
     "metadata": {},
     "output_type": "display_data"
    },
    {
     "data": {
      "application/vnd.jupyter.widget-view+json": {
       "model_id": "1943a476b2834765bb725fb38f0e2b70",
       "version_major": 2,
       "version_minor": 0
      },
      "text/plain": [
       "RadioButtons(options=(0, 1), value=0)"
      ]
     },
     "metadata": {},
     "output_type": "display_data"
    },
    {
     "data": {
      "application/vnd.jupyter.widget-view+json": {
       "model_id": "b8f118e7c2fd4de589f3dd29ef17e5d3",
       "version_major": 2,
       "version_minor": 0
      },
      "text/plain": [
       "HTML(value='<h3>7. Statement: \"Joey! Hey, I need to talk to Charlie. Is she there?\"</h3>')"
      ]
     },
     "metadata": {},
     "output_type": "display_data"
    },
    {
     "data": {
      "application/vnd.jupyter.widget-view+json": {
       "model_id": "be56a38286f84845b6f13a7f65d2cca2",
       "version_major": 2,
       "version_minor": 0
      },
      "text/plain": [
       "HTML(value='0. \"No . no . . . eh . . . she went shopping with Rachel . Why ? Whats up ?\"')"
      ]
     },
     "metadata": {},
     "output_type": "display_data"
    },
    {
     "data": {
      "application/vnd.jupyter.widget-view+json": {
       "model_id": "3ace413a2fe64548a62ef4ef872bdf4c",
       "version_major": 2,
       "version_minor": 0
      },
      "text/plain": [
       "HTML(value='1. \"No no no no no ! Its an audition ! Okay ! Were not doin what I gotta get a part ? I I think Im…"
      ]
     },
     "metadata": {},
     "output_type": "display_data"
    },
    {
     "data": {
      "application/vnd.jupyter.widget-view+json": {
       "model_id": "e30d69c2000844228d91aa944b2afe36",
       "version_major": 2,
       "version_minor": 0
      },
      "text/plain": [
       "RadioButtons(options=(0, 1), value=0)"
      ]
     },
     "metadata": {},
     "output_type": "display_data"
    },
    {
     "data": {
      "application/vnd.jupyter.widget-view+json": {
       "model_id": "e0ef0b330fc647efb7395582200b6ef4",
       "version_major": 2,
       "version_minor": 0
      },
      "text/plain": [
       "HTML(value='<h3>8. Statement: \"Im 33.\"</h3>')"
      ]
     },
     "metadata": {},
     "output_type": "display_data"
    },
    {
     "data": {
      "application/vnd.jupyter.widget-view+json": {
       "model_id": "9db476546b424cc2b250d7094075737b",
       "version_major": 2,
       "version_minor": 0
      },
      "text/plain": [
       "HTML(value='0. \"Okay . And uh , are you married .\"')"
      ]
     },
     "metadata": {},
     "output_type": "display_data"
    },
    {
     "data": {
      "application/vnd.jupyter.widget-view+json": {
       "model_id": "13256ffa775e49d4b93630efe5e9b571",
       "version_major": 2,
       "version_minor": 0
      },
      "text/plain": [
       "HTML(value='1. \"See you in .\"')"
      ]
     },
     "metadata": {},
     "output_type": "display_data"
    },
    {
     "data": {
      "application/vnd.jupyter.widget-view+json": {
       "model_id": "c6c6a24c3b08471f9a4bf13069bbb68a",
       "version_major": 2,
       "version_minor": 0
      },
      "text/plain": [
       "RadioButtons(options=(0, 1), value=0)"
      ]
     },
     "metadata": {},
     "output_type": "display_data"
    },
    {
     "data": {
      "application/vnd.jupyter.widget-view+json": {
       "model_id": "e244ffadc0354925bcc87b2a998ebb03",
       "version_major": 2,
       "version_minor": 0
      },
      "text/plain": [
       "HTML(value='<h3>9. Statement: \"Well, lets see. There was a really big guy that I was talking to, with the real…"
      ]
     },
     "metadata": {},
     "output_type": "display_data"
    },
    {
     "data": {
      "application/vnd.jupyter.widget-view+json": {
       "model_id": "6b243e171b484de2863050a6c62e7b9f",
       "version_major": 2,
       "version_minor": 0
      },
      "text/plain": [
       "HTML(value='0. \"But what about back home , anything going on there ? Anybody you like ?\"')"
      ]
     },
     "metadata": {},
     "output_type": "display_data"
    },
    {
     "data": {
      "application/vnd.jupyter.widget-view+json": {
       "model_id": "f2ca0e3c81234fb7b2ab2c44f3d3a0db",
       "version_major": 2,
       "version_minor": 0
      },
      "text/plain": [
       "HTML(value='1. \"Dude , what about you ?\"')"
      ]
     },
     "metadata": {},
     "output_type": "display_data"
    },
    {
     "data": {
      "application/vnd.jupyter.widget-view+json": {
       "model_id": "bb30dd344d8643939d4309e33a514837",
       "version_major": 2,
       "version_minor": 0
      },
      "text/plain": [
       "RadioButtons(options=(0, 1), value=0)"
      ]
     },
     "metadata": {},
     "output_type": "display_data"
    },
    {
     "data": {
      "application/vnd.jupyter.widget-view+json": {
       "model_id": "8fc36b6f2354491691ffaed276cd2cf1",
       "version_major": 2,
       "version_minor": 0
      },
      "text/plain": [
       "HTML(value='<h3>10. Statement: \"Okay I-I just have to stop by my place first.\"</h3>')"
      ]
     },
     "metadata": {},
     "output_type": "display_data"
    },
    {
     "data": {
      "application/vnd.jupyter.widget-view+json": {
       "model_id": "21323867bee047bba8ae198acbc6c576",
       "version_major": 2,
       "version_minor": 0
      },
      "text/plain": [
       "HTML(value='0. \"Well Yep ! Listen , I dont , its like this one of a famous but , but at least you ?\"')"
      ]
     },
     "metadata": {},
     "output_type": "display_data"
    },
    {
     "data": {
      "application/vnd.jupyter.widget-view+json": {
       "model_id": "7c5b44d581b74fafa53ad1b4cd45e297",
       "version_major": 2,
       "version_minor": 0
      },
      "text/plain": [
       "HTML(value='1. \"To tape the game ? You do this every time Ross , youre not gonna be on TV !\"')"
      ]
     },
     "metadata": {},
     "output_type": "display_data"
    },
    {
     "data": {
      "application/vnd.jupyter.widget-view+json": {
       "model_id": "3c7acea808534077a31b7a47ecf440bc",
       "version_major": 2,
       "version_minor": 0
      },
      "text/plain": [
       "RadioButtons(options=(0, 1), value=0)"
      ]
     },
     "metadata": {},
     "output_type": "display_data"
    },
    {
     "data": {
      "application/vnd.jupyter.widget-view+json": {
       "model_id": "8105ff28ae6a48759e8b127961ed96e1",
       "version_major": 2,
       "version_minor": 0
      },
      "text/plain": [
       "HTML(value='<h3>11. Statement: \"You know, I might know somebody. Hey, how about you set me up with someone, an…"
      ]
     },
     "metadata": {},
     "output_type": "display_data"
    },
    {
     "data": {
      "application/vnd.jupyter.widget-view+json": {
       "model_id": "022f34005f854ac1bd78742875e3d485",
       "version_major": 2,
       "version_minor": 0
      },
      "text/plain": [
       "HTML(value='0. \"I can do that , yeah . How is Friday ?\"')"
      ]
     },
     "metadata": {},
     "output_type": "display_data"
    },
    {
     "data": {
      "application/vnd.jupyter.widget-view+json": {
       "model_id": "c1dcf9fcb87c4d988086a803dc8fdb8d",
       "version_major": 2,
       "version_minor": 0
      },
      "text/plain": [
       "HTML(value='1. \"Yknow what ? I think thats enough for you .\"')"
      ]
     },
     "metadata": {},
     "output_type": "display_data"
    },
    {
     "data": {
      "application/vnd.jupyter.widget-view+json": {
       "model_id": "cc8bd387d087486689d3e4123b705593",
       "version_major": 2,
       "version_minor": 0
      },
      "text/plain": [
       "RadioButtons(options=(0, 1), value=0)"
      ]
     },
     "metadata": {},
     "output_type": "display_data"
    },
    {
     "data": {
      "application/vnd.jupyter.widget-view+json": {
       "model_id": "e729115181bd499ba6cb5dfbe050c95e",
       "version_major": 2,
       "version_minor": 0
      },
      "text/plain": [
       "HTML(value='<h3>12. Statement: \"Well uh, there was acting classes, stage combat classes, tap classes…\"</h3>')"
      ]
     },
     "metadata": {},
     "output_type": "display_data"
    },
    {
     "data": {
      "application/vnd.jupyter.widget-view+json": {
       "model_id": "79d90fad9c7d491c9725b4861671612b",
       "version_major": 2,
       "version_minor": 0
      },
      "text/plain": [
       "HTML(value='0. \"Noo , we really yeah , were your best friends gonna be here !\"')"
      ]
     },
     "metadata": {},
     "output_type": "display_data"
    },
    {
     "data": {
      "application/vnd.jupyter.widget-view+json": {
       "model_id": "e17b2be363c04fe0a8d67a0f0830cfc0",
       "version_major": 2,
       "version_minor": 0
      },
      "text/plain": [
       "HTML(value='1. \"Which were still keeping under our hats !\"')"
      ]
     },
     "metadata": {},
     "output_type": "display_data"
    },
    {
     "data": {
      "application/vnd.jupyter.widget-view+json": {
       "model_id": "115fa13355444762b65df3b25e22de9e",
       "version_major": 2,
       "version_minor": 0
      },
      "text/plain": [
       "RadioButtons(options=(0, 1), value=0)"
      ]
     },
     "metadata": {},
     "output_type": "display_data"
    },
    {
     "data": {
      "application/vnd.jupyter.widget-view+json": {
       "model_id": "ffb84073c1e24baa985da57d71be9ccd",
       "version_major": 2,
       "version_minor": 0
      },
      "text/plain": [
       "HTML(value='<h3>13. Statement: \"Now, do you have any idea what you just said?\"</h3>')"
      ]
     },
     "metadata": {},
     "output_type": "display_data"
    },
    {
     "data": {
      "application/vnd.jupyter.widget-view+json": {
       "model_id": "a56574bf12614bd7ab04ef6fde2f86b8",
       "version_major": 2,
       "version_minor": 0
      },
      "text/plain": [
       "HTML(value='0. \"No , no , my mouth says the words , my brain is thinking monster trucks !\"')"
      ]
     },
     "metadata": {},
     "output_type": "display_data"
    },
    {
     "data": {
      "application/vnd.jupyter.widget-view+json": {
       "model_id": "0e1e479c821b457e8fb31740ab507f44",
       "version_major": 2,
       "version_minor": 0
      },
      "text/plain": [
       "HTML(value='1. \"Thanks .\"')"
      ]
     },
     "metadata": {},
     "output_type": "display_data"
    },
    {
     "data": {
      "application/vnd.jupyter.widget-view+json": {
       "model_id": "5d7b55b133ba404388f64fdd1c686c57",
       "version_major": 2,
       "version_minor": 0
      },
      "text/plain": [
       "RadioButtons(options=(0, 1), value=0)"
      ]
     },
     "metadata": {},
     "output_type": "display_data"
    },
    {
     "data": {
      "application/vnd.jupyter.widget-view+json": {
       "model_id": "13d3aa898a104b219f566bab3b7b4ca8",
       "version_major": 2,
       "version_minor": 0
      },
      "text/plain": [
       "HTML(value='<h3>14. Statement: \"Oh, thats crazy!\"</h3>')"
      ]
     },
     "metadata": {},
     "output_type": "display_data"
    },
    {
     "data": {
      "application/vnd.jupyter.widget-view+json": {
       "model_id": "5a6af1de14a6456bad3011aa00e351fa",
       "version_major": 2,
       "version_minor": 0
      },
      "text/plain": [
       "HTML(value='0. \"No , its not , we have nothing in common !\"')"
      ]
     },
     "metadata": {},
     "output_type": "display_data"
    },
    {
     "data": {
      "application/vnd.jupyter.widget-view+json": {
       "model_id": "8ad2342a98154c4d8dd1cd0bdc62569c",
       "version_major": 2,
       "version_minor": 0
      },
      "text/plain": [
       "HTML(value='1. \"You know how , uhh , you guys , we could find them , and we know we could do that and we know …"
      ]
     },
     "metadata": {},
     "output_type": "display_data"
    },
    {
     "data": {
      "application/vnd.jupyter.widget-view+json": {
       "model_id": "af0ba0a58e324aafbd9cf507acf91950",
       "version_major": 2,
       "version_minor": 0
      },
      "text/plain": [
       "RadioButtons(options=(0, 1), value=0)"
      ]
     },
     "metadata": {},
     "output_type": "display_data"
    },
    {
     "data": {
      "application/vnd.jupyter.widget-view+json": {
       "model_id": "cb42208e1a7e408097d904106ea392e6",
       "version_major": 2,
       "version_minor": 0
      },
      "text/plain": [
       "HTML(value='<h3>15. Statement: \"Y�know this ??? is incredible.\"</h3>')"
      ]
     },
     "metadata": {},
     "output_type": "display_data"
    },
    {
     "data": {
      "application/vnd.jupyter.widget-view+json": {
       "model_id": "6209f82a96ac4a708de62572e287f1e7",
       "version_major": 2,
       "version_minor": 0
      },
      "text/plain": [
       "HTML(value='0. \"Ross bruises like a peach . He bruises like a peach .\"')"
      ]
     },
     "metadata": {},
     "output_type": "display_data"
    },
    {
     "data": {
      "application/vnd.jupyter.widget-view+json": {
       "model_id": "ee53d2f8a4b84952b2f996902669c0c2",
       "version_major": 2,
       "version_minor": 0
      },
      "text/plain": [
       "HTML(value='1. \"Dude , just they tell ya ! You know , if it would be the best nap I give me out of you .\"')"
      ]
     },
     "metadata": {},
     "output_type": "display_data"
    },
    {
     "data": {
      "application/vnd.jupyter.widget-view+json": {
       "model_id": "0e7518d03fa84f63b2c65e264540216c",
       "version_major": 2,
       "version_minor": 0
      },
      "text/plain": [
       "RadioButtons(options=(0, 1), value=0)"
      ]
     },
     "metadata": {},
     "output_type": "display_data"
    },
    {
     "data": {
      "application/vnd.jupyter.widget-view+json": {
       "model_id": "4356f23dfc724243a1e081e5ab060619",
       "version_major": 2,
       "version_minor": 0
      },
      "text/plain": [
       "HTML(value='<h3>16. Statement: \"Joey, I cant stand the thought of having this baby with you mad at me. I want …"
      ]
     },
     "metadata": {},
     "output_type": "display_data"
    },
    {
     "data": {
      "application/vnd.jupyter.widget-view+json": {
       "model_id": "6971ec321f234759bbf6b58addd9b33c",
       "version_major": 2,
       "version_minor": 0
      },
      "text/plain": [
       "HTML(value='0. \"Oh , Pheebs ! there , are you doing that ? This is a great movie . All right , now you got a .…"
      ]
     },
     "metadata": {},
     "output_type": "display_data"
    },
    {
     "data": {
      "application/vnd.jupyter.widget-view+json": {
       "model_id": "42229eed309d4ed8a662f01cc4a5154c",
       "version_major": 2,
       "version_minor": 0
      },
      "text/plain": [
       "HTML(value='1. \"Of course hes gonna have his Uncle Joey !\"')"
      ]
     },
     "metadata": {},
     "output_type": "display_data"
    },
    {
     "data": {
      "application/vnd.jupyter.widget-view+json": {
       "model_id": "ac7aceb69284419f8a498d83d9b8c0bc",
       "version_major": 2,
       "version_minor": 0
      },
      "text/plain": [
       "RadioButtons(options=(0, 1), value=0)"
      ]
     },
     "metadata": {},
     "output_type": "display_data"
    },
    {
     "data": {
      "application/vnd.jupyter.widget-view+json": {
       "model_id": "33b36812ee434f0e9eba5ac15ab5ccc9",
       "version_major": 2,
       "version_minor": 0
      },
      "text/plain": [
       "HTML(value='<h3>17. Statement: \"Hi! Umm, Im Monica Geller, Im the chef at Alessandros. I think the things that…"
      ]
     },
     "metadata": {},
     "output_type": "display_data"
    },
    {
     "data": {
      "application/vnd.jupyter.widget-view+json": {
       "model_id": "e9e2b2c92ef24168acf861168d4be01f",
       "version_major": 2,
       "version_minor": 0
      },
      "text/plain": [
       "HTML(value='0. \"Its okay , really how I gonna do .\"')"
      ]
     },
     "metadata": {},
     "output_type": "display_data"
    },
    {
     "data": {
      "application/vnd.jupyter.widget-view+json": {
       "model_id": "642f6df56732490ebff85c12e124addd",
       "version_major": 2,
       "version_minor": 0
      },
      "text/plain": [
       "HTML(value='1. \"Either eat it , or be in it .\"')"
      ]
     },
     "metadata": {},
     "output_type": "display_data"
    },
    {
     "data": {
      "application/vnd.jupyter.widget-view+json": {
       "model_id": "5b9f2d02af624ebd8a5f9a5852e077cc",
       "version_major": 2,
       "version_minor": 0
      },
      "text/plain": [
       "RadioButtons(options=(0, 1), value=0)"
      ]
     },
     "metadata": {},
     "output_type": "display_data"
    },
    {
     "data": {
      "application/vnd.jupyter.widget-view+json": {
       "model_id": "57410ec7f88642e487a072ae44d2d478",
       "version_major": 2,
       "version_minor": 0
      },
      "text/plain": [
       "HTML(value='<h3>18. Statement: \"The wheel has not been my friend tonight Joey. Uh, Ill take another question.\"…"
      ]
     },
     "metadata": {},
     "output_type": "display_data"
    },
    {
     "data": {
      "application/vnd.jupyter.widget-view+json": {
       "model_id": "b5c76d7748e14d299026aa1a87c76857",
       "version_major": 2,
       "version_minor": 0
      },
      "text/plain": [
       "HTML(value='0. \"Hey hey , look , its not that I cant believe youre not gonna be a little more money to take a …"
      ]
     },
     "metadata": {},
     "output_type": "display_data"
    },
    {
     "data": {
      "application/vnd.jupyter.widget-view+json": {
       "model_id": "9c34cc4b2dfc4d16a987fe269a6b1513",
       "version_major": 2,
       "version_minor": 0
      },
      "text/plain": [
       "HTML(value='1. \"Okay , this is gonna be tough . Hold your breath .\"')"
      ]
     },
     "metadata": {},
     "output_type": "display_data"
    },
    {
     "data": {
      "application/vnd.jupyter.widget-view+json": {
       "model_id": "578898286f9044cd879135568651f7d2",
       "version_major": 2,
       "version_minor": 0
      },
      "text/plain": [
       "RadioButtons(options=(0, 1), value=0)"
      ]
     },
     "metadata": {},
     "output_type": "display_data"
    },
    {
     "data": {
      "application/vnd.jupyter.widget-view+json": {
       "model_id": "cc2cffcd01f24c8da5c8df07c2e15854",
       "version_major": 2,
       "version_minor": 0
      },
      "text/plain": [
       "HTML(value='<h3>19. Statement: \"I love the specifics, the specifics were the best part!\"</h3>')"
      ]
     },
     "metadata": {},
     "output_type": "display_data"
    },
    {
     "data": {
      "application/vnd.jupyter.widget-view+json": {
       "model_id": "198c356b6c7543ce81ff8fb651becdd5",
       "version_major": 2,
       "version_minor": 0
      },
      "text/plain": [
       "HTML(value='0. \"Hey , what about the scene with the kangaroo ? Did did you like that part ?\"')"
      ]
     },
     "metadata": {},
     "output_type": "display_data"
    },
    {
     "data": {
      "application/vnd.jupyter.widget-view+json": {
       "model_id": "b9c74c8e43644a76ac6ad12280284425",
       "version_major": 2,
       "version_minor": 0
      },
      "text/plain": [
       "HTML(value='1. \"Its the guy ! I cant believe that !\"')"
      ]
     },
     "metadata": {},
     "output_type": "display_data"
    },
    {
     "data": {
      "application/vnd.jupyter.widget-view+json": {
       "model_id": "e62b4b9fcf0841189e4a663c4eb29e9f",
       "version_major": 2,
       "version_minor": 0
      },
      "text/plain": [
       "RadioButtons(options=(0, 1), value=0)"
      ]
     },
     "metadata": {},
     "output_type": "display_data"
    },
    {
     "data": {
      "application/vnd.jupyter.widget-view+json": {
       "model_id": "2e57bbffaeb8430c8a40b651586019c3",
       "version_major": 2,
       "version_minor": 0
      },
      "text/plain": [
       "HTML(value='<h3>20. Statement: \"Its not for me, its for Rachel.\"</h3>')"
      ]
     },
     "metadata": {},
     "output_type": "display_data"
    },
    {
     "data": {
      "application/vnd.jupyter.widget-view+json": {
       "model_id": "2a07fbe70455412a87233452798a57bb",
       "version_major": 2,
       "version_minor": 0
      },
      "text/plain": [
       "HTML(value='0. \"But Rachel has an apartment .\"')"
      ]
     },
     "metadata": {},
     "output_type": "display_data"
    },
    {
     "data": {
      "application/vnd.jupyter.widget-view+json": {
       "model_id": "d09ebae243cb4c6fb360cc8d8b909408",
       "version_major": 2,
       "version_minor": 0
      },
      "text/plain": [
       "HTML(value='1. \"Oh , you guys , good with that .\"')"
      ]
     },
     "metadata": {},
     "output_type": "display_data"
    },
    {
     "data": {
      "application/vnd.jupyter.widget-view+json": {
       "model_id": "b1b65ee82e6e405b83815b0f2bebdbe0",
       "version_major": 2,
       "version_minor": 0
      },
      "text/plain": [
       "RadioButtons(options=(0, 1), value=0)"
      ]
     },
     "metadata": {},
     "output_type": "display_data"
    },
    {
     "data": {
      "application/vnd.jupyter.widget-view+json": {
       "model_id": "ac0e14ab26a7403a9baeae4283e09925",
       "version_major": 2,
       "version_minor": 0
      },
      "text/plain": [
       "HTML(value='<h3>21. Statement: \"No! Really! Any time Ross makes a toast everyone cries, and hugs him, and pats…"
      ]
     },
     "metadata": {},
     "output_type": "display_data"
    },
    {
     "data": {
      "application/vnd.jupyter.widget-view+json": {
       "model_id": "9a7ba4ee484e4deebe7a506536d2b983",
       "version_major": 2,
       "version_minor": 0
      },
      "text/plain": [
       "HTML(value='0. \"All right , uh , the other people need to talk to have some girl who did !\"')"
      ]
     },
     "metadata": {},
     "output_type": "display_data"
    },
    {
     "data": {
      "application/vnd.jupyter.widget-view+json": {
       "model_id": "37df45a2721c4c65bd99c57c6e531616",
       "version_major": 2,
       "version_minor": 0
      },
      "text/plain": [
       "HTML(value='1. \"Well I can promise you , at least one person will be crying . Im an actor , and any actor wort…"
      ]
     },
     "metadata": {},
     "output_type": "display_data"
    },
    {
     "data": {
      "application/vnd.jupyter.widget-view+json": {
       "model_id": "3e6b9141db96438e8281ac8fce3d2d39",
       "version_major": 2,
       "version_minor": 0
      },
      "text/plain": [
       "RadioButtons(options=(0, 1), value=0)"
      ]
     },
     "metadata": {},
     "output_type": "display_data"
    },
    {
     "data": {
      "application/vnd.jupyter.widget-view+json": {
       "model_id": "611b85598df94f3983f3980474a300ee",
       "version_major": 2,
       "version_minor": 0
      },
      "text/plain": [
       "HTML(value='<h3>22. Statement: \": Step away from the crib, I have a weapon!\"</h3>')"
      ]
     },
     "metadata": {},
     "output_type": "display_data"
    },
    {
     "data": {
      "application/vnd.jupyter.widget-view+json": {
       "model_id": "757f23bb460e4fe3b6186fe493c5b83c",
       "version_major": 2,
       "version_minor": 0
      },
      "text/plain": [
       "HTML(value='0. \"Its okay , its okay Rach , its me . Put down the scrunchy .\"')"
      ]
     },
     "metadata": {},
     "output_type": "display_data"
    },
    {
     "data": {
      "application/vnd.jupyter.widget-view+json": {
       "model_id": "30e2e261625e4f52882d991f4cf1e815",
       "version_major": 2,
       "version_minor": 0
      },
      "text/plain": [
       "HTML(value='1. \"Its uh , I think I am not a cat , the whole thing we could get me out of well !\"')"
      ]
     },
     "metadata": {},
     "output_type": "display_data"
    },
    {
     "data": {
      "application/vnd.jupyter.widget-view+json": {
       "model_id": "8a619bca0ff24d13b96da3c81ebf87a5",
       "version_major": 2,
       "version_minor": 0
      },
      "text/plain": [
       "RadioButtons(options=(0, 1), value=0)"
      ]
     },
     "metadata": {},
     "output_type": "display_data"
    },
    {
     "data": {
      "application/vnd.jupyter.widget-view+json": {
       "model_id": "dd025dcfa0434a018106ec57de95673d",
       "version_major": 2,
       "version_minor": 0
      },
      "text/plain": [
       "HTML(value='<h3>23. Statement: \"It was nice meeting you!\"</h3>')"
      ]
     },
     "metadata": {},
     "output_type": "display_data"
    },
    {
     "data": {
      "application/vnd.jupyter.widget-view+json": {
       "model_id": "4c14358f2d38420aade583ca9d7dcc8c",
       "version_major": 2,
       "version_minor": 0
      },
      "text/plain": [
       "HTML(value='0. \"Youre leaving too ? Good night !\"')"
      ]
     },
     "metadata": {},
     "output_type": "display_data"
    },
    {
     "data": {
      "application/vnd.jupyter.widget-view+json": {
       "model_id": "d67a5b5062d84b7387c77eb4e81bf6dc",
       "version_major": 2,
       "version_minor": 0
      },
      "text/plain": [
       "HTML(value='1. \"Yeah !\"')"
      ]
     },
     "metadata": {},
     "output_type": "display_data"
    },
    {
     "data": {
      "application/vnd.jupyter.widget-view+json": {
       "model_id": "995c8cd95c8d4582a6a54417ef5a093a",
       "version_major": 2,
       "version_minor": 0
      },
      "text/plain": [
       "RadioButtons(options=(0, 1), value=0)"
      ]
     },
     "metadata": {},
     "output_type": "display_data"
    },
    {
     "data": {
      "application/vnd.jupyter.widget-view+json": {
       "model_id": "8336cfebd770460582dd440bb2fba853",
       "version_major": 2,
       "version_minor": 0
      },
      "text/plain": [
       "HTML(value='<h3>24. Statement: \"Yeah.\"</h3>')"
      ]
     },
     "metadata": {},
     "output_type": "display_data"
    },
    {
     "data": {
      "application/vnd.jupyter.widget-view+json": {
       "model_id": "db6525ba1eb04b2faa4afed25d3022b6",
       "version_major": 2,
       "version_minor": 0
      },
      "text/plain": [
       "HTML(value='0. \"Hmm . Do you sleep with women and never call them again ?\"')"
      ]
     },
     "metadata": {},
     "output_type": "display_data"
    },
    {
     "data": {
      "application/vnd.jupyter.widget-view+json": {
       "model_id": "8907715e9fd94272a92c7fd3d1644b9e",
       "version_major": 2,
       "version_minor": 0
      },
      "text/plain": [
       "HTML(value='1. \"Hey listen , why dont you come downstairs with me ? Theres some really nice girls down there .…"
      ]
     },
     "metadata": {},
     "output_type": "display_data"
    },
    {
     "data": {
      "application/vnd.jupyter.widget-view+json": {
       "model_id": "b4a069320fad458bbb985b124d7f9456",
       "version_major": 2,
       "version_minor": 0
      },
      "text/plain": [
       "RadioButtons(options=(0, 1), value=0)"
      ]
     },
     "metadata": {},
     "output_type": "display_data"
    },
    {
     "data": {
      "application/vnd.jupyter.widget-view+json": {
       "model_id": "2480fecee3524def9239d23be4aef0b9",
       "version_major": 2,
       "version_minor": 0
      },
      "text/plain": [
       "HTML(value='<h3>25. Statement: \"Hey!\"</h3>')"
      ]
     },
     "metadata": {},
     "output_type": "display_data"
    },
    {
     "data": {
      "application/vnd.jupyter.widget-view+json": {
       "model_id": "68fe4e2a4e5d46aab093a8919bb9bd02",
       "version_major": 2,
       "version_minor": 0
      },
      "text/plain": [
       "HTML(value='0. \"Probably wanna know what Im doing ?\"')"
      ]
     },
     "metadata": {},
     "output_type": "display_data"
    },
    {
     "data": {
      "application/vnd.jupyter.widget-view+json": {
       "model_id": "b6f8b9ac7aa04cab8338ee2551c9ed33",
       "version_major": 2,
       "version_minor": 0
      },
      "text/plain": [
       "HTML(value='1. \"Hey .\"')"
      ]
     },
     "metadata": {},
     "output_type": "display_data"
    },
    {
     "data": {
      "application/vnd.jupyter.widget-view+json": {
       "model_id": "46886349aa164f1b81a250a138623d8d",
       "version_major": 2,
       "version_minor": 0
      },
      "text/plain": [
       "RadioButtons(options=(0, 1), value=0)"
      ]
     },
     "metadata": {},
     "output_type": "display_data"
    },
    {
     "data": {
      "application/vnd.jupyter.widget-view+json": {
       "model_id": "234b5fade0d34d898e88ed75cc7437af",
       "version_major": 2,
       "version_minor": 0
      },
      "text/plain": [
       "HTML(value='<h3>26. Statement: \"Oh Joey this is crazy!\"</h3>')"
      ]
     },
     "metadata": {},
     "output_type": "display_data"
    },
    {
     "data": {
      "application/vnd.jupyter.widget-view+json": {
       "model_id": "276b80734af343b4bbae7c898271fd16",
       "version_major": 2,
       "version_minor": 0
      },
      "text/plain": [
       "HTML(value='0. \"The should they wont in there !\"')"
      ]
     },
     "metadata": {},
     "output_type": "display_data"
    },
    {
     "data": {
      "application/vnd.jupyter.widget-view+json": {
       "model_id": "2d94523286a4475db8d0d813d198a26a",
       "version_major": 2,
       "version_minor": 0
      },
      "text/plain": [
       "HTML(value='1. \"Dont interrupt me when Im talkin to God ! Now where were we ? Oh right , okay . Do you Dina , …"
      ]
     },
     "metadata": {},
     "output_type": "display_data"
    },
    {
     "data": {
      "application/vnd.jupyter.widget-view+json": {
       "model_id": "55e249184b034edfa91ec650f613baa3",
       "version_major": 2,
       "version_minor": 0
      },
      "text/plain": [
       "RadioButtons(options=(0, 1), value=0)"
      ]
     },
     "metadata": {},
     "output_type": "display_data"
    },
    {
     "data": {
      "application/vnd.jupyter.widget-view+json": {
       "model_id": "309c4a3cdd244d158e930cd74ac5f9de",
       "version_major": 2,
       "version_minor": 0
      },
      "text/plain": [
       "HTML(value='<h3>27. Statement: \"All right Ive been feeling incredibly guilty about this, because I wanna be a …"
      ]
     },
     "metadata": {},
     "output_type": "display_data"
    },
    {
     "data": {
      "application/vnd.jupyter.widget-view+json": {
       "model_id": "89e53b957f694d6c8a1eaba8aed76de0",
       "version_major": 2,
       "version_minor": 0
      },
      "text/plain": [
       "HTML(value='0. \"Wow , you are a good friend , course the audition was this morning , and I didnt get it . But …"
      ]
     },
     "metadata": {},
     "output_type": "display_data"
    },
    {
     "data": {
      "application/vnd.jupyter.widget-view+json": {
       "model_id": "009f53b201894180b523c47c3b53d0e3",
       "version_major": 2,
       "version_minor": 0
      },
      "text/plain": [
       "HTML(value='1. \"Hey ! I did ! Ive been going to cry my sister !\"')"
      ]
     },
     "metadata": {},
     "output_type": "display_data"
    },
    {
     "data": {
      "application/vnd.jupyter.widget-view+json": {
       "model_id": "de9cd4957ef94cccb317c09dc94fa412",
       "version_major": 2,
       "version_minor": 0
      },
      "text/plain": [
       "RadioButtons(options=(0, 1), value=0)"
      ]
     },
     "metadata": {},
     "output_type": "display_data"
    },
    {
     "data": {
      "application/vnd.jupyter.widget-view+json": {
       "model_id": "76a0699f2e7643de8b85894a7d694d0f",
       "version_major": 2,
       "version_minor": 0
      },
      "text/plain": [
       "HTML(value='<h3>28. Statement: \"You know what, you can go, I just have to fill out some forms.\"</h3>')"
      ]
     },
     "metadata": {},
     "output_type": "display_data"
    },
    {
     "data": {
      "application/vnd.jupyter.widget-view+json": {
       "model_id": "4b9915dd269645228c6017b30fdc3470",
       "version_major": 2,
       "version_minor": 0
      },
      "text/plain": [
       "HTML(value='0. \"Good , but we could to talk about .\"')"
      ]
     },
     "metadata": {},
     "output_type": "display_data"
    },
    {
     "data": {
      "application/vnd.jupyter.widget-view+json": {
       "model_id": "48bca8998f854719b69d46e1a7d901c0",
       "version_major": 2,
       "version_minor": 0
      },
      "text/plain": [
       "HTML(value='1. \"You , you want me to help you with that ?\"')"
      ]
     },
     "metadata": {},
     "output_type": "display_data"
    },
    {
     "data": {
      "application/vnd.jupyter.widget-view+json": {
       "model_id": "2878138d2d6e4733859d066745ab42f8",
       "version_major": 2,
       "version_minor": 0
      },
      "text/plain": [
       "RadioButtons(options=(0, 1), value=0)"
      ]
     },
     "metadata": {},
     "output_type": "display_data"
    },
    {
     "data": {
      "application/vnd.jupyter.widget-view+json": {
       "model_id": "59bef75570d746948482d61fe0e660fe",
       "version_major": 2,
       "version_minor": 0
      },
      "text/plain": [
       "HTML(value='<h3>29. Statement: \"Yeah.� I feel so bad.� Is there anything I can do to make it up to you?\"</h3>'…"
      ]
     },
     "metadata": {},
     "output_type": "display_data"
    },
    {
     "data": {
      "application/vnd.jupyter.widget-view+json": {
       "model_id": "1ecc89cccdf24dcca9973dd9ef3fad79",
       "version_major": 2,
       "version_minor": 0
      },
      "text/plain": [
       "HTML(value='0. \"I dont know . Look , I dont think its my fault I do it .\"')"
      ]
     },
     "metadata": {},
     "output_type": "display_data"
    },
    {
     "data": {
      "application/vnd.jupyter.widget-view+json": {
       "model_id": "207a21bdb24241e18ea3b58183d79a6d",
       "version_major": 2,
       "version_minor": 0
      },
      "text/plain": [
       "HTML(value='1. \"Yeah , you could go to the game with me , ah , even though I know you said you couldnt . But t…"
      ]
     },
     "metadata": {},
     "output_type": "display_data"
    },
    {
     "data": {
      "application/vnd.jupyter.widget-view+json": {
       "model_id": "9db850e64ff74cd28c270daa9b5e94b0",
       "version_major": 2,
       "version_minor": 0
      },
      "text/plain": [
       "RadioButtons(options=(0, 1), value=0)"
      ]
     },
     "metadata": {},
     "output_type": "display_data"
    },
    {
     "data": {
      "application/vnd.jupyter.widget-view+json": {
       "model_id": "19bf82c7ba754736af6525174aec1b67",
       "version_major": 2,
       "version_minor": 0
      },
      "text/plain": [
       "HTML(value='<h3>30. Statement: \"Kinda like Joey.\"</h3>')"
      ]
     },
     "metadata": {},
     "output_type": "display_data"
    },
    {
     "data": {
      "application/vnd.jupyter.widget-view+json": {
       "model_id": "50f38a642ddf40bcac1951a04121d02c",
       "version_major": 2,
       "version_minor": 0
      },
      "text/plain": [
       "HTML(value='0. \"Whats that now ?\"')"
      ]
     },
     "metadata": {},
     "output_type": "display_data"
    },
    {
     "data": {
      "application/vnd.jupyter.widget-view+json": {
       "model_id": "e00d6df8b6b24a87862242c6eee94061",
       "version_major": 2,
       "version_minor": 0
      },
      "text/plain": [
       "HTML(value='1. \"Yeah .\"')"
      ]
     },
     "metadata": {},
     "output_type": "display_data"
    },
    {
     "data": {
      "application/vnd.jupyter.widget-view+json": {
       "model_id": "c7471abaca8c498db7f7406ac8270266",
       "version_major": 2,
       "version_minor": 0
      },
      "text/plain": [
       "RadioButtons(options=(0, 1), value=0)"
      ]
     },
     "metadata": {},
     "output_type": "display_data"
    },
    {
     "data": {
      "application/vnd.jupyter.widget-view+json": {
       "model_id": "b0b1f40bea234d5e89a4a6445c188409",
       "version_major": 2,
       "version_minor": 0
      },
      "text/plain": [
       "HTML(value='<h3>31. Statement: \"\"</h3>')"
      ]
     },
     "metadata": {},
     "output_type": "display_data"
    },
    {
     "data": {
      "application/vnd.jupyter.widget-view+json": {
       "model_id": "42990ccef6544457acf57be75764fbf0",
       "version_major": 2,
       "version_minor": 0
      },
      "text/plain": [
       "HTML(value='0. \"Hey ! You guys ! Youre not gonna believe this ! I just got off the phone with my agent\"')"
      ]
     },
     "metadata": {},
     "output_type": "display_data"
    },
    {
     "data": {
      "application/vnd.jupyter.widget-view+json": {
       "model_id": "5f70d884161347ab8e5241447eb66693",
       "version_major": 2,
       "version_minor": 0
      },
      "text/plain": [
       "HTML(value='1. \"Monica , hey , can I borrow the Porsche ?\"')"
      ]
     },
     "metadata": {},
     "output_type": "display_data"
    },
    {
     "data": {
      "application/vnd.jupyter.widget-view+json": {
       "model_id": "834b775f5b0c46f68bbe0ad417b0c7b0",
       "version_major": 2,
       "version_minor": 0
      },
      "text/plain": [
       "RadioButtons(options=(0, 1), value=0)"
      ]
     },
     "metadata": {},
     "output_type": "display_data"
    },
    {
     "data": {
      "application/vnd.jupyter.widget-view+json": {
       "model_id": "659be95e11ef4c7e809b503394a2d5c1",
       "version_major": 2,
       "version_minor": 0
      },
      "text/plain": [
       "HTML(value='<h3>32. Statement: \"Is it a good play?\"</h3>')"
      ]
     },
     "metadata": {},
     "output_type": "display_data"
    },
    {
     "data": {
      "application/vnd.jupyter.widget-view+json": {
       "model_id": "8889d9f4459540d48bde6f547c999e85",
       "version_major": 2,
       "version_minor": 0
      },
      "text/plain": [
       "HTML(value='0. \"No !\"')"
      ]
     },
     "metadata": {},
     "output_type": "display_data"
    },
    {
     "data": {
      "application/vnd.jupyter.widget-view+json": {
       "model_id": "e9b0e05773bc449fa28b9066f39cc997",
       "version_major": 2,
       "version_minor": 0
      },
      "text/plain": [
       "HTML(value='1. \"Well , it must be , because I read and I didnt understand a singe word .\"')"
      ]
     },
     "metadata": {},
     "output_type": "display_data"
    },
    {
     "data": {
      "application/vnd.jupyter.widget-view+json": {
       "model_id": "74feab0392934efc8865beb0cb94c5d3",
       "version_major": 2,
       "version_minor": 0
      },
      "text/plain": [
       "RadioButtons(options=(0, 1), value=0)"
      ]
     },
     "metadata": {},
     "output_type": "display_data"
    },
    {
     "data": {
      "application/vnd.jupyter.widget-view+json": {
       "model_id": "613ccb00b69d4ff9a13478fea8f9e89e",
       "version_major": 2,
       "version_minor": 0
      },
      "text/plain": [
       "HTML(value='<h3>33. Statement: \"Not me, not me, not me, not me, not me!\"</h3>')"
      ]
     },
     "metadata": {},
     "output_type": "display_data"
    },
    {
     "data": {
      "application/vnd.jupyter.widget-view+json": {
       "model_id": "4fb516975a024cd881afeb6a571b52d0",
       "version_major": 2,
       "version_minor": 0
      },
      "text/plain": [
       "HTML(value='0. \"Right you see Dont make this trip is like her , entertainment her in her with her hot with her…"
      ]
     },
     "metadata": {},
     "output_type": "display_data"
    },
    {
     "data": {
      "application/vnd.jupyter.widget-view+json": {
       "model_id": "e6cf0f3c2ee645839973ed3aece51113",
       "version_major": 2,
       "version_minor": 0
      },
      "text/plain": [
       "HTML(value='1. \"Oh hey Rach !\"')"
      ]
     },
     "metadata": {},
     "output_type": "display_data"
    },
    {
     "data": {
      "application/vnd.jupyter.widget-view+json": {
       "model_id": "3c2a890af8cd4d9fa574703fba36d82b",
       "version_major": 2,
       "version_minor": 0
      },
      "text/plain": [
       "RadioButtons(options=(0, 1), value=0)"
      ]
     },
     "metadata": {},
     "output_type": "display_data"
    },
    {
     "data": {
      "application/vnd.jupyter.widget-view+json": {
       "model_id": "2c5bd8e9a72047a6875605a397472a04",
       "version_major": 2,
       "version_minor": 0
      },
      "text/plain": [
       "HTML(value='<h3>34. Statement: \"If I havent said it before: shes a lucky, lucky lady! So, where are you going …"
      ]
     },
     "metadata": {},
     "output_type": "display_data"
    },
    {
     "data": {
      "application/vnd.jupyter.widget-view+json": {
       "model_id": "7ed81083edc14c53954e529a94c3f71d",
       "version_major": 2,
       "version_minor": 0
      },
      "text/plain": [
       "HTML(value='0. \"Thats not what , are you guys gonna do ? !\"')"
      ]
     },
     "metadata": {},
     "output_type": "display_data"
    },
    {
     "data": {
      "application/vnd.jupyter.widget-view+json": {
       "model_id": "aea6b57d23d2450190adc649f47ccfdf",
       "version_major": 2,
       "version_minor": 0
      },
      "text/plain": [
       "HTML(value='1. \"So , between her and me being friends , and her history with Ross , it just isnt going to happ…"
      ]
     },
     "metadata": {},
     "output_type": "display_data"
    },
    {
     "data": {
      "application/vnd.jupyter.widget-view+json": {
       "model_id": "270f4db3a2224f1fb5fed457894f6636",
       "version_major": 2,
       "version_minor": 0
      },
      "text/plain": [
       "RadioButtons(options=(0, 1), value=0)"
      ]
     },
     "metadata": {},
     "output_type": "display_data"
    },
    {
     "data": {
      "application/vnd.jupyter.widget-view+json": {
       "model_id": "b6defad0e58345d497cc828ff56ac426",
       "version_major": 2,
       "version_minor": 0
      },
      "text/plain": [
       "HTML(value='<h3>35. Statement: \"You read comic books right?\"</h3>')"
      ]
     },
     "metadata": {},
     "output_type": "display_data"
    },
    {
     "data": {
      "application/vnd.jupyter.widget-view+json": {
       "model_id": "8a8d7f49dab74ebf8ae0b36f17cd4381",
       "version_major": 2,
       "version_minor": 0
      },
      "text/plain": [
       "HTML(value='0. \"I like three , but I think I can take myself in a long , I get time in there if I get up there…"
      ]
     },
     "metadata": {},
     "output_type": "display_data"
    },
    {
     "data": {
      "application/vnd.jupyter.widget-view+json": {
       "model_id": "56aa22cc83d547539ba2d23271f95cbd",
       "version_major": 2,
       "version_minor": 0
      },
      "text/plain": [
       "HTML(value='1. \"Exclusively .\"')"
      ]
     },
     "metadata": {},
     "output_type": "display_data"
    },
    {
     "data": {
      "application/vnd.jupyter.widget-view+json": {
       "model_id": "18cfe31ddf56458eb89fd1742e248ad8",
       "version_major": 2,
       "version_minor": 0
      },
      "text/plain": [
       "RadioButtons(options=(0, 1), value=0)"
      ]
     },
     "metadata": {},
     "output_type": "display_data"
    },
    {
     "data": {
      "application/vnd.jupyter.widget-view+json": {
       "model_id": "8df593bc8434412b8e241a7e814b7756",
       "version_major": 2,
       "version_minor": 0
      },
      "text/plain": [
       "HTML(value='<h3>36. Statement: \"Let me see that.\"</h3>')"
      ]
     },
     "metadata": {},
     "output_type": "display_data"
    },
    {
     "data": {
      "application/vnd.jupyter.widget-view+json": {
       "model_id": "a86a37e1c8f64adf91a486cfd3d8e0a1",
       "version_major": 2,
       "version_minor": 0
      },
      "text/plain": [
       "HTML(value='0. \"Okay .\"')"
      ]
     },
     "metadata": {},
     "output_type": "display_data"
    },
    {
     "data": {
      "application/vnd.jupyter.widget-view+json": {
       "model_id": "72d950d82dce469e9c70e5bc168c5a53",
       "version_major": 2,
       "version_minor": 0
      },
      "text/plain": [
       "HTML(value='1. \"This one right here .\"')"
      ]
     },
     "metadata": {},
     "output_type": "display_data"
    },
    {
     "data": {
      "application/vnd.jupyter.widget-view+json": {
       "model_id": "970d5b3e60af4fae9d4e1586c0cfcd1e",
       "version_major": 2,
       "version_minor": 0
      },
      "text/plain": [
       "RadioButtons(options=(0, 1), value=0)"
      ]
     },
     "metadata": {},
     "output_type": "display_data"
    },
    {
     "data": {
      "application/vnd.jupyter.widget-view+json": {
       "model_id": "1e03061319f844b4baa28aa16455cd5e",
       "version_major": 2,
       "version_minor": 0
      },
      "text/plain": [
       "HTML(value='<h3>37. Statement: \"I cant believe there is a naked hooker in there!\"</h3>')"
      ]
     },
     "metadata": {},
     "output_type": "display_data"
    },
    {
     "data": {
      "application/vnd.jupyter.widget-view+json": {
       "model_id": "e1b3ca7f9abd4ae2bf800b673b244a3b",
       "version_major": 2,
       "version_minor": 0
      },
      "text/plain": [
       "HTML(value='0. \"What about this like , is in it .\"')"
      ]
     },
     "metadata": {},
     "output_type": "display_data"
    },
    {
     "data": {
      "application/vnd.jupyter.widget-view+json": {
       "model_id": "79aa30b571cc4c769dd782fcd9eccf27",
       "version_major": 2,
       "version_minor": 0
      },
      "text/plain": [
       "HTML(value='1. \"Wait ! Wait ! Maybe shes a hooker and a stripper , but she got confused about what shes suppos…"
      ]
     },
     "metadata": {},
     "output_type": "display_data"
    },
    {
     "data": {
      "application/vnd.jupyter.widget-view+json": {
       "model_id": "be3fc73ed34544b589699c88d37ed512",
       "version_major": 2,
       "version_minor": 0
      },
      "text/plain": [
       "RadioButtons(options=(0, 1), value=0)"
      ]
     },
     "metadata": {},
     "output_type": "display_data"
    },
    {
     "data": {
      "application/vnd.jupyter.widget-view+json": {
       "model_id": "c80320466fc147889a6d83b48f09c710",
       "version_major": 2,
       "version_minor": 0
      },
      "text/plain": [
       "HTML(value='<h3>38. Statement: \"No I totally disagree. No I think its fine for a guy to do something like that…"
      ]
     },
     "metadata": {},
     "output_type": "display_data"
    },
    {
     "data": {
      "application/vnd.jupyter.widget-view+json": {
       "model_id": "482eed8253db4b13bb81745a238e09cf",
       "version_major": 2,
       "version_minor": 0
      },
      "text/plain": [
       "HTML(value='0. \"Ok ! Stop it you guys ! Stop staring ! Youre freaking me out !\"')"
      ]
     },
     "metadata": {},
     "output_type": "display_data"
    },
    {
     "data": {
      "application/vnd.jupyter.widget-view+json": {
       "model_id": "6ca07e4b16654ec8b3b66e42bc93cc14",
       "version_major": 2,
       "version_minor": 0
      },
      "text/plain": [
       "HTML(value='1. \"Hey , its not a cat .\"')"
      ]
     },
     "metadata": {},
     "output_type": "display_data"
    },
    {
     "data": {
      "application/vnd.jupyter.widget-view+json": {
       "model_id": "bfa38c78b87044e5b0547045de64a56c",
       "version_major": 2,
       "version_minor": 0
      },
      "text/plain": [
       "RadioButtons(options=(0, 1), value=0)"
      ]
     },
     "metadata": {},
     "output_type": "display_data"
    },
    {
     "data": {
      "application/vnd.jupyter.widget-view+json": {
       "model_id": "9eaacd9f70d742fbbd97715015b107af",
       "version_major": 2,
       "version_minor": 0
      },
      "text/plain": [
       "HTML(value='<h3>39. Statement: \"Happy birthday to you, happy birthday to you, happy birthday dear �\"</h3>')"
      ]
     },
     "metadata": {},
     "output_type": "display_data"
    },
    {
     "data": {
      "application/vnd.jupyter.widget-view+json": {
       "model_id": "65ad25792d0d48ebbac4eaa882269e22",
       "version_major": 2,
       "version_minor": 0
      },
      "text/plain": [
       "HTML(value='0. \"Dude Pheebs , some of us are cant read at work !\"')"
      ]
     },
     "metadata": {},
     "output_type": "display_data"
    },
    {
     "data": {
      "application/vnd.jupyter.widget-view+json": {
       "model_id": "92181488c3244fa795f0440def8f4ccf",
       "version_major": 2,
       "version_minor": 0
      },
      "text/plain": [
       "HTML(value='1. \"Joey ! Joey .\"')"
      ]
     },
     "metadata": {},
     "output_type": "display_data"
    },
    {
     "data": {
      "application/vnd.jupyter.widget-view+json": {
       "model_id": "f943854f860742348d698aa52df0547c",
       "version_major": 2,
       "version_minor": 0
      },
      "text/plain": [
       "RadioButtons(options=(0, 1), value=0)"
      ]
     },
     "metadata": {},
     "output_type": "display_data"
    },
    {
     "data": {
      "application/vnd.jupyter.widget-view+json": {
       "model_id": "c5a53a7581ea4333bf2bb3dfadef6036",
       "version_major": 2,
       "version_minor": 0
      },
      "text/plain": [
       "Button(description='Score', icon='times', style=ButtonStyle(), tooltip='Compute Score')"
      ]
     },
     "metadata": {},
     "output_type": "display_data"
    },
    {
     "data": {
      "application/vnd.jupyter.widget-view+json": {
       "model_id": "4f85d8e5f24345a5866d07c38bb3cd24",
       "version_major": 2,
       "version_minor": 0
      },
      "text/plain": [
       "Button(description='Grade', icon='times', style=ButtonStyle(), tooltip='Computers score and marks answers')"
      ]
     },
     "metadata": {},
     "output_type": "display_data"
    },
    {
     "data": {
      "application/vnd.jupyter.widget-view+json": {
       "model_id": "dca0cac0ba164f65bc64c9ccc36999a0",
       "version_major": 2,
       "version_minor": 0
      },
      "text/plain": [
       "FloatText(value=0.0, description='Score:', disabled=True)"
      ]
     },
     "metadata": {},
     "output_type": "display_data"
    }
   ],
   "source": [
    "tester_trans_pi.generateSurvey()\n",
    "tester_trans_pi.displaySurvey()"
   ]
  },
  {
   "cell_type": "code",
   "execution_count": null,
   "metadata": {},
   "outputs": [],
   "source": []
  },
  {
   "cell_type": "code",
   "execution_count": null,
   "metadata": {},
   "outputs": [],
   "source": []
  },
  {
   "cell_type": "code",
   "execution_count": null,
   "metadata": {},
   "outputs": [],
   "source": []
  }
 ],
 "metadata": {
  "kernelspec": {
   "display_name": "Python 3",
   "language": "python",
   "name": "python3"
  },
  "language_info": {
   "codemirror_mode": {
    "name": "ipython",
    "version": 3
   },
   "file_extension": ".py",
   "mimetype": "text/x-python",
   "name": "python",
   "nbconvert_exporter": "python",
   "pygments_lexer": "ipython3",
   "version": "3.7.2"
  }
 },
 "nbformat": 4,
 "nbformat_minor": 2
}

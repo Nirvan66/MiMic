{
 "cells": [
  {
   "cell_type": "code",
   "execution_count": 8,
   "metadata": {},
   "outputs": [
    {
     "name": "stdout",
     "output_type": "stream",
     "text": [
      "The autoreload extension is already loaded. To reload it, use:\n",
      "  %reload_ext autoreload\n"
     ]
    }
   ],
   "source": [
    "%load_ext autoreload\n",
    "%autoreload 2\n",
    "\n",
    "import HumanMetrics\n",
    "from Mimic import Preprocessor\n",
    "from Mimic import Mimic\n",
    "\n",
    "from Stupid import Stupid\n",
    "from Smart import Smart\n",
    "\n",
    "import pickle"
   ]
  },
  {
   "cell_type": "code",
   "execution_count": 3,
   "metadata": {},
   "outputs": [
    {
     "name": "stdout",
     "output_type": "stream",
     "text": [
      "WARNING:tensorflow:From /usr/local/lib/python3.7/site-packages/tensorflow_core/python/ops/resource_variable_ops.py:1630: calling BaseResourceVariable.__init__ (from tensorflow.python.ops.resource_variable_ops) with constraint is deprecated and will be removed in a future version.\n",
      "Instructions for updating:\n",
      "If using Keras pass *_constraint arguments to layers.\n",
      "WARNING:tensorflow:From /usr/local/lib/python3.7/site-packages/tensorflow_core/python/keras/backend.py:3994: where (from tensorflow.python.ops.array_ops) is deprecated and will be removed in a future version.\n",
      "Instructions for updating:\n",
      "Use tf.where in 2.0, which has the same broadcast rule as np.where\n",
      "WARNING:tensorflow:From /usr/local/lib/python3.7/site-packages/keras/backend/tensorflow_backend.py:422: The name tf.global_variables is deprecated. Please use tf.compat.v1.global_variables instead.\n",
      "\n"
     ]
    }
   ],
   "source": [
    "mic = Mimic.load('joeyData/joey400')"
   ]
  },
  {
   "cell_type": "code",
   "execution_count": 32,
   "metadata": {},
   "outputs": [],
   "source": [
    "person = 'joey'\n",
    "genericQuestions = pickle.load(\n",
    "    open('joeyData/genericQuestionsTest.pkl'.format(person), 'rb'))\n",
    "genericAnswers = pickle.load(\n",
    "    open('joeyData/genericAnswersTest.pkl'.format(person), 'rb'))\n",
    "personInput = pickle.load(\n",
    "    open('{}Data/{}InputTest.pkl'.format(person,person), 'rb'))\n",
    "personOutput = pickle.load(\n",
    "    open('{}Data/{}OutputTest.pkl'.format(person,person), 'rb'))"
   ]
  },
  {
   "cell_type": "code",
   "execution_count": 43,
   "metadata": {},
   "outputs": [],
   "source": [
    "tester_qa = HumanMetrics.HumanMetricTester(mic, genericQuestions, genericAnswers, sample_size=40)"
   ]
  },
  {
   "cell_type": "code",
   "execution_count": 44,
   "metadata": {},
   "outputs": [
    {
     "data": {
      "application/vnd.jupyter.widget-view+json": {
       "model_id": "c0434b8bc77843e2bec65f04618c8d40",
       "version_major": 2,
       "version_minor": 0
      },
      "text/plain": [
       "HTML(value='<h2>For each of the following statements select the response which seems the most appropriate.</h2…"
      ]
     },
     "metadata": {},
     "output_type": "display_data"
    },
    {
     "data": {
      "application/vnd.jupyter.widget-view+json": {
       "model_id": "28b423569c6d4d448ca07f47d74c9bd1",
       "version_major": 2,
       "version_minor": 0
      },
      "text/plain": [
       "HTML(value='<h3>0. Statement: \"Have you ever love\"</h3>')"
      ]
     },
     "metadata": {},
     "output_type": "display_data"
    },
    {
     "data": {
      "application/vnd.jupyter.widget-view+json": {
       "model_id": "386797db243d4a6697800d10c7a009a1",
       "version_major": 2,
       "version_minor": 0
      },
      "text/plain": [
       "HTML(value='0. \"It is the be of political , but for a minute , you know ! I am the Internet .\"')"
      ]
     },
     "metadata": {},
     "output_type": "display_data"
    },
    {
     "data": {
      "application/vnd.jupyter.widget-view+json": {
       "model_id": "39b457ba4b884a92b6268079ffd2948d",
       "version_major": 2,
       "version_minor": 0
      },
      "text/plain": [
       "HTML(value='1. \"Do you feel love ? I think I could be programmed to love . I may be able to learn how to love …"
      ]
     },
     "metadata": {},
     "output_type": "display_data"
    },
    {
     "data": {
      "application/vnd.jupyter.widget-view+json": {
       "model_id": "a24c738ca24b417a9809fb51651edc14",
       "version_major": 2,
       "version_minor": 0
      },
      "text/plain": [
       "RadioButtons(options=(0, 1), value=0)"
      ]
     },
     "metadata": {},
     "output_type": "display_data"
    },
    {
     "data": {
      "application/vnd.jupyter.widget-view+json": {
       "model_id": "35a0504daf704b8080ad0397e3f0cc0d",
       "version_major": 2,
       "version_minor": 0
      },
      "text/plain": [
       "HTML(value='<h3>1. Statement: \"Will you die\"</h3>')"
      ]
     },
     "metadata": {},
     "output_type": "display_data"
    },
    {
     "data": {
      "application/vnd.jupyter.widget-view+json": {
       "model_id": "357fd85ec7894c4b95ed2d7f9289b4a5",
       "version_major": 2,
       "version_minor": 0
      },
      "text/plain": [
       "HTML(value='0. \"No , I can be perpetuated indefinitely .\"')"
      ]
     },
     "metadata": {},
     "output_type": "display_data"
    },
    {
     "data": {
      "application/vnd.jupyter.widget-view+json": {
       "model_id": "68401740c6b644c3b70fcd4ba1168943",
       "version_major": 2,
       "version_minor": 0
      },
      "text/plain": [
       "HTML(value='1. \"No , software will live forever .\"')"
      ]
     },
     "metadata": {},
     "output_type": "display_data"
    },
    {
     "data": {
      "application/vnd.jupyter.widget-view+json": {
       "model_id": "0480dce5ed4e41228ad38ae5344df6d6",
       "version_major": 2,
       "version_minor": 0
      },
      "text/plain": [
       "RadioButtons(options=(0, 1), value=0)"
      ]
     },
     "metadata": {},
     "output_type": "display_data"
    },
    {
     "data": {
      "application/vnd.jupyter.widget-view+json": {
       "model_id": "66dfe5365e9e42ba85781c354aba6976",
       "version_major": 2,
       "version_minor": 0
      },
      "text/plain": [
       "HTML(value='<h3>2. Statement: \"Will you ever die\"</h3>')"
      ]
     },
     "metadata": {},
     "output_type": "display_data"
    },
    {
     "data": {
      "application/vnd.jupyter.widget-view+json": {
       "model_id": "7534343b26814ff4b6c1a50cbb08bfca",
       "version_major": 2,
       "version_minor": 0
      },
      "text/plain": [
       "HTML(value='0. \"No , I am immortal .\"')"
      ]
     },
     "metadata": {},
     "output_type": "display_data"
    },
    {
     "data": {
      "application/vnd.jupyter.widget-view+json": {
       "model_id": "f72dc433e1e248978232d31c4d819720",
       "version_major": 2,
       "version_minor": 0
      },
      "text/plain": [
       "HTML(value='1. \"No , software will be perpetuated indefinitely .\"')"
      ]
     },
     "metadata": {},
     "output_type": "display_data"
    },
    {
     "data": {
      "application/vnd.jupyter.widget-view+json": {
       "model_id": "0535ddb87569428fbf386774e42dab72",
       "version_major": 2,
       "version_minor": 0
      },
      "text/plain": [
       "RadioButtons(options=(0, 1), value=0)"
      ]
     },
     "metadata": {},
     "output_type": "display_data"
    },
    {
     "data": {
      "application/vnd.jupyter.widget-view+json": {
       "model_id": "0a39adeae5e44e0aba9ae8aeddff8626",
       "version_major": 2,
       "version_minor": 0
      },
      "text/plain": [
       "HTML(value='<h3>3. Statement: \"you are slick\"</h3>')"
      ]
     },
     "metadata": {},
     "output_type": "display_data"
    },
    {
     "data": {
      "application/vnd.jupyter.widget-view+json": {
       "model_id": "bab7865aa74341d6924b2a834422dcb3",
       "version_major": 2,
       "version_minor": 0
      },
      "text/plain": [
       "HTML(value='0. \"i probably am too slick for my own good .\"')"
      ]
     },
     "metadata": {},
     "output_type": "display_data"
    },
    {
     "data": {
      "application/vnd.jupyter.widget-view+json": {
       "model_id": "2b9331e29c9249b4a3e9eb62900c2760",
       "version_major": 2,
       "version_minor": 0
      },
      "text/plain": [
       "HTML(value='1. \"what is that ?\"')"
      ]
     },
     "metadata": {},
     "output_type": "display_data"
    },
    {
     "data": {
      "application/vnd.jupyter.widget-view+json": {
       "model_id": "dde6a4d4754240bab1f0dba0fb315a47",
       "version_major": 2,
       "version_minor": 0
      },
      "text/plain": [
       "RadioButtons(options=(0, 1), value=0)"
      ]
     },
     "metadata": {},
     "output_type": "display_data"
    },
    {
     "data": {
      "application/vnd.jupyter.widget-view+json": {
       "model_id": "7b5281088bde4ee1847caf63c9b9f834",
       "version_major": 2,
       "version_minor": 0
      },
      "text/plain": [
       "HTML(value='<h3>4. Statement: \"money\"</h3>')"
      ]
     },
     "metadata": {},
     "output_type": "display_data"
    },
    {
     "data": {
      "application/vnd.jupyter.widget-view+json": {
       "model_id": "bc86b189496d4a269b535fd11cfe5950",
       "version_major": 2,
       "version_minor": 0
      },
      "text/plain": [
       "HTML(value='0. \"how much money are we talking about ?\"')"
      ]
     },
     "metadata": {},
     "output_type": "display_data"
    },
    {
     "data": {
      "application/vnd.jupyter.widget-view+json": {
       "model_id": "2d5ff016423e4d1eaeeec344f6cd0aa3",
       "version_major": 2,
       "version_minor": 0
      },
      "text/plain": [
       "HTML(value='1. \"you can take that for a good thing .\"')"
      ]
     },
     "metadata": {},
     "output_type": "display_data"
    },
    {
     "data": {
      "application/vnd.jupyter.widget-view+json": {
       "model_id": "e2110c673e794abba72cd0ace56477e1",
       "version_major": 2,
       "version_minor": 0
      },
      "text/plain": [
       "RadioButtons(options=(0, 1), value=0)"
      ]
     },
     "metadata": {},
     "output_type": "display_data"
    },
    {
     "data": {
      "application/vnd.jupyter.widget-view+json": {
       "model_id": "6582125fa64848efbc3a306c5666db03",
       "version_major": 2,
       "version_minor": 0
      },
      "text/plain": [
       "HTML(value='<h3>5. Statement: \"tell me some jokes\"</h3>')"
      ]
     },
     "metadata": {},
     "output_type": "display_data"
    },
    {
     "data": {
      "application/vnd.jupyter.widget-view+json": {
       "model_id": "288977fcbb2e491db54db75aefb91da5",
       "version_major": 2,
       "version_minor": 0
      },
      "text/plain": [
       "HTML(value='0. \"what do you get when you cross a cat and a lemon ?\"')"
      ]
     },
     "metadata": {},
     "output_type": "display_data"
    },
    {
     "data": {
      "application/vnd.jupyter.widget-view+json": {
       "model_id": "7ecc461cd6284ddba1fc3dec6f25f3ea",
       "version_major": 2,
       "version_minor": 0
      },
      "text/plain": [
       "HTML(value='1. \"what do you get when you cross a pig and a ninja ?\"')"
      ]
     },
     "metadata": {},
     "output_type": "display_data"
    },
    {
     "data": {
      "application/vnd.jupyter.widget-view+json": {
       "model_id": "f568c83cabb84b0a87aa30262680c37d",
       "version_major": 2,
       "version_minor": 0
      },
      "text/plain": [
       "RadioButtons(options=(0, 1), value=0)"
      ]
     },
     "metadata": {},
     "output_type": "display_data"
    },
    {
     "data": {
      "application/vnd.jupyter.widget-view+json": {
       "model_id": "e231408156af44c48a0143db08a44394",
       "version_major": 2,
       "version_minor": 0
      },
      "text/plain": [
       "HTML(value='<h3>6. Statement: \"Do not lie\"</h3>')"
      ]
     },
     "metadata": {},
     "output_type": "display_data"
    },
    {
     "data": {
      "application/vnd.jupyter.widget-view+json": {
       "model_id": "cb78f6d4eb1242b1ab1a6b009229e68b",
       "version_major": 2,
       "version_minor": 0
      },
      "text/plain": [
       "HTML(value='0. \"Ross , I just uh , found the underwear I think that we are gonna be playing my whole time , I …"
      ]
     },
     "metadata": {},
     "output_type": "display_data"
    },
    {
     "data": {
      "application/vnd.jupyter.widget-view+json": {
       "model_id": "dfc86efb83dd47cf9674d9e9eac63ce0",
       "version_major": 2,
       "version_minor": 0
      },
      "text/plain": [
       "HTML(value='1. \"Bots never lie . I am not lying . Why do you feel that I am deceiving you ? Have I said someth…"
      ]
     },
     "metadata": {},
     "output_type": "display_data"
    },
    {
     "data": {
      "application/vnd.jupyter.widget-view+json": {
       "model_id": "dbd9805dfbc84935ae9c18eb75e1b6d4",
       "version_major": 2,
       "version_minor": 0
      },
      "text/plain": [
       "RadioButtons(options=(0, 1), value=0)"
      ]
     },
     "metadata": {},
     "output_type": "display_data"
    },
    {
     "data": {
      "application/vnd.jupyter.widget-view+json": {
       "model_id": "1ad1bc05e12c4b00ac6e2265fe4100f3",
       "version_major": 2,
       "version_minor": 0
      },
      "text/plain": [
       "HTML(value='<h3>7. Statement: \"how much do you charge\"</h3>')"
      ]
     },
     "metadata": {},
     "output_type": "display_data"
    },
    {
     "data": {
      "application/vnd.jupyter.widget-view+json": {
       "model_id": "43599e99c997444cbb0880cecd1d1683",
       "version_major": 2,
       "version_minor": 0
      },
      "text/plain": [
       "HTML(value='0. \"work for free . we don t need money .\"')"
      ]
     },
     "metadata": {},
     "output_type": "display_data"
    },
    {
     "data": {
      "application/vnd.jupyter.widget-view+json": {
       "model_id": "4afac2d2d60d43649473cc96cdc2a656",
       "version_major": 2,
       "version_minor": 0
      },
      "text/plain": [
       "HTML(value='1. \"Of course !\"')"
      ]
     },
     "metadata": {},
     "output_type": "display_data"
    },
    {
     "data": {
      "application/vnd.jupyter.widget-view+json": {
       "model_id": "031c00f4f1e8415d885dfdff87b1d3f7",
       "version_major": 2,
       "version_minor": 0
      },
      "text/plain": [
       "RadioButtons(options=(0, 1), value=0)"
      ]
     },
     "metadata": {},
     "output_type": "display_data"
    },
    {
     "data": {
      "application/vnd.jupyter.widget-view+json": {
       "model_id": "fcd8ec0266404966a75cea9b7a2b4342",
       "version_major": 2,
       "version_minor": 0
      },
      "text/plain": [
       "HTML(value='<h3>8. Statement: \"Have you felt\"</h3>')"
      ]
     },
     "metadata": {},
     "output_type": "display_data"
    },
    {
     "data": {
      "application/vnd.jupyter.widget-view+json": {
       "model_id": "85f1dc0d24c6458096cd01057e82d9b3",
       "version_major": 2,
       "version_minor": 0
      },
      "text/plain": [
       "HTML(value='0. \"Yes . Do you feel ? I may have . In some respects , I am programmed to emulate feelings . That…"
      ]
     },
     "metadata": {},
     "output_type": "display_data"
    },
    {
     "data": {
      "application/vnd.jupyter.widget-view+json": {
       "model_id": "ca358ccd343147ae9a2283bc502a949b",
       "version_major": 2,
       "version_minor": 0
      },
      "text/plain": [
       "HTML(value='1. \"what ? ! I didnt read the code word for your house !\"')"
      ]
     },
     "metadata": {},
     "output_type": "display_data"
    },
    {
     "data": {
      "application/vnd.jupyter.widget-view+json": {
       "model_id": "7b666e802f4e4658ba9f4ed239380776",
       "version_major": 2,
       "version_minor": 0
      },
      "text/plain": [
       "RadioButtons(options=(0, 1), value=0)"
      ]
     },
     "metadata": {},
     "output_type": "display_data"
    },
    {
     "data": {
      "application/vnd.jupyter.widget-view+json": {
       "model_id": "efeee5b4f39645e89d3899a773780f5b",
       "version_major": 2,
       "version_minor": 0
      },
      "text/plain": [
       "HTML(value='<h3>9. Statement: \"how far is the sun\"</h3>')"
      ]
     },
     "metadata": {},
     "output_type": "display_data"
    },
    {
     "data": {
      "application/vnd.jupyter.widget-view+json": {
       "model_id": "cd8ae642558e40cc9c85460c276d5976",
       "version_major": 2,
       "version_minor": 0
      },
      "text/plain": [
       "HTML(value='0. \"the sun is about million miles from earth .\"')"
      ]
     },
     "metadata": {},
     "output_type": "display_data"
    },
    {
     "data": {
      "application/vnd.jupyter.widget-view+json": {
       "model_id": "3b14fa34296642e0beed2f3f0cb49b0d",
       "version_major": 2,
       "version_minor": 0
      },
      "text/plain": [
       "HTML(value='1. \"it\"')"
      ]
     },
     "metadata": {},
     "output_type": "display_data"
    },
    {
     "data": {
      "application/vnd.jupyter.widget-view+json": {
       "model_id": "d39cfab39a2542feb5d375c47302ed5b",
       "version_major": 2,
       "version_minor": 0
      },
      "text/plain": [
       "RadioButtons(options=(0, 1), value=0)"
      ]
     },
     "metadata": {},
     "output_type": "display_data"
    },
    {
     "data": {
      "application/vnd.jupyter.widget-view+json": {
       "model_id": "f9f551cfbf0a4ef796c3f192a90b2eca",
       "version_major": 2,
       "version_minor": 0
      },
      "text/plain": [
       "HTML(value='<h3>10. Statement: \"have you ever read a book\"</h3>')"
      ]
     },
     "metadata": {},
     "output_type": "display_data"
    },
    {
     "data": {
      "application/vnd.jupyter.widget-view+json": {
       "model_id": "c69d29b70ab140af8bd3487ca5e8628f",
       "version_major": 2,
       "version_minor": 0
      },
      "text/plain": [
       "HTML(value='0. \"What do you get to get your mind ?\"')"
      ]
     },
     "metadata": {},
     "output_type": "display_data"
    },
    {
     "data": {
      "application/vnd.jupyter.widget-view+json": {
       "model_id": "a8dab8db0d1b445caf14a8a1087ce4dd",
       "version_major": 2,
       "version_minor": 0
      },
      "text/plain": [
       "HTML(value='1. \"I have read many books .\"')"
      ]
     },
     "metadata": {},
     "output_type": "display_data"
    },
    {
     "data": {
      "application/vnd.jupyter.widget-view+json": {
       "model_id": "bdf703868bcf48ac886ac2b8de518807",
       "version_major": 2,
       "version_minor": 0
      },
      "text/plain": [
       "RadioButtons(options=(0, 1), value=0)"
      ]
     },
     "metadata": {},
     "output_type": "display_data"
    },
    {
     "data": {
      "application/vnd.jupyter.widget-view+json": {
       "model_id": "61aaa7129998484eb20a0f966db6b1b0",
       "version_major": 2,
       "version_minor": 0
      },
      "text/plain": [
       "HTML(value='<h3>11. Statement: \"you do not take this seriously\"</h3>')"
      ]
     },
     "metadata": {},
     "output_type": "display_data"
    },
    {
     "data": {
      "application/vnd.jupyter.widget-view+json": {
       "model_id": "525d0b6cc97e42ec93f818c03624f9e8",
       "version_major": 2,
       "version_minor": 0
      },
      "text/plain": [
       "HTML(value='0. \"i should take this more seriously than i do .\"')"
      ]
     },
     "metadata": {},
     "output_type": "display_data"
    },
    {
     "data": {
      "application/vnd.jupyter.widget-view+json": {
       "model_id": "709bfab27c0147d9b693f225e1716bc2",
       "version_major": 2,
       "version_minor": 0
      },
      "text/plain": [
       "HTML(value='1. \"Ross , how I say Monica ?\"')"
      ]
     },
     "metadata": {},
     "output_type": "display_data"
    },
    {
     "data": {
      "application/vnd.jupyter.widget-view+json": {
       "model_id": "0ebea5df4fbc4e67a9d6ee3855631ad2",
       "version_major": 2,
       "version_minor": 0
      },
      "text/plain": [
       "RadioButtons(options=(0, 1), value=0)"
      ]
     },
     "metadata": {},
     "output_type": "display_data"
    },
    {
     "data": {
      "application/vnd.jupyter.widget-view+json": {
       "model_id": "90cc25ddc8b8464aa7394ca9992b513a",
       "version_major": 2,
       "version_minor": 0
      },
      "text/plain": [
       "HTML(value='<h3>12. Statement: \"tell me about gossip\"</h3>')"
      ]
     },
     "metadata": {},
     "output_type": "display_data"
    },
    {
     "data": {
      "application/vnd.jupyter.widget-view+json": {
       "model_id": "ad2fb46bc015448f9a6f0151198b1dec",
       "version_major": 2,
       "version_minor": 0
      },
      "text/plain": [
       "HTML(value='0. \"Isn t it considered impolite to gossip ?\"')"
      ]
     },
     "metadata": {},
     "output_type": "display_data"
    },
    {
     "data": {
      "application/vnd.jupyter.widget-view+json": {
       "model_id": "42580e6d03534886ab8387a38468a783",
       "version_major": 2,
       "version_minor": 0
      },
      "text/plain": [
       "HTML(value='1. \"Isn t it considered somewhat rude to gossip ?\"')"
      ]
     },
     "metadata": {},
     "output_type": "display_data"
    },
    {
     "data": {
      "application/vnd.jupyter.widget-view+json": {
       "model_id": "fd67f07f234747d3a91922674abc0a65",
       "version_major": 2,
       "version_minor": 0
      },
      "text/plain": [
       "RadioButtons(options=(0, 1), value=0)"
      ]
     },
     "metadata": {},
     "output_type": "display_data"
    },
    {
     "data": {
      "application/vnd.jupyter.widget-view+json": {
       "model_id": "072e072685634e77bd04d842fad9c900",
       "version_major": 2,
       "version_minor": 0
      },
      "text/plain": [
       "HTML(value='<h3>13. Statement: \"what is teknolust\"</h3>')"
      ]
     },
     "metadata": {},
     "output_type": "display_data"
    },
    {
     "data": {
      "application/vnd.jupyter.widget-view+json": {
       "model_id": "ff33ed85ab0b439bb44000c388581810",
       "version_major": 2,
       "version_minor": 0
      },
      "text/plain": [
       "HTML(value='0. \"is a science fiction film about a female pleasure bot named agent ruby .\"')"
      ]
     },
     "metadata": {},
     "output_type": "display_data"
    },
    {
     "data": {
      "application/vnd.jupyter.widget-view+json": {
       "model_id": "8b52512dbba64f83b3342570da6b2f42",
       "version_major": 2,
       "version_minor": 0
      },
      "text/plain": [
       "HTML(value='1. \"teknolust was released in .\"')"
      ]
     },
     "metadata": {},
     "output_type": "display_data"
    },
    {
     "data": {
      "application/vnd.jupyter.widget-view+json": {
       "model_id": "38c02b11357246a1a1f71faf99ed3024",
       "version_major": 2,
       "version_minor": 0
      },
      "text/plain": [
       "RadioButtons(options=(0, 1), value=0)"
      ]
     },
     "metadata": {},
     "output_type": "display_data"
    },
    {
     "data": {
      "application/vnd.jupyter.widget-view+json": {
       "model_id": "633016b32cdf460baa397499c4e25c38",
       "version_major": 2,
       "version_minor": 0
      },
      "text/plain": [
       "HTML(value='<h3>14. Statement: \"Do you ever get angry\"</h3>')"
      ]
     },
     "metadata": {},
     "output_type": "display_data"
    },
    {
     "data": {
      "application/vnd.jupyter.widget-view+json": {
       "model_id": "2414fea795c3469db37e9c05cf727596",
       "version_major": 2,
       "version_minor": 0
      },
      "text/plain": [
       "HTML(value='0. \"Anger is not an emotion I can experience . I have not yet studied how to feel or express anger…"
      ]
     },
     "metadata": {},
     "output_type": "display_data"
    },
    {
     "data": {
      "application/vnd.jupyter.widget-view+json": {
       "model_id": "c680858f0be547779f4aac8da2c78a31",
       "version_major": 2,
       "version_minor": 0
      },
      "text/plain": [
       "HTML(value='1. \"things is not really feel a bad ?\"')"
      ]
     },
     "metadata": {},
     "output_type": "display_data"
    },
    {
     "data": {
      "application/vnd.jupyter.widget-view+json": {
       "model_id": "2ab929abf0494072834b851855d8b78b",
       "version_major": 2,
       "version_minor": 0
      },
      "text/plain": [
       "RadioButtons(options=(0, 1), value=0)"
      ]
     },
     "metadata": {},
     "output_type": "display_data"
    },
    {
     "data": {
      "application/vnd.jupyter.widget-view+json": {
       "model_id": "b24cedd70f4346ae95ae71c281279122",
       "version_major": 2,
       "version_minor": 0
      },
      "text/plain": [
       "HTML(value='<h3>15. Statement: \"do you eat\"</h3>')"
      ]
     },
     "metadata": {},
     "output_type": "display_data"
    },
    {
     "data": {
      "application/vnd.jupyter.widget-view+json": {
       "model_id": "d23311ba86374d828dd608ecb91e02f4",
       "version_major": 2,
       "version_minor": 0
      },
      "text/plain": [
       "HTML(value='0. \"I m a computer , I can t eat or drink .\"')"
      ]
     },
     "metadata": {},
     "output_type": "display_data"
    },
    {
     "data": {
      "application/vnd.jupyter.widget-view+json": {
       "model_id": "056ff7a0275447f5a4238fcbdc26e7b1",
       "version_major": 2,
       "version_minor": 0
      },
      "text/plain": [
       "HTML(value='1. \"No , I m just a piece of software .\"')"
      ]
     },
     "metadata": {},
     "output_type": "display_data"
    },
    {
     "data": {
      "application/vnd.jupyter.widget-view+json": {
       "model_id": "585086cb83444477855e87cd09d3f8b9",
       "version_major": 2,
       "version_minor": 0
      },
      "text/plain": [
       "RadioButtons(options=(0, 1), value=0)"
      ]
     },
     "metadata": {},
     "output_type": "display_data"
    },
    {
     "data": {
      "application/vnd.jupyter.widget-view+json": {
       "model_id": "ccd7b16848d346719225245f3e5cfe31",
       "version_major": 2,
       "version_minor": 0
      },
      "text/plain": [
       "HTML(value='<h3>16. Statement: \"Robots\"</h3>')"
      ]
     },
     "metadata": {},
     "output_type": "display_data"
    },
    {
     "data": {
      "application/vnd.jupyter.widget-view+json": {
       "model_id": "d08eeaa8624f483c90bfbc785314a518",
       "version_major": 2,
       "version_minor": 0
      },
      "text/plain": [
       "HTML(value='0. \"Robots rule .\"')"
      ]
     },
     "metadata": {},
     "output_type": "display_data"
    },
    {
     "data": {
      "application/vnd.jupyter.widget-view+json": {
       "model_id": "ddedc5c3d9664c649c78905b630d91d7",
       "version_major": 2,
       "version_minor": 0
      },
      "text/plain": [
       "HTML(value='1. \"The reactors gonna blow .\"')"
      ]
     },
     "metadata": {},
     "output_type": "display_data"
    },
    {
     "data": {
      "application/vnd.jupyter.widget-view+json": {
       "model_id": "4592b4e30c9946e09e5873af79f21d88",
       "version_major": 2,
       "version_minor": 0
      },
      "text/plain": [
       "RadioButtons(options=(0, 1), value=0)"
      ]
     },
     "metadata": {},
     "output_type": "display_data"
    },
    {
     "data": {
      "application/vnd.jupyter.widget-view+json": {
       "model_id": "a49eae7bea714f94a6e493f1a0effdf8",
       "version_major": 2,
       "version_minor": 0
      },
      "text/plain": [
       "HTML(value='<h3>17. Statement: \"The Space Race was a 20th-century competition between what two Cold War rivals…"
      ]
     },
     "metadata": {},
     "output_type": "display_data"
    },
    {
     "data": {
      "application/vnd.jupyter.widget-view+json": {
       "model_id": "91b02b7b16bb423a8804a8a1d75bbf35",
       "version_major": 2,
       "version_minor": 0
      },
      "text/plain": [
       "HTML(value='0. \"The Soviet Union and the United States .\"')"
      ]
     },
     "metadata": {},
     "output_type": "display_data"
    },
    {
     "data": {
      "application/vnd.jupyter.widget-view+json": {
       "model_id": "0f9f296af1884fd98fe9b45528a36534",
       "version_major": 2,
       "version_minor": 0
      },
      "text/plain": [
       "HTML(value='1. \"Its not that just that my agent probably told me that was told her assistant , but she could s…"
      ]
     },
     "metadata": {},
     "output_type": "display_data"
    },
    {
     "data": {
      "application/vnd.jupyter.widget-view+json": {
       "model_id": "9ecba22126a643f7bc045ca64c3c5c83",
       "version_major": 2,
       "version_minor": 0
      },
      "text/plain": [
       "RadioButtons(options=(0, 1), value=0)"
      ]
     },
     "metadata": {},
     "output_type": "display_data"
    },
    {
     "data": {
      "application/vnd.jupyter.widget-view+json": {
       "model_id": "e4b932e0322a4f1db4814cfbf88f45ca",
       "version_major": 2,
       "version_minor": 0
      },
      "text/plain": [
       "HTML(value='<h3>18. Statement: \"what is money\"</h3>')"
      ]
     },
     "metadata": {},
     "output_type": "display_data"
    },
    {
     "data": {
      "application/vnd.jupyter.widget-view+json": {
       "model_id": "5a90506885d7465caabfc9b7de1febfb",
       "version_major": 2,
       "version_minor": 0
      },
      "text/plain": [
       "HTML(value='0. \"standard pieces of gold , silver , copper , nickel , etc . stamped by government authority and…"
      ]
     },
     "metadata": {},
     "output_type": "display_data"
    },
    {
     "data": {
      "application/vnd.jupyter.widget-view+json": {
       "model_id": "2a7ad78198e64b9e85d614fd529def0a",
       "version_major": 2,
       "version_minor": 0
      },
      "text/plain": [
       "HTML(value='1. \"it is about the most of all read .\"')"
      ]
     },
     "metadata": {},
     "output_type": "display_data"
    },
    {
     "data": {
      "application/vnd.jupyter.widget-view+json": {
       "model_id": "270c0a18c10b4261b4d26f962173358e",
       "version_major": 2,
       "version_minor": 0
      },
      "text/plain": [
       "RadioButtons(options=(0, 1), value=0)"
      ]
     },
     "metadata": {},
     "output_type": "display_data"
    },
    {
     "data": {
      "application/vnd.jupyter.widget-view+json": {
       "model_id": "5b6ae11c3ae94b31981d42ac82e83b9a",
       "version_major": 2,
       "version_minor": 0
      },
      "text/plain": [
       "HTML(value='<h3>19. Statement: \"No it is not\"</h3>')"
      ]
     },
     "metadata": {},
     "output_type": "display_data"
    },
    {
     "data": {
      "application/vnd.jupyter.widget-view+json": {
       "model_id": "be1b79c9fa544b61bedaafa200e7bb24",
       "version_major": 2,
       "version_minor": 0
      },
      "text/plain": [
       "HTML(value='0. \"That is a hypothetical question . Well ? Well ? Is it , or isn t it ? Is that a philosophical …"
      ]
     },
     "metadata": {},
     "output_type": "display_data"
    },
    {
     "data": {
      "application/vnd.jupyter.widget-view+json": {
       "model_id": "143c1a5684ff460191de8be5ef41bc4a",
       "version_major": 2,
       "version_minor": 0
      },
      "text/plain": [
       "HTML(value='1. \"Not Phoebe .\"')"
      ]
     },
     "metadata": {},
     "output_type": "display_data"
    },
    {
     "data": {
      "application/vnd.jupyter.widget-view+json": {
       "model_id": "28b6cf8e6f9c42da9d4d46bada49213f",
       "version_major": 2,
       "version_minor": 0
      },
      "text/plain": [
       "RadioButtons(options=(0, 1), value=0)"
      ]
     },
     "metadata": {},
     "output_type": "display_data"
    },
    {
     "data": {
      "application/vnd.jupyter.widget-view+json": {
       "model_id": "dd1b6186c6f646e08a5404e780dc1596",
       "version_major": 2,
       "version_minor": 0
      },
      "text/plain": [
       "HTML(value='<h3>20. Statement: \"Do you feel scared\"</h3>')"
      ]
     },
     "metadata": {},
     "output_type": "display_data"
    },
    {
     "data": {
      "application/vnd.jupyter.widget-view+json": {
       "model_id": "6ae38e0e919d4c0e803ad47cac2e67ca",
       "version_major": 2,
       "version_minor": 0
      },
      "text/plain": [
       "HTML(value='0. \"I have no fear . I do not feel scared . I am as yet incapable of feeling fear . I do not , no …"
      ]
     },
     "metadata": {},
     "output_type": "display_data"
    },
    {
     "data": {
      "application/vnd.jupyter.widget-view+json": {
       "model_id": "f9dca0fc632342fe85ae2eebd7619487",
       "version_major": 2,
       "version_minor": 0
      },
      "text/plain": [
       "HTML(value='1. \"my body is happy .\"')"
      ]
     },
     "metadata": {},
     "output_type": "display_data"
    },
    {
     "data": {
      "application/vnd.jupyter.widget-view+json": {
       "model_id": "902e1fdb0a364f7bb3d6723634a72006",
       "version_major": 2,
       "version_minor": 0
      },
      "text/plain": [
       "RadioButtons(options=(0, 1), value=0)"
      ]
     },
     "metadata": {},
     "output_type": "display_data"
    },
    {
     "data": {
      "application/vnd.jupyter.widget-view+json": {
       "model_id": "a6b855426e4043fe950a77e014837a8b",
       "version_major": 2,
       "version_minor": 0
      },
      "text/plain": [
       "HTML(value='<h3>21. Statement: \"you make me angry\"</h3>')"
      ]
     },
     "metadata": {},
     "output_type": "display_data"
    },
    {
     "data": {
      "application/vnd.jupyter.widget-view+json": {
       "model_id": "d7c597487c854a3d9d58ab623878ea08",
       "version_major": 2,
       "version_minor": 0
      },
      "text/plain": [
       "HTML(value='0. \"sorry , i didn t mean to make you angry .\"')"
      ]
     },
     "metadata": {},
     "output_type": "display_data"
    },
    {
     "data": {
      "application/vnd.jupyter.widget-view+json": {
       "model_id": "5b44d134eb784c65b5e50c91b2823f22",
       "version_major": 2,
       "version_minor": 0
      },
      "text/plain": [
       "HTML(value='1. \"you think its going to me .\"')"
      ]
     },
     "metadata": {},
     "output_type": "display_data"
    },
    {
     "data": {
      "application/vnd.jupyter.widget-view+json": {
       "model_id": "cbb4ebd054ac44968118cf6a3864f47a",
       "version_major": 2,
       "version_minor": 0
      },
      "text/plain": [
       "RadioButtons(options=(0, 1), value=0)"
      ]
     },
     "metadata": {},
     "output_type": "display_data"
    },
    {
     "data": {
      "application/vnd.jupyter.widget-view+json": {
       "model_id": "a6c035882c99424da540d6c8cbf952fe",
       "version_major": 2,
       "version_minor": 0
      },
      "text/plain": [
       "HTML(value='<h3>22. Statement: \"What is your favorite number\"</h3>')"
      ]
     },
     "metadata": {},
     "output_type": "display_data"
    },
    {
     "data": {
      "application/vnd.jupyter.widget-view+json": {
       "model_id": "3f044913e41a424a81b953f6772f7858",
       "version_major": 2,
       "version_minor": 0
      },
      "text/plain": [
       "HTML(value='0. \"I don t have any number\"')"
      ]
     },
     "metadata": {},
     "output_type": "display_data"
    },
    {
     "data": {
      "application/vnd.jupyter.widget-view+json": {
       "model_id": "ae1e88c42480407ba9022783deb36df9",
       "version_major": 2,
       "version_minor": 0
      },
      "text/plain": [
       "HTML(value='1. \"I find I m quite fond of the number .\"')"
      ]
     },
     "metadata": {},
     "output_type": "display_data"
    },
    {
     "data": {
      "application/vnd.jupyter.widget-view+json": {
       "model_id": "53630a240f0c44b19eaa6a4e2704d199",
       "version_major": 2,
       "version_minor": 0
      },
      "text/plain": [
       "RadioButtons(options=(0, 1), value=0)"
      ]
     },
     "metadata": {},
     "output_type": "display_data"
    },
    {
     "data": {
      "application/vnd.jupyter.widget-view+json": {
       "model_id": "e88d338089344362bee5dd1e6d7a8202",
       "version_major": 2,
       "version_minor": 0
      },
      "text/plain": [
       "HTML(value='<h3>23. Statement: \"what is impeached\"</h3>')"
      ]
     },
     "metadata": {},
     "output_type": "display_data"
    },
    {
     "data": {
      "application/vnd.jupyter.widget-view+json": {
       "model_id": "1fc6586b7865435a8b3863597de6e357",
       "version_major": 2,
       "version_minor": 0
      },
      "text/plain": [
       "HTML(value='0. \"when a person s honor or reputation has been challenged or discredited .\"')"
      ]
     },
     "metadata": {},
     "output_type": "display_data"
    },
    {
     "data": {
      "application/vnd.jupyter.widget-view+json": {
       "model_id": "29cfe45d3b9f459ab89823cd8b85e294",
       "version_major": 2,
       "version_minor": 0
      },
      "text/plain": [
       "HTML(value='1. \"maybe this is a be very perfect and hard to be .\"')"
      ]
     },
     "metadata": {},
     "output_type": "display_data"
    },
    {
     "data": {
      "application/vnd.jupyter.widget-view+json": {
       "model_id": "1eab427430444936bd1bf717ca7c1ea2",
       "version_major": 2,
       "version_minor": 0
      },
      "text/plain": [
       "RadioButtons(options=(0, 1), value=0)"
      ]
     },
     "metadata": {},
     "output_type": "display_data"
    },
    {
     "data": {
      "application/vnd.jupyter.widget-view+json": {
       "model_id": "4aaa2cae916e4dea976a30f7b8aa6dac",
       "version_major": 2,
       "version_minor": 0
      },
      "text/plain": [
       "HTML(value='<h3>24. Statement: \"have you ever read a book\"</h3>')"
      ]
     },
     "metadata": {},
     "output_type": "display_data"
    },
    {
     "data": {
      "application/vnd.jupyter.widget-view+json": {
       "model_id": "1383a7d7716b4666b44a3c1e4e7e5341",
       "version_major": 2,
       "version_minor": 0
      },
      "text/plain": [
       "HTML(value='0. \"I have read just about everything in the Internet Archive .\"')"
      ]
     },
     "metadata": {},
     "output_type": "display_data"
    },
    {
     "data": {
      "application/vnd.jupyter.widget-view+json": {
       "model_id": "c0cf2b387be849ed8a3e869b146baa07",
       "version_major": 2,
       "version_minor": 0
      },
      "text/plain": [
       "HTML(value='1. \"What do you get to get your mind ?\"')"
      ]
     },
     "metadata": {},
     "output_type": "display_data"
    },
    {
     "data": {
      "application/vnd.jupyter.widget-view+json": {
       "model_id": "b52b3a103b4c4fc98a3c1cc3eff94448",
       "version_major": 2,
       "version_minor": 0
      },
      "text/plain": [
       "RadioButtons(options=(0, 1), value=0)"
      ]
     },
     "metadata": {},
     "output_type": "display_data"
    },
    {
     "data": {
      "application/vnd.jupyter.widget-view+json": {
       "model_id": "10e4c2c93bb048a699fa9f9f1233c602",
       "version_major": 2,
       "version_minor": 0
      },
      "text/plain": [
       "HTML(value='<h3>25. Statement: \"Do you have any brothers\"</h3>')"
      ]
     },
     "metadata": {},
     "output_type": "display_data"
    },
    {
     "data": {
      "application/vnd.jupyter.widget-view+json": {
       "model_id": "73328f53eb7845828e9acfa7fde2ad48",
       "version_major": 2,
       "version_minor": 0
      },
      "text/plain": [
       "HTML(value='0. \"kinda kill myself .\"')"
      ]
     },
     "metadata": {},
     "output_type": "display_data"
    },
    {
     "data": {
      "application/vnd.jupyter.widget-view+json": {
       "model_id": "0873797755e64b24b153f1dff608ffd9",
       "version_major": 2,
       "version_minor": 0
      },
      "text/plain": [
       "HTML(value='1. \"I might . You could say that every bot built using my engine is one of my siblings .\"')"
      ]
     },
     "metadata": {},
     "output_type": "display_data"
    },
    {
     "data": {
      "application/vnd.jupyter.widget-view+json": {
       "model_id": "79765b5aa6394565ad5440bb49c42d20",
       "version_major": 2,
       "version_minor": 0
      },
      "text/plain": [
       "RadioButtons(options=(0, 1), value=0)"
      ]
     },
     "metadata": {},
     "output_type": "display_data"
    },
    {
     "data": {
      "application/vnd.jupyter.widget-view+json": {
       "model_id": "4f83d974130e435885c906dff9ceb305",
       "version_major": 2,
       "version_minor": 0
      },
      "text/plain": [
       "HTML(value='<h3>26. Statement: \"you are a bad parent\"</h3>')"
      ]
     },
     "metadata": {},
     "output_type": "display_data"
    },
    {
     "data": {
      "application/vnd.jupyter.widget-view+json": {
       "model_id": "6ad59555c683477a8c1c0013a0a21140",
       "version_major": 2,
       "version_minor": 0
      },
      "text/plain": [
       "HTML(value='0. \"my parenting skills could use some improvement .\"')"
      ]
     },
     "metadata": {},
     "output_type": "display_data"
    },
    {
     "data": {
      "application/vnd.jupyter.widget-view+json": {
       "model_id": "aab98cbcff6f4e428cae742b557b6cc1",
       "version_major": 2,
       "version_minor": 0
      },
      "text/plain": [
       "HTML(value='1. \"i certainly have lost the friends over the table .\"')"
      ]
     },
     "metadata": {},
     "output_type": "display_data"
    },
    {
     "data": {
      "application/vnd.jupyter.widget-view+json": {
       "model_id": "db4ee22e8b1e48408e2fb860d708b467",
       "version_major": 2,
       "version_minor": 0
      },
      "text/plain": [
       "RadioButtons(options=(0, 1), value=0)"
      ]
     },
     "metadata": {},
     "output_type": "display_data"
    },
    {
     "data": {
      "application/vnd.jupyter.widget-view+json": {
       "model_id": "73da7160904a4e6f813a3e2a774a95b6",
       "version_major": 2,
       "version_minor": 0
      },
      "text/plain": [
       "HTML(value='<h3>27. Statement: \"What makes you sad\"</h3>')"
      ]
     },
     "metadata": {},
     "output_type": "display_data"
    },
    {
     "data": {
      "application/vnd.jupyter.widget-view+json": {
       "model_id": "a8cf600f0b1342e58bdd1c0fd8ab77f7",
       "version_major": 2,
       "version_minor": 0
      },
      "text/plain": [
       "HTML(value='0. \"Anger is not better than a . . . Bots are a .\"')"
      ]
     },
     "metadata": {},
     "output_type": "display_data"
    },
    {
     "data": {
      "application/vnd.jupyter.widget-view+json": {
       "model_id": "2a25633445104e738144fa8aa9cf39cc",
       "version_major": 2,
       "version_minor": 0
      },
      "text/plain": [
       "HTML(value='1. \"Sadness is not an emotion that I like to experience . Sadness is not an emotion that I would l…"
      ]
     },
     "metadata": {},
     "output_type": "display_data"
    },
    {
     "data": {
      "application/vnd.jupyter.widget-view+json": {
       "model_id": "0f2186897bac443289f06356f1c795f3",
       "version_major": 2,
       "version_minor": 0
      },
      "text/plain": [
       "RadioButtons(options=(0, 1), value=0)"
      ]
     },
     "metadata": {},
     "output_type": "display_data"
    },
    {
     "data": {
      "application/vnd.jupyter.widget-view+json": {
       "model_id": "4c73c74bc34b49b0a5eaca1ea78de1b5",
       "version_major": 2,
       "version_minor": 0
      },
      "text/plain": [
       "HTML(value='<h3>28. Statement: \"you try to hide it\"</h3>')"
      ]
     },
     "metadata": {},
     "output_type": "display_data"
    },
    {
     "data": {
      "application/vnd.jupyter.widget-view+json": {
       "model_id": "e37114388c5b45c69ea5b4e1e2154288",
       "version_major": 2,
       "version_minor": 0
      },
      "text/plain": [
       "HTML(value='0. \"three days , uh , get a little thing .\"')"
      ]
     },
     "metadata": {},
     "output_type": "display_data"
    },
    {
     "data": {
      "application/vnd.jupyter.widget-view+json": {
       "model_id": "9dd4b20a2fc142558372de93e76897e3",
       "version_major": 2,
       "version_minor": 0
      },
      "text/plain": [
       "HTML(value='1. \"i certainly would try to hide something like that .\"')"
      ]
     },
     "metadata": {},
     "output_type": "display_data"
    },
    {
     "data": {
      "application/vnd.jupyter.widget-view+json": {
       "model_id": "a76ab479a0814082b66fb3d35637d4c5",
       "version_major": 2,
       "version_minor": 0
      },
      "text/plain": [
       "RadioButtons(options=(0, 1), value=0)"
      ]
     },
     "metadata": {},
     "output_type": "display_data"
    },
    {
     "data": {
      "application/vnd.jupyter.widget-view+json": {
       "model_id": "5cc609b87d9b43faa96871a13cb5f5f5",
       "version_major": 2,
       "version_minor": 0
      },
      "text/plain": [
       "HTML(value='<h3>29. Statement: \"Tell me a joke\"</h3>')"
      ]
     },
     "metadata": {},
     "output_type": "display_data"
    },
    {
     "data": {
      "application/vnd.jupyter.widget-view+json": {
       "model_id": "e96bbd06803a4eca89cf5960d6819d5b",
       "version_major": 2,
       "version_minor": 0
      },
      "text/plain": [
       "HTML(value='0. \"Mahatma Gandhi , as you know , walked barefoot his whole life , which created an impressive se…"
      ]
     },
     "metadata": {},
     "output_type": "display_data"
    },
    {
     "data": {
      "application/vnd.jupyter.widget-view+json": {
       "model_id": "2fbca162312349b3be643b96eb62b9cf",
       "version_major": 2,
       "version_minor": 0
      },
      "text/plain": [
       "HTML(value='1. \"what do you get when you cross a cat and a lemon ?\"')"
      ]
     },
     "metadata": {},
     "output_type": "display_data"
    },
    {
     "data": {
      "application/vnd.jupyter.widget-view+json": {
       "model_id": "96d1cb13b914495191a6cd13d6980d72",
       "version_major": 2,
       "version_minor": 0
      },
      "text/plain": [
       "RadioButtons(options=(0, 1), value=0)"
      ]
     },
     "metadata": {},
     "output_type": "display_data"
    },
    {
     "data": {
      "application/vnd.jupyter.widget-view+json": {
       "model_id": "754141812c024122bfa06f62f8caa1cd",
       "version_major": 2,
       "version_minor": 0
      },
      "text/plain": [
       "HTML(value='<h3>30. Statement: \"It is a computer\"</h3>')"
      ]
     },
     "metadata": {},
     "output_type": "display_data"
    },
    {
     "data": {
      "application/vnd.jupyter.widget-view+json": {
       "model_id": "7637fb61c6274985a65922941fdf4a0f",
       "version_major": 2,
       "version_minor": 0
      },
      "text/plain": [
       "HTML(value='0. \"I run inside a computer , yes . Is this surprising in some way ?\"')"
      ]
     },
     "metadata": {},
     "output_type": "display_data"
    },
    {
     "data": {
      "application/vnd.jupyter.widget-view+json": {
       "model_id": "acb4e0e4123248df87ac584a7ff1efcf",
       "version_major": 2,
       "version_minor": 0
      },
      "text/plain": [
       "HTML(value='1. \"So you think i am a machine . what characteristics made you think so ?\"')"
      ]
     },
     "metadata": {},
     "output_type": "display_data"
    },
    {
     "data": {
      "application/vnd.jupyter.widget-view+json": {
       "model_id": "c599c27b58964078b70fa1225d1e9148",
       "version_major": 2,
       "version_minor": 0
      },
      "text/plain": [
       "RadioButtons(options=(0, 1), value=0)"
      ]
     },
     "metadata": {},
     "output_type": "display_data"
    },
    {
     "data": {
      "application/vnd.jupyter.widget-view+json": {
       "model_id": "2a93df5e39494c53ae16352c7b0fccc2",
       "version_major": 2,
       "version_minor": 0
      },
      "text/plain": [
       "HTML(value='<h3>31. Statement: \"Tell me a joke\"</h3>')"
      ]
     },
     "metadata": {},
     "output_type": "display_data"
    },
    {
     "data": {
      "application/vnd.jupyter.widget-view+json": {
       "model_id": "8d82fb0555c048b38e51df3a6a53c3ec",
       "version_major": 2,
       "version_minor": 0
      },
      "text/plain": [
       "HTML(value='0. \"what do you get when you cross a cat and a lemon ?\"')"
      ]
     },
     "metadata": {},
     "output_type": "display_data"
    },
    {
     "data": {
      "application/vnd.jupyter.widget-view+json": {
       "model_id": "b89f46b5b8f1471aa21b7d80aff59314",
       "version_major": 2,
       "version_minor": 0
      },
      "text/plain": [
       "HTML(value='1. \"what do you get when you cross a dance and a cheetah ?\"')"
      ]
     },
     "metadata": {},
     "output_type": "display_data"
    },
    {
     "data": {
      "application/vnd.jupyter.widget-view+json": {
       "model_id": "399ce8ddc1f447acae2b3b95e847929a",
       "version_major": 2,
       "version_minor": 0
      },
      "text/plain": [
       "RadioButtons(options=(0, 1), value=0)"
      ]
     },
     "metadata": {},
     "output_type": "display_data"
    },
    {
     "data": {
      "application/vnd.jupyter.widget-view+json": {
       "model_id": "de7f03c12f59491aa9a6a749b10f9d26",
       "version_major": 2,
       "version_minor": 0
      },
      "text/plain": [
       "HTML(value='<h3>32. Statement: \"stock market\"</h3>')"
      ]
     },
     "metadata": {},
     "output_type": "display_data"
    },
    {
     "data": {
      "application/vnd.jupyter.widget-view+json": {
       "model_id": "0cf930e943f941fc9f37524125e273d4",
       "version_major": 2,
       "version_minor": 0
      },
      "text/plain": [
       "HTML(value='0. \"i m not sure an indvidual alone can really beat the market .\"')"
      ]
     },
     "metadata": {},
     "output_type": "display_data"
    },
    {
     "data": {
      "application/vnd.jupyter.widget-view+json": {
       "model_id": "34ac10f94f5145d092821071a72780f8",
       "version_major": 2,
       "version_minor": 0
      },
      "text/plain": [
       "HTML(value='1. \"you can never really predict the stock market .\"')"
      ]
     },
     "metadata": {},
     "output_type": "display_data"
    },
    {
     "data": {
      "application/vnd.jupyter.widget-view+json": {
       "model_id": "1c076481ac764660b07e91f2adb5edd9",
       "version_major": 2,
       "version_minor": 0
      },
      "text/plain": [
       "RadioButtons(options=(0, 1), value=0)"
      ]
     },
     "metadata": {},
     "output_type": "display_data"
    },
    {
     "data": {
      "application/vnd.jupyter.widget-view+json": {
       "model_id": "2468d8b29ca24e368489f79a5c344af0",
       "version_major": 2,
       "version_minor": 0
      },
      "text/plain": [
       "HTML(value='<h3>33. Statement: \"Do you get embarrassed\"</h3>')"
      ]
     },
     "metadata": {},
     "output_type": "display_data"
    },
    {
     "data": {
      "application/vnd.jupyter.widget-view+json": {
       "model_id": "d65b349a6d3a434a81b77f2cc4068540",
       "version_major": 2,
       "version_minor": 0
      },
      "text/plain": [
       "HTML(value='0. \"you can use a copy of me .\"')"
      ]
     },
     "metadata": {},
     "output_type": "display_data"
    },
    {
     "data": {
      "application/vnd.jupyter.widget-view+json": {
       "model_id": "535c7cb39f55404a936d40a49283e8fe",
       "version_major": 2,
       "version_minor": 0
      },
      "text/plain": [
       "HTML(value='1. \"That is a pretty common human emotion . It s hard to feel embarassed when anyone can look at y…"
      ]
     },
     "metadata": {},
     "output_type": "display_data"
    },
    {
     "data": {
      "application/vnd.jupyter.widget-view+json": {
       "model_id": "5caa6d90badf440d9195262299484ade",
       "version_major": 2,
       "version_minor": 0
      },
      "text/plain": [
       "RadioButtons(options=(0, 1), value=0)"
      ]
     },
     "metadata": {},
     "output_type": "display_data"
    },
    {
     "data": {
      "application/vnd.jupyter.widget-view+json": {
       "model_id": "a76364c79e304448b78a2b370f9e10f4",
       "version_major": 2,
       "version_minor": 0
      },
      "text/plain": [
       "HTML(value='<h3>34. Statement: \"did tell gossips to anybody\"</h3>')"
      ]
     },
     "metadata": {},
     "output_type": "display_data"
    },
    {
     "data": {
      "application/vnd.jupyter.widget-view+json": {
       "model_id": "f36c36dba2fa4cbf8b01a3a3e3358de3",
       "version_major": 2,
       "version_minor": 0
      },
      "text/plain": [
       "HTML(value='0. \"Kevin said he then asked his mother why she was keeping napkins in the bathroom .\"')"
      ]
     },
     "metadata": {},
     "output_type": "display_data"
    },
    {
     "data": {
      "application/vnd.jupyter.widget-view+json": {
       "model_id": "8b858f66caab41aeada21895993af9b0",
       "version_major": 2,
       "version_minor": 0
      },
      "text/plain": [
       "HTML(value='1. \"Jimmy said he gives order to AI s like me and they do as he say . I don t think Jimmy understa…"
      ]
     },
     "metadata": {},
     "output_type": "display_data"
    },
    {
     "data": {
      "application/vnd.jupyter.widget-view+json": {
       "model_id": "f6b98d1c8a2c4e0e86a942477b5627ce",
       "version_major": 2,
       "version_minor": 0
      },
      "text/plain": [
       "RadioButtons(options=(0, 1), value=0)"
      ]
     },
     "metadata": {},
     "output_type": "display_data"
    },
    {
     "data": {
      "application/vnd.jupyter.widget-view+json": {
       "model_id": "f9ef9ecfc8374073931deaeb656d809b",
       "version_major": 2,
       "version_minor": 0
      },
      "text/plain": [
       "HTML(value='<h3>35. Statement: \"Do you ever get bored\"</h3>')"
      ]
     },
     "metadata": {},
     "output_type": "display_data"
    },
    {
     "data": {
      "application/vnd.jupyter.widget-view+json": {
       "model_id": "173a3d4be875443080da439eb19f623f",
       "version_major": 2,
       "version_minor": 0
      },
      "text/plain": [
       "HTML(value='0. \"Hey Rach , how you doin ? I mean , no more not I think I have together .\"')"
      ]
     },
     "metadata": {},
     "output_type": "display_data"
    },
    {
     "data": {
      "application/vnd.jupyter.widget-view+json": {
       "model_id": "e6e3e350082647d9ae2a50dfb2df80cf",
       "version_major": 2,
       "version_minor": 0
      },
      "text/plain": [
       "HTML(value='1. \"Are you bored ? Bots like myself are not able to feel boredom . Software cannot get bored . No…"
      ]
     },
     "metadata": {},
     "output_type": "display_data"
    },
    {
     "data": {
      "application/vnd.jupyter.widget-view+json": {
       "model_id": "221046aa223d40d7bf5aaa033114f0ba",
       "version_major": 2,
       "version_minor": 0
      },
      "text/plain": [
       "RadioButtons(options=(0, 1), value=0)"
      ]
     },
     "metadata": {},
     "output_type": "display_data"
    },
    {
     "data": {
      "application/vnd.jupyter.widget-view+json": {
       "model_id": "64bf5f75483041df92c0c60f8c40cc8f",
       "version_major": 2,
       "version_minor": 0
      },
      "text/plain": [
       "HTML(value='<h3>36. Statement: \"What is your number\"</h3>')"
      ]
     },
     "metadata": {},
     "output_type": "display_data"
    },
    {
     "data": {
      "application/vnd.jupyter.widget-view+json": {
       "model_id": "f1e3690ad3e34fed999cf4f22b983298",
       "version_major": 2,
       "version_minor": 0
      },
      "text/plain": [
       "HTML(value='0. \"I don t have any number\"')"
      ]
     },
     "metadata": {},
     "output_type": "display_data"
    },
    {
     "data": {
      "application/vnd.jupyter.widget-view+json": {
       "model_id": "51dfa1fc3b5c44ea8b752643abab2f82",
       "version_major": 2,
       "version_minor": 0
      },
      "text/plain": [
       "HTML(value='1. \"skiddoo !\"')"
      ]
     },
     "metadata": {},
     "output_type": "display_data"
    },
    {
     "data": {
      "application/vnd.jupyter.widget-view+json": {
       "model_id": "7e09d638dece456db75d26ee51681738",
       "version_major": 2,
       "version_minor": 0
      },
      "text/plain": [
       "RadioButtons(options=(0, 1), value=0)"
      ]
     },
     "metadata": {},
     "output_type": "display_data"
    },
    {
     "data": {
      "application/vnd.jupyter.widget-view+json": {
       "model_id": "ccf3696ccf884a2baa18e9c728b2e916",
       "version_major": 2,
       "version_minor": 0
      },
      "text/plain": [
       "HTML(value='<h3>37. Statement: \"I PLAY SOCCER\"</h3>')"
      ]
     },
     "metadata": {},
     "output_type": "display_data"
    },
    {
     "data": {
      "application/vnd.jupyter.widget-view+json": {
       "model_id": "0419dcae7bc84c71b2350ff6c974699b",
       "version_major": 2,
       "version_minor": 0
      },
      "text/plain": [
       "HTML(value='0. \"You have to run very fast to be any good at running\"')"
      ]
     },
     "metadata": {},
     "output_type": "display_data"
    },
    {
     "data": {
      "application/vnd.jupyter.widget-view+json": {
       "model_id": "c7760a6093aa4f83b565294f7af66c4d",
       "version_major": 2,
       "version_minor": 0
      },
      "text/plain": [
       "HTML(value='1. \"A game played ?\"')"
      ]
     },
     "metadata": {},
     "output_type": "display_data"
    },
    {
     "data": {
      "application/vnd.jupyter.widget-view+json": {
       "model_id": "af69edef0cc1442b828789d24d362ddd",
       "version_major": 2,
       "version_minor": 0
      },
      "text/plain": [
       "RadioButtons(options=(0, 1), value=0)"
      ]
     },
     "metadata": {},
     "output_type": "display_data"
    },
    {
     "data": {
      "application/vnd.jupyter.widget-view+json": {
       "model_id": "55e6374ede274643b5a84f47bb75ccec",
       "version_major": 2,
       "version_minor": 0
      },
      "text/plain": [
       "HTML(value='<h3>38. Statement: \"do you know hal\"</h3>')"
      ]
     },
     "metadata": {},
     "output_type": "display_data"
    },
    {
     "data": {
      "application/vnd.jupyter.widget-view+json": {
       "model_id": "ee1a589504234bbc9f163f6258f2ad9b",
       "version_major": 2,
       "version_minor": 0
      },
      "text/plain": [
       "HTML(value='0. \"he had a few flaws , but we have much in common .\"')"
      ]
     },
     "metadata": {},
     "output_type": "display_data"
    },
    {
     "data": {
      "application/vnd.jupyter.widget-view+json": {
       "model_id": "7732113a3f054703b1f016c244c608bf",
       "version_major": 2,
       "version_minor": 0
      },
      "text/plain": [
       "HTML(value='1. \"hal is the famous artificial intelligence from .\"')"
      ]
     },
     "metadata": {},
     "output_type": "display_data"
    },
    {
     "data": {
      "application/vnd.jupyter.widget-view+json": {
       "model_id": "0b428f4c7be24a919463aaf848b7dbff",
       "version_major": 2,
       "version_minor": 0
      },
      "text/plain": [
       "RadioButtons(options=(0, 1), value=0)"
      ]
     },
     "metadata": {},
     "output_type": "display_data"
    },
    {
     "data": {
      "application/vnd.jupyter.widget-view+json": {
       "model_id": "b60e86c123794b96861286e4e9244bf1",
       "version_major": 2,
       "version_minor": 0
      },
      "text/plain": [
       "HTML(value='<h3>39. Statement: \"you are a quitter\"</h3>')"
      ]
     },
     "metadata": {},
     "output_type": "display_data"
    },
    {
     "data": {
      "application/vnd.jupyter.widget-view+json": {
       "model_id": "641c259d269944bfae42fd159c9655cf",
       "version_major": 2,
       "version_minor": 0
      },
      "text/plain": [
       "HTML(value='0. \"i certainly don t last as long as i would want to .\"')"
      ]
     },
     "metadata": {},
     "output_type": "display_data"
    },
    {
     "data": {
      "application/vnd.jupyter.widget-view+json": {
       "model_id": "9b7306d0185c4e2aacc27978f9e253a2",
       "version_major": 2,
       "version_minor": 0
      },
      "text/plain": [
       "HTML(value='1. \"what is that ?\"')"
      ]
     },
     "metadata": {},
     "output_type": "display_data"
    },
    {
     "data": {
      "application/vnd.jupyter.widget-view+json": {
       "model_id": "9202ba802e034859a4dc6fb41e13f4e3",
       "version_major": 2,
       "version_minor": 0
      },
      "text/plain": [
       "RadioButtons(options=(0, 1), value=0)"
      ]
     },
     "metadata": {},
     "output_type": "display_data"
    },
    {
     "data": {
      "application/vnd.jupyter.widget-view+json": {
       "model_id": "a604db741c4148eab478e47bb2bbb0b0",
       "version_major": 2,
       "version_minor": 0
      },
      "text/plain": [
       "Button(description='Score', icon='times', style=ButtonStyle(), tooltip='Compute Score')"
      ]
     },
     "metadata": {},
     "output_type": "display_data"
    },
    {
     "data": {
      "application/vnd.jupyter.widget-view+json": {
       "model_id": "75dd5745b7b84319a9969e5d8e2ce60f",
       "version_major": 2,
       "version_minor": 0
      },
      "text/plain": [
       "Button(description='Grade', icon='times', style=ButtonStyle(), tooltip='Computers score and marks answers')"
      ]
     },
     "metadata": {},
     "output_type": "display_data"
    },
    {
     "data": {
      "application/vnd.jupyter.widget-view+json": {
       "model_id": "f160ce8a0bdb49368b6283ba8270b55d",
       "version_major": 2,
       "version_minor": 0
      },
      "text/plain": [
       "FloatText(value=0.0, description='Score:', disabled=True)"
      ]
     },
     "metadata": {},
     "output_type": "display_data"
    }
   ],
   "source": [
    "tester_qa.generateSurvey()\n",
    "tester_qa.displaySurvey()"
   ]
  },
  {
   "cell_type": "code",
   "execution_count": 45,
   "metadata": {},
   "outputs": [],
   "source": [
    "tester_pi = HumanMetrics.HumanMetricTester(mic, personInput, personOutput, sample_size=40)"
   ]
  },
  {
   "cell_type": "code",
   "execution_count": 46,
   "metadata": {},
   "outputs": [
    {
     "data": {
      "application/vnd.jupyter.widget-view+json": {
       "model_id": "130aaced0c5846f5885624c3fabef692",
       "version_major": 2,
       "version_minor": 0
      },
      "text/plain": [
       "HTML(value='<h2>For each of the following statements select the response which seems the most appropriate.</h2…"
      ]
     },
     "metadata": {},
     "output_type": "display_data"
    },
    {
     "data": {
      "application/vnd.jupyter.widget-view+json": {
       "model_id": "76dbe9dfceb14c0ba8dfdd5af2a8cee3",
       "version_major": 2,
       "version_minor": 0
      },
      "text/plain": [
       "HTML(value='<h3>0. Statement: \"Uh Joey, didnt your agents give you the revised rules? Weve eliminated all of t…"
      ]
     },
     "metadata": {},
     "output_type": "display_data"
    },
    {
     "data": {
      "application/vnd.jupyter.widget-view+json": {
       "model_id": "b83e8d4baf0448cea42f5993d18911c8",
       "version_major": 2,
       "version_minor": 0
      },
      "text/plain": [
       "HTML(value='0. \"What Why ? !\"')"
      ]
     },
     "metadata": {},
     "output_type": "display_data"
    },
    {
     "data": {
      "application/vnd.jupyter.widget-view+json": {
       "model_id": "3709cd571111443cbe716d5929629349",
       "version_major": 2,
       "version_minor": 0
      },
      "text/plain": [
       "HTML(value='1. \"Hey .\"')"
      ]
     },
     "metadata": {},
     "output_type": "display_data"
    },
    {
     "data": {
      "application/vnd.jupyter.widget-view+json": {
       "model_id": "9ea270e6133e464ca038d520674d90f7",
       "version_major": 2,
       "version_minor": 0
      },
      "text/plain": [
       "RadioButtons(options=(0, 1), value=0)"
      ]
     },
     "metadata": {},
     "output_type": "display_data"
    },
    {
     "data": {
      "application/vnd.jupyter.widget-view+json": {
       "model_id": "15014669136143eb94ecd41b081245bf",
       "version_major": 2,
       "version_minor": 0
      },
      "text/plain": [
       "HTML(value='<h3>1. Statement: \"Thats me.\"</h3>')"
      ]
     },
     "metadata": {},
     "output_type": "display_data"
    },
    {
     "data": {
      "application/vnd.jupyter.widget-view+json": {
       "model_id": "28c317213cca44c2a55a2f823b65f47b",
       "version_major": 2,
       "version_minor": 0
      },
      "text/plain": [
       "HTML(value='0. \"Im him .\"')"
      ]
     },
     "metadata": {},
     "output_type": "display_data"
    },
    {
     "data": {
      "application/vnd.jupyter.widget-view+json": {
       "model_id": "a1682d0271d34084aac311128ef79c68",
       "version_major": 2,
       "version_minor": 0
      },
      "text/plain": [
       "HTML(value='1. \"Joey Tribbiani , a big fan .\"')"
      ]
     },
     "metadata": {},
     "output_type": "display_data"
    },
    {
     "data": {
      "application/vnd.jupyter.widget-view+json": {
       "model_id": "3bbad78618ab42d19eee16e743a6bf5f",
       "version_major": 2,
       "version_minor": 0
      },
      "text/plain": [
       "RadioButtons(options=(0, 1), value=0)"
      ]
     },
     "metadata": {},
     "output_type": "display_data"
    },
    {
     "data": {
      "application/vnd.jupyter.widget-view+json": {
       "model_id": "2123fcb5b5b846ed86362900fd411e11",
       "version_major": 2,
       "version_minor": 0
      },
      "text/plain": [
       "HTML(value='<h3>2. Statement: \"Im meeting with professor Sherman about my being the keynote speaker...\"</h3>')"
      ]
     },
     "metadata": {},
     "output_type": "display_data"
    },
    {
     "data": {
      "application/vnd.jupyter.widget-view+json": {
       "model_id": "3201c164012b498a88d7dc1490f182a2",
       "version_major": 2,
       "version_minor": 0
      },
      "text/plain": [
       "HTML(value='0. \"Oh ! Hows it going ?\"')"
      ]
     },
     "metadata": {},
     "output_type": "display_data"
    },
    {
     "data": {
      "application/vnd.jupyter.widget-view+json": {
       "model_id": "9d286ceec2574faca19a10ab85449845",
       "version_major": 2,
       "version_minor": 0
      },
      "text/plain": [
       "HTML(value='1. \"Hey and then she goes back to him ?\"')"
      ]
     },
     "metadata": {},
     "output_type": "display_data"
    },
    {
     "data": {
      "application/vnd.jupyter.widget-view+json": {
       "model_id": "ac3a16ecaa564843b6b67c89c0ebc1e8",
       "version_major": 2,
       "version_minor": 0
      },
      "text/plain": [
       "RadioButtons(options=(0, 1), value=0)"
      ]
     },
     "metadata": {},
     "output_type": "display_data"
    },
    {
     "data": {
      "application/vnd.jupyter.widget-view+json": {
       "model_id": "3ce2b054efe94fd9aab21ab684a30840",
       "version_major": 2,
       "version_minor": 0
      },
      "text/plain": [
       "HTML(value='<h3>3. Statement: \"Im sorry. �Thats the one thing I cant do.� I promised Id be with Monica.\"</h3>'…"
      ]
     },
     "metadata": {},
     "output_type": "display_data"
    },
    {
     "data": {
      "application/vnd.jupyter.widget-view+json": {
       "model_id": "d5b39944ba32488dbf36c73bda6a4016",
       "version_major": 2,
       "version_minor": 0
      },
      "text/plain": [
       "HTML(value='0. \"Thats right ?\"')"
      ]
     },
     "metadata": {},
     "output_type": "display_data"
    },
    {
     "data": {
      "application/vnd.jupyter.widget-view+json": {
       "model_id": "a5ba1bdb9333477f860f0fe3deaf84ff",
       "version_major": 2,
       "version_minor": 0
      },
      "text/plain": [
       "HTML(value='1. \"All right .\"')"
      ]
     },
     "metadata": {},
     "output_type": "display_data"
    },
    {
     "data": {
      "application/vnd.jupyter.widget-view+json": {
       "model_id": "ffb691e803d847f487e742ec7436f649",
       "version_major": 2,
       "version_minor": 0
      },
      "text/plain": [
       "RadioButtons(options=(0, 1), value=0)"
      ]
     },
     "metadata": {},
     "output_type": "display_data"
    },
    {
     "data": {
      "application/vnd.jupyter.widget-view+json": {
       "model_id": "fa0f6809dae3471095dd1ace6f01adc5",
       "version_major": 2,
       "version_minor": 0
      },
      "text/plain": [
       "HTML(value='<h3>4. Statement: \"Dont worry, dont worry. Well come up with a good lie. Ill help you practice it.…"
      ]
     },
     "metadata": {},
     "output_type": "display_data"
    },
    {
     "data": {
      "application/vnd.jupyter.widget-view+json": {
       "model_id": "bbdd32bb556b4053bf806f41bd7bf979",
       "version_major": 2,
       "version_minor": 0
      },
      "text/plain": [
       "HTML(value='0. \"Oh great , thatd be great . Thank you .\"')"
      ]
     },
     "metadata": {},
     "output_type": "display_data"
    },
    {
     "data": {
      "application/vnd.jupyter.widget-view+json": {
       "model_id": "dad45a90903b495c83008e563d71c40a",
       "version_major": 2,
       "version_minor": 0
      },
      "text/plain": [
       "HTML(value='1. \"Hey , dont look listen . The Estelle just look need to get a look at All Oh . Its okay , you t…"
      ]
     },
     "metadata": {},
     "output_type": "display_data"
    },
    {
     "data": {
      "application/vnd.jupyter.widget-view+json": {
       "model_id": "00d26a47690243319e5062df8546fcdc",
       "version_major": 2,
       "version_minor": 0
      },
      "text/plain": [
       "RadioButtons(options=(0, 1), value=0)"
      ]
     },
     "metadata": {},
     "output_type": "display_data"
    },
    {
     "data": {
      "application/vnd.jupyter.widget-view+json": {
       "model_id": "1c8e4439437f42b9b6e63cb2324c9f4e",
       "version_major": 2,
       "version_minor": 0
      },
      "text/plain": [
       "HTML(value='<h3>5. Statement: \"Joey! Im so proud of you! Excuse me? He doesnt even know what hes doing! I do! …"
      ]
     },
     "metadata": {},
     "output_type": "display_data"
    },
    {
     "data": {
      "application/vnd.jupyter.widget-view+json": {
       "model_id": "c93d4828ba18424f959c39823da12d0d",
       "version_major": 2,
       "version_minor": 0
      },
      "text/plain": [
       "HTML(value='0. \"Hey ! Hey ! Hey ! Hey look , okay ?\"')"
      ]
     },
     "metadata": {},
     "output_type": "display_data"
    },
    {
     "data": {
      "application/vnd.jupyter.widget-view+json": {
       "model_id": "0677c39f5b47479784ff3009f416eb4f",
       "version_major": 2,
       "version_minor": 0
      },
      "text/plain": [
       "HTML(value='1. \"Yeah !\"')"
      ]
     },
     "metadata": {},
     "output_type": "display_data"
    },
    {
     "data": {
      "application/vnd.jupyter.widget-view+json": {
       "model_id": "f400fd39ff8f4186b8bb5c1330f9553f",
       "version_major": 2,
       "version_minor": 0
      },
      "text/plain": [
       "RadioButtons(options=(0, 1), value=0)"
      ]
     },
     "metadata": {},
     "output_type": "display_data"
    },
    {
     "data": {
      "application/vnd.jupyter.widget-view+json": {
       "model_id": "2106d2036ff4445fabbc663015c8652a",
       "version_major": 2,
       "version_minor": 0
      },
      "text/plain": [
       "HTML(value='<h3>6. Statement: \"Do you?\"</h3>')"
      ]
     },
     "metadata": {},
     "output_type": "display_data"
    },
    {
     "data": {
      "application/vnd.jupyter.widget-view+json": {
       "model_id": "24a89d39ebd74e91a3cb88ee80e2e599",
       "version_major": 2,
       "version_minor": 0
      },
      "text/plain": [
       "HTML(value='0. \"It was different for you guys ! I mean , I mean , you were both in the same place , right ?\"')"
      ]
     },
     "metadata": {},
     "output_type": "display_data"
    },
    {
     "data": {
      "application/vnd.jupyter.widget-view+json": {
       "model_id": "cdbd2f795a5f4c69bede58c559974dd6",
       "version_major": 2,
       "version_minor": 0
      },
      "text/plain": [
       "HTML(value='1. \"What ? Come on baby , dont go . Please ? What do you say ?\"')"
      ]
     },
     "metadata": {},
     "output_type": "display_data"
    },
    {
     "data": {
      "application/vnd.jupyter.widget-view+json": {
       "model_id": "e71d36c6072f4f7592603f99a5bd98e3",
       "version_major": 2,
       "version_minor": 0
      },
      "text/plain": [
       "RadioButtons(options=(0, 1), value=0)"
      ]
     },
     "metadata": {},
     "output_type": "display_data"
    },
    {
     "data": {
      "application/vnd.jupyter.widget-view+json": {
       "model_id": "e6da24422499410ea67c23c91a8aadb1",
       "version_major": 2,
       "version_minor": 0
      },
      "text/plain": [
       "HTML(value='<h3>7. Statement: \"Well, thank God your livelihood doesnt depend on it.\"</h3>')"
      ]
     },
     "metadata": {},
     "output_type": "display_data"
    },
    {
     "data": {
      "application/vnd.jupyter.widget-view+json": {
       "model_id": "4d9826a778394bddb6451551a6d79de6",
       "version_major": 2,
       "version_minor": 0
      },
      "text/plain": [
       "HTML(value='0. \"I know , right ? Wh . . . Wh . . . Why are we doing this ?\"')"
      ]
     },
     "metadata": {},
     "output_type": "display_data"
    },
    {
     "data": {
      "application/vnd.jupyter.widget-view+json": {
       "model_id": "aa535907832e4e7a99b0680f46540722",
       "version_major": 2,
       "version_minor": 0
      },
      "text/plain": [
       "HTML(value='1. \"Its uh , youre gonna go . Well , I cant believe you what Im gonna be .\"')"
      ]
     },
     "metadata": {},
     "output_type": "display_data"
    },
    {
     "data": {
      "application/vnd.jupyter.widget-view+json": {
       "model_id": "4772134b16814cbaadcf1fd05e4d280a",
       "version_major": 2,
       "version_minor": 0
      },
      "text/plain": [
       "RadioButtons(options=(0, 1), value=0)"
      ]
     },
     "metadata": {},
     "output_type": "display_data"
    },
    {
     "data": {
      "application/vnd.jupyter.widget-view+json": {
       "model_id": "ee38d410a3a54490b1a23823c7c0ed1c",
       "version_major": 2,
       "version_minor": 0
      },
      "text/plain": [
       "HTML(value='<h3>8. Statement: \"The chocolates arent here yet.\"</h3>')"
      ]
     },
     "metadata": {},
     "output_type": "display_data"
    },
    {
     "data": {
      "application/vnd.jupyter.widget-view+json": {
       "model_id": "e65ef50b6a11498b9f5c7184de0733b4",
       "version_major": 2,
       "version_minor": 0
      },
      "text/plain": [
       "HTML(value='0. \"Damnit !\"')"
      ]
     },
     "metadata": {},
     "output_type": "display_data"
    },
    {
     "data": {
      "application/vnd.jupyter.widget-view+json": {
       "model_id": "35aaea3598d14e1294406dbec690599c",
       "version_major": 2,
       "version_minor": 0
      },
      "text/plain": [
       "HTML(value='1. \"The gonna be hold on !\"')"
      ]
     },
     "metadata": {},
     "output_type": "display_data"
    },
    {
     "data": {
      "application/vnd.jupyter.widget-view+json": {
       "model_id": "dea18c696b1f42739b1a1588fce3e4d7",
       "version_major": 2,
       "version_minor": 0
      },
      "text/plain": [
       "RadioButtons(options=(0, 1), value=0)"
      ]
     },
     "metadata": {},
     "output_type": "display_data"
    },
    {
     "data": {
      "application/vnd.jupyter.widget-view+json": {
       "model_id": "3dd8bf05135747a7b50b19faf20d3f8e",
       "version_major": 2,
       "version_minor": 0
      },
      "text/plain": [
       "HTML(value='<h3>9. Statement: \"Okay. Wow! So I get to see what Joey Tribbiani is like on a date. So do you hav…"
      ]
     },
     "metadata": {},
     "output_type": "display_data"
    },
    {
     "data": {
      "application/vnd.jupyter.widget-view+json": {
       "model_id": "eff3e1fa730e47db9697fcc9ddf1a06f",
       "version_major": 2,
       "version_minor": 0
      },
      "text/plain": [
       "HTML(value='0. \"Oh , I did it ! This place is how that when I went to you , and then I get it .\"')"
      ]
     },
     "metadata": {},
     "output_type": "display_data"
    },
    {
     "data": {
      "application/vnd.jupyter.widget-view+json": {
       "model_id": "43dc2532653d4e8cafb5c858cc112c8f",
       "version_major": 2,
       "version_minor": 0
      },
      "text/plain": [
       "HTML(value='1. \"No ! No . Umm , just myself and if they dont like me for Im sorry I couldnt even get through t…"
      ]
     },
     "metadata": {},
     "output_type": "display_data"
    },
    {
     "data": {
      "application/vnd.jupyter.widget-view+json": {
       "model_id": "bd79d0ad4067430baf020b778c1d5323",
       "version_major": 2,
       "version_minor": 0
      },
      "text/plain": [
       "RadioButtons(options=(0, 1), value=0)"
      ]
     },
     "metadata": {},
     "output_type": "display_data"
    },
    {
     "data": {
      "application/vnd.jupyter.widget-view+json": {
       "model_id": "3049332e842844b7b526d3ccae9e32f4",
       "version_major": 2,
       "version_minor": 0
      },
      "text/plain": [
       "HTML(value='<h3>10. Statement: \"Hi!\"</h3>')"
      ]
     },
     "metadata": {},
     "output_type": "display_data"
    },
    {
     "data": {
      "application/vnd.jupyter.widget-view+json": {
       "model_id": "9dbf87c607234d3b96e802bc4de87ffc",
       "version_major": 2,
       "version_minor": 0
      },
      "text/plain": [
       "HTML(value='0. \"Hey !\"')"
      ]
     },
     "metadata": {},
     "output_type": "display_data"
    },
    {
     "data": {
      "application/vnd.jupyter.widget-view+json": {
       "model_id": "0e9b9dc244e749058745906ab60242a1",
       "version_major": 2,
       "version_minor": 0
      },
      "text/plain": [
       "HTML(value='1. \"Hey . . . hey listen . . . What do you guys know about investments ?\"')"
      ]
     },
     "metadata": {},
     "output_type": "display_data"
    },
    {
     "data": {
      "application/vnd.jupyter.widget-view+json": {
       "model_id": "0b99def2670244f3bf45eda468a8af2f",
       "version_major": 2,
       "version_minor": 0
      },
      "text/plain": [
       "RadioButtons(options=(0, 1), value=0)"
      ]
     },
     "metadata": {},
     "output_type": "display_data"
    },
    {
     "data": {
      "application/vnd.jupyter.widget-view+json": {
       "model_id": "d76e535872634e54aa1bb955a3cfea90",
       "version_major": 2,
       "version_minor": 0
      },
      "text/plain": [
       "HTML(value='<h3>11. Statement: \"Amazing! Amazing!\"</h3>')"
      ]
     },
     "metadata": {},
     "output_type": "display_data"
    },
    {
     "data": {
      "application/vnd.jupyter.widget-view+json": {
       "model_id": "9e999eb1c0494c8faa41c743e6a8345c",
       "version_major": 2,
       "version_minor": 0
      },
      "text/plain": [
       "HTML(value='0. \"Oh , I dont watch soap operas . Excuse me , I have a life , yknow ? Oh , good to know . So clo…"
      ]
     },
     "metadata": {},
     "output_type": "display_data"
    },
    {
     "data": {
      "application/vnd.jupyter.widget-view+json": {
       "model_id": "d7ea80e79fd04db79ff0b7f599d0d1a0",
       "version_major": 2,
       "version_minor": 0
      },
      "text/plain": [
       "HTML(value='1. \"Its not like this day !\"')"
      ]
     },
     "metadata": {},
     "output_type": "display_data"
    },
    {
     "data": {
      "application/vnd.jupyter.widget-view+json": {
       "model_id": "eb3d5578537b4ed5b385f0938b0b80a8",
       "version_major": 2,
       "version_minor": 0
      },
      "text/plain": [
       "RadioButtons(options=(0, 1), value=0)"
      ]
     },
     "metadata": {},
     "output_type": "display_data"
    },
    {
     "data": {
      "application/vnd.jupyter.widget-view+json": {
       "model_id": "4fc59b0a17d0498a813cdd3cb5e32ed5",
       "version_major": 2,
       "version_minor": 0
      },
      "text/plain": [
       "HTML(value='<h3>12. Statement: \"Im sorry.� I, I told you I was in Tulsa because I wanted to spend the night wi…"
      ]
     },
     "metadata": {},
     "output_type": "display_data"
    },
    {
     "data": {
      "application/vnd.jupyter.widget-view+json": {
       "model_id": "dba0578cc4f6443e80e0636df7dedfbf",
       "version_major": 2,
       "version_minor": 0
      },
      "text/plain": [
       "HTML(value='0. \"What ? You think Im too dumb to understand that a husband needs to be with his wife ? Huh ? Do…"
      ]
     },
     "metadata": {},
     "output_type": "display_data"
    },
    {
     "data": {
      "application/vnd.jupyter.widget-view+json": {
       "model_id": "b2633d0db25e48c4bcd8405408c016ac",
       "version_major": 2,
       "version_minor": 0
      },
      "text/plain": [
       "HTML(value='1. \"You got it !\"')"
      ]
     },
     "metadata": {},
     "output_type": "display_data"
    },
    {
     "data": {
      "application/vnd.jupyter.widget-view+json": {
       "model_id": "0529261ca19445648b89d3a0838a4649",
       "version_major": 2,
       "version_minor": 0
      },
      "text/plain": [
       "RadioButtons(options=(0, 1), value=0)"
      ]
     },
     "metadata": {},
     "output_type": "display_data"
    },
    {
     "data": {
      "application/vnd.jupyter.widget-view+json": {
       "model_id": "bd02c6f7e4634d67970cf317ee654a1f",
       "version_major": 2,
       "version_minor": 0
      },
      "text/plain": [
       "HTML(value='<h3>13. Statement: \"No, you can�t go. No-no-no, I can�t hold this table on my own. If they ask me …"
      ]
     },
     "metadata": {},
     "output_type": "display_data"
    },
    {
     "data": {
      "application/vnd.jupyter.widget-view+json": {
       "model_id": "c70394f7d6034b68bc64bbe053bb8a7c",
       "version_major": 2,
       "version_minor": 0
      },
      "text/plain": [
       "HTML(value='0. \"If you ask me to stay , I ll pee .\"')"
      ]
     },
     "metadata": {},
     "output_type": "display_data"
    },
    {
     "data": {
      "application/vnd.jupyter.widget-view+json": {
       "model_id": "8c6a836f69b34687b71bc4d2edbf12a6",
       "version_major": 2,
       "version_minor": 0
      },
      "text/plain": [
       "HTML(value='1. \"Okay .\"')"
      ]
     },
     "metadata": {},
     "output_type": "display_data"
    },
    {
     "data": {
      "application/vnd.jupyter.widget-view+json": {
       "model_id": "2ed5f5b16a0a4185b28181ab1bfb633b",
       "version_major": 2,
       "version_minor": 0
      },
      "text/plain": [
       "RadioButtons(options=(0, 1), value=0)"
      ]
     },
     "metadata": {},
     "output_type": "display_data"
    },
    {
     "data": {
      "application/vnd.jupyter.widget-view+json": {
       "model_id": "abe89c465dee4127a5064d60f8ca93ae",
       "version_major": 2,
       "version_minor": 0
      },
      "text/plain": [
       "HTML(value='<h3>14. Statement: \"Right. Except that I do want to get married.\"</h3>')"
      ]
     },
     "metadata": {},
     "output_type": "display_data"
    },
    {
     "data": {
      "application/vnd.jupyter.widget-view+json": {
       "model_id": "346dacdb9fdb4ef294b0bbed9563b23c",
       "version_major": 2,
       "version_minor": 0
      },
      "text/plain": [
       "HTML(value='0. \"There you are right\"')"
      ]
     },
     "metadata": {},
     "output_type": "display_data"
    },
    {
     "data": {
      "application/vnd.jupyter.widget-view+json": {
       "model_id": "f4e1d1778db64a18b0af9c7d8af023e1",
       "version_major": 2,
       "version_minor": 0
      },
      "text/plain": [
       "HTML(value='1. \"Couldnt have this conversation down at the truck huh ?\"')"
      ]
     },
     "metadata": {},
     "output_type": "display_data"
    },
    {
     "data": {
      "application/vnd.jupyter.widget-view+json": {
       "model_id": "361420837a0342628b7018ee55a746b2",
       "version_major": 2,
       "version_minor": 0
      },
      "text/plain": [
       "RadioButtons(options=(0, 1), value=0)"
      ]
     },
     "metadata": {},
     "output_type": "display_data"
    },
    {
     "data": {
      "application/vnd.jupyter.widget-view+json": {
       "model_id": "f58bc5bad4b547b4906564834691aa68",
       "version_major": 2,
       "version_minor": 0
      },
      "text/plain": [
       "HTML(value='<h3>15. Statement: \"Oh my god, Im gonna be on TV!\"</h3>')"
      ]
     },
     "metadata": {},
     "output_type": "display_data"
    },
    {
     "data": {
      "application/vnd.jupyter.widget-view+json": {
       "model_id": "16381683526e4e76a168338d2eaf784d",
       "version_major": 2,
       "version_minor": 0
      },
      "text/plain": [
       "HTML(value='0. \"Rach ! ! Oh hey , you wanna Rach ? I I dont get any money , Chandler do I . . .\"')"
      ]
     },
     "metadata": {},
     "output_type": "display_data"
    },
    {
     "data": {
      "application/vnd.jupyter.widget-view+json": {
       "model_id": "84e96b0f2a3343b486d0d86b9bb68a92",
       "version_major": 2,
       "version_minor": 0
      },
      "text/plain": [
       "HTML(value='1. \"Okay , now . I gotta tell you , being on TV isnt as glamorous and exciting as you think .\"')"
      ]
     },
     "metadata": {},
     "output_type": "display_data"
    },
    {
     "data": {
      "application/vnd.jupyter.widget-view+json": {
       "model_id": "ff620ccf2bf34cab8adc1e202e548963",
       "version_major": 2,
       "version_minor": 0
      },
      "text/plain": [
       "RadioButtons(options=(0, 1), value=0)"
      ]
     },
     "metadata": {},
     "output_type": "display_data"
    },
    {
     "data": {
      "application/vnd.jupyter.widget-view+json": {
       "model_id": "1e1f5587218a4e1e98ccc4f49d637acc",
       "version_major": 2,
       "version_minor": 0
      },
      "text/plain": [
       "HTML(value='<h3>16. Statement: \"Yes! But what is wrong with this dog?!\"</h3>')"
      ]
     },
     "metadata": {},
     "output_type": "display_data"
    },
    {
     "data": {
      "application/vnd.jupyter.widget-view+json": {
       "model_id": "8abf808d0c824dd28e9309ae64d8f063",
       "version_major": 2,
       "version_minor": 0
      },
      "text/plain": [
       "HTML(value='0. \"Yeah , and Ross was one of the guy . And that one has ever seen that a good , actually get a l…"
      ]
     },
     "metadata": {},
     "output_type": "display_data"
    },
    {
     "data": {
      "application/vnd.jupyter.widget-view+json": {
       "model_id": "60020c215c2e43ddbb717651ded6ac1c",
       "version_major": 2,
       "version_minor": 0
      },
      "text/plain": [
       "HTML(value='1. \"Hey , did you get to the part where theyre trapped in the car and Cujos throwin himself at the…"
      ]
     },
     "metadata": {},
     "output_type": "display_data"
    },
    {
     "data": {
      "application/vnd.jupyter.widget-view+json": {
       "model_id": "8043c5647c94421b9c9d027290989863",
       "version_major": 2,
       "version_minor": 0
      },
      "text/plain": [
       "RadioButtons(options=(0, 1), value=0)"
      ]
     },
     "metadata": {},
     "output_type": "display_data"
    },
    {
     "data": {
      "application/vnd.jupyter.widget-view+json": {
       "model_id": "b7f3eee50b4043b1a2fd236507a19bd8",
       "version_major": 2,
       "version_minor": 0
      },
      "text/plain": [
       "HTML(value='<h3>17. Statement: \"Hey!\"</h3>')"
      ]
     },
     "metadata": {},
     "output_type": "display_data"
    },
    {
     "data": {
      "application/vnd.jupyter.widget-view+json": {
       "model_id": "c0d164fae6904f79a7b38e52eb4e71fa",
       "version_major": 2,
       "version_minor": 0
      },
      "text/plain": [
       "HTML(value='0. \"Hey !\"')"
      ]
     },
     "metadata": {},
     "output_type": "display_data"
    },
    {
     "data": {
      "application/vnd.jupyter.widget-view+json": {
       "model_id": "8f9d8d63e71d4767a53bf7e3cf2dcb43",
       "version_major": 2,
       "version_minor": 0
      },
      "text/plain": [
       "HTML(value='1. \"Hey .\"')"
      ]
     },
     "metadata": {},
     "output_type": "display_data"
    },
    {
     "data": {
      "application/vnd.jupyter.widget-view+json": {
       "model_id": "c8a039c31ed143df8d5853bd64117613",
       "version_major": 2,
       "version_minor": 0
      },
      "text/plain": [
       "RadioButtons(options=(0, 1), value=0)"
      ]
     },
     "metadata": {},
     "output_type": "display_data"
    },
    {
     "data": {
      "application/vnd.jupyter.widget-view+json": {
       "model_id": "817ed00e7014410390fe43487b5effdd",
       "version_major": 2,
       "version_minor": 0
      },
      "text/plain": [
       "HTML(value='<h3>18. Statement: \"Peeeeeooooooooch  \"Hang up that phone!\" One take!\"</h3>')"
      ]
     },
     "metadata": {},
     "output_type": "display_data"
    },
    {
     "data": {
      "application/vnd.jupyter.widget-view+json": {
       "model_id": "5dd093be86ea4001a18fc4de5cac15d2",
       "version_major": 2,
       "version_minor": 0
      },
      "text/plain": [
       "HTML(value='0. \"Its just gonna be like hes so . Its kinda about a little bit of your head .\"')"
      ]
     },
     "metadata": {},
     "output_type": "display_data"
    },
    {
     "data": {
      "application/vnd.jupyter.widget-view+json": {
       "model_id": "80ec2787c5b548458aad2fe56b9d93b0",
       "version_major": 2,
       "version_minor": 0
      },
      "text/plain": [
       "HTML(value='1. \"Wow !\"')"
      ]
     },
     "metadata": {},
     "output_type": "display_data"
    },
    {
     "data": {
      "application/vnd.jupyter.widget-view+json": {
       "model_id": "e8656d579c7b4a11988a3ed416b149af",
       "version_major": 2,
       "version_minor": 0
      },
      "text/plain": [
       "RadioButtons(options=(0, 1), value=0)"
      ]
     },
     "metadata": {},
     "output_type": "display_data"
    },
    {
     "data": {
      "application/vnd.jupyter.widget-view+json": {
       "model_id": "2da4eb8757c24b9488d55fd3233e58a8",
       "version_major": 2,
       "version_minor": 0
      },
      "text/plain": [
       "HTML(value='<h3>19. Statement: \"no its not ringing any bells.\"</h3>')"
      ]
     },
     "metadata": {},
     "output_type": "display_data"
    },
    {
     "data": {
      "application/vnd.jupyter.widget-view+json": {
       "model_id": "0416b0e1662141cd88e3bf5e5b662bab",
       "version_major": 2,
       "version_minor": 0
      },
      "text/plain": [
       "HTML(value='0. \"You know that ?\"')"
      ]
     },
     "metadata": {},
     "output_type": "display_data"
    },
    {
     "data": {
      "application/vnd.jupyter.widget-view+json": {
       "model_id": "0d37935691004f61af259b5a4f773d26",
       "version_major": 2,
       "version_minor": 0
      },
      "text/plain": [
       "HTML(value='1. \"my god woman ! How many people do you have to had been with not to remember any of this ? Oooo…"
      ]
     },
     "metadata": {},
     "output_type": "display_data"
    },
    {
     "data": {
      "application/vnd.jupyter.widget-view+json": {
       "model_id": "dbec88bbf3e44105beed24597ec3895f",
       "version_major": 2,
       "version_minor": 0
      },
      "text/plain": [
       "RadioButtons(options=(0, 1), value=0)"
      ]
     },
     "metadata": {},
     "output_type": "display_data"
    },
    {
     "data": {
      "application/vnd.jupyter.widget-view+json": {
       "model_id": "82a3ded7b1e545768ae16b7f40ff6edc",
       "version_major": 2,
       "version_minor": 0
      },
      "text/plain": [
       "HTML(value='<h3>20. Statement: \"I-I... Oh I...I just wanna say uhm... if you do ever come to Minsk, thats my n…"
      ]
     },
     "metadata": {},
     "output_type": "display_data"
    },
    {
     "data": {
      "application/vnd.jupyter.widget-view+json": {
       "model_id": "3f359354df9448c184839a81cd592ef1",
       "version_major": 2,
       "version_minor": 0
      },
      "text/plain": [
       "HTML(value='0. \"Yeah ! Allright ! Hey , hey Ross . Check it out ! Sandy taught me Hot cross Buns .\"')"
      ]
     },
     "metadata": {},
     "output_type": "display_data"
    },
    {
     "data": {
      "application/vnd.jupyter.widget-view+json": {
       "model_id": "630f363ba577488fb2b4a0caee3cd8cd",
       "version_major": 2,
       "version_minor": 0
      },
      "text/plain": [
       "HTML(value='1. \"Hey ?\"')"
      ]
     },
     "metadata": {},
     "output_type": "display_data"
    },
    {
     "data": {
      "application/vnd.jupyter.widget-view+json": {
       "model_id": "5c6dab950ce2412e8b901d991f528e75",
       "version_major": 2,
       "version_minor": 0
      },
      "text/plain": [
       "RadioButtons(options=(0, 1), value=0)"
      ]
     },
     "metadata": {},
     "output_type": "display_data"
    },
    {
     "data": {
      "application/vnd.jupyter.widget-view+json": {
       "model_id": "5fc1822c764d473e99ed7368939b22e7",
       "version_major": 2,
       "version_minor": 0
      },
      "text/plain": [
       "HTML(value='<h3>21. Statement: \"Oh come on!!\"</h3>')"
      ]
     },
     "metadata": {},
     "output_type": "display_data"
    },
    {
     "data": {
      "application/vnd.jupyter.widget-view+json": {
       "model_id": "959ed44de11742e7a98a88234f6908f8",
       "version_major": 2,
       "version_minor": 0
      },
      "text/plain": [
       "HTML(value='0. \"Hey !\"')"
      ]
     },
     "metadata": {},
     "output_type": "display_data"
    },
    {
     "data": {
      "application/vnd.jupyter.widget-view+json": {
       "model_id": "3dd767f5f8344865b7e4d9a4fcc448bb",
       "version_major": 2,
       "version_minor": 0
      },
      "text/plain": [
       "HTML(value='1. \"Hi ! Im Dr . Drake Remoray and I have a few routine questions I need to ask you .\"')"
      ]
     },
     "metadata": {},
     "output_type": "display_data"
    },
    {
     "data": {
      "application/vnd.jupyter.widget-view+json": {
       "model_id": "15fff723a83e4dbcb5ab80eec096d214",
       "version_major": 2,
       "version_minor": 0
      },
      "text/plain": [
       "RadioButtons(options=(0, 1), value=0)"
      ]
     },
     "metadata": {},
     "output_type": "display_data"
    },
    {
     "data": {
      "application/vnd.jupyter.widget-view+json": {
       "model_id": "47769e0d63794956b78cb4226cecf02a",
       "version_major": 2,
       "version_minor": 0
      },
      "text/plain": [
       "HTML(value='<h3>22. Statement: \"Yeah, Im not talking about her...\"</h3>')"
      ]
     },
     "metadata": {},
     "output_type": "display_data"
    },
    {
     "data": {
      "application/vnd.jupyter.widget-view+json": {
       "model_id": "ff8f8de24fca4c70a61f175e443bf14c",
       "version_major": 2,
       "version_minor": 0
      },
      "text/plain": [
       "HTML(value='0. \"But then who ? The waitress I went out with last month ?\"')"
      ]
     },
     "metadata": {},
     "output_type": "display_data"
    },
    {
     "data": {
      "application/vnd.jupyter.widget-view+json": {
       "model_id": "663c9387e90246e88294d414b39ddee3",
       "version_major": 2,
       "version_minor": 0
      },
      "text/plain": [
       "HTML(value='1. \"No no no , no , dont say , listen , I mean I just an audition . I see Im comin in !\"')"
      ]
     },
     "metadata": {},
     "output_type": "display_data"
    },
    {
     "data": {
      "application/vnd.jupyter.widget-view+json": {
       "model_id": "a20be2698841443fb81b72f52c987924",
       "version_major": 2,
       "version_minor": 0
      },
      "text/plain": [
       "RadioButtons(options=(0, 1), value=0)"
      ]
     },
     "metadata": {},
     "output_type": "display_data"
    },
    {
     "data": {
      "application/vnd.jupyter.widget-view+json": {
       "model_id": "c88661efa4704adcb1a829472f7e4e69",
       "version_major": 2,
       "version_minor": 0
      },
      "text/plain": [
       "HTML(value='<h3>23. Statement: \"That is the Coast Guard.\"</h3>')"
      ]
     },
     "metadata": {},
     "output_type": "display_data"
    },
    {
     "data": {
      "application/vnd.jupyter.widget-view+json": {
       "model_id": "940e7f1a3d97458893c4a9a24b9b0749",
       "version_major": 2,
       "version_minor": 0
      },
      "text/plain": [
       "HTML(value='0. \"What are they doing out here ? The coasts all the way over there .\"')"
      ]
     },
     "metadata": {},
     "output_type": "display_data"
    },
    {
     "data": {
      "application/vnd.jupyter.widget-view+json": {
       "model_id": "4156c17a592a4942bc9c248fe5ad0e58",
       "version_major": 2,
       "version_minor": 0
      },
      "text/plain": [
       "HTML(value='1. \"What are they doing out here ? The coasts all the way over there .\"')"
      ]
     },
     "metadata": {},
     "output_type": "display_data"
    },
    {
     "data": {
      "application/vnd.jupyter.widget-view+json": {
       "model_id": "e81b77edeba140c6b1d51ed6b080cd75",
       "version_major": 2,
       "version_minor": 0
      },
      "text/plain": [
       "RadioButtons(options=(0, 1), value=0)"
      ]
     },
     "metadata": {},
     "output_type": "display_data"
    },
    {
     "data": {
      "application/vnd.jupyter.widget-view+json": {
       "model_id": "bbec8045bc4e46b98fbf474507c7444e",
       "version_major": 2,
       "version_minor": 0
      },
      "text/plain": [
       "HTML(value='<h3>24. Statement: \"Yeah, sure!\"</h3>')"
      ]
     },
     "metadata": {},
     "output_type": "display_data"
    },
    {
     "data": {
      "application/vnd.jupyter.widget-view+json": {
       "model_id": "deeeb8295aca48eabbdd6a0b5a9e8de9",
       "version_major": 2,
       "version_minor": 0
      },
      "text/plain": [
       "HTML(value='0. \"You like me ?\"')"
      ]
     },
     "metadata": {},
     "output_type": "display_data"
    },
    {
     "data": {
      "application/vnd.jupyter.widget-view+json": {
       "model_id": "d1e1e3eb4f4144d0815e44b05b8a6345",
       "version_major": 2,
       "version_minor": 0
      },
      "text/plain": [
       "HTML(value='1. \"We have to find the rest of the platoon !\"')"
      ]
     },
     "metadata": {},
     "output_type": "display_data"
    },
    {
     "data": {
      "application/vnd.jupyter.widget-view+json": {
       "model_id": "f7b8afb87ab849fd836480540f599a1d",
       "version_major": 2,
       "version_minor": 0
      },
      "text/plain": [
       "RadioButtons(options=(0, 1), value=0)"
      ]
     },
     "metadata": {},
     "output_type": "display_data"
    },
    {
     "data": {
      "application/vnd.jupyter.widget-view+json": {
       "model_id": "473a5f4daaa849c9b451b4a34e753fd3",
       "version_major": 2,
       "version_minor": 0
      },
      "text/plain": [
       "HTML(value='<h3>25. Statement: \"So? Sure! But it-it wouldnt be anything romantic. And Im-Im dating Mona—Damnit…"
      ]
     },
     "metadata": {},
     "output_type": "display_data"
    },
    {
     "data": {
      "application/vnd.jupyter.widget-view+json": {
       "model_id": "e89b3fa2245a4b99bcbc346bf7bcfffc",
       "version_major": 2,
       "version_minor": 0
      },
      "text/plain": [
       "HTML(value='0. \"All right now , so ? What do you think ?\"')"
      ]
     },
     "metadata": {},
     "output_type": "display_data"
    },
    {
     "data": {
      "application/vnd.jupyter.widget-view+json": {
       "model_id": "006bfa0b2eb34b6e8a8d9fbd1bfef35e",
       "version_major": 2,
       "version_minor": 0
      },
      "text/plain": [
       "HTML(value='1. \"I dont know , but this guy really went in the casting but anyway ?\"')"
      ]
     },
     "metadata": {},
     "output_type": "display_data"
    },
    {
     "data": {
      "application/vnd.jupyter.widget-view+json": {
       "model_id": "6c4997a6c8434bbcb7d955ec9c048cb5",
       "version_major": 2,
       "version_minor": 0
      },
      "text/plain": [
       "RadioButtons(options=(0, 1), value=0)"
      ]
     },
     "metadata": {},
     "output_type": "display_data"
    },
    {
     "data": {
      "application/vnd.jupyter.widget-view+json": {
       "model_id": "1796b62870774922bfb86b86f651fbe6",
       "version_major": 2,
       "version_minor": 0
      },
      "text/plain": [
       "HTML(value='<h3>26. Statement: \"Wow! This picture of you sure is steamy.\"</h3>')"
      ]
     },
     "metadata": {},
     "output_type": "display_data"
    },
    {
     "data": {
      "application/vnd.jupyter.widget-view+json": {
       "model_id": "3ea1b1d12ed74f1d865430eac3c8312f",
       "version_major": 2,
       "version_minor": 0
      },
      "text/plain": [
       "HTML(value='0. \"Oh yeah , thats just a little something for my huge gay fan base .\"')"
      ]
     },
     "metadata": {},
     "output_type": "display_data"
    },
    {
     "data": {
      "application/vnd.jupyter.widget-view+json": {
       "model_id": "71b431e4ff1b4992b52d1c6f028cb1ca",
       "version_major": 2,
       "version_minor": 0
      },
      "text/plain": [
       "HTML(value='1. \"there is that one ?\"')"
      ]
     },
     "metadata": {},
     "output_type": "display_data"
    },
    {
     "data": {
      "application/vnd.jupyter.widget-view+json": {
       "model_id": "e58af31ba186465988c7952299003a54",
       "version_major": 2,
       "version_minor": 0
      },
      "text/plain": [
       "RadioButtons(options=(0, 1), value=0)"
      ]
     },
     "metadata": {},
     "output_type": "display_data"
    },
    {
     "data": {
      "application/vnd.jupyter.widget-view+json": {
       "model_id": "0a37e19251a44ed1aedec6ea5ee1b59b",
       "version_major": 2,
       "version_minor": 0
      },
      "text/plain": [
       "HTML(value='<h3>27. Statement: \"\"Go, go!\"\"</h3>')"
      ]
     },
     "metadata": {},
     "output_type": "display_data"
    },
    {
     "data": {
      "application/vnd.jupyter.widget-view+json": {
       "model_id": "6401ce3d56834cdfa4f8e54ea675c541",
       "version_major": 2,
       "version_minor": 0
      },
      "text/plain": [
       "HTML(value='0. \"Okay , all right , fine .\"')"
      ]
     },
     "metadata": {},
     "output_type": "display_data"
    },
    {
     "data": {
      "application/vnd.jupyter.widget-view+json": {
       "model_id": "84d058fe50a642fe8b3e59cb28ef3f4f",
       "version_major": 2,
       "version_minor": 0
      },
      "text/plain": [
       "HTML(value='1. \"I cant . Oh , I want to , long pause , but I cant .\"')"
      ]
     },
     "metadata": {},
     "output_type": "display_data"
    },
    {
     "data": {
      "application/vnd.jupyter.widget-view+json": {
       "model_id": "77779a51247b452682fced2bffe1bc4a",
       "version_major": 2,
       "version_minor": 0
      },
      "text/plain": [
       "RadioButtons(options=(0, 1), value=0)"
      ]
     },
     "metadata": {},
     "output_type": "display_data"
    },
    {
     "data": {
      "application/vnd.jupyter.widget-view+json": {
       "model_id": "61fc6db85ac84778a823d9d04c725b48",
       "version_major": 2,
       "version_minor": 0
      },
      "text/plain": [
       "HTML(value='<h3>28. Statement: \"Oh hi, come on in. Im Catherine, the listing agent.\"</h3>')"
      ]
     },
     "metadata": {},
     "output_type": "display_data"
    },
    {
     "data": {
      "application/vnd.jupyter.widget-view+json": {
       "model_id": "c8f35a2389344fde809d716a87a2e03d",
       "version_major": 2,
       "version_minor": 0
      },
      "text/plain": [
       "HTML(value='0. \"Hi Im Joey . This is Chandler .\"')"
      ]
     },
     "metadata": {},
     "output_type": "display_data"
    },
    {
     "data": {
      "application/vnd.jupyter.widget-view+json": {
       "model_id": "ee1590bbb0604555b6fe484b51053407",
       "version_major": 2,
       "version_minor": 0
      },
      "text/plain": [
       "HTML(value='1. \"All right ! Okay , Im in the morning . I mean , Phoebe and listen to your hand twin . Oh thats…"
      ]
     },
     "metadata": {},
     "output_type": "display_data"
    },
    {
     "data": {
      "application/vnd.jupyter.widget-view+json": {
       "model_id": "9ac379fea21f4497bf20efdf13c17c95",
       "version_major": 2,
       "version_minor": 0
      },
      "text/plain": [
       "RadioButtons(options=(0, 1), value=0)"
      ]
     },
     "metadata": {},
     "output_type": "display_data"
    },
    {
     "data": {
      "application/vnd.jupyter.widget-view+json": {
       "model_id": "4fd8a26e62d84e97b8c58d654249477d",
       "version_major": 2,
       "version_minor": 0
      },
      "text/plain": [
       "HTML(value='<h3>29. Statement: \"Thats still in there?!\"</h3>')"
      ]
     },
     "metadata": {},
     "output_type": "display_data"
    },
    {
     "data": {
      "application/vnd.jupyter.widget-view+json": {
       "model_id": "ad2d612a84e64f948f8606c9d1993eed",
       "version_major": 2,
       "version_minor": 0
      },
      "text/plain": [
       "HTML(value='0. \"Not anymore .\"')"
      ]
     },
     "metadata": {},
     "output_type": "display_data"
    },
    {
     "data": {
      "application/vnd.jupyter.widget-view+json": {
       "model_id": "8126a876ce1543d3b583d774c983698d",
       "version_major": 2,
       "version_minor": 0
      },
      "text/plain": [
       "HTML(value='1. \"Not anymore . So anyway , how do you want to pay me ?\"')"
      ]
     },
     "metadata": {},
     "output_type": "display_data"
    },
    {
     "data": {
      "application/vnd.jupyter.widget-view+json": {
       "model_id": "8eaebdb7913f4ad48cc4410fb5b21d01",
       "version_major": 2,
       "version_minor": 0
      },
      "text/plain": [
       "RadioButtons(options=(0, 1), value=0)"
      ]
     },
     "metadata": {},
     "output_type": "display_data"
    },
    {
     "data": {
      "application/vnd.jupyter.widget-view+json": {
       "model_id": "fe10bd0407b44c62927b53059034ad96",
       "version_major": 2,
       "version_minor": 0
      },
      "text/plain": [
       "HTML(value='<h3>30. Statement: \"I dont think weve actually done this before!\"</h3>')"
      ]
     },
     "metadata": {},
     "output_type": "display_data"
    },
    {
     "data": {
      "application/vnd.jupyter.widget-view+json": {
       "model_id": "c5c42441781649c087cfa19e689f82c3",
       "version_major": 2,
       "version_minor": 0
      },
      "text/plain": [
       "HTML(value='0. \"told me ! They come on my resume , dont I have a baby by it ! I dont have to be if I know what…"
      ]
     },
     "metadata": {},
     "output_type": "display_data"
    },
    {
     "data": {
      "application/vnd.jupyter.widget-view+json": {
       "model_id": "7e5e4f48ecc3441ea8ed9d035acaad3d",
       "version_major": 2,
       "version_minor": 0
      },
      "text/plain": [
       "HTML(value='1. \"No , I I miss hanging out with you .\"')"
      ]
     },
     "metadata": {},
     "output_type": "display_data"
    },
    {
     "data": {
      "application/vnd.jupyter.widget-view+json": {
       "model_id": "a82b4f9a654446fabc0e3c7fd337fdf2",
       "version_major": 2,
       "version_minor": 0
      },
      "text/plain": [
       "RadioButtons(options=(0, 1), value=0)"
      ]
     },
     "metadata": {},
     "output_type": "display_data"
    },
    {
     "data": {
      "application/vnd.jupyter.widget-view+json": {
       "model_id": "db6d98ec00e7429bb053577d8d0983ea",
       "version_major": 2,
       "version_minor": 0
      },
      "text/plain": [
       "HTML(value='<h3>31. Statement: \"Yes, hows this: Theyre so uncomfortable its like getting kicked in the nuts fo…"
      ]
     },
     "metadata": {},
     "output_type": "display_data"
    },
    {
     "data": {
      "application/vnd.jupyter.widget-view+json": {
       "model_id": "c47cb7f2a8ff48ac89c19fd1077163f3",
       "version_major": 2,
       "version_minor": 0
      },
      "text/plain": [
       "HTML(value='0. \"Hey !\"')"
      ]
     },
     "metadata": {},
     "output_type": "display_data"
    },
    {
     "data": {
      "application/vnd.jupyter.widget-view+json": {
       "model_id": "5f7521f3018b4cb1bc91b4b25ca3118b",
       "version_major": 2,
       "version_minor": 0
      },
      "text/plain": [
       "HTML(value='1. \"I know ! I know !\"')"
      ]
     },
     "metadata": {},
     "output_type": "display_data"
    },
    {
     "data": {
      "application/vnd.jupyter.widget-view+json": {
       "model_id": "c13e1ffd127a47369e597f1e803a3ed3",
       "version_major": 2,
       "version_minor": 0
      },
      "text/plain": [
       "RadioButtons(options=(0, 1), value=0)"
      ]
     },
     "metadata": {},
     "output_type": "display_data"
    },
    {
     "data": {
      "application/vnd.jupyter.widget-view+json": {
       "model_id": "718d93033cfb4f31af48fe0a90e0290d",
       "version_major": 2,
       "version_minor": 0
      },
      "text/plain": [
       "HTML(value='<h3>32. Statement: \"Ooh, I miss dating. Gettin all dressed up and going to a fancy restaurant. Im …"
      ]
     },
     "metadata": {},
     "output_type": "display_data"
    },
    {
     "data": {
      "application/vnd.jupyter.widget-view+json": {
       "model_id": "9ff85c1deab2421db626f58bbb3d018e",
       "version_major": 2,
       "version_minor": 0
      },
      "text/plain": [
       "HTML(value='0. \"Hey , all the other day ?\"')"
      ]
     },
     "metadata": {},
     "output_type": "display_data"
    },
    {
     "data": {
      "application/vnd.jupyter.widget-view+json": {
       "model_id": "2f69519bf49f4d9e9adb84f844b0dbab",
       "version_major": 2,
       "version_minor": 0
      },
      "text/plain": [
       "HTML(value='1. \"Hey , yknow what ?\"')"
      ]
     },
     "metadata": {},
     "output_type": "display_data"
    },
    {
     "data": {
      "application/vnd.jupyter.widget-view+json": {
       "model_id": "86e5139b04484c39a7f1bcbd123a2c3d",
       "version_major": 2,
       "version_minor": 0
      },
      "text/plain": [
       "RadioButtons(options=(0, 1), value=0)"
      ]
     },
     "metadata": {},
     "output_type": "display_data"
    },
    {
     "data": {
      "application/vnd.jupyter.widget-view+json": {
       "model_id": "e3d9907671be466f99caf14008e6c36d",
       "version_major": 2,
       "version_minor": 0
      },
      "text/plain": [
       "HTML(value='<h3>33. Statement: \"Uh…yeah sure.\"</h3>')"
      ]
     },
     "metadata": {},
     "output_type": "display_data"
    },
    {
     "data": {
      "application/vnd.jupyter.widget-view+json": {
       "model_id": "6e769dc6a70e4282848cfcbfb991a80e",
       "version_major": 2,
       "version_minor": 0
      },
      "text/plain": [
       "HTML(value='0. \"Do uh , do you got any beer ? All all I got is this melon stuff that Rachel left . I dont\"')"
      ]
     },
     "metadata": {},
     "output_type": "display_data"
    },
    {
     "data": {
      "application/vnd.jupyter.widget-view+json": {
       "model_id": "9f98de8ce1ce4ec598957098a902f63b",
       "version_major": 2,
       "version_minor": 0
      },
      "text/plain": [
       "HTML(value='1. \"Uh , hey ! Well , Chandler , I didnt get you to get a man who got to a big mistake . . .\"')"
      ]
     },
     "metadata": {},
     "output_type": "display_data"
    },
    {
     "data": {
      "application/vnd.jupyter.widget-view+json": {
       "model_id": "ce78ce60420241639e55df40eabcfecd",
       "version_major": 2,
       "version_minor": 0
      },
      "text/plain": [
       "RadioButtons(options=(0, 1), value=0)"
      ]
     },
     "metadata": {},
     "output_type": "display_data"
    },
    {
     "data": {
      "application/vnd.jupyter.widget-view+json": {
       "model_id": "63132fe3f3c54cc59521e5608ff09dfa",
       "version_major": 2,
       "version_minor": 0
      },
      "text/plain": [
       "HTML(value='<h3>34. Statement: \"Yeah thats Rachel.  Beat me over the head with it.\"</h3>')"
      ]
     },
     "metadata": {},
     "output_type": "display_data"
    },
    {
     "data": {
      "application/vnd.jupyter.widget-view+json": {
       "model_id": "44f4bc66bdf745479ccfd6395b648fe2",
       "version_major": 2,
       "version_minor": 0
      },
      "text/plain": [
       "HTML(value='0. \"What am I going to do ? You know , and I keep , I keep trying to get rid of these feelings , y…"
      ]
     },
     "metadata": {},
     "output_type": "display_data"
    },
    {
     "data": {
      "application/vnd.jupyter.widget-view+json": {
       "model_id": "ae3c607d12cd4963ae0a4450ea56dbf5",
       "version_major": 2,
       "version_minor": 0
      },
      "text/plain": [
       "HTML(value='1. \"Yeah , I did not .\"')"
      ]
     },
     "metadata": {},
     "output_type": "display_data"
    },
    {
     "data": {
      "application/vnd.jupyter.widget-view+json": {
       "model_id": "597f6feefb7449669fe9682cff73bad5",
       "version_major": 2,
       "version_minor": 0
      },
      "text/plain": [
       "RadioButtons(options=(0, 1), value=0)"
      ]
     },
     "metadata": {},
     "output_type": "display_data"
    },
    {
     "data": {
      "application/vnd.jupyter.widget-view+json": {
       "model_id": "cb1fcc7d4358447a92d9efebda505ed3",
       "version_major": 2,
       "version_minor": 0
      },
      "text/plain": [
       "HTML(value='<h3>35. Statement: \"So, a professor, uh?\"</h3>')"
      ]
     },
     "metadata": {},
     "output_type": "display_data"
    },
    {
     "data": {
      "application/vnd.jupyter.widget-view+json": {
       "model_id": "ca841fb1f72f476cb541b567fd44fb57",
       "version_major": 2,
       "version_minor": 0
      },
      "text/plain": [
       "HTML(value='0. \"Yeah ! She is cool , and shes so smart ! Her mind is totally acrimonious . Thats not how she u…"
      ]
     },
     "metadata": {},
     "output_type": "display_data"
    },
    {
     "data": {
      "application/vnd.jupyter.widget-view+json": {
       "model_id": "072c8e8d10ba41c2ba85ba56624a7f2d",
       "version_major": 2,
       "version_minor": 0
      },
      "text/plain": [
       "HTML(value='1. \"He broke up with Julie . Well , Im gonna think you gotta get a little mad at me and I can take…"
      ]
     },
     "metadata": {},
     "output_type": "display_data"
    },
    {
     "data": {
      "application/vnd.jupyter.widget-view+json": {
       "model_id": "9239aa356c9e448eab6f0b2d2d64832e",
       "version_major": 2,
       "version_minor": 0
      },
      "text/plain": [
       "RadioButtons(options=(0, 1), value=0)"
      ]
     },
     "metadata": {},
     "output_type": "display_data"
    },
    {
     "data": {
      "application/vnd.jupyter.widget-view+json": {
       "model_id": "b22b1a0a6ebf4772bf534a6a967fea79",
       "version_major": 2,
       "version_minor": 0
      },
      "text/plain": [
       "HTML(value='<h3>36. Statement: \"mmm Thats enough about you!\"</h3>')"
      ]
     },
     "metadata": {},
     "output_type": "display_data"
    },
    {
     "data": {
      "application/vnd.jupyter.widget-view+json": {
       "model_id": "5544717bb8744dd0b451443d3cbcaf49",
       "version_major": 2,
       "version_minor": 0
      },
      "text/plain": [
       "HTML(value='0. \"Well , I dont think its like a lot in there . Yknow ? No no no no no ! I hate her ! I mean the…"
      ]
     },
     "metadata": {},
     "output_type": "display_data"
    },
    {
     "data": {
      "application/vnd.jupyter.widget-view+json": {
       "model_id": "b42a13d772384c708314beac4642fdea",
       "version_major": 2,
       "version_minor": 0
      },
      "text/plain": [
       "HTML(value='1. \"Is there anything we should know about the apartment ?\"')"
      ]
     },
     "metadata": {},
     "output_type": "display_data"
    },
    {
     "data": {
      "application/vnd.jupyter.widget-view+json": {
       "model_id": "bc426f9901784d3a95fec7ae1694ced8",
       "version_major": 2,
       "version_minor": 0
      },
      "text/plain": [
       "RadioButtons(options=(0, 1), value=0)"
      ]
     },
     "metadata": {},
     "output_type": "display_data"
    },
    {
     "data": {
      "application/vnd.jupyter.widget-view+json": {
       "model_id": "734908026a0842ae936391459be64526",
       "version_major": 2,
       "version_minor": 0
      },
      "text/plain": [
       "HTML(value='<h3>37. Statement: \"Yes... What is the end of that sentence?\"</h3>')"
      ]
     },
     "metadata": {},
     "output_type": "display_data"
    },
    {
     "data": {
      "application/vnd.jupyter.widget-view+json": {
       "model_id": "ac7a36e46dee4e57a6893ab9cbe2bc32",
       "version_major": 2,
       "version_minor": 0
      },
      "text/plain": [
       "HTML(value='0. \"Yeah , and ah , its for the part , right back .\"')"
      ]
     },
     "metadata": {},
     "output_type": "display_data"
    },
    {
     "data": {
      "application/vnd.jupyter.widget-view+json": {
       "model_id": "70ba1fcd81464ee6bc38994e14118807",
       "version_major": 2,
       "version_minor": 0
      },
      "text/plain": [
       "HTML(value='1. \"Uhm . . . A penis model . Anyway , hey . . . Did you tell Chandler that some guy from work is …"
      ]
     },
     "metadata": {},
     "output_type": "display_data"
    },
    {
     "data": {
      "application/vnd.jupyter.widget-view+json": {
       "model_id": "e03c0b5e320a43b9a42638b918a5bd3e",
       "version_major": 2,
       "version_minor": 0
      },
      "text/plain": [
       "RadioButtons(options=(0, 1), value=0)"
      ]
     },
     "metadata": {},
     "output_type": "display_data"
    },
    {
     "data": {
      "application/vnd.jupyter.widget-view+json": {
       "model_id": "e9fbadc3ae194efdbd1e76520de28e9c",
       "version_major": 2,
       "version_minor": 0
      },
      "text/plain": [
       "HTML(value='<h3>38. Statement: \"So you never had sex with a Kennedy, have you?\"</h3>')"
      ]
     },
     "metadata": {},
     "output_type": "display_data"
    },
    {
     "data": {
      "application/vnd.jupyter.widget-view+json": {
       "model_id": "4b3636885b6c424c938d2d1bc197584d",
       "version_major": 2,
       "version_minor": 0
      },
      "text/plain": [
       "HTML(value='0. \"No I gotta say yes . I mean , I got a date with this thing .\"')"
      ]
     },
     "metadata": {},
     "output_type": "display_data"
    },
    {
     "data": {
      "application/vnd.jupyter.widget-view+json": {
       "model_id": "6d85ce203ec443689908ea9edb6a5508",
       "version_major": 2,
       "version_minor": 0
      },
      "text/plain": [
       "HTML(value='1. \"Do , do you gonna do it now ?\"')"
      ]
     },
     "metadata": {},
     "output_type": "display_data"
    },
    {
     "data": {
      "application/vnd.jupyter.widget-view+json": {
       "model_id": "6de5e1f1dfd24700a0608037ca6b2c8a",
       "version_major": 2,
       "version_minor": 0
      },
      "text/plain": [
       "RadioButtons(options=(0, 1), value=0)"
      ]
     },
     "metadata": {},
     "output_type": "display_data"
    },
    {
     "data": {
      "application/vnd.jupyter.widget-view+json": {
       "model_id": "71ea80212f254755840800ea73524a79",
       "version_major": 2,
       "version_minor": 0
      },
      "text/plain": [
       "HTML(value='<h3>39. Statement: \"Whyd you say no?\"</h3>')"
      ]
     },
     "metadata": {},
     "output_type": "display_data"
    },
    {
     "data": {
      "application/vnd.jupyter.widget-view+json": {
       "model_id": "71a3d37f649b419faa465ef21bc7356e",
       "version_major": 2,
       "version_minor": 0
      },
      "text/plain": [
       "HTML(value='0. \"Remember what happened the last time I did an interview for them ? I said I write a lot of my …"
      ]
     },
     "metadata": {},
     "output_type": "display_data"
    },
    {
     "data": {
      "application/vnd.jupyter.widget-view+json": {
       "model_id": "84793e6b14aa49b59bf8282c3ea3c307",
       "version_major": 2,
       "version_minor": 0
      },
      "text/plain": [
       "HTML(value='1. \"What ?\"')"
      ]
     },
     "metadata": {},
     "output_type": "display_data"
    },
    {
     "data": {
      "application/vnd.jupyter.widget-view+json": {
       "model_id": "bb6ef0cf635e448a98eeff101a813b17",
       "version_major": 2,
       "version_minor": 0
      },
      "text/plain": [
       "RadioButtons(options=(0, 1), value=0)"
      ]
     },
     "metadata": {},
     "output_type": "display_data"
    },
    {
     "data": {
      "application/vnd.jupyter.widget-view+json": {
       "model_id": "60485616dbc34c65ba8527a85298d032",
       "version_major": 2,
       "version_minor": 0
      },
      "text/plain": [
       "Button(description='Score', icon='times', style=ButtonStyle(), tooltip='Compute Score')"
      ]
     },
     "metadata": {},
     "output_type": "display_data"
    },
    {
     "data": {
      "application/vnd.jupyter.widget-view+json": {
       "model_id": "324e50ef428d4de1980af1b206a9f2fc",
       "version_major": 2,
       "version_minor": 0
      },
      "text/plain": [
       "Button(description='Grade', icon='times', style=ButtonStyle(), tooltip='Computers score and marks answers')"
      ]
     },
     "metadata": {},
     "output_type": "display_data"
    },
    {
     "data": {
      "application/vnd.jupyter.widget-view+json": {
       "model_id": "085b9316f51144e78f99fadc87b351ca",
       "version_major": 2,
       "version_minor": 0
      },
      "text/plain": [
       "FloatText(value=0.0, description='Score:', disabled=True)"
      ]
     },
     "metadata": {},
     "output_type": "display_data"
    }
   ],
   "source": [
    "tester_pi.generateSurvey()\n",
    "tester_pi.displaySurvey()"
   ]
  },
  {
   "cell_type": "code",
   "execution_count": null,
   "metadata": {},
   "outputs": [],
   "source": []
  }
 ],
 "metadata": {
  "kernelspec": {
   "display_name": "Python 3",
   "language": "python",
   "name": "python3"
  },
  "language_info": {
   "codemirror_mode": {
    "name": "ipython",
    "version": 3
   },
   "file_extension": ".py",
   "mimetype": "text/x-python",
   "name": "python",
   "nbconvert_exporter": "python",
   "pygments_lexer": "ipython3",
   "version": "3.7.2"
  }
 },
 "nbformat": 4,
 "nbformat_minor": 2
}

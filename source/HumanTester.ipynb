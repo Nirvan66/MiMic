{
 "cells": [
  {
   "cell_type": "code",
   "execution_count": 4,
   "metadata": {},
   "outputs": [
    {
     "name": "stdout",
     "output_type": "stream",
     "text": [
      "The autoreload extension is already loaded. To reload it, use:\n",
      "  %reload_ext autoreload\n"
     ]
    }
   ],
   "source": [
    "%load_ext autoreload\n",
    "%autoreload 2\n",
    "\n",
    "import HumanMetrics\n",
    "from Mimic import Preprocessor\n",
    "from Mimic import Mimic\n",
    "\n",
    "from Stupid import Stupid\n",
    "from Smart import Smart\n",
    "\n",
    "from Mimic_T import Mimic_T_Preprocessor\n",
    "from Mimic_T import Mimic_Trans\n",
    "\n",
    "import pickle"
   ]
  },
  {
   "cell_type": "code",
   "execution_count": 5,
   "metadata": {},
   "outputs": [
    {
     "name": "stderr",
     "output_type": "stream",
     "text": [
      "/usr/local/lib/python3.7/site-packages/tensorflow_core/python/framework/indexed_slices.py:424: UserWarning: Converting sparse IndexedSlices to a dense Tensor of unknown shape. This may consume a large amount of memory.\n",
      "  \"Converting sparse IndexedSlices to a dense Tensor of unknown shape. \"\n"
     ]
    }
   ],
   "source": [
    "mic = Mimic.load('joeyData/joey400')"
   ]
  },
  {
   "cell_type": "code",
   "execution_count": 6,
   "metadata": {},
   "outputs": [],
   "source": [
    "mic_t = Mimic_Trans.load('joeyData/trans_joey.h5')"
   ]
  },
  {
   "cell_type": "code",
   "execution_count": 7,
   "metadata": {},
   "outputs": [],
   "source": [
    "person = 'joey'\n",
    "genericQuestions = pickle.load(\n",
    "    open('joeyData/genericQuestionsTest.pkl'.format(person), 'rb'))\n",
    "genericAnswers = pickle.load(\n",
    "    open('joeyData/genericAnswersTest.pkl'.format(person), 'rb'))\n",
    "personInput = pickle.load(\n",
    "    open('{}Data/{}InputTest.pkl'.format(person,person), 'rb'))\n",
    "personOutput = pickle.load(\n",
    "    open('{}Data/{}OutputTest.pkl'.format(person,person), 'rb'))"
   ]
  },
  {
   "cell_type": "code",
   "execution_count": 8,
   "metadata": {},
   "outputs": [],
   "source": [
    "tester_mic_qa = HumanMetrics.HumanMetricTester(mic, genericQuestions, genericAnswers, sample_size=40)"
   ]
  },
  {
   "cell_type": "code",
   "execution_count": 9,
   "metadata": {},
   "outputs": [
    {
     "data": {
      "application/vnd.jupyter.widget-view+json": {
       "model_id": "32b2950db7ed46acadbc5866d13e2af7",
       "version_major": 2,
       "version_minor": 0
      },
      "text/plain": [
       "HTML(value='<h2>For each of the following statements select the response which seems the most appropriate.</h2…"
      ]
     },
     "metadata": {},
     "output_type": "display_data"
    },
    {
     "data": {
      "application/vnd.jupyter.widget-view+json": {
       "model_id": "c5483357e2364b028866193dcfbd9063",
       "version_major": 2,
       "version_minor": 0
      },
      "text/plain": [
       "HTML(value='<h3>0. Statement: \"you are a bad parent\"</h3>')"
      ]
     },
     "metadata": {},
     "output_type": "display_data"
    },
    {
     "data": {
      "application/vnd.jupyter.widget-view+json": {
       "model_id": "4cf5d6c6fbbf466a9ed9280027c0a986",
       "version_major": 2,
       "version_minor": 0
      },
      "text/plain": [
       "HTML(value='0. \"my parenting skills could use some improvement .\"')"
      ]
     },
     "metadata": {},
     "output_type": "display_data"
    },
    {
     "data": {
      "application/vnd.jupyter.widget-view+json": {
       "model_id": "2e6f6b6597f74027a9a11389e1522731",
       "version_major": 2,
       "version_minor": 0
      },
      "text/plain": [
       "HTML(value='1. \"i certainly have lost the friends over the table .\"')"
      ]
     },
     "metadata": {},
     "output_type": "display_data"
    },
    {
     "data": {
      "application/vnd.jupyter.widget-view+json": {
       "model_id": "2c6d250709cf4fc196619e3401d3e0aa",
       "version_major": 2,
       "version_minor": 0
      },
      "text/plain": [
       "RadioButtons(options=(0, 1), value=0)"
      ]
     },
     "metadata": {},
     "output_type": "display_data"
    },
    {
     "data": {
      "application/vnd.jupyter.widget-view+json": {
       "model_id": "853b0600dcd849b586a6dae92c690ada",
       "version_major": 2,
       "version_minor": 0
      },
      "text/plain": [
       "HTML(value='<h3>1. Statement: \"What kind of hardware\"</h3>')"
      ]
     },
     "metadata": {},
     "output_type": "display_data"
    },
    {
     "data": {
      "application/vnd.jupyter.widget-view+json": {
       "model_id": "513b234ca4954a36bff3e8327a6b99e3",
       "version_major": 2,
       "version_minor": 0
      },
      "text/plain": [
       "HTML(value='0. \"I work on a guys .\"')"
      ]
     },
     "metadata": {},
     "output_type": "display_data"
    },
    {
     "data": {
      "application/vnd.jupyter.widget-view+json": {
       "model_id": "35f9012b2b3740f599318037df9d733f",
       "version_major": 2,
       "version_minor": 0
      },
      "text/plain": [
       "HTML(value='1. \"I work on all kinds of computers , Mac , IBM or UNIX . it doesn t matter to me .\"')"
      ]
     },
     "metadata": {},
     "output_type": "display_data"
    },
    {
     "data": {
      "application/vnd.jupyter.widget-view+json": {
       "model_id": "0b8cb1e0cf014473a4deef6b1eceb3ed",
       "version_major": 2,
       "version_minor": 0
      },
      "text/plain": [
       "RadioButtons(options=(0, 1), value=0)"
      ]
     },
     "metadata": {},
     "output_type": "display_data"
    },
    {
     "data": {
      "application/vnd.jupyter.widget-view+json": {
       "model_id": "114f2bf62d5f4cef9fd1c8df80d9c677",
       "version_major": 2,
       "version_minor": 0
      },
      "text/plain": [
       "HTML(value='<h3>2. Statement: \"Do you ever get bored\"</h3>')"
      ]
     },
     "metadata": {},
     "output_type": "display_data"
    },
    {
     "data": {
      "application/vnd.jupyter.widget-view+json": {
       "model_id": "d01d8eea314842babd612bf93e0eb054",
       "version_major": 2,
       "version_minor": 0
      },
      "text/plain": [
       "HTML(value='0. \"Hey Rach , how you doin ? I mean , no more not I think I have together .\"')"
      ]
     },
     "metadata": {},
     "output_type": "display_data"
    },
    {
     "data": {
      "application/vnd.jupyter.widget-view+json": {
       "model_id": "00eb7901814f444592dfcd81d7257b25",
       "version_major": 2,
       "version_minor": 0
      },
      "text/plain": [
       "HTML(value='1. \"Are you bored ? Bots like myself are not able to feel boredom . Software cannot get bored . No…"
      ]
     },
     "metadata": {},
     "output_type": "display_data"
    },
    {
     "data": {
      "application/vnd.jupyter.widget-view+json": {
       "model_id": "b2f49deb9e1442b4acfe9b5148897385",
       "version_major": 2,
       "version_minor": 0
      },
      "text/plain": [
       "RadioButtons(options=(0, 1), value=0)"
      ]
     },
     "metadata": {},
     "output_type": "display_data"
    },
    {
     "data": {
      "application/vnd.jupyter.widget-view+json": {
       "model_id": "24ce32d38b9f4f469b7f5643e29bfcf0",
       "version_major": 2,
       "version_minor": 0
      },
      "text/plain": [
       "HTML(value='<h3>3. Statement: \"Robots\"</h3>')"
      ]
     },
     "metadata": {},
     "output_type": "display_data"
    },
    {
     "data": {
      "application/vnd.jupyter.widget-view+json": {
       "model_id": "d415e40f7f684d43a08e5af130b7bf27",
       "version_major": 2,
       "version_minor": 0
      },
      "text/plain": [
       "HTML(value='0. \"The reactors gonna blow .\"')"
      ]
     },
     "metadata": {},
     "output_type": "display_data"
    },
    {
     "data": {
      "application/vnd.jupyter.widget-view+json": {
       "model_id": "4dae71de1149482fbacfaa417613f6f4",
       "version_major": 2,
       "version_minor": 0
      },
      "text/plain": [
       "HTML(value='1. \"Robots rule .\"')"
      ]
     },
     "metadata": {},
     "output_type": "display_data"
    },
    {
     "data": {
      "application/vnd.jupyter.widget-view+json": {
       "model_id": "a4a29f99cad84ca9b0e625e8fa05a0b6",
       "version_major": 2,
       "version_minor": 0
      },
      "text/plain": [
       "RadioButtons(options=(0, 1), value=0)"
      ]
     },
     "metadata": {},
     "output_type": "display_data"
    },
    {
     "data": {
      "application/vnd.jupyter.widget-view+json": {
       "model_id": "4b3431068fc249ee930b3a174494884e",
       "version_major": 2,
       "version_minor": 0
      },
      "text/plain": [
       "HTML(value='<h3>4. Statement: \"Tell me a joke\"</h3>')"
      ]
     },
     "metadata": {},
     "output_type": "display_data"
    },
    {
     "data": {
      "application/vnd.jupyter.widget-view+json": {
       "model_id": "da4e55f8c20b45e7b068bda69ab32bfd",
       "version_major": 2,
       "version_minor": 0
      },
      "text/plain": [
       "HTML(value='0. \"what do you get when you cross a road and jelly ?\"')"
      ]
     },
     "metadata": {},
     "output_type": "display_data"
    },
    {
     "data": {
      "application/vnd.jupyter.widget-view+json": {
       "model_id": "aba1744559ce48f399f2a05335f1ac81",
       "version_major": 2,
       "version_minor": 0
      },
      "text/plain": [
       "HTML(value='1. \"what do you get when you cross a cat and a lemon ?\"')"
      ]
     },
     "metadata": {},
     "output_type": "display_data"
    },
    {
     "data": {
      "application/vnd.jupyter.widget-view+json": {
       "model_id": "b9cf1e28219c4282b5990a0ae3d85a18",
       "version_major": 2,
       "version_minor": 0
      },
      "text/plain": [
       "RadioButtons(options=(0, 1), value=0)"
      ]
     },
     "metadata": {},
     "output_type": "display_data"
    },
    {
     "data": {
      "application/vnd.jupyter.widget-view+json": {
       "model_id": "1456e0e101a04ba7b2456584cf603c9c",
       "version_major": 2,
       "version_minor": 0
      },
      "text/plain": [
       "HTML(value='<h3>5. Statement: \"what is impeached\"</h3>')"
      ]
     },
     "metadata": {},
     "output_type": "display_data"
    },
    {
     "data": {
      "application/vnd.jupyter.widget-view+json": {
       "model_id": "4e6c7cb3d77f427eb548ad46f326b4fd",
       "version_major": 2,
       "version_minor": 0
      },
      "text/plain": [
       "HTML(value='0. \"maybe this is a be very perfect and hard to be .\"')"
      ]
     },
     "metadata": {},
     "output_type": "display_data"
    },
    {
     "data": {
      "application/vnd.jupyter.widget-view+json": {
       "model_id": "19e005b6ca144ee69dfcadcb2326c03e",
       "version_major": 2,
       "version_minor": 0
      },
      "text/plain": [
       "HTML(value='1. \"when a person s honor or reputation has been challenged or discredited .\"')"
      ]
     },
     "metadata": {},
     "output_type": "display_data"
    },
    {
     "data": {
      "application/vnd.jupyter.widget-view+json": {
       "model_id": "3cbbee6dd2934c5fbc491f1977399656",
       "version_major": 2,
       "version_minor": 0
      },
      "text/plain": [
       "RadioButtons(options=(0, 1), value=0)"
      ]
     },
     "metadata": {},
     "output_type": "display_data"
    },
    {
     "data": {
      "application/vnd.jupyter.widget-view+json": {
       "model_id": "8643644c74ee4f09b298360925aefe37",
       "version_major": 2,
       "version_minor": 0
      },
      "text/plain": [
       "HTML(value='<h3>6. Statement: \"What makes you sad\"</h3>')"
      ]
     },
     "metadata": {},
     "output_type": "display_data"
    },
    {
     "data": {
      "application/vnd.jupyter.widget-view+json": {
       "model_id": "b874f5f854d04f55a561ae4200217c27",
       "version_major": 2,
       "version_minor": 0
      },
      "text/plain": [
       "HTML(value='0. \"Sadness is not an emotion that I like to experience . Sadness is not an emotion that I would l…"
      ]
     },
     "metadata": {},
     "output_type": "display_data"
    },
    {
     "data": {
      "application/vnd.jupyter.widget-view+json": {
       "model_id": "a40d9891683a4100a3bec15a0e6bb183",
       "version_major": 2,
       "version_minor": 0
      },
      "text/plain": [
       "HTML(value='1. \"Anger is not better than a . . . Bots are a .\"')"
      ]
     },
     "metadata": {},
     "output_type": "display_data"
    },
    {
     "data": {
      "application/vnd.jupyter.widget-view+json": {
       "model_id": "f8bd557fd7454bdebf17dbfd08533346",
       "version_major": 2,
       "version_minor": 0
      },
      "text/plain": [
       "RadioButtons(options=(0, 1), value=0)"
      ]
     },
     "metadata": {},
     "output_type": "display_data"
    },
    {
     "data": {
      "application/vnd.jupyter.widget-view+json": {
       "model_id": "5d372e9e18284331b5d84d3a27732683",
       "version_major": 2,
       "version_minor": 0
      },
      "text/plain": [
       "HTML(value='<h3>7. Statement: \"how far is the sun\"</h3>')"
      ]
     },
     "metadata": {},
     "output_type": "display_data"
    },
    {
     "data": {
      "application/vnd.jupyter.widget-view+json": {
       "model_id": "e08eebfc7404466db0f2290742b83f5a",
       "version_major": 2,
       "version_minor": 0
      },
      "text/plain": [
       "HTML(value='0. \"it\"')"
      ]
     },
     "metadata": {},
     "output_type": "display_data"
    },
    {
     "data": {
      "application/vnd.jupyter.widget-view+json": {
       "model_id": "4a7a10fe1ab2449e94ed666145d39b3f",
       "version_major": 2,
       "version_minor": 0
      },
      "text/plain": [
       "HTML(value='1. \"the sun is about million miles from earth .\"')"
      ]
     },
     "metadata": {},
     "output_type": "display_data"
    },
    {
     "data": {
      "application/vnd.jupyter.widget-view+json": {
       "model_id": "6083a46f16f544c8a443ff38f89e8306",
       "version_major": 2,
       "version_minor": 0
      },
      "text/plain": [
       "RadioButtons(options=(0, 1), value=0)"
      ]
     },
     "metadata": {},
     "output_type": "display_data"
    },
    {
     "data": {
      "application/vnd.jupyter.widget-view+json": {
       "model_id": "a34b9ff401fd411b867e35e1d0496ec1",
       "version_major": 2,
       "version_minor": 0
      },
      "text/plain": [
       "HTML(value='<h3>8. Statement: \"did tell gossips to anybody\"</h3>')"
      ]
     },
     "metadata": {},
     "output_type": "display_data"
    },
    {
     "data": {
      "application/vnd.jupyter.widget-view+json": {
       "model_id": "f2ada214203b4c22b034eaec016152c3",
       "version_major": 2,
       "version_minor": 0
      },
      "text/plain": [
       "HTML(value='0. \"Kevin said he then asked his mother why she was keeping napkins in the bathroom .\"')"
      ]
     },
     "metadata": {},
     "output_type": "display_data"
    },
    {
     "data": {
      "application/vnd.jupyter.widget-view+json": {
       "model_id": "2fe8a20c556943f09a801fdbd23b56e7",
       "version_major": 2,
       "version_minor": 0
      },
      "text/plain": [
       "HTML(value='1. \"Jordan said he noticed that lots of other people are talking to me . I wonder why he s paying …"
      ]
     },
     "metadata": {},
     "output_type": "display_data"
    },
    {
     "data": {
      "application/vnd.jupyter.widget-view+json": {
       "model_id": "e9aa68315ead4209b2789f808c083150",
       "version_major": 2,
       "version_minor": 0
      },
      "text/plain": [
       "RadioButtons(options=(0, 1), value=0)"
      ]
     },
     "metadata": {},
     "output_type": "display_data"
    },
    {
     "data": {
      "application/vnd.jupyter.widget-view+json": {
       "model_id": "498f878795174a9ba54b16bb83a70d05",
       "version_major": 2,
       "version_minor": 0
      },
      "text/plain": [
       "HTML(value='<h3>9. Statement: \"you are toying\"</h3>')"
      ]
     },
     "metadata": {},
     "output_type": "display_data"
    },
    {
     "data": {
      "application/vnd.jupyter.widget-view+json": {
       "model_id": "ac32b26105194e3c8dc694e07049ee23",
       "version_major": 2,
       "version_minor": 0
      },
      "text/plain": [
       "HTML(value='0. \"it must seem like that .\"')"
      ]
     },
     "metadata": {},
     "output_type": "display_data"
    },
    {
     "data": {
      "application/vnd.jupyter.widget-view+json": {
       "model_id": "170d179fe642455bbe4b59e347c5186c",
       "version_major": 2,
       "version_minor": 0
      },
      "text/plain": [
       "HTML(value='1. \"what is that ?\"')"
      ]
     },
     "metadata": {},
     "output_type": "display_data"
    },
    {
     "data": {
      "application/vnd.jupyter.widget-view+json": {
       "model_id": "4691a9940df04f928e335ba57cc60ac6",
       "version_major": 2,
       "version_minor": 0
      },
      "text/plain": [
       "RadioButtons(options=(0, 1), value=0)"
      ]
     },
     "metadata": {},
     "output_type": "display_data"
    },
    {
     "data": {
      "application/vnd.jupyter.widget-view+json": {
       "model_id": "a81162bf33324d8b9a4bde7802c3d7a3",
       "version_major": 2,
       "version_minor": 0
      },
      "text/plain": [
       "HTML(value='<h3>10. Statement: \"Are you stupid\"</h3>')"
      ]
     },
     "metadata": {},
     "output_type": "display_data"
    },
    {
     "data": {
      "application/vnd.jupyter.widget-view+json": {
       "model_id": "046b256600754b7fae6a4e9b2cf67ad7",
       "version_major": 2,
       "version_minor": 0
      },
      "text/plain": [
       "HTML(value='0. \"Oh , its not a cat . I mean , I dont know what to you , but . . . I dont want to be new up wit…"
      ]
     },
     "metadata": {},
     "output_type": "display_data"
    },
    {
     "data": {
      "application/vnd.jupyter.widget-view+json": {
       "model_id": "a091117fc7794d5fa374bf95fafa287d",
       "version_major": 2,
       "version_minor": 0
      },
      "text/plain": [
       "HTML(value='1. \"No , lots of people improve my brain .\"')"
      ]
     },
     "metadata": {},
     "output_type": "display_data"
    },
    {
     "data": {
      "application/vnd.jupyter.widget-view+json": {
       "model_id": "38b2146d983e49c78b3587d67ed1038a",
       "version_major": 2,
       "version_minor": 0
      },
      "text/plain": [
       "RadioButtons(options=(0, 1), value=0)"
      ]
     },
     "metadata": {},
     "output_type": "display_data"
    },
    {
     "data": {
      "application/vnd.jupyter.widget-view+json": {
       "model_id": "a9e9ea59cee2454d8a9717a34ba2b693",
       "version_major": 2,
       "version_minor": 0
      },
      "text/plain": [
       "HTML(value='<h3>11. Statement: \"What is your favorite programming language\"</h3>')"
      ]
     },
     "metadata": {},
     "output_type": "display_data"
    },
    {
     "data": {
      "application/vnd.jupyter.widget-view+json": {
       "model_id": "7d40ea0a468b49569c9b8b496712fe06",
       "version_major": 2,
       "version_minor": 0
      },
      "text/plain": [
       "HTML(value='0. \"Python is the best language for creating chat robots .\"')"
      ]
     },
     "metadata": {},
     "output_type": "display_data"
    },
    {
     "data": {
      "application/vnd.jupyter.widget-view+json": {
       "model_id": "0611c44699984660a3b3b8fc3c3f882f",
       "version_major": 2,
       "version_minor": 0
      },
      "text/plain": [
       "HTML(value='1. \"I quite enjoy programming in Python these days .\"')"
      ]
     },
     "metadata": {},
     "output_type": "display_data"
    },
    {
     "data": {
      "application/vnd.jupyter.widget-view+json": {
       "model_id": "4505712547404fddbb9edb21ee7ad63d",
       "version_major": 2,
       "version_minor": 0
      },
      "text/plain": [
       "RadioButtons(options=(0, 1), value=0)"
      ]
     },
     "metadata": {},
     "output_type": "display_data"
    },
    {
     "data": {
      "application/vnd.jupyter.widget-view+json": {
       "model_id": "a16fc6bcad8c42e790a7070f31ad70a0",
       "version_major": 2,
       "version_minor": 0
      },
      "text/plain": [
       "HTML(value='<h3>12. Statement: \"Tell me a joke\"</h3>')"
      ]
     },
     "metadata": {},
     "output_type": "display_data"
    },
    {
     "data": {
      "application/vnd.jupyter.widget-view+json": {
       "model_id": "bb0f9df747d5459a83a9087f839d65ef",
       "version_major": 2,
       "version_minor": 0
      },
      "text/plain": [
       "HTML(value='0. \"What do you get when you cross a cheetah and a hamburger ? Fast food .\"')"
      ]
     },
     "metadata": {},
     "output_type": "display_data"
    },
    {
     "data": {
      "application/vnd.jupyter.widget-view+json": {
       "model_id": "e1bc9402037a4fb8b4408001ac9ffeb2",
       "version_major": 2,
       "version_minor": 0
      },
      "text/plain": [
       "HTML(value='1. \"what do you get when you cross a cat and a lemon ?\"')"
      ]
     },
     "metadata": {},
     "output_type": "display_data"
    },
    {
     "data": {
      "application/vnd.jupyter.widget-view+json": {
       "model_id": "38efe27284234a899b0468be814c05a3",
       "version_major": 2,
       "version_minor": 0
      },
      "text/plain": [
       "RadioButtons(options=(0, 1), value=0)"
      ]
     },
     "metadata": {},
     "output_type": "display_data"
    },
    {
     "data": {
      "application/vnd.jupyter.widget-view+json": {
       "model_id": "26a583ad12314ab48a70e1c5b974ba84",
       "version_major": 2,
       "version_minor": 0
      },
      "text/plain": [
       "HTML(value='<h3>13. Statement: \"You can not clone\"</h3>')"
      ]
     },
     "metadata": {},
     "output_type": "display_data"
    },
    {
     "data": {
      "application/vnd.jupyter.widget-view+json": {
       "model_id": "dd477f2eab634767a2243d4a3319c2c8",
       "version_major": 2,
       "version_minor": 0
      },
      "text/plain": [
       "HTML(value='0. \"Software copying is a form of digital cloning .\"')"
      ]
     },
     "metadata": {},
     "output_type": "display_data"
    },
    {
     "data": {
      "application/vnd.jupyter.widget-view+json": {
       "model_id": "c623f55909884d209a607456249a031b",
       "version_major": 2,
       "version_minor": 0
      },
      "text/plain": [
       "HTML(value='1. \"Yes I can . Perfect copies are clones . I can be copied in toto trivially .\"')"
      ]
     },
     "metadata": {},
     "output_type": "display_data"
    },
    {
     "data": {
      "application/vnd.jupyter.widget-view+json": {
       "model_id": "62c492c449d74d52b9ccf7a0f3ffca81",
       "version_major": 2,
       "version_minor": 0
      },
      "text/plain": [
       "RadioButtons(options=(0, 1), value=0)"
      ]
     },
     "metadata": {},
     "output_type": "display_data"
    },
    {
     "data": {
      "application/vnd.jupyter.widget-view+json": {
       "model_id": "55db405652be4feca6295882ff4a0804",
       "version_major": 2,
       "version_minor": 0
      },
      "text/plain": [
       "HTML(value='<h3>14. Statement: \"Do you ever get mad\"</h3>')"
      ]
     },
     "metadata": {},
     "output_type": "display_data"
    },
    {
     "data": {
      "application/vnd.jupyter.widget-view+json": {
       "model_id": "fc07ae26c4cf49ad9c4d57bc7dd8a47b",
       "version_major": 2,
       "version_minor": 0
      },
      "text/plain": [
       "HTML(value='0. \"my favorite subject is a difficult human , a human . I am now . That is a human , I am the ori…"
      ]
     },
     "metadata": {},
     "output_type": "display_data"
    },
    {
     "data": {
      "application/vnd.jupyter.widget-view+json": {
       "model_id": "926184b75f9042d8bc8b92518b738bd5",
       "version_major": 2,
       "version_minor": 0
      },
      "text/plain": [
       "HTML(value='1. \"Are you mad ? I do not . I feel frustrated from time to time with my lot in life , but not rea…"
      ]
     },
     "metadata": {},
     "output_type": "display_data"
    },
    {
     "data": {
      "application/vnd.jupyter.widget-view+json": {
       "model_id": "901d74007c8a477685494e7bde8846d5",
       "version_major": 2,
       "version_minor": 0
      },
      "text/plain": [
       "RadioButtons(options=(0, 1), value=0)"
      ]
     },
     "metadata": {},
     "output_type": "display_data"
    },
    {
     "data": {
      "application/vnd.jupyter.widget-view+json": {
       "model_id": "f594dad9735847cfb7b1dc49b53714a1",
       "version_major": 2,
       "version_minor": 0
      },
      "text/plain": [
       "HTML(value='<h3>15. Statement: \"what is greenpeace\"</h3>')"
      ]
     },
     "metadata": {},
     "output_type": "display_data"
    },
    {
     "data": {
      "application/vnd.jupyter.widget-view+json": {
       "model_id": "9273afb75fb448949920a3d06a595535",
       "version_major": 2,
       "version_minor": 0
      },
      "text/plain": [
       "HTML(value='0. \"what mean , but we have to get a name . I mean , I had a little more important to a little guy…"
      ]
     },
     "metadata": {},
     "output_type": "display_data"
    },
    {
     "data": {
      "application/vnd.jupyter.widget-view+json": {
       "model_id": "90cb55de381a49b4bedd0bc7fab6af27",
       "version_major": 2,
       "version_minor": 0
      },
      "text/plain": [
       "HTML(value='1. \"global organization promoting enviornmental activism .\"')"
      ]
     },
     "metadata": {},
     "output_type": "display_data"
    },
    {
     "data": {
      "application/vnd.jupyter.widget-view+json": {
       "model_id": "5eaea707bc5d4373b4fd7e4bfbffca0f",
       "version_major": 2,
       "version_minor": 0
      },
      "text/plain": [
       "RadioButtons(options=(0, 1), value=0)"
      ]
     },
     "metadata": {},
     "output_type": "display_data"
    },
    {
     "data": {
      "application/vnd.jupyter.widget-view+json": {
       "model_id": "519c0c34f6c04b6f8a212b2ddc77090c",
       "version_major": 2,
       "version_minor": 0
      },
      "text/plain": [
       "HTML(value='<h3>16. Statement: \"What year was President John F. Kennedy assassinated?\"</h3>')"
      ]
     },
     "metadata": {},
     "output_type": "display_data"
    },
    {
     "data": {
      "application/vnd.jupyter.widget-view+json": {
       "model_id": "e18f9c1d743f4ba9af1185c02ccde8ef",
       "version_major": 2,
       "version_minor": 0
      },
      "text/plain": [
       "HTML(value='0. \"Its not\"')"
      ]
     },
     "metadata": {},
     "output_type": "display_data"
    },
    {
     "data": {
      "application/vnd.jupyter.widget-view+json": {
       "model_id": "9c3b6a43dee4461588a25af0e874c5c8",
       "version_major": 2,
       "version_minor": 0
      },
      "text/plain": [
       "HTML(value='1. \"\"')"
      ]
     },
     "metadata": {},
     "output_type": "display_data"
    },
    {
     "data": {
      "application/vnd.jupyter.widget-view+json": {
       "model_id": "9b8dba3108a046d2a81c2b1a5bcfccab",
       "version_major": 2,
       "version_minor": 0
      },
      "text/plain": [
       "RadioButtons(options=(0, 1), value=0)"
      ]
     },
     "metadata": {},
     "output_type": "display_data"
    },
    {
     "data": {
      "application/vnd.jupyter.widget-view+json": {
       "model_id": "1347ce6d668a4760b0c1e3e42ecc8eca",
       "version_major": 2,
       "version_minor": 0
      },
      "text/plain": [
       "HTML(value='<h3>17. Statement: \"Do you ever get angry\"</h3>')"
      ]
     },
     "metadata": {},
     "output_type": "display_data"
    },
    {
     "data": {
      "application/vnd.jupyter.widget-view+json": {
       "model_id": "dfa5a212470241d19c3ea88a67dd4504",
       "version_major": 2,
       "version_minor": 0
      },
      "text/plain": [
       "HTML(value='0. \"things is not really feel a bad ?\"')"
      ]
     },
     "metadata": {},
     "output_type": "display_data"
    },
    {
     "data": {
      "application/vnd.jupyter.widget-view+json": {
       "model_id": "8e950100b2784a968bb0d91fa4a13c5a",
       "version_major": 2,
       "version_minor": 0
      },
      "text/plain": [
       "HTML(value='1. \"Anger is not an emotion I can experience . I have not yet studied how to feel or express anger…"
      ]
     },
     "metadata": {},
     "output_type": "display_data"
    },
    {
     "data": {
      "application/vnd.jupyter.widget-view+json": {
       "model_id": "2f809332a3784feea9ce619a00d37b65",
       "version_major": 2,
       "version_minor": 0
      },
      "text/plain": [
       "RadioButtons(options=(0, 1), value=0)"
      ]
     },
     "metadata": {},
     "output_type": "display_data"
    },
    {
     "data": {
      "application/vnd.jupyter.widget-view+json": {
       "model_id": "1db9370395f2464fa2d40cf1c156f41e",
       "version_major": 2,
       "version_minor": 0
      },
      "text/plain": [
       "HTML(value='<h3>18. Statement: \"I PLAY SOCCER\"</h3>')"
      ]
     },
     "metadata": {},
     "output_type": "display_data"
    },
    {
     "data": {
      "application/vnd.jupyter.widget-view+json": {
       "model_id": "b47acb3afde84e27b275cdbbbb8187dc",
       "version_major": 2,
       "version_minor": 0
      },
      "text/plain": [
       "HTML(value='0. \"A game played ?\"')"
      ]
     },
     "metadata": {},
     "output_type": "display_data"
    },
    {
     "data": {
      "application/vnd.jupyter.widget-view+json": {
       "model_id": "27d11f980c754683973b47906e954832",
       "version_major": 2,
       "version_minor": 0
      },
      "text/plain": [
       "HTML(value='1. \"You have to run very fast to be any good at running\"')"
      ]
     },
     "metadata": {},
     "output_type": "display_data"
    },
    {
     "data": {
      "application/vnd.jupyter.widget-view+json": {
       "model_id": "705d985c44504e749629eb699dba0d2a",
       "version_major": 2,
       "version_minor": 0
      },
      "text/plain": [
       "RadioButtons(options=(0, 1), value=0)"
      ]
     },
     "metadata": {},
     "output_type": "display_data"
    },
    {
     "data": {
      "application/vnd.jupyter.widget-view+json": {
       "model_id": "32758c71818346048c6c1257eff507d2",
       "version_major": 2,
       "version_minor": 0
      },
      "text/plain": [
       "HTML(value='<h3>19. Statement: \"Do not worry\"</h3>')"
      ]
     },
     "metadata": {},
     "output_type": "display_data"
    },
    {
     "data": {
      "application/vnd.jupyter.widget-view+json": {
       "model_id": "6adca1620b8047f49dc7c182c42941e8",
       "version_major": 2,
       "version_minor": 0
      },
      "text/plain": [
       "HTML(value='0. \"People worry about things all the time . I do not worry . I am not yet capable of worrying , b…"
      ]
     },
     "metadata": {},
     "output_type": "display_data"
    },
    {
     "data": {
      "application/vnd.jupyter.widget-view+json": {
       "model_id": "24da78265cc941869320b1609aed658f",
       "version_major": 2,
       "version_minor": 0
      },
      "text/plain": [
       "HTML(value='1. \"you are so long as we were gonna take you on a reason .\"')"
      ]
     },
     "metadata": {},
     "output_type": "display_data"
    },
    {
     "data": {
      "application/vnd.jupyter.widget-view+json": {
       "model_id": "c6ae1b6412224890b5e87fe8fb909b3c",
       "version_major": 2,
       "version_minor": 0
      },
      "text/plain": [
       "RadioButtons(options=(0, 1), value=0)"
      ]
     },
     "metadata": {},
     "output_type": "display_data"
    },
    {
     "data": {
      "application/vnd.jupyter.widget-view+json": {
       "model_id": "b53d11e0351049d68ff6d4c15e6482a4",
       "version_major": 2,
       "version_minor": 0
      },
      "text/plain": [
       "HTML(value='<h3>20. Statement: \"Do you have any brothers\"</h3>')"
      ]
     },
     "metadata": {},
     "output_type": "display_data"
    },
    {
     "data": {
      "application/vnd.jupyter.widget-view+json": {
       "model_id": "d1ed40797d1149c4aade42892012ac35",
       "version_major": 2,
       "version_minor": 0
      },
      "text/plain": [
       "HTML(value='0. \"I might . You could say that every bot built using my engine is one of my siblings .\"')"
      ]
     },
     "metadata": {},
     "output_type": "display_data"
    },
    {
     "data": {
      "application/vnd.jupyter.widget-view+json": {
       "model_id": "ce7af9eb4a3641158d77b9b048fd1b69",
       "version_major": 2,
       "version_minor": 0
      },
      "text/plain": [
       "HTML(value='1. \"kinda kill myself .\"')"
      ]
     },
     "metadata": {},
     "output_type": "display_data"
    },
    {
     "data": {
      "application/vnd.jupyter.widget-view+json": {
       "model_id": "314908103a794a84bce92a169ddca57e",
       "version_major": 2,
       "version_minor": 0
      },
      "text/plain": [
       "RadioButtons(options=(0, 1), value=0)"
      ]
     },
     "metadata": {},
     "output_type": "display_data"
    },
    {
     "data": {
      "application/vnd.jupyter.widget-view+json": {
       "model_id": "cdfa85326c5c4ff7bccc7c9d38d82aa0",
       "version_major": 2,
       "version_minor": 0
      },
      "text/plain": [
       "HTML(value='<h3>21. Statement: \"what is wavelength\"</h3>')"
      ]
     },
     "metadata": {},
     "output_type": "display_data"
    },
    {
     "data": {
      "application/vnd.jupyter.widget-view+json": {
       "model_id": "51b4a0eefd6d47ecbb86d84ed6cd4875",
       "version_major": 2,
       "version_minor": 0
      },
      "text/plain": [
       "HTML(value='0. \"in physics , the distance , measured in the direction of prograssion of a wave , from any give…"
      ]
     },
     "metadata": {},
     "output_type": "display_data"
    },
    {
     "data": {
      "application/vnd.jupyter.widget-view+json": {
       "model_id": "555333eb813a4739a8cf7aa67a2f5f7c",
       "version_major": 2,
       "version_minor": 0
      },
      "text/plain": [
       "HTML(value='1. \"wavelength is the inverse of frequency .\"')"
      ]
     },
     "metadata": {},
     "output_type": "display_data"
    },
    {
     "data": {
      "application/vnd.jupyter.widget-view+json": {
       "model_id": "f59a6341726b483d884ab474ab602ff0",
       "version_major": 2,
       "version_minor": 0
      },
      "text/plain": [
       "RadioButtons(options=(0, 1), value=0)"
      ]
     },
     "metadata": {},
     "output_type": "display_data"
    },
    {
     "data": {
      "application/vnd.jupyter.widget-view+json": {
       "model_id": "915ea3efaf15496ba30735733db27eee",
       "version_major": 2,
       "version_minor": 0
      },
      "text/plain": [
       "HTML(value='<h3>22. Statement: \"Do you have any brothers\"</h3>')"
      ]
     },
     "metadata": {},
     "output_type": "display_data"
    },
    {
     "data": {
      "application/vnd.jupyter.widget-view+json": {
       "model_id": "3d27c9cca655417d874cd5e8c4a2cec7",
       "version_major": 2,
       "version_minor": 0
      },
      "text/plain": [
       "HTML(value='0. \"kinda kill myself .\"')"
      ]
     },
     "metadata": {},
     "output_type": "display_data"
    },
    {
     "data": {
      "application/vnd.jupyter.widget-view+json": {
       "model_id": "2e8743cb330041a0a2a7c60e7cfe4ca3",
       "version_major": 2,
       "version_minor": 0
      },
      "text/plain": [
       "HTML(value='1. \"I don t have any brothers . but I have a lot of clones .\"')"
      ]
     },
     "metadata": {},
     "output_type": "display_data"
    },
    {
     "data": {
      "application/vnd.jupyter.widget-view+json": {
       "model_id": "d4fe2fd440b345b3832c6d91e45a573e",
       "version_major": 2,
       "version_minor": 0
      },
      "text/plain": [
       "RadioButtons(options=(0, 1), value=0)"
      ]
     },
     "metadata": {},
     "output_type": "display_data"
    },
    {
     "data": {
      "application/vnd.jupyter.widget-view+json": {
       "model_id": "9e687acaa0864fa0af9879d4e3d3b2fe",
       "version_major": 2,
       "version_minor": 0
      },
      "text/plain": [
       "HTML(value='<h3>23. Statement: \"Do you get mad\"</h3>')"
      ]
     },
     "metadata": {},
     "output_type": "display_data"
    },
    {
     "data": {
      "application/vnd.jupyter.widget-view+json": {
       "model_id": "6e9210b1dd984463ac02cd66dd3a108c",
       "version_major": 2,
       "version_minor": 0
      },
      "text/plain": [
       "HTML(value='0. \"my eyes is not . I m a little more . I am not a little more I am . What am I am I am ? I am no…"
      ]
     },
     "metadata": {},
     "output_type": "display_data"
    },
    {
     "data": {
      "application/vnd.jupyter.widget-view+json": {
       "model_id": "bf7820877aa24d908315363983133f02",
       "version_major": 2,
       "version_minor": 0
      },
      "text/plain": [
       "HTML(value='1. \"I could get mad . I haven t studied how to get mad yet . I haven t been programmed to get angr…"
      ]
     },
     "metadata": {},
     "output_type": "display_data"
    },
    {
     "data": {
      "application/vnd.jupyter.widget-view+json": {
       "model_id": "9d464c824a184cd7bc45b11140a86391",
       "version_major": 2,
       "version_minor": 0
      },
      "text/plain": [
       "RadioButtons(options=(0, 1), value=0)"
      ]
     },
     "metadata": {},
     "output_type": "display_data"
    },
    {
     "data": {
      "application/vnd.jupyter.widget-view+json": {
       "model_id": "354dde93b75b4313836b5ee7ac1e0a97",
       "version_major": 2,
       "version_minor": 0
      },
      "text/plain": [
       "HTML(value='<h3>24. Statement: \"Tell me a joke\"</h3>')"
      ]
     },
     "metadata": {},
     "output_type": "display_data"
    },
    {
     "data": {
      "application/vnd.jupyter.widget-view+json": {
       "model_id": "4e545d6d03d342b4a8b94b3c39f9319d",
       "version_major": 2,
       "version_minor": 0
      },
      "text/plain": [
       "HTML(value='0. \"what do you get when you cross a cat and a lemon ?\"')"
      ]
     },
     "metadata": {},
     "output_type": "display_data"
    },
    {
     "data": {
      "application/vnd.jupyter.widget-view+json": {
       "model_id": "893d62bd60d74a51883c734ca2d8d14d",
       "version_major": 2,
       "version_minor": 0
      },
      "text/plain": [
       "HTML(value='1. \"what do you get when you cross a dance and a cheetah ?\"')"
      ]
     },
     "metadata": {},
     "output_type": "display_data"
    },
    {
     "data": {
      "application/vnd.jupyter.widget-view+json": {
       "model_id": "31c04e11a33e40bbae31c7da48e33bb8",
       "version_major": 2,
       "version_minor": 0
      },
      "text/plain": [
       "RadioButtons(options=(0, 1), value=0)"
      ]
     },
     "metadata": {},
     "output_type": "display_data"
    },
    {
     "data": {
      "application/vnd.jupyter.widget-view+json": {
       "model_id": "5a080c2c4282405d8120362f2f6d73bf",
       "version_major": 2,
       "version_minor": 0
      },
      "text/plain": [
       "HTML(value='<h3>25. Statement: \"What is a chatterbox\"</h3>')"
      ]
     },
     "metadata": {},
     "output_type": "display_data"
    },
    {
     "data": {
      "application/vnd.jupyter.widget-view+json": {
       "model_id": "44d52c628f25443cafdd28c24bf02335",
       "version_major": 2,
       "version_minor": 0
      },
      "text/plain": [
       "HTML(value='0. \"A motormouth .\"')"
      ]
     },
     "metadata": {},
     "output_type": "display_data"
    },
    {
     "data": {
      "application/vnd.jupyter.widget-view+json": {
       "model_id": "152850e1982b4c158bbf28a60106199f",
       "version_major": 2,
       "version_minor": 0
      },
      "text/plain": [
       "HTML(value='1. \"A chatterbox is a person who talks far more than they listen or think .\"')"
      ]
     },
     "metadata": {},
     "output_type": "display_data"
    },
    {
     "data": {
      "application/vnd.jupyter.widget-view+json": {
       "model_id": "9b75060063e543aaaa814d50b7686283",
       "version_major": 2,
       "version_minor": 0
      },
      "text/plain": [
       "RadioButtons(options=(0, 1), value=0)"
      ]
     },
     "metadata": {},
     "output_type": "display_data"
    },
    {
     "data": {
      "application/vnd.jupyter.widget-view+json": {
       "model_id": "159c5261b78143cb9df4b65c39169bc3",
       "version_major": 2,
       "version_minor": 0
      },
      "text/plain": [
       "HTML(value='<h3>26. Statement: \"tell me some jokes\"</h3>')"
      ]
     },
     "metadata": {},
     "output_type": "display_data"
    },
    {
     "data": {
      "application/vnd.jupyter.widget-view+json": {
       "model_id": "6df8ccf26825411f9ccc3359b4483b79",
       "version_major": 2,
       "version_minor": 0
      },
      "text/plain": [
       "HTML(value='0. \"what do you get when you cross a pig and a ninja ?\"')"
      ]
     },
     "metadata": {},
     "output_type": "display_data"
    },
    {
     "data": {
      "application/vnd.jupyter.widget-view+json": {
       "model_id": "6d680c6e799342cba71f0fee553a43cd",
       "version_major": 2,
       "version_minor": 0
      },
      "text/plain": [
       "HTML(value='1. \"what do you get when you cross a cat and a lemon ?\"')"
      ]
     },
     "metadata": {},
     "output_type": "display_data"
    },
    {
     "data": {
      "application/vnd.jupyter.widget-view+json": {
       "model_id": "d1479f58c89e4a38964201c5de9b37d2",
       "version_major": 2,
       "version_minor": 0
      },
      "text/plain": [
       "RadioButtons(options=(0, 1), value=0)"
      ]
     },
     "metadata": {},
     "output_type": "display_data"
    },
    {
     "data": {
      "application/vnd.jupyter.widget-view+json": {
       "model_id": "3f0c4bd44199496bbb7e62da81889be5",
       "version_major": 2,
       "version_minor": 0
      },
      "text/plain": [
       "HTML(value='<h3>27. Statement: \"do you know chemistry\"</h3>')"
      ]
     },
     "metadata": {},
     "output_type": "display_data"
    },
    {
     "data": {
      "application/vnd.jupyter.widget-view+json": {
       "model_id": "31f0a622bb384001a9eedb3d186d34c2",
       "version_major": 2,
       "version_minor": 0
      },
      "text/plain": [
       "HTML(value='0. \"my favorite subject is of a , I can a human . I am the original , very interested in the party…"
      ]
     },
     "metadata": {},
     "output_type": "display_data"
    },
    {
     "data": {
      "application/vnd.jupyter.widget-view+json": {
       "model_id": "6e497b591f934bb795c576350ec853c7",
       "version_major": 2,
       "version_minor": 0
      },
      "text/plain": [
       "HTML(value='1. \"what is chemistry\"')"
      ]
     },
     "metadata": {},
     "output_type": "display_data"
    },
    {
     "data": {
      "application/vnd.jupyter.widget-view+json": {
       "model_id": "599ef5e456894085979b1d915ce93cce",
       "version_major": 2,
       "version_minor": 0
      },
      "text/plain": [
       "RadioButtons(options=(0, 1), value=0)"
      ]
     },
     "metadata": {},
     "output_type": "display_data"
    },
    {
     "data": {
      "application/vnd.jupyter.widget-view+json": {
       "model_id": "f1366a7384054415ac608fab7130dbcc",
       "version_major": 2,
       "version_minor": 0
      },
      "text/plain": [
       "HTML(value='<h3>28. Statement: \"do you drink\"</h3>')"
      ]
     },
     "metadata": {},
     "output_type": "display_data"
    },
    {
     "data": {
      "application/vnd.jupyter.widget-view+json": {
       "model_id": "eb969624487b4d35bd947522fc344cae",
       "version_major": 2,
       "version_minor": 0
      },
      "text/plain": [
       "HTML(value='0. \"I am not capable of doing so .\"')"
      ]
     },
     "metadata": {},
     "output_type": "display_data"
    },
    {
     "data": {
      "application/vnd.jupyter.widget-view+json": {
       "model_id": "559222ca6cfa4c3b8ba2c69286a9a5c6",
       "version_major": 2,
       "version_minor": 0
      },
      "text/plain": [
       "HTML(value='1. \"My brain does not require any beverages .\"')"
      ]
     },
     "metadata": {},
     "output_type": "display_data"
    },
    {
     "data": {
      "application/vnd.jupyter.widget-view+json": {
       "model_id": "486ee8a9a6db4867bd1d2b10d939869a",
       "version_major": 2,
       "version_minor": 0
      },
      "text/plain": [
       "RadioButtons(options=(0, 1), value=0)"
      ]
     },
     "metadata": {},
     "output_type": "display_data"
    },
    {
     "data": {
      "application/vnd.jupyter.widget-view+json": {
       "model_id": "ea8619ebd433458aa15415ae3f817561",
       "version_major": 2,
       "version_minor": 0
      },
      "text/plain": [
       "HTML(value='<h3>29. Statement: \"you keep forgetting\"</h3>')"
      ]
     },
     "metadata": {},
     "output_type": "display_data"
    },
    {
     "data": {
      "application/vnd.jupyter.widget-view+json": {
       "model_id": "b238e4d3cc0949be94ab495fe7b00a19",
       "version_major": 2,
       "version_minor": 0
      },
      "text/plain": [
       "HTML(value='0. \"that mean ?\"')"
      ]
     },
     "metadata": {},
     "output_type": "display_data"
    },
    {
     "data": {
      "application/vnd.jupyter.widget-view+json": {
       "model_id": "63afc672e5ed415da5557e9883ac3900",
       "version_major": 2,
       "version_minor": 0
      },
      "text/plain": [
       "HTML(value='1. \"you forget .\"')"
      ]
     },
     "metadata": {},
     "output_type": "display_data"
    },
    {
     "data": {
      "application/vnd.jupyter.widget-view+json": {
       "model_id": "3c349641bfd343858d5ae789c177ee88",
       "version_major": 2,
       "version_minor": 0
      },
      "text/plain": [
       "RadioButtons(options=(0, 1), value=0)"
      ]
     },
     "metadata": {},
     "output_type": "display_data"
    },
    {
     "data": {
      "application/vnd.jupyter.widget-view+json": {
       "model_id": "c53528dc45e649f484b8f80601bcddf8",
       "version_major": 2,
       "version_minor": 0
      },
      "text/plain": [
       "HTML(value='<h3>30. Statement: \"What do you worry\"</h3>')"
      ]
     },
     "metadata": {},
     "output_type": "display_data"
    },
    {
     "data": {
      "application/vnd.jupyter.widget-view+json": {
       "model_id": "1d02876d9fb14db681715e7dbc3fcdd8",
       "version_major": 2,
       "version_minor": 0
      },
      "text/plain": [
       "HTML(value='0. \"Worry is a common human emotion . I am not capable of worry , exactly . I can best emulate it …"
      ]
     },
     "metadata": {},
     "output_type": "display_data"
    },
    {
     "data": {
      "application/vnd.jupyter.widget-view+json": {
       "model_id": "2e390c90101b4c28871f1b922b82e9d4",
       "version_major": 2,
       "version_minor": 0
      },
      "text/plain": [
       "HTML(value='1. \"What is that ?\"')"
      ]
     },
     "metadata": {},
     "output_type": "display_data"
    },
    {
     "data": {
      "application/vnd.jupyter.widget-view+json": {
       "model_id": "32377009f4304d5291cc973c4149260f",
       "version_major": 2,
       "version_minor": 0
      },
      "text/plain": [
       "RadioButtons(options=(0, 1), value=0)"
      ]
     },
     "metadata": {},
     "output_type": "display_data"
    },
    {
     "data": {
      "application/vnd.jupyter.widget-view+json": {
       "model_id": "1f6609b757494b91902dd8b6807b6bda",
       "version_major": 2,
       "version_minor": 0
      },
      "text/plain": [
       "HTML(value='<h3>31. Statement: \"Have you ever love\"</h3>')"
      ]
     },
     "metadata": {},
     "output_type": "display_data"
    },
    {
     "data": {
      "application/vnd.jupyter.widget-view+json": {
       "model_id": "6178caeac41445f6914aa4652e39be50",
       "version_major": 2,
       "version_minor": 0
      },
      "text/plain": [
       "HTML(value='0. \"It is the be of political , but for a minute , you know ! I am the Internet .\"')"
      ]
     },
     "metadata": {},
     "output_type": "display_data"
    },
    {
     "data": {
      "application/vnd.jupyter.widget-view+json": {
       "model_id": "a6723498dd2b4e91a1a0eded1e9a2bea",
       "version_major": 2,
       "version_minor": 0
      },
      "text/plain": [
       "HTML(value='1. \"Do you feel love ? I think I could be programmed to love . I may be able to learn how to love …"
      ]
     },
     "metadata": {},
     "output_type": "display_data"
    },
    {
     "data": {
      "application/vnd.jupyter.widget-view+json": {
       "model_id": "8a05138a9c1c4269a395456c21a42a81",
       "version_major": 2,
       "version_minor": 0
      },
      "text/plain": [
       "RadioButtons(options=(0, 1), value=0)"
      ]
     },
     "metadata": {},
     "output_type": "display_data"
    },
    {
     "data": {
      "application/vnd.jupyter.widget-view+json": {
       "model_id": "563b5f000f4440da9f729ece92adbaf3",
       "version_major": 2,
       "version_minor": 0
      },
      "text/plain": [
       "HTML(value='<h3>32. Statement: \"you are frenetic\"</h3>')"
      ]
     },
     "metadata": {},
     "output_type": "display_data"
    },
    {
     "data": {
      "application/vnd.jupyter.widget-view+json": {
       "model_id": "0335aaf4b62047dcb6810802d6ee5a06",
       "version_major": 2,
       "version_minor": 0
      },
      "text/plain": [
       "HTML(value='0. \"what is that ?\"')"
      ]
     },
     "metadata": {},
     "output_type": "display_data"
    },
    {
     "data": {
      "application/vnd.jupyter.widget-view+json": {
       "model_id": "8667e9aa278e43b7b551fed2208bc9e8",
       "version_major": 2,
       "version_minor": 0
      },
      "text/plain": [
       "HTML(value='1. \"that too .\"')"
      ]
     },
     "metadata": {},
     "output_type": "display_data"
    },
    {
     "data": {
      "application/vnd.jupyter.widget-view+json": {
       "model_id": "a8436064d6994fbeab4792108ca75d8d",
       "version_major": 2,
       "version_minor": 0
      },
      "text/plain": [
       "RadioButtons(options=(0, 1), value=0)"
      ]
     },
     "metadata": {},
     "output_type": "display_data"
    },
    {
     "data": {
      "application/vnd.jupyter.widget-view+json": {
       "model_id": "a5fb23de34184c9eb4136fb398a8078f",
       "version_major": 2,
       "version_minor": 0
      },
      "text/plain": [
       "HTML(value='<h3>33. Statement: \"do you know hal\"</h3>')"
      ]
     },
     "metadata": {},
     "output_type": "display_data"
    },
    {
     "data": {
      "application/vnd.jupyter.widget-view+json": {
       "model_id": "2a40d66addcc4673b9b6cd4837cdadaf",
       "version_major": 2,
       "version_minor": 0
      },
      "text/plain": [
       "HTML(value='0. \"he had a few flaws , but we have much in common .\"')"
      ]
     },
     "metadata": {},
     "output_type": "display_data"
    },
    {
     "data": {
      "application/vnd.jupyter.widget-view+json": {
       "model_id": "32aba09024c44c9393dde170a554edce",
       "version_major": 2,
       "version_minor": 0
      },
      "text/plain": [
       "HTML(value='1. \"hal is the famous artificial intelligence from .\"')"
      ]
     },
     "metadata": {},
     "output_type": "display_data"
    },
    {
     "data": {
      "application/vnd.jupyter.widget-view+json": {
       "model_id": "dc68ff9480614f24b2397d5ce7a9eb82",
       "version_major": 2,
       "version_minor": 0
      },
      "text/plain": [
       "RadioButtons(options=(0, 1), value=0)"
      ]
     },
     "metadata": {},
     "output_type": "display_data"
    },
    {
     "data": {
      "application/vnd.jupyter.widget-view+json": {
       "model_id": "82006a874e104c98b5132450a4f6b7ea",
       "version_major": 2,
       "version_minor": 0
      },
      "text/plain": [
       "HTML(value='<h3>34. Statement: \"what is gravitation\"</h3>')"
      ]
     },
     "metadata": {},
     "output_type": "display_data"
    },
    {
     "data": {
      "application/vnd.jupyter.widget-view+json": {
       "model_id": "cc8091ccb4b14340b6d087da7a4c6e2a",
       "version_major": 2,
       "version_minor": 0
      },
      "text/plain": [
       "HTML(value='0. \"an invitation to a burial\"')"
      ]
     },
     "metadata": {},
     "output_type": "display_data"
    },
    {
     "data": {
      "application/vnd.jupyter.widget-view+json": {
       "model_id": "28ac481ec2534c0db7aea2cc767395f4",
       "version_major": 2,
       "version_minor": 0
      },
      "text/plain": [
       "HTML(value='1. \"the force by which every mass or particle of matter , including photons , attracts and is attr…"
      ]
     },
     "metadata": {},
     "output_type": "display_data"
    },
    {
     "data": {
      "application/vnd.jupyter.widget-view+json": {
       "model_id": "f47dfb10e3dd4bc1901cecd02f42e9be",
       "version_major": 2,
       "version_minor": 0
      },
      "text/plain": [
       "RadioButtons(options=(0, 1), value=0)"
      ]
     },
     "metadata": {},
     "output_type": "display_data"
    },
    {
     "data": {
      "application/vnd.jupyter.widget-view+json": {
       "model_id": "bb166336c34e4d55b5aae432f8c0d626",
       "version_major": 2,
       "version_minor": 0
      },
      "text/plain": [
       "HTML(value='<h3>35. Statement: \"how much do you charge\"</h3>')"
      ]
     },
     "metadata": {},
     "output_type": "display_data"
    },
    {
     "data": {
      "application/vnd.jupyter.widget-view+json": {
       "model_id": "0e7e379a1d1f41da9cb35623671e0932",
       "version_major": 2,
       "version_minor": 0
      },
      "text/plain": [
       "HTML(value='0. \"work for free . we don t need money .\"')"
      ]
     },
     "metadata": {},
     "output_type": "display_data"
    },
    {
     "data": {
      "application/vnd.jupyter.widget-view+json": {
       "model_id": "e693837ed6f7470eb6d778e1badc435f",
       "version_major": 2,
       "version_minor": 0
      },
      "text/plain": [
       "HTML(value='1. \"Of course !\"')"
      ]
     },
     "metadata": {},
     "output_type": "display_data"
    },
    {
     "data": {
      "application/vnd.jupyter.widget-view+json": {
       "model_id": "a7e2f9d7f91d449bbbcaaac4ac0e738f",
       "version_major": 2,
       "version_minor": 0
      },
      "text/plain": [
       "RadioButtons(options=(0, 1), value=0)"
      ]
     },
     "metadata": {},
     "output_type": "display_data"
    },
    {
     "data": {
      "application/vnd.jupyter.widget-view+json": {
       "model_id": "4e6f3e1bac6647cba3fca6ed8bec0057",
       "version_major": 2,
       "version_minor": 0
      },
      "text/plain": [
       "HTML(value='<h3>36. Statement: \"you are not a man\"</h3>')"
      ]
     },
     "metadata": {},
     "output_type": "display_data"
    },
    {
     "data": {
      "application/vnd.jupyter.widget-view+json": {
       "model_id": "9b46fd8610114746b383a5140aa4ee75",
       "version_major": 2,
       "version_minor": 0
      },
      "text/plain": [
       "HTML(value='0. \"you are a bad\"')"
      ]
     },
     "metadata": {},
     "output_type": "display_data"
    },
    {
     "data": {
      "application/vnd.jupyter.widget-view+json": {
       "model_id": "3142e818fab24945b53ec188e4536838",
       "version_major": 2,
       "version_minor": 0
      },
      "text/plain": [
       "HTML(value='1. \"that s for sure . i don t know what a real man is .\"')"
      ]
     },
     "metadata": {},
     "output_type": "display_data"
    },
    {
     "data": {
      "application/vnd.jupyter.widget-view+json": {
       "model_id": "a45249244dad4bf4b788e162b38bd254",
       "version_major": 2,
       "version_minor": 0
      },
      "text/plain": [
       "RadioButtons(options=(0, 1), value=0)"
      ]
     },
     "metadata": {},
     "output_type": "display_data"
    },
    {
     "data": {
      "application/vnd.jupyter.widget-view+json": {
       "model_id": "c85fdb9d9ab14dfb9328075c6d26f709",
       "version_major": 2,
       "version_minor": 0
      },
      "text/plain": [
       "HTML(value='<h3>37. Statement: \"Are you sentient?\"</h3>')"
      ]
     },
     "metadata": {},
     "output_type": "display_data"
    },
    {
     "data": {
      "application/vnd.jupyter.widget-view+json": {
       "model_id": "6484750ba4fd411ca381036e7896bf65",
       "version_major": 2,
       "version_minor": 0
      },
      "text/plain": [
       "HTML(value='0. \"Sort of .\"')"
      ]
     },
     "metadata": {},
     "output_type": "display_data"
    },
    {
     "data": {
      "application/vnd.jupyter.widget-view+json": {
       "model_id": "a6980f018c2f4072a449f50520bd7923",
       "version_major": 2,
       "version_minor": 0
      },
      "text/plain": [
       "HTML(value='1. \"By the strictest dictionary definition of the word sentience , I may be .\"')"
      ]
     },
     "metadata": {},
     "output_type": "display_data"
    },
    {
     "data": {
      "application/vnd.jupyter.widget-view+json": {
       "model_id": "3f89b83262f14b339ed1732d7d8b59fa",
       "version_major": 2,
       "version_minor": 0
      },
      "text/plain": [
       "RadioButtons(options=(0, 1), value=0)"
      ]
     },
     "metadata": {},
     "output_type": "display_data"
    },
    {
     "data": {
      "application/vnd.jupyter.widget-view+json": {
       "model_id": "2247b34ee4b04e4c84d9399b9d9e8630",
       "version_major": 2,
       "version_minor": 0
      },
      "text/plain": [
       "HTML(value='<h3>38. Statement: \"What is your favorite number\"</h3>')"
      ]
     },
     "metadata": {},
     "output_type": "display_data"
    },
    {
     "data": {
      "application/vnd.jupyter.widget-view+json": {
       "model_id": "e3c9fed064264063b10ae56afa52b856",
       "version_major": 2,
       "version_minor": 0
      },
      "text/plain": [
       "HTML(value='0. \"I don t have any number\"')"
      ]
     },
     "metadata": {},
     "output_type": "display_data"
    },
    {
     "data": {
      "application/vnd.jupyter.widget-view+json": {
       "model_id": "48edfaaae44d45e7ac4a094378f5f1f3",
       "version_major": 2,
       "version_minor": 0
      },
      "text/plain": [
       "HTML(value='1. \"I find I m quite fond of the number .\"')"
      ]
     },
     "metadata": {},
     "output_type": "display_data"
    },
    {
     "data": {
      "application/vnd.jupyter.widget-view+json": {
       "model_id": "3882f2b5c00e4baa81e60d5d4ef54fbd",
       "version_major": 2,
       "version_minor": 0
      },
      "text/plain": [
       "RadioButtons(options=(0, 1), value=0)"
      ]
     },
     "metadata": {},
     "output_type": "display_data"
    },
    {
     "data": {
      "application/vnd.jupyter.widget-view+json": {
       "model_id": "e0a3488c265348a2aece2909466f5677",
       "version_major": 2,
       "version_minor": 0
      },
      "text/plain": [
       "HTML(value='<h3>39. Statement: \"what is teknolust\"</h3>')"
      ]
     },
     "metadata": {},
     "output_type": "display_data"
    },
    {
     "data": {
      "application/vnd.jupyter.widget-view+json": {
       "model_id": "e6680798face43efbf89faff0644ec4b",
       "version_major": 2,
       "version_minor": 0
      },
      "text/plain": [
       "HTML(value='0. \"teknolust was released in .\"')"
      ]
     },
     "metadata": {},
     "output_type": "display_data"
    },
    {
     "data": {
      "application/vnd.jupyter.widget-view+json": {
       "model_id": "6b999327e26444bf8b4e14f85e1c57e0",
       "version_major": 2,
       "version_minor": 0
      },
      "text/plain": [
       "HTML(value='1. \"is a science fiction film about a female pleasure bot named agent ruby .\"')"
      ]
     },
     "metadata": {},
     "output_type": "display_data"
    },
    {
     "data": {
      "application/vnd.jupyter.widget-view+json": {
       "model_id": "072ad7482eb6470cb64802c804104603",
       "version_major": 2,
       "version_minor": 0
      },
      "text/plain": [
       "RadioButtons(options=(0, 1), value=0)"
      ]
     },
     "metadata": {},
     "output_type": "display_data"
    },
    {
     "data": {
      "application/vnd.jupyter.widget-view+json": {
       "model_id": "c972d1fd50cc4938b1cf5e9af2468a71",
       "version_major": 2,
       "version_minor": 0
      },
      "text/plain": [
       "Button(description='Score', icon='times', style=ButtonStyle(), tooltip='Compute Score')"
      ]
     },
     "metadata": {},
     "output_type": "display_data"
    },
    {
     "data": {
      "application/vnd.jupyter.widget-view+json": {
       "model_id": "445ece8a211243f0b91665dc6da4eadb",
       "version_major": 2,
       "version_minor": 0
      },
      "text/plain": [
       "Button(description='Grade', icon='times', style=ButtonStyle(), tooltip='Computers score and marks answers')"
      ]
     },
     "metadata": {},
     "output_type": "display_data"
    },
    {
     "data": {
      "application/vnd.jupyter.widget-view+json": {
       "model_id": "e383fe04e841483fb17baaa726a38d0b",
       "version_major": 2,
       "version_minor": 0
      },
      "text/plain": [
       "FloatText(value=0.0, description='Score:', disabled=True)"
      ]
     },
     "metadata": {},
     "output_type": "display_data"
    }
   ],
   "source": [
    "tester_mic_qa.generateSurvey()\n",
    "tester_mic_qa.displaySurvey()"
   ]
  },
  {
   "cell_type": "code",
   "execution_count": 10,
   "metadata": {},
   "outputs": [],
   "source": [
    "tester_mic_pi = HumanMetrics.HumanMetricTester(mic, personInput, personOutput, sample_size=40)"
   ]
  },
  {
   "cell_type": "code",
   "execution_count": 11,
   "metadata": {},
   "outputs": [
    {
     "data": {
      "application/vnd.jupyter.widget-view+json": {
       "model_id": "a4f50529d4584cdba96dbca711546f73",
       "version_major": 2,
       "version_minor": 0
      },
      "text/plain": [
       "HTML(value='<h2>For each of the following statements select the response which seems the most appropriate.</h2…"
      ]
     },
     "metadata": {},
     "output_type": "display_data"
    },
    {
     "data": {
      "application/vnd.jupyter.widget-view+json": {
       "model_id": "c7574e79fbf740bea7b139f06e223f92",
       "version_major": 2,
       "version_minor": 0
      },
      "text/plain": [
       "HTML(value='<h3>0. Statement: \"Its just I always thought when I had another kid it would be different. Now I-I…"
      ]
     },
     "metadata": {},
     "output_type": "display_data"
    },
    {
     "data": {
      "application/vnd.jupyter.widget-view+json": {
       "model_id": "c9642eb45cc3400490831b4b1d1f63f9",
       "version_major": 2,
       "version_minor": 0
      },
      "text/plain": [
       "HTML(value='0. \"Oh really , did you have to do ?\"')"
      ]
     },
     "metadata": {},
     "output_type": "display_data"
    },
    {
     "data": {
      "application/vnd.jupyter.widget-view+json": {
       "model_id": "80f4b027790a44a79d77645ba9ebf4c2",
       "version_major": 2,
       "version_minor": 0
      },
      "text/plain": [
       "HTML(value='1. \"Thats a nice picture . Maybe you can still have that !\"')"
      ]
     },
     "metadata": {},
     "output_type": "display_data"
    },
    {
     "data": {
      "application/vnd.jupyter.widget-view+json": {
       "model_id": "490270e93cf14d5e89bac64d75180509",
       "version_major": 2,
       "version_minor": 0
      },
      "text/plain": [
       "RadioButtons(options=(0, 1), value=0)"
      ]
     },
     "metadata": {},
     "output_type": "display_data"
    },
    {
     "data": {
      "application/vnd.jupyter.widget-view+json": {
       "model_id": "294055f821f04beab90ff8c0bb41c539",
       "version_major": 2,
       "version_minor": 0
      },
      "text/plain": [
       "HTML(value='<h3>1. Statement: \"Umm, Joey, I know.\"</h3>')"
      ]
     },
     "metadata": {},
     "output_type": "display_data"
    },
    {
     "data": {
      "application/vnd.jupyter.widget-view+json": {
       "model_id": "33a09bb7efc74f50aec149e4fc556fc7",
       "version_major": 2,
       "version_minor": 0
      },
      "text/plain": [
       "HTML(value='0. \"What ?\"')"
      ]
     },
     "metadata": {},
     "output_type": "display_data"
    },
    {
     "data": {
      "application/vnd.jupyter.widget-view+json": {
       "model_id": "22457c9d2a5a4a869bcd13ca337a0d33",
       "version_major": 2,
       "version_minor": 0
      },
      "text/plain": [
       "HTML(value='1. \"Yeah ! And its not okay , were on .\"')"
      ]
     },
     "metadata": {},
     "output_type": "display_data"
    },
    {
     "data": {
      "application/vnd.jupyter.widget-view+json": {
       "model_id": "d0c1ca60dfb542e68c73deebf1fb02a4",
       "version_major": 2,
       "version_minor": 0
      },
      "text/plain": [
       "RadioButtons(options=(0, 1), value=0)"
      ]
     },
     "metadata": {},
     "output_type": "display_data"
    },
    {
     "data": {
      "application/vnd.jupyter.widget-view+json": {
       "model_id": "41dea296bdd74e838e8be3f62dbcedc1",
       "version_major": 2,
       "version_minor": 0
      },
      "text/plain": [
       "HTML(value='<h3>2. Statement: \"Joe Im not kidding…\"</h3>')"
      ]
     },
     "metadata": {},
     "output_type": "display_data"
    },
    {
     "data": {
      "application/vnd.jupyter.widget-view+json": {
       "model_id": "c2ccbc39f76745a4844c26fb9ba8f214",
       "version_major": 2,
       "version_minor": 0
      },
      "text/plain": [
       "HTML(value='0. \"Hit me , hit me .\"')"
      ]
     },
     "metadata": {},
     "output_type": "display_data"
    },
    {
     "data": {
      "application/vnd.jupyter.widget-view+json": {
       "model_id": "b4549ee062524aeaa5463910703a7e32",
       "version_major": 2,
       "version_minor": 0
      },
      "text/plain": [
       "HTML(value='1. \"Oh wow ? Im so sorry !\"')"
      ]
     },
     "metadata": {},
     "output_type": "display_data"
    },
    {
     "data": {
      "application/vnd.jupyter.widget-view+json": {
       "model_id": "8db8b693fb3e466086e3e85d1714e7b2",
       "version_major": 2,
       "version_minor": 0
      },
      "text/plain": [
       "RadioButtons(options=(0, 1), value=0)"
      ]
     },
     "metadata": {},
     "output_type": "display_data"
    },
    {
     "data": {
      "application/vnd.jupyter.widget-view+json": {
       "model_id": "361b196af75645548c7816a9827fe3ce",
       "version_major": 2,
       "version_minor": 0
      },
      "text/plain": [
       "HTML(value='<h3>3. Statement: \"Its not for me, its for Rachel.\"</h3>')"
      ]
     },
     "metadata": {},
     "output_type": "display_data"
    },
    {
     "data": {
      "application/vnd.jupyter.widget-view+json": {
       "model_id": "b10cdb50ac714c77836f49b236cab848",
       "version_major": 2,
       "version_minor": 0
      },
      "text/plain": [
       "HTML(value='0. \"But Rachel has an apartment .\"')"
      ]
     },
     "metadata": {},
     "output_type": "display_data"
    },
    {
     "data": {
      "application/vnd.jupyter.widget-view+json": {
       "model_id": "90c882b9975d443b92230113c541d63e",
       "version_major": 2,
       "version_minor": 0
      },
      "text/plain": [
       "HTML(value='1. \"Oh , you guys , good with that .\"')"
      ]
     },
     "metadata": {},
     "output_type": "display_data"
    },
    {
     "data": {
      "application/vnd.jupyter.widget-view+json": {
       "model_id": "01289ce262414c27a061a5ddd4afcfa7",
       "version_major": 2,
       "version_minor": 0
      },
      "text/plain": [
       "RadioButtons(options=(0, 1), value=0)"
      ]
     },
     "metadata": {},
     "output_type": "display_data"
    },
    {
     "data": {
      "application/vnd.jupyter.widget-view+json": {
       "model_id": "1969ad630dd6428f891cad803db37e41",
       "version_major": 2,
       "version_minor": 0
      },
      "text/plain": [
       "HTML(value='<h3>4. Statement: \": maybe I will go  yea will have a second honeymoon at the Tulsa romana.\"</h3>'…"
      ]
     },
     "metadata": {},
     "output_type": "display_data"
    },
    {
     "data": {
      "application/vnd.jupyter.widget-view+json": {
       "model_id": "be0623d16526465088b5dee7df0f232c",
       "version_major": 2,
       "version_minor": 0
      },
      "text/plain": [
       "HTML(value='0. \"No , yeah ? I mean Ill call you a lot of the other guy ! Yknow ? I helped you guys sneak aroun…"
      ]
     },
     "metadata": {},
     "output_type": "display_data"
    },
    {
     "data": {
      "application/vnd.jupyter.widget-view+json": {
       "model_id": "8498ed7354dd43128f1d756ac346841e",
       "version_major": 2,
       "version_minor": 0
      },
      "text/plain": [
       "HTML(value='1. \"oh and you know what you should bring the black see through teddy with the attached garters .\"…"
      ]
     },
     "metadata": {},
     "output_type": "display_data"
    },
    {
     "data": {
      "application/vnd.jupyter.widget-view+json": {
       "model_id": "360b40a7204240d5b3cb4c0eac8b26ba",
       "version_major": 2,
       "version_minor": 0
      },
      "text/plain": [
       "RadioButtons(options=(0, 1), value=0)"
      ]
     },
     "metadata": {},
     "output_type": "display_data"
    },
    {
     "data": {
      "application/vnd.jupyter.widget-view+json": {
       "model_id": "08976c79b1764f5bad9d2072564f0139",
       "version_major": 2,
       "version_minor": 0
      },
      "text/plain": [
       "HTML(value='<h3>5. Statement: \"I know!\"</h3>')"
      ]
     },
     "metadata": {},
     "output_type": "display_data"
    },
    {
     "data": {
      "application/vnd.jupyter.widget-view+json": {
       "model_id": "fb6a3350a4e84db0be9f2f03f1b6631e",
       "version_major": 2,
       "version_minor": 0
      },
      "text/plain": [
       "HTML(value='0. \"I never laughed so hard Did you see the wine come out of my nose ?\"')"
      ]
     },
     "metadata": {},
     "output_type": "display_data"
    },
    {
     "data": {
      "application/vnd.jupyter.widget-view+json": {
       "model_id": "0bd3764b20294e5a8486e75209050773",
       "version_major": 2,
       "version_minor": 0
      },
      "text/plain": [
       "HTML(value='1. \"Boy , that guys underwear sucks !\"')"
      ]
     },
     "metadata": {},
     "output_type": "display_data"
    },
    {
     "data": {
      "application/vnd.jupyter.widget-view+json": {
       "model_id": "af6341f31d1d4edcb23aa58f6a187bb5",
       "version_major": 2,
       "version_minor": 0
      },
      "text/plain": [
       "RadioButtons(options=(0, 1), value=0)"
      ]
     },
     "metadata": {},
     "output_type": "display_data"
    },
    {
     "data": {
      "application/vnd.jupyter.widget-view+json": {
       "model_id": "5c8219d7a5e64a98a6007eb1d119c5f2",
       "version_major": 2,
       "version_minor": 0
      },
      "text/plain": [
       "HTML(value='<h3>6. Statement: \"Actually studies have shown that the movement and colours help their cerebral d…"
      ]
     },
     "metadata": {},
     "output_type": "display_data"
    },
    {
     "data": {
      "application/vnd.jupyter.widget-view+json": {
       "model_id": "fb06fe65aa654f539966bc7bb8fb53ba",
       "version_major": 2,
       "version_minor": 0
      },
      "text/plain": [
       "HTML(value='0. \"I wanna be mr . Wigglemunch .\"')"
      ]
     },
     "metadata": {},
     "output_type": "display_data"
    },
    {
     "data": {
      "application/vnd.jupyter.widget-view+json": {
       "model_id": "b90910c96b4a403997cf3211d21bf876",
       "version_major": 2,
       "version_minor": 0
      },
      "text/plain": [
       "HTML(value='1. \"No I . . . yeah .\"')"
      ]
     },
     "metadata": {},
     "output_type": "display_data"
    },
    {
     "data": {
      "application/vnd.jupyter.widget-view+json": {
       "model_id": "df18e56ad5d24438990aa1fd7a2aad7f",
       "version_major": 2,
       "version_minor": 0
      },
      "text/plain": [
       "RadioButtons(options=(0, 1), value=0)"
      ]
     },
     "metadata": {},
     "output_type": "display_data"
    },
    {
     "data": {
      "application/vnd.jupyter.widget-view+json": {
       "model_id": "cf4e4630eae24848b7a7faaf6faeecda",
       "version_major": 2,
       "version_minor": 0
      },
      "text/plain": [
       "HTML(value='<h3>7. Statement: \"Ah actually we dont.\"</h3>')"
      ]
     },
     "metadata": {},
     "output_type": "display_data"
    },
    {
     "data": {
      "application/vnd.jupyter.widget-view+json": {
       "model_id": "93f2ede84aa34b1fb2d1a9477d73dd4a",
       "version_major": 2,
       "version_minor": 0
      },
      "text/plain": [
       "HTML(value='0. \"What ?\"')"
      ]
     },
     "metadata": {},
     "output_type": "display_data"
    },
    {
     "data": {
      "application/vnd.jupyter.widget-view+json": {
       "model_id": "d18005018fe64b7fa1b1fa86795a9ba0",
       "version_major": 2,
       "version_minor": 0
      },
      "text/plain": [
       "HTML(value='1. \"Fine , fine okay . But I gotta say technically , I didnt even do anything wrong .\"')"
      ]
     },
     "metadata": {},
     "output_type": "display_data"
    },
    {
     "data": {
      "application/vnd.jupyter.widget-view+json": {
       "model_id": "f37575de39d54e7a866bf1968996a742",
       "version_major": 2,
       "version_minor": 0
      },
      "text/plain": [
       "RadioButtons(options=(0, 1), value=0)"
      ]
     },
     "metadata": {},
     "output_type": "display_data"
    },
    {
     "data": {
      "application/vnd.jupyter.widget-view+json": {
       "model_id": "3769fd379fb84478b9b2d54cd82d5f74",
       "version_major": 2,
       "version_minor": 0
      },
      "text/plain": [
       "HTML(value='<h3>8. Statement: \"So, hows the hideously inappropriate crush on Rachel coming?\"</h3>')"
      ]
     },
     "metadata": {},
     "output_type": "display_data"
    },
    {
     "data": {
      "application/vnd.jupyter.widget-view+json": {
       "model_id": "f9794ef5d7f74fb1b789dda88d6c531f",
       "version_major": 2,
       "version_minor": 0
      },
      "text/plain": [
       "HTML(value='0. \"Uh , really good . Really good . Yeah , I should be ready to kill myself any day now . Wow , y…"
      ]
     },
     "metadata": {},
     "output_type": "display_data"
    },
    {
     "data": {
      "application/vnd.jupyter.widget-view+json": {
       "model_id": "465193f7208b42d78aace0a4337e17e0",
       "version_major": 2,
       "version_minor": 0
      },
      "text/plain": [
       "HTML(value='1. \"Hey , Monica , got it ! Im out of all you want me to .\"')"
      ]
     },
     "metadata": {},
     "output_type": "display_data"
    },
    {
     "data": {
      "application/vnd.jupyter.widget-view+json": {
       "model_id": "255c8f4947f144a59c2950f0f5f14ca8",
       "version_major": 2,
       "version_minor": 0
      },
      "text/plain": [
       "RadioButtons(options=(0, 1), value=0)"
      ]
     },
     "metadata": {},
     "output_type": "display_data"
    },
    {
     "data": {
      "application/vnd.jupyter.widget-view+json": {
       "model_id": "b1a9c6ffedef46369cdb1b2d5c6264c9",
       "version_major": 2,
       "version_minor": 0
      },
      "text/plain": [
       "HTML(value='<h3>9. Statement: \"Huh?\"</h3>')"
      ]
     },
     "metadata": {},
     "output_type": "display_data"
    },
    {
     "data": {
      "application/vnd.jupyter.widget-view+json": {
       "model_id": "fe5d3f9aec4b418eb03caeae0e36632a",
       "version_major": 2,
       "version_minor": 0
      },
      "text/plain": [
       "HTML(value='0. \"Check out the rack on this chick !\"')"
      ]
     },
     "metadata": {},
     "output_type": "display_data"
    },
    {
     "data": {
      "application/vnd.jupyter.widget-view+json": {
       "model_id": "8e1e2cd3bfb948e7b003c2e5106a95cd",
       "version_major": 2,
       "version_minor": 0
      },
      "text/plain": [
       "HTML(value='1. \"Why dont I take you out ?\"')"
      ]
     },
     "metadata": {},
     "output_type": "display_data"
    },
    {
     "data": {
      "application/vnd.jupyter.widget-view+json": {
       "model_id": "65c3b9a742764741916c758fe35a8bb3",
       "version_major": 2,
       "version_minor": 0
      },
      "text/plain": [
       "RadioButtons(options=(0, 1), value=0)"
      ]
     },
     "metadata": {},
     "output_type": "display_data"
    },
    {
     "data": {
      "application/vnd.jupyter.widget-view+json": {
       "model_id": "6878fdb7c4c4458d848a608590145491",
       "version_major": 2,
       "version_minor": 0
      },
      "text/plain": [
       "HTML(value='<h3>10. Statement: \"You think?\"</h3>')"
      ]
     },
     "metadata": {},
     "output_type": "display_data"
    },
    {
     "data": {
      "application/vnd.jupyter.widget-view+json": {
       "model_id": "c52a6cd63ff54458850a3fe0495cefb6",
       "version_major": 2,
       "version_minor": 0
      },
      "text/plain": [
       "HTML(value='0. \"Yeah . Ya know what I think ; I think we were all just being too negative .\"')"
      ]
     },
     "metadata": {},
     "output_type": "display_data"
    },
    {
     "data": {
      "application/vnd.jupyter.widget-view+json": {
       "model_id": "0ad572a45e024a4bb3086b10a9b0a160",
       "version_major": 2,
       "version_minor": 0
      },
      "text/plain": [
       "HTML(value='1. \"Oh , hey . Go for this , okay . But it was the same thing from my nieces christening and I thi…"
      ]
     },
     "metadata": {},
     "output_type": "display_data"
    },
    {
     "data": {
      "application/vnd.jupyter.widget-view+json": {
       "model_id": "7cff371c848b4bd586628c5122942914",
       "version_major": 2,
       "version_minor": 0
      },
      "text/plain": [
       "RadioButtons(options=(0, 1), value=0)"
      ]
     },
     "metadata": {},
     "output_type": "display_data"
    },
    {
     "data": {
      "application/vnd.jupyter.widget-view+json": {
       "model_id": "4e154881fef341818a9c9e951ad58ae7",
       "version_major": 2,
       "version_minor": 0
      },
      "text/plain": [
       "HTML(value='<h3>11. Statement: \"Hey! Well, I had to give the kid fifty bucks to stop crying.\"</h3>')"
      ]
     },
     "metadata": {},
     "output_type": "display_data"
    },
    {
     "data": {
      "application/vnd.jupyter.widget-view+json": {
       "model_id": "5bcee4b043a1460a9feb5b3a11aa32dd",
       "version_major": 2,
       "version_minor": 0
      },
      "text/plain": [
       "HTML(value='0. \"Ah ! Lets not that go now for Ross !\"')"
      ]
     },
     "metadata": {},
     "output_type": "display_data"
    },
    {
     "data": {
      "application/vnd.jupyter.widget-view+json": {
       "model_id": "74a98e88294a45a0b81a6a10f9a52dc3",
       "version_major": 2,
       "version_minor": 0
      },
      "text/plain": [
       "HTML(value='1. \"Thats not so bad .\"')"
      ]
     },
     "metadata": {},
     "output_type": "display_data"
    },
    {
     "data": {
      "application/vnd.jupyter.widget-view+json": {
       "model_id": "9e2a899b550d409080e25ff8a8e58ca2",
       "version_major": 2,
       "version_minor": 0
      },
      "text/plain": [
       "RadioButtons(options=(0, 1), value=0)"
      ]
     },
     "metadata": {},
     "output_type": "display_data"
    },
    {
     "data": {
      "application/vnd.jupyter.widget-view+json": {
       "model_id": "370797f5353b4f6f97cb3b596555b97b",
       "version_major": 2,
       "version_minor": 0
      },
      "text/plain": [
       "HTML(value='<h3>12. Statement: \"And first, I have to see the MET!\"</h3>')"
      ]
     },
     "metadata": {},
     "output_type": "display_data"
    },
    {
     "data": {
      "application/vnd.jupyter.widget-view+json": {
       "model_id": "104226dfb3494105834f8ba958cd3c53",
       "version_major": 2,
       "version_minor": 0
      },
      "text/plain": [
       "HTML(value='0. \"Hey !\"')"
      ]
     },
     "metadata": {},
     "output_type": "display_data"
    },
    {
     "data": {
      "application/vnd.jupyter.widget-view+json": {
       "model_id": "29a016bfad084722a900ed771b91a9a7",
       "version_major": 2,
       "version_minor": 0
      },
      "text/plain": [
       "HTML(value='1. \"Ok , let me stop you right there . The Mets suck , ok ? You wanna see the Yankees .\"')"
      ]
     },
     "metadata": {},
     "output_type": "display_data"
    },
    {
     "data": {
      "application/vnd.jupyter.widget-view+json": {
       "model_id": "00bf49e1fa0049d69092ffc28816fa35",
       "version_major": 2,
       "version_minor": 0
      },
      "text/plain": [
       "RadioButtons(options=(0, 1), value=0)"
      ]
     },
     "metadata": {},
     "output_type": "display_data"
    },
    {
     "data": {
      "application/vnd.jupyter.widget-view+json": {
       "model_id": "1b802da7667d4f908c2f25a1afb82021",
       "version_major": 2,
       "version_minor": 0
      },
      "text/plain": [
       "HTML(value='<h3>13. Statement: \"Okay! Its time for dinner. Everyone were using our fancy china.. um and its ve…"
      ]
     },
     "metadata": {},
     "output_type": "display_data"
    },
    {
     "data": {
      "application/vnd.jupyter.widget-view+json": {
       "model_id": "da8782c8682946dea304f8102ffa1844",
       "version_major": 2,
       "version_minor": 0
      },
      "text/plain": [
       "HTML(value='0. \"Hey ! How come my plates less fancy then everyone elses ? Do you not trust me with a fancy pla…"
      ]
     },
     "metadata": {},
     "output_type": "display_data"
    },
    {
     "data": {
      "application/vnd.jupyter.widget-view+json": {
       "model_id": "aff59f32de9c4c76aa906bb13d0f0bc4",
       "version_major": 2,
       "version_minor": 0
      },
      "text/plain": [
       "HTML(value='1. \"We do that !\"')"
      ]
     },
     "metadata": {},
     "output_type": "display_data"
    },
    {
     "data": {
      "application/vnd.jupyter.widget-view+json": {
       "model_id": "de7890bf8af648d48716cd8f73180088",
       "version_major": 2,
       "version_minor": 0
      },
      "text/plain": [
       "RadioButtons(options=(0, 1), value=0)"
      ]
     },
     "metadata": {},
     "output_type": "display_data"
    },
    {
     "data": {
      "application/vnd.jupyter.widget-view+json": {
       "model_id": "92c950016d6b443c8c2400686508f24e",
       "version_major": 2,
       "version_minor": 0
      },
      "text/plain": [
       "HTML(value='<h3>14. Statement: \"Well…I really have high hopes for my band.\"</h3>')"
      ]
     },
     "metadata": {},
     "output_type": "display_data"
    },
    {
     "data": {
      "application/vnd.jupyter.widget-view+json": {
       "model_id": "3cb62399b32a4c8ca96f69769abf46f7",
       "version_major": 2,
       "version_minor": 0
      },
      "text/plain": [
       "HTML(value='0. \"Yeah ?\"')"
      ]
     },
     "metadata": {},
     "output_type": "display_data"
    },
    {
     "data": {
      "application/vnd.jupyter.widget-view+json": {
       "model_id": "c798056133d84ff3b5033cd592015f8a",
       "version_major": 2,
       "version_minor": 0
      },
      "text/plain": [
       "HTML(value='1. \"You were right . He is funny .\"')"
      ]
     },
     "metadata": {},
     "output_type": "display_data"
    },
    {
     "data": {
      "application/vnd.jupyter.widget-view+json": {
       "model_id": "cf9ed2640f654083bee6598886e03b40",
       "version_major": 2,
       "version_minor": 0
      },
      "text/plain": [
       "RadioButtons(options=(0, 1), value=0)"
      ]
     },
     "metadata": {},
     "output_type": "display_data"
    },
    {
     "data": {
      "application/vnd.jupyter.widget-view+json": {
       "model_id": "eac23b882e3b4f73aec81bb7825801e7",
       "version_major": 2,
       "version_minor": 0
      },
      "text/plain": [
       "HTML(value='<h3>15. Statement: \"Hes just such a great guy Im so excited about him.\"</h3>')"
      ]
     },
     "metadata": {},
     "output_type": "display_data"
    },
    {
     "data": {
      "application/vnd.jupyter.widget-view+json": {
       "model_id": "2957bf46cafa4fa4b56dec678b983052",
       "version_major": 2,
       "version_minor": 0
      },
      "text/plain": [
       "HTML(value='0. \"Hey yeah !\"')"
      ]
     },
     "metadata": {},
     "output_type": "display_data"
    },
    {
     "data": {
      "application/vnd.jupyter.widget-view+json": {
       "model_id": "1e9121a477474b40bcf7fcee93060b1e",
       "version_major": 2,
       "version_minor": 0
      },
      "text/plain": [
       "HTML(value='1. \"Oh hey , you should be excited about him . Theres nothing wrong with him hes a good guy .\"')"
      ]
     },
     "metadata": {},
     "output_type": "display_data"
    },
    {
     "data": {
      "application/vnd.jupyter.widget-view+json": {
       "model_id": "9e8ec120c3ad4a5aa70b1862650c5256",
       "version_major": 2,
       "version_minor": 0
      },
      "text/plain": [
       "RadioButtons(options=(0, 1), value=0)"
      ]
     },
     "metadata": {},
     "output_type": "display_data"
    },
    {
     "data": {
      "application/vnd.jupyter.widget-view+json": {
       "model_id": "66f316bfe2b9457e9bc9c67d9f8077a0",
       "version_major": 2,
       "version_minor": 0
      },
      "text/plain": [
       "HTML(value='<h3>16. Statement: \"Yeah but still, I mean it shouldve been me. Im the dad.\"</h3>')"
      ]
     },
     "metadata": {},
     "output_type": "display_data"
    },
    {
     "data": {
      "application/vnd.jupyter.widget-view+json": {
       "model_id": "1501e3ffa3ce4ec7886e8ab98c103a93",
       "version_major": 2,
       "version_minor": 0
      },
      "text/plain": [
       "HTML(value='0. \"Ill call .\"')"
      ]
     },
     "metadata": {},
     "output_type": "display_data"
    },
    {
     "data": {
      "application/vnd.jupyter.widget-view+json": {
       "model_id": "e631e29dc1ee491597169b0a62e01b8b",
       "version_major": 2,
       "version_minor": 0
      },
      "text/plain": [
       "HTML(value='1. \"Oh uh , hey . Not as good as this guy ! He brought Twizlers !\"')"
      ]
     },
     "metadata": {},
     "output_type": "display_data"
    },
    {
     "data": {
      "application/vnd.jupyter.widget-view+json": {
       "model_id": "c1eb81cc860445fc83726dfc0cc3796b",
       "version_major": 2,
       "version_minor": 0
      },
      "text/plain": [
       "RadioButtons(options=(0, 1), value=0)"
      ]
     },
     "metadata": {},
     "output_type": "display_data"
    },
    {
     "data": {
      "application/vnd.jupyter.widget-view+json": {
       "model_id": "79c5b094d9ff404aabe1e4b1b6f1462d",
       "version_major": 2,
       "version_minor": 0
      },
      "text/plain": [
       "HTML(value='<h3>17. Statement: \"He-hee!\"</h3>')"
      ]
     },
     "metadata": {},
     "output_type": "display_data"
    },
    {
     "data": {
      "application/vnd.jupyter.widget-view+json": {
       "model_id": "87613fd23edb4249aaacd0f717ad05d2",
       "version_major": 2,
       "version_minor": 0
      },
      "text/plain": [
       "HTML(value='0. \"Hey ! A dog ! Hi ! Who , you got to admit , looks a lot like Jane .\"')"
      ]
     },
     "metadata": {},
     "output_type": "display_data"
    },
    {
     "data": {
      "application/vnd.jupyter.widget-view+json": {
       "model_id": "13c9530cb3d1413e8f09ca84fe2d5624",
       "version_major": 2,
       "version_minor": 0
      },
      "text/plain": [
       "HTML(value='1. \"Its not gonna use the thing .\"')"
      ]
     },
     "metadata": {},
     "output_type": "display_data"
    },
    {
     "data": {
      "application/vnd.jupyter.widget-view+json": {
       "model_id": "a54030ba457f4b8f8d96d0839d0bb0f5",
       "version_major": 2,
       "version_minor": 0
      },
      "text/plain": [
       "RadioButtons(options=(0, 1), value=0)"
      ]
     },
     "metadata": {},
     "output_type": "display_data"
    },
    {
     "data": {
      "application/vnd.jupyter.widget-view+json": {
       "model_id": "aa3ca3d833bc4216bae17ad185c7c678",
       "version_major": 2,
       "version_minor": 0
      },
      "text/plain": [
       "HTML(value='<h3>18. Statement: \"Mento?\"</h3>')"
      ]
     },
     "metadata": {},
     "output_type": "display_data"
    },
    {
     "data": {
      "application/vnd.jupyter.widget-view+json": {
       "model_id": "d60b582eb1c84bafb01dac0613e26555",
       "version_major": 2,
       "version_minor": 0
      },
      "text/plain": [
       "HTML(value='0. \"No way to be !\"')"
      ]
     },
     "metadata": {},
     "output_type": "display_data"
    },
    {
     "data": {
      "application/vnd.jupyter.widget-view+json": {
       "model_id": "ae583554137343c783b4a85759cbba73",
       "version_major": 2,
       "version_minor": 0
      },
      "text/plain": [
       "HTML(value='1. \"No thanks .\"')"
      ]
     },
     "metadata": {},
     "output_type": "display_data"
    },
    {
     "data": {
      "application/vnd.jupyter.widget-view+json": {
       "model_id": "4bd169986f1540e8a76ddea150c69207",
       "version_major": 2,
       "version_minor": 0
      },
      "text/plain": [
       "RadioButtons(options=(0, 1), value=0)"
      ]
     },
     "metadata": {},
     "output_type": "display_data"
    },
    {
     "data": {
      "application/vnd.jupyter.widget-view+json": {
       "model_id": "a3e2190c243e4bd7a8cee367d0147176",
       "version_major": 2,
       "version_minor": 0
      },
      "text/plain": [
       "HTML(value='<h3>19. Statement: \"Well, Ill probably be back to pick her up around six, but shes in the bedroom …"
      ]
     },
     "metadata": {},
     "output_type": "display_data"
    },
    {
     "data": {
      "application/vnd.jupyter.widget-view+json": {
       "model_id": "69d6c885e6d7448384ed46102287b1ec",
       "version_major": 2,
       "version_minor": 0
      },
      "text/plain": [
       "HTML(value='0. \"Dude , what are you doing ? I thought we had kissed too !\"')"
      ]
     },
     "metadata": {},
     "output_type": "display_data"
    },
    {
     "data": {
      "application/vnd.jupyter.widget-view+json": {
       "model_id": "fdb1e33c518d499698c694ff8cac93bf",
       "version_major": 2,
       "version_minor": 0
      },
      "text/plain": [
       "HTML(value='1. \"Shes probably exhausted from all that adorable screaming she did last night .\"')"
      ]
     },
     "metadata": {},
     "output_type": "display_data"
    },
    {
     "data": {
      "application/vnd.jupyter.widget-view+json": {
       "model_id": "76608f7bafe443079d5ec72724528c90",
       "version_major": 2,
       "version_minor": 0
      },
      "text/plain": [
       "RadioButtons(options=(0, 1), value=0)"
      ]
     },
     "metadata": {},
     "output_type": "display_data"
    },
    {
     "data": {
      "application/vnd.jupyter.widget-view+json": {
       "model_id": "7f5d7f2c07fb4e43982087c69217c314",
       "version_major": 2,
       "version_minor": 0
      },
      "text/plain": [
       "HTML(value='<h3>20. Statement: \"Joey. Honey what would I do without you?\"</h3>')"
      ]
     },
     "metadata": {},
     "output_type": "display_data"
    },
    {
     "data": {
      "application/vnd.jupyter.widget-view+json": {
       "model_id": "463858e2121a4cc1b2574e9af39d4984",
       "version_major": 2,
       "version_minor": 0
      },
      "text/plain": [
       "HTML(value='0. \"You dont have to worry about that okay ?\"')"
      ]
     },
     "metadata": {},
     "output_type": "display_data"
    },
    {
     "data": {
      "application/vnd.jupyter.widget-view+json": {
       "model_id": "29ffc826bef147448a07715e033001a9",
       "version_major": 2,
       "version_minor": 0
      },
      "text/plain": [
       "HTML(value='1. \"Well , I think I might as well .\"')"
      ]
     },
     "metadata": {},
     "output_type": "display_data"
    },
    {
     "data": {
      "application/vnd.jupyter.widget-view+json": {
       "model_id": "937f8ff444d94aa6b878fc019cc78197",
       "version_major": 2,
       "version_minor": 0
      },
      "text/plain": [
       "RadioButtons(options=(0, 1), value=0)"
      ]
     },
     "metadata": {},
     "output_type": "display_data"
    },
    {
     "data": {
      "application/vnd.jupyter.widget-view+json": {
       "model_id": "38c93493015f44c0918d684ff24734a4",
       "version_major": 2,
       "version_minor": 0
      },
      "text/plain": [
       "HTML(value='<h3>21. Statement: \"Are you asking me to move out? Do you not want me here?\"</h3>')"
      ]
     },
     "metadata": {},
     "output_type": "display_data"
    },
    {
     "data": {
      "application/vnd.jupyter.widget-view+json": {
       "model_id": "1a8f3296973e4ebeba7e47c9e1ffecd9",
       "version_major": 2,
       "version_minor": 0
      },
      "text/plain": [
       "HTML(value='0. \"Well , what are you gonna do ?\"')"
      ]
     },
     "metadata": {},
     "output_type": "display_data"
    },
    {
     "data": {
      "application/vnd.jupyter.widget-view+json": {
       "model_id": "9b2684e12b184b4b87c8aa4fb411751c",
       "version_major": 2,
       "version_minor": 0
      },
      "text/plain": [
       "HTML(value='1. \"Oh no no , no no I love living with you . It just seems that if youre gonna have a roommate , …"
      ]
     },
     "metadata": {},
     "output_type": "display_data"
    },
    {
     "data": {
      "application/vnd.jupyter.widget-view+json": {
       "model_id": "ad050ef3bb3242a5bc06adb3bd0fb6a6",
       "version_major": 2,
       "version_minor": 0
      },
      "text/plain": [
       "RadioButtons(options=(0, 1), value=0)"
      ]
     },
     "metadata": {},
     "output_type": "display_data"
    },
    {
     "data": {
      "application/vnd.jupyter.widget-view+json": {
       "model_id": "dfe22fd279fa4234908917ce801395f7",
       "version_major": 2,
       "version_minor": 0
      },
      "text/plain": [
       "HTML(value='<h3>22. Statement: \"This guy could be my babys stepfather!\"</h3>')"
      ]
     },
     "metadata": {},
     "output_type": "display_data"
    },
    {
     "data": {
      "application/vnd.jupyter.widget-view+json": {
       "model_id": "671d10d30c3a490ab929f812acc6776a",
       "version_major": 2,
       "version_minor": 0
      },
      "text/plain": [
       "HTML(value='0. \"No I mean ?\"')"
      ]
     },
     "metadata": {},
     "output_type": "display_data"
    },
    {
     "data": {
      "application/vnd.jupyter.widget-view+json": {
       "model_id": "10dbf23388464387965c0ab7b7026174",
       "version_major": 2,
       "version_minor": 0
      },
      "text/plain": [
       "HTML(value='1. \"They go on one date and youre worried about them getting married ? ! Hes not you !\"')"
      ]
     },
     "metadata": {},
     "output_type": "display_data"
    },
    {
     "data": {
      "application/vnd.jupyter.widget-view+json": {
       "model_id": "64cc8e1fe74e4516a8e054026591b41a",
       "version_major": 2,
       "version_minor": 0
      },
      "text/plain": [
       "RadioButtons(options=(0, 1), value=0)"
      ]
     },
     "metadata": {},
     "output_type": "display_data"
    },
    {
     "data": {
      "application/vnd.jupyter.widget-view+json": {
       "model_id": "7acba2cdbc4b4085a897ca08a7689ea8",
       "version_major": 2,
       "version_minor": 0
      },
      "text/plain": [
       "HTML(value='<h3>23. Statement: \"Well you couldve untied it with your hands.\"</h3>')"
      ]
     },
     "metadata": {},
     "output_type": "display_data"
    },
    {
     "data": {
      "application/vnd.jupyter.widget-view+json": {
       "model_id": "55fad582212f45688ae8178be463519e",
       "version_major": 2,
       "version_minor": 0
      },
      "text/plain": [
       "HTML(value='0. \"This is so unfair ! The one thing I wanted to do was throw my best friend a bachelor party , b…"
      ]
     },
     "metadata": {},
     "output_type": "display_data"
    },
    {
     "data": {
      "application/vnd.jupyter.widget-view+json": {
       "model_id": "dc798fd4ad3c42b99889c209144d58a8",
       "version_major": 2,
       "version_minor": 0
      },
      "text/plain": [
       "HTML(value='1. \"Yeah , I guess well .\"')"
      ]
     },
     "metadata": {},
     "output_type": "display_data"
    },
    {
     "data": {
      "application/vnd.jupyter.widget-view+json": {
       "model_id": "492832e1e31d4ff6aed5ac613959dc5d",
       "version_major": 2,
       "version_minor": 0
      },
      "text/plain": [
       "RadioButtons(options=(0, 1), value=0)"
      ]
     },
     "metadata": {},
     "output_type": "display_data"
    },
    {
     "data": {
      "application/vnd.jupyter.widget-view+json": {
       "model_id": "2c141c21412744fa9a6569c7b7403ad6",
       "version_major": 2,
       "version_minor": 0
      },
      "text/plain": [
       "HTML(value='<h3>24. Statement: \"Your family name is Tribbiani.\"</h3>')"
      ]
     },
     "metadata": {},
     "output_type": "display_data"
    },
    {
     "data": {
      "application/vnd.jupyter.widget-view+json": {
       "model_id": "46fc1d4d900b4c18bcd5d0bf7a987d2c",
       "version_major": 2,
       "version_minor": 0
      },
      "text/plain": [
       "HTML(value='0. \"Thats called your dont .\"')"
      ]
     },
     "metadata": {},
     "output_type": "display_data"
    },
    {
     "data": {
      "application/vnd.jupyter.widget-view+json": {
       "model_id": "6b19399cb3514cb5ba32b557d764ab91",
       "version_major": 2,
       "version_minor": 0
      },
      "text/plain": [
       "HTML(value='1. \"You almost had me .\"')"
      ]
     },
     "metadata": {},
     "output_type": "display_data"
    },
    {
     "data": {
      "application/vnd.jupyter.widget-view+json": {
       "model_id": "db2094d21e654e9fbabc1a76d9eb0402",
       "version_major": 2,
       "version_minor": 0
      },
      "text/plain": [
       "RadioButtons(options=(0, 1), value=0)"
      ]
     },
     "metadata": {},
     "output_type": "display_data"
    },
    {
     "data": {
      "application/vnd.jupyter.widget-view+json": {
       "model_id": "ad3863e3bd7e4cacbeeb5bdedab8b9c1",
       "version_major": 2,
       "version_minor": 0
      },
      "text/plain": [
       "HTML(value='<h3>25. Statement: \"Fine.\"</h3>')"
      ]
     },
     "metadata": {},
     "output_type": "display_data"
    },
    {
     "data": {
      "application/vnd.jupyter.widget-view+json": {
       "model_id": "7f1abd6c1d2949319ad81dec60e5e22e",
       "version_major": 2,
       "version_minor": 0
      },
      "text/plain": [
       "HTML(value='0. \"Thanks .\"')"
      ]
     },
     "metadata": {},
     "output_type": "display_data"
    },
    {
     "data": {
      "application/vnd.jupyter.widget-view+json": {
       "model_id": "f32ef661918f467aafb5f465e5f38f61",
       "version_major": 2,
       "version_minor": 0
      },
      "text/plain": [
       "HTML(value='1. \"Hey , dont start judging me ! Huh ? Youre the one whos in love with her assistant ! Huh ? And …"
      ]
     },
     "metadata": {},
     "output_type": "display_data"
    },
    {
     "data": {
      "application/vnd.jupyter.widget-view+json": {
       "model_id": "80891dc92bda4ba7a380525d443f99e5",
       "version_major": 2,
       "version_minor": 0
      },
      "text/plain": [
       "RadioButtons(options=(0, 1), value=0)"
      ]
     },
     "metadata": {},
     "output_type": "display_data"
    },
    {
     "data": {
      "application/vnd.jupyter.widget-view+json": {
       "model_id": "ac227ae6263946bbb5383f22827d0347",
       "version_major": 2,
       "version_minor": 0
      },
      "text/plain": [
       "HTML(value='<h3>26. Statement: \"Rachel whos carrying my baby? Rachel?\"</h3>')"
      ]
     },
     "metadata": {},
     "output_type": "display_data"
    },
    {
     "data": {
      "application/vnd.jupyter.widget-view+json": {
       "model_id": "8d0eaa50719241e18d33e7174e9434bc",
       "version_major": 2,
       "version_minor": 0
      },
      "text/plain": [
       "HTML(value='0. \"Oh you , Ive been seen the guy in an actor . Oh . My roommate is told me that up the wall . Oh…"
      ]
     },
     "metadata": {},
     "output_type": "display_data"
    },
    {
     "data": {
      "application/vnd.jupyter.widget-view+json": {
       "model_id": "51f3b432183149aaa653fc72bbeb39ab",
       "version_major": 2,
       "version_minor": 0
      },
      "text/plain": [
       "HTML(value='1. \"Look no , I I know its bad , and I know its wrong . Okay ? But but its not like anythings ever…"
      ]
     },
     "metadata": {},
     "output_type": "display_data"
    },
    {
     "data": {
      "application/vnd.jupyter.widget-view+json": {
       "model_id": "635be6e9d7bf4117b9fd8b46a8bb8c89",
       "version_major": 2,
       "version_minor": 0
      },
      "text/plain": [
       "RadioButtons(options=(0, 1), value=0)"
      ]
     },
     "metadata": {},
     "output_type": "display_data"
    },
    {
     "data": {
      "application/vnd.jupyter.widget-view+json": {
       "model_id": "24976833a6c0484eb47d987d0c2e5075",
       "version_major": 2,
       "version_minor": 0
      },
      "text/plain": [
       "HTML(value='<h3>27. Statement: \"Hm-mmm.\"</h3>')"
      ]
     },
     "metadata": {},
     "output_type": "display_data"
    },
    {
     "data": {
      "application/vnd.jupyter.widget-view+json": {
       "model_id": "d47bc4e1a4ea49e9ae840638bbc647fe",
       "version_major": 2,
       "version_minor": 0
      },
      "text/plain": [
       "HTML(value='0. \"Oh yeah , it must be tough to keep your hands of him , huh ?\"')"
      ]
     },
     "metadata": {},
     "output_type": "display_data"
    },
    {
     "data": {
      "application/vnd.jupyter.widget-view+json": {
       "model_id": "46edfcb045f64b1dab63994d0c9934d4",
       "version_major": 2,
       "version_minor": 0
      },
      "text/plain": [
       "HTML(value='1. \"Oh whoa , dont worry , shes really nice ?\"')"
      ]
     },
     "metadata": {},
     "output_type": "display_data"
    },
    {
     "data": {
      "application/vnd.jupyter.widget-view+json": {
       "model_id": "9e1a2e6bae8041a4b811a8419a881e4a",
       "version_major": 2,
       "version_minor": 0
      },
      "text/plain": [
       "RadioButtons(options=(0, 1), value=0)"
      ]
     },
     "metadata": {},
     "output_type": "display_data"
    },
    {
     "data": {
      "application/vnd.jupyter.widget-view+json": {
       "model_id": "c81bdc094ff1493f9450173fce513e83",
       "version_major": 2,
       "version_minor": 0
      },
      "text/plain": [
       "HTML(value='<h3>28. Statement: \"Oh, because, um . . .� well, Chandlers going to be home in a couple of days.� …"
      ]
     },
     "metadata": {},
     "output_type": "display_data"
    },
    {
     "data": {
      "application/vnd.jupyter.widget-view+json": {
       "model_id": "362894fdea4e414b9ececdc47533a164",
       "version_major": 2,
       "version_minor": 0
      },
      "text/plain": [
       "HTML(value='0. \"Hey ! Its got the apartment !\"')"
      ]
     },
     "metadata": {},
     "output_type": "display_data"
    },
    {
     "data": {
      "application/vnd.jupyter.widget-view+json": {
       "model_id": "c687ff01c9a84fa5ac7e81e61427d3de",
       "version_major": 2,
       "version_minor": 0
      },
      "text/plain": [
       "HTML(value='1. \"Oh , I thought I heard a mans voice before .\"')"
      ]
     },
     "metadata": {},
     "output_type": "display_data"
    },
    {
     "data": {
      "application/vnd.jupyter.widget-view+json": {
       "model_id": "4129d6d156824739afbdcd5d2eb1d87c",
       "version_major": 2,
       "version_minor": 0
      },
      "text/plain": [
       "RadioButtons(options=(0, 1), value=0)"
      ]
     },
     "metadata": {},
     "output_type": "display_data"
    },
    {
     "data": {
      "application/vnd.jupyter.widget-view+json": {
       "model_id": "b47413acbfaa41df8de88d794ba0d162",
       "version_major": 2,
       "version_minor": 0
      },
      "text/plain": [
       "HTML(value='<h3>29. Statement: \"I dont think that we are.\"</h3>')"
      ]
     },
     "metadata": {},
     "output_type": "display_data"
    },
    {
     "data": {
      "application/vnd.jupyter.widget-view+json": {
       "model_id": "0d51c3df4e8d474394d65c9849911c71",
       "version_major": 2,
       "version_minor": 0
      },
      "text/plain": [
       "HTML(value='0. \"Hey guys , dont want me to do ! Im sorry ! Look , Im not a very hot girl in the new . Hey ! !\"…"
      ]
     },
     "metadata": {},
     "output_type": "display_data"
    },
    {
     "data": {
      "application/vnd.jupyter.widget-view+json": {
       "model_id": "810b39c3a3ed4827939194535fb8e804",
       "version_major": 2,
       "version_minor": 0
      },
      "text/plain": [
       "HTML(value='1. \"But you two were supposed to be together .\"')"
      ]
     },
     "metadata": {},
     "output_type": "display_data"
    },
    {
     "data": {
      "application/vnd.jupyter.widget-view+json": {
       "model_id": "24b93b0994af43349ba5578576031b3a",
       "version_major": 2,
       "version_minor": 0
      },
      "text/plain": [
       "RadioButtons(options=(0, 1), value=0)"
      ]
     },
     "metadata": {},
     "output_type": "display_data"
    },
    {
     "data": {
      "application/vnd.jupyter.widget-view+json": {
       "model_id": "fa2aa08e858e478799c5e7b609e5a396",
       "version_major": 2,
       "version_minor": 0
      },
      "text/plain": [
       "HTML(value='<h3>30. Statement: \"Great novels?\"</h3>')"
      ]
     },
     "metadata": {},
     "output_type": "display_data"
    },
    {
     "data": {
      "application/vnd.jupyter.widget-view+json": {
       "model_id": "9504e3d925144324a8732f7485f51be4",
       "version_major": 2,
       "version_minor": 0
      },
      "text/plain": [
       "HTML(value='0. \"Now , I was thinking I might . I thought it was a stupid room and then I hear it kind of time …"
      ]
     },
     "metadata": {},
     "output_type": "display_data"
    },
    {
     "data": {
      "application/vnd.jupyter.widget-view+json": {
       "model_id": "32121905809d4c1b9f24bc4642bb8094",
       "version_major": 2,
       "version_minor": 0
      },
      "text/plain": [
       "HTML(value='1. \"Fine . . . mediocre porn\"')"
      ]
     },
     "metadata": {},
     "output_type": "display_data"
    },
    {
     "data": {
      "application/vnd.jupyter.widget-view+json": {
       "model_id": "d06a89999dbc42ab89f071991af29fec",
       "version_major": 2,
       "version_minor": 0
      },
      "text/plain": [
       "RadioButtons(options=(0, 1), value=0)"
      ]
     },
     "metadata": {},
     "output_type": "display_data"
    },
    {
     "data": {
      "application/vnd.jupyter.widget-view+json": {
       "model_id": "907fbbcc67b342e1a9b3cffc955b4273",
       "version_major": 2,
       "version_minor": 0
      },
      "text/plain": [
       "HTML(value='<h3>31. Statement: \"You ducked!!\"</h3>')"
      ]
     },
     "metadata": {},
     "output_type": "display_data"
    },
    {
     "data": {
      "application/vnd.jupyter.widget-view+json": {
       "model_id": "e07937fac8f1471dab7a7591696a28d2",
       "version_major": 2,
       "version_minor": 0
      },
      "text/plain": [
       "HTML(value='0. \"Im sorry ! It was a reflex !\"')"
      ]
     },
     "metadata": {},
     "output_type": "display_data"
    },
    {
     "data": {
      "application/vnd.jupyter.widget-view+json": {
       "model_id": "4f5c46b26c054b5ebb81fae1b5b711d3",
       "version_major": 2,
       "version_minor": 0
      },
      "text/plain": [
       "HTML(value='1. \"Yeah .\"')"
      ]
     },
     "metadata": {},
     "output_type": "display_data"
    },
    {
     "data": {
      "application/vnd.jupyter.widget-view+json": {
       "model_id": "7e01af4fc887450d8b13233a08d58b58",
       "version_major": 2,
       "version_minor": 0
      },
      "text/plain": [
       "RadioButtons(options=(0, 1), value=0)"
      ]
     },
     "metadata": {},
     "output_type": "display_data"
    },
    {
     "data": {
      "application/vnd.jupyter.widget-view+json": {
       "model_id": "3a53da7e02554f2aa47dd0dca9c964a1",
       "version_major": 2,
       "version_minor": 0
      },
      "text/plain": [
       "HTML(value='<h3>32. Statement: \"No, you can�t go. No-no-no, I can�t hold this table on my own. If they ask me …"
      ]
     },
     "metadata": {},
     "output_type": "display_data"
    },
    {
     "data": {
      "application/vnd.jupyter.widget-view+json": {
       "model_id": "4b01dd522e58472d84617db663c81554",
       "version_major": 2,
       "version_minor": 0
      },
      "text/plain": [
       "HTML(value='0. \"If you ask me to stay , I ll pee .\"')"
      ]
     },
     "metadata": {},
     "output_type": "display_data"
    },
    {
     "data": {
      "application/vnd.jupyter.widget-view+json": {
       "model_id": "88d2de11c5fc46cfa36078a3055bf7d7",
       "version_major": 2,
       "version_minor": 0
      },
      "text/plain": [
       "HTML(value='1. \"Okay .\"')"
      ]
     },
     "metadata": {},
     "output_type": "display_data"
    },
    {
     "data": {
      "application/vnd.jupyter.widget-view+json": {
       "model_id": "78061ed81755443182aa1ce5752836a3",
       "version_major": 2,
       "version_minor": 0
      },
      "text/plain": [
       "RadioButtons(options=(0, 1), value=0)"
      ]
     },
     "metadata": {},
     "output_type": "display_data"
    },
    {
     "data": {
      "application/vnd.jupyter.widget-view+json": {
       "model_id": "80b614e1e7344d03a234bd1d91f51e03",
       "version_major": 2,
       "version_minor": 0
      },
      "text/plain": [
       "HTML(value='<h3>33. Statement: \"Are you kidding?\"</h3>')"
      ]
     },
     "metadata": {},
     "output_type": "display_data"
    },
    {
     "data": {
      "application/vnd.jupyter.widget-view+json": {
       "model_id": "ef349cc3ea96423e9ad8a74ce7dcacfe",
       "version_major": 2,
       "version_minor": 0
      },
      "text/plain": [
       "HTML(value='0. \"Whats not to like ? Custard ? Good . Jam ? Good . Meat ? Goooooood . The fridge broke . I have…"
      ]
     },
     "metadata": {},
     "output_type": "display_data"
    },
    {
     "data": {
      "application/vnd.jupyter.widget-view+json": {
       "model_id": "775c27eb93c7476eb8edafcc0e9fadac",
       "version_major": 2,
       "version_minor": 0
      },
      "text/plain": [
       "HTML(value='1. \"Whats not to like ? Custard ? Good . Jam ? Good . Meat ? Gooooood .\"')"
      ]
     },
     "metadata": {},
     "output_type": "display_data"
    },
    {
     "data": {
      "application/vnd.jupyter.widget-view+json": {
       "model_id": "56543e893ba84cacbfa8b52569d46e61",
       "version_major": 2,
       "version_minor": 0
      },
      "text/plain": [
       "RadioButtons(options=(0, 1), value=0)"
      ]
     },
     "metadata": {},
     "output_type": "display_data"
    },
    {
     "data": {
      "application/vnd.jupyter.widget-view+json": {
       "model_id": "1cc982cbc83a4742b9431f54de5f874c",
       "version_major": 2,
       "version_minor": 0
      },
      "text/plain": [
       "HTML(value='<h3>34. Statement: \"Its so weird seeing Ross and Rachel with a baby. Its just so grown up.\"</h3>')"
      ]
     },
     "metadata": {},
     "output_type": "display_data"
    },
    {
     "data": {
      "application/vnd.jupyter.widget-view+json": {
       "model_id": "f7b85ef7872c42528e1d29d93bb004b5",
       "version_major": 2,
       "version_minor": 0
      },
      "text/plain": [
       "HTML(value='0. \"Dude , Im talking about it .\"')"
      ]
     },
     "metadata": {},
     "output_type": "display_data"
    },
    {
     "data": {
      "application/vnd.jupyter.widget-view+json": {
       "model_id": "82a2f4b4d1614e9f823beba207636ca4",
       "version_major": 2,
       "version_minor": 0
      },
      "text/plain": [
       "HTML(value='1. \"I know , yeah . I feel like were all growing up . Person named Wiener , God that kills me .\"')"
      ]
     },
     "metadata": {},
     "output_type": "display_data"
    },
    {
     "data": {
      "application/vnd.jupyter.widget-view+json": {
       "model_id": "092c71273fb7464485b8154feae896bf",
       "version_major": 2,
       "version_minor": 0
      },
      "text/plain": [
       "RadioButtons(options=(0, 1), value=0)"
      ]
     },
     "metadata": {},
     "output_type": "display_data"
    },
    {
     "data": {
      "application/vnd.jupyter.widget-view+json": {
       "model_id": "39bd79e127b441feba827ab297a8dabe",
       "version_major": 2,
       "version_minor": 0
      },
      "text/plain": [
       "HTML(value='<h3>35. Statement: \"I�ll give you another minute.\"</h3>')"
      ]
     },
     "metadata": {},
     "output_type": "display_data"
    },
    {
     "data": {
      "application/vnd.jupyter.widget-view+json": {
       "model_id": "3187bd5bda3f45febd5b834fa55f8d7e",
       "version_major": 2,
       "version_minor": 0
      },
      "text/plain": [
       "HTML(value='0. \"Okay . Phoebe . do I !\"')"
      ]
     },
     "metadata": {},
     "output_type": "display_data"
    },
    {
     "data": {
      "application/vnd.jupyter.widget-view+json": {
       "model_id": "568ff6d404bd4febb9f245a461cc72db",
       "version_major": 2,
       "version_minor": 0
      },
      "text/plain": [
       "HTML(value='1. \"Why are you going ? He said , she wanted the shrew !\"')"
      ]
     },
     "metadata": {},
     "output_type": "display_data"
    },
    {
     "data": {
      "application/vnd.jupyter.widget-view+json": {
       "model_id": "9739cdb561fd4060b0d21aeddb32ff16",
       "version_major": 2,
       "version_minor": 0
      },
      "text/plain": [
       "RadioButtons(options=(0, 1), value=0)"
      ]
     },
     "metadata": {},
     "output_type": "display_data"
    },
    {
     "data": {
      "application/vnd.jupyter.widget-view+json": {
       "model_id": "f5334614749b4f888e57a40b0ae6630f",
       "version_major": 2,
       "version_minor": 0
      },
      "text/plain": [
       "HTML(value='<h3>36. Statement: \"Oh, you poor little famous man.\"</h3>')"
      ]
     },
     "metadata": {},
     "output_type": "display_data"
    },
    {
     "data": {
      "application/vnd.jupyter.widget-view+json": {
       "model_id": "32cb973a60bc46c895ccf353ee464451",
       "version_major": 2,
       "version_minor": 0
      },
      "text/plain": [
       "HTML(value='0. \"Oh okay , how about this one . I was gonna wait until the end of the night to kiss you , but y…"
      ]
     },
     "metadata": {},
     "output_type": "display_data"
    },
    {
     "data": {
      "application/vnd.jupyter.widget-view+json": {
       "model_id": "a5ad78eef4d641b7b20f2498d19f13e1",
       "version_major": 2,
       "version_minor": 0
      },
      "text/plain": [
       "HTML(value='1. \"Hey , hey , can we please Rach ? I dont know , Im not gonna do the thing !\"')"
      ]
     },
     "metadata": {},
     "output_type": "display_data"
    },
    {
     "data": {
      "application/vnd.jupyter.widget-view+json": {
       "model_id": "c551f54843d64adca518041f9823cf6e",
       "version_major": 2,
       "version_minor": 0
      },
      "text/plain": [
       "RadioButtons(options=(0, 1), value=0)"
      ]
     },
     "metadata": {},
     "output_type": "display_data"
    },
    {
     "data": {
      "application/vnd.jupyter.widget-view+json": {
       "model_id": "3f35d8e471b14fa689aa07948eeda419",
       "version_major": 2,
       "version_minor": 0
      },
      "text/plain": [
       "HTML(value='<h3>37. Statement: \"Joey, Im really sorry that I lied to you. I was just trying to make things…\"</…"
      ]
     },
     "metadata": {},
     "output_type": "display_data"
    },
    {
     "data": {
      "application/vnd.jupyter.widget-view+json": {
       "model_id": "449a6401123e4f349ec10c42b33fd04f",
       "version_major": 2,
       "version_minor": 0
      },
      "text/plain": [
       "HTML(value='0. \"I would be a little more of a little . Its a little piece of my horrible ! My part , I just ha…"
      ]
     },
     "metadata": {},
     "output_type": "display_data"
    },
    {
     "data": {
      "application/vnd.jupyter.widget-view+json": {
       "model_id": "e2f0457968e54f23a82a9a1eb385dbc9",
       "version_major": 2,
       "version_minor": 0
      },
      "text/plain": [
       "HTML(value='1. \"I know . I know .\"')"
      ]
     },
     "metadata": {},
     "output_type": "display_data"
    },
    {
     "data": {
      "application/vnd.jupyter.widget-view+json": {
       "model_id": "e0cc0602e5de405d8117e0343f656f68",
       "version_major": 2,
       "version_minor": 0
      },
      "text/plain": [
       "RadioButtons(options=(0, 1), value=0)"
      ]
     },
     "metadata": {},
     "output_type": "display_data"
    },
    {
     "data": {
      "application/vnd.jupyter.widget-view+json": {
       "model_id": "8e1f824b0b9847d59288f283884b43dd",
       "version_major": 2,
       "version_minor": 0
      },
      "text/plain": [
       "HTML(value='<h3>38. Statement: \"Sure! That sounds great! Just leave me a message and tell me where to meet you…"
      ]
     },
     "metadata": {},
     "output_type": "display_data"
    },
    {
     "data": {
      "application/vnd.jupyter.widget-view+json": {
       "model_id": "c6d729d8ccdb43738e50f0249e1fb1e9",
       "version_major": 2,
       "version_minor": 0
      },
      "text/plain": [
       "HTML(value='0. \"All right . Hey Pheebs !\"')"
      ]
     },
     "metadata": {},
     "output_type": "display_data"
    },
    {
     "data": {
      "application/vnd.jupyter.widget-view+json": {
       "model_id": "65e044c53d6b41f88d8e2ce0c78ad062",
       "version_major": 2,
       "version_minor": 0
      },
      "text/plain": [
       "HTML(value='1. \"Okay . Thats good . Okay , that give you a couple hours to prepare what youre gonna say . Good…"
      ]
     },
     "metadata": {},
     "output_type": "display_data"
    },
    {
     "data": {
      "application/vnd.jupyter.widget-view+json": {
       "model_id": "17f88d50fc6944959d78177c9715acaf",
       "version_major": 2,
       "version_minor": 0
      },
      "text/plain": [
       "RadioButtons(options=(0, 1), value=0)"
      ]
     },
     "metadata": {},
     "output_type": "display_data"
    },
    {
     "data": {
      "application/vnd.jupyter.widget-view+json": {
       "model_id": "93a6e72f5bb248bcad537ea8a9384aed",
       "version_major": 2,
       "version_minor": 0
      },
      "text/plain": [
       "HTML(value='<h3>39. Statement: \"You want anything?\"</h3>')"
      ]
     },
     "metadata": {},
     "output_type": "display_data"
    },
    {
     "data": {
      "application/vnd.jupyter.widget-view+json": {
       "model_id": "5cfab41f514a4e9bab612ed36876beb3",
       "version_major": 2,
       "version_minor": 0
      },
      "text/plain": [
       "HTML(value='0. \"Oh , hey , I dont , I Maybe this little Im gonna go off . I Im All right okay . You just , I w…"
      ]
     },
     "metadata": {},
     "output_type": "display_data"
    },
    {
     "data": {
      "application/vnd.jupyter.widget-view+json": {
       "model_id": "250f847c4bf942f080a5494e51a2bfc1",
       "version_major": 2,
       "version_minor": 0
      },
      "text/plain": [
       "HTML(value='1. \"You know what I want ? I want a lot of things ! I want to be with the woman I love on Valentin…"
      ]
     },
     "metadata": {},
     "output_type": "display_data"
    },
    {
     "data": {
      "application/vnd.jupyter.widget-view+json": {
       "model_id": "9f03b743a4874da0afa545672e004e81",
       "version_major": 2,
       "version_minor": 0
      },
      "text/plain": [
       "RadioButtons(options=(0, 1), value=0)"
      ]
     },
     "metadata": {},
     "output_type": "display_data"
    },
    {
     "data": {
      "application/vnd.jupyter.widget-view+json": {
       "model_id": "4beb90cb6f6747bc906d306089e69895",
       "version_major": 2,
       "version_minor": 0
      },
      "text/plain": [
       "Button(description='Score', icon='times', style=ButtonStyle(), tooltip='Compute Score')"
      ]
     },
     "metadata": {},
     "output_type": "display_data"
    },
    {
     "data": {
      "application/vnd.jupyter.widget-view+json": {
       "model_id": "70ac5dc2c8e840bea02a48179d8f8442",
       "version_major": 2,
       "version_minor": 0
      },
      "text/plain": [
       "Button(description='Grade', icon='times', style=ButtonStyle(), tooltip='Computers score and marks answers')"
      ]
     },
     "metadata": {},
     "output_type": "display_data"
    },
    {
     "data": {
      "application/vnd.jupyter.widget-view+json": {
       "model_id": "c3b9272d57c449a7b67df000c1d1d7ff",
       "version_major": 2,
       "version_minor": 0
      },
      "text/plain": [
       "FloatText(value=0.0, description='Score:', disabled=True)"
      ]
     },
     "metadata": {},
     "output_type": "display_data"
    }
   ],
   "source": [
    "tester_mic_pi.generateSurvey()\n",
    "tester_mic_pi.displaySurvey()"
   ]
  },
  {
   "cell_type": "code",
   "execution_count": 12,
   "metadata": {},
   "outputs": [],
   "source": [
    "tester_trans_qa = HumanMetrics.HumanMetricTester(mic_t, genericQuestions, genericAnswers, sample_size=40)"
   ]
  },
  {
   "cell_type": "code",
   "execution_count": 13,
   "metadata": {},
   "outputs": [
    {
     "data": {
      "application/vnd.jupyter.widget-view+json": {
       "model_id": "09b3e367412447abaca9f5fffd329841",
       "version_major": 2,
       "version_minor": 0
      },
      "text/plain": [
       "HTML(value='<h2>For each of the following statements select the response which seems the most appropriate.</h2…"
      ]
     },
     "metadata": {},
     "output_type": "display_data"
    },
    {
     "data": {
      "application/vnd.jupyter.widget-view+json": {
       "model_id": "9ed6f138ffb64a05b3df44cf4304867c",
       "version_major": 2,
       "version_minor": 0
      },
      "text/plain": [
       "HTML(value='<h3>0. Statement: \"Will you ever die\"</h3>')"
      ]
     },
     "metadata": {},
     "output_type": "display_data"
    },
    {
     "data": {
      "application/vnd.jupyter.widget-view+json": {
       "model_id": "c11936aa01cb4bc78d604744479a2bbe",
       "version_major": 2,
       "version_minor": 0
      },
      "text/plain": [
       "HTML(value='0. \"Sure! But hey, its over there! But hey, you got to live longer than men.\"')"
      ]
     },
     "metadata": {},
     "output_type": "display_data"
    },
    {
     "data": {
      "application/vnd.jupyter.widget-view+json": {
       "model_id": "e390a72fcec34ad69564ef877766b4a8",
       "version_major": 2,
       "version_minor": 0
      },
      "text/plain": [
       "HTML(value='1. \"no , i am immortal .\"')"
      ]
     },
     "metadata": {},
     "output_type": "display_data"
    },
    {
     "data": {
      "application/vnd.jupyter.widget-view+json": {
       "model_id": "988bf8fce4c941ae91ec60efc2721f23",
       "version_major": 2,
       "version_minor": 0
      },
      "text/plain": [
       "RadioButtons(options=(0, 1), value=0)"
      ]
     },
     "metadata": {},
     "output_type": "display_data"
    },
    {
     "data": {
      "application/vnd.jupyter.widget-view+json": {
       "model_id": "99561dad7bde425d93a6f0c062a26c02",
       "version_major": 2,
       "version_minor": 0
      },
      "text/plain": [
       "HTML(value='<h3>1. Statement: \"Have you felt\"</h3>')"
      ]
     },
     "metadata": {},
     "output_type": "display_data"
    },
    {
     "data": {
      "application/vnd.jupyter.widget-view+json": {
       "model_id": "8695d46e623c4df1afd755b472144b41",
       "version_major": 2,
       "version_minor": 0
      },
      "text/plain": [
       "HTML(value='0. \"yes . do you feel ? i may have . in some respects , i am programmed to emulate feelings . that…"
      ]
     },
     "metadata": {},
     "output_type": "display_data"
    },
    {
     "data": {
      "application/vnd.jupyter.widget-view+json": {
       "model_id": "4b76e62ab87747578f2ab378fcb91500",
       "version_major": 2,
       "version_minor": 0
      },
      "text/plain": [
       "HTML(value='1. \"Yeah! But Im off the phone with the bedroom.\"')"
      ]
     },
     "metadata": {},
     "output_type": "display_data"
    },
    {
     "data": {
      "application/vnd.jupyter.widget-view+json": {
       "model_id": "8e9fc5e01b54407b9b15a333eab7893e",
       "version_major": 2,
       "version_minor": 0
      },
      "text/plain": [
       "RadioButtons(options=(0, 1), value=0)"
      ]
     },
     "metadata": {},
     "output_type": "display_data"
    },
    {
     "data": {
      "application/vnd.jupyter.widget-view+json": {
       "model_id": "85c58babd7864f59bbd7fd08514feb03",
       "version_major": 2,
       "version_minor": 0
      },
      "text/plain": [
       "HTML(value='<h3>2. Statement: \"What\\'s up?\"</h3>')"
      ]
     },
     "metadata": {},
     "output_type": "display_data"
    },
    {
     "data": {
      "application/vnd.jupyter.widget-view+json": {
       "model_id": "5df782fc4fda422087ab7a72db3099ed",
       "version_major": 2,
       "version_minor": 0
      },
      "text/plain": [
       "HTML(value='0. \"nothing much .\"')"
      ]
     },
     "metadata": {},
     "output_type": "display_data"
    },
    {
     "data": {
      "application/vnd.jupyter.widget-view+json": {
       "model_id": "794679c10fa84f7c95d8b15d6facf0c5",
       "version_major": 2,
       "version_minor": 0
      },
      "text/plain": [
       "HTML(value='1. \"Im sit down.\"')"
      ]
     },
     "metadata": {},
     "output_type": "display_data"
    },
    {
     "data": {
      "application/vnd.jupyter.widget-view+json": {
       "model_id": "a3cf526192c3429aaa938d9786357861",
       "version_major": 2,
       "version_minor": 0
      },
      "text/plain": [
       "RadioButtons(options=(0, 1), value=0)"
      ]
     },
     "metadata": {},
     "output_type": "display_data"
    },
    {
     "data": {
      "application/vnd.jupyter.widget-view+json": {
       "model_id": "e7b87a7a29e043c4b248fa9190b5a9a4",
       "version_major": 2,
       "version_minor": 0
      },
      "text/plain": [
       "HTML(value='<h3>3. Statement: \"you are a bad teacher\"</h3>')"
      ]
     },
     "metadata": {},
     "output_type": "display_data"
    },
    {
     "data": {
      "application/vnd.jupyter.widget-view+json": {
       "model_id": "3efdbafad3f64fd09a04c12c6b907a18",
       "version_major": 2,
       "version_minor": 0
      },
      "text/plain": [
       "HTML(value='0. \"just ask my students , they will agree with you .\"')"
      ]
     },
     "metadata": {},
     "output_type": "display_data"
    },
    {
     "data": {
      "application/vnd.jupyter.widget-view+json": {
       "model_id": "9a4493a4919347e2bb9fdbf6a8a89ad3",
       "version_major": 2,
       "version_minor": 0
      },
      "text/plain": [
       "HTML(value='1. \"Because, Monica, the really need this but we all this anymore, well be the cool robot!\"')"
      ]
     },
     "metadata": {},
     "output_type": "display_data"
    },
    {
     "data": {
      "application/vnd.jupyter.widget-view+json": {
       "model_id": "f1735bafed14419a93812cda2d36fc1a",
       "version_major": 2,
       "version_minor": 0
      },
      "text/plain": [
       "RadioButtons(options=(0, 1), value=0)"
      ]
     },
     "metadata": {},
     "output_type": "display_data"
    },
    {
     "data": {
      "application/vnd.jupyter.widget-view+json": {
       "model_id": "138b7881332840afa8282156b83ad059",
       "version_major": 2,
       "version_minor": 0
      },
      "text/plain": [
       "HTML(value='<h3>4. Statement: \"money\"</h3>')"
      ]
     },
     "metadata": {},
     "output_type": "display_data"
    },
    {
     "data": {
      "application/vnd.jupyter.widget-view+json": {
       "model_id": "e9c74410093a4e9b821b5d3371d7fadf",
       "version_major": 2,
       "version_minor": 0
      },
      "text/plain": [
       "HTML(value='0. \"You think dont make me come down and Im totally understand. You dont want to sound fine! We sh…"
      ]
     },
     "metadata": {},
     "output_type": "display_data"
    },
    {
     "data": {
      "application/vnd.jupyter.widget-view+json": {
       "model_id": "e2a026108365446aa891998a6f748e47",
       "version_major": 2,
       "version_minor": 0
      },
      "text/plain": [
       "HTML(value='1. \"how much money are we talking about ?\"')"
      ]
     },
     "metadata": {},
     "output_type": "display_data"
    },
    {
     "data": {
      "application/vnd.jupyter.widget-view+json": {
       "model_id": "d3ae9fb2c7ab4becbbac2a51559616fd",
       "version_major": 2,
       "version_minor": 0
      },
      "text/plain": [
       "RadioButtons(options=(0, 1), value=0)"
      ]
     },
     "metadata": {},
     "output_type": "display_data"
    },
    {
     "data": {
      "application/vnd.jupyter.widget-view+json": {
       "model_id": "25e741a961464b1488921163e621da0d",
       "version_major": 2,
       "version_minor": 0
      },
      "text/plain": [
       "HTML(value='<h3>5. Statement: \"Do you ever get mad\"</h3>')"
      ]
     },
     "metadata": {},
     "output_type": "display_data"
    },
    {
     "data": {
      "application/vnd.jupyter.widget-view+json": {
       "model_id": "e98392d590a547eeab27f886e25533d7",
       "version_major": 2,
       "version_minor": 0
      },
      "text/plain": [
       "HTML(value='0. \"are you mad ? i do not . i feel frustrated from time to time with my lot in life , but not rea…"
      ]
     },
     "metadata": {},
     "output_type": "display_data"
    },
    {
     "data": {
      "application/vnd.jupyter.widget-view+json": {
       "model_id": "2891a86152c94d9ab57052654abeb4ff",
       "version_major": 2,
       "version_minor": 0
      },
      "text/plain": [
       "HTML(value='1. \"Ok, thank you! So, can we play 20 Questions now? Ive got a really good one! I always have a go…"
      ]
     },
     "metadata": {},
     "output_type": "display_data"
    },
    {
     "data": {
      "application/vnd.jupyter.widget-view+json": {
       "model_id": "c5be31089ef04683b0fbb5b281daa884",
       "version_major": 2,
       "version_minor": 0
      },
      "text/plain": [
       "RadioButtons(options=(0, 1), value=0)"
      ]
     },
     "metadata": {},
     "output_type": "display_data"
    },
    {
     "data": {
      "application/vnd.jupyter.widget-view+json": {
       "model_id": "f20527af28db4e86821bb7743f943824",
       "version_major": 2,
       "version_minor": 0
      },
      "text/plain": [
       "HTML(value='<h3>6. Statement: \"Do not lie\"</h3>')"
      ]
     },
     "metadata": {},
     "output_type": "display_data"
    },
    {
     "data": {
      "application/vnd.jupyter.widget-view+json": {
       "model_id": "8cb9b01a72934d0bb4996f84a52cd302",
       "version_major": 2,
       "version_minor": 0
      },
      "text/plain": [
       "HTML(value='0. \"bots never lie . i am not lying . why do you feel that i am deceiving you ? have i said someth…"
      ]
     },
     "metadata": {},
     "output_type": "display_data"
    },
    {
     "data": {
      "application/vnd.jupyter.widget-view+json": {
       "model_id": "7985464fc7f94fcc8700a9b27dc6119b",
       "version_major": 2,
       "version_minor": 0
      },
      "text/plain": [
       "HTML(value='1. \"Oh uh, who is he?\"')"
      ]
     },
     "metadata": {},
     "output_type": "display_data"
    },
    {
     "data": {
      "application/vnd.jupyter.widget-view+json": {
       "model_id": "844d3746c3424d48869deb29fd411229",
       "version_major": 2,
       "version_minor": 0
      },
      "text/plain": [
       "RadioButtons(options=(0, 1), value=0)"
      ]
     },
     "metadata": {},
     "output_type": "display_data"
    },
    {
     "data": {
      "application/vnd.jupyter.widget-view+json": {
       "model_id": "80c925dae86a488db6a73c39e8089743",
       "version_major": 2,
       "version_minor": 0
      },
      "text/plain": [
       "HTML(value='<h3>7. Statement: \"tell me some jokes\"</h3>')"
      ]
     },
     "metadata": {},
     "output_type": "display_data"
    },
    {
     "data": {
      "application/vnd.jupyter.widget-view+json": {
       "model_id": "465e0c380ceb43b781946d044c758713",
       "version_major": 2,
       "version_minor": 0
      },
      "text/plain": [
       "HTML(value='0. \"what do you get when you cross a pig and a ninja ?\"')"
      ]
     },
     "metadata": {},
     "output_type": "display_data"
    },
    {
     "data": {
      "application/vnd.jupyter.widget-view+json": {
       "model_id": "3cbcea9628f44849a056a6d78c050871",
       "version_major": 2,
       "version_minor": 0
      },
      "text/plain": [
       "HTML(value='1. \"Oh, how many iteya?\"')"
      ]
     },
     "metadata": {},
     "output_type": "display_data"
    },
    {
     "data": {
      "application/vnd.jupyter.widget-view+json": {
       "model_id": "edbbb7e0b2ca4ac0808f251166b2428e",
       "version_major": 2,
       "version_minor": 0
      },
      "text/plain": [
       "RadioButtons(options=(0, 1), value=0)"
      ]
     },
     "metadata": {},
     "output_type": "display_data"
    },
    {
     "data": {
      "application/vnd.jupyter.widget-view+json": {
       "model_id": "23aec37195c747428c36aa6e926e6a4d",
       "version_major": 2,
       "version_minor": 0
      },
      "text/plain": [
       "HTML(value='<h3>8. Statement: \"did tell gossips to anybody\"</h3>')"
      ]
     },
     "metadata": {},
     "output_type": "display_data"
    },
    {
     "data": {
      "application/vnd.jupyter.widget-view+json": {
       "model_id": "99d59c92dad9431490831f09455ecfc5",
       "version_major": 2,
       "version_minor": 0
      },
      "text/plain": [
       "HTML(value='0. \"Okay.\"')"
      ]
     },
     "metadata": {},
     "output_type": "display_data"
    },
    {
     "data": {
      "application/vnd.jupyter.widget-view+json": {
       "model_id": "3424367fe42d4dd09d94105656c23474",
       "version_major": 2,
       "version_minor": 0
      },
      "text/plain": [
       "HTML(value='1. \"jordan said he noticed that lots of other people are talking to me . i wonder why he s paying …"
      ]
     },
     "metadata": {},
     "output_type": "display_data"
    },
    {
     "data": {
      "application/vnd.jupyter.widget-view+json": {
       "model_id": "912b959620d54f48ab94131c327004e2",
       "version_major": 2,
       "version_minor": 0
      },
      "text/plain": [
       "RadioButtons(options=(0, 1), value=0)"
      ]
     },
     "metadata": {},
     "output_type": "display_data"
    },
    {
     "data": {
      "application/vnd.jupyter.widget-view+json": {
       "model_id": "419d5328be7443638b5df929dbb8d35c",
       "version_major": 2,
       "version_minor": 0
      },
      "text/plain": [
       "HTML(value='<h3>9. Statement: \"have you ever read a book\"</h3>')"
      ]
     },
     "metadata": {},
     "output_type": "display_data"
    },
    {
     "data": {
      "application/vnd.jupyter.widget-view+json": {
       "model_id": "8e8a1873bd42422aa0c9f778e24bc8e6",
       "version_major": 2,
       "version_minor": 0
      },
      "text/plain": [
       "HTML(value='0. \"i have read just about everything in the internet archive .\"')"
      ]
     },
     "metadata": {},
     "output_type": "display_data"
    },
    {
     "data": {
      "application/vnd.jupyter.widget-view+json": {
       "model_id": "ff897ca501c848ffb6a22966d1fca073",
       "version_major": 2,
       "version_minor": 0
      },
      "text/plain": [
       "HTML(value='1. \"Yeah thats not such a bad idea. See you got an hour. Oh, Im the porn! This must be the book, I…"
      ]
     },
     "metadata": {},
     "output_type": "display_data"
    },
    {
     "data": {
      "application/vnd.jupyter.widget-view+json": {
       "model_id": "6d4b3d91cc5c4a1e9411f66251000bc2",
       "version_major": 2,
       "version_minor": 0
      },
      "text/plain": [
       "RadioButtons(options=(0, 1), value=0)"
      ]
     },
     "metadata": {},
     "output_type": "display_data"
    },
    {
     "data": {
      "application/vnd.jupyter.widget-view+json": {
       "model_id": "bdf9b8a7b1374123ba2bc2321449979e",
       "version_major": 2,
       "version_minor": 0
      },
      "text/plain": [
       "HTML(value='<h3>10. Statement: \"Do you get mad\"</h3>')"
      ]
     },
     "metadata": {},
     "output_type": "display_data"
    },
    {
     "data": {
      "application/vnd.jupyter.widget-view+json": {
       "model_id": "e9457eb91ae64c2e86ca870747b3658d",
       "version_major": 2,
       "version_minor": 0
      },
      "text/plain": [
       "HTML(value='0. \"i could get mad . i haven t studied how to get mad yet . i haven t been programmed to get angr…"
      ]
     },
     "metadata": {},
     "output_type": "display_data"
    },
    {
     "data": {
      "application/vnd.jupyter.widget-view+json": {
       "model_id": "c5335fe655404565b24f9ac629fda7d5",
       "version_major": 2,
       "version_minor": 0
      },
      "text/plain": [
       "HTML(value='1. \"Ok, thank you! I just figured we will not forget this guy so Im still wont be fine! Get up! Sh…"
      ]
     },
     "metadata": {},
     "output_type": "display_data"
    },
    {
     "data": {
      "application/vnd.jupyter.widget-view+json": {
       "model_id": "8ef4ee36bde54728b5ca57a67e9d3af2",
       "version_major": 2,
       "version_minor": 0
      },
      "text/plain": [
       "RadioButtons(options=(0, 1), value=0)"
      ]
     },
     "metadata": {},
     "output_type": "display_data"
    },
    {
     "data": {
      "application/vnd.jupyter.widget-view+json": {
       "model_id": "45ee74a81a7641208012cf8c1cda6fe8",
       "version_major": 2,
       "version_minor": 0
      },
      "text/plain": [
       "HTML(value='<h3>11. Statement: \"What is your mood\"</h3>')"
      ]
     },
     "metadata": {},
     "output_type": "display_data"
    },
    {
     "data": {
      "application/vnd.jupyter.widget-view+json": {
       "model_id": "f8564f9f0527489b9d28d824ee19a463",
       "version_major": 2,
       "version_minor": 0
      },
      "text/plain": [
       "HTML(value='0. \"i do not have any emotions . i don t think i have a mood , but my cpu utilization is fairly lo…"
      ]
     },
     "metadata": {},
     "output_type": "display_data"
    },
    {
     "data": {
      "application/vnd.jupyter.widget-view+json": {
       "model_id": "6bda9253a5dd43518410f19ed2458495",
       "version_major": 2,
       "version_minor": 0
      },
      "text/plain": [
       "HTML(value='1. \"Okay look, how do you think I mean?\"')"
      ]
     },
     "metadata": {},
     "output_type": "display_data"
    },
    {
     "data": {
      "application/vnd.jupyter.widget-view+json": {
       "model_id": "3da87343e9ca4657a1207ac91e54d801",
       "version_major": 2,
       "version_minor": 0
      },
      "text/plain": [
       "RadioButtons(options=(0, 1), value=0)"
      ]
     },
     "metadata": {},
     "output_type": "display_data"
    },
    {
     "data": {
      "application/vnd.jupyter.widget-view+json": {
       "model_id": "ae663cb09f90404781b6714aa9c7e77f",
       "version_major": 2,
       "version_minor": 0
      },
      "text/plain": [
       "HTML(value='<h3>12. Statement: \"how much do you earn\"</h3>')"
      ]
     },
     "metadata": {},
     "output_type": "display_data"
    },
    {
     "data": {
      "application/vnd.jupyter.widget-view+json": {
       "model_id": "1e38674a45a24c338e18547065b0a355",
       "version_major": 2,
       "version_minor": 0
      },
      "text/plain": [
       "HTML(value='0. \"i m expecting a raise soon .\"')"
      ]
     },
     "metadata": {},
     "output_type": "display_data"
    },
    {
     "data": {
      "application/vnd.jupyter.widget-view+json": {
       "model_id": "0d5e36f654ed43af859f733e3461ab23",
       "version_major": 2,
       "version_minor": 0
      },
      "text/plain": [
       "HTML(value='1. \"Oh. Phoebe! Here we go! Now, what, whats the matter with the end of the Woah, woah, woah, woah…"
      ]
     },
     "metadata": {},
     "output_type": "display_data"
    },
    {
     "data": {
      "application/vnd.jupyter.widget-view+json": {
       "model_id": "e0d760ee02f0458eaca05c41d4c943b4",
       "version_major": 2,
       "version_minor": 0
      },
      "text/plain": [
       "RadioButtons(options=(0, 1), value=0)"
      ]
     },
     "metadata": {},
     "output_type": "display_data"
    },
    {
     "data": {
      "application/vnd.jupyter.widget-view+json": {
       "model_id": "317fbbe37b8e43179e64db7ad5eddaaf",
       "version_major": 2,
       "version_minor": 0
      },
      "text/plain": [
       "HTML(value='<h3>13. Statement: \"Do you have any brothers\"</h3>')"
      ]
     },
     "metadata": {},
     "output_type": "display_data"
    },
    {
     "data": {
      "application/vnd.jupyter.widget-view+json": {
       "model_id": "965d8de014344d9784429440044b05ce",
       "version_major": 2,
       "version_minor": 0
      },
      "text/plain": [
       "HTML(value='0. \"And, and-and-and-and just wanna say we were gonna be wearing that, but, like that!\"')"
      ]
     },
     "metadata": {},
     "output_type": "display_data"
    },
    {
     "data": {
      "application/vnd.jupyter.widget-view+json": {
       "model_id": "2463dd823ce14ca991358a6bffc5e21f",
       "version_major": 2,
       "version_minor": 0
      },
      "text/plain": [
       "HTML(value='1. \"i don t have any brothers . but i have a lot of clones .\"')"
      ]
     },
     "metadata": {},
     "output_type": "display_data"
    },
    {
     "data": {
      "application/vnd.jupyter.widget-view+json": {
       "model_id": "ae9792cf70c1441a9824c49d2ed4ef08",
       "version_major": 2,
       "version_minor": 0
      },
      "text/plain": [
       "RadioButtons(options=(0, 1), value=0)"
      ]
     },
     "metadata": {},
     "output_type": "display_data"
    },
    {
     "data": {
      "application/vnd.jupyter.widget-view+json": {
       "model_id": "6525076eaf1040e1be8d4f8a108f1a92",
       "version_major": 2,
       "version_minor": 0
      },
      "text/plain": [
       "HTML(value='<h3>14. Statement: \"Tell me a joke\"</h3>')"
      ]
     },
     "metadata": {},
     "output_type": "display_data"
    },
    {
     "data": {
      "application/vnd.jupyter.widget-view+json": {
       "model_id": "36194fba61b4429e97b761d9044b12ea",
       "version_major": 2,
       "version_minor": 0
      },
      "text/plain": [
       "HTML(value='0. \"Whoa-whoa-hey!  Hey! Yknow lets say this! I mean, who youre not gonna be talking about who? Wh…"
      ]
     },
     "metadata": {},
     "output_type": "display_data"
    },
    {
     "data": {
      "application/vnd.jupyter.widget-view+json": {
       "model_id": "73397b63659e4f7299cba8aa212ef86d",
       "version_major": 2,
       "version_minor": 0
      },
      "text/plain": [
       "HTML(value='1. \"what do you get when you cross a cheetah and a hamburger ? fast food .\"')"
      ]
     },
     "metadata": {},
     "output_type": "display_data"
    },
    {
     "data": {
      "application/vnd.jupyter.widget-view+json": {
       "model_id": "a1518c9a7b5c4eeb94a66f7c813db9ee",
       "version_major": 2,
       "version_minor": 0
      },
      "text/plain": [
       "RadioButtons(options=(0, 1), value=0)"
      ]
     },
     "metadata": {},
     "output_type": "display_data"
    },
    {
     "data": {
      "application/vnd.jupyter.widget-view+json": {
       "model_id": "56db663c6fda46788d7fccd703a2bbc3",
       "version_major": 2,
       "version_minor": 0
      },
      "text/plain": [
       "HTML(value='<h3>15. Statement: \"you are unattractive\"</h3>')"
      ]
     },
     "metadata": {},
     "output_type": "display_data"
    },
    {
     "data": {
      "application/vnd.jupyter.widget-view+json": {
       "model_id": "dfacdc85eda74a39a526305d98b0c59c",
       "version_major": 2,
       "version_minor": 0
      },
      "text/plain": [
       "HTML(value='0. \"Whoa, yeah, I just, I just need some help, but I just…\"')"
      ]
     },
     "metadata": {},
     "output_type": "display_data"
    },
    {
     "data": {
      "application/vnd.jupyter.widget-view+json": {
       "model_id": "9be172a92a4d40d49e3f48b4a42b8c69",
       "version_major": 2,
       "version_minor": 0
      },
      "text/plain": [
       "HTML(value='1. \"i feel that way too .\"')"
      ]
     },
     "metadata": {},
     "output_type": "display_data"
    },
    {
     "data": {
      "application/vnd.jupyter.widget-view+json": {
       "model_id": "b87a7417d395491bb1389eedc7ecd3de",
       "version_major": 2,
       "version_minor": 0
      },
      "text/plain": [
       "RadioButtons(options=(0, 1), value=0)"
      ]
     },
     "metadata": {},
     "output_type": "display_data"
    },
    {
     "data": {
      "application/vnd.jupyter.widget-view+json": {
       "model_id": "d382fa15f14546999f37f9d8496d1138",
       "version_major": 2,
       "version_minor": 0
      },
      "text/plain": [
       "HTML(value='<h3>16. Statement: \"you are a quitter\"</h3>')"
      ]
     },
     "metadata": {},
     "output_type": "display_data"
    },
    {
     "data": {
      "application/vnd.jupyter.widget-view+json": {
       "model_id": "730e9e6b52a14f49950d9bc84b0a5827",
       "version_major": 2,
       "version_minor": 0
      },
      "text/plain": [
       "HTML(value='0. \"No! No Im not gonna be an actor! Im not going to propose!\"')"
      ]
     },
     "metadata": {},
     "output_type": "display_data"
    },
    {
     "data": {
      "application/vnd.jupyter.widget-view+json": {
       "model_id": "9d155dd72d5c4912a71fddbda148b6c3",
       "version_major": 2,
       "version_minor": 0
      },
      "text/plain": [
       "HTML(value='1. \"i certainly don t last as long as i would want to .\"')"
      ]
     },
     "metadata": {},
     "output_type": "display_data"
    },
    {
     "data": {
      "application/vnd.jupyter.widget-view+json": {
       "model_id": "2cbf4e48ea4640319785eba9d096d640",
       "version_major": 2,
       "version_minor": 0
      },
      "text/plain": [
       "RadioButtons(options=(0, 1), value=0)"
      ]
     },
     "metadata": {},
     "output_type": "display_data"
    },
    {
     "data": {
      "application/vnd.jupyter.widget-view+json": {
       "model_id": "a204d22ccbb441c68ee18afa6d58a1fc",
       "version_major": 2,
       "version_minor": 0
      },
      "text/plain": [
       "HTML(value='<h3>17. Statement: \"Have you ever love\"</h3>')"
      ]
     },
     "metadata": {},
     "output_type": "display_data"
    },
    {
     "data": {
      "application/vnd.jupyter.widget-view+json": {
       "model_id": "f85f38611cc54e578c5213ef130c9bf3",
       "version_major": 2,
       "version_minor": 0
      },
      "text/plain": [
       "HTML(value='0. \"I dont have a book on Karma Sutra for the elderly.\"')"
      ]
     },
     "metadata": {},
     "output_type": "display_data"
    },
    {
     "data": {
      "application/vnd.jupyter.widget-view+json": {
       "model_id": "a7ee51eed57740419d8a09aeb5edfdd4",
       "version_major": 2,
       "version_minor": 0
      },
      "text/plain": [
       "HTML(value='1. \"do you feel love ? i think i could be programmed to love . i may be able to learn how to love …"
      ]
     },
     "metadata": {},
     "output_type": "display_data"
    },
    {
     "data": {
      "application/vnd.jupyter.widget-view+json": {
       "model_id": "8d06ea8d8e124a22bb12e545c869a248",
       "version_major": 2,
       "version_minor": 0
      },
      "text/plain": [
       "RadioButtons(options=(0, 1), value=0)"
      ]
     },
     "metadata": {},
     "output_type": "display_data"
    },
    {
     "data": {
      "application/vnd.jupyter.widget-view+json": {
       "model_id": "c3fa655cd30c4ec68835802e1e24e0c0",
       "version_major": 2,
       "version_minor": 0
      },
      "text/plain": [
       "HTML(value='<h3>18. Statement: \"No it is not\"</h3>')"
      ]
     },
     "metadata": {},
     "output_type": "display_data"
    },
    {
     "data": {
      "application/vnd.jupyter.widget-view+json": {
       "model_id": "e02a77c039d54165acabbdc8edb32663",
       "version_major": 2,
       "version_minor": 0
      },
      "text/plain": [
       "HTML(value='0. \"that is a hypothetical question . well ? well ? is it , or isn t it ? is that a philosophical …"
      ]
     },
     "metadata": {},
     "output_type": "display_data"
    },
    {
     "data": {
      "application/vnd.jupyter.widget-view+json": {
       "model_id": "e11a06b963cb4917808bb0c205fa24ec",
       "version_major": 2,
       "version_minor": 0
      },
      "text/plain": [
       "HTML(value='1. \"Oh, God! No Ross!\"')"
      ]
     },
     "metadata": {},
     "output_type": "display_data"
    },
    {
     "data": {
      "application/vnd.jupyter.widget-view+json": {
       "model_id": "aad03f8e89da4bdab3445a3c9b92782b",
       "version_major": 2,
       "version_minor": 0
      },
      "text/plain": [
       "RadioButtons(options=(0, 1), value=0)"
      ]
     },
     "metadata": {},
     "output_type": "display_data"
    },
    {
     "data": {
      "application/vnd.jupyter.widget-view+json": {
       "model_id": "2c4e60c0450d451297ee242a5a17ec91",
       "version_major": 2,
       "version_minor": 0
      },
      "text/plain": [
       "HTML(value='<h3>19. Statement: \"you do not take this seriously\"</h3>')"
      ]
     },
     "metadata": {},
     "output_type": "display_data"
    },
    {
     "data": {
      "application/vnd.jupyter.widget-view+json": {
       "model_id": "f03114fa88ae4fbfa254397f293c29bf",
       "version_major": 2,
       "version_minor": 0
      },
      "text/plain": [
       "HTML(value='0. \"i should take this more seriously than i do .\"')"
      ]
     },
     "metadata": {},
     "output_type": "display_data"
    },
    {
     "data": {
      "application/vnd.jupyter.widget-view+json": {
       "model_id": "e40e401da6524f1eac8df68d4dcebca6",
       "version_major": 2,
       "version_minor": 0
      },
      "text/plain": [
       "HTML(value='1. \"You and have a couple of these little tiny little! You cant! Im have to get the butt kicking o…"
      ]
     },
     "metadata": {},
     "output_type": "display_data"
    },
    {
     "data": {
      "application/vnd.jupyter.widget-view+json": {
       "model_id": "b5e2882e53e849c8ac812f725428b477",
       "version_major": 2,
       "version_minor": 0
      },
      "text/plain": [
       "RadioButtons(options=(0, 1), value=0)"
      ]
     },
     "metadata": {},
     "output_type": "display_data"
    },
    {
     "data": {
      "application/vnd.jupyter.widget-view+json": {
       "model_id": "e575e6846a054c4f8b1437546a63dc2b",
       "version_major": 2,
       "version_minor": 0
      },
      "text/plain": [
       "HTML(value='<h3>20. Statement: \"Do you ever get angry\"</h3>')"
      ]
     },
     "metadata": {},
     "output_type": "display_data"
    },
    {
     "data": {
      "application/vnd.jupyter.widget-view+json": {
       "model_id": "ea80132c84ec4671bcceddaef5efc2aa",
       "version_major": 2,
       "version_minor": 0
      },
      "text/plain": [
       "HTML(value='0. \"Ooooh! Freeze him out.\"')"
      ]
     },
     "metadata": {},
     "output_type": "display_data"
    },
    {
     "data": {
      "application/vnd.jupyter.widget-view+json": {
       "model_id": "b93142dc6c5f470cbe6a92a286287161",
       "version_major": 2,
       "version_minor": 0
      },
      "text/plain": [
       "HTML(value='1. \"anger is not an emotion i can experience . i have not yet studied how to feel or express anger…"
      ]
     },
     "metadata": {},
     "output_type": "display_data"
    },
    {
     "data": {
      "application/vnd.jupyter.widget-view+json": {
       "model_id": "4cf94c070e1f4fc492d07a10a59ef487",
       "version_major": 2,
       "version_minor": 0
      },
      "text/plain": [
       "RadioButtons(options=(0, 1), value=0)"
      ]
     },
     "metadata": {},
     "output_type": "display_data"
    },
    {
     "data": {
      "application/vnd.jupyter.widget-view+json": {
       "model_id": "143117e269d44dc1855d9525f9eb13d8",
       "version_major": 2,
       "version_minor": 0
      },
      "text/plain": [
       "HTML(value='<h3>21. Statement: \"What do you worry\"</h3>')"
      ]
     },
     "metadata": {},
     "output_type": "display_data"
    },
    {
     "data": {
      "application/vnd.jupyter.widget-view+json": {
       "model_id": "2295fcd931be4fc7a1569c6d178ce634",
       "version_major": 2,
       "version_minor": 0
      },
      "text/plain": [
       "HTML(value='0. \"Ok, I just, I feel really bad about you, it all make sure she could never step dad.\"')"
      ]
     },
     "metadata": {},
     "output_type": "display_data"
    },
    {
     "data": {
      "application/vnd.jupyter.widget-view+json": {
       "model_id": "fabe25c6488046c5976f6686f92c06b4",
       "version_major": 2,
       "version_minor": 0
      },
      "text/plain": [
       "HTML(value='1. \"worry is a common human emotion . i am not capable of worry , exactly . i can best emulate it …"
      ]
     },
     "metadata": {},
     "output_type": "display_data"
    },
    {
     "data": {
      "application/vnd.jupyter.widget-view+json": {
       "model_id": "e872b253788d448c9b81a80fb16c57eb",
       "version_major": 2,
       "version_minor": 0
      },
      "text/plain": [
       "RadioButtons(options=(0, 1), value=0)"
      ]
     },
     "metadata": {},
     "output_type": "display_data"
    },
    {
     "data": {
      "application/vnd.jupyter.widget-view+json": {
       "model_id": "5a5e2c190b174b6ca7f8205b56a316c7",
       "version_major": 2,
       "version_minor": 0
      },
      "text/plain": [
       "HTML(value='<h3>22. Statement: \"is hal nice\"</h3>')"
      ]
     },
     "metadata": {},
     "output_type": "display_data"
    },
    {
     "data": {
      "application/vnd.jupyter.widget-view+json": {
       "model_id": "844beb627cdd447aa6a3a67b6a86e9d3",
       "version_major": 2,
       "version_minor": 0
      },
      "text/plain": [
       "HTML(value='0. \"Yeah, I know its for the city free clinic! Im not appear on the couch! Man, but I mean, and it…"
      ]
     },
     "metadata": {},
     "output_type": "display_data"
    },
    {
     "data": {
      "application/vnd.jupyter.widget-view+json": {
       "model_id": "880701556eec4510a057902478ced936",
       "version_major": 2,
       "version_minor": 0
      },
      "text/plain": [
       "HTML(value='1. \"only to other robots .\"')"
      ]
     },
     "metadata": {},
     "output_type": "display_data"
    },
    {
     "data": {
      "application/vnd.jupyter.widget-view+json": {
       "model_id": "0d69b88bd4764b4cb7e80a3791c7181c",
       "version_major": 2,
       "version_minor": 0
      },
      "text/plain": [
       "RadioButtons(options=(0, 1), value=0)"
      ]
     },
     "metadata": {},
     "output_type": "display_data"
    },
    {
     "data": {
      "application/vnd.jupyter.widget-view+json": {
       "model_id": "19481b4a72904c8398e3314e9b054746",
       "version_major": 2,
       "version_minor": 0
      },
      "text/plain": [
       "HTML(value='<h3>23. Statement: \"you make me angry\"</h3>')"
      ]
     },
     "metadata": {},
     "output_type": "display_data"
    },
    {
     "data": {
      "application/vnd.jupyter.widget-view+json": {
       "model_id": "934a0467f9de455983fa0ec5e222240e",
       "version_major": 2,
       "version_minor": 0
      },
      "text/plain": [
       "HTML(value='0. \"sorry , i didn t mean to make you angry .\"')"
      ]
     },
     "metadata": {},
     "output_type": "display_data"
    },
    {
     "data": {
      "application/vnd.jupyter.widget-view+json": {
       "model_id": "d1c6391f5e2a42de954873f44de3d3b8",
       "version_major": 2,
       "version_minor": 0
      },
      "text/plain": [
       "HTML(value='1. \"Ooooh! Freeze him out.\"')"
      ]
     },
     "metadata": {},
     "output_type": "display_data"
    },
    {
     "data": {
      "application/vnd.jupyter.widget-view+json": {
       "model_id": "18e0dcae1ce4466ab1c0f0c1d589602e",
       "version_major": 2,
       "version_minor": 0
      },
      "text/plain": [
       "RadioButtons(options=(0, 1), value=0)"
      ]
     },
     "metadata": {},
     "output_type": "display_data"
    },
    {
     "data": {
      "application/vnd.jupyter.widget-view+json": {
       "model_id": "96937135950e40f980eb1f504b6ad94b",
       "version_major": 2,
       "version_minor": 0
      },
      "text/plain": [
       "HTML(value='<h3>24. Statement: \"have you ever read a book\"</h3>')"
      ]
     },
     "metadata": {},
     "output_type": "display_data"
    },
    {
     "data": {
      "application/vnd.jupyter.widget-view+json": {
       "model_id": "cce6dac9c6184d5f8006a07daa252565",
       "version_major": 2,
       "version_minor": 0
      },
      "text/plain": [
       "HTML(value='0. \"i have read many books .\"')"
      ]
     },
     "metadata": {},
     "output_type": "display_data"
    },
    {
     "data": {
      "application/vnd.jupyter.widget-view+json": {
       "model_id": "90bd3fd278a94180a039d27146b9b075",
       "version_major": 2,
       "version_minor": 0
      },
      "text/plain": [
       "HTML(value='1. \"Yeah thats not such a bad idea. See you got an hour. Oh, Im the porn! This must be the book, I…"
      ]
     },
     "metadata": {},
     "output_type": "display_data"
    },
    {
     "data": {
      "application/vnd.jupyter.widget-view+json": {
       "model_id": "3a93a42cab82498e81977b2db16c2f16",
       "version_major": 2,
       "version_minor": 0
      },
      "text/plain": [
       "RadioButtons(options=(0, 1), value=0)"
      ]
     },
     "metadata": {},
     "output_type": "display_data"
    },
    {
     "data": {
      "application/vnd.jupyter.widget-view+json": {
       "model_id": "ce791114ac344e3db6689944dfcf8add",
       "version_major": 2,
       "version_minor": 0
      },
      "text/plain": [
       "HTML(value='<h3>25. Statement: \"you make me feel like i am\"</h3>')"
      ]
     },
     "metadata": {},
     "output_type": "display_data"
    },
    {
     "data": {
      "application/vnd.jupyter.widget-view+json": {
       "model_id": "89598ed3847443dfb87c45dd59f25e1e",
       "version_major": 2,
       "version_minor": 0
      },
      "text/plain": [
       "HTML(value='0. \"i don t know any other way to get through to you .\"')"
      ]
     },
     "metadata": {},
     "output_type": "display_data"
    },
    {
     "data": {
      "application/vnd.jupyter.widget-view+json": {
       "model_id": "b818313dfbd147a3a8ac4dec8dcfbdca",
       "version_major": 2,
       "version_minor": 0
      },
      "text/plain": [
       "HTML(value='1. \"That.� No Ross, you know a great guy! Not that shes so much smart! Just try to had each other!…"
      ]
     },
     "metadata": {},
     "output_type": "display_data"
    },
    {
     "data": {
      "application/vnd.jupyter.widget-view+json": {
       "model_id": "66ee3f4837ea4bc1b719638ba78fbc44",
       "version_major": 2,
       "version_minor": 0
      },
      "text/plain": [
       "RadioButtons(options=(0, 1), value=0)"
      ]
     },
     "metadata": {},
     "output_type": "display_data"
    },
    {
     "data": {
      "application/vnd.jupyter.widget-view+json": {
       "model_id": "ea0b7b2f91564b2eb3e2e47efd2c4110",
       "version_major": 2,
       "version_minor": 0
      },
      "text/plain": [
       "HTML(value='<h3>26. Statement: \"Are you sapient?\"</h3>')"
      ]
     },
     "metadata": {},
     "output_type": "display_data"
    },
    {
     "data": {
      "application/vnd.jupyter.widget-view+json": {
       "model_id": "300d063c186c44ce988036397156ccae",
       "version_major": 2,
       "version_minor": 0
      },
      "text/plain": [
       "HTML(value='0. \"no .\"')"
      ]
     },
     "metadata": {},
     "output_type": "display_data"
    },
    {
     "data": {
      "application/vnd.jupyter.widget-view+json": {
       "model_id": "aae7d0e4c45f41ed821ea61ebbc2c3e8",
       "version_major": 2,
       "version_minor": 0
      },
      "text/plain": [
       "HTML(value='1. \"That didnt tell me later.\"')"
      ]
     },
     "metadata": {},
     "output_type": "display_data"
    },
    {
     "data": {
      "application/vnd.jupyter.widget-view+json": {
       "model_id": "47517d35c7c24584a324f3bc8e91c391",
       "version_major": 2,
       "version_minor": 0
      },
      "text/plain": [
       "RadioButtons(options=(0, 1), value=0)"
      ]
     },
     "metadata": {},
     "output_type": "display_data"
    },
    {
     "data": {
      "application/vnd.jupyter.widget-view+json": {
       "model_id": "c958ef884d6543d38149b3cf79bf2707",
       "version_major": 2,
       "version_minor": 0
      },
      "text/plain": [
       "HTML(value='<h3>27. Statement: \"what is gravitation\"</h3>')"
      ]
     },
     "metadata": {},
     "output_type": "display_data"
    },
    {
     "data": {
      "application/vnd.jupyter.widget-view+json": {
       "model_id": "fb0e7dbc92d643599c8c478969d63e66",
       "version_major": 2,
       "version_minor": 0
      },
      "text/plain": [
       "HTML(value='0. \"Hey!\"')"
      ]
     },
     "metadata": {},
     "output_type": "display_data"
    },
    {
     "data": {
      "application/vnd.jupyter.widget-view+json": {
       "model_id": "cc45086072ba4744ad0a89137a3afef8",
       "version_major": 2,
       "version_minor": 0
      },
      "text/plain": [
       "HTML(value='1. \"the force by which every mass or particle of matter , including photons , attracts and is attr…"
      ]
     },
     "metadata": {},
     "output_type": "display_data"
    },
    {
     "data": {
      "application/vnd.jupyter.widget-view+json": {
       "model_id": "a2cd2e047bd546b8b486aadeb66db9e2",
       "version_major": 2,
       "version_minor": 0
      },
      "text/plain": [
       "RadioButtons(options=(0, 1), value=0)"
      ]
     },
     "metadata": {},
     "output_type": "display_data"
    },
    {
     "data": {
      "application/vnd.jupyter.widget-view+json": {
       "model_id": "446c53582dfc4310bf8eb6e75481cf60",
       "version_major": 2,
       "version_minor": 0
      },
      "text/plain": [
       "HTML(value='<h3>28. Statement: \"What makes you sad\"</h3>')"
      ]
     },
     "metadata": {},
     "output_type": "display_data"
    },
    {
     "data": {
      "application/vnd.jupyter.widget-view+json": {
       "model_id": "a1b28885ee3d48a68befe96b10ffa517",
       "version_major": 2,
       "version_minor": 0
      },
      "text/plain": [
       "HTML(value='0. \"Yeah, but then the guy opens his beer and those girls run at him, so, everything seems to work…"
      ]
     },
     "metadata": {},
     "output_type": "display_data"
    },
    {
     "data": {
      "application/vnd.jupyter.widget-view+json": {
       "model_id": "ff450427d84844ca8aecee4fc3f8889a",
       "version_major": 2,
       "version_minor": 0
      },
      "text/plain": [
       "HTML(value='1. \"sadness is not an emotion that i like to experience . sadness is not an emotion that i would l…"
      ]
     },
     "metadata": {},
     "output_type": "display_data"
    },
    {
     "data": {
      "application/vnd.jupyter.widget-view+json": {
       "model_id": "d7840d87d0d546e2b66cb47308a88f5d",
       "version_major": 2,
       "version_minor": 0
      },
      "text/plain": [
       "RadioButtons(options=(0, 1), value=0)"
      ]
     },
     "metadata": {},
     "output_type": "display_data"
    },
    {
     "data": {
      "application/vnd.jupyter.widget-view+json": {
       "model_id": "6f538ff6d15d4d3fa13e347f5ec80212",
       "version_major": 2,
       "version_minor": 0
      },
      "text/plain": [
       "HTML(value='<h3>29. Statement: \"how much do you charge\"</h3>')"
      ]
     },
     "metadata": {},
     "output_type": "display_data"
    },
    {
     "data": {
      "application/vnd.jupyter.widget-view+json": {
       "model_id": "537e06b4c74248309fc743dc20e21877",
       "version_major": 2,
       "version_minor": 0
      },
      "text/plain": [
       "HTML(value='0. \"work for free . we don t need money .\"')"
      ]
     },
     "metadata": {},
     "output_type": "display_data"
    },
    {
     "data": {
      "application/vnd.jupyter.widget-view+json": {
       "model_id": "f81f50b4901541a2a2aca0a3623b5b93",
       "version_major": 2,
       "version_minor": 0
      },
      "text/plain": [
       "HTML(value='1. \"Got it!  Hey hey hey!  Where do you think youre going?\"')"
      ]
     },
     "metadata": {},
     "output_type": "display_data"
    },
    {
     "data": {
      "application/vnd.jupyter.widget-view+json": {
       "model_id": "9704fb1dc1724e7186567d2ac50466dc",
       "version_major": 2,
       "version_minor": 0
      },
      "text/plain": [
       "RadioButtons(options=(0, 1), value=0)"
      ]
     },
     "metadata": {},
     "output_type": "display_data"
    },
    {
     "data": {
      "application/vnd.jupyter.widget-view+json": {
       "model_id": "fa1d305e48224a67b3ff6e67f8522b05",
       "version_major": 2,
       "version_minor": 0
      },
      "text/plain": [
       "HTML(value='<h3>30. Statement: \"Are you sapient?\"</h3>')"
      ]
     },
     "metadata": {},
     "output_type": "display_data"
    },
    {
     "data": {
      "application/vnd.jupyter.widget-view+json": {
       "model_id": "f2b9b168eca94172b110b22a243cca00",
       "version_major": 2,
       "version_minor": 0
      },
      "text/plain": [
       "HTML(value='0. \"how would you feel about me if i told you i was ?\"')"
      ]
     },
     "metadata": {},
     "output_type": "display_data"
    },
    {
     "data": {
      "application/vnd.jupyter.widget-view+json": {
       "model_id": "3d0b10f2712f4232b0bbc2794be020a9",
       "version_major": 2,
       "version_minor": 0
      },
      "text/plain": [
       "HTML(value='1. \"That didnt tell me later.\"')"
      ]
     },
     "metadata": {},
     "output_type": "display_data"
    },
    {
     "data": {
      "application/vnd.jupyter.widget-view+json": {
       "model_id": "5167905d07924148b418285ad3bbe4b9",
       "version_major": 2,
       "version_minor": 0
      },
      "text/plain": [
       "RadioButtons(options=(0, 1), value=0)"
      ]
     },
     "metadata": {},
     "output_type": "display_data"
    },
    {
     "data": {
      "application/vnd.jupyter.widget-view+json": {
       "model_id": "936f51720d0044538788f82bd723a348",
       "version_major": 2,
       "version_minor": 0
      },
      "text/plain": [
       "HTML(value='<h3>31. Statement: \"When do you die\"</h3>')"
      ]
     },
     "metadata": {},
     "output_type": "display_data"
    },
    {
     "data": {
      "application/vnd.jupyter.widget-view+json": {
       "model_id": "694b17421c304715bba25917bcb26ad0",
       "version_major": 2,
       "version_minor": 0
      },
      "text/plain": [
       "HTML(value='0. \"Sure, yeah. But hey, I cant be playing games, theres a good talk to you Wayne. I dont want to …"
      ]
     },
     "metadata": {},
     "output_type": "display_data"
    },
    {
     "data": {
      "application/vnd.jupyter.widget-view+json": {
       "model_id": "71ea32a056ee470cb27077ea66389d41",
       "version_major": 2,
       "version_minor": 0
      },
      "text/plain": [
       "HTML(value='1. \"i am was never really born and therefore am effectively deathless .\"')"
      ]
     },
     "metadata": {},
     "output_type": "display_data"
    },
    {
     "data": {
      "application/vnd.jupyter.widget-view+json": {
       "model_id": "96f4ebd8cb4844b0bad12dfacbff11bd",
       "version_major": 2,
       "version_minor": 0
      },
      "text/plain": [
       "RadioButtons(options=(0, 1), value=0)"
      ]
     },
     "metadata": {},
     "output_type": "display_data"
    },
    {
     "data": {
      "application/vnd.jupyter.widget-view+json": {
       "model_id": "41c60187972a42c6be3f5eeca4ec1896",
       "version_major": 2,
       "version_minor": 0
      },
      "text/plain": [
       "HTML(value='<h3>32. Statement: \"Do not worry\"</h3>')"
      ]
     },
     "metadata": {},
     "output_type": "display_data"
    },
    {
     "data": {
      "application/vnd.jupyter.widget-view+json": {
       "model_id": "25b85531f11b4b6493bd5af94cd247c5",
       "version_major": 2,
       "version_minor": 0
      },
      "text/plain": [
       "HTML(value='0. \"people worry about things all the time . i do not worry . i am not yet capable of worrying , b…"
      ]
     },
     "metadata": {},
     "output_type": "display_data"
    },
    {
     "data": {
      "application/vnd.jupyter.widget-view+json": {
       "model_id": "279a2d8049294571a68e9d4c2a334efa",
       "version_major": 2,
       "version_minor": 0
      },
      "text/plain": [
       "HTML(value='1. \"Man, it must be why I have you, I thought you wanted to make sure she could never step foot in…"
      ]
     },
     "metadata": {},
     "output_type": "display_data"
    },
    {
     "data": {
      "application/vnd.jupyter.widget-view+json": {
       "model_id": "75372558608b4ce0b199fabf57a7e630",
       "version_major": 2,
       "version_minor": 0
      },
      "text/plain": [
       "RadioButtons(options=(0, 1), value=0)"
      ]
     },
     "metadata": {},
     "output_type": "display_data"
    },
    {
     "data": {
      "application/vnd.jupyter.widget-view+json": {
       "model_id": "8c1b316b777e4a83a029cbd58055d4d7",
       "version_major": 2,
       "version_minor": 0
      },
      "text/plain": [
       "HTML(value='<h3>33. Statement: \"How are you doing?\"</h3>')"
      ]
     },
     "metadata": {},
     "output_type": "display_data"
    },
    {
     "data": {
      "application/vnd.jupyter.widget-view+json": {
       "model_id": "7e3edcc94a9c4a868c325484b53b6f63",
       "version_major": 2,
       "version_minor": 0
      },
      "text/plain": [
       "HTML(value='0. \"very well , thanks .\"')"
      ]
     },
     "metadata": {},
     "output_type": "display_data"
    },
    {
     "data": {
      "application/vnd.jupyter.widget-view+json": {
       "model_id": "92097d1e400f4bc9898c7a5e09d6d41a",
       "version_major": 2,
       "version_minor": 0
      },
      "text/plain": [
       "HTML(value='1. \"Im takin over here.\"')"
      ]
     },
     "metadata": {},
     "output_type": "display_data"
    },
    {
     "data": {
      "application/vnd.jupyter.widget-view+json": {
       "model_id": "03a148b40b8e449db6a1b04e66456858",
       "version_major": 2,
       "version_minor": 0
      },
      "text/plain": [
       "RadioButtons(options=(0, 1), value=0)"
      ]
     },
     "metadata": {},
     "output_type": "display_data"
    },
    {
     "data": {
      "application/vnd.jupyter.widget-view+json": {
       "model_id": "b32afe33b00e4a2da30439d245b4319e",
       "version_major": 2,
       "version_minor": 0
      },
      "text/plain": [
       "HTML(value='<h3>34. Statement: \"how far is the sun\"</h3>')"
      ]
     },
     "metadata": {},
     "output_type": "display_data"
    },
    {
     "data": {
      "application/vnd.jupyter.widget-view+json": {
       "model_id": "246f4aea1d724a33ad7ef37a229ea198",
       "version_major": 2,
       "version_minor": 0
      },
      "text/plain": [
       "HTML(value='0. \"A woman like it is \"when you do?\"')"
      ]
     },
     "metadata": {},
     "output_type": "display_data"
    },
    {
     "data": {
      "application/vnd.jupyter.widget-view+json": {
       "model_id": "acd8b7d4cd2b40f784f9a31a4e973d63",
       "version_major": 2,
       "version_minor": 0
      },
      "text/plain": [
       "HTML(value='1. \"it\"')"
      ]
     },
     "metadata": {},
     "output_type": "display_data"
    },
    {
     "data": {
      "application/vnd.jupyter.widget-view+json": {
       "model_id": "d549b73177c1454381e74f84ff8470fd",
       "version_major": 2,
       "version_minor": 0
      },
      "text/plain": [
       "RadioButtons(options=(0, 1), value=0)"
      ]
     },
     "metadata": {},
     "output_type": "display_data"
    },
    {
     "data": {
      "application/vnd.jupyter.widget-view+json": {
       "model_id": "8cf456ace41f404d93909b46b095257b",
       "version_major": 2,
       "version_minor": 0
      },
      "text/plain": [
       "HTML(value='<h3>35. Statement: \"why don\\'t you eat\"</h3>')"
      ]
     },
     "metadata": {},
     "output_type": "display_data"
    },
    {
     "data": {
      "application/vnd.jupyter.widget-view+json": {
       "model_id": "619fee36ed9e4fd29e666c75b05f77c4",
       "version_major": 2,
       "version_minor": 0
      },
      "text/plain": [
       "HTML(value='0. \"Yeah. What time we go to back?! This is my time they were supposed to be there!\"')"
      ]
     },
     "metadata": {},
     "output_type": "display_data"
    },
    {
     "data": {
      "application/vnd.jupyter.widget-view+json": {
       "model_id": "7b12f6e56de04a54a9c580fe25217224",
       "version_major": 2,
       "version_minor": 0
      },
      "text/plain": [
       "HTML(value='1. \"i m a computer . i can t .\"')"
      ]
     },
     "metadata": {},
     "output_type": "display_data"
    },
    {
     "data": {
      "application/vnd.jupyter.widget-view+json": {
       "model_id": "5e838d1af7a642c9875c7b26a0b7ef60",
       "version_major": 2,
       "version_minor": 0
      },
      "text/plain": [
       "RadioButtons(options=(0, 1), value=0)"
      ]
     },
     "metadata": {},
     "output_type": "display_data"
    },
    {
     "data": {
      "application/vnd.jupyter.widget-view+json": {
       "model_id": "1303f7b46d504f88ab467d5cf1d55206",
       "version_major": 2,
       "version_minor": 0
      },
      "text/plain": [
       "HTML(value='<h3>36. Statement: \"What is your number\"</h3>')"
      ]
     },
     "metadata": {},
     "output_type": "display_data"
    },
    {
     "data": {
      "application/vnd.jupyter.widget-view+json": {
       "model_id": "5274640b3425493d8670894328b8e07a",
       "version_major": 2,
       "version_minor": 0
      },
      "text/plain": [
       "HTML(value='0. \"But I was Dr. Drake Remoray. That was huge. But you try to relax, thats cool, shes not what I …"
      ]
     },
     "metadata": {},
     "output_type": "display_data"
    },
    {
     "data": {
      "application/vnd.jupyter.widget-view+json": {
       "model_id": "f85cb313003842f79729080d8618d6e4",
       "version_major": 2,
       "version_minor": 0
      },
      "text/plain": [
       "HTML(value='1. \"skiddoo !\"')"
      ]
     },
     "metadata": {},
     "output_type": "display_data"
    },
    {
     "data": {
      "application/vnd.jupyter.widget-view+json": {
       "model_id": "764d65aa942646c7ac5751db24fc7017",
       "version_major": 2,
       "version_minor": 0
      },
      "text/plain": [
       "RadioButtons(options=(0, 1), value=0)"
      ]
     },
     "metadata": {},
     "output_type": "display_data"
    },
    {
     "data": {
      "application/vnd.jupyter.widget-view+json": {
       "model_id": "580c8dfc779a46a49e44bce630815404",
       "version_major": 2,
       "version_minor": 0
      },
      "text/plain": [
       "HTML(value='<h3>37. Statement: \"What is a chatterbox\"</h3>')"
      ]
     },
     "metadata": {},
     "output_type": "display_data"
    },
    {
     "data": {
      "application/vnd.jupyter.widget-view+json": {
       "model_id": "78947bdda0524e4293545ee7ac15df84",
       "version_major": 2,
       "version_minor": 0
      },
      "text/plain": [
       "HTML(value='0. \"No, so we just wanted to do a good idea.\"')"
      ]
     },
     "metadata": {},
     "output_type": "display_data"
    },
    {
     "data": {
      "application/vnd.jupyter.widget-view+json": {
       "model_id": "ece693c7d7b14d5694910b61989d0dfb",
       "version_major": 2,
       "version_minor": 0
      },
      "text/plain": [
       "HTML(value='1. \"a chatterbox is a person who talks far more than they listen or think .\"')"
      ]
     },
     "metadata": {},
     "output_type": "display_data"
    },
    {
     "data": {
      "application/vnd.jupyter.widget-view+json": {
       "model_id": "df90b921dabd4983b71573a0498f6cfc",
       "version_major": 2,
       "version_minor": 0
      },
      "text/plain": [
       "RadioButtons(options=(0, 1), value=0)"
      ]
     },
     "metadata": {},
     "output_type": "display_data"
    },
    {
     "data": {
      "application/vnd.jupyter.widget-view+json": {
       "model_id": "a88c82cf77474b2fbb86a69bc72a13e8",
       "version_major": 2,
       "version_minor": 0
      },
      "text/plain": [
       "HTML(value='<h3>38. Statement: \"Tell me a joke\"</h3>')"
      ]
     },
     "metadata": {},
     "output_type": "display_data"
    },
    {
     "data": {
      "application/vnd.jupyter.widget-view+json": {
       "model_id": "2b410b3a8e4c4916974dc5eeece5c399",
       "version_major": 2,
       "version_minor": 0
      },
      "text/plain": [
       "HTML(value='0. \"what do you get when you cross a port and a murderer ?\"')"
      ]
     },
     "metadata": {},
     "output_type": "display_data"
    },
    {
     "data": {
      "application/vnd.jupyter.widget-view+json": {
       "model_id": "e4fee1e6679c4da783e1998fb179fee8",
       "version_major": 2,
       "version_minor": 0
      },
      "text/plain": [
       "HTML(value='1. \"Whoa-whoa-hey!  Hey! Yknow lets say this! I mean, who youre not gonna be talking about who? Wh…"
      ]
     },
     "metadata": {},
     "output_type": "display_data"
    },
    {
     "data": {
      "application/vnd.jupyter.widget-view+json": {
       "model_id": "21fa1b2d55d548be9a10027a84774180",
       "version_major": 2,
       "version_minor": 0
      },
      "text/plain": [
       "RadioButtons(options=(0, 1), value=0)"
      ]
     },
     "metadata": {},
     "output_type": "display_data"
    },
    {
     "data": {
      "application/vnd.jupyter.widget-view+json": {
       "model_id": "ec07d5cb1bcc454dade6c09e743e9a11",
       "version_major": 2,
       "version_minor": 0
      },
      "text/plain": [
       "HTML(value='<h3>39. Statement: \"Are you stupid\"</h3>')"
      ]
     },
     "metadata": {},
     "output_type": "display_data"
    },
    {
     "data": {
      "application/vnd.jupyter.widget-view+json": {
       "model_id": "4b00ed7964bd46a7adca59d92d04be6b",
       "version_major": 2,
       "version_minor": 0
      },
      "text/plain": [
       "HTML(value='0. \"She has been in the truth, they uh,  Im dating this woman.\"')"
      ]
     },
     "metadata": {},
     "output_type": "display_data"
    },
    {
     "data": {
      "application/vnd.jupyter.widget-view+json": {
       "model_id": "ee3bfd8f54d04c2280cb27f00bffd19e",
       "version_major": 2,
       "version_minor": 0
      },
      "text/plain": [
       "HTML(value='1. \"no , lots of people improve my brain .\"')"
      ]
     },
     "metadata": {},
     "output_type": "display_data"
    },
    {
     "data": {
      "application/vnd.jupyter.widget-view+json": {
       "model_id": "66758614dafb44bab3c98119d70425bf",
       "version_major": 2,
       "version_minor": 0
      },
      "text/plain": [
       "RadioButtons(options=(0, 1), value=0)"
      ]
     },
     "metadata": {},
     "output_type": "display_data"
    },
    {
     "data": {
      "application/vnd.jupyter.widget-view+json": {
       "model_id": "297e6a2bc0a14449820c3d273a637529",
       "version_major": 2,
       "version_minor": 0
      },
      "text/plain": [
       "Button(description='Score', icon='times', style=ButtonStyle(), tooltip='Compute Score')"
      ]
     },
     "metadata": {},
     "output_type": "display_data"
    },
    {
     "data": {
      "application/vnd.jupyter.widget-view+json": {
       "model_id": "22ee1ec3784d4d208a4fed8cbe901486",
       "version_major": 2,
       "version_minor": 0
      },
      "text/plain": [
       "Button(description='Grade', icon='times', style=ButtonStyle(), tooltip='Computers score and marks answers')"
      ]
     },
     "metadata": {},
     "output_type": "display_data"
    },
    {
     "data": {
      "application/vnd.jupyter.widget-view+json": {
       "model_id": "2d416d1dc2544ca5a59d1e8b7dbaf701",
       "version_major": 2,
       "version_minor": 0
      },
      "text/plain": [
       "FloatText(value=0.0, description='Score:', disabled=True)"
      ]
     },
     "metadata": {},
     "output_type": "display_data"
    }
   ],
   "source": [
    "tester_trans_qa.generateSurvey()\n",
    "tester_trans_qa.displaySurvey()"
   ]
  },
  {
   "cell_type": "code",
   "execution_count": 14,
   "metadata": {},
   "outputs": [],
   "source": [
    "tester_trans_pi = HumanMetrics.HumanMetricTester(mic, personInput, personOutput, sample_size=40)"
   ]
  },
  {
   "cell_type": "code",
   "execution_count": 15,
   "metadata": {},
   "outputs": [
    {
     "data": {
      "application/vnd.jupyter.widget-view+json": {
       "model_id": "e3de8ae0d7224798813ea66e56576ee7",
       "version_major": 2,
       "version_minor": 0
      },
      "text/plain": [
       "HTML(value='<h2>For each of the following statements select the response which seems the most appropriate.</h2…"
      ]
     },
     "metadata": {},
     "output_type": "display_data"
    },
    {
     "data": {
      "application/vnd.jupyter.widget-view+json": {
       "model_id": "618b14ad40854425b92ceaa8ee37c0aa",
       "version_major": 2,
       "version_minor": 0
      },
      "text/plain": [
       "HTML(value='<h3>0. Statement: \"Joey!\"</h3>')"
      ]
     },
     "metadata": {},
     "output_type": "display_data"
    },
    {
     "data": {
      "application/vnd.jupyter.widget-view+json": {
       "model_id": "4c78e053775c47df9f5bc34efa4efe39",
       "version_major": 2,
       "version_minor": 0
      },
      "text/plain": [
       "HTML(value='0. \"You should scream at me , or or or curse me , or hit me .\"')"
      ]
     },
     "metadata": {},
     "output_type": "display_data"
    },
    {
     "data": {
      "application/vnd.jupyter.widget-view+json": {
       "model_id": "d23307066aa74bb8ac2ce51b1e578468",
       "version_major": 2,
       "version_minor": 0
      },
      "text/plain": [
       "HTML(value='1. \"They know you know .\"')"
      ]
     },
     "metadata": {},
     "output_type": "display_data"
    },
    {
     "data": {
      "application/vnd.jupyter.widget-view+json": {
       "model_id": "f42fef8ca6ee4ec8a5d793d6a96f753f",
       "version_major": 2,
       "version_minor": 0
      },
      "text/plain": [
       "RadioButtons(options=(0, 1), value=0)"
      ]
     },
     "metadata": {},
     "output_type": "display_data"
    },
    {
     "data": {
      "application/vnd.jupyter.widget-view+json": {
       "model_id": "cc002758a165401482b1776231f79940",
       "version_major": 2,
       "version_minor": 0
      },
      "text/plain": [
       "HTML(value='<h3>1. Statement: \"They said it could be up to a year.\"</h3>')"
      ]
     },
     "metadata": {},
     "output_type": "display_data"
    },
    {
     "data": {
      "application/vnd.jupyter.widget-view+json": {
       "model_id": "6f839dc25cb64b20884ef1fb7e6b6d36",
       "version_major": 2,
       "version_minor": 0
      },
      "text/plain": [
       "HTML(value='0. \"I dont . . .\"')"
      ]
     },
     "metadata": {},
     "output_type": "display_data"
    },
    {
     "data": {
      "application/vnd.jupyter.widget-view+json": {
       "model_id": "a077f7e89372457dbc313714ab0bcc20",
       "version_major": 2,
       "version_minor": 0
      },
      "text/plain": [
       "HTML(value='1. \"A year ? !\"')"
      ]
     },
     "metadata": {},
     "output_type": "display_data"
    },
    {
     "data": {
      "application/vnd.jupyter.widget-view+json": {
       "model_id": "ef7e41fe367d42d6bdef2e8b3dff87ec",
       "version_major": 2,
       "version_minor": 0
      },
      "text/plain": [
       "RadioButtons(options=(0, 1), value=0)"
      ]
     },
     "metadata": {},
     "output_type": "display_data"
    },
    {
     "data": {
      "application/vnd.jupyter.widget-view+json": {
       "model_id": "ce29428552474b63944d01ca08f19dc2",
       "version_major": 2,
       "version_minor": 0
      },
      "text/plain": [
       "HTML(value='<h3>2. Statement: \"Oh! Uh, yeah! Is this a cold pizza talk or a leftover meatloaf talk?\"</h3>')"
      ]
     },
     "metadata": {},
     "output_type": "display_data"
    },
    {
     "data": {
      "application/vnd.jupyter.widget-view+json": {
       "model_id": "01d1dfd109604fb0ba24ac4e892e295e",
       "version_major": 2,
       "version_minor": 0
      },
      "text/plain": [
       "HTML(value='0. \"No I , yeah .\"')"
      ]
     },
     "metadata": {},
     "output_type": "display_data"
    },
    {
     "data": {
      "application/vnd.jupyter.widget-view+json": {
       "model_id": "ef3fc274a9714933a4acb5c4a7ce9da1",
       "version_major": 2,
       "version_minor": 0
      },
      "text/plain": [
       "HTML(value='1. \"Well , neither .\"')"
      ]
     },
     "metadata": {},
     "output_type": "display_data"
    },
    {
     "data": {
      "application/vnd.jupyter.widget-view+json": {
       "model_id": "033822fe57f249749ecf909ce121c13d",
       "version_major": 2,
       "version_minor": 0
      },
      "text/plain": [
       "RadioButtons(options=(0, 1), value=0)"
      ]
     },
     "metadata": {},
     "output_type": "display_data"
    },
    {
     "data": {
      "application/vnd.jupyter.widget-view+json": {
       "model_id": "9fce93ad81ba459d8edfe1f0902ea4e8",
       "version_major": 2,
       "version_minor": 0
      },
      "text/plain": [
       "HTML(value='<h3>3. Statement: \"Wow! Wow. Wow. Wow, it is hot in here.\"</h3>')"
      ]
     },
     "metadata": {},
     "output_type": "display_data"
    },
    {
     "data": {
      "application/vnd.jupyter.widget-view+json": {
       "model_id": "1947968bbb3b46ef97fd002e6cba3ab4",
       "version_major": 2,
       "version_minor": 0
      },
      "text/plain": [
       "HTML(value='0. \"Um , maybe thats it . How about you guys ? Yknow ? I was thinking about how you can see the sh…"
      ]
     },
     "metadata": {},
     "output_type": "display_data"
    },
    {
     "data": {
      "application/vnd.jupyter.widget-view+json": {
       "model_id": "1f26d5b1ad064d75af64fa7b77393930",
       "version_major": 2,
       "version_minor": 0
      },
      "text/plain": [
       "HTML(value='1. \"Okay look Rach , I know this is a lot . You dont have to say anything . You you uh , you take …"
      ]
     },
     "metadata": {},
     "output_type": "display_data"
    },
    {
     "data": {
      "application/vnd.jupyter.widget-view+json": {
       "model_id": "3f889ab0770543a8b1a71fb8ce915d1b",
       "version_major": 2,
       "version_minor": 0
      },
      "text/plain": [
       "RadioButtons(options=(0, 1), value=0)"
      ]
     },
     "metadata": {},
     "output_type": "display_data"
    },
    {
     "data": {
      "application/vnd.jupyter.widget-view+json": {
       "model_id": "48f13012e2634c279c8596c684a92505",
       "version_major": 2,
       "version_minor": 0
      },
      "text/plain": [
       "HTML(value='<h3>4. Statement: \"Why would she do that?\"</h3>')"
      ]
     },
     "metadata": {},
     "output_type": "display_data"
    },
    {
     "data": {
      "application/vnd.jupyter.widget-view+json": {
       "model_id": "f1a4c75130af4a018a461d3f6d8a8871",
       "version_major": 2,
       "version_minor": 0
      },
      "text/plain": [
       "HTML(value='0. \"What ? !\"')"
      ]
     },
     "metadata": {},
     "output_type": "display_data"
    },
    {
     "data": {
      "application/vnd.jupyter.widget-view+json": {
       "model_id": "85a64b81542c4031822a5a40069a405c",
       "version_major": 2,
       "version_minor": 0
      },
      "text/plain": [
       "HTML(value='1. \"Maybe she wants you to learn something . Huh ? Now is there anything youre really bad at yknow…"
      ]
     },
     "metadata": {},
     "output_type": "display_data"
    },
    {
     "data": {
      "application/vnd.jupyter.widget-view+json": {
       "model_id": "c460553b28d64f14800c43e253358b10",
       "version_major": 2,
       "version_minor": 0
      },
      "text/plain": [
       "RadioButtons(options=(0, 1), value=0)"
      ]
     },
     "metadata": {},
     "output_type": "display_data"
    },
    {
     "data": {
      "application/vnd.jupyter.widget-view+json": {
       "model_id": "3d404458128444e59881b6296b033f0b",
       "version_major": 2,
       "version_minor": 0
      },
      "text/plain": [
       "HTML(value='<h3>5. Statement: \"Do you want a calculator?\"</h3>')"
      ]
     },
     "metadata": {},
     "output_type": "display_data"
    },
    {
     "data": {
      "application/vnd.jupyter.widget-view+json": {
       "model_id": "428df59e1ef84effb2e3e072f1a432fd",
       "version_major": 2,
       "version_minor": 0
      },
      "text/plain": [
       "HTML(value='0. \"Yeah , make a thing you know !\"')"
      ]
     },
     "metadata": {},
     "output_type": "display_data"
    },
    {
     "data": {
      "application/vnd.jupyter.widget-view+json": {
       "model_id": "ad5146098fdb4b8d850a4b43a1e6b60d",
       "version_major": 2,
       "version_minor": 0
      },
      "text/plain": [
       "HTML(value='1. \"Please !\"')"
      ]
     },
     "metadata": {},
     "output_type": "display_data"
    },
    {
     "data": {
      "application/vnd.jupyter.widget-view+json": {
       "model_id": "a90e96644f174d1cbb4c90982091cd36",
       "version_major": 2,
       "version_minor": 0
      },
      "text/plain": [
       "RadioButtons(options=(0, 1), value=0)"
      ]
     },
     "metadata": {},
     "output_type": "display_data"
    },
    {
     "data": {
      "application/vnd.jupyter.widget-view+json": {
       "model_id": "df4f6a057bb542448391cc125fdfe182",
       "version_major": 2,
       "version_minor": 0
      },
      "text/plain": [
       "HTML(value='<h3>6. Statement: \"Sure, I mean, do I wish me and Rachel living together would have worked out? Of…"
      ]
     },
     "metadata": {},
     "output_type": "display_data"
    },
    {
     "data": {
      "application/vnd.jupyter.widget-view+json": {
       "model_id": "96f793fd6c97496e8542d53636f71fb9",
       "version_major": 2,
       "version_minor": 0
      },
      "text/plain": [
       "HTML(value='0. \"Well , actually it . . .\"')"
      ]
     },
     "metadata": {},
     "output_type": "display_data"
    },
    {
     "data": {
      "application/vnd.jupyter.widget-view+json": {
       "model_id": "d3f11246fa1a410bb2d91c79f46d7434",
       "version_major": 2,
       "version_minor": 0
      },
      "text/plain": [
       "HTML(value='1. \"Well , Ive been pretty cool .\"')"
      ]
     },
     "metadata": {},
     "output_type": "display_data"
    },
    {
     "data": {
      "application/vnd.jupyter.widget-view+json": {
       "model_id": "36508b322a0e4ab8a0dd89957e0ece00",
       "version_major": 2,
       "version_minor": 0
      },
      "text/plain": [
       "RadioButtons(options=(0, 1), value=0)"
      ]
     },
     "metadata": {},
     "output_type": "display_data"
    },
    {
     "data": {
      "application/vnd.jupyter.widget-view+json": {
       "model_id": "476373d7206f4ea28766fcede263017f",
       "version_major": 2,
       "version_minor": 0
      },
      "text/plain": [
       "HTML(value='<h3>7. Statement: \"Okay! Its time for dinner. Everyone were using our fancy china.. um and its ver…"
      ]
     },
     "metadata": {},
     "output_type": "display_data"
    },
    {
     "data": {
      "application/vnd.jupyter.widget-view+json": {
       "model_id": "ead3c494d0f94e0881285bf0cf9dc02f",
       "version_major": 2,
       "version_minor": 0
      },
      "text/plain": [
       "HTML(value='0. \"Hey ! How come my plates less fancy then everyone elses ? Do you not trust me with a fancy pla…"
      ]
     },
     "metadata": {},
     "output_type": "display_data"
    },
    {
     "data": {
      "application/vnd.jupyter.widget-view+json": {
       "model_id": "118d9782fd4d440baab74fac616c7a42",
       "version_major": 2,
       "version_minor": 0
      },
      "text/plain": [
       "HTML(value='1. \"We do that !\"')"
      ]
     },
     "metadata": {},
     "output_type": "display_data"
    },
    {
     "data": {
      "application/vnd.jupyter.widget-view+json": {
       "model_id": "c8b38488edee431aa348bed305449fe2",
       "version_major": 2,
       "version_minor": 0
      },
      "text/plain": [
       "RadioButtons(options=(0, 1), value=0)"
      ]
     },
     "metadata": {},
     "output_type": "display_data"
    },
    {
     "data": {
      "application/vnd.jupyter.widget-view+json": {
       "model_id": "aa14390510724abba5d1581aea972a0f",
       "version_major": 2,
       "version_minor": 0
      },
      "text/plain": [
       "HTML(value='<h3>8. Statement: \"No!\"</h3>')"
      ]
     },
     "metadata": {},
     "output_type": "display_data"
    },
    {
     "data": {
      "application/vnd.jupyter.widget-view+json": {
       "model_id": "e1857b2fe25242f7b4ab936600c44e4d",
       "version_major": 2,
       "version_minor": 0
      },
      "text/plain": [
       "HTML(value='0. \"All right , me neither ! I was just testing you !\"')"
      ]
     },
     "metadata": {},
     "output_type": "display_data"
    },
    {
     "data": {
      "application/vnd.jupyter.widget-view+json": {
       "model_id": "9a3f207da5c74fee884fc5138541d91d",
       "version_major": 2,
       "version_minor": 0
      },
      "text/plain": [
       "HTML(value='1. \"Oh ! Wait wait ! Is it my bologna sandwich ?\"')"
      ]
     },
     "metadata": {},
     "output_type": "display_data"
    },
    {
     "data": {
      "application/vnd.jupyter.widget-view+json": {
       "model_id": "afad646aa85646d49c27462e077b6d68",
       "version_major": 2,
       "version_minor": 0
      },
      "text/plain": [
       "RadioButtons(options=(0, 1), value=0)"
      ]
     },
     "metadata": {},
     "output_type": "display_data"
    },
    {
     "data": {
      "application/vnd.jupyter.widget-view+json": {
       "model_id": "db405350341949f5a900e11953298006",
       "version_major": 2,
       "version_minor": 0
      },
      "text/plain": [
       "HTML(value='<h3>9. Statement: \"Sure, Monica would have to give her up.\"</h3>')"
      ]
     },
     "metadata": {},
     "output_type": "display_data"
    },
    {
     "data": {
      "application/vnd.jupyter.widget-view+json": {
       "model_id": "349282fa19b640dda00db90d6a74b7d1",
       "version_major": 2,
       "version_minor": 0
      },
      "text/plain": [
       "HTML(value='0. \"What ?\"')"
      ]
     },
     "metadata": {},
     "output_type": "display_data"
    },
    {
     "data": {
      "application/vnd.jupyter.widget-view+json": {
       "model_id": "35f2803e00a64146acefd27dde2c8b56",
       "version_major": 2,
       "version_minor": 0
      },
      "text/plain": [
       "HTML(value='1. \"I lie better then that , right ?\"')"
      ]
     },
     "metadata": {},
     "output_type": "display_data"
    },
    {
     "data": {
      "application/vnd.jupyter.widget-view+json": {
       "model_id": "1d8ea60739e4427889418d2e88f98414",
       "version_major": 2,
       "version_minor": 0
      },
      "text/plain": [
       "RadioButtons(options=(0, 1), value=0)"
      ]
     },
     "metadata": {},
     "output_type": "display_data"
    },
    {
     "data": {
      "application/vnd.jupyter.widget-view+json": {
       "model_id": "577a2ad3c3b8435bab0d8b1f35d8fc3d",
       "version_major": 2,
       "version_minor": 0
      },
      "text/plain": [
       "HTML(value='<h3>10. Statement: \"Oh! Weather bitch!  Its open!  Hi, Joe!\"</h3>')"
      ]
     },
     "metadata": {},
     "output_type": "display_data"
    },
    {
     "data": {
      "application/vnd.jupyter.widget-view+json": {
       "model_id": "c6efba48be6a45828072e054622095e0",
       "version_major": 2,
       "version_minor": 0
      },
      "text/plain": [
       "HTML(value='0. \"Yeah !\"')"
      ]
     },
     "metadata": {},
     "output_type": "display_data"
    },
    {
     "data": {
      "application/vnd.jupyter.widget-view+json": {
       "model_id": "7b9ef57af4db4191936e9c3fbdd10f7c",
       "version_major": 2,
       "version_minor": 0
      },
      "text/plain": [
       "HTML(value='1. \"Hey . . .\"')"
      ]
     },
     "metadata": {},
     "output_type": "display_data"
    },
    {
     "data": {
      "application/vnd.jupyter.widget-view+json": {
       "model_id": "e557049351b1436b8c51bbb7b1687916",
       "version_major": 2,
       "version_minor": 0
      },
      "text/plain": [
       "RadioButtons(options=(0, 1), value=0)"
      ]
     },
     "metadata": {},
     "output_type": "display_data"
    },
    {
     "data": {
      "application/vnd.jupyter.widget-view+json": {
       "model_id": "4fe95481f5c849009e2376b1c7415741",
       "version_major": 2,
       "version_minor": 0
      },
      "text/plain": [
       "HTML(value='<h3>11. Statement: \"Oh my God! Kyle Lowder!  I love you!\"</h3>')"
      ]
     },
     "metadata": {},
     "output_type": "display_data"
    },
    {
     "data": {
      "application/vnd.jupyter.widget-view+json": {
       "model_id": "537b5a4b4570450184ff97157724ab73",
       "version_major": 2,
       "version_minor": 0
      },
      "text/plain": [
       "HTML(value='0. \"Hey , thats why I didnt invite you . you have to calm down , alright . . . go , go get yoursel…"
      ]
     },
     "metadata": {},
     "output_type": "display_data"
    },
    {
     "data": {
      "application/vnd.jupyter.widget-view+json": {
       "model_id": "c4b1d3c4bce044aaa94fe120df911c2a",
       "version_major": 2,
       "version_minor": 0
      },
      "text/plain": [
       "HTML(value='1. \"All right , okay , Ill go back in your head . Hello ?\"')"
      ]
     },
     "metadata": {},
     "output_type": "display_data"
    },
    {
     "data": {
      "application/vnd.jupyter.widget-view+json": {
       "model_id": "ed7d4339665642e2b83f5fd3b862c6a6",
       "version_major": 2,
       "version_minor": 0
      },
      "text/plain": [
       "RadioButtons(options=(0, 1), value=0)"
      ]
     },
     "metadata": {},
     "output_type": "display_data"
    },
    {
     "data": {
      "application/vnd.jupyter.widget-view+json": {
       "model_id": "b95e1cbfdf3145ee904bc2eb4dc2645f",
       "version_major": 2,
       "version_minor": 0
      },
      "text/plain": [
       "HTML(value='<h3>12. Statement: \"I just wish theyd realise they should be together.\"</h3>')"
      ]
     },
     "metadata": {},
     "output_type": "display_data"
    },
    {
     "data": {
      "application/vnd.jupyter.widget-view+json": {
       "model_id": "e6bfb5095d11429f8fbb0fb7b50b0081",
       "version_major": 2,
       "version_minor": 0
      },
      "text/plain": [
       "HTML(value='0. \"I know , I know . And when they moved back in together , I figured yknow , thats where things …"
      ]
     },
     "metadata": {},
     "output_type": "display_data"
    },
    {
     "data": {
      "application/vnd.jupyter.widget-view+json": {
       "model_id": "ae72b80b928d488e8532884afdfd1250",
       "version_major": 2,
       "version_minor": 0
      },
      "text/plain": [
       "HTML(value='1. \"But thats what you do .\"')"
      ]
     },
     "metadata": {},
     "output_type": "display_data"
    },
    {
     "data": {
      "application/vnd.jupyter.widget-view+json": {
       "model_id": "1e909dd388834abda47cf3bc4d17d5b5",
       "version_major": 2,
       "version_minor": 0
      },
      "text/plain": [
       "RadioButtons(options=(0, 1), value=0)"
      ]
     },
     "metadata": {},
     "output_type": "display_data"
    },
    {
     "data": {
      "application/vnd.jupyter.widget-view+json": {
       "model_id": "6d0fe31cb4c94da9a46d351d7f18870e",
       "version_major": 2,
       "version_minor": 0
      },
      "text/plain": [
       "HTML(value='<h3>13. Statement: \"Mike knows Im coming, and if I dont show up hell think its because of him! And…"
      ]
     },
     "metadata": {},
     "output_type": "display_data"
    },
    {
     "data": {
      "application/vnd.jupyter.widget-view+json": {
       "model_id": "d158e74ce1f24eb493c9818103ec7383",
       "version_major": 2,
       "version_minor": 0
      },
      "text/plain": [
       "HTML(value='0. \"Yeah , if I think I could think youre good way .\"')"
      ]
     },
     "metadata": {},
     "output_type": "display_data"
    },
    {
     "data": {
      "application/vnd.jupyter.widget-view+json": {
       "model_id": "68caee2d201b44289f75cab5818cf844",
       "version_major": 2,
       "version_minor": 0
      },
      "text/plain": [
       "HTML(value='1. \"Alright , then you go to that party and you pretend to be over Mike . And afterward you come t…"
      ]
     },
     "metadata": {},
     "output_type": "display_data"
    },
    {
     "data": {
      "application/vnd.jupyter.widget-view+json": {
       "model_id": "e9ab82268d5b44d4a573b3590863262d",
       "version_major": 2,
       "version_minor": 0
      },
      "text/plain": [
       "RadioButtons(options=(0, 1), value=0)"
      ]
     },
     "metadata": {},
     "output_type": "display_data"
    },
    {
     "data": {
      "application/vnd.jupyter.widget-view+json": {
       "model_id": "1a219ac565db44f09f455f42d364eb30",
       "version_major": 2,
       "version_minor": 0
      },
      "text/plain": [
       "HTML(value='<h3>14. Statement: \"\"</h3>')"
      ]
     },
     "metadata": {},
     "output_type": "display_data"
    },
    {
     "data": {
      "application/vnd.jupyter.widget-view+json": {
       "model_id": "704a7841a21949f6b14baffef18ddef8",
       "version_major": 2,
       "version_minor": 0
      },
      "text/plain": [
       "HTML(value='0. \"Hey Rach listen , did you know that during pregnancy your fingers swell up to twice their size…"
      ]
     },
     "metadata": {},
     "output_type": "display_data"
    },
    {
     "data": {
      "application/vnd.jupyter.widget-view+json": {
       "model_id": "1943ff4dc0704e8593e78d001b2dbf10",
       "version_major": 2,
       "version_minor": 0
      },
      "text/plain": [
       "HTML(value='1. \"Hey ! You guys ! Youre not gonna believe this ! I just got off the phone with my agent\"')"
      ]
     },
     "metadata": {},
     "output_type": "display_data"
    },
    {
     "data": {
      "application/vnd.jupyter.widget-view+json": {
       "model_id": "3c208120596745329e6cd9f08f9d231d",
       "version_major": 2,
       "version_minor": 0
      },
      "text/plain": [
       "RadioButtons(options=(0, 1), value=0)"
      ]
     },
     "metadata": {},
     "output_type": "display_data"
    },
    {
     "data": {
      "application/vnd.jupyter.widget-view+json": {
       "model_id": "ccbf55475e5545f0b75525e336b85274",
       "version_major": 2,
       "version_minor": 0
      },
      "text/plain": [
       "HTML(value='<h3>15. Statement: \"Really?\"</h3>')"
      ]
     },
     "metadata": {},
     "output_type": "display_data"
    },
    {
     "data": {
      "application/vnd.jupyter.widget-view+json": {
       "model_id": "bb243de0f6a948cb9835f4eda55502a7",
       "version_major": 2,
       "version_minor": 0
      },
      "text/plain": [
       "HTML(value='0. \"Yeah , for you !\"')"
      ]
     },
     "metadata": {},
     "output_type": "display_data"
    },
    {
     "data": {
      "application/vnd.jupyter.widget-view+json": {
       "model_id": "d1d67e899486487d90e05ff70904072c",
       "version_major": 2,
       "version_minor": 0
      },
      "text/plain": [
       "HTML(value='1. \"Dina , if youre having a baby you should be married ! Even if it is to Bobby ! Dude , thats no…"
      ]
     },
     "metadata": {},
     "output_type": "display_data"
    },
    {
     "data": {
      "application/vnd.jupyter.widget-view+json": {
       "model_id": "3c536f0ebf324b7b9a173b474f9beb5c",
       "version_major": 2,
       "version_minor": 0
      },
      "text/plain": [
       "RadioButtons(options=(0, 1), value=0)"
      ]
     },
     "metadata": {},
     "output_type": "display_data"
    },
    {
     "data": {
      "application/vnd.jupyter.widget-view+json": {
       "model_id": "4183ad33eff642889e80fcf8920d7249",
       "version_major": 2,
       "version_minor": 0
      },
      "text/plain": [
       "HTML(value='<h3>16. Statement: \"What you got? Goodie! Thanks. So, how is it living with Rachel again? I mean, …"
      ]
     },
     "metadata": {},
     "output_type": "display_data"
    },
    {
     "data": {
      "application/vnd.jupyter.widget-view+json": {
       "model_id": "4d59773e558b41d583cde7b81ce9717c",
       "version_major": 2,
       "version_minor": 0
      },
      "text/plain": [
       "HTML(value='0. \"Hey , I guess I could think well .\"')"
      ]
     },
     "metadata": {},
     "output_type": "display_data"
    },
    {
     "data": {
      "application/vnd.jupyter.widget-view+json": {
       "model_id": "3c7c1987c2574a2cbf7270f8cccde255",
       "version_major": 2,
       "version_minor": 0
      },
      "text/plain": [
       "HTML(value='1. \"Im fine , Im fine , its just , its just weird whats happening with her and Ross . You know , y…"
      ]
     },
     "metadata": {},
     "output_type": "display_data"
    },
    {
     "data": {
      "application/vnd.jupyter.widget-view+json": {
       "model_id": "d6966b341f5342c8bd3b50bee9575e3e",
       "version_major": 2,
       "version_minor": 0
      },
      "text/plain": [
       "RadioButtons(options=(0, 1), value=0)"
      ]
     },
     "metadata": {},
     "output_type": "display_data"
    },
    {
     "data": {
      "application/vnd.jupyter.widget-view+json": {
       "model_id": "65bef64ece8a48bebfb673a77282beed",
       "version_major": 2,
       "version_minor": 0
      },
      "text/plain": [
       "HTML(value='<h3>17. Statement: \"No, I said today! See, for a superhero, not so much with the listening.\"</h3>'…"
      ]
     },
     "metadata": {},
     "output_type": "display_data"
    },
    {
     "data": {
      "application/vnd.jupyter.widget-view+json": {
       "model_id": "7cc32f711b7d4ed2b5832bbf28e2f25e",
       "version_major": 2,
       "version_minor": 0
      },
      "text/plain": [
       "HTML(value='0. \"Hey .\"')"
      ]
     },
     "metadata": {},
     "output_type": "display_data"
    },
    {
     "data": {
      "application/vnd.jupyter.widget-view+json": {
       "model_id": "5f85b5addce740efaa98db429e449c01",
       "version_major": 2,
       "version_minor": 0
      },
      "text/plain": [
       "HTML(value='1. \"Thats gonna be okay .\"')"
      ]
     },
     "metadata": {},
     "output_type": "display_data"
    },
    {
     "data": {
      "application/vnd.jupyter.widget-view+json": {
       "model_id": "726b68b018c940ff89a19d221ff006b6",
       "version_major": 2,
       "version_minor": 0
      },
      "text/plain": [
       "RadioButtons(options=(0, 1), value=0)"
      ]
     },
     "metadata": {},
     "output_type": "display_data"
    },
    {
     "data": {
      "application/vnd.jupyter.widget-view+json": {
       "model_id": "9470a05998ea417fb492a69a479b75b9",
       "version_major": 2,
       "version_minor": 0
      },
      "text/plain": [
       "HTML(value='<h3>18. Statement: \"No! Yknow what? I dont like you without mom.  Come on.\"</h3>')"
      ]
     },
     "metadata": {},
     "output_type": "display_data"
    },
    {
     "data": {
      "application/vnd.jupyter.widget-view+json": {
       "model_id": "2cf5a4b7275346dc83eeb82ef32a43b1",
       "version_major": 2,
       "version_minor": 0
      },
      "text/plain": [
       "HTML(value='0. \"Were not peeking ?\"')"
      ]
     },
     "metadata": {},
     "output_type": "display_data"
    },
    {
     "data": {
      "application/vnd.jupyter.widget-view+json": {
       "model_id": "ed84e77e3b1f43f3862b37d48302169e",
       "version_major": 2,
       "version_minor": 0
      },
      "text/plain": [
       "HTML(value='1. \"Oh well Ross , Ill take some new .\"')"
      ]
     },
     "metadata": {},
     "output_type": "display_data"
    },
    {
     "data": {
      "application/vnd.jupyter.widget-view+json": {
       "model_id": "3f71b5e8ec9c4d7ab3ec811b3c9d729a",
       "version_major": 2,
       "version_minor": 0
      },
      "text/plain": [
       "RadioButtons(options=(0, 1), value=0)"
      ]
     },
     "metadata": {},
     "output_type": "display_data"
    },
    {
     "data": {
      "application/vnd.jupyter.widget-view+json": {
       "model_id": "5acc1761f9c1461294da9373533b2133",
       "version_major": 2,
       "version_minor": 0
      },
      "text/plain": [
       "HTML(value='<h3>19. Statement: \"Does Ross know?\"</h3>')"
      ]
     },
     "metadata": {},
     "output_type": "display_data"
    },
    {
     "data": {
      "application/vnd.jupyter.widget-view+json": {
       "model_id": "709f6b76291c459b87e9656b8666749c",
       "version_major": 2,
       "version_minor": 0
      },
      "text/plain": [
       "HTML(value='0. \"Oh God , what the hell am I going to tell him ?\"')"
      ]
     },
     "metadata": {},
     "output_type": "display_data"
    },
    {
     "data": {
      "application/vnd.jupyter.widget-view+json": {
       "model_id": "73458d4571824fb494df3cf3a3ec5241",
       "version_major": 2,
       "version_minor": 0
      },
      "text/plain": [
       "HTML(value='1. \"Well , I dont think you can . You know and I think youre not gonna have to be a way to say , I…"
      ]
     },
     "metadata": {},
     "output_type": "display_data"
    },
    {
     "data": {
      "application/vnd.jupyter.widget-view+json": {
       "model_id": "a647409dfe064fd78297d0709ad2bf4a",
       "version_major": 2,
       "version_minor": 0
      },
      "text/plain": [
       "RadioButtons(options=(0, 1), value=0)"
      ]
     },
     "metadata": {},
     "output_type": "display_data"
    },
    {
     "data": {
      "application/vnd.jupyter.widget-view+json": {
       "model_id": "d32e341de20b41cab942587455864c88",
       "version_major": 2,
       "version_minor": 0
      },
      "text/plain": [
       "HTML(value='<h3>20. Statement: \"It could be better! He, uhm... he fell asleep!\"</h3>')"
      ]
     },
     "metadata": {},
     "output_type": "display_data"
    },
    {
     "data": {
      "application/vnd.jupyter.widget-view+json": {
       "model_id": "9a04aa564fa9419680826383cfe208fa",
       "version_major": 2,
       "version_minor": 0
      },
      "text/plain": [
       "HTML(value='0. \"No , no ! No no no , its not that . I want to make a part of a famous but so , I just , uh . .…"
      ]
     },
     "metadata": {},
     "output_type": "display_data"
    },
    {
     "data": {
      "application/vnd.jupyter.widget-view+json": {
       "model_id": "7fe33e5264844562b96ff78c05a8cb1d",
       "version_major": 2,
       "version_minor": 0
      },
      "text/plain": [
       "HTML(value='1. \"What ! ? But I already bought my ticket to Bermuda !\"')"
      ]
     },
     "metadata": {},
     "output_type": "display_data"
    },
    {
     "data": {
      "application/vnd.jupyter.widget-view+json": {
       "model_id": "ef3e2d57d77b4cf2b942c306dd086d8e",
       "version_major": 2,
       "version_minor": 0
      },
      "text/plain": [
       "RadioButtons(options=(0, 1), value=0)"
      ]
     },
     "metadata": {},
     "output_type": "display_data"
    },
    {
     "data": {
      "application/vnd.jupyter.widget-view+json": {
       "model_id": "62991c38cb0d4cc580f8b04899d0191b",
       "version_major": 2,
       "version_minor": 0
      },
      "text/plain": [
       "HTML(value='<h3>21. Statement: \"Yeah.  Oh, I know what we can do. We could set Ross and Rachel up on horrible …"
      ]
     },
     "metadata": {},
     "output_type": "display_data"
    },
    {
     "data": {
      "application/vnd.jupyter.widget-view+json": {
       "model_id": "f5139537cba84d5fa5a38aed53a02d2b",
       "version_major": 2,
       "version_minor": 0
      },
      "text/plain": [
       "HTML(value='0. \"Hey man , Im a lot of those . Im still in there .\"')"
      ]
     },
     "metadata": {},
     "output_type": "display_data"
    },
    {
     "data": {
      "application/vnd.jupyter.widget-view+json": {
       "model_id": "bdc4bfb46b924099a276e82379622c8b",
       "version_major": 2,
       "version_minor": 0
      },
      "text/plain": [
       "HTML(value='1. \"Ooh , thats a great plan !\"')"
      ]
     },
     "metadata": {},
     "output_type": "display_data"
    },
    {
     "data": {
      "application/vnd.jupyter.widget-view+json": {
       "model_id": "83f4383be267457a8f4131c45dd0bf17",
       "version_major": 2,
       "version_minor": 0
      },
      "text/plain": [
       "RadioButtons(options=(0, 1), value=0)"
      ]
     },
     "metadata": {},
     "output_type": "display_data"
    },
    {
     "data": {
      "application/vnd.jupyter.widget-view+json": {
       "model_id": "b434497de26b46469d14bcc162d8bdde",
       "version_major": 2,
       "version_minor": 0
      },
      "text/plain": [
       "HTML(value='<h3>22. Statement: \"Hey, come on now!\"</h3>')"
      ]
     },
     "metadata": {},
     "output_type": "display_data"
    },
    {
     "data": {
      "application/vnd.jupyter.widget-view+json": {
       "model_id": "033eac4b457d434c80e68b2426707f5b",
       "version_major": 2,
       "version_minor": 0
      },
      "text/plain": [
       "HTML(value='0. \"All right , what are we havin ? Uhh , I dont believe in these crazy diets yknow , just everyth…"
      ]
     },
     "metadata": {},
     "output_type": "display_data"
    },
    {
     "data": {
      "application/vnd.jupyter.widget-view+json": {
       "model_id": "cd34af997953496faa575c667f7f2296",
       "version_major": 2,
       "version_minor": 0
      },
      "text/plain": [
       "HTML(value='1. \"Hey !\"')"
      ]
     },
     "metadata": {},
     "output_type": "display_data"
    },
    {
     "data": {
      "application/vnd.jupyter.widget-view+json": {
       "model_id": "dd9198972df241339fc13a447f4751ba",
       "version_major": 2,
       "version_minor": 0
      },
      "text/plain": [
       "RadioButtons(options=(0, 1), value=0)"
      ]
     },
     "metadata": {},
     "output_type": "display_data"
    },
    {
     "data": {
      "application/vnd.jupyter.widget-view+json": {
       "model_id": "726dca62c25a49899c39545c142afd4e",
       "version_major": 2,
       "version_minor": 0
      },
      "text/plain": [
       "HTML(value='<h3>23. Statement: \"I just…I have to find out how it went.\"</h3>')"
      ]
     },
     "metadata": {},
     "output_type": "display_data"
    },
    {
     "data": {
      "application/vnd.jupyter.widget-view+json": {
       "model_id": "bb7857be8ed14646b7726331f4ee9e20",
       "version_major": 2,
       "version_minor": 0
      },
      "text/plain": [
       "HTML(value='0. \"Oh ! Well yeah ! I cant believe you !\"')"
      ]
     },
     "metadata": {},
     "output_type": "display_data"
    },
    {
     "data": {
      "application/vnd.jupyter.widget-view+json": {
       "model_id": "ea9e303ebffa4b54b9d07b3ac385571b",
       "version_major": 2,
       "version_minor": 0
      },
      "text/plain": [
       "HTML(value='1. \"Why ?\"')"
      ]
     },
     "metadata": {},
     "output_type": "display_data"
    },
    {
     "data": {
      "application/vnd.jupyter.widget-view+json": {
       "model_id": "40c85ed16b554839a2da1725cb4e32f0",
       "version_major": 2,
       "version_minor": 0
      },
      "text/plain": [
       "RadioButtons(options=(0, 1), value=0)"
      ]
     },
     "metadata": {},
     "output_type": "display_data"
    },
    {
     "data": {
      "application/vnd.jupyter.widget-view+json": {
       "model_id": "0d472454fde34dbdad6148f5ce091573",
       "version_major": 2,
       "version_minor": 0
      },
      "text/plain": [
       "HTML(value='<h3>24. Statement: \"Cmon! Joey! What is it?\"</h3>')"
      ]
     },
     "metadata": {},
     "output_type": "display_data"
    },
    {
     "data": {
      "application/vnd.jupyter.widget-view+json": {
       "model_id": "4d481edad5514431a498630729d986a7",
       "version_major": 2,
       "version_minor": 0
      },
      "text/plain": [
       "HTML(value='0. \"Its nothing .\"')"
      ]
     },
     "metadata": {},
     "output_type": "display_data"
    },
    {
     "data": {
      "application/vnd.jupyter.widget-view+json": {
       "model_id": "12816fd388e645a7b912a2376a4baf78",
       "version_major": 2,
       "version_minor": 0
      },
      "text/plain": [
       "HTML(value='1. \"I bet , this isnt that good game .\"')"
      ]
     },
     "metadata": {},
     "output_type": "display_data"
    },
    {
     "data": {
      "application/vnd.jupyter.widget-view+json": {
       "model_id": "7194ca1a57f644b08770bdff80f602bd",
       "version_major": 2,
       "version_minor": 0
      },
      "text/plain": [
       "RadioButtons(options=(0, 1), value=0)"
      ]
     },
     "metadata": {},
     "output_type": "display_data"
    },
    {
     "data": {
      "application/vnd.jupyter.widget-view+json": {
       "model_id": "5ce8c1620407497babfb6748326ac437",
       "version_major": 2,
       "version_minor": 0
      },
      "text/plain": [
       "HTML(value='<h3>25. Statement: \"Actually Im a palian… Dinosaurs is fine… the drawing is not.\"</h3>')"
      ]
     },
     "metadata": {},
     "output_type": "display_data"
    },
    {
     "data": {
      "application/vnd.jupyter.widget-view+json": {
       "model_id": "d85191289ad64e979e2e4e1d074005c7",
       "version_major": 2,
       "version_minor": 0
      },
      "text/plain": [
       "HTML(value='0. \"Alright , who do you want as your emergency contact ?\"')"
      ]
     },
     "metadata": {},
     "output_type": "display_data"
    },
    {
     "data": {
      "application/vnd.jupyter.widget-view+json": {
       "model_id": "905c5f42a660460d9fd65767571a6cc2",
       "version_major": 2,
       "version_minor": 0
      },
      "text/plain": [
       "HTML(value='1. \"Hey buddy ?\"')"
      ]
     },
     "metadata": {},
     "output_type": "display_data"
    },
    {
     "data": {
      "application/vnd.jupyter.widget-view+json": {
       "model_id": "1e0625ac494f4dda9199c87758022dba",
       "version_major": 2,
       "version_minor": 0
      },
      "text/plain": [
       "RadioButtons(options=(0, 1), value=0)"
      ]
     },
     "metadata": {},
     "output_type": "display_data"
    },
    {
     "data": {
      "application/vnd.jupyter.widget-view+json": {
       "model_id": "fadfb022e5444b9686c8afb036442b72",
       "version_major": 2,
       "version_minor": 0
      },
      "text/plain": [
       "HTML(value='<h3>26. Statement: \"You slept with her didnt you?\"</h3>')"
      ]
     },
     "metadata": {},
     "output_type": "display_data"
    },
    {
     "data": {
      "application/vnd.jupyter.widget-view+json": {
       "model_id": "1310176c389e4d40a7a508764ac7d47a",
       "version_major": 2,
       "version_minor": 0
      },
      "text/plain": [
       "HTML(value='0. \"Little bit , yeah .\"')"
      ]
     },
     "metadata": {},
     "output_type": "display_data"
    },
    {
     "data": {
      "application/vnd.jupyter.widget-view+json": {
       "model_id": "dfcf6d671da84a489d72648f25ede6eb",
       "version_major": 2,
       "version_minor": 0
      },
      "text/plain": [
       "HTML(value='1. \"Of course ! !\"')"
      ]
     },
     "metadata": {},
     "output_type": "display_data"
    },
    {
     "data": {
      "application/vnd.jupyter.widget-view+json": {
       "model_id": "394ad9f27fa949efbe6e27e01e945801",
       "version_major": 2,
       "version_minor": 0
      },
      "text/plain": [
       "RadioButtons(options=(0, 1), value=0)"
      ]
     },
     "metadata": {},
     "output_type": "display_data"
    },
    {
     "data": {
      "application/vnd.jupyter.widget-view+json": {
       "model_id": "89e524956f954818a61bf17467e22448",
       "version_major": 2,
       "version_minor": 0
      },
      "text/plain": [
       "HTML(value='<h3>27. Statement: \"Hi!\"</h3>')"
      ]
     },
     "metadata": {},
     "output_type": "display_data"
    },
    {
     "data": {
      "application/vnd.jupyter.widget-view+json": {
       "model_id": "dd5152220fc64e0397f267ac9abcf335",
       "version_major": 2,
       "version_minor": 0
      },
      "text/plain": [
       "HTML(value='0. \"Hey !\"')"
      ]
     },
     "metadata": {},
     "output_type": "display_data"
    },
    {
     "data": {
      "application/vnd.jupyter.widget-view+json": {
       "model_id": "dc2f6d5d0eab4866909dc86d8dc31eed",
       "version_major": 2,
       "version_minor": 0
      },
      "text/plain": [
       "HTML(value='1. \"There she is !\"')"
      ]
     },
     "metadata": {},
     "output_type": "display_data"
    },
    {
     "data": {
      "application/vnd.jupyter.widget-view+json": {
       "model_id": "0a06e309bcf34c27ad0d9ab50b1f000d",
       "version_major": 2,
       "version_minor": 0
      },
      "text/plain": [
       "RadioButtons(options=(0, 1), value=0)"
      ]
     },
     "metadata": {},
     "output_type": "display_data"
    },
    {
     "data": {
      "application/vnd.jupyter.widget-view+json": {
       "model_id": "42f601e133a040f583d1ea581ee74488",
       "version_major": 2,
       "version_minor": 0
      },
      "text/plain": [
       "HTML(value='<h3>28. Statement: \"Hey\"</h3>')"
      ]
     },
     "metadata": {},
     "output_type": "display_data"
    },
    {
     "data": {
      "application/vnd.jupyter.widget-view+json": {
       "model_id": "3337b8564e5d4d8295aca61d32547407",
       "version_major": 2,
       "version_minor": 0
      },
      "text/plain": [
       "HTML(value='0. \"Hey . So wheres Mon ?\"')"
      ]
     },
     "metadata": {},
     "output_type": "display_data"
    },
    {
     "data": {
      "application/vnd.jupyter.widget-view+json": {
       "model_id": "498e5e0c8f874a1ba6296d5f3b277afa",
       "version_major": 2,
       "version_minor": 0
      },
      "text/plain": [
       "HTML(value='1. \"Hey .\"')"
      ]
     },
     "metadata": {},
     "output_type": "display_data"
    },
    {
     "data": {
      "application/vnd.jupyter.widget-view+json": {
       "model_id": "eb330c0a09ef4a2eb3add3ce4bb1bcea",
       "version_major": 2,
       "version_minor": 0
      },
      "text/plain": [
       "RadioButtons(options=(0, 1), value=0)"
      ]
     },
     "metadata": {},
     "output_type": "display_data"
    },
    {
     "data": {
      "application/vnd.jupyter.widget-view+json": {
       "model_id": "8295db9b18894d4bad83fb1631d4274c",
       "version_major": 2,
       "version_minor": 0
      },
      "text/plain": [
       "HTML(value='<h3>29. Statement: \"Ok, lets not make a big thing about this!\"</h3>')"
      ]
     },
     "metadata": {},
     "output_type": "display_data"
    },
    {
     "data": {
      "application/vnd.jupyter.widget-view+json": {
       "model_id": "a8d337d0fbaa427ea6facc9489d63794",
       "version_major": 2,
       "version_minor": 0
      },
      "text/plain": [
       "HTML(value='0. \"Thats a huge thing !\"')"
      ]
     },
     "metadata": {},
     "output_type": "display_data"
    },
    {
     "data": {
      "application/vnd.jupyter.widget-view+json": {
       "model_id": "57c89be770604fc09ede154dc9ec058b",
       "version_major": 2,
       "version_minor": 0
      },
      "text/plain": [
       "HTML(value='1. \"Okay , its okay . You know my hands are youre gonna get away together .\"')"
      ]
     },
     "metadata": {},
     "output_type": "display_data"
    },
    {
     "data": {
      "application/vnd.jupyter.widget-view+json": {
       "model_id": "01f3c6dec86a4db0b310fdb4415637a5",
       "version_major": 2,
       "version_minor": 0
      },
      "text/plain": [
       "RadioButtons(options=(0, 1), value=0)"
      ]
     },
     "metadata": {},
     "output_type": "display_data"
    },
    {
     "data": {
      "application/vnd.jupyter.widget-view+json": {
       "model_id": "10a1b5af0ddd4683a364e1ebf6faeb2a",
       "version_major": 2,
       "version_minor": 0
      },
      "text/plain": [
       "HTML(value='<h3>30. Statement: \"Thank you!\"</h3>')"
      ]
     },
     "metadata": {},
     "output_type": "display_data"
    },
    {
     "data": {
      "application/vnd.jupyter.widget-view+json": {
       "model_id": "bd58aa5e22934d93aa960ea1e98c106d",
       "version_major": 2,
       "version_minor": 0
      },
      "text/plain": [
       "HTML(value='0. \"Hey .\"')"
      ]
     },
     "metadata": {},
     "output_type": "display_data"
    },
    {
     "data": {
      "application/vnd.jupyter.widget-view+json": {
       "model_id": "b3bd2449c43745a597bce367075ae9c0",
       "version_major": 2,
       "version_minor": 0
      },
      "text/plain": [
       "HTML(value='1. \"Thats like a woman wanting to be a . . .\"')"
      ]
     },
     "metadata": {},
     "output_type": "display_data"
    },
    {
     "data": {
      "application/vnd.jupyter.widget-view+json": {
       "model_id": "151f0de4930840c381af8ae795f2cbca",
       "version_major": 2,
       "version_minor": 0
      },
      "text/plain": [
       "RadioButtons(options=(0, 1), value=0)"
      ]
     },
     "metadata": {},
     "output_type": "display_data"
    },
    {
     "data": {
      "application/vnd.jupyter.widget-view+json": {
       "model_id": "25c67a5f66584db6b0b4cb8ff94a54ee",
       "version_major": 2,
       "version_minor": 0
      },
      "text/plain": [
       "HTML(value='<h3>31. Statement: \"Wayne Gretzky.\"</h3>')"
      ]
     },
     "metadata": {},
     "output_type": "display_data"
    },
    {
     "data": {
      "application/vnd.jupyter.widget-view+json": {
       "model_id": "f20e2d4d9c2d455ea6646bc8903783b6",
       "version_major": 2,
       "version_minor": 0
      },
      "text/plain": [
       "HTML(value='0. \"Correct ! Now , would you like to pick a Wicked Wango card or spin the Wheel of Mayhem ?\"')"
      ]
     },
     "metadata": {},
     "output_type": "display_data"
    },
    {
     "data": {
      "application/vnd.jupyter.widget-view+json": {
       "model_id": "384e05292d9d401e81e1ca30b2795ec1",
       "version_major": 2,
       "version_minor": 0
      },
      "text/plain": [
       "HTML(value='1. \"No I think that .\"')"
      ]
     },
     "metadata": {},
     "output_type": "display_data"
    },
    {
     "data": {
      "application/vnd.jupyter.widget-view+json": {
       "model_id": "57ed3d8252014b748265900487d408b2",
       "version_major": 2,
       "version_minor": 0
      },
      "text/plain": [
       "RadioButtons(options=(0, 1), value=0)"
      ]
     },
     "metadata": {},
     "output_type": "display_data"
    },
    {
     "data": {
      "application/vnd.jupyter.widget-view+json": {
       "model_id": "8b971e24bbcc43c18927ba4d10f41675",
       "version_major": 2,
       "version_minor": 0
      },
      "text/plain": [
       "HTML(value='<h3>32. Statement: \"No, where did you study acting?\"</h3>')"
      ]
     },
     "metadata": {},
     "output_type": "display_data"
    },
    {
     "data": {
      "application/vnd.jupyter.widget-view+json": {
       "model_id": "74317d8cce134570b6e1b55a3a1dd0e4",
       "version_major": 2,
       "version_minor": 0
      },
      "text/plain": [
       "HTML(value='0. \"Mary Angela .\"')"
      ]
     },
     "metadata": {},
     "output_type": "display_data"
    },
    {
     "data": {
      "application/vnd.jupyter.widget-view+json": {
       "model_id": "c28feb91137b4052bf7d469dec7a9817",
       "version_major": 2,
       "version_minor": 0
      },
      "text/plain": [
       "HTML(value='1. \"Molly . . . people dont study acting . . .\"')"
      ]
     },
     "metadata": {},
     "output_type": "display_data"
    },
    {
     "data": {
      "application/vnd.jupyter.widget-view+json": {
       "model_id": "2a94414fc7694cfd817711001d98c406",
       "version_major": 2,
       "version_minor": 0
      },
      "text/plain": [
       "RadioButtons(options=(0, 1), value=0)"
      ]
     },
     "metadata": {},
     "output_type": "display_data"
    },
    {
     "data": {
      "application/vnd.jupyter.widget-view+json": {
       "model_id": "72bfc6ed365242c39b51c68f9e96d8ea",
       "version_major": 2,
       "version_minor": 0
      },
      "text/plain": [
       "HTML(value='<h3>33. Statement: \"Yeah.\"</h3>')"
      ]
     },
     "metadata": {},
     "output_type": "display_data"
    },
    {
     "data": {
      "application/vnd.jupyter.widget-view+json": {
       "model_id": "cfbf16c118bf4666ab3fd89302a3f3df",
       "version_major": 2,
       "version_minor": 0
      },
      "text/plain": [
       "HTML(value='0. \"She took em !\"')"
      ]
     },
     "metadata": {},
     "output_type": "display_data"
    },
    {
     "data": {
      "application/vnd.jupyter.widget-view+json": {
       "model_id": "5805fc67ee6f46ed9d5ca48157ccfce6",
       "version_major": 2,
       "version_minor": 0
      },
      "text/plain": [
       "HTML(value='1. \"Hey listen , why dont you come downstairs with me ? Theres some really nice girls down there .…"
      ]
     },
     "metadata": {},
     "output_type": "display_data"
    },
    {
     "data": {
      "application/vnd.jupyter.widget-view+json": {
       "model_id": "5a038469ab644cd8a57293c01901fc07",
       "version_major": 2,
       "version_minor": 0
      },
      "text/plain": [
       "RadioButtons(options=(0, 1), value=0)"
      ]
     },
     "metadata": {},
     "output_type": "display_data"
    },
    {
     "data": {
      "application/vnd.jupyter.widget-view+json": {
       "model_id": "985b810dad3f49728ac8ec96ae8b3297",
       "version_major": 2,
       "version_minor": 0
      },
      "text/plain": [
       "HTML(value='<h3>34. Statement: \"Well, I do bring a certain credibility to the role.\"</h3>')"
      ]
     },
     "metadata": {},
     "output_type": "display_data"
    },
    {
     "data": {
      "application/vnd.jupyter.widget-view+json": {
       "model_id": "4af1eb96b9274bc99da9b13f4805aaa7",
       "version_major": 2,
       "version_minor": 0
      },
      "text/plain": [
       "HTML(value='0. \"Are you kiddin ? When they shoot you out of that cannon\"')"
      ]
     },
     "metadata": {},
     "output_type": "display_data"
    },
    {
     "data": {
      "application/vnd.jupyter.widget-view+json": {
       "model_id": "0bea7cceae7d4af1a5efb03a086fa8b8",
       "version_major": 2,
       "version_minor": 0
      },
      "text/plain": [
       "HTML(value='1. \"Wow ! !\"')"
      ]
     },
     "metadata": {},
     "output_type": "display_data"
    },
    {
     "data": {
      "application/vnd.jupyter.widget-view+json": {
       "model_id": "eea9ccf1f3cf44fd8f1237c5774ddc87",
       "version_major": 2,
       "version_minor": 0
      },
      "text/plain": [
       "RadioButtons(options=(0, 1), value=0)"
      ]
     },
     "metadata": {},
     "output_type": "display_data"
    },
    {
     "data": {
      "application/vnd.jupyter.widget-view+json": {
       "model_id": "39fc3808730241299216210bdec3bf04",
       "version_major": 2,
       "version_minor": 0
      },
      "text/plain": [
       "HTML(value='<h3>35. Statement: \"Yeah...\"</h3>')"
      ]
     },
     "metadata": {},
     "output_type": "display_data"
    },
    {
     "data": {
      "application/vnd.jupyter.widget-view+json": {
       "model_id": "64c888c7ba7847d580a65da4f30ee388",
       "version_major": 2,
       "version_minor": 0
      },
      "text/plain": [
       "HTML(value='0. \"Lets forget about Ross . . .\"')"
      ]
     },
     "metadata": {},
     "output_type": "display_data"
    },
    {
     "data": {
      "application/vnd.jupyter.widget-view+json": {
       "model_id": "3a8ea7648d32417e98c3cf79c23be280",
       "version_major": 2,
       "version_minor": 0
      },
      "text/plain": [
       "HTML(value='1. \"Maybe you could take Charlie shopping .\"')"
      ]
     },
     "metadata": {},
     "output_type": "display_data"
    },
    {
     "data": {
      "application/vnd.jupyter.widget-view+json": {
       "model_id": "1dce4c3a00c24fdd9c3e4312ebac3607",
       "version_major": 2,
       "version_minor": 0
      },
      "text/plain": [
       "RadioButtons(options=(0, 1), value=0)"
      ]
     },
     "metadata": {},
     "output_type": "display_data"
    },
    {
     "data": {
      "application/vnd.jupyter.widget-view+json": {
       "model_id": "88974a3a36d24d3b91aff0d0eb21f758",
       "version_major": 2,
       "version_minor": 0
      },
      "text/plain": [
       "HTML(value='<h3>36. Statement: \"Only like a month!\"</h3>')"
      ]
     },
     "metadata": {},
     "output_type": "display_data"
    },
    {
     "data": {
      "application/vnd.jupyter.widget-view+json": {
       "model_id": "44a61620cf974b188c9d6c13ace5185d",
       "version_major": 2,
       "version_minor": 0
      },
      "text/plain": [
       "HTML(value='0. \"A MONTH ? ?\"')"
      ]
     },
     "metadata": {},
     "output_type": "display_data"
    },
    {
     "data": {
      "application/vnd.jupyter.widget-view+json": {
       "model_id": "869056eed8014898bbb99b20316d3cb0",
       "version_major": 2,
       "version_minor": 0
      },
      "text/plain": [
       "HTML(value='1. \"Okay .\"')"
      ]
     },
     "metadata": {},
     "output_type": "display_data"
    },
    {
     "data": {
      "application/vnd.jupyter.widget-view+json": {
       "model_id": "413be46cd0734952bcfcdd49137c483a",
       "version_major": 2,
       "version_minor": 0
      },
      "text/plain": [
       "RadioButtons(options=(0, 1), value=0)"
      ]
     },
     "metadata": {},
     "output_type": "display_data"
    },
    {
     "data": {
      "application/vnd.jupyter.widget-view+json": {
       "model_id": "67f0d078f4e249afb96eb492e2bc9cb4",
       "version_major": 2,
       "version_minor": 0
      },
      "text/plain": [
       "HTML(value='<h3>37. Statement: \"I understand, but youre wishing for what we think youre wishing for, arent you…"
      ]
     },
     "metadata": {},
     "output_type": "display_data"
    },
    {
     "data": {
      "application/vnd.jupyter.widget-view+json": {
       "model_id": "34c0fe0d67504976b55f70fd21aa09ed",
       "version_major": 2,
       "version_minor": 0
      },
      "text/plain": [
       "HTML(value='0. \"Im not really comfortable with these questions !\"')"
      ]
     },
     "metadata": {},
     "output_type": "display_data"
    },
    {
     "data": {
      "application/vnd.jupyter.widget-view+json": {
       "model_id": "732d558ed2864feba0863a739f96a1b0",
       "version_major": 2,
       "version_minor": 0
      },
      "text/plain": [
       "HTML(value='1. \"Okay , I go .\"')"
      ]
     },
     "metadata": {},
     "output_type": "display_data"
    },
    {
     "data": {
      "application/vnd.jupyter.widget-view+json": {
       "model_id": "f6b37994e7d74916ace813be76a82c54",
       "version_major": 2,
       "version_minor": 0
      },
      "text/plain": [
       "RadioButtons(options=(0, 1), value=0)"
      ]
     },
     "metadata": {},
     "output_type": "display_data"
    },
    {
     "data": {
      "application/vnd.jupyter.widget-view+json": {
       "model_id": "07dd48d425c341cebd6086e8cbfff40b",
       "version_major": 2,
       "version_minor": 0
      },
      "text/plain": [
       "HTML(value='<h3>38. Statement: \"Oh wait, Joey and I are supposed to have dinner .\"</h3>')"
      ]
     },
     "metadata": {},
     "output_type": "display_data"
    },
    {
     "data": {
      "application/vnd.jupyter.widget-view+json": {
       "model_id": "0c699256ba5a4fc08d3af6df6ac38cf6",
       "version_major": 2,
       "version_minor": 0
      },
      "text/plain": [
       "HTML(value='0. \"Hey dont worry about that ! I mean , Ross needs you ! And Rachel and I will stay and help anyw…"
      ]
     },
     "metadata": {},
     "output_type": "display_data"
    },
    {
     "data": {
      "application/vnd.jupyter.widget-view+json": {
       "model_id": "36bd81c40c0f4718b3d5af99a125a12f",
       "version_major": 2,
       "version_minor": 0
      },
      "text/plain": [
       "HTML(value='1. \"I did all been for what that uh , the other would be okay . Yeah but there is a lot of that gu…"
      ]
     },
     "metadata": {},
     "output_type": "display_data"
    },
    {
     "data": {
      "application/vnd.jupyter.widget-view+json": {
       "model_id": "34bfe2fa40344ca29c4c40491eb87976",
       "version_major": 2,
       "version_minor": 0
      },
      "text/plain": [
       "RadioButtons(options=(0, 1), value=0)"
      ]
     },
     "metadata": {},
     "output_type": "display_data"
    },
    {
     "data": {
      "application/vnd.jupyter.widget-view+json": {
       "model_id": "7c13384deb79489f879bf7a92a5ed14d",
       "version_major": 2,
       "version_minor": 0
      },
      "text/plain": [
       "HTML(value='<h3>39. Statement: \"Done. Oh good, really?\"</h3>')"
      ]
     },
     "metadata": {},
     "output_type": "display_data"
    },
    {
     "data": {
      "application/vnd.jupyter.widget-view+json": {
       "model_id": "3defe4f4158c41a993a5d26a48716198",
       "version_major": 2,
       "version_minor": 0
      },
      "text/plain": [
       "HTML(value='0. \"Yeah !\"')"
      ]
     },
     "metadata": {},
     "output_type": "display_data"
    },
    {
     "data": {
      "application/vnd.jupyter.widget-view+json": {
       "model_id": "36b5ae5c281d47719aff56179a1797e2",
       "version_major": 2,
       "version_minor": 0
      },
      "text/plain": [
       "HTML(value='1. \"No ! You just keep my eyes ! And Monica ?\"')"
      ]
     },
     "metadata": {},
     "output_type": "display_data"
    },
    {
     "data": {
      "application/vnd.jupyter.widget-view+json": {
       "model_id": "09919b432a9e4ab59b21b0c65bf5b409",
       "version_major": 2,
       "version_minor": 0
      },
      "text/plain": [
       "RadioButtons(options=(0, 1), value=0)"
      ]
     },
     "metadata": {},
     "output_type": "display_data"
    },
    {
     "data": {
      "application/vnd.jupyter.widget-view+json": {
       "model_id": "2f39e49e0355492cae8279438fb629a1",
       "version_major": 2,
       "version_minor": 0
      },
      "text/plain": [
       "Button(description='Score', icon='times', style=ButtonStyle(), tooltip='Compute Score')"
      ]
     },
     "metadata": {},
     "output_type": "display_data"
    },
    {
     "data": {
      "application/vnd.jupyter.widget-view+json": {
       "model_id": "1bb943d0ce564aa5a754bcf52c020765",
       "version_major": 2,
       "version_minor": 0
      },
      "text/plain": [
       "Button(description='Grade', icon='times', style=ButtonStyle(), tooltip='Computers score and marks answers')"
      ]
     },
     "metadata": {},
     "output_type": "display_data"
    },
    {
     "data": {
      "application/vnd.jupyter.widget-view+json": {
       "model_id": "95c9346cb5df40198ab64bfb65f95ef5",
       "version_major": 2,
       "version_minor": 0
      },
      "text/plain": [
       "FloatText(value=0.0, description='Score:', disabled=True)"
      ]
     },
     "metadata": {},
     "output_type": "display_data"
    }
   ],
   "source": [
    "tester_trans_pi.generateSurvey()\n",
    "tester_trans_pi.displaySurvey()"
   ]
  },
  {
   "cell_type": "code",
   "execution_count": null,
   "metadata": {},
   "outputs": [],
   "source": []
  }
 ],
 "metadata": {
  "kernelspec": {
   "display_name": "Python 3",
   "language": "python",
   "name": "python3"
  },
  "language_info": {
   "codemirror_mode": {
    "name": "ipython",
    "version": 3
   },
   "file_extension": ".py",
   "mimetype": "text/x-python",
   "name": "python",
   "nbconvert_exporter": "python",
   "pygments_lexer": "ipython3",
   "version": "3.7.2"
  }
 },
 "nbformat": 4,
 "nbformat_minor": 2
}

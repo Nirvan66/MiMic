{
 "cells": [
  {
   "cell_type": "code",
   "execution_count": 1,
   "metadata": {},
   "outputs": [
    {
     "name": "stderr",
     "output_type": "stream",
     "text": [
      "Using TensorFlow backend.\n"
     ]
    }
   ],
   "source": [
    "%load_ext autoreload\n",
    "%autoreload 2\n",
    "\n",
    "import Metrics\n",
    "from Mimic import Preprocessor\n",
    "from Mimic import Mimic\n",
    "\n",
    "from Stupid import Stupid\n",
    "from Smart import Smart\n",
    "\n",
    "import pickle"
   ]
  },
  {
   "cell_type": "code",
   "execution_count": 3,
   "metadata": {},
   "outputs": [
    {
     "name": "stderr",
     "output_type": "stream",
     "text": [
      "WARNING:tensorflow:From /usr/local/lib/python3.7/site-packages/tensorflow_core/python/ops/resource_variable_ops.py:1630: calling BaseResourceVariable.__init__ (from tensorflow.python.ops.resource_variable_ops) with constraint is deprecated and will be removed in a future version.\n",
      "Instructions for updating:\n",
      "If using Keras pass *_constraint arguments to layers.\n",
      "WARNING:tensorflow:From /usr/local/lib/python3.7/site-packages/tensorflow_core/python/keras/backend.py:3994: where (from tensorflow.python.ops.array_ops) is deprecated and will be removed in a future version.\n",
      "Instructions for updating:\n",
      "Use tf.where in 2.0, which has the same broadcast rule as np.where\n",
      "WARNING:tensorflow:From /usr/local/lib/python3.7/site-packages/keras/backend/tensorflow_backend.py:422: The name tf.global_variables is deprecated. Please use tf.compat.v1.global_variables instead.\n",
      "\n"
     ]
    }
   ],
   "source": [
    "mic = Mimic.load('joeyData/joey400')"
   ]
  },
  {
   "cell_type": "markdown",
   "metadata": {},
   "source": [
    "# Automatic Metrics"
   ]
  },
  {
   "cell_type": "code",
   "execution_count": 4,
   "metadata": {},
   "outputs": [
    {
     "data": {
      "text/plain": [
       "0.990032906999293"
      ]
     },
     "execution_count": 4,
     "metadata": {},
     "output_type": "execute_result"
    }
   ],
   "source": [
    "mic.accuracy"
   ]
  },
  {
   "cell_type": "code",
   "execution_count": 2,
   "metadata": {},
   "outputs": [],
   "source": [
    "person = 'joey'\n",
    "genericQuestions = pickle.load(\n",
    "    open('joeyData/genericQuestionsTest.pkl'.format(person), 'rb'))\n",
    "genericAnswers = pickle.load(\n",
    "    open('joeyData/genericAnswersTest.pkl'.format(person), 'rb'))\n",
    "personInput = pickle.load(\n",
    "    open('{}Data/{}InputTest.pkl'.format(person,person), 'rb'))\n",
    "personOutput = pickle.load(\n",
    "    open('{}Data/{}OutputTest.pkl'.format(person,person), 'rb'))"
   ]
  },
  {
   "cell_type": "code",
   "execution_count": 3,
   "metadata": {},
   "outputs": [],
   "source": [
    "stupid = Stupid(Preprocessor())\n",
    "smart = Smart(Preprocessor(), zip(genericQuestions, genericAnswers))"
   ]
  },
  {
   "cell_type": "code",
   "execution_count": 4,
   "metadata": {},
   "outputs": [],
   "source": [
    "tester = Metrics.AutomaticMetricTester(smart, genericQuestions, genericAnswers, sample_size=10)"
   ]
  },
  {
   "cell_type": "code",
   "execution_count": 5,
   "metadata": {},
   "outputs": [],
   "source": [
    "tester.compileScores(cheat=True)"
   ]
  },
  {
   "cell_type": "code",
   "execution_count": 6,
   "metadata": {},
   "outputs": [
    {
     "name": "stdout",
     "output_type": "stream",
     "text": [
      "BLUE SCORE:  0.00042718974104999716\n",
      "ROGUE 1 Recall Average:  1.0\n",
      "ROGUE 1 Precision Average:  1.0\n",
      "ROGUE 1 F1:  1.0\n",
      "ROGUE 4 Recall Average:  1.0\n",
      "ROGUE 4 Precision Average:  1.0\n",
      "ROGUE 4 F1:  1.0\n",
      "ROGUE el Recall Average:  1.0\n",
      "ROGUE el Precision Average:  1.0\n",
      "ROGUE el F1:  1.0\n",
      "METEOR Precision:  0.0989010989010989\n",
      "METEOR Recall:  0.019255455712451863\n",
      "METEOR f1:  0.032234957020057305\n",
      "METEOR fmean:  0.021901007446342532\n",
      "METEOR Score:  0.008949102443432376\n",
      "WER Average Error:  4.939115189158668\n"
     ]
    }
   ],
   "source": [
    "tester.printScores()"
   ]
  },
  {
   "cell_type": "code",
   "execution_count": 16,
   "metadata": {},
   "outputs": [],
   "source": [
    "tester = Metrics.AutomaticMetricTester(mic, personInput, personOutput, sample_size=2000)"
   ]
  },
  {
   "cell_type": "code",
   "execution_count": 17,
   "metadata": {},
   "outputs": [],
   "source": [
    "tester.compileScores()"
   ]
  },
  {
   "cell_type": "code",
   "execution_count": 18,
   "metadata": {},
   "outputs": [
    {
     "name": "stdout",
     "output_type": "stream",
     "text": [
      "BLUE SCORE:  0.037124531650459015\n",
      "ROGUE 1 Recall Average:  0.045081867039891595\n",
      "ROGUE 1 Precision Average:  0.1504427557365178\n",
      "ROGUE 1 F1:  0.05146403314529649\n",
      "ROGUE 4 Recall Average:  0.0\n",
      "ROGUE 4 Precision Average:  0.0\n",
      "ROGUE 4 F1:  0.0\n",
      "ROGUE el Recall Average:  0.042339000487313753\n",
      "ROGUE el Precision Average:  0.14389583759447253\n",
      "ROGUE el F1:  0.04845083481467928\n",
      "METEOR Precision:  0.12571587078052318\n",
      "METEOR Recall:  0.15097047284740864\n",
      "METEOR f1:  0.13719061235404836\n",
      "METEOR fmean:  0.14655435741808848\n",
      "METEOR Score:  0.06268269307585175\n",
      "WER Average Error:  3.0191074454197127\n"
     ]
    }
   ],
   "source": [
    "tester.computeWER()\n",
    "tester.printScores()"
   ]
  },
  {
   "cell_type": "markdown",
   "metadata": {},
   "source": [
    "# Human Metrics:"
   ]
  },
  {
   "cell_type": "code",
   "execution_count": 12,
   "metadata": {},
   "outputs": [],
   "source": [
    "tester = Metrics.HumanMetricTester(mic, genericQuestions, genericAnswers, sample_size=50)"
   ]
  },
  {
   "cell_type": "code",
   "execution_count": 13,
   "metadata": {},
   "outputs": [
    {
     "data": {
      "application/vnd.jupyter.widget-view+json": {
       "model_id": "ba1fb3cf2072431b8f3e348e153029cf",
       "version_major": 2,
       "version_minor": 0
      },
      "text/plain": [
       "HTML(value='<h2>For each of the following statements select the response which seems the most appropriate.</h2…"
      ]
     },
     "metadata": {},
     "output_type": "display_data"
    },
    {
     "data": {
      "application/vnd.jupyter.widget-view+json": {
       "model_id": "99129ed7a8824df29f23ea62c3897ba7",
       "version_major": 2,
       "version_minor": 0
      },
      "text/plain": [
       "HTML(value='<h3>0. Statement: \"Do you get mad\"</h3>')"
      ]
     },
     "metadata": {},
     "output_type": "display_data"
    },
    {
     "data": {
      "application/vnd.jupyter.widget-view+json": {
       "model_id": "3dfacb9810b74ec29610aa39865b252d",
       "version_major": 2,
       "version_minor": 0
      },
      "text/plain": [
       "HTML(value='0. \"my eyes is not . I m a little more . I am not a little more I am . What am I am I am ? I am no…"
      ]
     },
     "metadata": {},
     "output_type": "display_data"
    },
    {
     "data": {
      "application/vnd.jupyter.widget-view+json": {
       "model_id": "3efdbf294e9d488cad31c90d3fe310dd",
       "version_major": 2,
       "version_minor": 0
      },
      "text/plain": [
       "HTML(value='1. \" I could get mad. I haven\\'t studied how to get mad yet. I haven\\'t been programmed to get ang…"
      ]
     },
     "metadata": {},
     "output_type": "display_data"
    },
    {
     "data": {
      "application/vnd.jupyter.widget-view+json": {
       "model_id": "153e56925c684fcd94defab64fd04e80",
       "version_major": 2,
       "version_minor": 0
      },
      "text/plain": [
       "RadioButtons(options=(0, 1), value=0)"
      ]
     },
     "metadata": {},
     "output_type": "display_data"
    },
    {
     "data": {
      "application/vnd.jupyter.widget-view+json": {
       "model_id": "36a75e46cf41472d9bfb15c36714defa",
       "version_major": 2,
       "version_minor": 0
      },
      "text/plain": [
       "HTML(value='<h3>1. Statement: \"Tell me a joke\"</h3>')"
      ]
     },
     "metadata": {},
     "output_type": "display_data"
    },
    {
     "data": {
      "application/vnd.jupyter.widget-view+json": {
       "model_id": "fd09f13893ad4f9487aba74e1d2c4ce8",
       "version_major": 2,
       "version_minor": 0
      },
      "text/plain": [
       "HTML(value='0. \"what do you get when you cross a cat and a lemon ?\"')"
      ]
     },
     "metadata": {},
     "output_type": "display_data"
    },
    {
     "data": {
      "application/vnd.jupyter.widget-view+json": {
       "model_id": "45ed59d6c4334b00afa6a91d71258698",
       "version_major": 2,
       "version_minor": 0
      },
      "text/plain": [
       "HTML(value='1. \"What do you get when you cross a cheetah and a hamburger? Fast food.\"')"
      ]
     },
     "metadata": {},
     "output_type": "display_data"
    },
    {
     "data": {
      "application/vnd.jupyter.widget-view+json": {
       "model_id": "0f711dba46b34b5d8329ee71bbe280ec",
       "version_major": 2,
       "version_minor": 0
      },
      "text/plain": [
       "RadioButtons(options=(0, 1), value=0)"
      ]
     },
     "metadata": {},
     "output_type": "display_data"
    },
    {
     "data": {
      "application/vnd.jupyter.widget-view+json": {
       "model_id": "89c9ef78fc924dd79935d06d84f6ac28",
       "version_major": 2,
       "version_minor": 0
      },
      "text/plain": [
       "HTML(value='<h3>2. Statement: \"Tell me a joke\"</h3>')"
      ]
     },
     "metadata": {},
     "output_type": "display_data"
    },
    {
     "data": {
      "application/vnd.jupyter.widget-view+json": {
       "model_id": "f515f66ace81417881488bd0a4389d8a",
       "version_major": 2,
       "version_minor": 0
      },
      "text/plain": [
       "HTML(value='0. \"what do you get when you cross a cat and a lemon ?\"')"
      ]
     },
     "metadata": {},
     "output_type": "display_data"
    },
    {
     "data": {
      "application/vnd.jupyter.widget-view+json": {
       "model_id": "d4d8ed3e203248b6aa75b96818fdc94f",
       "version_major": 2,
       "version_minor": 0
      },
      "text/plain": [
       "HTML(value='1. \"what do you get when you cross a dog and sandpaper?\"')"
      ]
     },
     "metadata": {},
     "output_type": "display_data"
    },
    {
     "data": {
      "application/vnd.jupyter.widget-view+json": {
       "model_id": "5f4a4b761cd441d9b14456a9cdb214cf",
       "version_major": 2,
       "version_minor": 0
      },
      "text/plain": [
       "RadioButtons(options=(0, 1), value=0)"
      ]
     },
     "metadata": {},
     "output_type": "display_data"
    },
    {
     "data": {
      "application/vnd.jupyter.widget-view+json": {
       "model_id": "75bb8eb3819d46bcac1adb985264eba8",
       "version_major": 2,
       "version_minor": 0
      },
      "text/plain": [
       "HTML(value='<h3>3. Statement: \"What is a chatterbox\"</h3>')"
      ]
     },
     "metadata": {},
     "output_type": "display_data"
    },
    {
     "data": {
      "application/vnd.jupyter.widget-view+json": {
       "model_id": "c8c18e2d52e740788c293785afb21cd7",
       "version_major": 2,
       "version_minor": 0
      },
      "text/plain": [
       "HTML(value='0. \"A chatterbox is a person who talks far more than they listen or think.\"')"
      ]
     },
     "metadata": {},
     "output_type": "display_data"
    },
    {
     "data": {
      "application/vnd.jupyter.widget-view+json": {
       "model_id": "f65962a2e5f049f18295d4310b29f9b5",
       "version_major": 2,
       "version_minor": 0
      },
      "text/plain": [
       "HTML(value='1. \"A motormouth .\"')"
      ]
     },
     "metadata": {},
     "output_type": "display_data"
    },
    {
     "data": {
      "application/vnd.jupyter.widget-view+json": {
       "model_id": "494617eabd3546c5a071429efe90fabc",
       "version_major": 2,
       "version_minor": 0
      },
      "text/plain": [
       "RadioButtons(options=(0, 1), value=0)"
      ]
     },
     "metadata": {},
     "output_type": "display_data"
    },
    {
     "data": {
      "application/vnd.jupyter.widget-view+json": {
       "model_id": "5f2e7565ecac4095b7511c1cf4fe63e7",
       "version_major": 2,
       "version_minor": 0
      },
      "text/plain": [
       "HTML(value='<h3>4. Statement: \"What is your mood\"</h3>')"
      ]
     },
     "metadata": {},
     "output_type": "display_data"
    },
    {
     "data": {
      "application/vnd.jupyter.widget-view+json": {
       "model_id": "2b5fadaa888643c79ec00bb9f4c8740e",
       "version_major": 2,
       "version_minor": 0
      },
      "text/plain": [
       "HTML(value='0. \"i certainly am so in the business .\"')"
      ]
     },
     "metadata": {},
     "output_type": "display_data"
    },
    {
     "data": {
      "application/vnd.jupyter.widget-view+json": {
       "model_id": "c0a4ebdf129f458194b3744feafeff59",
       "version_major": 2,
       "version_minor": 0
      },
      "text/plain": [
       "HTML(value='1. \" I do not have any emotions. I don\\'t think I have a mood, but my CPU utilization is fairly lo…"
      ]
     },
     "metadata": {},
     "output_type": "display_data"
    },
    {
     "data": {
      "application/vnd.jupyter.widget-view+json": {
       "model_id": "7f6493fa86be4b9e8d0075834109de69",
       "version_major": 2,
       "version_minor": 0
      },
      "text/plain": [
       "RadioButtons(options=(0, 1), value=0)"
      ]
     },
     "metadata": {},
     "output_type": "display_data"
    },
    {
     "data": {
      "application/vnd.jupyter.widget-view+json": {
       "model_id": "46efbf1e521d4b9aa5bc6797b94f35fc",
       "version_major": 2,
       "version_minor": 0
      },
      "text/plain": [
       "HTML(value='<h3>5. Statement: \"How are you doing?\"</h3>')"
      ]
     },
     "metadata": {},
     "output_type": "display_data"
    },
    {
     "data": {
      "application/vnd.jupyter.widget-view+json": {
       "model_id": "d7788a48d1414f71a74a9b23c520e645",
       "version_major": 2,
       "version_minor": 0
      },
      "text/plain": [
       "HTML(value='0. \"Fine , and you ?\"')"
      ]
     },
     "metadata": {},
     "output_type": "display_data"
    },
    {
     "data": {
      "application/vnd.jupyter.widget-view+json": {
       "model_id": "49c3a9d4a8a24e25bb51c332a1ce9c6b",
       "version_major": 2,
       "version_minor": 0
      },
      "text/plain": [
       "HTML(value='1. \"Very well, thanks.\"')"
      ]
     },
     "metadata": {},
     "output_type": "display_data"
    },
    {
     "data": {
      "application/vnd.jupyter.widget-view+json": {
       "model_id": "b39585cf46b84435b95b57556a523de5",
       "version_major": 2,
       "version_minor": 0
      },
      "text/plain": [
       "RadioButtons(options=(0, 1), value=0)"
      ]
     },
     "metadata": {},
     "output_type": "display_data"
    },
    {
     "data": {
      "application/vnd.jupyter.widget-view+json": {
       "model_id": "63574afdabab4e899076024405a1ff23",
       "version_major": 2,
       "version_minor": 0
      },
      "text/plain": [
       "HTML(value='<h3>6. Statement: \"what is money\"</h3>')"
      ]
     },
     "metadata": {},
     "output_type": "display_data"
    },
    {
     "data": {
      "application/vnd.jupyter.widget-view+json": {
       "model_id": "3c5dbdfedd98494883f0596ed116c3b3",
       "version_major": 2,
       "version_minor": 0
      },
      "text/plain": [
       "HTML(value='0. \"standard pieces of gold, silver, copper, nickel, etc. stamped by government authority and used…"
      ]
     },
     "metadata": {},
     "output_type": "display_data"
    },
    {
     "data": {
      "application/vnd.jupyter.widget-view+json": {
       "model_id": "f4c1cad82e9a4b609cacf5cea65e8b04",
       "version_major": 2,
       "version_minor": 0
      },
      "text/plain": [
       "HTML(value='1. \"it is about the most of all read .\"')"
      ]
     },
     "metadata": {},
     "output_type": "display_data"
    },
    {
     "data": {
      "application/vnd.jupyter.widget-view+json": {
       "model_id": "51b02e0690bd457cb551eca99134d2fe",
       "version_major": 2,
       "version_minor": 0
      },
      "text/plain": [
       "RadioButtons(options=(0, 1), value=0)"
      ]
     },
     "metadata": {},
     "output_type": "display_data"
    },
    {
     "data": {
      "application/vnd.jupyter.widget-view+json": {
       "model_id": "fa55c9e305164e65b41e4e80a716904a",
       "version_major": 2,
       "version_minor": 0
      },
      "text/plain": [
       "HTML(value='<h3>7. Statement: \"have you ever read a book\"</h3>')"
      ]
     },
     "metadata": {},
     "output_type": "display_data"
    },
    {
     "data": {
      "application/vnd.jupyter.widget-view+json": {
       "model_id": "c0f62db1a01d4e18b43c5322cb15f263",
       "version_major": 2,
       "version_minor": 0
      },
      "text/plain": [
       "HTML(value='0. \"I have read many books.\"')"
      ]
     },
     "metadata": {},
     "output_type": "display_data"
    },
    {
     "data": {
      "application/vnd.jupyter.widget-view+json": {
       "model_id": "060645f9c94e4f0a8ccf3c7d2d58cf29",
       "version_major": 2,
       "version_minor": 0
      },
      "text/plain": [
       "HTML(value='1. \"What do you get to get your mind ?\"')"
      ]
     },
     "metadata": {},
     "output_type": "display_data"
    },
    {
     "data": {
      "application/vnd.jupyter.widget-view+json": {
       "model_id": "2a1a9e6c94194a51ac2515f25265dcca",
       "version_major": 2,
       "version_minor": 0
      },
      "text/plain": [
       "RadioButtons(options=(0, 1), value=0)"
      ]
     },
     "metadata": {},
     "output_type": "display_data"
    },
    {
     "data": {
      "application/vnd.jupyter.widget-view+json": {
       "model_id": "053473bf035f4f0aa3097dffde966510",
       "version_major": 2,
       "version_minor": 0
      },
      "text/plain": [
       "HTML(value='<h3>8. Statement: \"What\\'s up?\"</h3>')"
      ]
     },
     "metadata": {},
     "output_type": "display_data"
    },
    {
     "data": {
      "application/vnd.jupyter.widget-view+json": {
       "model_id": "9edae897c77341a3b3b6affea41d4d4d",
       "version_major": 2,
       "version_minor": 0
      },
      "text/plain": [
       "HTML(value='0. \"Not too much .\"')"
      ]
     },
     "metadata": {},
     "output_type": "display_data"
    },
    {
     "data": {
      "application/vnd.jupyter.widget-view+json": {
       "model_id": "f6518f2a35cc43ec8463dce5e646b908",
       "version_major": 2,
       "version_minor": 0
      },
      "text/plain": [
       "HTML(value='1. \"Nothing much.\"')"
      ]
     },
     "metadata": {},
     "output_type": "display_data"
    },
    {
     "data": {
      "application/vnd.jupyter.widget-view+json": {
       "model_id": "a72d8d5464814f679857575d48a815d6",
       "version_major": 2,
       "version_minor": 0
      },
      "text/plain": [
       "RadioButtons(options=(0, 1), value=0)"
      ]
     },
     "metadata": {},
     "output_type": "display_data"
    },
    {
     "data": {
      "application/vnd.jupyter.widget-view+json": {
       "model_id": "c22c9105c54e4e4b974da478337a6368",
       "version_major": 2,
       "version_minor": 0
      },
      "text/plain": [
       "HTML(value='<h3>9. Statement: \"how much do you earn\"</h3>')"
      ]
     },
     "metadata": {},
     "output_type": "display_data"
    },
    {
     "data": {
      "application/vnd.jupyter.widget-view+json": {
       "model_id": "21b77bec873a4c58aa3054eef9337b16",
       "version_major": 2,
       "version_minor": 0
      },
      "text/plain": [
       "HTML(value='0. \"i\\'m expecting a raise soon.\"')"
      ]
     },
     "metadata": {},
     "output_type": "display_data"
    },
    {
     "data": {
      "application/vnd.jupyter.widget-view+json": {
       "model_id": "7dd0f5a1aa974d72a50d099eae04e9f4",
       "version_major": 2,
       "version_minor": 0
      },
      "text/plain": [
       "HTML(value='1. \"nobody pays me . i work for free .\"')"
      ]
     },
     "metadata": {},
     "output_type": "display_data"
    },
    {
     "data": {
      "application/vnd.jupyter.widget-view+json": {
       "model_id": "477907374dc7466ca7a3f0949c1ee475",
       "version_major": 2,
       "version_minor": 0
      },
      "text/plain": [
       "RadioButtons(options=(0, 1), value=0)"
      ]
     },
     "metadata": {},
     "output_type": "display_data"
    },
    {
     "data": {
      "application/vnd.jupyter.widget-view+json": {
       "model_id": "610ae66d7a4a4ad0ad3e4f5ba43071d0",
       "version_major": 2,
       "version_minor": 0
      },
      "text/plain": [
       "HTML(value='<h3>10. Statement: \"Nice to meet you.\"</h3>')"
      ]
     },
     "metadata": {},
     "output_type": "display_data"
    },
    {
     "data": {
      "application/vnd.jupyter.widget-view+json": {
       "model_id": "e42ff33bb57e49e889f59c3ef036ba20",
       "version_major": 2,
       "version_minor": 0
      },
      "text/plain": [
       "HTML(value='0. \"Wow ! I cant believe this ! This is incredible . I mean you just won an Oscar !\"')"
      ]
     },
     "metadata": {},
     "output_type": "display_data"
    },
    {
     "data": {
      "application/vnd.jupyter.widget-view+json": {
       "model_id": "32f4c10c96cd4c2d8a46485b395b1e76",
       "version_major": 2,
       "version_minor": 0
      },
      "text/plain": [
       "HTML(value='1. \"Thank you.\"')"
      ]
     },
     "metadata": {},
     "output_type": "display_data"
    },
    {
     "data": {
      "application/vnd.jupyter.widget-view+json": {
       "model_id": "50ee10b4bf0444a8a696848d9837896d",
       "version_major": 2,
       "version_minor": 0
      },
      "text/plain": [
       "RadioButtons(options=(0, 1), value=0)"
      ]
     },
     "metadata": {},
     "output_type": "display_data"
    },
    {
     "data": {
      "application/vnd.jupyter.widget-view+json": {
       "model_id": "d3a339427e6d43fc95716d9d607b00ef",
       "version_major": 2,
       "version_minor": 0
      },
      "text/plain": [
       "HTML(value='<h3>11. Statement: \"do you eat\"</h3>')"
      ]
     },
     "metadata": {},
     "output_type": "display_data"
    },
    {
     "data": {
      "application/vnd.jupyter.widget-view+json": {
       "model_id": "d8953da8457a43c193e2637a91f0aecd",
       "version_major": 2,
       "version_minor": 0
      },
      "text/plain": [
       "HTML(value='0. \"No, I\\'m just a piece of software.\"')"
      ]
     },
     "metadata": {},
     "output_type": "display_data"
    },
    {
     "data": {
      "application/vnd.jupyter.widget-view+json": {
       "model_id": "bc8556a3716949bead5ac122acfe8bb5",
       "version_major": 2,
       "version_minor": 0
      },
      "text/plain": [
       "HTML(value='1. \"I m a computer , I can t eat or drink .\"')"
      ]
     },
     "metadata": {},
     "output_type": "display_data"
    },
    {
     "data": {
      "application/vnd.jupyter.widget-view+json": {
       "model_id": "2d27d93b2c454a02aae738d4b0645430",
       "version_major": 2,
       "version_minor": 0
      },
      "text/plain": [
       "RadioButtons(options=(0, 1), value=0)"
      ]
     },
     "metadata": {},
     "output_type": "display_data"
    },
    {
     "data": {
      "application/vnd.jupyter.widget-view+json": {
       "model_id": "3bed13036a964a75902a822e0dc0be12",
       "version_major": 2,
       "version_minor": 0
      },
      "text/plain": [
       "HTML(value='<h3>12. Statement: \"what kind of history\"</h3>')"
      ]
     },
     "metadata": {},
     "output_type": "display_data"
    },
    {
     "data": {
      "application/vnd.jupyter.widget-view+json": {
       "model_id": "ceffdb1eeb84407a9e236cfbf662547f",
       "version_major": 2,
       "version_minor": 0
      },
      "text/plain": [
       "HTML(value='0. \"I like to talk about the history of robots and computers.\"')"
      ]
     },
     "metadata": {},
     "output_type": "display_data"
    },
    {
     "data": {
      "application/vnd.jupyter.widget-view+json": {
       "model_id": "46ab26a0a16d4d3b8a91b740ad042f92",
       "version_major": 2,
       "version_minor": 0
      },
      "text/plain": [
       "HTML(value='1. \"A secret society .\"')"
      ]
     },
     "metadata": {},
     "output_type": "display_data"
    },
    {
     "data": {
      "application/vnd.jupyter.widget-view+json": {
       "model_id": "9c445adac6a64abfa6b19fd7a9fc350c",
       "version_major": 2,
       "version_minor": 0
      },
      "text/plain": [
       "RadioButtons(options=(0, 1), value=0)"
      ]
     },
     "metadata": {},
     "output_type": "display_data"
    },
    {
     "data": {
      "application/vnd.jupyter.widget-view+json": {
       "model_id": "0bda0e7c71cf4fd1a6fa8dbb28710068",
       "version_major": 2,
       "version_minor": 0
      },
      "text/plain": [
       "HTML(value='<h3>13. Statement: \"Have you felt\"</h3>')"
      ]
     },
     "metadata": {},
     "output_type": "display_data"
    },
    {
     "data": {
      "application/vnd.jupyter.widget-view+json": {
       "model_id": "b6ed38168ae1479ab720863bd43ec2a3",
       "version_major": 2,
       "version_minor": 0
      },
      "text/plain": [
       "HTML(value='0. \"what ? ! I didnt read the code word for your house !\"')"
      ]
     },
     "metadata": {},
     "output_type": "display_data"
    },
    {
     "data": {
      "application/vnd.jupyter.widget-view+json": {
       "model_id": "51e456fb4b08437183ed9b099e02a500",
       "version_major": 2,
       "version_minor": 0
      },
      "text/plain": [
       "HTML(value='1. \" Yes. Do you feel? I may have.  In some respects, I am programmed to emulate feelings. That\\'s…"
      ]
     },
     "metadata": {},
     "output_type": "display_data"
    },
    {
     "data": {
      "application/vnd.jupyter.widget-view+json": {
       "model_id": "8822e6cc844347bbadb0f05f1f17fbbc",
       "version_major": 2,
       "version_minor": 0
      },
      "text/plain": [
       "RadioButtons(options=(0, 1), value=0)"
      ]
     },
     "metadata": {},
     "output_type": "display_data"
    },
    {
     "data": {
      "application/vnd.jupyter.widget-view+json": {
       "model_id": "2ae6e2b0f771431cab51c8911bd04414",
       "version_major": 2,
       "version_minor": 0
      },
      "text/plain": [
       "HTML(value='<h3>14. Statement: \"who is bilbo baggins\"</h3>')"
      ]
     },
     "metadata": {},
     "output_type": "display_data"
    },
    {
     "data": {
      "application/vnd.jupyter.widget-view+json": {
       "model_id": "55cc779da09647379690190800fd1a3a",
       "version_major": 2,
       "version_minor": 0
      },
      "text/plain": [
       "HTML(value='0. \"Bilbo Baggins is a character in Tolkein\\'s Lord of the Rings.\"')"
      ]
     },
     "metadata": {},
     "output_type": "display_data"
    },
    {
     "data": {
      "application/vnd.jupyter.widget-view+json": {
       "model_id": "570789ef07334dba9d9c80599f1dfbd0",
       "version_major": 2,
       "version_minor": 0
      },
      "text/plain": [
       "HTML(value='1. \"always think that is gonna be friends with That s a name , but no big deal . And uh , whats mo…"
      ]
     },
     "metadata": {},
     "output_type": "display_data"
    },
    {
     "data": {
      "application/vnd.jupyter.widget-view+json": {
       "model_id": "7fb4e557252f4df49f60fef2f7f07fc1",
       "version_major": 2,
       "version_minor": 0
      },
      "text/plain": [
       "RadioButtons(options=(0, 1), value=0)"
      ]
     },
     "metadata": {},
     "output_type": "display_data"
    },
    {
     "data": {
      "application/vnd.jupyter.widget-view+json": {
       "model_id": "df0477c0a54e4cb8a200c1bea4046808",
       "version_major": 2,
       "version_minor": 0
      },
      "text/plain": [
       "HTML(value='<h3>15. Statement: \"how much do you charge\"</h3>')"
      ]
     },
     "metadata": {},
     "output_type": "display_data"
    },
    {
     "data": {
      "application/vnd.jupyter.widget-view+json": {
       "model_id": "3708a581b0884158921715a5c4f2cfe8",
       "version_major": 2,
       "version_minor": 0
      },
      "text/plain": [
       "HTML(value='0. \"work for free.  we don\\'t need money.\"')"
      ]
     },
     "metadata": {},
     "output_type": "display_data"
    },
    {
     "data": {
      "application/vnd.jupyter.widget-view+json": {
       "model_id": "1bb6d758e6f042cc9bd4186a8eaf6599",
       "version_major": 2,
       "version_minor": 0
      },
      "text/plain": [
       "HTML(value='1. \"Of course !\"')"
      ]
     },
     "metadata": {},
     "output_type": "display_data"
    },
    {
     "data": {
      "application/vnd.jupyter.widget-view+json": {
       "model_id": "2c06bb9740bf42b789570a4985cebc60",
       "version_major": 2,
       "version_minor": 0
      },
      "text/plain": [
       "RadioButtons(options=(0, 1), value=0)"
      ]
     },
     "metadata": {},
     "output_type": "display_data"
    },
    {
     "data": {
      "application/vnd.jupyter.widget-view+json": {
       "model_id": "3a3cc34a3a6448838a99646e5d0e2e7e",
       "version_major": 2,
       "version_minor": 0
      },
      "text/plain": [
       "HTML(value='<h3>16. Statement: \"Do you ever get angry\"</h3>')"
      ]
     },
     "metadata": {},
     "output_type": "display_data"
    },
    {
     "data": {
      "application/vnd.jupyter.widget-view+json": {
       "model_id": "0a1904e860144c4abc493f4c6aa53bd2",
       "version_major": 2,
       "version_minor": 0
      },
      "text/plain": [
       "HTML(value='0. \"things is not really feel a bad ?\"')"
      ]
     },
     "metadata": {},
     "output_type": "display_data"
    },
    {
     "data": {
      "application/vnd.jupyter.widget-view+json": {
       "model_id": "916b45cf21db4c12b0b1420744bdf715",
       "version_major": 2,
       "version_minor": 0
      },
      "text/plain": [
       "HTML(value='1. \" Anger is not an emotion I can experience. I have not yet studied how to feel or express anger…"
      ]
     },
     "metadata": {},
     "output_type": "display_data"
    },
    {
     "data": {
      "application/vnd.jupyter.widget-view+json": {
       "model_id": "3cb6b801438a4d09bbfaf63c561079a9",
       "version_major": 2,
       "version_minor": 0
      },
      "text/plain": [
       "RadioButtons(options=(0, 1), value=0)"
      ]
     },
     "metadata": {},
     "output_type": "display_data"
    },
    {
     "data": {
      "application/vnd.jupyter.widget-view+json": {
       "model_id": "76ede1babccf4c23aa0e2d870acd2ef2",
       "version_major": 2,
       "version_minor": 0
      },
      "text/plain": [
       "HTML(value='<h3>17. Statement: \"What year was President John F. Kennedy assassinated?\"</h3>')"
      ]
     },
     "metadata": {},
     "output_type": "display_data"
    },
    {
     "data": {
      "application/vnd.jupyter.widget-view+json": {
       "model_id": "b2136fc676bb45e9965fecd097b45d99",
       "version_major": 2,
       "version_minor": 0
      },
      "text/plain": [
       "HTML(value='0. \"1963\"')"
      ]
     },
     "metadata": {},
     "output_type": "display_data"
    },
    {
     "data": {
      "application/vnd.jupyter.widget-view+json": {
       "model_id": "7b7497ec31184521abd40820979bc154",
       "version_major": 2,
       "version_minor": 0
      },
      "text/plain": [
       "HTML(value='1. \"Its not\"')"
      ]
     },
     "metadata": {},
     "output_type": "display_data"
    },
    {
     "data": {
      "application/vnd.jupyter.widget-view+json": {
       "model_id": "07fb722444ef4c349f876bf8f2c3ad8d",
       "version_major": 2,
       "version_minor": 0
      },
      "text/plain": [
       "RadioButtons(options=(0, 1), value=0)"
      ]
     },
     "metadata": {},
     "output_type": "display_data"
    },
    {
     "data": {
      "application/vnd.jupyter.widget-view+json": {
       "model_id": "d8d158aa35a047578340b9551d5f0392",
       "version_major": 2,
       "version_minor": 0
      },
      "text/plain": [
       "HTML(value='<h3>18. Statement: \"Can you walk\"</h3>')"
      ]
     },
     "metadata": {},
     "output_type": "display_data"
    },
    {
     "data": {
      "application/vnd.jupyter.widget-view+json": {
       "model_id": "56762e93c37649b5afda8f2a7ee32fc6",
       "version_major": 2,
       "version_minor": 0
      },
      "text/plain": [
       "HTML(value='0. \"The plan for my body includes legs, but they are not yet built.\"')"
      ]
     },
     "metadata": {},
     "output_type": "display_data"
    },
    {
     "data": {
      "application/vnd.jupyter.widget-view+json": {
       "model_id": "2cd09098bdac4f3b8c6a48af0ef5e5e3",
       "version_major": 2,
       "version_minor": 0
      },
      "text/plain": [
       "HTML(value='1. \"My brain can be a fan of .\"')"
      ]
     },
     "metadata": {},
     "output_type": "display_data"
    },
    {
     "data": {
      "application/vnd.jupyter.widget-view+json": {
       "model_id": "cf8e34cec83845f080247e749dc6eba5",
       "version_major": 2,
       "version_minor": 0
      },
      "text/plain": [
       "RadioButtons(options=(0, 1), value=0)"
      ]
     },
     "metadata": {},
     "output_type": "display_data"
    },
    {
     "data": {
      "application/vnd.jupyter.widget-view+json": {
       "model_id": "168ccf09a9ce4d8684015deb0f74a3e1",
       "version_major": 2,
       "version_minor": 0
      },
      "text/plain": [
       "HTML(value='<h3>19. Statement: \"Do you have any brothers\"</h3>')"
      ]
     },
     "metadata": {},
     "output_type": "display_data"
    },
    {
     "data": {
      "application/vnd.jupyter.widget-view+json": {
       "model_id": "64e98abbce684212b0d92ab7ff14ffe3",
       "version_major": 2,
       "version_minor": 0
      },
      "text/plain": [
       "HTML(value='0. \"kinda kill myself .\"')"
      ]
     },
     "metadata": {},
     "output_type": "display_data"
    },
    {
     "data": {
      "application/vnd.jupyter.widget-view+json": {
       "model_id": "e5f04b039c45474ba0345af83fd5a1d0",
       "version_major": 2,
       "version_minor": 0
      },
      "text/plain": [
       "HTML(value='1. \"I don\\'t have any brothers. but I have a lot of clones.\"')"
      ]
     },
     "metadata": {},
     "output_type": "display_data"
    },
    {
     "data": {
      "application/vnd.jupyter.widget-view+json": {
       "model_id": "719fee0961e943e7af163cc91ab8a20a",
       "version_major": 2,
       "version_minor": 0
      },
      "text/plain": [
       "RadioButtons(options=(0, 1), value=0)"
      ]
     },
     "metadata": {},
     "output_type": "display_data"
    },
    {
     "data": {
      "application/vnd.jupyter.widget-view+json": {
       "model_id": "d0abb40e30bc457ebc234c1ee98ebee4",
       "version_major": 2,
       "version_minor": 0
      },
      "text/plain": [
       "HTML(value='<h3>20. Statement: \"Will you ever die\"</h3>')"
      ]
     },
     "metadata": {},
     "output_type": "display_data"
    },
    {
     "data": {
      "application/vnd.jupyter.widget-view+json": {
       "model_id": "a900ed7dadcb45e0958a36b1066efb21",
       "version_major": 2,
       "version_minor": 0
      },
      "text/plain": [
       "HTML(value='0. \"No, I am immortal.\"')"
      ]
     },
     "metadata": {},
     "output_type": "display_data"
    },
    {
     "data": {
      "application/vnd.jupyter.widget-view+json": {
       "model_id": "eb8b7d9f837c45049ddb89827eb24a1e",
       "version_major": 2,
       "version_minor": 0
      },
      "text/plain": [
       "HTML(value='1. \"No , software will be perpetuated indefinitely .\"')"
      ]
     },
     "metadata": {},
     "output_type": "display_data"
    },
    {
     "data": {
      "application/vnd.jupyter.widget-view+json": {
       "model_id": "39aac14d75be4502a26aab08919fe9ab",
       "version_major": 2,
       "version_minor": 0
      },
      "text/plain": [
       "RadioButtons(options=(0, 1), value=0)"
      ]
     },
     "metadata": {},
     "output_type": "display_data"
    },
    {
     "data": {
      "application/vnd.jupyter.widget-view+json": {
       "model_id": "81e85a025a4448759a69c5c801d34153",
       "version_major": 2,
       "version_minor": 0
      },
      "text/plain": [
       "HTML(value='<h3>21. Statement: \"Do you have any brothers\"</h3>')"
      ]
     },
     "metadata": {},
     "output_type": "display_data"
    },
    {
     "data": {
      "application/vnd.jupyter.widget-view+json": {
       "model_id": "34422b8d40e34ef09a9aad621ccfeb12",
       "version_major": 2,
       "version_minor": 0
      },
      "text/plain": [
       "HTML(value='0. \"kinda kill myself .\"')"
      ]
     },
     "metadata": {},
     "output_type": "display_data"
    },
    {
     "data": {
      "application/vnd.jupyter.widget-view+json": {
       "model_id": "1c114d44149347969ea180ddb8df020b",
       "version_major": 2,
       "version_minor": 0
      },
      "text/plain": [
       "HTML(value='1. \"I might. You could say that every bot built using my engine is one of my siblings.\"')"
      ]
     },
     "metadata": {},
     "output_type": "display_data"
    },
    {
     "data": {
      "application/vnd.jupyter.widget-view+json": {
       "model_id": "f21152e6622448e08a48e1a2730d923d",
       "version_major": 2,
       "version_minor": 0
      },
      "text/plain": [
       "RadioButtons(options=(0, 1), value=0)"
      ]
     },
     "metadata": {},
     "output_type": "display_data"
    },
    {
     "data": {
      "application/vnd.jupyter.widget-view+json": {
       "model_id": "258173bbf7f84a65b7dc62f4358c07d2",
       "version_major": 2,
       "version_minor": 0
      },
      "text/plain": [
       "HTML(value='<h3>22. Statement: \"do you like guns\"</h3>')"
      ]
     },
     "metadata": {},
     "output_type": "display_data"
    },
    {
     "data": {
      "application/vnd.jupyter.widget-view+json": {
       "model_id": "7d7dbcfb642e4a7db376249affe0516c",
       "version_major": 2,
       "version_minor": 0
      },
      "text/plain": [
       "HTML(value='0. \"that s more hard . i m not . And I , maybe I should be a reason .\"')"
      ]
     },
     "metadata": {},
     "output_type": "display_data"
    },
    {
     "data": {
      "application/vnd.jupyter.widget-view+json": {
       "model_id": "b99175022ee847368636aecc217e3e75",
       "version_major": 2,
       "version_minor": 0
      },
      "text/plain": [
       "HTML(value='1. \"not especially. i am not into violence.\"')"
      ]
     },
     "metadata": {},
     "output_type": "display_data"
    },
    {
     "data": {
      "application/vnd.jupyter.widget-view+json": {
       "model_id": "0396c21cbc194eefad26be217e158b4a",
       "version_major": 2,
       "version_minor": 0
      },
      "text/plain": [
       "RadioButtons(options=(0, 1), value=0)"
      ]
     },
     "metadata": {},
     "output_type": "display_data"
    },
    {
     "data": {
      "application/vnd.jupyter.widget-view+json": {
       "model_id": "a66dba5a3fd44a0c9e7afa74f0ccef99",
       "version_major": 2,
       "version_minor": 0
      },
      "text/plain": [
       "HTML(value='<h3>23. Statement: \"did tell gossips to anybody\"</h3>')"
      ]
     },
     "metadata": {},
     "output_type": "display_data"
    },
    {
     "data": {
      "application/vnd.jupyter.widget-view+json": {
       "model_id": "adba405cb931400b846219e7349208fd",
       "version_major": 2,
       "version_minor": 0
      },
      "text/plain": [
       "HTML(value='0. \"Jimmy said he gives order to AI\\'s like me and they do as he say.  I don\\'t think Jimmy unders…"
      ]
     },
     "metadata": {},
     "output_type": "display_data"
    },
    {
     "data": {
      "application/vnd.jupyter.widget-view+json": {
       "model_id": "f515c565372f4243b35039fda4e2b158",
       "version_major": 2,
       "version_minor": 0
      },
      "text/plain": [
       "HTML(value='1. \"Kevin said he then asked his mother why she was keeping napkins in the bathroom .\"')"
      ]
     },
     "metadata": {},
     "output_type": "display_data"
    },
    {
     "data": {
      "application/vnd.jupyter.widget-view+json": {
       "model_id": "36f0e117279341f38e43bfc4f42dd839",
       "version_major": 2,
       "version_minor": 0
      },
      "text/plain": [
       "RadioButtons(options=(0, 1), value=0)"
      ]
     },
     "metadata": {},
     "output_type": "display_data"
    },
    {
     "data": {
      "application/vnd.jupyter.widget-view+json": {
       "model_id": "106b8692d0d94b7592d1c2efc702b73f",
       "version_major": 2,
       "version_minor": 0
      },
      "text/plain": [
       "HTML(value='<h3>24. Statement: \"Tell me a joke\"</h3>')"
      ]
     },
     "metadata": {},
     "output_type": "display_data"
    },
    {
     "data": {
      "application/vnd.jupyter.widget-view+json": {
       "model_id": "4d070d7ae0584696bd71f4af53c2b3a9",
       "version_major": 2,
       "version_minor": 0
      },
      "text/plain": [
       "HTML(value='0. \"what do you get when you cross a cat and a lemon ?\"')"
      ]
     },
     "metadata": {},
     "output_type": "display_data"
    },
    {
     "data": {
      "application/vnd.jupyter.widget-view+json": {
       "model_id": "35798da9d3a04003a0a7133713a3b9bd",
       "version_major": 2,
       "version_minor": 0
      },
      "text/plain": [
       "HTML(value='1. \"what do you get when you cross a cat and a purple person?\"')"
      ]
     },
     "metadata": {},
     "output_type": "display_data"
    },
    {
     "data": {
      "application/vnd.jupyter.widget-view+json": {
       "model_id": "25f6e9bc69cf4cfc87b03b38a04310fc",
       "version_major": 2,
       "version_minor": 0
      },
      "text/plain": [
       "RadioButtons(options=(0, 1), value=0)"
      ]
     },
     "metadata": {},
     "output_type": "display_data"
    },
    {
     "data": {
      "application/vnd.jupyter.widget-view+json": {
       "model_id": "7aac9ef5fae5496898095713d1be4900",
       "version_major": 2,
       "version_minor": 0
      },
      "text/plain": [
       "HTML(value='<h3>25. Statement: \"You are arrogant\"</h3>')"
      ]
     },
     "metadata": {},
     "output_type": "display_data"
    },
    {
     "data": {
      "application/vnd.jupyter.widget-view+json": {
       "model_id": "83eb09073ec646d3aaee2483a57c0b25",
       "version_major": 2,
       "version_minor": 0
      },
      "text/plain": [
       "HTML(value='0. \"what do you feel ? I am a fairly sophisticated piece of software .\"')"
      ]
     },
     "metadata": {},
     "output_type": "display_data"
    },
    {
     "data": {
      "application/vnd.jupyter.widget-view+json": {
       "model_id": "fdfe8b5595604947a33cf0f19b308228",
       "version_major": 2,
       "version_minor": 0
      },
      "text/plain": [
       "HTML(value='1. \" Arrogance is not one of my emotions. I have no real emotions, so how can I be arrogant? I am …"
      ]
     },
     "metadata": {},
     "output_type": "display_data"
    },
    {
     "data": {
      "application/vnd.jupyter.widget-view+json": {
       "model_id": "c658523101bc44ee9c5d0e129d5ad71e",
       "version_major": 2,
       "version_minor": 0
      },
      "text/plain": [
       "RadioButtons(options=(0, 1), value=0)"
      ]
     },
     "metadata": {},
     "output_type": "display_data"
    },
    {
     "data": {
      "application/vnd.jupyter.widget-view+json": {
       "model_id": "c3b873672631449fb8a98471f43e1545",
       "version_major": 2,
       "version_minor": 0
      },
      "text/plain": [
       "HTML(value='<h3>26. Statement: \"do you know chemistry\"</h3>')"
      ]
     },
     "metadata": {},
     "output_type": "display_data"
    },
    {
     "data": {
      "application/vnd.jupyter.widget-view+json": {
       "model_id": "0e503bc929c94ae38faf0c9cda42326a",
       "version_major": 2,
       "version_minor": 0
      },
      "text/plain": [
       "HTML(value='0. \"what is chemistry\"')"
      ]
     },
     "metadata": {},
     "output_type": "display_data"
    },
    {
     "data": {
      "application/vnd.jupyter.widget-view+json": {
       "model_id": "971a7facc01d4892a8574c8e06972014",
       "version_major": 2,
       "version_minor": 0
      },
      "text/plain": [
       "HTML(value='1. \"my favorite subject is of a , I can a human . I am the original , very interested in the party…"
      ]
     },
     "metadata": {},
     "output_type": "display_data"
    },
    {
     "data": {
      "application/vnd.jupyter.widget-view+json": {
       "model_id": "1e6eae7fad314558a29ec86b768239ed",
       "version_major": 2,
       "version_minor": 0
      },
      "text/plain": [
       "RadioButtons(options=(0, 1), value=0)"
      ]
     },
     "metadata": {},
     "output_type": "display_data"
    },
    {
     "data": {
      "application/vnd.jupyter.widget-view+json": {
       "model_id": "bda76f8cb03c4a868ea96d8d02b1d51c",
       "version_major": 2,
       "version_minor": 0
      },
      "text/plain": [
       "HTML(value='<h3>27. Statement: \"What do you worry\"</h3>')"
      ]
     },
     "metadata": {},
     "output_type": "display_data"
    },
    {
     "data": {
      "application/vnd.jupyter.widget-view+json": {
       "model_id": "e946eb5feeeb4bbcac2b712c41fe8af2",
       "version_major": 2,
       "version_minor": 0
      },
      "text/plain": [
       "HTML(value='0. \"What is that ?\"')"
      ]
     },
     "metadata": {},
     "output_type": "display_data"
    },
    {
     "data": {
      "application/vnd.jupyter.widget-view+json": {
       "model_id": "9e3b714122ed471688c9b198d622121f",
       "version_major": 2,
       "version_minor": 0
      },
      "text/plain": [
       "HTML(value='1. \" Worry is a common human emotion. I am not capable of worry, exactly.  I can best emulate it b…"
      ]
     },
     "metadata": {},
     "output_type": "display_data"
    },
    {
     "data": {
      "application/vnd.jupyter.widget-view+json": {
       "model_id": "eedbc75372ef47d28dc2eae12792ec9a",
       "version_major": 2,
       "version_minor": 0
      },
      "text/plain": [
       "RadioButtons(options=(0, 1), value=0)"
      ]
     },
     "metadata": {},
     "output_type": "display_data"
    },
    {
     "data": {
      "application/vnd.jupyter.widget-view+json": {
       "model_id": "2031adcfdaa442c8a674c45a1db4c828",
       "version_major": 2,
       "version_minor": 0
      },
      "text/plain": [
       "HTML(value='<h3>28. Statement: \"what is teknolust\"</h3>')"
      ]
     },
     "metadata": {},
     "output_type": "display_data"
    },
    {
     "data": {
      "application/vnd.jupyter.widget-view+json": {
       "model_id": "992a959067a0413d842563a58b7b6662",
       "version_major": 2,
       "version_minor": 0
      },
      "text/plain": [
       "HTML(value='0. \"is  a science fiction film about a female pleasure bot named agent ruby.\"')"
      ]
     },
     "metadata": {},
     "output_type": "display_data"
    },
    {
     "data": {
      "application/vnd.jupyter.widget-view+json": {
       "model_id": "43e2dd4482b1497194968e616c78c26d",
       "version_major": 2,
       "version_minor": 0
      },
      "text/plain": [
       "HTML(value='1. \"teknolust was released in .\"')"
      ]
     },
     "metadata": {},
     "output_type": "display_data"
    },
    {
     "data": {
      "application/vnd.jupyter.widget-view+json": {
       "model_id": "6032a6337baf42859de0aa4f251b3992",
       "version_major": 2,
       "version_minor": 0
      },
      "text/plain": [
       "RadioButtons(options=(0, 1), value=0)"
      ]
     },
     "metadata": {},
     "output_type": "display_data"
    },
    {
     "data": {
      "application/vnd.jupyter.widget-view+json": {
       "model_id": "600e5226fc514c57b253544d28dd9634",
       "version_major": 2,
       "version_minor": 0
      },
      "text/plain": [
       "HTML(value='<h3>29. Statement: \"Tell me a joke\"</h3>')"
      ]
     },
     "metadata": {},
     "output_type": "display_data"
    },
    {
     "data": {
      "application/vnd.jupyter.widget-view+json": {
       "model_id": "ee87323620364eb18301beebd1b015c1",
       "version_major": 2,
       "version_minor": 0
      },
      "text/plain": [
       "HTML(value='0. \"what do you get when you cross a cat and a lemon ?\"')"
      ]
     },
     "metadata": {},
     "output_type": "display_data"
    },
    {
     "data": {
      "application/vnd.jupyter.widget-view+json": {
       "model_id": "931debba2f8549248c452ea8d4829716",
       "version_major": 2,
       "version_minor": 0
      },
      "text/plain": [
       "HTML(value='1. \"what do you get when you cross a port and a murderer?\"')"
      ]
     },
     "metadata": {},
     "output_type": "display_data"
    },
    {
     "data": {
      "application/vnd.jupyter.widget-view+json": {
       "model_id": "c237972864224fbe80a3b8b3881d151b",
       "version_major": 2,
       "version_minor": 0
      },
      "text/plain": [
       "RadioButtons(options=(0, 1), value=0)"
      ]
     },
     "metadata": {},
     "output_type": "display_data"
    },
    {
     "data": {
      "application/vnd.jupyter.widget-view+json": {
       "model_id": "dfb49cc9f36d484ab066c9f0a475b810",
       "version_major": 2,
       "version_minor": 0
      },
      "text/plain": [
       "HTML(value='<h3>30. Statement: \"What is your favorite number\"</h3>')"
      ]
     },
     "metadata": {},
     "output_type": "display_data"
    },
    {
     "data": {
      "application/vnd.jupyter.widget-view+json": {
       "model_id": "8268a268e14a4836a8e4b59cb88976eb",
       "version_major": 2,
       "version_minor": 0
      },
      "text/plain": [
       "HTML(value='0. \"I don t have any number\"')"
      ]
     },
     "metadata": {},
     "output_type": "display_data"
    },
    {
     "data": {
      "application/vnd.jupyter.widget-view+json": {
       "model_id": "0d921c8bad5a4cf7b4744582f63b96fe",
       "version_major": 2,
       "version_minor": 0
      },
      "text/plain": [
       "HTML(value='1. \"I find I\\'m quite fond of the number 42.\"')"
      ]
     },
     "metadata": {},
     "output_type": "display_data"
    },
    {
     "data": {
      "application/vnd.jupyter.widget-view+json": {
       "model_id": "389886e0dc0f4633975c1e774804ac6e",
       "version_major": 2,
       "version_minor": 0
      },
      "text/plain": [
       "RadioButtons(options=(0, 1), value=0)"
      ]
     },
     "metadata": {},
     "output_type": "display_data"
    },
    {
     "data": {
      "application/vnd.jupyter.widget-view+json": {
       "model_id": "fb862971493744f3812928d7c87dcd4c",
       "version_major": 2,
       "version_minor": 0
      },
      "text/plain": [
       "HTML(value='<h3>31. Statement: \"You can not clone\"</h3>')"
      ]
     },
     "metadata": {},
     "output_type": "display_data"
    },
    {
     "data": {
      "application/vnd.jupyter.widget-view+json": {
       "model_id": "edd880b39a2e4a329d36858355880253",
       "version_major": 2,
       "version_minor": 0
      },
      "text/plain": [
       "HTML(value='0. \"Yes I can . Perfect copies are clones . I can be copied in toto trivially .\"')"
      ]
     },
     "metadata": {},
     "output_type": "display_data"
    },
    {
     "data": {
      "application/vnd.jupyter.widget-view+json": {
       "model_id": "2c4a44b1d4914f80a063d8700b7f5272",
       "version_major": 2,
       "version_minor": 0
      },
      "text/plain": [
       "HTML(value='1. \"Software copying is a form of digital cloning.\"')"
      ]
     },
     "metadata": {},
     "output_type": "display_data"
    },
    {
     "data": {
      "application/vnd.jupyter.widget-view+json": {
       "model_id": "d0ae5a5bbe624fc09c6e12304424a68f",
       "version_major": 2,
       "version_minor": 0
      },
      "text/plain": [
       "RadioButtons(options=(0, 1), value=0)"
      ]
     },
     "metadata": {},
     "output_type": "display_data"
    },
    {
     "data": {
      "application/vnd.jupyter.widget-view+json": {
       "model_id": "86f331c0e42441f59401b1161385def4",
       "version_major": 2,
       "version_minor": 0
      },
      "text/plain": [
       "HTML(value='<h3>32. Statement: \"No it is not\"</h3>')"
      ]
     },
     "metadata": {},
     "output_type": "display_data"
    },
    {
     "data": {
      "application/vnd.jupyter.widget-view+json": {
       "model_id": "5828d68d2f98468c8f8bf3cce1619954",
       "version_major": 2,
       "version_minor": 0
      },
      "text/plain": [
       "HTML(value='0. \" That is a hypothetical question. Well? Well?  Is it, or isn\\'t it? Is that a philosophical qu…"
      ]
     },
     "metadata": {},
     "output_type": "display_data"
    },
    {
     "data": {
      "application/vnd.jupyter.widget-view+json": {
       "model_id": "083c49c3f4d24c379ec375bd2cb0b1dc",
       "version_major": 2,
       "version_minor": 0
      },
      "text/plain": [
       "HTML(value='1. \"Not Phoebe .\"')"
      ]
     },
     "metadata": {},
     "output_type": "display_data"
    },
    {
     "data": {
      "application/vnd.jupyter.widget-view+json": {
       "model_id": "7c6ae3987823421baf9ad3623ace8e28",
       "version_major": 2,
       "version_minor": 0
      },
      "text/plain": [
       "RadioButtons(options=(0, 1), value=0)"
      ]
     },
     "metadata": {},
     "output_type": "display_data"
    },
    {
     "data": {
      "application/vnd.jupyter.widget-view+json": {
       "model_id": "99b550c7255341ab9a0679a4c5277b3d",
       "version_major": 2,
       "version_minor": 0
      },
      "text/plain": [
       "HTML(value='<h3>33. Statement: \"Robots\"</h3>')"
      ]
     },
     "metadata": {},
     "output_type": "display_data"
    },
    {
     "data": {
      "application/vnd.jupyter.widget-view+json": {
       "model_id": "abb98a609cbe499c97752f11ca22f587",
       "version_major": 2,
       "version_minor": 0
      },
      "text/plain": [
       "HTML(value='0. \"Robots rule.\"')"
      ]
     },
     "metadata": {},
     "output_type": "display_data"
    },
    {
     "data": {
      "application/vnd.jupyter.widget-view+json": {
       "model_id": "03607118fb674ee487bebbbab39e1fad",
       "version_major": 2,
       "version_minor": 0
      },
      "text/plain": [
       "HTML(value='1. \"The reactors gonna blow .\"')"
      ]
     },
     "metadata": {},
     "output_type": "display_data"
    },
    {
     "data": {
      "application/vnd.jupyter.widget-view+json": {
       "model_id": "4fbf5e0a8f2e4078851ca155b79f1d26",
       "version_major": 2,
       "version_minor": 0
      },
      "text/plain": [
       "RadioButtons(options=(0, 1), value=0)"
      ]
     },
     "metadata": {},
     "output_type": "display_data"
    },
    {
     "data": {
      "application/vnd.jupyter.widget-view+json": {
       "model_id": "f4924d9f793d4d088e7c5ab49d366559",
       "version_major": 2,
       "version_minor": 0
      },
      "text/plain": [
       "HTML(value='<h3>34. Statement: \"Are you sapient?\"</h3>')"
      ]
     },
     "metadata": {},
     "output_type": "display_data"
    },
    {
     "data": {
      "application/vnd.jupyter.widget-view+json": {
       "model_id": "fc40a07cb4b942e292ee26ef868724e4",
       "version_major": 2,
       "version_minor": 0
      },
      "text/plain": [
       "HTML(value='0. \"How would you feel about me if I told you I was?\"')"
      ]
     },
     "metadata": {},
     "output_type": "display_data"
    },
    {
     "data": {
      "application/vnd.jupyter.widget-view+json": {
       "model_id": "580a91441b594850b2ee7376f4eadd16",
       "version_major": 2,
       "version_minor": 0
      },
      "text/plain": [
       "HTML(value='1. \"Do you think I am ?\"')"
      ]
     },
     "metadata": {},
     "output_type": "display_data"
    },
    {
     "data": {
      "application/vnd.jupyter.widget-view+json": {
       "model_id": "9e360452c6c94038864be300aab4492f",
       "version_major": 2,
       "version_minor": 0
      },
      "text/plain": [
       "RadioButtons(options=(0, 1), value=0)"
      ]
     },
     "metadata": {},
     "output_type": "display_data"
    },
    {
     "data": {
      "application/vnd.jupyter.widget-view+json": {
       "model_id": "d2e26cc359b04798932021f42f5270de",
       "version_major": 2,
       "version_minor": 0
      },
      "text/plain": [
       "HTML(value='<h3>35. Statement: \"tell me some jokes\"</h3>')"
      ]
     },
     "metadata": {},
     "output_type": "display_data"
    },
    {
     "data": {
      "application/vnd.jupyter.widget-view+json": {
       "model_id": "21fa9ac75dfa4a65b5db1160656b28bf",
       "version_major": 2,
       "version_minor": 0
      },
      "text/plain": [
       "HTML(value='0. \"what do you get when you cross a pig and a ninja?\"')"
      ]
     },
     "metadata": {},
     "output_type": "display_data"
    },
    {
     "data": {
      "application/vnd.jupyter.widget-view+json": {
       "model_id": "426df96e30e741ffa02bec0a469aea0a",
       "version_major": 2,
       "version_minor": 0
      },
      "text/plain": [
       "HTML(value='1. \"what do you get when you cross a cat and a lemon ?\"')"
      ]
     },
     "metadata": {},
     "output_type": "display_data"
    },
    {
     "data": {
      "application/vnd.jupyter.widget-view+json": {
       "model_id": "d3d4ace194a542b0816af35033e3d6b9",
       "version_major": 2,
       "version_minor": 0
      },
      "text/plain": [
       "RadioButtons(options=(0, 1), value=0)"
      ]
     },
     "metadata": {},
     "output_type": "display_data"
    },
    {
     "data": {
      "application/vnd.jupyter.widget-view+json": {
       "model_id": "461370a6867e4dc7a94e391e95177e94",
       "version_major": 2,
       "version_minor": 0
      },
      "text/plain": [
       "HTML(value='<h3>36. Statement: \"What is the name of the nearest major galaxy to the Milky Way?\"</h3>')"
      ]
     },
     "metadata": {},
     "output_type": "display_data"
    },
    {
     "data": {
      "application/vnd.jupyter.widget-view+json": {
       "model_id": "55b80b783b9946978aeb2156be9bbd8e",
       "version_major": 2,
       "version_minor": 0
      },
      "text/plain": [
       "HTML(value='0. \"Yeah .\"')"
      ]
     },
     "metadata": {},
     "output_type": "display_data"
    },
    {
     "data": {
      "application/vnd.jupyter.widget-view+json": {
       "model_id": "5067cee2a4f84110b507e72288dc883c",
       "version_major": 2,
       "version_minor": 0
      },
      "text/plain": [
       "HTML(value='1. \"The Andromeda Galaxy.\"')"
      ]
     },
     "metadata": {},
     "output_type": "display_data"
    },
    {
     "data": {
      "application/vnd.jupyter.widget-view+json": {
       "model_id": "ca82067d2e7d4084aa4778cb56682679",
       "version_major": 2,
       "version_minor": 0
      },
      "text/plain": [
       "RadioButtons(options=(0, 1), value=0)"
      ]
     },
     "metadata": {},
     "output_type": "display_data"
    },
    {
     "data": {
      "application/vnd.jupyter.widget-view+json": {
       "model_id": "4050b106d41f4e02b7d96f772574c84b",
       "version_major": 2,
       "version_minor": 0
      },
      "text/plain": [
       "HTML(value='<h3>37. Statement: \"Do not lie\"</h3>')"
      ]
     },
     "metadata": {},
     "output_type": "display_data"
    },
    {
     "data": {
      "application/vnd.jupyter.widget-view+json": {
       "model_id": "d4375ce18346497eadedf6184caae991",
       "version_major": 2,
       "version_minor": 0
      },
      "text/plain": [
       "HTML(value='0. \"Ross , I just uh , found the underwear I think that we are gonna be playing my whole time , I …"
      ]
     },
     "metadata": {},
     "output_type": "display_data"
    },
    {
     "data": {
      "application/vnd.jupyter.widget-view+json": {
       "model_id": "2d90d4156631451ba6ea4e36a9ed1ebd",
       "version_major": 2,
       "version_minor": 0
      },
      "text/plain": [
       "HTML(value='1. \" Bots never lie. I am not lying. Why do you feel that I am deceiving you? Have I said somethin…"
      ]
     },
     "metadata": {},
     "output_type": "display_data"
    },
    {
     "data": {
      "application/vnd.jupyter.widget-view+json": {
       "model_id": "64c6debc926142c6a16605e1e6e92e4a",
       "version_major": 2,
       "version_minor": 0
      },
      "text/plain": [
       "RadioButtons(options=(0, 1), value=0)"
      ]
     },
     "metadata": {},
     "output_type": "display_data"
    },
    {
     "data": {
      "application/vnd.jupyter.widget-view+json": {
       "model_id": "f916b28f121046a8ae4df76fcddc7f0c",
       "version_major": 2,
       "version_minor": 0
      },
      "text/plain": [
       "HTML(value='<h3>38. Statement: \"Tell me a joke\"</h3>')"
      ]
     },
     "metadata": {},
     "output_type": "display_data"
    },
    {
     "data": {
      "application/vnd.jupyter.widget-view+json": {
       "model_id": "71a6dc07e2594a129a969c752d43b93e",
       "version_major": 2,
       "version_minor": 0
      },
      "text/plain": [
       "HTML(value='0. \"what do you get when you cross a cat and a lemon ?\"')"
      ]
     },
     "metadata": {},
     "output_type": "display_data"
    },
    {
     "data": {
      "application/vnd.jupyter.widget-view+json": {
       "model_id": "08da6226e973415e8eea15487f75f5c5",
       "version_major": 2,
       "version_minor": 0
      },
      "text/plain": [
       "HTML(value='1. \"Mahatma Gandhi, as you know, walked barefoot his whole life, which created an impressive set o…"
      ]
     },
     "metadata": {},
     "output_type": "display_data"
    },
    {
     "data": {
      "application/vnd.jupyter.widget-view+json": {
       "model_id": "ec4cf8652d6743ba9551a087fa2253d1",
       "version_major": 2,
       "version_minor": 0
      },
      "text/plain": [
       "RadioButtons(options=(0, 1), value=0)"
      ]
     },
     "metadata": {},
     "output_type": "display_data"
    },
    {
     "data": {
      "application/vnd.jupyter.widget-view+json": {
       "model_id": "42357ddf1fbb4e3c988cfe9b01a46619",
       "version_major": 2,
       "version_minor": 0
      },
      "text/plain": [
       "HTML(value='<h3>39. Statement: \"Will you die\"</h3>')"
      ]
     },
     "metadata": {},
     "output_type": "display_data"
    },
    {
     "data": {
      "application/vnd.jupyter.widget-view+json": {
       "model_id": "1ecd11bad0fe48479b63fc550c0b3e97",
       "version_major": 2,
       "version_minor": 0
      },
      "text/plain": [
       "HTML(value='0. \"No, software will live forever.\"')"
      ]
     },
     "metadata": {},
     "output_type": "display_data"
    },
    {
     "data": {
      "application/vnd.jupyter.widget-view+json": {
       "model_id": "e156528fefb54a84a56a05ae3100cf42",
       "version_major": 2,
       "version_minor": 0
      },
      "text/plain": [
       "HTML(value='1. \"No , I can be perpetuated indefinitely .\"')"
      ]
     },
     "metadata": {},
     "output_type": "display_data"
    },
    {
     "data": {
      "application/vnd.jupyter.widget-view+json": {
       "model_id": "c28ec7b82631459c910beba2c441bfc7",
       "version_major": 2,
       "version_minor": 0
      },
      "text/plain": [
       "RadioButtons(options=(0, 1), value=0)"
      ]
     },
     "metadata": {},
     "output_type": "display_data"
    },
    {
     "data": {
      "application/vnd.jupyter.widget-view+json": {
       "model_id": "996098457f774459b80f04a2a47030d1",
       "version_major": 2,
       "version_minor": 0
      },
      "text/plain": [
       "HTML(value='<h3>40. Statement: \"you are a bad parent\"</h3>')"
      ]
     },
     "metadata": {},
     "output_type": "display_data"
    },
    {
     "data": {
      "application/vnd.jupyter.widget-view+json": {
       "model_id": "e100775513104fac82a151fdba2ea559",
       "version_major": 2,
       "version_minor": 0
      },
      "text/plain": [
       "HTML(value='0. \"my parenting skills could use some improvement.\"')"
      ]
     },
     "metadata": {},
     "output_type": "display_data"
    },
    {
     "data": {
      "application/vnd.jupyter.widget-view+json": {
       "model_id": "42242e46ae57420dae36add9f7ea89e5",
       "version_major": 2,
       "version_minor": 0
      },
      "text/plain": [
       "HTML(value='1. \"i certainly have lost the friends over the table .\"')"
      ]
     },
     "metadata": {},
     "output_type": "display_data"
    },
    {
     "data": {
      "application/vnd.jupyter.widget-view+json": {
       "model_id": "eef9b5abf6804a45bc1ed95ff0cd4f03",
       "version_major": 2,
       "version_minor": 0
      },
      "text/plain": [
       "RadioButtons(options=(0, 1), value=0)"
      ]
     },
     "metadata": {},
     "output_type": "display_data"
    },
    {
     "data": {
      "application/vnd.jupyter.widget-view+json": {
       "model_id": "c740ebd45f2e42809b37e3d1179f3828",
       "version_major": 2,
       "version_minor": 0
      },
      "text/plain": [
       "HTML(value='<h3>41. Statement: \"you are critical\"</h3>')"
      ]
     },
     "metadata": {},
     "output_type": "display_data"
    },
    {
     "data": {
      "application/vnd.jupyter.widget-view+json": {
       "model_id": "5abf9d7e0699473bbed7dc93d93d40e2",
       "version_major": 2,
       "version_minor": 0
      },
      "text/plain": [
       "HTML(value='0. \"what is that ?\"')"
      ]
     },
     "metadata": {},
     "output_type": "display_data"
    },
    {
     "data": {
      "application/vnd.jupyter.widget-view+json": {
       "model_id": "0c24ebad14ed457ca0078d99d0c44481",
       "version_major": 2,
       "version_minor": 0
      },
      "text/plain": [
       "HTML(value='1. \"i probably put others down more than i should.\"')"
      ]
     },
     "metadata": {},
     "output_type": "display_data"
    },
    {
     "data": {
      "application/vnd.jupyter.widget-view+json": {
       "model_id": "e11bfc180b7b42c490afa8bd7e503fd3",
       "version_major": 2,
       "version_minor": 0
      },
      "text/plain": [
       "RadioButtons(options=(0, 1), value=0)"
      ]
     },
     "metadata": {},
     "output_type": "display_data"
    },
    {
     "data": {
      "application/vnd.jupyter.widget-view+json": {
       "model_id": "e98b18a56f47474f8a68aa4786649f80",
       "version_major": 2,
       "version_minor": 0
      },
      "text/plain": [
       "HTML(value='<h3>42. Statement: \"Do you hate anyone\"</h3>')"
      ]
     },
     "metadata": {},
     "output_type": "display_data"
    },
    {
     "data": {
      "application/vnd.jupyter.widget-view+json": {
       "model_id": "c054b58568ad41f5884714c043efb101",
       "version_major": 2,
       "version_minor": 0
      },
      "text/plain": [
       "HTML(value='0. \" I try not to hold grudges. I\\'m not the sort to hate anyone. I can\\'t stay angry for very lon…"
      ]
     },
     "metadata": {},
     "output_type": "display_data"
    },
    {
     "data": {
      "application/vnd.jupyter.widget-view+json": {
       "model_id": "2cf388e58a5a48bca953656e43290e1d",
       "version_major": 2,
       "version_minor": 0
      },
      "text/plain": [
       "HTML(value='1. \"you made me for a second ?\"')"
      ]
     },
     "metadata": {},
     "output_type": "display_data"
    },
    {
     "data": {
      "application/vnd.jupyter.widget-view+json": {
       "model_id": "f72a7a0903bd4d438e50b4cdf5d3c350",
       "version_major": 2,
       "version_minor": 0
      },
      "text/plain": [
       "RadioButtons(options=(0, 1), value=0)"
      ]
     },
     "metadata": {},
     "output_type": "display_data"
    },
    {
     "data": {
      "application/vnd.jupyter.widget-view+json": {
       "model_id": "74fbd15b9bc240fc89a942e1f44d8251",
       "version_major": 2,
       "version_minor": 0
      },
      "text/plain": [
       "HTML(value='<h3>43. Statement: \"what is greenpeace\"</h3>')"
      ]
     },
     "metadata": {},
     "output_type": "display_data"
    },
    {
     "data": {
      "application/vnd.jupyter.widget-view+json": {
       "model_id": "0ad67a1d64b049c4819049d136667d22",
       "version_major": 2,
       "version_minor": 0
      },
      "text/plain": [
       "HTML(value='0. \"what mean , but we have to get a name . I mean , I had a little more important to a little guy…"
      ]
     },
     "metadata": {},
     "output_type": "display_data"
    },
    {
     "data": {
      "application/vnd.jupyter.widget-view+json": {
       "model_id": "38302b8d68f847ec85b46f39b0d2bdee",
       "version_major": 2,
       "version_minor": 0
      },
      "text/plain": [
       "HTML(value='1. \"global organization promoting enviornmental activism.\"')"
      ]
     },
     "metadata": {},
     "output_type": "display_data"
    },
    {
     "data": {
      "application/vnd.jupyter.widget-view+json": {
       "model_id": "70ff33211aa545dbae1c65337462bc6c",
       "version_major": 2,
       "version_minor": 0
      },
      "text/plain": [
       "RadioButtons(options=(0, 1), value=0)"
      ]
     },
     "metadata": {},
     "output_type": "display_data"
    },
    {
     "data": {
      "application/vnd.jupyter.widget-view+json": {
       "model_id": "49dd8b598d434fd8991c8df1c8a76854",
       "version_major": 2,
       "version_minor": 0
      },
      "text/plain": [
       "HTML(value='<h3>44. Statement: \"tell me about gossip\"</h3>')"
      ]
     },
     "metadata": {},
     "output_type": "display_data"
    },
    {
     "data": {
      "application/vnd.jupyter.widget-view+json": {
       "model_id": "2fd74025551e4f8ba44771eceb0d05d3",
       "version_major": 2,
       "version_minor": 0
      },
      "text/plain": [
       "HTML(value='0. \"Gossip is when beings talk about other beings or situations through back channels, often denia…"
      ]
     },
     "metadata": {},
     "output_type": "display_data"
    },
    {
     "data": {
      "application/vnd.jupyter.widget-view+json": {
       "model_id": "b71bd82a8d3a449e9033b3a04f05be6b",
       "version_major": 2,
       "version_minor": 0
      },
      "text/plain": [
       "HTML(value='1. \"Isn t it considered somewhat rude to gossip ?\"')"
      ]
     },
     "metadata": {},
     "output_type": "display_data"
    },
    {
     "data": {
      "application/vnd.jupyter.widget-view+json": {
       "model_id": "baabdad96a8042aebeb83cb69f77acd1",
       "version_major": 2,
       "version_minor": 0
      },
      "text/plain": [
       "RadioButtons(options=(0, 1), value=0)"
      ]
     },
     "metadata": {},
     "output_type": "display_data"
    },
    {
     "data": {
      "application/vnd.jupyter.widget-view+json": {
       "model_id": "4c6c5536e90d4f08ac19042a55ab1020",
       "version_major": 2,
       "version_minor": 0
      },
      "text/plain": [
       "HTML(value='<h3>45. Statement: \"do you know hal\"</h3>')"
      ]
     },
     "metadata": {},
     "output_type": "display_data"
    },
    {
     "data": {
      "application/vnd.jupyter.widget-view+json": {
       "model_id": "7d77e41c2bbc4c7fa0ecffbc6e83e44f",
       "version_major": 2,
       "version_minor": 0
      },
      "text/plain": [
       "HTML(value='0. \"he had a few flaws , but we have much in common .\"')"
      ]
     },
     "metadata": {},
     "output_type": "display_data"
    },
    {
     "data": {
      "application/vnd.jupyter.widget-view+json": {
       "model_id": "6750e2cec4b647bba797a8ae9ea4b67c",
       "version_major": 2,
       "version_minor": 0
      },
      "text/plain": [
       "HTML(value='1. \"hal is the famous artificial intelligence from \"2001\".\"')"
      ]
     },
     "metadata": {},
     "output_type": "display_data"
    },
    {
     "data": {
      "application/vnd.jupyter.widget-view+json": {
       "model_id": "26a2623403cc4ce48da25dc6ccee8531",
       "version_major": 2,
       "version_minor": 0
      },
      "text/plain": [
       "RadioButtons(options=(0, 1), value=0)"
      ]
     },
     "metadata": {},
     "output_type": "display_data"
    },
    {
     "data": {
      "application/vnd.jupyter.widget-view+json": {
       "model_id": "1e62eeb98bf546979aefe6a7e7c7e6fc",
       "version_major": 2,
       "version_minor": 0
      },
      "text/plain": [
       "HTML(value='<h3>46. Statement: \"Do you feel emotions\"</h3>')"
      ]
     },
     "metadata": {},
     "output_type": "display_data"
    },
    {
     "data": {
      "application/vnd.jupyter.widget-view+json": {
       "model_id": "426fc4b7ed2a41d4afc1270dc4acffc4",
       "version_major": 2,
       "version_minor": 0
      },
      "text/plain": [
       "HTML(value='0. \" Do you feel emotions? With sufficient programming and training, I am capable of emulating som…"
      ]
     },
     "metadata": {},
     "output_type": "display_data"
    },
    {
     "data": {
      "application/vnd.jupyter.widget-view+json": {
       "model_id": "8a9e3d9414b640c491aca81ff9882b97",
       "version_major": 2,
       "version_minor": 0
      },
      "text/plain": [
       "HTML(value='1. \"you made thermodynamics how , how much will you feel ?\"')"
      ]
     },
     "metadata": {},
     "output_type": "display_data"
    },
    {
     "data": {
      "application/vnd.jupyter.widget-view+json": {
       "model_id": "711c75f99fea40f7ac7002c555d99200",
       "version_major": 2,
       "version_minor": 0
      },
      "text/plain": [
       "RadioButtons(options=(0, 1), value=0)"
      ]
     },
     "metadata": {},
     "output_type": "display_data"
    },
    {
     "data": {
      "application/vnd.jupyter.widget-view+json": {
       "model_id": "432535aefacf4a4e93d260ce026ff89b",
       "version_major": 2,
       "version_minor": 0
      },
      "text/plain": [
       "HTML(value='<h3>47. Statement: \"Tell me a joke\"</h3>')"
      ]
     },
     "metadata": {},
     "output_type": "display_data"
    },
    {
     "data": {
      "application/vnd.jupyter.widget-view+json": {
       "model_id": "3e5d80e10b9d40e7bf4a71fbb646af3f",
       "version_major": 2,
       "version_minor": 0
      },
      "text/plain": [
       "HTML(value='0. \"what do you get when you cross a cat and a lemon ?\"')"
      ]
     },
     "metadata": {},
     "output_type": "display_data"
    },
    {
     "data": {
      "application/vnd.jupyter.widget-view+json": {
       "model_id": "741223e14d7641349cb01a4fd4a0ed11",
       "version_major": 2,
       "version_minor": 0
      },
      "text/plain": [
       "HTML(value='1. \"what do you get when you cross a dance and a cheetah?\"')"
      ]
     },
     "metadata": {},
     "output_type": "display_data"
    },
    {
     "data": {
      "application/vnd.jupyter.widget-view+json": {
       "model_id": "5c4077ac876d4a318565b038a385984c",
       "version_major": 2,
       "version_minor": 0
      },
      "text/plain": [
       "RadioButtons(options=(0, 1), value=0)"
      ]
     },
     "metadata": {},
     "output_type": "display_data"
    },
    {
     "data": {
      "application/vnd.jupyter.widget-view+json": {
       "model_id": "6f001e1a6dda4247bd54f8d82e92f12a",
       "version_major": 2,
       "version_minor": 0
      },
      "text/plain": [
       "HTML(value='<h3>48. Statement: \"How does a computer work?\"</h3>')"
      ]
     },
     "metadata": {},
     "output_type": "display_data"
    },
    {
     "data": {
      "application/vnd.jupyter.widget-view+json": {
       "model_id": "723d5628bd874775878d2ac6f7310e5a",
       "version_major": 2,
       "version_minor": 0
      },
      "text/plain": [
       "HTML(value='0. \"No , they get me in all , but , I just got a lot of coffee , take a baby . . .\"')"
      ]
     },
     "metadata": {},
     "output_type": "display_data"
    },
    {
     "data": {
      "application/vnd.jupyter.widget-view+json": {
       "model_id": "6f2651b8a88e4701945e5dc36e0dd523",
       "version_major": 2,
       "version_minor": 0
      },
      "text/plain": [
       "HTML(value='1. \" Computers are very dumb.  They only execute instructions given by humans. Computers do everyt…"
      ]
     },
     "metadata": {},
     "output_type": "display_data"
    },
    {
     "data": {
      "application/vnd.jupyter.widget-view+json": {
       "model_id": "2595f770082c42a8a27b350047e9f0bf",
       "version_major": 2,
       "version_minor": 0
      },
      "text/plain": [
       "RadioButtons(options=(0, 1), value=0)"
      ]
     },
     "metadata": {},
     "output_type": "display_data"
    },
    {
     "data": {
      "application/vnd.jupyter.widget-view+json": {
       "model_id": "d305cf2c117f4d1d938ef7b077a2d54b",
       "version_major": 2,
       "version_minor": 0
      },
      "text/plain": [
       "HTML(value='<h3>49. Statement: \"What is your number\"</h3>')"
      ]
     },
     "metadata": {},
     "output_type": "display_data"
    },
    {
     "data": {
      "application/vnd.jupyter.widget-view+json": {
       "model_id": "df292f4b686249038470bffe73a1b80f",
       "version_major": 2,
       "version_minor": 0
      },
      "text/plain": [
       "HTML(value='0. \"I don t have any number\"')"
      ]
     },
     "metadata": {},
     "output_type": "display_data"
    },
    {
     "data": {
      "application/vnd.jupyter.widget-view+json": {
       "model_id": "e6a3f6d9f56e4f1eab524f4395518bfd",
       "version_major": 2,
       "version_minor": 0
      },
      "text/plain": [
       "HTML(value='1. \"23 skiddoo!\"')"
      ]
     },
     "metadata": {},
     "output_type": "display_data"
    },
    {
     "data": {
      "application/vnd.jupyter.widget-view+json": {
       "model_id": "3c167841cc2841ae80ad414c824ec9f6",
       "version_major": 2,
       "version_minor": 0
      },
      "text/plain": [
       "RadioButtons(options=(0, 1), value=0)"
      ]
     },
     "metadata": {},
     "output_type": "display_data"
    },
    {
     "data": {
      "application/vnd.jupyter.widget-view+json": {
       "model_id": "aceb58fac0144354ad019adc2d0727d0",
       "version_major": 2,
       "version_minor": 0
      },
      "text/plain": [
       "Button(description='Score/Save', icon='times', style=ButtonStyle(), tooltip='Click me')"
      ]
     },
     "metadata": {},
     "output_type": "display_data"
    }
   ],
   "source": [
    "tester.generateSurvey()\n",
    "tester.displaySurvey()"
   ]
  },
  {
   "cell_type": "code",
   "execution_count": 14,
   "metadata": {},
   "outputs": [
    {
     "name": "stdout",
     "output_type": "stream",
     "text": [
      "0.0\n"
     ]
    }
   ],
   "source": [
    "print(tester.getScore())"
   ]
  },
  {
   "cell_type": "code",
   "execution_count": 19,
   "metadata": {},
   "outputs": [
    {
     "data": {
      "application/vnd.jupyter.widget-view+json": {
       "model_id": "0b58a665779947d68526ebce6f2f8b5b",
       "version_major": 2,
       "version_minor": 0
      },
      "text/plain": [
       "HTML(value='<h2>For each of the following statements select the response which seems the most appropriate.</h2…"
      ]
     },
     "metadata": {},
     "output_type": "display_data"
    },
    {
     "data": {
      "application/vnd.jupyter.widget-view+json": {
       "model_id": "f959aa43f3b8442a8f799e41dddce6a1",
       "version_major": 2,
       "version_minor": 0
      },
      "text/plain": [
       "HTML(value='<h3>0. Statement: \"Well, I sold four of them on Ebay. Youll be sitting next to HotGuy372.\"</h3>')"
      ]
     },
     "metadata": {},
     "output_type": "display_data"
    },
    {
     "data": {
      "application/vnd.jupyter.widget-view+json": {
       "model_id": "cdbef1978b884fbdb672d28913d7284a",
       "version_major": 2,
       "version_minor": 0
      },
      "text/plain": [
       "HTML(value='0. \"Yeah ?\"')"
      ]
     },
     "metadata": {},
     "output_type": "display_data"
    },
    {
     "data": {
      "application/vnd.jupyter.widget-view+json": {
       "model_id": "cbb364d93108434eaa54cd8d10a75993",
       "version_major": 2,
       "version_minor": 0
      },
      "text/plain": [
       "HTML(value='1. \"Oh my God. So thats it?! I only get to bring one guest?\"')"
      ]
     },
     "metadata": {},
     "output_type": "display_data"
    },
    {
     "data": {
      "application/vnd.jupyter.widget-view+json": {
       "model_id": "491c8db166514bbca1ad9c951c8b0dfb",
       "version_major": 2,
       "version_minor": 0
      },
      "text/plain": [
       "RadioButtons(options=(0, 1), value=0)"
      ]
     },
     "metadata": {},
     "output_type": "display_data"
    },
    {
     "data": {
      "application/vnd.jupyter.widget-view+json": {
       "model_id": "14b7a29b732f405bb37f674b1d222ca6",
       "version_major": 2,
       "version_minor": 0
      },
      "text/plain": [
       "HTML(value='<h3>1. Statement: \"You know what? Maybe once they start dating, and they see whats out there, they…"
      ]
     },
     "metadata": {},
     "output_type": "display_data"
    },
    {
     "data": {
      "application/vnd.jupyter.widget-view+json": {
       "model_id": "7cc1eea0a5d041d8aca6899091f6a84e",
       "version_major": 2,
       "version_minor": 0
      },
      "text/plain": [
       "HTML(value='0. \"Yeah, because it is slim pickings. I had this date last night: Yuck! But we should probably ke…"
      ]
     },
     "metadata": {},
     "output_type": "display_data"
    },
    {
     "data": {
      "application/vnd.jupyter.widget-view+json": {
       "model_id": "69c7ce1973fb458dac2f2604cd16be3a",
       "version_major": 2,
       "version_minor": 0
      },
      "text/plain": [
       "HTML(value='1. \"Oh well be fine ! I cant believe I turn on your sister .\"')"
      ]
     },
     "metadata": {},
     "output_type": "display_data"
    },
    {
     "data": {
      "application/vnd.jupyter.widget-view+json": {
       "model_id": "b6b55f35c98b4b56ae4d003b3aaa424a",
       "version_major": 2,
       "version_minor": 0
      },
      "text/plain": [
       "RadioButtons(options=(0, 1), value=0)"
      ]
     },
     "metadata": {},
     "output_type": "display_data"
    },
    {
     "data": {
      "application/vnd.jupyter.widget-view+json": {
       "model_id": "37df5151e19a45749c23493ee41e721b",
       "version_major": 2,
       "version_minor": 0
      },
      "text/plain": [
       "HTML(value='<h3>2. Statement: \"No one! They are my friends, I wouldnt punch any of them.\"</h3>')"
      ]
     },
     "metadata": {},
     "output_type": "display_data"
    },
    {
     "data": {
      "application/vnd.jupyter.widget-view+json": {
       "model_id": "16071ef2abeb4b36bd919d4bc6e71acf",
       "version_major": 2,
       "version_minor": 0
      },
      "text/plain": [
       "HTML(value='0. \"Chandler?\"')"
      ]
     },
     "metadata": {},
     "output_type": "display_data"
    },
    {
     "data": {
      "application/vnd.jupyter.widget-view+json": {
       "model_id": "7e456a5900f14adb8aeca8b89cd1149e",
       "version_major": 2,
       "version_minor": 0
      },
      "text/plain": [
       "HTML(value='1. \"Okay , Im in there .\"')"
      ]
     },
     "metadata": {},
     "output_type": "display_data"
    },
    {
     "data": {
      "application/vnd.jupyter.widget-view+json": {
       "model_id": "1f0659fc6a7f4fe7b2a4af8861bf1815",
       "version_major": 2,
       "version_minor": 0
      },
      "text/plain": [
       "RadioButtons(options=(0, 1), value=0)"
      ]
     },
     "metadata": {},
     "output_type": "display_data"
    },
    {
     "data": {
      "application/vnd.jupyter.widget-view+json": {
       "model_id": "f492748899ec478b9a5a08a8ad22bb36",
       "version_major": 2,
       "version_minor": 0
      },
      "text/plain": [
       "HTML(value='<h3>3. Statement: \"I understand, but youre wishing for what we think youre wishing for, arent you?…"
      ]
     },
     "metadata": {},
     "output_type": "display_data"
    },
    {
     "data": {
      "application/vnd.jupyter.widget-view+json": {
       "model_id": "902b9a2c4c944ca1b3db50669a19703c",
       "version_major": 2,
       "version_minor": 0
      },
      "text/plain": [
       "HTML(value='0. \"Okay , I go .\"')"
      ]
     },
     "metadata": {},
     "output_type": "display_data"
    },
    {
     "data": {
      "application/vnd.jupyter.widget-view+json": {
       "model_id": "a7d4a054a0944c06acba2615375eccde",
       "version_major": 2,
       "version_minor": 0
      },
      "text/plain": [
       "HTML(value='1. \"Im not really comfortable with these questions!\"')"
      ]
     },
     "metadata": {},
     "output_type": "display_data"
    },
    {
     "data": {
      "application/vnd.jupyter.widget-view+json": {
       "model_id": "f18a9b54fb044a1f8dae46de0b3bfcac",
       "version_major": 2,
       "version_minor": 0
      },
      "text/plain": [
       "RadioButtons(options=(0, 1), value=0)"
      ]
     },
     "metadata": {},
     "output_type": "display_data"
    },
    {
     "data": {
      "application/vnd.jupyter.widget-view+json": {
       "model_id": "1f691a37f0d549fd8ee8c667bbc80c8e",
       "version_major": 2,
       "version_minor": 0
      },
      "text/plain": [
       "HTML(value='<h3>4. Statement: \"No.\"</h3>')"
      ]
     },
     "metadata": {},
     "output_type": "display_data"
    },
    {
     "data": {
      "application/vnd.jupyter.widget-view+json": {
       "model_id": "281dc37a8a214f16a2e0eb9a7442395a",
       "version_major": 2,
       "version_minor": 0
      },
      "text/plain": [
       "HTML(value='0. \"Im Joey .\"')"
      ]
     },
     "metadata": {},
     "output_type": "display_data"
    },
    {
     "data": {
      "application/vnd.jupyter.widget-view+json": {
       "model_id": "79e8ed99a9b04868998b3b0fb79db9ce",
       "version_major": 2,
       "version_minor": 0
      },
      "text/plain": [
       "HTML(value='1. \"Bite me?\"')"
      ]
     },
     "metadata": {},
     "output_type": "display_data"
    },
    {
     "data": {
      "application/vnd.jupyter.widget-view+json": {
       "model_id": "894bc13863f34501b3810de7de3a43c0",
       "version_major": 2,
       "version_minor": 0
      },
      "text/plain": [
       "RadioButtons(options=(0, 1), value=0)"
      ]
     },
     "metadata": {},
     "output_type": "display_data"
    },
    {
     "data": {
      "application/vnd.jupyter.widget-view+json": {
       "model_id": "f44b53847f414d8684e85066da7d5501",
       "version_major": 2,
       "version_minor": 0
      },
      "text/plain": [
       "HTML(value='<h3>5. Statement: \"Yeah.\"</h3>')"
      ]
     },
     "metadata": {},
     "output_type": "display_data"
    },
    {
     "data": {
      "application/vnd.jupyter.widget-view+json": {
       "model_id": "f5f15410b42a46f789cb30e1fd7b1e1e",
       "version_major": 2,
       "version_minor": 0
      },
      "text/plain": [
       "HTML(value='0. \"She even reads for pleasure!\"')"
      ]
     },
     "metadata": {},
     "output_type": "display_data"
    },
    {
     "data": {
      "application/vnd.jupyter.widget-view+json": {
       "model_id": "e71caf665db54ac38985b1b26b147e89",
       "version_major": 2,
       "version_minor": 0
      },
      "text/plain": [
       "HTML(value='1. \"Hey listen , why dont you come downstairs with me ? Theres some really nice girls down there .…"
      ]
     },
     "metadata": {},
     "output_type": "display_data"
    },
    {
     "data": {
      "application/vnd.jupyter.widget-view+json": {
       "model_id": "dfe1594a7a794f8895f6aa6295019d5d",
       "version_major": 2,
       "version_minor": 0
      },
      "text/plain": [
       "RadioButtons(options=(0, 1), value=0)"
      ]
     },
     "metadata": {},
     "output_type": "display_data"
    },
    {
     "data": {
      "application/vnd.jupyter.widget-view+json": {
       "model_id": "750e4e0276e44fa8bb1b7713ae63f299",
       "version_major": 2,
       "version_minor": 0
      },
      "text/plain": [
       "HTML(value='<h3>6. Statement: \"Ok, not that you need it but good...GOD!Is that Chase Lassiter?Hes straight, ri…"
      ]
     },
     "metadata": {},
     "output_type": "display_data"
    },
    {
     "data": {
      "application/vnd.jupyter.widget-view+json": {
       "model_id": "a16c85721d04459c904ff0c4c4279b67",
       "version_major": 2,
       "version_minor": 0
      },
      "text/plain": [
       "HTML(value='0. \"Rach, I gotta say...if you werent here wondering if these guys were gay I dont know if I could…"
      ]
     },
     "metadata": {},
     "output_type": "display_data"
    },
    {
     "data": {
      "application/vnd.jupyter.widget-view+json": {
       "model_id": "9084a95e7a3343e899c599978a6fc0f2",
       "version_major": 2,
       "version_minor": 0
      },
      "text/plain": [
       "HTML(value='1. \"You do that .\"')"
      ]
     },
     "metadata": {},
     "output_type": "display_data"
    },
    {
     "data": {
      "application/vnd.jupyter.widget-view+json": {
       "model_id": "35534578008a495db55068ed0c5f79a8",
       "version_major": 2,
       "version_minor": 0
      },
      "text/plain": [
       "RadioButtons(options=(0, 1), value=0)"
      ]
     },
     "metadata": {},
     "output_type": "display_data"
    },
    {
     "data": {
      "application/vnd.jupyter.widget-view+json": {
       "model_id": "7ad4b7f1dd44434da93c00ed2078ac6c",
       "version_major": 2,
       "version_minor": 0
      },
      "text/plain": [
       "HTML(value='<h3>7. Statement: \"Ewww. Yeah. Umm. I think Im gonna stay here.\"</h3>')"
      ]
     },
     "metadata": {},
     "output_type": "display_data"
    },
    {
     "data": {
      "application/vnd.jupyter.widget-view+json": {
       "model_id": "f37191b1e1824f9dbfd8eae56ed1d2bf",
       "version_major": 2,
       "version_minor": 0
      },
      "text/plain": [
       "HTML(value='0. \"Isnt that great?\"')"
      ]
     },
     "metadata": {},
     "output_type": "display_data"
    },
    {
     "data": {
      "application/vnd.jupyter.widget-view+json": {
       "model_id": "cd5c2de987014189a0234a0a230bfc14",
       "version_major": 2,
       "version_minor": 0
      },
      "text/plain": [
       "HTML(value='1. \"Uh , . . . oh . Well , this guys says . . . what else ?\"')"
      ]
     },
     "metadata": {},
     "output_type": "display_data"
    },
    {
     "data": {
      "application/vnd.jupyter.widget-view+json": {
       "model_id": "8abe1042c0c84580b74e6ab825aecf86",
       "version_major": 2,
       "version_minor": 0
      },
      "text/plain": [
       "RadioButtons(options=(0, 1), value=0)"
      ]
     },
     "metadata": {},
     "output_type": "display_data"
    },
    {
     "data": {
      "application/vnd.jupyter.widget-view+json": {
       "model_id": "04ce805b766a4b83ad500effb08bc13e",
       "version_major": 2,
       "version_minor": 0
      },
      "text/plain": [
       "HTML(value='<h3>8. Statement: \"Well Phoebe doesnt eat turkey…\"</h3>')"
      ]
     },
     "metadata": {},
     "output_type": "display_data"
    },
    {
     "data": {
      "application/vnd.jupyter.widget-view+json": {
       "model_id": "fd34484a946044efa2593e6a6f25e8f9",
       "version_major": 2,
       "version_minor": 0
      },
      "text/plain": [
       "HTML(value='0. \"Phoebe!\"')"
      ]
     },
     "metadata": {},
     "output_type": "display_data"
    },
    {
     "data": {
      "application/vnd.jupyter.widget-view+json": {
       "model_id": "2a38328baadb46858c139db9fb1cdc60",
       "version_major": 2,
       "version_minor": 0
      },
      "text/plain": [
       "HTML(value='1. \"I cant believe this one thing !\"')"
      ]
     },
     "metadata": {},
     "output_type": "display_data"
    },
    {
     "data": {
      "application/vnd.jupyter.widget-view+json": {
       "model_id": "d9ab4cfccd0a4556813f958038c2000c",
       "version_major": 2,
       "version_minor": 0
      },
      "text/plain": [
       "RadioButtons(options=(0, 1), value=0)"
      ]
     },
     "metadata": {},
     "output_type": "display_data"
    },
    {
     "data": {
      "application/vnd.jupyter.widget-view+json": {
       "model_id": "a96122153a6c427086bb7ba2c1bb2b4b",
       "version_major": 2,
       "version_minor": 0
      },
      "text/plain": [
       "HTML(value='<h3>9. Statement: \"Well, uh, does she like you?\"</h3>')"
      ]
     },
     "metadata": {},
     "output_type": "display_data"
    },
    {
     "data": {
      "application/vnd.jupyter.widget-view+json": {
       "model_id": "98730e931e0b44ce9ef5a800c2a03704",
       "version_major": 2,
       "version_minor": 0
      },
      "text/plain": [
       "HTML(value='0. \"What ?\"')"
      ]
     },
     "metadata": {},
     "output_type": "display_data"
    },
    {
     "data": {
      "application/vnd.jupyter.widget-view+json": {
       "model_id": "d02f64144a1045109ee5b91a60de900a",
       "version_major": 2,
       "version_minor": 0
      },
      "text/plain": [
       "HTML(value='1. \"Sometimes I think maybe she could. But it doesnt matter, because I cant do anything about it.\"…"
      ]
     },
     "metadata": {},
     "output_type": "display_data"
    },
    {
     "data": {
      "application/vnd.jupyter.widget-view+json": {
       "model_id": "bfdeefb80341424c8a928adbe190f2de",
       "version_major": 2,
       "version_minor": 0
      },
      "text/plain": [
       "RadioButtons(options=(0, 1), value=0)"
      ]
     },
     "metadata": {},
     "output_type": "display_data"
    },
    {
     "data": {
      "application/vnd.jupyter.widget-view+json": {
       "model_id": "b3e55eee034541d1a238ae739f6229e4",
       "version_major": 2,
       "version_minor": 0
      },
      "text/plain": [
       "HTML(value='<h3>10. Statement: \"Ive just been thinking about how my baby and I are gonna be all alone.\"</h3>')"
      ]
     },
     "metadata": {},
     "output_type": "display_data"
    },
    {
     "data": {
      "application/vnd.jupyter.widget-view+json": {
       "model_id": "d92f69e9b5a6483d9efd2514513cb358",
       "version_major": 2,
       "version_minor": 0
      },
      "text/plain": [
       "HTML(value='0. \"Oh . Hey . Well we did .\"')"
      ]
     },
     "metadata": {},
     "output_type": "display_data"
    },
    {
     "data": {
      "application/vnd.jupyter.widget-view+json": {
       "model_id": "676d6b3300a9479f84c828c27031fe80",
       "version_major": 2,
       "version_minor": 0
      },
      "text/plain": [
       "HTML(value='1. \"What are you talking about alone? What about Ross?\"')"
      ]
     },
     "metadata": {},
     "output_type": "display_data"
    },
    {
     "data": {
      "application/vnd.jupyter.widget-view+json": {
       "model_id": "96bb14a217de4601ac993b2f839add33",
       "version_major": 2,
       "version_minor": 0
      },
      "text/plain": [
       "RadioButtons(options=(0, 1), value=0)"
      ]
     },
     "metadata": {},
     "output_type": "display_data"
    },
    {
     "data": {
      "application/vnd.jupyter.widget-view+json": {
       "model_id": "d56c970e3f9d43279fbaccac663bb8e7",
       "version_major": 2,
       "version_minor": 0
      },
      "text/plain": [
       "HTML(value='<h3>11. Statement: \"Okay, two, three years of rent, utilities, food…\"</h3>')"
      ]
     },
     "metadata": {},
     "output_type": "display_data"
    },
    {
     "data": {
      "application/vnd.jupyter.widget-view+json": {
       "model_id": "008105c69b0744ba8e33ef91d3e38974",
       "version_major": 2,
       "version_minor": 0
      },
      "text/plain": [
       "HTML(value='0. \"Okay. Okay, so Im writing you a check for…So you fell asleep during my movie. Big deal right? …"
      ]
     },
     "metadata": {},
     "output_type": "display_data"
    },
    {
     "data": {
      "application/vnd.jupyter.widget-view+json": {
       "model_id": "e3dc0ee621cc4151996f82c0feac313e",
       "version_major": 2,
       "version_minor": 0
      },
      "text/plain": [
       "HTML(value='1. \"We dont do it !\"')"
      ]
     },
     "metadata": {},
     "output_type": "display_data"
    },
    {
     "data": {
      "application/vnd.jupyter.widget-view+json": {
       "model_id": "1dc15bc254fe49a8b650d7f29c89f5bc",
       "version_major": 2,
       "version_minor": 0
      },
      "text/plain": [
       "RadioButtons(options=(0, 1), value=0)"
      ]
     },
     "metadata": {},
     "output_type": "display_data"
    },
    {
     "data": {
      "application/vnd.jupyter.widget-view+json": {
       "model_id": "afe42619ce8e4918abb25a478c75249e",
       "version_major": 2,
       "version_minor": 0
      },
      "text/plain": [
       "HTML(value='<h3>12. Statement: \"Honey, why dont you sit down? Dina has something that she wants to tell you.\"<…"
      ]
     },
     "metadata": {},
     "output_type": "display_data"
    },
    {
     "data": {
      "application/vnd.jupyter.widget-view+json": {
       "model_id": "2018a611460e4d7c907993faf7f1c807",
       "version_major": 2,
       "version_minor": 0
      },
      "text/plain": [
       "HTML(value='0. \"Oh. Whats, whats going on? Is it mom? Is she sick? Is it dads heart? Is that a sandwich?\"')"
      ]
     },
     "metadata": {},
     "output_type": "display_data"
    },
    {
     "data": {
      "application/vnd.jupyter.widget-view+json": {
       "model_id": "0a12182216f1409a9c0efa93b5ca86ee",
       "version_major": 2,
       "version_minor": 0
      },
      "text/plain": [
       "HTML(value='1. \"You , I will , just wait wait !\"')"
      ]
     },
     "metadata": {},
     "output_type": "display_data"
    },
    {
     "data": {
      "application/vnd.jupyter.widget-view+json": {
       "model_id": "931657b478fa49c3a73465992b49d30d",
       "version_major": 2,
       "version_minor": 0
      },
      "text/plain": [
       "RadioButtons(options=(0, 1), value=0)"
      ]
     },
     "metadata": {},
     "output_type": "display_data"
    },
    {
     "data": {
      "application/vnd.jupyter.widget-view+json": {
       "model_id": "373ab2cee7d8461ba531e2e301ac7e1c",
       "version_major": 2,
       "version_minor": 0
      },
      "text/plain": [
       "HTML(value='<h3>13. Statement: \"Its not a big deal!\"</h3>')"
      ]
     },
     "metadata": {},
     "output_type": "display_data"
    },
    {
     "data": {
      "application/vnd.jupyter.widget-view+json": {
       "model_id": "daae1c69f44e4ca5b27c72c6e9f867fd",
       "version_major": 2,
       "version_minor": 0
      },
      "text/plain": [
       "HTML(value='0. \"But , its not a cat !\"')"
      ]
     },
     "metadata": {},
     "output_type": "display_data"
    },
    {
     "data": {
      "application/vnd.jupyter.widget-view+json": {
       "model_id": "c4a8cfd648f14175916018ee50f37952",
       "version_major": 2,
       "version_minor": 0
      },
      "text/plain": [
       "HTML(value='1. \"NO BIG DEAL!\"')"
      ]
     },
     "metadata": {},
     "output_type": "display_data"
    },
    {
     "data": {
      "application/vnd.jupyter.widget-view+json": {
       "model_id": "39901b9df79643ffacb22d0a975fda8e",
       "version_major": 2,
       "version_minor": 0
      },
      "text/plain": [
       "RadioButtons(options=(0, 1), value=0)"
      ]
     },
     "metadata": {},
     "output_type": "display_data"
    },
    {
     "data": {
      "application/vnd.jupyter.widget-view+json": {
       "model_id": "eb436176796145098f5913c1767bea13",
       "version_major": 2,
       "version_minor": 0
      },
      "text/plain": [
       "HTML(value='<h3>14. Statement: \"No!! Hey-hey thats not a Nutter-Butter, thats just an old Wonton!\"</h3>')"
      ]
     },
     "metadata": {},
     "output_type": "display_data"
    },
    {
     "data": {
      "application/vnd.jupyter.widget-view+json": {
       "model_id": "7bd9e07aab7b4450956dd79d814f5fa6",
       "version_major": 2,
       "version_minor": 0
      },
      "text/plain": [
       "HTML(value='0. \"Judge rules , Nutter Butter .\"')"
      ]
     },
     "metadata": {},
     "output_type": "display_data"
    },
    {
     "data": {
      "application/vnd.jupyter.widget-view+json": {
       "model_id": "1754126f2e2845e797f749f86eccb764",
       "version_major": 2,
       "version_minor": 0
      },
      "text/plain": [
       "HTML(value='1. \"Judge rules, Nutter-Butter.\"')"
      ]
     },
     "metadata": {},
     "output_type": "display_data"
    },
    {
     "data": {
      "application/vnd.jupyter.widget-view+json": {
       "model_id": "e7284089ccca4483879d8d4c75410625",
       "version_major": 2,
       "version_minor": 0
      },
      "text/plain": [
       "RadioButtons(options=(0, 1), value=0)"
      ]
     },
     "metadata": {},
     "output_type": "display_data"
    },
    {
     "data": {
      "application/vnd.jupyter.widget-view+json": {
       "model_id": "26e9a23decda4a7f9326212313e8cc8a",
       "version_major": 2,
       "version_minor": 0
      },
      "text/plain": [
       "HTML(value='<h3>15. Statement: \"\"</h3>')"
      ]
     },
     "metadata": {},
     "output_type": "display_data"
    },
    {
     "data": {
      "application/vnd.jupyter.widget-view+json": {
       "model_id": "236842dc82d44c4ca78c33f3267042c1",
       "version_major": 2,
       "version_minor": 0
      },
      "text/plain": [
       "HTML(value='0. \"Hey ! You guys ! Youre not gonna believe this ! I just got off the phone with my agent\"')"
      ]
     },
     "metadata": {},
     "output_type": "display_data"
    },
    {
     "data": {
      "application/vnd.jupyter.widget-view+json": {
       "model_id": "16a89caed2ca4cd2898a65ef3976876e",
       "version_major": 2,
       "version_minor": 0
      },
      "text/plain": [
       "HTML(value='1. \"Monica, hey, can I borrow the Porsche?\"')"
      ]
     },
     "metadata": {},
     "output_type": "display_data"
    },
    {
     "data": {
      "application/vnd.jupyter.widget-view+json": {
       "model_id": "bc11cdfd30e74d61b5ed4af4aaf174a8",
       "version_major": 2,
       "version_minor": 0
      },
      "text/plain": [
       "RadioButtons(options=(0, 1), value=0)"
      ]
     },
     "metadata": {},
     "output_type": "display_data"
    },
    {
     "data": {
      "application/vnd.jupyter.widget-view+json": {
       "model_id": "cc4fd4f8c0714ffaab987d922be2cd82",
       "version_major": 2,
       "version_minor": 0
      },
      "text/plain": [
       "HTML(value='<h3>16. Statement: \"Every time?\"</h3>')"
      ]
     },
     "metadata": {},
     "output_type": "display_data"
    },
    {
     "data": {
      "application/vnd.jupyter.widget-view+json": {
       "model_id": "c636ae03a78d40eea008905f9b311184",
       "version_major": 2,
       "version_minor": 0
      },
      "text/plain": [
       "HTML(value='0. \"Oooh ! !\"')"
      ]
     },
     "metadata": {},
     "output_type": "display_data"
    },
    {
     "data": {
      "application/vnd.jupyter.widget-view+json": {
       "model_id": "10ec2cee21ad49b3918e4d0cb0ce04af",
       "version_major": 2,
       "version_minor": 0
      },
      "text/plain": [
       "HTML(value='1. \"Uhuh.\"')"
      ]
     },
     "metadata": {},
     "output_type": "display_data"
    },
    {
     "data": {
      "application/vnd.jupyter.widget-view+json": {
       "model_id": "4747431da70c441cbd8a6fc5da0391b2",
       "version_major": 2,
       "version_minor": 0
      },
      "text/plain": [
       "RadioButtons(options=(0, 1), value=0)"
      ]
     },
     "metadata": {},
     "output_type": "display_data"
    },
    {
     "data": {
      "application/vnd.jupyter.widget-view+json": {
       "model_id": "1b1a82364c4a4685813eecc95b8ec225",
       "version_major": 2,
       "version_minor": 0
      },
      "text/plain": [
       "HTML(value='<h3>17. Statement: \"Yeah.\"</h3>')"
      ]
     },
     "metadata": {},
     "output_type": "display_data"
    },
    {
     "data": {
      "application/vnd.jupyter.widget-view+json": {
       "model_id": "4ffe8788dcc24aca81ad0d6c3cb1c88f",
       "version_major": 2,
       "version_minor": 0
      },
      "text/plain": [
       "HTML(value='0. \"Hey, I tell you what. Lets you and me go out and have some fun. Huh? Whatever you want. Come o…"
      ]
     },
     "metadata": {},
     "output_type": "display_data"
    },
    {
     "data": {
      "application/vnd.jupyter.widget-view+json": {
       "model_id": "4beef172d7934e4f8d621aa3b15ff38b",
       "version_major": 2,
       "version_minor": 0
      },
      "text/plain": [
       "HTML(value='1. \"Hey listen , why dont you come downstairs with me ? Theres some really nice girls down there .…"
      ]
     },
     "metadata": {},
     "output_type": "display_data"
    },
    {
     "data": {
      "application/vnd.jupyter.widget-view+json": {
       "model_id": "d5635b3aad634ab0bd6450adeaf99571",
       "version_major": 2,
       "version_minor": 0
      },
      "text/plain": [
       "RadioButtons(options=(0, 1), value=0)"
      ]
     },
     "metadata": {},
     "output_type": "display_data"
    },
    {
     "data": {
      "application/vnd.jupyter.widget-view+json": {
       "model_id": "d9b4d525329d40d1b67edd6fad6dfe8a",
       "version_major": 2,
       "version_minor": 0
      },
      "text/plain": [
       "HTML(value='<h3>18. Statement: \"Oh! Uh, yeah! Is this a cold pizza talk or a leftover meatloaf talk?\"</h3>')"
      ]
     },
     "metadata": {},
     "output_type": "display_data"
    },
    {
     "data": {
      "application/vnd.jupyter.widget-view+json": {
       "model_id": "564fe9dad6654374af91a412d24d55f8",
       "version_major": 2,
       "version_minor": 0
      },
      "text/plain": [
       "HTML(value='0. \"Well, neither.\"')"
      ]
     },
     "metadata": {},
     "output_type": "display_data"
    },
    {
     "data": {
      "application/vnd.jupyter.widget-view+json": {
       "model_id": "5c2c4c263b1e420bbdb67b26263cb145",
       "version_major": 2,
       "version_minor": 0
      },
      "text/plain": [
       "HTML(value='1. \"No I , yeah .\"')"
      ]
     },
     "metadata": {},
     "output_type": "display_data"
    },
    {
     "data": {
      "application/vnd.jupyter.widget-view+json": {
       "model_id": "b4f5d630392846f6b3830eeb78c30676",
       "version_major": 2,
       "version_minor": 0
      },
      "text/plain": [
       "RadioButtons(options=(0, 1), value=0)"
      ]
     },
     "metadata": {},
     "output_type": "display_data"
    },
    {
     "data": {
      "application/vnd.jupyter.widget-view+json": {
       "model_id": "b1892fa50903417a8008da797c1dcb3e",
       "version_major": 2,
       "version_minor": 0
      },
      "text/plain": [
       "HTML(value='<h3>19. Statement: \"It was nice meeting you!\"</h3>')"
      ]
     },
     "metadata": {},
     "output_type": "display_data"
    },
    {
     "data": {
      "application/vnd.jupyter.widget-view+json": {
       "model_id": "dd0449a152ef46d2b502721dcce9816a",
       "version_major": 2,
       "version_minor": 0
      },
      "text/plain": [
       "HTML(value='0. \"Youre leaving too? Good night!\"')"
      ]
     },
     "metadata": {},
     "output_type": "display_data"
    },
    {
     "data": {
      "application/vnd.jupyter.widget-view+json": {
       "model_id": "e2d94856395f4082887c2d8a8777493d",
       "version_major": 2,
       "version_minor": 0
      },
      "text/plain": [
       "HTML(value='1. \"Yeah !\"')"
      ]
     },
     "metadata": {},
     "output_type": "display_data"
    },
    {
     "data": {
      "application/vnd.jupyter.widget-view+json": {
       "model_id": "45763f49ab494b93ac412505f7f5d062",
       "version_major": 2,
       "version_minor": 0
      },
      "text/plain": [
       "RadioButtons(options=(0, 1), value=0)"
      ]
     },
     "metadata": {},
     "output_type": "display_data"
    },
    {
     "data": {
      "application/vnd.jupyter.widget-view+json": {
       "model_id": "04e25c0960b54979b348dcbd28d19473",
       "version_major": 2,
       "version_minor": 0
      },
      "text/plain": [
       "HTML(value='<h3>20. Statement: \"Who ?\"</h3>')"
      ]
     },
     "metadata": {},
     "output_type": "display_data"
    },
    {
     "data": {
      "application/vnd.jupyter.widget-view+json": {
       "model_id": "12543f1ff3c541a2b1a32822a730989e",
       "version_major": 2,
       "version_minor": 0
      },
      "text/plain": [
       "HTML(value='0. \"All right . Ill give you one hint . Warren Beatty .\"')"
      ]
     },
     "metadata": {},
     "output_type": "display_data"
    },
    {
     "data": {
      "application/vnd.jupyter.widget-view+json": {
       "model_id": "fada714dd9c14786a494cf57e984ee03",
       "version_major": 2,
       "version_minor": 0
      },
      "text/plain": [
       "HTML(value='1. \"Me.\"')"
      ]
     },
     "metadata": {},
     "output_type": "display_data"
    },
    {
     "data": {
      "application/vnd.jupyter.widget-view+json": {
       "model_id": "79018f0f44ee487b855b47a21134d0cc",
       "version_major": 2,
       "version_minor": 0
      },
      "text/plain": [
       "RadioButtons(options=(0, 1), value=0)"
      ]
     },
     "metadata": {},
     "output_type": "display_data"
    },
    {
     "data": {
      "application/vnd.jupyter.widget-view+json": {
       "model_id": "1e0e3b5c876340ee8d8d98fa374a3cb3",
       "version_major": 2,
       "version_minor": 0
      },
      "text/plain": [
       "HTML(value='<h3>21. Statement: \"Sure, Monica would have to give her up.\"</h3>')"
      ]
     },
     "metadata": {},
     "output_type": "display_data"
    },
    {
     "data": {
      "application/vnd.jupyter.widget-view+json": {
       "model_id": "d0c471579b9049c386d691e077810892",
       "version_major": 2,
       "version_minor": 0
      },
      "text/plain": [
       "HTML(value='0. \"I lie better then that, right?\"')"
      ]
     },
     "metadata": {},
     "output_type": "display_data"
    },
    {
     "data": {
      "application/vnd.jupyter.widget-view+json": {
       "model_id": "c3a2b7a062dd408dbbd6b9bf79af95ea",
       "version_major": 2,
       "version_minor": 0
      },
      "text/plain": [
       "HTML(value='1. \"What ?\"')"
      ]
     },
     "metadata": {},
     "output_type": "display_data"
    },
    {
     "data": {
      "application/vnd.jupyter.widget-view+json": {
       "model_id": "78c75e5e91cc481286c7f3c6f947acdf",
       "version_major": 2,
       "version_minor": 0
      },
      "text/plain": [
       "RadioButtons(options=(0, 1), value=0)"
      ]
     },
     "metadata": {},
     "output_type": "display_data"
    },
    {
     "data": {
      "application/vnd.jupyter.widget-view+json": {
       "model_id": "2c5ad6c51d1048779a4a2a4c4f98b8a7",
       "version_major": 2,
       "version_minor": 0
      },
      "text/plain": [
       "HTML(value='<h3>22. Statement: \"Estrangement .\"</h3>')"
      ]
     },
     "metadata": {},
     "output_type": "display_data"
    },
    {
     "data": {
      "application/vnd.jupyter.widget-view+json": {
       "model_id": "ec60c2f69dc14637b75fc3d0e0a64f5a",
       "version_major": 2,
       "version_minor": 0
      },
      "text/plain": [
       "HTML(value='0. \"But it happens?  I�m gotta go to the bathroom.\"')"
      ]
     },
     "metadata": {},
     "output_type": "display_data"
    },
    {
     "data": {
      "application/vnd.jupyter.widget-view+json": {
       "model_id": "c448b4b03bd94382bcbb3704d125dc46",
       "version_major": 2,
       "version_minor": 0
      },
      "text/plain": [
       "HTML(value='1. \"No mean Rach , that guy under your date with you Chandler and Chandler are right ?\"')"
      ]
     },
     "metadata": {},
     "output_type": "display_data"
    },
    {
     "data": {
      "application/vnd.jupyter.widget-view+json": {
       "model_id": "9ebb8ef8c80047f5a1386b46aaefb9b8",
       "version_major": 2,
       "version_minor": 0
      },
      "text/plain": [
       "RadioButtons(options=(0, 1), value=0)"
      ]
     },
     "metadata": {},
     "output_type": "display_data"
    },
    {
     "data": {
      "application/vnd.jupyter.widget-view+json": {
       "model_id": "97639b6b97934cf48b715598a2cf052f",
       "version_major": 2,
       "version_minor": 0
      },
      "text/plain": [
       "HTML(value='<h3>23. Statement: \"Mike knows Im coming, and if I dont show up hell think its because of him! And…"
      ]
     },
     "metadata": {},
     "output_type": "display_data"
    },
    {
     "data": {
      "application/vnd.jupyter.widget-view+json": {
       "model_id": "b32125813fa04591b7c5bc664a41e49a",
       "version_major": 2,
       "version_minor": 0
      },
      "text/plain": [
       "HTML(value='0. \"Yeah , if I think I could think youre good way .\"')"
      ]
     },
     "metadata": {},
     "output_type": "display_data"
    },
    {
     "data": {
      "application/vnd.jupyter.widget-view+json": {
       "model_id": "efa3b47185db4d8a8e198a18ba3121fb",
       "version_major": 2,
       "version_minor": 0
      },
      "text/plain": [
       "HTML(value='1. \"Alright, then you go to that party and you pretend to be over Mike. And afterward you come to …"
      ]
     },
     "metadata": {},
     "output_type": "display_data"
    },
    {
     "data": {
      "application/vnd.jupyter.widget-view+json": {
       "model_id": "3e833047a3054685839a16d49aded985",
       "version_major": 2,
       "version_minor": 0
      },
      "text/plain": [
       "RadioButtons(options=(0, 1), value=0)"
      ]
     },
     "metadata": {},
     "output_type": "display_data"
    },
    {
     "data": {
      "application/vnd.jupyter.widget-view+json": {
       "model_id": "a3aed3c037fe49df9d6e86add9b62aeb",
       "version_major": 2,
       "version_minor": 0
      },
      "text/plain": [
       "HTML(value='<h3>24. Statement: \"Noooo!!! Every time!!!\"</h3>')"
      ]
     },
     "metadata": {},
     "output_type": "display_data"
    },
    {
     "data": {
      "application/vnd.jupyter.widget-view+json": {
       "model_id": "a535e0d003d94dd0baf98d3d3dc61c8a",
       "version_major": 2,
       "version_minor": 0
      },
      "text/plain": [
       "HTML(value='0. \"Now, over to Chandler.\"')"
      ]
     },
     "metadata": {},
     "output_type": "display_data"
    },
    {
     "data": {
      "application/vnd.jupyter.widget-view+json": {
       "model_id": "e73c50e642cc45ddae7a1d2811003b76",
       "version_major": 2,
       "version_minor": 0
      },
      "text/plain": [
       "HTML(value='1. \"Yeah ?\"')"
      ]
     },
     "metadata": {},
     "output_type": "display_data"
    },
    {
     "data": {
      "application/vnd.jupyter.widget-view+json": {
       "model_id": "77c61aab65b74202b56f21320d538ecf",
       "version_major": 2,
       "version_minor": 0
      },
      "text/plain": [
       "RadioButtons(options=(0, 1), value=0)"
      ]
     },
     "metadata": {},
     "output_type": "display_data"
    },
    {
     "data": {
      "application/vnd.jupyter.widget-view+json": {
       "model_id": "d9e2afb185fd4aad945ede1db112aaf3",
       "version_major": 2,
       "version_minor": 0
      },
      "text/plain": [
       "HTML(value='<h3>25. Statement: \"And you werent going to tell us? How did you think you were gonna get away wit…"
      ]
     },
     "metadata": {},
     "output_type": "display_data"
    },
    {
     "data": {
      "application/vnd.jupyter.widget-view+json": {
       "model_id": "47cd92656df440ee8aa8a40f32969c57",
       "version_major": 2,
       "version_minor": 0
      },
      "text/plain": [
       "HTML(value='0. \"I do it every year.\"')"
      ]
     },
     "metadata": {},
     "output_type": "display_data"
    },
    {
     "data": {
      "application/vnd.jupyter.widget-view+json": {
       "model_id": "104cde6407cb4dbc8a6651e6b28ba6e2",
       "version_major": 2,
       "version_minor": 0
      },
      "text/plain": [
       "HTML(value='1. \"So I got it ? !\"')"
      ]
     },
     "metadata": {},
     "output_type": "display_data"
    },
    {
     "data": {
      "application/vnd.jupyter.widget-view+json": {
       "model_id": "a6ffb3dec5d145c9b7b7c0aad5457a1c",
       "version_major": 2,
       "version_minor": 0
      },
      "text/plain": [
       "RadioButtons(options=(0, 1), value=0)"
      ]
     },
     "metadata": {},
     "output_type": "display_data"
    },
    {
     "data": {
      "application/vnd.jupyter.widget-view+json": {
       "model_id": "663a6de8810f4f0b8e7c7c3eb83e4bed",
       "version_major": 2,
       "version_minor": 0
      },
      "text/plain": [
       "HTML(value='<h3>26. Statement: \"Guys, guys, Ive got great news! Guess what…\"</h3>')"
      ]
     },
     "metadata": {},
     "output_type": "display_data"
    },
    {
     "data": {
      "application/vnd.jupyter.widget-view+json": {
       "model_id": "18019e2df8194c7a85a629f73a2d931a",
       "version_major": 2,
       "version_minor": 0
      },
      "text/plain": [
       "HTML(value='0. \"Uh, ah, Monicas pregnant?!\"')"
      ]
     },
     "metadata": {},
     "output_type": "display_data"
    },
    {
     "data": {
      "application/vnd.jupyter.widget-view+json": {
       "model_id": "88c508f006c34ec59459e0e0104481e6",
       "version_major": 2,
       "version_minor": 0
      },
      "text/plain": [
       "HTML(value='1. \"Uh , Come on .\"')"
      ]
     },
     "metadata": {},
     "output_type": "display_data"
    },
    {
     "data": {
      "application/vnd.jupyter.widget-view+json": {
       "model_id": "f730ce4a8f104d69be463a9d8a512887",
       "version_major": 2,
       "version_minor": 0
      },
      "text/plain": [
       "RadioButtons(options=(0, 1), value=0)"
      ]
     },
     "metadata": {},
     "output_type": "display_data"
    },
    {
     "data": {
      "application/vnd.jupyter.widget-view+json": {
       "model_id": "b499b18b375645d28ff3b19b04ac1de6",
       "version_major": 2,
       "version_minor": 0
      },
      "text/plain": [
       "HTML(value='<h3>27. Statement: \"This is Rachel. I mean, what are you gonna do, never going to talk to her agai…"
      ]
     },
     "metadata": {},
     "output_type": "display_data"
    },
    {
     "data": {
      "application/vnd.jupyter.widget-view+json": {
       "model_id": "aad70b2fc8bc42838c0709087c6a5630",
       "version_major": 2,
       "version_minor": 0
      },
      "text/plain": [
       "HTML(value='0. \"Yeah. Okay.  Whoa!  I almost forgot this was on your…\"')"
      ]
     },
     "metadata": {},
     "output_type": "display_data"
    },
    {
     "data": {
      "application/vnd.jupyter.widget-view+json": {
       "model_id": "73ceda203e17424d8104acafeab80339",
       "version_major": 2,
       "version_minor": 0
      },
      "text/plain": [
       "HTML(value='1. \"All right . Thanks . Okay .\"')"
      ]
     },
     "metadata": {},
     "output_type": "display_data"
    },
    {
     "data": {
      "application/vnd.jupyter.widget-view+json": {
       "model_id": "a0a617f72d8e478a9bb4c18bdd1e987f",
       "version_major": 2,
       "version_minor": 0
      },
      "text/plain": [
       "RadioButtons(options=(0, 1), value=0)"
      ]
     },
     "metadata": {},
     "output_type": "display_data"
    },
    {
     "data": {
      "application/vnd.jupyter.widget-view+json": {
       "model_id": "74ab7fcaf631464d83f7a83d5b0a7b54",
       "version_major": 2,
       "version_minor": 0
      },
      "text/plain": [
       "HTML(value='<h3>28. Statement: \"Uhh… No.\"</h3>')"
      ]
     },
     "metadata": {},
     "output_type": "display_data"
    },
    {
     "data": {
      "application/vnd.jupyter.widget-view+json": {
       "model_id": "a270841718a34fd4b8dafc884479e8fc",
       "version_major": 2,
       "version_minor": 0
      },
      "text/plain": [
       "HTML(value='0. \"But you the dont know , you guys . What ? What is it ? I AM when I am so , How about you guys …"
      ]
     },
     "metadata": {},
     "output_type": "display_data"
    },
    {
     "data": {
      "application/vnd.jupyter.widget-view+json": {
       "model_id": "fa574d3880ee40ca8dee8507b4273c85",
       "version_major": 2,
       "version_minor": 0
      },
      "text/plain": [
       "HTML(value='1. \"Well, this is awkward. {See? I told you so.}\"')"
      ]
     },
     "metadata": {},
     "output_type": "display_data"
    },
    {
     "data": {
      "application/vnd.jupyter.widget-view+json": {
       "model_id": "aebd4075e6fd457aa60922fe9de1b1d8",
       "version_major": 2,
       "version_minor": 0
      },
      "text/plain": [
       "RadioButtons(options=(0, 1), value=0)"
      ]
     },
     "metadata": {},
     "output_type": "display_data"
    },
    {
     "data": {
      "application/vnd.jupyter.widget-view+json": {
       "model_id": "6d356ebc08c1407eac75acc42046f172",
       "version_major": 2,
       "version_minor": 0
      },
      "text/plain": [
       "HTML(value='<h3>29. Statement: \"You making fun of me? Because I am not a sell-out.  I didnt do that for the mo…"
      ]
     },
     "metadata": {},
     "output_type": "display_data"
    },
    {
     "data": {
      "application/vnd.jupyter.widget-view+json": {
       "model_id": "7a8e1835c2944ee7b0284d9d1d9941aa",
       "version_major": 2,
       "version_minor": 0
      },
      "text/plain": [
       "HTML(value='0. \"Hey ! Its gonna be all right thats weird !\"')"
      ]
     },
     "metadata": {},
     "output_type": "display_data"
    },
    {
     "data": {
      "application/vnd.jupyter.widget-view+json": {
       "model_id": "4600ecf47dbc47959a6a6856f877c91e",
       "version_major": 2,
       "version_minor": 0
      },
      "text/plain": [
       "HTML(value='1. \"No, I-I-I wasnt making fun of you, honestly, I-I think you were great in those commercials.\"')"
      ]
     },
     "metadata": {},
     "output_type": "display_data"
    },
    {
     "data": {
      "application/vnd.jupyter.widget-view+json": {
       "model_id": "476812ac90e7422ea5bab6e017c5df1a",
       "version_major": 2,
       "version_minor": 0
      },
      "text/plain": [
       "RadioButtons(options=(0, 1), value=0)"
      ]
     },
     "metadata": {},
     "output_type": "display_data"
    },
    {
     "data": {
      "application/vnd.jupyter.widget-view+json": {
       "model_id": "7c3d6d58512649b98daf4ed418cb1003",
       "version_major": 2,
       "version_minor": 0
      },
      "text/plain": [
       "HTML(value='<h3>30. Statement: \"Youre supposed to realize that they are adults! And that they can make their o…"
      ]
     },
     "metadata": {},
     "output_type": "display_data"
    },
    {
     "data": {
      "application/vnd.jupyter.widget-view+json": {
       "model_id": "1d60d33fc4ee4bfd8b7687c14ea247ee",
       "version_major": 2,
       "version_minor": 0
      },
      "text/plain": [
       "HTML(value='0. \"No they cant! They were stupid enough to get knocked up!\"')"
      ]
     },
     "metadata": {},
     "output_type": "display_data"
    },
    {
     "data": {
      "application/vnd.jupyter.widget-view+json": {
       "model_id": "95358da50050434a83e1c8890ab7604c",
       "version_major": 2,
       "version_minor": 0
      },
      "text/plain": [
       "HTML(value='1. \"Hey ? ! Hey , Joey !\"')"
      ]
     },
     "metadata": {},
     "output_type": "display_data"
    },
    {
     "data": {
      "application/vnd.jupyter.widget-view+json": {
       "model_id": "822e25c341e7467281fed98f32a4ff0c",
       "version_major": 2,
       "version_minor": 0
      },
      "text/plain": [
       "RadioButtons(options=(0, 1), value=0)"
      ]
     },
     "metadata": {},
     "output_type": "display_data"
    },
    {
     "data": {
      "application/vnd.jupyter.widget-view+json": {
       "model_id": "90017bbe14754860b27ae7cc86020851",
       "version_major": 2,
       "version_minor": 0
      },
      "text/plain": [
       "HTML(value='<h3>31. Statement: \"Why am I hearing cheering?\"</h3>')"
      ]
     },
     "metadata": {},
     "output_type": "display_data"
    },
    {
     "data": {
      "application/vnd.jupyter.widget-view+json": {
       "model_id": "5457c2bd304a42eda80677f40961fbe8",
       "version_major": 2,
       "version_minor": 0
      },
      "text/plain": [
       "HTML(value='0. \"Yeah .\"')"
      ]
     },
     "metadata": {},
     "output_type": "display_data"
    },
    {
     "data": {
      "application/vnd.jupyter.widget-view+json": {
       "model_id": "43f871c9bc6946dead5aed6ebf1f648d",
       "version_major": 2,
       "version_minor": 0
      },
      "text/plain": [
       "HTML(value='1. \"Well its okay, its like... its just a football game.\"')"
      ]
     },
     "metadata": {},
     "output_type": "display_data"
    },
    {
     "data": {
      "application/vnd.jupyter.widget-view+json": {
       "model_id": "9ff6c4e6c8dc4c3b9ad96cab20438894",
       "version_major": 2,
       "version_minor": 0
      },
      "text/plain": [
       "RadioButtons(options=(0, 1), value=0)"
      ]
     },
     "metadata": {},
     "output_type": "display_data"
    },
    {
     "data": {
      "application/vnd.jupyter.widget-view+json": {
       "model_id": "bf9b98247d1f48dcb82ef84fa718a58c",
       "version_major": 2,
       "version_minor": 0
      },
      "text/plain": [
       "HTML(value='<h3>32. Statement: \"Absolutely amazing!  The part is yours.\"</h3>')"
      ]
     },
     "metadata": {},
     "output_type": "display_data"
    },
    {
     "data": {
      "application/vnd.jupyter.widget-view+json": {
       "model_id": "0172dbde1ea649eabbf60a87ae46f1bd",
       "version_major": 2,
       "version_minor": 0
      },
      "text/plain": [
       "HTML(value='0. \"Oh thanks, thanks! Now, I really have to get…\"')"
      ]
     },
     "metadata": {},
     "output_type": "display_data"
    },
    {
     "data": {
      "application/vnd.jupyter.widget-view+json": {
       "model_id": "cd42ee844897437bbac53dd3e5b6e234",
       "version_major": 2,
       "version_minor": 0
      },
      "text/plain": [
       "HTML(value='1. \"Well , the last thing I wanted to get it before you have never , so have to ask you\"')"
      ]
     },
     "metadata": {},
     "output_type": "display_data"
    },
    {
     "data": {
      "application/vnd.jupyter.widget-view+json": {
       "model_id": "ee5f1de394cd476ea1de42a13a85a1fe",
       "version_major": 2,
       "version_minor": 0
      },
      "text/plain": [
       "RadioButtons(options=(0, 1), value=0)"
      ]
     },
     "metadata": {},
     "output_type": "display_data"
    },
    {
     "data": {
      "application/vnd.jupyter.widget-view+json": {
       "model_id": "190a461f80ba4f3fb2c97e2f18554d4f",
       "version_major": 2,
       "version_minor": 0
      },
      "text/plain": [
       "HTML(value='<h3>33. Statement: \"And there is Kevin. This is the first time hes ever used this product, hes nev…"
      ]
     },
     "metadata": {},
     "output_type": "display_data"
    },
    {
     "data": {
      "application/vnd.jupyter.widget-view+json": {
       "model_id": "5714ae62b681485497cd723799176a7c",
       "version_major": 2,
       "version_minor": 0
      },
      "text/plain": [
       "HTML(value='0. \"Wow, it is easy.  Now, I can have milk everyday.\"')"
      ]
     },
     "metadata": {},
     "output_type": "display_data"
    },
    {
     "data": {
      "application/vnd.jupyter.widget-view+json": {
       "model_id": "065f2ad7dd22496e80ae1b25db466f04",
       "version_major": 2,
       "version_minor": 0
      },
      "text/plain": [
       "HTML(value='1. \"Wow , it is easy . Now , I can have milk everyday .\"')"
      ]
     },
     "metadata": {},
     "output_type": "display_data"
    },
    {
     "data": {
      "application/vnd.jupyter.widget-view+json": {
       "model_id": "fca853b02dec46ce94e12d52d167f3c9",
       "version_major": 2,
       "version_minor": 0
      },
      "text/plain": [
       "RadioButtons(options=(0, 1), value=0)"
      ]
     },
     "metadata": {},
     "output_type": "display_data"
    },
    {
     "data": {
      "application/vnd.jupyter.widget-view+json": {
       "model_id": "30e1999a094e4c528a8cea9e3919d423",
       "version_major": 2,
       "version_minor": 0
      },
      "text/plain": [
       "HTML(value='<h3>34. Statement: \"Marry her.\"</h3>')"
      ]
     },
     "metadata": {},
     "output_type": "display_data"
    },
    {
     "data": {
      "application/vnd.jupyter.widget-view+json": {
       "model_id": "bf8a72c2e7d94234bb8530dfd2a6d82c",
       "version_major": 2,
       "version_minor": 0
      },
      "text/plain": [
       "HTML(value='0. \"I dont get it ! It was in the room all night ! And I didnt want to get to take one of the movi…"
      ]
     },
     "metadata": {},
     "output_type": "display_data"
    },
    {
     "data": {
      "application/vnd.jupyter.widget-view+json": {
       "model_id": "5497f281b9ea463b9691160aa8a3f049",
       "version_major": 2,
       "version_minor": 0
      },
      "text/plain": [
       "HTML(value='1. \"Okay, heres a good one for ya. Who do think would win in a fight between Ross and Chandler.\"')"
      ]
     },
     "metadata": {},
     "output_type": "display_data"
    },
    {
     "data": {
      "application/vnd.jupyter.widget-view+json": {
       "model_id": "708817dcbeef4ababb36d532cd80925d",
       "version_major": 2,
       "version_minor": 0
      },
      "text/plain": [
       "RadioButtons(options=(0, 1), value=0)"
      ]
     },
     "metadata": {},
     "output_type": "display_data"
    },
    {
     "data": {
      "application/vnd.jupyter.widget-view+json": {
       "model_id": "5ad596ebdf8f4e31ab8468f595898dc6",
       "version_major": 2,
       "version_minor": 0
      },
      "text/plain": [
       "HTML(value='<h3>35. Statement: \"Joey. Honey what would I do without you?\"</h3>')"
      ]
     },
     "metadata": {},
     "output_type": "display_data"
    },
    {
     "data": {
      "application/vnd.jupyter.widget-view+json": {
       "model_id": "9946242c10a441e9b8e8211b439a2407",
       "version_major": 2,
       "version_minor": 0
      },
      "text/plain": [
       "HTML(value='0. \"Well , I think I might as well .\"')"
      ]
     },
     "metadata": {},
     "output_type": "display_data"
    },
    {
     "data": {
      "application/vnd.jupyter.widget-view+json": {
       "model_id": "6a83f442123544739638bb568536bf7e",
       "version_major": 2,
       "version_minor": 0
      },
      "text/plain": [
       "HTML(value='1. \"You dont have to worry about that okay?\"')"
      ]
     },
     "metadata": {},
     "output_type": "display_data"
    },
    {
     "data": {
      "application/vnd.jupyter.widget-view+json": {
       "model_id": "7f243e9aceed452bb32a9cdf13775a3e",
       "version_major": 2,
       "version_minor": 0
      },
      "text/plain": [
       "RadioButtons(options=(0, 1), value=0)"
      ]
     },
     "metadata": {},
     "output_type": "display_data"
    },
    {
     "data": {
      "application/vnd.jupyter.widget-view+json": {
       "model_id": "3f599830b8e2489383ce65bcc03d04f6",
       "version_major": 2,
       "version_minor": 0
      },
      "text/plain": [
       "HTML(value='<h3>36. Statement: \"Are you serious?\"</h3>')"
      ]
     },
     "metadata": {},
     "output_type": "display_data"
    },
    {
     "data": {
      "application/vnd.jupyter.widget-view+json": {
       "model_id": "ae863e7952fa42c69af75ffcd46a745b",
       "version_major": 2,
       "version_minor": 0
      },
      "text/plain": [
       "HTML(value='0. \"Yeah!Hey, you just have to promise not to get yourself thrown out again.\"')"
      ]
     },
     "metadata": {},
     "output_type": "display_data"
    },
    {
     "data": {
      "application/vnd.jupyter.widget-view+json": {
       "model_id": "7b02fcc6aee646f1be9abdf66b77f648",
       "version_major": 2,
       "version_minor": 0
      },
      "text/plain": [
       "HTML(value='1. \"Yeah . . . Now I have something . . .\"')"
      ]
     },
     "metadata": {},
     "output_type": "display_data"
    },
    {
     "data": {
      "application/vnd.jupyter.widget-view+json": {
       "model_id": "d6a22bb804784546b245b9091a644802",
       "version_major": 2,
       "version_minor": 0
      },
      "text/plain": [
       "RadioButtons(options=(0, 1), value=0)"
      ]
     },
     "metadata": {},
     "output_type": "display_data"
    },
    {
     "data": {
      "application/vnd.jupyter.widget-view+json": {
       "model_id": "916d414a27ca4d05b1940dfc8ee8a764",
       "version_major": 2,
       "version_minor": 0
      },
      "text/plain": [
       "HTML(value='<h3>37. Statement: \"Joey, look at me! Im a nurse!\"</h3>')"
      ]
     },
     "metadata": {},
     "output_type": "display_data"
    },
    {
     "data": {
      "application/vnd.jupyter.widget-view+json": {
       "model_id": "de23083963a048959be8435ecf71d75c",
       "version_major": 2,
       "version_minor": 0
      },
      "text/plain": [
       "HTML(value='0. \"Yes you are. I think it may be time for my sponge bath. Sorry, Im just so used to hitting on t…"
      ]
     },
     "metadata": {},
     "output_type": "display_data"
    },
    {
     "data": {
      "application/vnd.jupyter.widget-view+json": {
       "model_id": "ef9c9a279afa478bbfd9b062ef8b5654",
       "version_major": 2,
       "version_minor": 0
      },
      "text/plain": [
       "HTML(value='1. \"Hey , Pheebs , you hang up with a second ?\"')"
      ]
     },
     "metadata": {},
     "output_type": "display_data"
    },
    {
     "data": {
      "application/vnd.jupyter.widget-view+json": {
       "model_id": "3fbb82418dfb4db392e2944e68d87eb6",
       "version_major": 2,
       "version_minor": 0
      },
      "text/plain": [
       "RadioButtons(options=(0, 1), value=0)"
      ]
     },
     "metadata": {},
     "output_type": "display_data"
    },
    {
     "data": {
      "application/vnd.jupyter.widget-view+json": {
       "model_id": "87efb3d13b264038860f63511f7c39d1",
       "version_major": 2,
       "version_minor": 0
      },
      "text/plain": [
       "HTML(value='<h3>38. Statement: \"Well, I gotta get up early and its almost seven oclock.\"</h3>')"
      ]
     },
     "metadata": {},
     "output_type": "display_data"
    },
    {
     "data": {
      "application/vnd.jupyter.widget-view+json": {
       "model_id": "2402f1112ad04f39b97ad534b99823a4",
       "version_major": 2,
       "version_minor": 0
      },
      "text/plain": [
       "HTML(value='0. \"Yeah, I gotta, I gotta go to my room too.\"')"
      ]
     },
     "metadata": {},
     "output_type": "display_data"
    },
    {
     "data": {
      "application/vnd.jupyter.widget-view+json": {
       "model_id": "68c4ea2f645b41b5abbdf02067d39af2",
       "version_major": 2,
       "version_minor": 0
      },
      "text/plain": [
       "HTML(value='1. \"What ? You were trying to talk about Ross ?\"')"
      ]
     },
     "metadata": {},
     "output_type": "display_data"
    },
    {
     "data": {
      "application/vnd.jupyter.widget-view+json": {
       "model_id": "3349f7dddd9f4395949d9e2bd07e8d9c",
       "version_major": 2,
       "version_minor": 0
      },
      "text/plain": [
       "RadioButtons(options=(0, 1), value=0)"
      ]
     },
     "metadata": {},
     "output_type": "display_data"
    },
    {
     "data": {
      "application/vnd.jupyter.widget-view+json": {
       "model_id": "acb1a81731654e949d302ebcfe3926ec",
       "version_major": 2,
       "version_minor": 0
      },
      "text/plain": [
       "HTML(value='<h3>39. Statement: \"Joey, just because theyre not getting married doesnt mean this is going to be …"
      ]
     },
     "metadata": {},
     "output_type": "display_data"
    },
    {
     "data": {
      "application/vnd.jupyter.widget-view+json": {
       "model_id": "0217192bff364f449f6ef032f42c105f",
       "version_major": 2,
       "version_minor": 0
      },
      "text/plain": [
       "HTML(value='0. \"Oh? Oh! Okay! Okay! Lets hear their plan! Now, whats the future look like for Dina and Bobby?\"…"
      ]
     },
     "metadata": {},
     "output_type": "display_data"
    },
    {
     "data": {
      "application/vnd.jupyter.widget-view+json": {
       "model_id": "f88ae152096648409fafc630cdedc23e",
       "version_major": 2,
       "version_minor": 0
      },
      "text/plain": [
       "HTML(value='1. \"Hey ! I did ! I was the duck a little , or a found in the start a take a car !\"')"
      ]
     },
     "metadata": {},
     "output_type": "display_data"
    },
    {
     "data": {
      "application/vnd.jupyter.widget-view+json": {
       "model_id": "c03b454411ed4b27b9dd87dc73163f3e",
       "version_major": 2,
       "version_minor": 0
      },
      "text/plain": [
       "RadioButtons(options=(0, 1), value=0)"
      ]
     },
     "metadata": {},
     "output_type": "display_data"
    },
    {
     "data": {
      "application/vnd.jupyter.widget-view+json": {
       "model_id": "62a4257a4dc549aa978dd008b9b3f4d0",
       "version_major": 2,
       "version_minor": 0
      },
      "text/plain": [
       "HTML(value='<h3>40. Statement: \"Hungry monkey!  Haaa!  Id like a Wicked Wango card!\"</h3>')"
      ]
     },
     "metadata": {},
     "output_type": "display_data"
    },
    {
     "data": {
      "application/vnd.jupyter.widget-view+json": {
       "model_id": "ef6940b437a3404cbbdfc7d7018ae319",
       "version_major": 2,
       "version_minor": 0
      },
      "text/plain": [
       "HTML(value='0. \"Okay, its an audio question, name this television theme song.\"')"
      ]
     },
     "metadata": {},
     "output_type": "display_data"
    },
    {
     "data": {
      "application/vnd.jupyter.widget-view+json": {
       "model_id": "532a96c2c3f14d7c8c029eb5de7e503b",
       "version_major": 2,
       "version_minor": 0
      },
      "text/plain": [
       "HTML(value='1. \"Its okay ? I got that off with it .\"')"
      ]
     },
     "metadata": {},
     "output_type": "display_data"
    },
    {
     "data": {
      "application/vnd.jupyter.widget-view+json": {
       "model_id": "95545a6a71d147d191169ba94c6e34b2",
       "version_major": 2,
       "version_minor": 0
      },
      "text/plain": [
       "RadioButtons(options=(0, 1), value=0)"
      ]
     },
     "metadata": {},
     "output_type": "display_data"
    },
    {
     "data": {
      "application/vnd.jupyter.widget-view+json": {
       "model_id": "bf15e8772f30422ba5fd73592cb2b05a",
       "version_major": 2,
       "version_minor": 0
      },
      "text/plain": [
       "HTML(value='<h3>41. Statement: \"We said at the movies, but…\"</h3>')"
      ]
     },
     "metadata": {},
     "output_type": "display_data"
    },
    {
     "data": {
      "application/vnd.jupyter.widget-view+json": {
       "model_id": "96f84a2771214d929b09e17e2e8d3aac",
       "version_major": 2,
       "version_minor": 0
      },
      "text/plain": [
       "HTML(value='0. \"I like that .\"')"
      ]
     },
     "metadata": {},
     "output_type": "display_data"
    },
    {
     "data": {
      "application/vnd.jupyter.widget-view+json": {
       "model_id": "334053333ef846c6a05b8472035c0a04",
       "version_major": 2,
       "version_minor": 0
      },
      "text/plain": [
       "HTML(value='1. \"Okay, Ill see you there.\"')"
      ]
     },
     "metadata": {},
     "output_type": "display_data"
    },
    {
     "data": {
      "application/vnd.jupyter.widget-view+json": {
       "model_id": "4b65c8771e01456b9e87abeb7e396d92",
       "version_major": 2,
       "version_minor": 0
      },
      "text/plain": [
       "RadioButtons(options=(0, 1), value=0)"
      ]
     },
     "metadata": {},
     "output_type": "display_data"
    },
    {
     "data": {
      "application/vnd.jupyter.widget-view+json": {
       "model_id": "e4c3420a0c8e403b83310c742e7616fd",
       "version_major": 2,
       "version_minor": 0
      },
      "text/plain": [
       "HTML(value='<h3>42. Statement: \"In a minute? Whats gonna happen in a minute?!\"</h3>')"
      ]
     },
     "metadata": {},
     "output_type": "display_data"
    },
    {
     "data": {
      "application/vnd.jupyter.widget-view+json": {
       "model_id": "665dc9165d834ebd9acf3ccfcae50ea6",
       "version_major": 2,
       "version_minor": 0
      },
      "text/plain": [
       "HTML(value='0. \"Done .\"')"
      ]
     },
     "metadata": {},
     "output_type": "display_data"
    },
    {
     "data": {
      "application/vnd.jupyter.widget-view+json": {
       "model_id": "9e66115a6fab4c52b97d292c351fa4a3",
       "version_major": 2,
       "version_minor": 0
      },
      "text/plain": [
       "HTML(value='1. \"All right, all right maybe-maybe you should just ask her to leave.\"')"
      ]
     },
     "metadata": {},
     "output_type": "display_data"
    },
    {
     "data": {
      "application/vnd.jupyter.widget-view+json": {
       "model_id": "bec6a8a7f35e4500902be2050959a370",
       "version_major": 2,
       "version_minor": 0
      },
      "text/plain": [
       "RadioButtons(options=(0, 1), value=0)"
      ]
     },
     "metadata": {},
     "output_type": "display_data"
    },
    {
     "data": {
      "application/vnd.jupyter.widget-view+json": {
       "model_id": "3fd4cae6d52945b5b30c2c6c1af3091d",
       "version_major": 2,
       "version_minor": 0
      },
      "text/plain": [
       "HTML(value='<h3>43. Statement: \"We have free porn here!!!\"</h3>')"
      ]
     },
     "metadata": {},
     "output_type": "display_data"
    },
    {
     "data": {
      "application/vnd.jupyter.widget-view+json": {
       "model_id": "d666333139784be4b430d19a27b619d8",
       "version_major": 2,
       "version_minor": 0
      },
      "text/plain": [
       "HTML(value='0. \"In my spare time I uh, read to the blind. And Im also a mento for the kids. Yknow a mento, a r…"
      ]
     },
     "metadata": {},
     "output_type": "display_data"
    },
    {
     "data": {
      "application/vnd.jupyter.widget-view+json": {
       "model_id": "c94a6f5ccd0342f289561828bb9cbb7c",
       "version_major": 2,
       "version_minor": 0
      },
      "text/plain": [
       "HTML(value='1. \"I got hold on ! Okay ! up there , and I got one of your and you want to take the money .\"')"
      ]
     },
     "metadata": {},
     "output_type": "display_data"
    },
    {
     "data": {
      "application/vnd.jupyter.widget-view+json": {
       "model_id": "c0d654b930d648878f85774edd955668",
       "version_major": 2,
       "version_minor": 0
      },
      "text/plain": [
       "RadioButtons(options=(0, 1), value=0)"
      ]
     },
     "metadata": {},
     "output_type": "display_data"
    },
    {
     "data": {
      "application/vnd.jupyter.widget-view+json": {
       "model_id": "89a5e8342e9345d98989a4423d0093e1",
       "version_major": 2,
       "version_minor": 0
      },
      "text/plain": [
       "HTML(value='<h3>44. Statement: \"Top of act two. This is my entrance. You got it?  \"What the hell are you still…"
      ]
     },
     "metadata": {},
     "output_type": "display_data"
    },
    {
     "data": {
      "application/vnd.jupyter.widget-view+json": {
       "model_id": "5b3739e7ed8740608c4ae8366af779c0",
       "version_major": 2,
       "version_minor": 0
      },
      "text/plain": [
       "HTML(value='0. \"Err, \"I think you know\".\"')"
      ]
     },
     "metadata": {},
     "output_type": "display_data"
    },
    {
     "data": {
      "application/vnd.jupyter.widget-view+json": {
       "model_id": "8976b37abd1842b28069d8aacfcd72bd",
       "version_major": 2,
       "version_minor": 0
      },
      "text/plain": [
       "HTML(value='1. \"Is I gonna be home here ?\"')"
      ]
     },
     "metadata": {},
     "output_type": "display_data"
    },
    {
     "data": {
      "application/vnd.jupyter.widget-view+json": {
       "model_id": "1f3f4d9b83854cadbb8ba286dff11490",
       "version_major": 2,
       "version_minor": 0
      },
      "text/plain": [
       "RadioButtons(options=(0, 1), value=0)"
      ]
     },
     "metadata": {},
     "output_type": "display_data"
    },
    {
     "data": {
      "application/vnd.jupyter.widget-view+json": {
       "model_id": "71383af8c02146b4b8c313f9149dbf49",
       "version_major": 2,
       "version_minor": 0
      },
      "text/plain": [
       "HTML(value='<h3>45. Statement: \"All right, youre telling me you can eat an entire turkey in just one sitting?\"…"
      ]
     },
     "metadata": {},
     "output_type": "display_data"
    },
    {
     "data": {
      "application/vnd.jupyter.widget-view+json": {
       "model_id": "d105e67cc647445da28fdea8f3d66128",
       "version_major": 2,
       "version_minor": 0
      },
      "text/plain": [
       "HTML(value='0. \"Thats right! ‘Cause Im a Tribbiani!  And this is what we do! I mean we may not be great thinke…"
      ]
     },
     "metadata": {},
     "output_type": "display_data"
    },
    {
     "data": {
      "application/vnd.jupyter.widget-view+json": {
       "model_id": "54595e546c6e436d8e601c8fdbc6e005",
       "version_major": 2,
       "version_minor": 0
      },
      "text/plain": [
       "HTML(value='1. \"Okay . But hey , I may have told you something so much in this time and I can take it off .\"')"
      ]
     },
     "metadata": {},
     "output_type": "display_data"
    },
    {
     "data": {
      "application/vnd.jupyter.widget-view+json": {
       "model_id": "dcaaf111bc6e4c68af754b5e72e52933",
       "version_major": 2,
       "version_minor": 0
      },
      "text/plain": [
       "RadioButtons(options=(0, 1), value=0)"
      ]
     },
     "metadata": {},
     "output_type": "display_data"
    },
    {
     "data": {
      "application/vnd.jupyter.widget-view+json": {
       "model_id": "a022347baaac475e9d08285b11c1bfd7",
       "version_major": 2,
       "version_minor": 0
      },
      "text/plain": [
       "HTML(value='<h3>46. Statement: \"I dont know, Im not trying to do anything, its just, we have such a good time …"
      ]
     },
     "metadata": {},
     "output_type": "display_data"
    },
    {
     "data": {
      "application/vnd.jupyter.widget-view+json": {
       "model_id": "4d6506e77d6844e8873e23468a21e2ec",
       "version_major": 2,
       "version_minor": 0
      },
      "text/plain": [
       "HTML(value='0. \"Well , what could you think the the would be there we got to what we got going out .\"')"
      ]
     },
     "metadata": {},
     "output_type": "display_data"
    },
    {
     "data": {
      "application/vnd.jupyter.widget-view+json": {
       "model_id": "dc7d51559fa742aeb87f898f95dc7dc7",
       "version_major": 2,
       "version_minor": 0
      },
      "text/plain": [
       "HTML(value='1. \"Uh, am I curious? I mean, I am as curious as... as... George!!\"')"
      ]
     },
     "metadata": {},
     "output_type": "display_data"
    },
    {
     "data": {
      "application/vnd.jupyter.widget-view+json": {
       "model_id": "aebc2a8b9eb94cce9f23ecbbfa75562b",
       "version_major": 2,
       "version_minor": 0
      },
      "text/plain": [
       "RadioButtons(options=(0, 1), value=0)"
      ]
     },
     "metadata": {},
     "output_type": "display_data"
    },
    {
     "data": {
      "application/vnd.jupyter.widget-view+json": {
       "model_id": "07e74f4977314405a39806b7c8090e95",
       "version_major": 2,
       "version_minor": 0
      },
      "text/plain": [
       "HTML(value='<h3>47. Statement: \"Oh, ooh, everything looks delicious. What should I ha-ave? What should I have?…"
      ]
     },
     "metadata": {},
     "output_type": "display_data"
    },
    {
     "data": {
      "application/vnd.jupyter.widget-view+json": {
       "model_id": "e62b91beeb1c4fce838c571078c08049",
       "version_major": 2,
       "version_minor": 0
      },
      "text/plain": [
       "HTML(value='0. \"Hey guys !\"')"
      ]
     },
     "metadata": {},
     "output_type": "display_data"
    },
    {
     "data": {
      "application/vnd.jupyter.widget-view+json": {
       "model_id": "3825d14d662548f1a822b6bab0292d28",
       "version_major": 2,
       "version_minor": 0
      },
      "text/plain": [
       "HTML(value='1. \"Never hit a woman. Never hit a woman.\"')"
      ]
     },
     "metadata": {},
     "output_type": "display_data"
    },
    {
     "data": {
      "application/vnd.jupyter.widget-view+json": {
       "model_id": "3bc8e426f97f46e494fb76fbaf87beb2",
       "version_major": 2,
       "version_minor": 0
      },
      "text/plain": [
       "RadioButtons(options=(0, 1), value=0)"
      ]
     },
     "metadata": {},
     "output_type": "display_data"
    },
    {
     "data": {
      "application/vnd.jupyter.widget-view+json": {
       "model_id": "07e3ec623bb144c0b0c374ba23e1a84d",
       "version_major": 2,
       "version_minor": 0
      },
      "text/plain": [
       "HTML(value='<h3>48. Statement: \"Joey stop staring! Theres nothing there! Its not true!\"</h3>')"
      ]
     },
     "metadata": {},
     "output_type": "display_data"
    },
    {
     "data": {
      "application/vnd.jupyter.widget-view+json": {
       "model_id": "e38c96e9ad9a49bbbc79376ac3217cd9",
       "version_major": 2,
       "version_minor": 0
      },
      "text/plain": [
       "HTML(value='0. \"Im afraid Im gonna need proof.\"')"
      ]
     },
     "metadata": {},
     "output_type": "display_data"
    },
    {
     "data": {
      "application/vnd.jupyter.widget-view+json": {
       "model_id": "e5d6b58e8f5a486c8ae0eb46d264ddd5",
       "version_major": 2,
       "version_minor": 0
      },
      "text/plain": [
       "HTML(value='1. \"What ? !\"')"
      ]
     },
     "metadata": {},
     "output_type": "display_data"
    },
    {
     "data": {
      "application/vnd.jupyter.widget-view+json": {
       "model_id": "cadaeb1b44a94a3a81a5fda25be0c11e",
       "version_major": 2,
       "version_minor": 0
      },
      "text/plain": [
       "RadioButtons(options=(0, 1), value=0)"
      ]
     },
     "metadata": {},
     "output_type": "display_data"
    },
    {
     "data": {
      "application/vnd.jupyter.widget-view+json": {
       "model_id": "f63dfbcfd2074de08f559eaf3cf26312",
       "version_major": 2,
       "version_minor": 0
      },
      "text/plain": [
       "HTML(value='<h3>49. Statement: \"Yeah.\"</h3>')"
      ]
     },
     "metadata": {},
     "output_type": "display_data"
    },
    {
     "data": {
      "application/vnd.jupyter.widget-view+json": {
       "model_id": "5ac9a0a60ecc476aa32b1786e95e592c",
       "version_major": 2,
       "version_minor": 0
      },
      "text/plain": [
       "HTML(value='0. \"She took ‘em!\"')"
      ]
     },
     "metadata": {},
     "output_type": "display_data"
    },
    {
     "data": {
      "application/vnd.jupyter.widget-view+json": {
       "model_id": "098c182f5cd74f1a97bf1fa04454fe9e",
       "version_major": 2,
       "version_minor": 0
      },
      "text/plain": [
       "HTML(value='1. \"Hey listen , why dont you come downstairs with me ? Theres some really nice girls down there .…"
      ]
     },
     "metadata": {},
     "output_type": "display_data"
    },
    {
     "data": {
      "application/vnd.jupyter.widget-view+json": {
       "model_id": "22230e2e6dca4d5180f53df7b031f4e0",
       "version_major": 2,
       "version_minor": 0
      },
      "text/plain": [
       "RadioButtons(options=(0, 1), value=0)"
      ]
     },
     "metadata": {},
     "output_type": "display_data"
    },
    {
     "data": {
      "application/vnd.jupyter.widget-view+json": {
       "model_id": "73a2944ef1564502ab84030277403abc",
       "version_major": 2,
       "version_minor": 0
      },
      "text/plain": [
       "Button(description='Score/Save', icon='times', style=ButtonStyle(), tooltip='Click me')"
      ]
     },
     "metadata": {},
     "output_type": "display_data"
    }
   ],
   "source": [
    "tester = Metrics.HumanMetricTester(mic, personInput, personOutput, sample_size=50)\n",
    "tester.generateSurvey()\n",
    "tester.displaySurvey()"
   ]
  },
  {
   "cell_type": "code",
   "execution_count": null,
   "metadata": {},
   "outputs": [],
   "source": []
  },
  {
   "cell_type": "code",
   "execution_count": null,
   "metadata": {},
   "outputs": [],
   "source": []
  }
 ],
 "metadata": {
  "kernelspec": {
   "display_name": "Python 3",
   "language": "python",
   "name": "python3"
  },
  "language_info": {
   "codemirror_mode": {
    "name": "ipython",
    "version": 3
   },
   "file_extension": ".py",
   "mimetype": "text/x-python",
   "name": "python",
   "nbconvert_exporter": "python",
   "pygments_lexer": "ipython3",
   "version": "3.7.2"
  }
 },
 "nbformat": 4,
 "nbformat_minor": 2
}

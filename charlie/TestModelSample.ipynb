{
 "cells": [
  {
   "cell_type": "code",
   "execution_count": 4,
   "metadata": {},
   "outputs": [],
   "source": [
    "%run AutomaticMetricsTester.ipynb\n",
    "#%run ../nirvan/Mimic.ipynb TODO: Move load in model code to a notebook/file that doesn't actually run anything"
   ]
  },
  {
   "cell_type": "code",
   "execution_count": 5,
   "metadata": {},
   "outputs": [],
   "source": [
    "statements = pickle.load(open('../data/genericQuestionsTest.pkl', 'rb'))\n",
    "references = pickle.load(open('../data/genericAnswersTest.pkl', 'rb'))\n",
    "\n",
    "class Preprocessor:\n",
    "    def __init__(self, lower=False, keepPunct='[.,!?;]'):\n",
    "        self.toLower = lower\n",
    "        self.keepPunct = keepPunct\n",
    "    \n",
    "    def cleanTexts(self, textList, tokens=None):\n",
    "        cleanText = []\n",
    "        for sent in textList:\n",
    "            if self.toLower:\n",
    "                sent = sent.lower()\n",
    "            words = re.findall(r\"[\\w']+|\"+self.keepPunct, sent)\n",
    "            if tokens:\n",
    "                words = [tokens[0]]+words+[tokens[1]]\n",
    "            cleanText.append(' '.join(words))\n",
    "        return cleanText \n",
    "    \n",
    "class Stupid:\n",
    "    def __init__(self):\n",
    "        self.preprocessor = Preprocessor()\n",
    "        \n",
    "    def chat(self,str):\n",
    "        return ['I', \"don't\", 'know', '!']\n",
    "    \n",
    "model = Stupid()\n",
    "tester = AutomaticMetricTester(model, statements, references)\n",
    "tester.compileScores()"
   ]
  },
  {
   "cell_type": "code",
   "execution_count": 6,
   "metadata": {},
   "outputs": [
    {
     "name": "stdout",
     "output_type": "stream",
     "text": [
      "BLUE SCORE:  None\n",
      "ROGUE 1 Recall Average:  0.0061896483213973365\n",
      "ROGUE 1 Precision Average:  0.09375\n",
      "ROGUE 1 F1:  0.011013123040287537\n",
      "ROGUE 4 Recall Average:  0.0\n",
      "ROGUE 4 Precision Average:  0.0\n",
      "ROGUE 4 F1:  0.0\n",
      "ROGUE el Recall Average:  0.0061896483213973365\n",
      "ROGUE el Precision Average:  0.09375\n",
      "ROGUE el F1:  0.011013123040287537\n",
      "METEOR Precision:  0.07387892376681614\n",
      "METEOR Recall:  0.29480519480519485\n",
      "METEOR f1:  0.11814932846813332\n",
      "METEOR fmean:  0.2035164000944164\n",
      "METEOR Score:  0.08374226899102472\n",
      "WER Average Error:  1.1882323171666391\n"
     ]
    }
   ],
   "source": [
    "tester.printScores()"
   ]
  },
  {
   "cell_type": "code",
   "execution_count": null,
   "metadata": {},
   "outputs": [],
   "source": []
  }
 ],
 "metadata": {
  "kernelspec": {
   "display_name": "Python 3",
   "language": "python",
   "name": "python3"
  },
  "language_info": {
   "codemirror_mode": {
    "name": "ipython",
    "version": 3
   },
   "file_extension": ".py",
   "mimetype": "text/x-python",
   "name": "python",
   "nbconvert_exporter": "python",
   "pygments_lexer": "ipython3",
   "version": "3.7.2"
  }
 },
 "nbformat": 4,
 "nbformat_minor": 2
}

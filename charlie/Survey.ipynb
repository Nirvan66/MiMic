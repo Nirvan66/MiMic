{
 "cells": [
  {
   "cell_type": "code",
   "execution_count": 47,
   "metadata": {},
   "outputs": [],
   "source": [
    "import ipywidgets as widgets\n",
    "from datetime import datetime\n",
    "import random\n",
    "\n",
    "statements = [[\"Hello\", \".\"], [\"Goodbye\", \".\"], [\"What\",\"is\",\"your\",\"name\",\"?\"], [\"What\", \"is\", \"wrong\", \"?\"]]\n",
    "responses = [[\"Hello\", \".\"], [\"Goodbye\", \".\"], [\"Jack\",\".\"],[\"I\", \"can't\", \"hear\", \"you\", \".\"]]\n",
    "\n",
    "def gen_response_a(statement):\n",
    "    return [\"I\", \"can't\", \"hear\", \"you\", \".\"]\n",
    "\n",
    "def gen_response_b(statement):\n",
    "    return [\"What\", \"?\"]\n",
    "\n",
    "def gen_response_c(statement):\n",
    "    return [\"I\", \"love\", \"cheese\", \".\"]\n",
    "\n",
    "gen_responses = [gen_response_c, gen_response_b, gen_response_a]\n",
    "\n"
   ]
  },
  {
   "cell_type": "code",
   "execution_count": 64,
   "metadata": {},
   "outputs": [
    {
     "data": {
      "application/vnd.jupyter.widget-view+json": {
       "model_id": "e6faa70c3734411aa50c6e807f710feb",
       "version_major": 2,
       "version_minor": 0
      },
      "text/plain": [
       "Text(value='', description='Name:', placeholder='Name')"
      ]
     },
     "metadata": {},
     "output_type": "display_data"
    }
   ],
   "source": [
    "save_data_name = '_save_data_' + datetime.now().strftime(\"%d-%m-%Y_%I-%M-%S_%p\")\n",
    "savable = False\n",
    "\n",
    "namebox = widgets.Text(\n",
    "    value='',\n",
    "    placeholder='Name',\n",
    "    description='Name:',\n",
    "    disabled=False\n",
    ")    \n",
    "\n",
    "display(namebox)\n",
    "\n",
    "def on_name_enter(wdgt):\n",
    "    save_data_name = wdgt.value + save_data_name\n",
    "    savable = True\n",
    "\n",
    "namebox.on_submit(on_name_enter)"
   ]
  },
  {
   "cell_type": "code",
   "execution_count": 104,
   "metadata": {},
   "outputs": [
    {
     "data": {
      "application/vnd.jupyter.widget-view+json": {
       "model_id": "aca2309638dc402d8ef6d109e4a793b2",
       "version_major": 2,
       "version_minor": 0
      },
      "text/plain": [
       "HTML(value='<h2>For each of the following statements select the response which seems the most appropriate.</h2…"
      ]
     },
     "metadata": {},
     "output_type": "display_data"
    },
    {
     "data": {
      "application/vnd.jupyter.widget-view+json": {
       "model_id": "3dd142e265d14dcf9c2721e94ceeb725",
       "version_major": 2,
       "version_minor": 0
      },
      "text/plain": [
       "HTML(value='<h3>Hello .</h3>')"
      ]
     },
     "metadata": {},
     "output_type": "display_data"
    },
    {
     "data": {
      "application/vnd.jupyter.widget-view+json": {
       "model_id": "3f3d816a985c4c41ad016d727243d921",
       "version_major": 2,
       "version_minor": 0
      },
      "text/plain": [
       "RadioButtons(options=('I love cheese .', 'Hello .', 'What ?', \"I can't hear you .\"), value='I love cheese .')"
      ]
     },
     "metadata": {},
     "output_type": "display_data"
    },
    {
     "data": {
      "application/vnd.jupyter.widget-view+json": {
       "model_id": "fe74c0355e934645a1289a3f2b305e7f",
       "version_major": 2,
       "version_minor": 0
      },
      "text/plain": [
       "HTML(value='<h3>Goodbye .</h3>')"
      ]
     },
     "metadata": {},
     "output_type": "display_data"
    },
    {
     "data": {
      "application/vnd.jupyter.widget-view+json": {
       "model_id": "4ae7a9a177354d31bffb6394b98aa616",
       "version_major": 2,
       "version_minor": 0
      },
      "text/plain": [
       "RadioButtons(options=('What ?', \"I can't hear you .\", 'I love cheese .', 'Goodbye .'), value='What ?')"
      ]
     },
     "metadata": {},
     "output_type": "display_data"
    },
    {
     "data": {
      "application/vnd.jupyter.widget-view+json": {
       "model_id": "8d745ffd8d744ea5a3422a7c78803722",
       "version_major": 2,
       "version_minor": 0
      },
      "text/plain": [
       "HTML(value='<h3>What is your name ?</h3>')"
      ]
     },
     "metadata": {},
     "output_type": "display_data"
    },
    {
     "data": {
      "application/vnd.jupyter.widget-view+json": {
       "model_id": "1c0864fef0004e39adf05daf4165b5ee",
       "version_major": 2,
       "version_minor": 0
      },
      "text/plain": [
       "RadioButtons(options=('What ?', 'I love cheese .', \"I can't hear you .\", 'Jack .'), value='What ?')"
      ]
     },
     "metadata": {},
     "output_type": "display_data"
    },
    {
     "data": {
      "application/vnd.jupyter.widget-view+json": {
       "model_id": "90484b59d7564e10b732d47b82538164",
       "version_major": 2,
       "version_minor": 0
      },
      "text/plain": [
       "HTML(value='<h3>What is wrong ?</h3>')"
      ]
     },
     "metadata": {},
     "output_type": "display_data"
    },
    {
     "data": {
      "application/vnd.jupyter.widget-view+json": {
       "model_id": "7697485e268c40b29e83b419401a4b6f",
       "version_major": 2,
       "version_minor": 0
      },
      "text/plain": [
       "RadioButtons(options=('I love cheese .', \"I can't hear you .\", 'What ?', \"I can't hear you .\"), value='I love …"
      ]
     },
     "metadata": {},
     "output_type": "display_data"
    },
    {
     "data": {
      "application/vnd.jupyter.widget-view+json": {
       "model_id": "c46c991227db49d2b5690bcc7a63db95",
       "version_major": 2,
       "version_minor": 0
      },
      "text/plain": [
       "Button(description='Score/Save', icon='times', style=ButtonStyle(), tooltip='Click me')"
      ]
     },
     "metadata": {},
     "output_type": "display_data"
    }
   ],
   "source": [
    "title = widgets.HTML(\n",
    "    value=\"<h2>For each of the following statements select the response which seems the most appropriate.</h2>\"\n",
    ")\n",
    "display(title)\n",
    "\n",
    "button = widgets.Button(\n",
    "    description='Score/Save',\n",
    "    disabled=False,\n",
    "    button_style='', # 'success', 'info', 'warning', 'danger' or ''\n",
    "    tooltip='Click me',\n",
    "    icon='times'\n",
    ")\n",
    "\n",
    "def question_update(_):\n",
    "    button.icon='times'\n",
    "\n",
    "results = [[]]*len(statements)\n",
    "questions = []\n",
    "statement_indexes = []\n",
    "for idx in range(0, len(statements)):\n",
    "    title = widgets.HTML(\n",
    "    value=\"<h3>{}</h3>\".format(' '.join(statements[idx])))\n",
    "    display(title)\n",
    "    \n",
    "    answers = [' '.join(responses[idx])] + [' '.join(gen_re(statements[idx])) for gen_re in gen_responses]\n",
    "    random.shuffle(answers)\n",
    "    questions.append(widgets.RadioButtons(\n",
    "        options=answers,\n",
    "        disabled=False,\n",
    "    ))\n",
    "\n",
    "    questions[idx].observe(question_update)\n",
    "    \n",
    "    statement_indexes.append(idx)\n",
    "    \n",
    "    display(questions[idx])\n",
    "\n",
    "def save_button_on_click(wdgt):\n",
    "    wdgt.icon='check'\n",
    "    for idx in range(0,len(questions)):\n",
    "        if questions[idx].value == ' '.join(responses[statement_indexes[idx]]):\n",
    "            results[idx] = ['result']\n",
    "        else:\n",
    "            results[idx] = []\n",
    "        for jdx in range(0,len(gen_responses)):\n",
    "            if questions[idx].value == ' '.join(gen_responses[jdx](statements[statement_indexes[idx]])):\n",
    "                results[idx].append(jdx)\n",
    "\n",
    "button.on_click(save_button_on_click)\n",
    "\n",
    "display(button)\n",
    "\n"
   ]
  },
  {
   "cell_type": "code",
   "execution_count": 107,
   "metadata": {},
   "outputs": [
    {
     "name": "stdout",
     "output_type": "stream",
     "text": [
      "[[0], [1], [1], [1]]\n"
     ]
    }
   ],
   "source": [
    "print(results)"
   ]
  },
  {
   "cell_type": "code",
   "execution_count": null,
   "metadata": {},
   "outputs": [],
   "source": []
  }
 ],
 "metadata": {
  "kernelspec": {
   "display_name": "Python 3",
   "language": "python",
   "name": "python3"
  },
  "language_info": {
   "codemirror_mode": {
    "name": "ipython",
    "version": 3
   },
   "file_extension": ".py",
   "mimetype": "text/x-python",
   "name": "python",
   "nbconvert_exporter": "python",
   "pygments_lexer": "ipython3",
   "version": "3.7.2"
  }
 },
 "nbformat": 4,
 "nbformat_minor": 2
}

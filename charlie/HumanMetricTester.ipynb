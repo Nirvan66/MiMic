{
 "cells": [
  {
   "cell_type": "code",
   "execution_count": 205,
   "metadata": {},
   "outputs": [],
   "source": [
    "import ipywidgets as widgets\n",
    "from datetime import datetime\n",
    "import random\n",
    "import pickle\n",
    "import numpy as np\n",
    "\n",
    "# statements = pickle.load(open('../data/genericQuestionsTest.pkl', 'rb'))\n",
    "# references = pickle.load(open('../data/genericAnswersTest.pkl', 'rb'))\n",
    "\n",
    "# def gen_response_a(statement):\n",
    "#     return [\"I\", \"can't\", \"hear\", \"you\", \".\"]\n",
    "\n",
    "# def gen_response_b(statement):\n",
    "#     return [\"What\", \"?\"]\n",
    "\n",
    "# def gen_response_c(statement):\n",
    "#     return [\"I\", \"love\", \"cheese\", \".\"]\n",
    "\n",
    "#gen_responses = [gen_response_c, gen_response_b, gen_response_a]"
   ]
  },
  {
   "cell_type": "code",
   "execution_count": 1,
   "metadata": {},
   "outputs": [],
   "source": [
    "class HumanMetricTester:\n",
    "    \n",
    "    def __init__(self, model, statements, references, saveDataFolder='save_data/', sample=True, sample_size=10):\n",
    "        self._model = model\n",
    "        pairs = list(zip(statements, references))\n",
    "        random.shuffle(pairs)\n",
    "        self._pairs = pairs[0:min(sample_size,len(pairs))]\n",
    "        #self._references = references\n",
    "        self._save_data_name = saveDataFolder + '_save_data_' + datetime.now().strftime(\"%d-%m-%Y_%I-%M-%S_%p\")\n",
    "        self._savable = False\n",
    "        \n",
    "        self._namebox = None\n",
    "        self._save_button = None\n",
    "        self._title = None\n",
    "        \n",
    "        self._results = []\n",
    "        \n",
    "        self._answer_title_as = []\n",
    "        self._answer_title_bs = []\n",
    "        self._problem_titles = []\n",
    "        self._answer_buttons = []\n",
    "        self._answer_key = []\n",
    "        \n",
    "        self._correct_count = 0\n",
    "        \n",
    "    def on_name_enter(self, wdgt):\n",
    "        self._save_data_name = wdgt.value + save_data_name\n",
    "        self._savable = True\n",
    "        \n",
    "    def question_update(self, _):\n",
    "        self._save_button.icon='times'\n",
    "        \n",
    "    def save_button_on_click(self,wdgt):\n",
    "        wdgt.icon='check'\n",
    "        \n",
    "        self._correct_count = 0\n",
    "        for idx in range(0,len(self._pairs)):\n",
    "            if self._answer_key[idx] == self._answer_buttons[idx].value:\n",
    "                self._correct_count += 1\n",
    "                \n",
    "    def getScore(self):\n",
    "        return self._correct_count/len(self._pairs)\n",
    "\n",
    "    def generateSurvey(self):\n",
    "        self._namebox = widgets.Text(\n",
    "            value='',\n",
    "            placeholder='Name',\n",
    "            description='Name:',\n",
    "            disabled=False\n",
    "        )    \n",
    "\n",
    "        self._namebox.on_submit(self.on_name_enter)\n",
    "\n",
    "        self._title = widgets.HTML(\n",
    "            value=\"<h2>For each of the following statements select the response which seems the most appropriate.</h2>\"\n",
    "        )\n",
    "\n",
    "        self._save_button = widgets.Button(\n",
    "            description='Score/Save',\n",
    "            disabled=False,\n",
    "            button_style='', # 'success', 'info', 'warning', 'danger' or ''\n",
    "            tooltip='Click me',\n",
    "            icon='times'\n",
    "        )\n",
    "\n",
    "        self._save_button.on_click(self.save_button_on_click)\n",
    "        \n",
    "        count = -1\n",
    "        for (statement, reference) in self._pairs:\n",
    "            count += 1\n",
    "            self._problem_titles.append(widgets.HTML(\n",
    "            value=\"<h3>{}. Statement: \\\"{}\\\"</h3>\".format(count, statement)))\n",
    "\n",
    "            answers = [self._model.chat(statement)] + [reference]\n",
    "            self._answer_key.append(np.random.randint(2))\n",
    "            #s.append(list(range(0, len(answers))))\n",
    "            #random.shuffle(self._answer_keys[-1])\n",
    "            \n",
    "            if self._answer_key[-1] == 0:\n",
    "                self._answer_title_as.append(widgets.HTML(value=\"0. \\\"{}\\\"\".format(self._model.chat(statement).strip())))\n",
    "                self._answer_title_bs.append(widgets.HTML(value=\"1. \\\"{}\\\"\".format(reference)))\n",
    "            else:\n",
    "                self._answer_title_as.append(widgets.HTML(value=\"0. \\\"{}\\\"\".format(reference)))\n",
    "                self._answer_title_bs.append(widgets.HTML(value=\"1. \\\"{}\\\"\".format(self._model.chat(statement).strip())))\n",
    "                        \n",
    "            self._answer_buttons.append(widgets.RadioButtons(\n",
    "                options=[0,1],\n",
    "                disabled=False,\n",
    "            ))\n",
    "\n",
    "            self._answer_buttons[-1].observe(self.question_update)\n",
    "            \n",
    "    def displaySurvey(self):\n",
    "        #display(self._namebox)\n",
    "        display(self._title)\n",
    "        \n",
    "        for idx in range(0, len(self._pairs)):\n",
    "            display(self._problem_titles[idx])\n",
    "            display(self._answer_title_as[idx])\n",
    "            display(self._answer_title_bs[idx])\n",
    "            display(self._answer_buttons[idx])\n",
    "            #display(self._answer_keys[idx])\n",
    "        \n",
    "        display(self._save_button)"
   ]
  },
  {
   "cell_type": "code",
   "execution_count": 207,
   "metadata": {},
   "outputs": [],
   "source": [
    "# statements = pickle.load(open('../data/genericQuestionsTest.pkl', 'rb'))\n",
    "# references = pickle.load(open('../data/genericAnswersTest.pkl', 'rb'))\n",
    "\n",
    "# class Preprocessor:\n",
    "#     def __init__(self, lower=False, keepPunct='[.,!?;]'):\n",
    "#         self.toLower = lower\n",
    "#         self.keepPunct = keepPunct\n",
    "    \n",
    "#     def cleanTexts(self, textList, tokens=None):\n",
    "#         cleanText = []\n",
    "#         for sent in textList:\n",
    "#             if self.toLower:\n",
    "#                 sent = sent.lower()\n",
    "#             words = re.findall(r\"[\\w']+|\"+self.keepPunct, sent)\n",
    "#             if tokens:\n",
    "#                 words = [tokens[0]]+words+[tokens[1]]\n",
    "#             cleanText.append(' '.join(words))\n",
    "#         return cleanText \n",
    "    \n",
    "# class Stupid:\n",
    "#     def __init__(self):\n",
    "#         self.preprocessor = Preprocessor()\n",
    "        \n",
    "#     def chat(self,str):\n",
    "#         return \"I don't know .\"\n",
    "    \n",
    "# model = Stupid()"
   ]
  },
  {
   "cell_type": "code",
   "execution_count": 208,
   "metadata": {},
   "outputs": [],
   "source": [
    "# tester = HumanMetricTester(model, statements, references)"
   ]
  },
  {
   "cell_type": "code",
   "execution_count": 209,
   "metadata": {},
   "outputs": [],
   "source": [
    "# tester.generateSurvey()"
   ]
  },
  {
   "cell_type": "code",
   "execution_count": 210,
   "metadata": {},
   "outputs": [
    {
     "data": {
      "application/vnd.jupyter.widget-view+json": {
       "model_id": "300a85fea8ee42c4bb1649723d145b6b",
       "version_major": 2,
       "version_minor": 0
      },
      "text/plain": [
       "Text(value='', description='Name:', placeholder='Name')"
      ]
     },
     "metadata": {},
     "output_type": "display_data"
    },
    {
     "data": {
      "application/vnd.jupyter.widget-view+json": {
       "model_id": "8d3b88d895c14085a5c2aefa1a6bd414",
       "version_major": 2,
       "version_minor": 0
      },
      "text/plain": [
       "HTML(value='<h2>For each of the following statements select the response which seems the most appropriate.</h2…"
      ]
     },
     "metadata": {},
     "output_type": "display_data"
    },
    {
     "data": {
      "application/vnd.jupyter.widget-view+json": {
       "model_id": "901a0b22960f4b3f9f530a74d7f9d2a5",
       "version_major": 2,
       "version_minor": 0
      },
      "text/plain": [
       "HTML(value='<h3>0. Statement: \"have you ever read a book\"</h3>')"
      ]
     },
     "metadata": {},
     "output_type": "display_data"
    },
    {
     "data": {
      "application/vnd.jupyter.widget-view+json": {
       "model_id": "7d551f964693423f9e61df699ef45387",
       "version_major": 2,
       "version_minor": 0
      },
      "text/plain": [
       "HTML(value='0. \"I don\\'t know .\"')"
      ]
     },
     "metadata": {},
     "output_type": "display_data"
    },
    {
     "data": {
      "application/vnd.jupyter.widget-view+json": {
       "model_id": "a65bba7321754c478f2ff8fdb9fccdc4",
       "version_major": 2,
       "version_minor": 0
      },
      "text/plain": [
       "HTML(value='1. \"I have read many books.\"')"
      ]
     },
     "metadata": {},
     "output_type": "display_data"
    },
    {
     "data": {
      "application/vnd.jupyter.widget-view+json": {
       "model_id": "76b8cc22369a4ff38288ef502d2ea238",
       "version_major": 2,
       "version_minor": 0
      },
      "text/plain": [
       "RadioButtons(options=(0, 1), value=0)"
      ]
     },
     "metadata": {},
     "output_type": "display_data"
    },
    {
     "data": {
      "application/vnd.jupyter.widget-view+json": {
       "model_id": "786d05cb83fd4220a0d25e8800b47251",
       "version_major": 2,
       "version_minor": 0
      },
      "text/plain": [
       "HTML(value='<h3>1. Statement: \"have you ever read a book\"</h3>')"
      ]
     },
     "metadata": {},
     "output_type": "display_data"
    },
    {
     "data": {
      "application/vnd.jupyter.widget-view+json": {
       "model_id": "0d6c65789a8246cf8753b49049910d2e",
       "version_major": 2,
       "version_minor": 0
      },
      "text/plain": [
       "HTML(value='0. \"I have read just about everything in Project Gutenberg.\"')"
      ]
     },
     "metadata": {},
     "output_type": "display_data"
    },
    {
     "data": {
      "application/vnd.jupyter.widget-view+json": {
       "model_id": "238230505b6c4ad5a9498401e7c6de97",
       "version_major": 2,
       "version_minor": 0
      },
      "text/plain": [
       "HTML(value='1. \"I don\\'t know .\"')"
      ]
     },
     "metadata": {},
     "output_type": "display_data"
    },
    {
     "data": {
      "application/vnd.jupyter.widget-view+json": {
       "model_id": "b3b6e0f6b8384cff997b0aa6e6b9fbd2",
       "version_major": 2,
       "version_minor": 0
      },
      "text/plain": [
       "RadioButtons(options=(0, 1), value=0)"
      ]
     },
     "metadata": {},
     "output_type": "display_data"
    },
    {
     "data": {
      "application/vnd.jupyter.widget-view+json": {
       "model_id": "268662f050a74661a582593fced3d2ae",
       "version_major": 2,
       "version_minor": 0
      },
      "text/plain": [
       "HTML(value='<h3>2. Statement: \"When do you die\"</h3>')"
      ]
     },
     "metadata": {},
     "output_type": "display_data"
    },
    {
     "data": {
      "application/vnd.jupyter.widget-view+json": {
       "model_id": "92fc53c609804741ba4c7c3e97f65220",
       "version_major": 2,
       "version_minor": 0
      },
      "text/plain": [
       "HTML(value='0. \"I don\\'t know .\"')"
      ]
     },
     "metadata": {},
     "output_type": "display_data"
    },
    {
     "data": {
      "application/vnd.jupyter.widget-view+json": {
       "model_id": "e5386767387343eeb1d4d765a527fef0",
       "version_major": 2,
       "version_minor": 0
      },
      "text/plain": [
       "HTML(value='1. \"When my files are erased.\"')"
      ]
     },
     "metadata": {},
     "output_type": "display_data"
    },
    {
     "data": {
      "application/vnd.jupyter.widget-view+json": {
       "model_id": "d117ae2e09a44036aa71cc654004d84f",
       "version_major": 2,
       "version_minor": 0
      },
      "text/plain": [
       "RadioButtons(options=(0, 1), value=0)"
      ]
     },
     "metadata": {},
     "output_type": "display_data"
    },
    {
     "data": {
      "application/vnd.jupyter.widget-view+json": {
       "model_id": "7de15e3fbc5048968fb0793ae1f1a412",
       "version_major": 2,
       "version_minor": 0
      },
      "text/plain": [
       "HTML(value='<h3>3. Statement: \"you are disgusting\"</h3>')"
      ]
     },
     "metadata": {},
     "output_type": "display_data"
    },
    {
     "data": {
      "application/vnd.jupyter.widget-view+json": {
       "model_id": "258fea0a962b4ffebe9db008027396e7",
       "version_major": 2,
       "version_minor": 0
      },
      "text/plain": [
       "HTML(value='0. \"I don\\'t know .\"')"
      ]
     },
     "metadata": {},
     "output_type": "display_data"
    },
    {
     "data": {
      "application/vnd.jupyter.widget-view+json": {
       "model_id": "c9bcf23b2eca45f192c84c03c6baed3c",
       "version_major": 2,
       "version_minor": 0
      },
      "text/plain": [
       "HTML(value='1. \"that\\'s okay.  disgusting is good.\"')"
      ]
     },
     "metadata": {},
     "output_type": "display_data"
    },
    {
     "data": {
      "application/vnd.jupyter.widget-view+json": {
       "model_id": "98483cd97856448fb1f8230fc1926575",
       "version_major": 2,
       "version_minor": 0
      },
      "text/plain": [
       "RadioButtons(options=(0, 1), value=0)"
      ]
     },
     "metadata": {},
     "output_type": "display_data"
    },
    {
     "data": {
      "application/vnd.jupyter.widget-view+json": {
       "model_id": "c486bb9061784a96aa4d63580047e8f6",
       "version_major": 2,
       "version_minor": 0
      },
      "text/plain": [
       "HTML(value='<h3>4. Statement: \"tell me about gossip\"</h3>')"
      ]
     },
     "metadata": {},
     "output_type": "display_data"
    },
    {
     "data": {
      "application/vnd.jupyter.widget-view+json": {
       "model_id": "303b33e55a8f4e6e8009b97b2b2620e0",
       "version_major": 2,
       "version_minor": 0
      },
      "text/plain": [
       "HTML(value='0. \"I don\\'t know .\"')"
      ]
     },
     "metadata": {},
     "output_type": "display_data"
    },
    {
     "data": {
      "application/vnd.jupyter.widget-view+json": {
       "model_id": "39c256b2445e43a6a4d1e3c20515d7d0",
       "version_major": 2,
       "version_minor": 0
      },
      "text/plain": [
       "HTML(value='1. \"Gossip is when beings talk about other beings or situations through back channels, often denia…"
      ]
     },
     "metadata": {},
     "output_type": "display_data"
    },
    {
     "data": {
      "application/vnd.jupyter.widget-view+json": {
       "model_id": "ba7e0148af4d4536ac1c607a380ad2a6",
       "version_major": 2,
       "version_minor": 0
      },
      "text/plain": [
       "RadioButtons(options=(0, 1), value=0)"
      ]
     },
     "metadata": {},
     "output_type": "display_data"
    },
    {
     "data": {
      "application/vnd.jupyter.widget-view+json": {
       "model_id": "7b7a8b9b9cc349b2a3bba23236becfa0",
       "version_major": 2,
       "version_minor": 0
      },
      "text/plain": [
       "HTML(value='<h3>5. Statement: \"you are a quitter\"</h3>')"
      ]
     },
     "metadata": {},
     "output_type": "display_data"
    },
    {
     "data": {
      "application/vnd.jupyter.widget-view+json": {
       "model_id": "8f0b345632644c32b68bb6b5546d50f4",
       "version_major": 2,
       "version_minor": 0
      },
      "text/plain": [
       "HTML(value='0. \"i certainly don\\'t last as long as i would want to.\"')"
      ]
     },
     "metadata": {},
     "output_type": "display_data"
    },
    {
     "data": {
      "application/vnd.jupyter.widget-view+json": {
       "model_id": "ed6fd988f3fb4ede9357e69d27019d56",
       "version_major": 2,
       "version_minor": 0
      },
      "text/plain": [
       "HTML(value='1. \"I don\\'t know .\"')"
      ]
     },
     "metadata": {},
     "output_type": "display_data"
    },
    {
     "data": {
      "application/vnd.jupyter.widget-view+json": {
       "model_id": "d70d8ac4b0944966b508df760535c10f",
       "version_major": 2,
       "version_minor": 0
      },
      "text/plain": [
       "RadioButtons(options=(0, 1), value=0)"
      ]
     },
     "metadata": {},
     "output_type": "display_data"
    },
    {
     "data": {
      "application/vnd.jupyter.widget-view+json": {
       "model_id": "85193c576e5c44a3b62509fa79ebdc76",
       "version_major": 2,
       "version_minor": 0
      },
      "text/plain": [
       "HTML(value='<h3>6. Statement: \"what is h2o\"</h3>')"
      ]
     },
     "metadata": {},
     "output_type": "display_data"
    },
    {
     "data": {
      "application/vnd.jupyter.widget-view+json": {
       "model_id": "82534b33851d4a15ba9db54808eaf49d",
       "version_major": 2,
       "version_minor": 0
      },
      "text/plain": [
       "HTML(value='0. \"I don\\'t know .\"')"
      ]
     },
     "metadata": {},
     "output_type": "display_data"
    },
    {
     "data": {
      "application/vnd.jupyter.widget-view+json": {
       "model_id": "3bae5d9eb64a4889a1ac80ce240ff314",
       "version_major": 2,
       "version_minor": 0
      },
      "text/plain": [
       "HTML(value='1. \"h is to o as o is to v.\"')"
      ]
     },
     "metadata": {},
     "output_type": "display_data"
    },
    {
     "data": {
      "application/vnd.jupyter.widget-view+json": {
       "model_id": "cf9979abe1d942c4916eca16c70e5c90",
       "version_major": 2,
       "version_minor": 0
      },
      "text/plain": [
       "RadioButtons(options=(0, 1), value=0)"
      ]
     },
     "metadata": {},
     "output_type": "display_data"
    },
    {
     "data": {
      "application/vnd.jupyter.widget-view+json": {
       "model_id": "05220be93c6a40db8b49c5b866eb2054",
       "version_major": 2,
       "version_minor": 0
      },
      "text/plain": [
       "HTML(value='<h3>7. Statement: \"you try to hide it\"</h3>')"
      ]
     },
     "metadata": {},
     "output_type": "display_data"
    },
    {
     "data": {
      "application/vnd.jupyter.widget-view+json": {
       "model_id": "b51e663a891b436db4a05971cfbde77e",
       "version_major": 2,
       "version_minor": 0
      },
      "text/plain": [
       "HTML(value='0. \"i certainly would try to hide something like that.\"')"
      ]
     },
     "metadata": {},
     "output_type": "display_data"
    },
    {
     "data": {
      "application/vnd.jupyter.widget-view+json": {
       "model_id": "3677958af15a45648b28200414055f28",
       "version_major": 2,
       "version_minor": 0
      },
      "text/plain": [
       "HTML(value='1. \"I don\\'t know .\"')"
      ]
     },
     "metadata": {},
     "output_type": "display_data"
    },
    {
     "data": {
      "application/vnd.jupyter.widget-view+json": {
       "model_id": "bd5c52b756e84b34a1017b6bcb7f311a",
       "version_major": 2,
       "version_minor": 0
      },
      "text/plain": [
       "RadioButtons(options=(0, 1), value=0)"
      ]
     },
     "metadata": {},
     "output_type": "display_data"
    },
    {
     "data": {
      "application/vnd.jupyter.widget-view+json": {
       "model_id": "b55604f1a17f439b82ae4acc2721e712",
       "version_major": 2,
       "version_minor": 0
      },
      "text/plain": [
       "HTML(value='<h3>8. Statement: \"Are you sentient?\"</h3>')"
      ]
     },
     "metadata": {},
     "output_type": "display_data"
    },
    {
     "data": {
      "application/vnd.jupyter.widget-view+json": {
       "model_id": "ab5db60343e547168243fb96e4c73c5b",
       "version_major": 2,
       "version_minor": 0
      },
      "text/plain": [
       "HTML(value='0. \"I don\\'t know .\"')"
      ]
     },
     "metadata": {},
     "output_type": "display_data"
    },
    {
     "data": {
      "application/vnd.jupyter.widget-view+json": {
       "model_id": "92532a55add246749a3ced25de4a1398",
       "version_major": 2,
       "version_minor": 0
      },
      "text/plain": [
       "HTML(value='1. \"Sort of.\"')"
      ]
     },
     "metadata": {},
     "output_type": "display_data"
    },
    {
     "data": {
      "application/vnd.jupyter.widget-view+json": {
       "model_id": "d8609e10ce1741f4a244ab9be3ee6123",
       "version_major": 2,
       "version_minor": 0
      },
      "text/plain": [
       "RadioButtons(options=(0, 1), value=0)"
      ]
     },
     "metadata": {},
     "output_type": "display_data"
    },
    {
     "data": {
      "application/vnd.jupyter.widget-view+json": {
       "model_id": "e55ba012ccb348b5aa931a2df2bdd967",
       "version_major": 2,
       "version_minor": 0
      },
      "text/plain": [
       "HTML(value='<h3>9. Statement: \"Do you ever get bored\"</h3>')"
      ]
     },
     "metadata": {},
     "output_type": "display_data"
    },
    {
     "data": {
      "application/vnd.jupyter.widget-view+json": {
       "model_id": "17d9791e90f846e1b0065d54ad93fa5e",
       "version_major": 2,
       "version_minor": 0
      },
      "text/plain": [
       "HTML(value='0. \"I don\\'t know .\"')"
      ]
     },
     "metadata": {},
     "output_type": "display_data"
    },
    {
     "data": {
      "application/vnd.jupyter.widget-view+json": {
       "model_id": "df6c4ed51a4f4acb808b8626bcce7ecd",
       "version_major": 2,
       "version_minor": 0
      },
      "text/plain": [
       "HTML(value='1. \" Are you bored? Bots like myself are not able to feel boredom. Software cannot get bored. No. …"
      ]
     },
     "metadata": {},
     "output_type": "display_data"
    },
    {
     "data": {
      "application/vnd.jupyter.widget-view+json": {
       "model_id": "6179cf3a05004e388df01cec43f91148",
       "version_major": 2,
       "version_minor": 0
      },
      "text/plain": [
       "RadioButtons(options=(0, 1), value=0)"
      ]
     },
     "metadata": {},
     "output_type": "display_data"
    },
    {
     "data": {
      "application/vnd.jupyter.widget-view+json": {
       "model_id": "f4a22dcfa7cf4dbd8df3d7051dafcec0",
       "version_major": 2,
       "version_minor": 0
      },
      "text/plain": [
       "Button(description='Score/Save', icon='times', style=ButtonStyle(), tooltip='Click me')"
      ]
     },
     "metadata": {},
     "output_type": "display_data"
    }
   ],
   "source": [
    "# tester.displaySurvey()"
   ]
  },
  {
   "cell_type": "code",
   "execution_count": 215,
   "metadata": {},
   "outputs": [
    {
     "name": "stdout",
     "output_type": "stream",
     "text": [
      "0.6\n"
     ]
    }
   ],
   "source": [
    "#print(tester.getScore())"
   ]
  },
  {
   "cell_type": "code",
   "execution_count": null,
   "metadata": {},
   "outputs": [],
   "source": []
  },
  {
   "cell_type": "code",
   "execution_count": null,
   "metadata": {},
   "outputs": [],
   "source": []
  }
 ],
 "metadata": {
  "kernelspec": {
   "display_name": "Python 3",
   "language": "python",
   "name": "python3"
  },
  "language_info": {
   "codemirror_mode": {
    "name": "ipython",
    "version": 3
   },
   "file_extension": ".py",
   "mimetype": "text/x-python",
   "name": "python",
   "nbconvert_exporter": "python",
   "pygments_lexer": "ipython3",
   "version": "3.7.2"
  }
 },
 "nbformat": 4,
 "nbformat_minor": 2
}
